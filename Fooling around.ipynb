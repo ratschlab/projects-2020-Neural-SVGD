{
 "cells": [
  {
   "cell_type": "code",
   "execution_count": 1,
   "metadata": {},
   "outputs": [],
   "source": [
    "import jax.numpy as np\n",
    "from jax import grad, jit, vmap\n",
    "from jax import random"
   ]
  },
  {
   "cell_type": "code",
   "execution_count": 2,
   "metadata": {},
   "outputs": [
    {
     "name": "stderr",
     "output_type": "stream",
     "text": [
      "/home/lauro/.virtualenvs/msc-thesis/lib/python3.6/site-packages/jax/lib/xla_bridge.py:122: UserWarning: No GPU/TPU found, falling back to CPU.\n",
      "  warnings.warn('No GPU/TPU found, falling back to CPU.')\n"
     ]
    },
    {
     "name": "stdout",
     "output_type": "stream",
     "text": [
      "[-0.372111    0.2642311  -0.18252774 -0.7368198  -0.44030386 -0.15214427\n",
      " -0.6713536  -0.59086424  0.73168874  0.56730247]\n"
     ]
    }
   ],
   "source": [
    "key = random.PRNGKey(0)\n",
    "x = random.normal(key, (10,))\n",
    "print(x)"
   ]
  },
  {
   "cell_type": "code",
   "execution_count": 3,
   "metadata": {},
   "outputs": [
    {
     "name": "stdout",
     "output_type": "stream",
     "text": [
      "332 ms ± 63.7 ms per loop (mean ± std. dev. of 7 runs, 1 loop each)\n"
     ]
    }
   ],
   "source": [
    "# multiply matrices\n",
    "size = 3000\n",
    "x = random.normal(key, (size, size), dtype=np.float32)\n",
    "%timeit np.dot(x, x.T).block_until_ready()  # runs on the GPU"
   ]
  },
  {
   "cell_type": "code",
   "execution_count": 4,
   "metadata": {},
   "outputs": [
    {
     "name": "stdout",
     "output_type": "stream",
     "text": [
      "294 ms ± 59.1 ms per loop (mean ± std. dev. of 7 runs, 1 loop each)\n"
     ]
    }
   ],
   "source": [
    "import numpy as onp  # original CPU-backed NumPy\n",
    "x = onp.random.normal(size=(size, size)).astype(onp.float32)\n",
    "%timeit np.dot(x, x.T).block_until_ready()"
   ]
  },
  {
   "cell_type": "code",
   "execution_count": 5,
   "metadata": {},
   "outputs": [
    {
     "name": "stdout",
     "output_type": "stream",
     "text": [
      "254 ms ± 36.6 ms per loop (mean ± std. dev. of 7 runs, 1 loop each)\n"
     ]
    }
   ],
   "source": [
    "from jax import device_put\n",
    "\n",
    "x = onp.random.normal(size=(size, size)).astype(onp.float32)\n",
    "x = device_put(x)\n",
    "%timeit np.dot(x, x.T).block_until_ready()"
   ]
  },
  {
   "cell_type": "markdown",
   "metadata": {},
   "source": [
    "Using `jit`"
   ]
  },
  {
   "cell_type": "code",
   "execution_count": 6,
   "metadata": {},
   "outputs": [
    {
     "name": "stdout",
     "output_type": "stream",
     "text": [
      "5.04 ms ± 728 µs per loop (mean ± std. dev. of 7 runs, 100 loops each)\n"
     ]
    }
   ],
   "source": [
    "def selu(x, alpha=1.67, lmbda=1.05):\n",
    "    return lmbda * np.where(x > 0, x, alpha * np.exp(x) - alpha)\n",
    "\n",
    "x = random.normal(key, (1000000,))\n",
    "%timeit selu(x).block_until_ready()"
   ]
  },
  {
   "cell_type": "code",
   "execution_count": 7,
   "metadata": {},
   "outputs": [
    {
     "name": "stdout",
     "output_type": "stream",
     "text": [
      "584 µs ± 106 µs per loop (mean ± std. dev. of 7 runs, 1000 loops each)\n"
     ]
    }
   ],
   "source": [
    "selu_jit = jit(selu)\n",
    "%timeit selu_jit(x).block_until_ready()"
   ]
  },
  {
   "cell_type": "markdown",
   "metadata": {},
   "source": [
    "take diff\n"
   ]
  },
  {
   "cell_type": "code",
   "execution_count": 8,
   "metadata": {},
   "outputs": [
    {
     "name": "stdout",
     "output_type": "stream",
     "text": [
      "2.1118555\n",
      "[0.25       0.19661197 0.10499357]\n"
     ]
    }
   ],
   "source": [
    "@jit\n",
    "def sum_logistic(x):\n",
    "    return np.sum(1.0 / (1.0 + np.exp(-x)))\n",
    "\n",
    "x = np.arange(3.)\n",
    "print(sum_logistic(x))\n",
    "print(grad(sum_logistic)(x))"
   ]
  },
  {
   "cell_type": "code",
   "execution_count": 9,
   "metadata": {},
   "outputs": [
    {
     "data": {
      "text/plain": [
       "DeviceArray([1.4159583, 2.2595613, 1.4873992, 1.2502856, 2.0268779,\n",
       "             1.7852714, 1.1136012, 1.4845107, 0.8522337, 1.1135309],            dtype=float32)"
      ]
     },
     "execution_count": 9,
     "metadata": {},
     "output_type": "execute_result"
    }
   ],
   "source": [
    "x = random.normal(key, (10, 3))\n",
    "batched_sum = vmap(sum_logistic)\n",
    "batched_sum(x)"
   ]
  },
  {
   "cell_type": "code",
   "execution_count": 10,
   "metadata": {},
   "outputs": [],
   "source": [
    "def test(x, y):\n",
    "    return np.sum(x**2 + y**2)"
   ]
  },
  {
   "cell_type": "code",
   "execution_count": 11,
   "metadata": {},
   "outputs": [
    {
     "name": "stdout",
     "output_type": "stream",
     "text": [
      "single argument: 2.4101882 \n",
      "\n",
      "batch output shape: (10,)\n",
      "batch output: [2.4101882 5.7268    4.604978  5.98869   3.2325125 4.0696073 3.6179295\n",
      " 4.550433  7.862453  7.104902 ]\n"
     ]
    }
   ],
   "source": [
    "x, y  = [random.normal(key, (10,3)), random.normal(key + 1, (10,3))]\n",
    "print('single argument:', test(x[0], y[0]), '\\n')\n",
    "print('batch output shape:', vmap(test)(x, y).shape)\n",
    "print('batch output:', vmap(test)(x, y))"
   ]
  },
  {
   "cell_type": "code",
   "execution_count": 12,
   "metadata": {},
   "outputs": [
    {
     "data": {
      "text/plain": [
       "DeviceArray([1, 2, 3, 4], dtype=int32)"
      ]
     },
     "execution_count": 12,
     "metadata": {},
     "output_type": "execute_result"
    }
   ],
   "source": [
    "np.append(np.array([1,2,3]), 4)"
   ]
  },
  {
   "cell_type": "markdown",
   "metadata": {},
   "source": [
    "# pytorch distance matrix"
   ]
  },
  {
   "cell_type": "code",
   "execution_count": 13,
   "metadata": {},
   "outputs": [],
   "source": [
    "import torch"
   ]
  },
  {
   "cell_type": "code",
   "execution_count": 14,
   "metadata": {},
   "outputs": [
    {
     "data": {
      "text/plain": [
       "tensor([[0.1648, 0.2830],\n",
       "        [0.7454, 0.9028],\n",
       "        [0.1389, 0.5697],\n",
       "        [0.9894, 0.2126],\n",
       "        [0.2389, 0.9959],\n",
       "        [0.4940, 0.5586],\n",
       "        [0.5405, 0.6170],\n",
       "        [0.6420, 0.8481],\n",
       "        [0.6479, 0.1027],\n",
       "        [0.6203, 0.7241]])"
      ]
     },
     "execution_count": 14,
     "metadata": {},
     "output_type": "execute_result"
    }
   ],
   "source": [
    "x = torch.rand(10, 2)\n",
    "x"
   ]
  },
  {
   "cell_type": "code",
   "execution_count": 15,
   "metadata": {},
   "outputs": [
    {
     "data": {
      "text/plain": [
       "(tensor([[0.1648, 0.2830]]),\n",
       " tensor([[0.7454, 0.9028]]),\n",
       " tensor([[0.1389, 0.5697]]),\n",
       " tensor([[0.9894, 0.2126]]),\n",
       " tensor([[0.2389, 0.9959]]),\n",
       " tensor([[0.4940, 0.5586]]),\n",
       " tensor([[0.5405, 0.6170]]),\n",
       " tensor([[0.6420, 0.8481]]),\n",
       " tensor([[0.6479, 0.1027]]),\n",
       " tensor([[0.6203, 0.7241]]))"
      ]
     },
     "execution_count": 15,
     "metadata": {},
     "output_type": "execute_result"
    }
   ],
   "source": [
    "x.split(1)"
   ]
  },
  {
   "cell_type": "code",
   "execution_count": 16,
   "metadata": {},
   "outputs": [
    {
     "data": {
      "text/plain": [
       "tensor([[0.1648, 0.2830]])"
      ]
     },
     "execution_count": 16,
     "metadata": {},
     "output_type": "execute_result"
    }
   ],
   "source": [
    "row = x.split(1)[0]\n",
    "row"
   ]
  },
  {
   "cell_type": "code",
   "execution_count": 17,
   "metadata": {},
   "outputs": [
    {
     "data": {
      "text/plain": [
       "tensor([[0.1648, 0.2830],\n",
       "        [0.1648, 0.2830],\n",
       "        [0.1648, 0.2830],\n",
       "        [0.1648, 0.2830],\n",
       "        [0.1648, 0.2830],\n",
       "        [0.1648, 0.2830],\n",
       "        [0.1648, 0.2830],\n",
       "        [0.1648, 0.2830],\n",
       "        [0.1648, 0.2830],\n",
       "        [0.1648, 0.2830]])"
      ]
     },
     "execution_count": 17,
     "metadata": {},
     "output_type": "execute_result"
    }
   ],
   "source": [
    "r_v = row.expand_as(x)\n",
    "r_v"
   ]
  },
  {
   "cell_type": "code",
   "execution_count": 18,
   "metadata": {},
   "outputs": [
    {
     "name": "stdout",
     "output_type": "stream",
     "text": [
      "torch.Size([10])\n"
     ]
    },
    {
     "data": {
      "text/plain": [
       "tensor([0.0000, 0.7212, 0.0829, 0.6849, 0.5137, 0.1843, 0.2527, 0.5471, 0.2658,\n",
       "        0.4021])"
      ]
     },
     "execution_count": 18,
     "metadata": {},
     "output_type": "execute_result"
    }
   ],
   "source": [
    "sq_dist = torch.sum((r_v - x) ** 2, 1)\n",
    "print(sq_dist.shape)\n",
    "sq_dist"
   ]
  },
  {
   "cell_type": "code",
   "execution_count": 19,
   "metadata": {},
   "outputs": [
    {
     "data": {
      "text/plain": [
       "torch.Size([1, 10])"
      ]
     },
     "execution_count": 19,
     "metadata": {},
     "output_type": "execute_result"
    }
   ],
   "source": [
    "sq_dist.view(1, -1).shape"
   ]
  },
  {
   "cell_type": "code",
   "execution_count": 20,
   "metadata": {},
   "outputs": [],
   "source": [
    "def row_pairwise_distances(x, y=None, dist_mat=None):\n",
    "    if y is None:\n",
    "        y = x\n",
    "    if dist_mat is None:\n",
    "        dtype = x.data.type()\n",
    "        dist_mat = Variable(torch.Tensor(x.size()[0], y.size()[0]).type(dtype))\n",
    "\n",
    "    for i, row in enumerate(x.split(1)):\n",
    "        r_v = row.expand_as(y)\n",
    "        sq_dist = torch.sum((r_v - y) ** 2, 1)\n",
    "        dist_mat[i] = sq_dist.view(1, -1)\n",
    "    return dist_mat"
   ]
  },
  {
   "cell_type": "markdown",
   "metadata": {},
   "source": [
    "# random stuff"
   ]
  },
  {
   "cell_type": "markdown",
   "metadata": {},
   "source": [
    "## first question\n",
    "does `jit` cache results if it needs them again? that is, does it skip over repeated computations?"
   ]
  },
  {
   "cell_type": "code",
   "execution_count": 21,
   "metadata": {},
   "outputs": [],
   "source": [
    "import jax.numpy as np\n",
    "from jax import grad, jit, vmap\n",
    "from jax import random"
   ]
  },
  {
   "cell_type": "code",
   "execution_count": 22,
   "metadata": {},
   "outputs": [],
   "source": [
    "m = 10**4\n",
    "def h(x):\n",
    "    for i in range(m):\n",
    "        x += i\n",
    "    return x"
   ]
  },
  {
   "cell_type": "code",
   "execution_count": 23,
   "metadata": {},
   "outputs": [
    {
     "data": {
      "text/plain": [
       "49995002"
      ]
     },
     "execution_count": 23,
     "metadata": {},
     "output_type": "execute_result"
    }
   ],
   "source": [
    "h(2)"
   ]
  },
  {
   "cell_type": "code",
   "execution_count": 24,
   "metadata": {},
   "outputs": [],
   "source": [
    "def f1(x):\n",
    "    \"\"\"\n",
    "    computation of h is repeated needlessly\n",
    "    \"\"\"\n",
    "    out = 0\n",
    "    for i in range(10):\n",
    "        out += h(x) + i\n",
    "    return out"
   ]
  },
  {
   "cell_type": "code",
   "execution_count": 25,
   "metadata": {},
   "outputs": [],
   "source": [
    "def f2(x):\n",
    "    \"\"\"\n",
    "    h(x) is computed only once\n",
    "    \"\"\"\n",
    "    out = 0\n",
    "    hx = h(x)\n",
    "    for i in range(10):\n",
    "        out += hx + i\n",
    "    return out"
   ]
  },
  {
   "cell_type": "code",
   "execution_count": 26,
   "metadata": {},
   "outputs": [],
   "source": [
    "s = 4"
   ]
  },
  {
   "cell_type": "code",
   "execution_count": 27,
   "metadata": {},
   "outputs": [],
   "source": [
    "assert f1(s) == f2(s)"
   ]
  },
  {
   "cell_type": "code",
   "execution_count": 28,
   "metadata": {},
   "outputs": [
    {
     "name": "stdout",
     "output_type": "stream",
     "text": [
      "4.21 ms ± 639 µs per loop (mean ± std. dev. of 7 runs, 100 loops each)\n",
      "424 µs ± 62 µs per loop (mean ± std. dev. of 7 runs, 1000 loops each)\n",
      "448 µs ± 112 µs per loop (mean ± std. dev. of 7 runs, 1 loop each)\n",
      "324 µs ± 47.1 µs per loop (mean ± std. dev. of 7 runs, 1 loop each)\n"
     ]
    }
   ],
   "source": [
    "%timeit f1(s)\n",
    "%timeit f2(s)\n",
    "%timeit jit(f1)(s).block_until_ready()\n",
    "%timeit jit(f2)(s).block_until_ready()"
   ]
  },
  {
   "cell_type": "markdown",
   "metadata": {},
   "source": [
    "## next question:\n",
    "does `lax.fori_loop` compile more quickly?"
   ]
  },
  {
   "cell_type": "code",
   "execution_count": 29,
   "metadata": {},
   "outputs": [],
   "source": [
    "from jax import lax"
   ]
  },
  {
   "cell_type": "code",
   "execution_count": 30,
   "metadata": {},
   "outputs": [],
   "source": [
    "m = 10**4\n",
    "s = 4"
   ]
  },
  {
   "cell_type": "code",
   "execution_count": 31,
   "metadata": {},
   "outputs": [],
   "source": [
    "def h1(x):\n",
    "    body = lambda i, val: val + i\n",
    "    for i in range(m):\n",
    "        x = body(i, x)\n",
    "    return x"
   ]
  },
  {
   "cell_type": "code",
   "execution_count": 32,
   "metadata": {},
   "outputs": [],
   "source": [
    "def h2(x):\n",
    "    body = lambda i, val: val + i\n",
    "    return lax.fori_loop(0, m, body, init_val=x)"
   ]
  },
  {
   "cell_type": "code",
   "execution_count": 33,
   "metadata": {},
   "outputs": [
    {
     "data": {
      "text/plain": [
       "DeviceArray(49995004, dtype=int32)"
      ]
     },
     "execution_count": 33,
     "metadata": {},
     "output_type": "execute_result"
    }
   ],
   "source": [
    "jit(h1)(s)"
   ]
  },
  {
   "cell_type": "code",
   "execution_count": 34,
   "metadata": {},
   "outputs": [
    {
     "data": {
      "text/plain": [
       "DeviceArray(49995004, dtype=int32)"
      ]
     },
     "execution_count": 34,
     "metadata": {},
     "output_type": "execute_result"
    }
   ],
   "source": [
    "jit(h2)(s)"
   ]
  },
  {
   "cell_type": "markdown",
   "metadata": {},
   "source": [
    "yeees, it does!"
   ]
  },
  {
   "cell_type": "markdown",
   "metadata": {},
   "source": [
    "## Next question:\n",
    "when we use `lax.fori_loop`, do we get the same speedup for repeated computations?"
   ]
  },
  {
   "cell_type": "code",
   "execution_count": 35,
   "metadata": {},
   "outputs": [],
   "source": [
    "assert h(s) == h1(s)"
   ]
  },
  {
   "cell_type": "code",
   "execution_count": 36,
   "metadata": {},
   "outputs": [],
   "source": [
    "# now we use the lax fori loop h1\n",
    "def f1_lax(x):\n",
    "    \"\"\"\n",
    "    computation of h is repeated needlessly\n",
    "    \"\"\"\n",
    "    out = 0\n",
    "#     for i in range(10):\n",
    "#         out += h1(x) + i\n",
    "        \n",
    "    out = lax.fori_loop(0, 10, lambda i, val: val + h1(x) + i, init_val=out)\n",
    "    return out\n",
    "\n",
    "def f2_lax(x):\n",
    "    \"\"\"\n",
    "    h(x) is computed only once\n",
    "    \"\"\"\n",
    "    out = 0\n",
    "    hx = h1(x)\n",
    "#     for i in range(10):\n",
    "#         out += hx + i\n",
    "        \n",
    "    out = lax.fori_loop(0, 10, lambda i, val: val + hx + i, init_val=out)\n",
    "    return out"
   ]
  },
  {
   "cell_type": "code",
   "execution_count": 37,
   "metadata": {},
   "outputs": [],
   "source": [
    "assert f1_lax(s) == f1(s)\n",
    "assert f2_lax(s) == f2(s)\n",
    "assert f1(s) == f2(s)"
   ]
  },
  {
   "cell_type": "code",
   "execution_count": 38,
   "metadata": {},
   "outputs": [
    {
     "data": {
      "text/plain": [
       "DeviceArray(499950085, dtype=int32)"
      ]
     },
     "execution_count": 38,
     "metadata": {},
     "output_type": "execute_result"
    }
   ],
   "source": [
    "# still compiles fast:\n",
    "jit(f1_lax)(s)"
   ]
  },
  {
   "cell_type": "code",
   "execution_count": 39,
   "metadata": {},
   "outputs": [
    {
     "name": "stdout",
     "output_type": "stream",
     "text": [
      "12.9 ms ± 1.32 ms per loop (mean ± std. dev. of 7 runs, 100 loops each)\n",
      "12.2 ms ± 179 µs per loop (mean ± std. dev. of 7 runs, 100 loops each)\n",
      "116 µs ± 3.87 µs per loop (mean ± std. dev. of 7 runs, 10000 loops each)\n",
      "The slowest run took 4.48 times longer than the fastest. This could mean that an intermediate result is being cached.\n",
      "389 µs ± 233 µs per loop (mean ± std. dev. of 7 runs, 1 loop each)\n"
     ]
    }
   ],
   "source": [
    "%timeit f1_lax(s)\n",
    "%timeit f2_lax(s)\n",
    "%timeit jit(f1_lax)(s).block_until_ready()\n",
    "%timeit jit(f2_lax)(s).block_until_ready()"
   ]
  },
  {
   "cell_type": "markdown",
   "metadata": {},
   "source": [
    "we do indeed have a speedup."
   ]
  }
 ],
 "metadata": {
  "kernelspec": {
   "display_name": "msc-thesis",
   "language": "python",
   "name": "msc-thesis"
  },
  "language_info": {
   "codemirror_mode": {
    "name": "ipython",
    "version": 3
   },
   "file_extension": ".py",
   "mimetype": "text/x-python",
   "name": "python",
   "nbconvert_exporter": "python",
   "pygments_lexer": "ipython3",
   "version": "3.6.9"
  }
 },
 "nbformat": 4,
 "nbformat_minor": 2
}
