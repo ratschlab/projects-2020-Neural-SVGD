{
 "cells": [
  {
   "cell_type": "code",
   "execution_count": 1,
   "metadata": {},
   "outputs": [],
   "source": [
    "import jax.numpy as np\n",
    "from jax import grad, jit, vmap\n",
    "from jax import random\n",
    "from jax.ops import index_update, index\n",
    "\n",
    "from utils import batched_normsq"
   ]
  },
  {
   "cell_type": "markdown",
   "metadata": {},
   "source": [
    "## measuring KL divergence\n",
    "$$ D_{KL}(q \\Vert p) = E_{x \\sim q}\\big[\\log \\frac{q(x)}{p(x)}\\big] $$"
   ]
  },
  {
   "cell_type": "code",
   "execution_count": null,
   "metadata": {},
   "outputs": [],
   "source": [
    "def kl(x, p):\n",
    "    \"\"\"\n",
    "    IN: \n",
    "    * x is an np array of shape (n, d) representing n samples of a variable in R^d\n",
    "    * p is a callable that computes a pdf\n",
    "    OUT:\n",
    "    the KL-divergence between the empirical distribution of x and the distribution p.\n",
    "    \"\"\"\n",
    "    return None\n",
    "\n",
    "def kernelized_stein_discrepancy(x, p, kernel):\n",
    "    \"\"\"\n",
    "    IN: \n",
    "    * x is an np array of shape (n, d) representing n samples of a variable in R^d\n",
    "    * p is a callable that computes a pdf\n",
    "    OUT:\n",
    "    the stein discrepancy between the empirical distribution of x and the distribution p.\n",
    "    \"\"\"\n",
    "    "
   ]
  },
  {
   "cell_type": "markdown",
   "metadata": {},
   "source": [
    "## updating numpy slices"
   ]
  },
  {
   "cell_type": "code",
   "execution_count": 2,
   "metadata": {},
   "outputs": [
    {
     "name": "stderr",
     "output_type": "stream",
     "text": [
      "/home/lauro/.virtualenvs/msc-thesis/lib/python3.6/site-packages/jax/lib/xla_bridge.py:122: UserWarning: No GPU/TPU found, falling back to CPU.\n",
      "  warnings.warn('No GPU/TPU found, falling back to CPU.')\n"
     ]
    },
    {
     "data": {
      "text/plain": [
       "DeviceArray([[0., 0., 0.],\n",
       "             [0., 0., 0.],\n",
       "             [0., 0., 0.]], dtype=float32)"
      ]
     },
     "execution_count": 2,
     "metadata": {},
     "output_type": "execute_result"
    }
   ],
   "source": [
    "z = np.zeros((3, 3))\n",
    "z"
   ]
  },
  {
   "cell_type": "code",
   "execution_count": 3,
   "metadata": {},
   "outputs": [],
   "source": [
    "# z[1, :] = 1 # doesn't work"
   ]
  },
  {
   "cell_type": "code",
   "execution_count": 4,
   "metadata": {},
   "outputs": [
    {
     "data": {
      "text/plain": [
       "DeviceArray([[0., 0., 0.],\n",
       "             [1., 1., 1.],\n",
       "             [0., 0., 0.]], dtype=float32)"
      ]
     },
     "execution_count": 4,
     "metadata": {},
     "output_type": "execute_result"
    }
   ],
   "source": [
    "znew = index_update(z, index[1, :], 1)\n",
    "znew"
   ]
  },
  {
   "cell_type": "markdown",
   "metadata": {},
   "source": [
    "As I understand it, if we do `znew = index_update(z, ...)` inside a `jit`-compiled function, then if `z` isn't used again, it doesn't take up more memory and the update is done \"in-place\"."
   ]
  },
  {
   "cell_type": "markdown",
   "metadata": {},
   "source": [
    "# distance matrix"
   ]
  },
  {
   "cell_type": "code",
   "execution_count": 5,
   "metadata": {},
   "outputs": [],
   "source": [
    "def old_pairwise_distances(x):\n",
    "    \"\"\"\n",
    "    IN: n x d array: n observations of d-dimensional samples\n",
    "    OUT: symmetric n x n distance matrix of distances (d(x_i, x_j))_ij. Here d = euclidian distance\n",
    "    \"\"\"\n",
    "    if x.ndim == 1:\n",
    "        x = np.expand_dims(x, axis=1) # x is n x 1 matrix now\n",
    "    assert x.ndim == 2\n",
    "    n = x.shape[0]\n",
    "\n",
    "    out = np.zeros((n, n))\n",
    "    for i, xi in enumerate(x):\n",
    "        repeated = np.tile(xi, (n, 1))\n",
    "        distances = batched_normsq(repeated - x) # k(x_1, x_i) for i = 1, ..., 10\n",
    "        out = index_update(out, index[i, :], distances)\n",
    "    return np.sqrt(out)\n"
   ]
  },
  {
   "cell_type": "markdown",
   "metadata": {},
   "source": [
    "more efficiently:"
   ]
  },
  {
   "cell_type": "code",
   "execution_count": 6,
   "metadata": {},
   "outputs": [],
   "source": [
    "def pairwise_distances(x):\n",
    "    \"\"\"\n",
    "    IN: n x d array: n observations of d-dimensional samples\n",
    "    OUT: np array of shape (l,) where l = (n^2 - n) / 2\n",
    "    Consists of distances d(x1, x2), d(x1, x3), ..., d(xn-1, xn)\n",
    "    \"\"\"\n",
    "    assert x.ndim == 2\n",
    "    n = x.shape[0]\n",
    "\n",
    "    distances = []\n",
    "    for i, xi in enumerate(x[:-1]):\n",
    "        repeated = np.tile(xi, (n - i - 1, 1))\n",
    "        v = batched_normsq(repeated - x[i+1:]) # length n - i - 1\n",
    "        distances.extend(v)\n",
    "    return np.sqrt(np.array(distances))\n",
    "\n",
    "def getn(l):\n",
    "    \"\"\"\n",
    "    IN: l = n^2 - n / 2\n",
    "    OUT: n (positive integer solution)\n",
    "    \"\"\"\n",
    "    n = (1 + np.sqrt(1 + 8*l)) / 2\n",
    "    assert np.equal(np.mod(n, 1), 0) # make sure n is an integer\n",
    "    return int(n)\n",
    "\n",
    "def get_distance_matrix(distances):\n",
    "    \"\"\"\n",
    "    IN: output from `pairwise_distances`, an array of length l = n^2 - n / 2\n",
    "    OUT: a symmetric n x n distance matrix with entries d(x_i, x_j)\n",
    "    \"\"\"\n",
    "    l = distances.shape[0]\n",
    "    n = getn(l)\n",
    "    out = np.zeros((n, n))\n",
    "    out[np.triu_indices(n, k = 1)]\n",
    "\n",
    "    out = index_update(out, index[np.triu_indices(n, k=1)], distances)\n",
    "    out = out + out.T\n",
    "    return out"
   ]
  },
  {
   "cell_type": "code",
   "execution_count": 7,
   "metadata": {},
   "outputs": [
    {
     "data": {
      "text/plain": [
       "DeviceArray([[1, 2, 3],\n",
       "             [1, 1, 1],\n",
       "             [1, 1, 1],\n",
       "             [2, 3, 4]], dtype=int32)"
      ]
     },
     "execution_count": 7,
     "metadata": {},
     "output_type": "execute_result"
    }
   ],
   "source": [
    "x = np.array([[1, 2, 3], [1, 1, 1], [1, 1, 1], [2, 3, 4]])\n",
    "x"
   ]
  },
  {
   "cell_type": "code",
   "execution_count": 8,
   "metadata": {},
   "outputs": [
    {
     "data": {
      "text/plain": [
       "DeviceArray([[ True,  True,  True,  True],\n",
       "             [ True,  True,  True,  True],\n",
       "             [ True,  True,  True,  True],\n",
       "             [ True,  True,  True,  True]], dtype=bool)"
      ]
     },
     "execution_count": 8,
     "metadata": {},
     "output_type": "execute_result"
    }
   ],
   "source": [
    "get_distance_matrix(pairwise_distances(x)) == old_pairwise_distances(x)"
   ]
  },
  {
   "cell_type": "markdown",
   "metadata": {},
   "source": [
    "## new update rule"
   ]
  },
  {
   "cell_type": "code",
   "execution_count": 9,
   "metadata": {},
   "outputs": [],
   "source": [
    "def phi_j(x, y, logp, kernel):\n",
    "    \"\"\"\n",
    "    IN: \n",
    "    x and y are arrays of length d\n",
    "    kernel is a function that takes two arguments, k(x, y)\n",
    "    logp is the log of a differentiable pdf p\n",
    "    \n",
    "    OUT: \n",
    "    \\nabla_x log(p(x)) * k(x, y) + \\nabla_x k(x, y)\n",
    "    \n",
    "    that is, phi(x_i) = \\sum_j phi_j(x_j, x_i)\n",
    "    \"\"\"\n",
    "    assert x.ndim == 1 and y.ndim == 1\n",
    "    return grad(logp)(x) * kernel(x, y) + grad(kernel)(x, y)\n",
    "\n",
    "phi_j_batched = vmap(phi_j, (0, 0, None, None), 0)\n",
    "\n",
    "def update(x, logp, stepsize, kernel):\n",
    "    \"\"\"\n",
    "    IN:\n",
    "    x is an np array of shape n x d\n",
    "    logp is the log of a differentiable pdf p\n",
    "    stepsize is a float\n",
    "    kernel is a differentiable function k(x, y, h) that computes the rbf kernel\n",
    "    \n",
    "    OUT:\n",
    "    xnew = x + stepsize * \\phi^*(x)\n",
    "    that is, xnew is an array of shape n x d. The entries of x are the updated particles.\n",
    "    \n",
    "    note that this is an inefficient way to do things, since we're computing k(x, y) twice for each x, y combination.\n",
    "    \"\"\"\n",
    "    assert x.ndim == 2\n",
    "    \n",
    "    xnew = []\n",
    "    n = x.shape[0]\n",
    "    for i, xi in enumerate(x):\n",
    "        repeated = np.tile(xi, (n, 1))\n",
    "        xnew.append(stepsize * np.sum(phi_j_batched(x, repeated, logp, kernel), axis = 0))\n",
    "    xnew = np.array(xnew)\n",
    "    xnew += x\n",
    "\n",
    "    return xnew"
   ]
  },
  {
   "cell_type": "code",
   "execution_count": 10,
   "metadata": {},
   "outputs": [],
   "source": [
    "def rbf_old(x, h):\n",
    "    \"\"\"\n",
    "    [Not used]\n",
    "    x is a n x d matrix (n observations of features with dimension d)\n",
    "    h is a scalar parameter\n",
    "\n",
    "    OUT:\n",
    "    a n x n \"distance\" matrix [k(x_i, x_j)]_{i, j \\in 1, ..., n}\n",
    "    \"\"\"\n",
    "    if x.ndim == 1:\n",
    "        x = np.expand_dims(x, axis=1)\n",
    "    assert x.ndim == 2\n",
    "    n = x.shape[0]\n",
    "\n",
    "    out = None\n",
    "    for i, xi in enumerate(x):\n",
    "        repeated = np.tile(xi, (n, 1))\n",
    "        kernels = batched_rbf(repeated, x, h) # k(x_1, x_i) for i = 1, ..., 10\n",
    "        kernels = np.expand_dims(kernels, axis=0)\n",
    "        if out is None:\n",
    "            out = kernels\n",
    "        else:\n",
    "            out = np.concatenate((out, kernels), axis=0)\n",
    "    return out\n"
   ]
  }
 ],
 "metadata": {
  "kernelspec": {
   "display_name": "msc-thesis",
   "language": "python",
   "name": "msc-thesis"
  },
  "language_info": {
   "codemirror_mode": {
    "name": "ipython",
    "version": 3
   },
   "file_extension": ".py",
   "mimetype": "text/x-python",
   "name": "python",
   "nbconvert_exporter": "python",
   "pygments_lexer": "ipython3",
   "version": "3.6.9"
  }
 },
 "nbformat": 4,
 "nbformat_minor": 2
}
