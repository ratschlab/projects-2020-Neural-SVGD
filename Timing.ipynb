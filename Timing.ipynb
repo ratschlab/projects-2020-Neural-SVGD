{
 "cells": [
  {
   "cell_type": "code",
   "execution_count": 1,
   "metadata": {},
   "outputs": [],
   "source": [
    "import jax.numpy as np\n",
    "from jax import grad, jit, vmap\n",
    "from jax import random, api\n",
    "import matplotlib.pyplot as plt\n",
    "import time\n",
    "from tqdm import tqdm\n",
    "\n",
    "from svgd import SVGD, get_bandwidth"
   ]
  },
  {
   "cell_type": "code",
   "execution_count": 2,
   "metadata": {},
   "outputs": [],
   "source": [
    "from jax.scipy.stats import norm\n",
    "\n",
    "@jit\n",
    "def logp(x):\n",
    "    \"\"\"\n",
    "    IN: single scalar np array x. alternatively, [x] works too\n",
    "    OUT: scalar logp(x)\n",
    "    \"\"\"\n",
    "    return np.squeeze(np.sum(norm.logpdf(x, loc=0, scale=1)))"
   ]
  },
  {
   "cell_type": "code",
   "execution_count": 3,
   "metadata": {},
   "outputs": [],
   "source": [
    "n = 400\n",
    "d = 1\n",
    "stepsize = 0.01\n",
    "L = int(10 / stepsize)\n",
    "svgd_adaptive = SVGD(logp, n_iter_max=L, adaptive_kernel=True, get_bandwidth=get_bandwidth)"
   ]
  },
  {
   "cell_type": "code",
   "execution_count": 4,
   "metadata": {},
   "outputs": [
    {
     "name": "stderr",
     "output_type": "stream",
     "text": [
      "/home/lauro/.virtualenvs/msc-thesis/lib/python3.6/site-packages/jax/lib/xla_bridge.py:123: UserWarning: No GPU/TPU found, falling back to CPU.\n",
      "  warnings.warn('No GPU/TPU found, falling back to CPU.')\n"
     ]
    }
   ],
   "source": [
    "# generate data\n",
    "rkey = random.PRNGKey(0)\n",
    "x0 = random.normal(rkey, (n,1)) - 10"
   ]
  },
  {
   "cell_type": "code",
   "execution_count": 5,
   "metadata": {},
   "outputs": [
    {
     "name": "stdout",
     "output_type": "stream",
     "text": [
      "\n"
     ]
    }
   ],
   "source": [
    "xout, log = svgd_adaptive.unjitted_svgd(x0, stepsize, bandwidth=0, n_iter=L)\n",
    "xout.block_until_ready()\n",
    "print()"
   ]
  },
  {
   "cell_type": "code",
   "execution_count": 6,
   "metadata": {},
   "outputs": [
    {
     "name": "stdout",
     "output_type": "stream",
     "text": [
      "COMPILING\n",
      "until before block: 8.678895235061646 s\n",
      "until after block: 148.08810424804688 s\n"
     ]
    }
   ],
   "source": [
    "st = time.time()\n",
    "xout, log = svgd_adaptive.svgd(x0, stepsize, bandwidth=0, n_iter=L)\n",
    "e1 = time.time()\n",
    "xout.block_until_ready()\n",
    "e2 = time.time()\n",
    "print(\"until before block:\", e1 - st, \"s\")\n",
    "print(\"until after block:\", e2 - st, \"s\")"
   ]
  },
  {
   "cell_type": "markdown",
   "metadata": {},
   "source": [
    "# compare `jit`ted and non`jit`ted times"
   ]
  },
  {
   "cell_type": "code",
   "execution_count": 7,
   "metadata": {},
   "outputs": [],
   "source": [
    "m = 1\n",
    "generate_new_data = True\n",
    "\n",
    "def sample_q0(rkey):\n",
    "    rkey = random.split(rkey)[0]\n",
    "    x0 = random.normal(rkey, (n, d))\n",
    "    return x0, rkey"
   ]
  },
  {
   "cell_type": "markdown",
   "metadata": {},
   "source": [
    "## Using jit"
   ]
  },
  {
   "cell_type": "code",
   "execution_count": null,
   "metadata": {},
   "outputs": [
    {
     "name": "stderr",
     "output_type": "stream",
     "text": [
      "  0%|          | 0/1 [00:00<?, ?it/s]"
     ]
    }
   ],
   "source": [
    "times_j = []\n",
    "rkey = random.PRNGKey(0)\n",
    "\n",
    "for _ in tqdm(range(m)):\n",
    "    if generate_new_data:\n",
    "        x0, rkey = sample_q0(rkey)\n",
    "    \n",
    "    st = time.time()\n",
    "    xout, log = svgd_adaptive.svgd(x0, stepsize, bandwidth=0, n_iter=L)\n",
    "    xout = xout.block_until_ready()\n",
    "    end = time.time()\n",
    "    times_j.append(end - st)\n",
    "times_j = np.array(times_j)\n",
    "print(\"mean time:\", np.mean(times_j), \"s\")\n",
    "print(\"stdev:\", np.std(times_j), \"s\")"
   ]
  },
  {
   "cell_type": "code",
   "execution_count": null,
   "metadata": {},
   "outputs": [],
   "source": [
    "_ = plt.hist(times_j)"
   ]
  },
  {
   "cell_type": "markdown",
   "metadata": {},
   "source": [
    "## Without jit"
   ]
  },
  {
   "cell_type": "code",
   "execution_count": null,
   "metadata": {},
   "outputs": [],
   "source": [
    "times_nojit1 = []\n",
    "rkey = random.PRNGKey(0)\n",
    "\n",
    "with api.disable_jit():\n",
    "    for _ in tqdm(range(m)):\n",
    "        if generate_new_data:\n",
    "            x0, rkey = sample_q0(rkey)\n",
    "        \n",
    "        st = time.time()\n",
    "        xout, log = svgd_adaptive.svgd(x0, stepsize, bandwidth=0, n_iter=L)\n",
    "#         xout = xout.block_until_ready()\n",
    "        end = time.time()\n",
    "        times_nojit1.append(end - st)\n",
    "times_nojit1 = np.array(times_nojit1)\n",
    "print(\"mean time:\", np.mean(times_nojit1), \"s\")\n",
    "print(\"stdev:\", np.std(times_nojit1), \"s\")"
   ]
  },
  {
   "cell_type": "code",
   "execution_count": null,
   "metadata": {},
   "outputs": [],
   "source": [
    "_ = plt.hist(times_nojit1)"
   ]
  },
  {
   "cell_type": "code",
   "execution_count": null,
   "metadata": {},
   "outputs": [],
   "source": [
    "times_nojit2 = []\n",
    "rkey = random.PRNGKey(0)\n",
    "\n",
    "for _ in tqdm(range(m)):\n",
    "    if generate_new_data:\n",
    "        x0, rkey = sample_q0(rkey)\n",
    "\n",
    "    st = time.time()\n",
    "    xout, log = svgd_adaptive.unjitted_svgd(x0, stepsize, bandwidth=0, n_iter=L)\n",
    "    end = time.time()\n",
    "    times_nojit2.append(end - st)\n",
    "times_nojit2 = np.array(times_nojit2)\n",
    "print(\"mean time:\", np.mean(times_nojit2), \"s\")\n",
    "print(\"stdev:\", np.std(times_nojit2), \"s\")"
   ]
  },
  {
   "cell_type": "code",
   "execution_count": null,
   "metadata": {},
   "outputs": [],
   "source": [
    "svgd_adaptive.n_iter_max"
   ]
  },
  {
   "cell_type": "code",
   "execution_count": null,
   "metadata": {},
   "outputs": [],
   "source": [
    "_ = plt.hist(times_nojit2)"
   ]
  },
  {
   "cell_type": "markdown",
   "metadata": {},
   "source": [
    "# Final comparison"
   ]
  },
  {
   "cell_type": "code",
   "execution_count": null,
   "metadata": {},
   "outputs": [],
   "source": [
    "cols = [\"r\", \"b\", \"g\"]\n",
    "labels = [\"Jitted\", \"Not jitted 1\", \"Not jitted 2\"]\n",
    "\n",
    "fig = plt.figure(1, figsize=[6.4, 4.8])\n",
    "for i, times in enumerate([times_j, times_nojit1, times_nojit2]):\n",
    "    plt.hist(times, color=cols[i], label=labels[i])\n",
    "    \n",
    "_ = plt.legend()"
   ]
  },
  {
   "cell_type": "code",
   "execution_count": null,
   "metadata": {},
   "outputs": [],
   "source": []
  }
 ],
 "metadata": {
  "kernelspec": {
   "display_name": "msc-thesis",
   "language": "python",
   "name": "msc-thesis"
  },
  "language_info": {
   "codemirror_mode": {
    "name": "ipython",
    "version": 3
   },
   "file_extension": ".py",
   "mimetype": "text/x-python",
   "name": "python",
   "nbconvert_exporter": "python",
   "pygments_lexer": "ipython3",
   "version": "3.6.9"
  }
 },
 "nbformat": 4,
 "nbformat_minor": 4
}
