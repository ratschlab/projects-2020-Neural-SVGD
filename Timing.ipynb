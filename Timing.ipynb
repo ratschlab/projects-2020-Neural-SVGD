{
 "cells": [
  {
   "cell_type": "code",
   "execution_count": 2,
   "metadata": {},
   "outputs": [
    {
     "name": "stdout",
     "output_type": "stream",
     "text": [
      "cpu\n"
     ]
    },
    {
     "name": "stderr",
     "output_type": "stream",
     "text": [
      "/home/lauro/.virtualenvs/msc-thesis/lib/python3.6/site-packages/jax/lib/xla_bridge.py:123: UserWarning: No GPU/TPU found, falling back to CPU.\n",
      "  warnings.warn('No GPU/TPU found, falling back to CPU.')\n"
     ]
    }
   ],
   "source": [
    "import jax.numpy as np\n",
    "from jax import grad, jit, vmap\n",
    "from jax import random, api\n",
    "import matplotlib.pyplot as plt\n",
    "import time\n",
    "from tqdm import tqdm\n",
    "\n",
    "from svgd import SVGD, get_bandwidth\n",
    "\n",
    "from jax.lib import xla_bridge\n",
    "print(xla_bridge.get_backend().platform)"
   ]
  },
  {
   "cell_type": "code",
   "execution_count": 3,
   "metadata": {},
   "outputs": [],
   "source": [
    "from jax.scipy.stats import norm\n",
    "\n",
    "@jit\n",
    "def logp(x):\n",
    "    \"\"\"\n",
    "    IN: single scalar np array x. alternatively, [x] works too\n",
    "    OUT: scalar logp(x)\n",
    "    \"\"\"\n",
    "    return np.squeeze(np.sum(norm.logpdf(x, loc=0, scale=1)))"
   ]
  },
  {
   "cell_type": "code",
   "execution_count": 4,
   "metadata": {},
   "outputs": [],
   "source": [
    "n = 100\n",
    "d = 1\n",
    "stepsize = 0.01\n",
    "L = 300\n",
    "svgd_adaptive = SVGD(logp, n_iter_max=L, adaptive_kernel=True, get_bandwidth=get_bandwidth, particle_shape=(n, d))"
   ]
  },
  {
   "cell_type": "code",
   "execution_count": 4,
   "metadata": {},
   "outputs": [
    {
     "name": "stdout",
     "output_type": "stream",
     "text": [
      "\n"
     ]
    }
   ],
   "source": [
    "xout, log = svgd_adaptive.unjitted_svgd(svgd_adaptive.rkey, stepsize, bandwidth=0, n_iter=L)\n",
    "xout.block_until_ready()\n",
    "print()"
   ]
  },
  {
   "cell_type": "code",
   "execution_count": 5,
   "metadata": {},
   "outputs": [
    {
     "name": "stdout",
     "output_type": "stream",
     "text": [
      "JIT COMPILING...\n",
      "Done compiling in 0.21767735481262207 seconds.\n",
      "until before block: 4.3337061405181885 s\n",
      "until after block: 5.058032751083374 s\n"
     ]
    }
   ],
   "source": [
    "st = time.time()\n",
    "xout, log = svgd_adaptive.svgd(svgd_adaptive.rkey, stepsize, bandwidth=0, n_iter=L)\n",
    "e1 = time.time()\n",
    "xout.block_until_ready()\n",
    "e2 = time.time()\n",
    "print(\"until before block:\", e1 - st, \"s\")\n",
    "print(\"until after block:\", e2 - st, \"s\")"
   ]
  },
  {
   "cell_type": "markdown",
   "metadata": {},
   "source": [
    "# compare `jit`ted and non`jit`ted times"
   ]
  },
  {
   "cell_type": "code",
   "execution_count": 6,
   "metadata": {},
   "outputs": [],
   "source": [
    "m = 10"
   ]
  },
  {
   "cell_type": "markdown",
   "metadata": {},
   "source": [
    "## Using jit"
   ]
  },
  {
   "cell_type": "code",
   "execution_count": 7,
   "metadata": {},
   "outputs": [
    {
     "name": "stderr",
     "output_type": "stream",
     "text": [
      "100%|██████████| 10/10 [00:07<00:00,  1.37it/s]"
     ]
    },
    {
     "name": "stdout",
     "output_type": "stream",
     "text": [
      "mean time: 0.71596676 s\n",
      "stdev: 0.007842689 s\n"
     ]
    },
    {
     "name": "stderr",
     "output_type": "stream",
     "text": [
      "\n"
     ]
    }
   ],
   "source": [
    "times_j = []\n",
    "\n",
    "for _ in tqdm(range(m)):\n",
    "    svgd_adaptive.newkey()\n",
    "    st = time.time()\n",
    "    xout, log = svgd_adaptive.svgd(svgd_adaptive.rkey, stepsize, bandwidth=0, n_iter=L)\n",
    "    xout = xout.block_until_ready()\n",
    "    end = time.time()\n",
    "    times_j.append(end - st)\n",
    "times_j = np.array(times_j)\n",
    "print(\"mean time:\", np.mean(times_j), \"s\")\n",
    "print(\"stdev:\", np.std(times_j), \"s\")"
   ]
  },
  {
   "cell_type": "code",
   "execution_count": 8,
   "metadata": {},
   "outputs": [
    {
     "data": {
      "image/png": "[encoded data removed]",
      "text/plain": [
       "<Figure size 432x288 with 1 Axes>"
      ]
     },
     "metadata": {
      "needs_background": "light"
     },
     "output_type": "display_data"
    }
   ],
   "source": [
    "_ = plt.hist(times_j)"
   ]
  },
  {
   "cell_type": "markdown",
   "metadata": {},
   "source": [
    "## Without jit"
   ]
  },
  {
   "cell_type": "code",
   "execution_count": 9,
   "metadata": {},
   "outputs": [
    {
     "name": "stdout",
     "output_type": "stream",
     "text": [
      "JIT COMPILING...\n",
      "Done compiling in 4.8307976722717285 seconds.\n",
      "JIT COMPILING...\n",
      "Done compiling in 4.77505350112915 seconds.\n",
      "JIT COMPILING...\n",
      "Done compiling in 5.329846620559692 seconds.\n",
      "JIT COMPILING...\n",
      "Done compiling in 5.437087535858154 seconds.\n",
      "JIT COMPILING...\n",
      "Done compiling in 4.738233327865601 seconds.\n",
      "JIT COMPILING...\n",
      "Done compiling in 4.612656593322754 seconds.\n",
      "JIT COMPILING...\n",
      "Done compiling in 4.838158369064331 seconds.\n",
      "JIT COMPILING...\n",
      "Done compiling in 4.594719171524048 seconds.\n",
      "JIT COMPILING...\n",
      "Done compiling in 4.559055328369141 seconds.\n",
      "JIT COMPILING...\n",
      "Done compiling in 4.467915773391724 seconds.\n",
      "mean time: 5.561055 s\n",
      "stdev: 0.3392108 s\n"
     ]
    }
   ],
   "source": [
    "times_nojit1 = []\n",
    "rkey = random.PRNGKey(0)\n",
    "\n",
    "with api.disable_jit():\n",
    "    for _ in range(m):\n",
    "        svgd_adaptive.newkey()\n",
    "        st = time.time()\n",
    "        xout, log = svgd_adaptive.svgd(svgd_adaptive.rkey, stepsize, bandwidth=0, n_iter=L)\n",
    "        xout = xout.block_until_ready()\n",
    "        end = time.time()\n",
    "        times_nojit1.append(end - st)\n",
    "times_nojit1 = np.array(times_nojit1)\n",
    "print(\"mean time:\", np.mean(times_nojit1), \"s\")\n",
    "print(\"stdev:\", np.std(times_nojit1), \"s\")"
   ]
  },
  {
   "cell_type": "code",
   "execution_count": 10,
   "metadata": {},
   "outputs": [
    {
     "data": {
      "image/png": "[encoded data removed]",
      "text/plain": [
       "<Figure size 432x288 with 1 Axes>"
      ]
     },
     "metadata": {
      "needs_background": "light"
     },
     "output_type": "display_data"
    }
   ],
   "source": [
    "_ = plt.hist(times_nojit1)"
   ]
  },
  {
   "cell_type": "code",
   "execution_count": 11,
   "metadata": {},
   "outputs": [
    {
     "name": "stderr",
     "output_type": "stream",
     "text": [
      "100%|██████████| 10/10 [00:57<00:00,  5.73s/it]"
     ]
    },
    {
     "name": "stdout",
     "output_type": "stream",
     "text": [
      "mean time: 5.724933 s\n",
      "stdev: 0.3156142 s\n"
     ]
    },
    {
     "name": "stderr",
     "output_type": "stream",
     "text": [
      "\n"
     ]
    }
   ],
   "source": [
    "times_nojit2 = []\n",
    "rkey = random.PRNGKey(0)\n",
    "\n",
    "for _ in tqdm(range(m)):\n",
    "    svgd_adaptive.newkey()\n",
    "    st = time.time()\n",
    "    xout, log = svgd_adaptive.unjitted_svgd(svgd_adaptive.rkey, stepsize, bandwidth=0, n_iter=L)\n",
    "    xout = xout.block_until_ready()\n",
    "    end = time.time()\n",
    "    times_nojit2.append(end - st)\n",
    "times_nojit2 = np.array(times_nojit2)\n",
    "print(\"mean time:\", np.mean(times_nojit2), \"s\")\n",
    "print(\"stdev:\", np.std(times_nojit2), \"s\")"
   ]
  },
  {
   "cell_type": "code",
   "execution_count": 12,
   "metadata": {},
   "outputs": [
    {
     "data": {
      "text/plain": [
       "300"
      ]
     },
     "execution_count": 12,
     "metadata": {},
     "output_type": "execute_result"
    }
   ],
   "source": [
    "svgd_adaptive.n_iter_max"
   ]
  },
  {
   "cell_type": "code",
   "execution_count": 13,
   "metadata": {},
   "outputs": [
    {
     "data": {
      "image/png": "[encoded data removed]",
      "text/plain": [
       "<Figure size 432x288 with 1 Axes>"
      ]
     },
     "metadata": {
      "needs_background": "light"
     },
     "output_type": "display_data"
    }
   ],
   "source": [
    "_ = plt.hist(times_nojit2)"
   ]
  },
  {
   "cell_type": "markdown",
   "metadata": {},
   "source": [
    "## Final comparison"
   ]
  },
  {
   "cell_type": "code",
   "execution_count": 14,
   "metadata": {},
   "outputs": [
    {
     "data": {
      "image/png": "[encoded data removed]",
      "text/plain": [
       "<Figure size 460.8x345.6 with 1 Axes>"
      ]
     },
     "metadata": {
      "needs_background": "light"
     },
     "output_type": "display_data"
    }
   ],
   "source": [
    "cols = [\"r\", \"b\", \"g\"]\n",
    "labels = [\"Jitted\", \"Not jitted 1\", \"Not jitted 2\"]\n",
    "\n",
    "fig = plt.figure(1, figsize=[6.4, 4.8])\n",
    "for i, times in enumerate([times_j, times_nojit1, times_nojit2]):\n",
    "    plt.hist(times, color=cols[i], label=labels[i], density=True)\n",
    "    \n",
    "_ = plt.legend()"
   ]
  },
  {
   "cell_type": "markdown",
   "metadata": {},
   "source": [
    "# scaling with $n$"
   ]
  },
  {
   "cell_type": "code",
   "execution_count": 62,
   "metadata": {},
   "outputs": [],
   "source": [
    "def compile_and_time(n, d, n_iter_max, n_iter):\n",
    "    svgd_fix = SVGD(logp, n_iter_max=n_iter_max, adaptive_kernel=False, particle_shape=(n,d))\n",
    "    \n",
    "    h = 10**2\n",
    "    stepsize = 0.01\n",
    "    # run once to compile\n",
    "    _ = svgd_fix.svgd(svgd_fix.rkey, stepsize, bandwidth=h, n_iter=n_iter)\n",
    "    \n",
    "    # run again to time\n",
    "    st = time.time()\n",
    "    x, _ = svgd_fix.svgd(svgd_fix.rkey, stepsize, bandwidth=h, n_iter=n_iter)\n",
    "    x.block_until_ready()\n",
    "    end = time.time()\n",
    "    \n",
    "    return end - st # runtime in seconds"
   ]
  },
  {
   "cell_type": "code",
   "execution_count": 69,
   "metadata": {
    "collapsed": true,
    "jupyter": {
     "outputs_hidden": true
    }
   },
   "outputs": [
    {
     "name": "stdout",
     "output_type": "stream",
     "text": [
      "JIT COMPILING svgd...\n",
      "...done compiling svgd after 0.08008861541748047 seconds.\n",
      "JIT COMPILING svgd...\n",
      "...done compiling svgd after 0.04737377166748047 seconds.\n",
      "JIT COMPILING svgd...\n",
      "...done compiling svgd after 0.04400897026062012 seconds.\n",
      "JIT COMPILING svgd...\n",
      "...done compiling svgd after 0.044916391372680664 seconds.\n",
      "JIT COMPILING svgd...\n",
      "...done compiling svgd after 0.04332327842712402 seconds.\n",
      "JIT COMPILING svgd...\n",
      "...done compiling svgd after 0.04346776008605957 seconds.\n",
      "JIT COMPILING svgd...\n",
      "...done compiling svgd after 0.043053388595581055 seconds.\n",
      "JIT COMPILING svgd...\n",
      "...done compiling svgd after 0.043828725814819336 seconds.\n",
      "JIT COMPILING svgd...\n",
      "...done compiling svgd after 0.043778181076049805 seconds.\n",
      "JIT COMPILING svgd...\n",
      "...done compiling svgd after 0.07128190994262695 seconds.\n",
      "JIT COMPILING svgd...\n",
      "...done compiling svgd after 0.04494833946228027 seconds.\n",
      "JIT COMPILING svgd...\n",
      "...done compiling svgd after 0.04241204261779785 seconds.\n",
      "JIT COMPILING svgd...\n",
      "...done compiling svgd after 0.05224466323852539 seconds.\n",
      "JIT COMPILING svgd...\n",
      "...done compiling svgd after 0.04302549362182617 seconds.\n",
      "JIT COMPILING svgd...\n",
      "...done compiling svgd after 0.07918334007263184 seconds.\n",
      "JIT COMPILING svgd...\n",
      "...done compiling svgd after 0.04344820976257324 seconds.\n",
      "JIT COMPILING svgd...\n",
      "...done compiling svgd after 0.04545164108276367 seconds.\n",
      "JIT COMPILING svgd...\n",
      "...done compiling svgd after 0.043779850006103516 seconds.\n",
      "JIT COMPILING svgd...\n",
      "...done compiling svgd after 0.04415178298950195 seconds.\n",
      "JIT COMPILING svgd...\n",
      "...done compiling svgd after 0.05397820472717285 seconds.\n",
      "JIT COMPILING svgd...\n",
      "...done compiling svgd after 0.04354667663574219 seconds.\n",
      "JIT COMPILING svgd...\n",
      "...done compiling svgd after 0.2403271198272705 seconds.\n",
      "JIT COMPILING svgd...\n",
      "...done compiling svgd after 0.3395576477050781 seconds.\n",
      "JIT COMPILING svgd...\n",
      "...done compiling svgd after 0.36228418350219727 seconds.\n",
      "JIT COMPILING svgd...\n",
      "...done compiling svgd after 0.4913177490234375 seconds.\n",
      "JIT COMPILING svgd...\n",
      "...done compiling svgd after 0.23921537399291992 seconds.\n",
      "JIT COMPILING svgd...\n",
      "...done compiling svgd after 0.3691420555114746 seconds.\n",
      "JIT COMPILING svgd...\n",
      "...done compiling svgd after 0.3616151809692383 seconds.\n",
      "JIT COMPILING svgd...\n",
      "...done compiling svgd after 0.3800222873687744 seconds.\n",
      "JIT COMPILING svgd...\n",
      "...done compiling svgd after 0.23205208778381348 seconds.\n",
      "JIT COMPILING svgd...\n",
      "...done compiling svgd after 0.22162938117980957 seconds.\n",
      "JIT COMPILING svgd...\n",
      "...done compiling svgd after 0.21951794624328613 seconds.\n",
      "JIT COMPILING svgd...\n",
      "...done compiling svgd after 0.21903300285339355 seconds.\n",
      "JIT COMPILING svgd...\n",
      "...done compiling svgd after 0.25301218032836914 seconds.\n",
      "JIT COMPILING svgd...\n",
      "...done compiling svgd after 0.2425379753112793 seconds.\n",
      "JIT COMPILING svgd...\n",
      "...done compiling svgd after 0.4298677444458008 seconds.\n",
      "JIT COMPILING svgd...\n",
      "...done compiling svgd after 0.22665834426879883 seconds.\n",
      "JIT COMPILING svgd...\n",
      "...done compiling svgd after 0.2331702709197998 seconds.\n",
      "JIT COMPILING svgd...\n",
      "...done compiling svgd after 0.25676584243774414 seconds.\n"
     ]
    }
   ],
   "source": [
    "ngrid = np.arange(10, 1200, step=40)\n",
    "d = 1\n",
    "n_iter_max = 300\n",
    "n_iter = n_iter_max\n",
    "# ntimes = []\n",
    "for n in ngrid:\n",
    "    ntimes.append(compile_and_time(n, d, n_iter_max, n_iter))"
   ]
  },
  {
   "cell_type": "code",
   "execution_count": 88,
   "metadata": {},
   "outputs": [
    {
     "data": {
      "image/png": "[encoded data removed]",
      "text/plain": [
       "<Figure size 432x288 with 1 Axes>"
      ]
     },
     "metadata": {
      "needs_background": "light"
     },
     "output_type": "display_data"
    }
   ],
   "source": [
    "_ = plt.plot(ngrid, ntimes, \".\")"
   ]
  },
  {
   "cell_type": "code",
   "execution_count": null,
   "metadata": {},
   "outputs": [],
   "source": []
  }
 ],
 "metadata": {
  "kernelspec": {
   "display_name": "msc-thesis",
   "language": "python",
   "name": "msc-thesis"
  },
  "language_info": {
   "codemirror_mode": {
    "name": "ipython",
    "version": 3
   },
   "file_extension": ".py",
   "mimetype": "text/x-python",
   "name": "python",
   "nbconvert_exporter": "python",
   "pygments_lexer": "ipython3",
   "version": "3.6.9"
  }
 },
 "nbformat": 4,
 "nbformat_minor": 4
}
