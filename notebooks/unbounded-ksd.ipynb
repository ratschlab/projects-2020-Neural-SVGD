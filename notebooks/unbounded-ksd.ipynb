{
 "cells": [
  {
   "cell_type": "markdown",
   "metadata": {},
   "source": [
    "# Unbounded KSD?"
   ]
  },
  {
   "cell_type": "code",
   "execution_count": 1,
   "metadata": {},
   "outputs": [
    {
     "name": "stderr",
     "output_type": "stream",
     "text": [
      "/home/lauro/.virtualenvs/msc-thesis/lib/python3.8/site-packages/jax/lib/xla_bridge.py:125: UserWarning: No GPU/TPU found, falling back to CPU.\n",
      "  warnings.warn('No GPU/TPU found, falling back to CPU.')\n"
     ]
    }
   ],
   "source": [
    "import sys\n",
    "import os\n",
    "sys.path.append(\"/home/lauro/code/msc-thesis/svgd\")\n",
    "import json_tricks as json\n",
    "import copy\n",
    "\n",
    "import jax.numpy as np\n",
    "from jax import grad, jit, vmap, random, lax, jacfwd, value_and_grad\n",
    "from jax import lax\n",
    "from jax.ops import index_update, index\n",
    "import matplotlib.pyplot as plt\n",
    "import numpy as onp\n",
    "import jax\n",
    "import pandas as pd\n",
    "import haiku as hk\n",
    "from jax.experimental import optimizers\n",
    "\n",
    "import config\n",
    "\n",
    "import utils\n",
    "import metrics\n",
    "import time\n",
    "import plot\n",
    "import stein\n",
    "import run\n",
    "import kernels\n",
    "import svgd\n",
    "\n",
    "from jax.experimental import optimizers\n",
    "\n",
    "rkey = random.PRNGKey(0)"
   ]
  },
  {
   "cell_type": "code",
   "execution_count": 26,
   "metadata": {},
   "outputs": [],
   "source": [
    "init = metrics.Gaussian([1,2,3], 1)\n",
    "target = metrics.Gaussian([0,0,0], 1)"
   ]
  },
  {
   "cell_type": "markdown",
   "metadata": {},
   "source": [
    "### init kernel:"
   ]
  },
  {
   "cell_type": "code",
   "execution_count": 28,
   "metadata": {},
   "outputs": [],
   "source": [
    "layer_sizes = [4, 4, 1]\n",
    "kernel = hk.transform(kernels.make_mlp_ard(layer_sizes))\n",
    "# def deep_kernel(x, y):\n",
    "#     mlp = hk.nets.MLP(output_sizes=[1],\n",
    "#                   w_init=hk.initializers.VarianceScaling(scale=2.0),\n",
    "# #                   b_init=np.ones,\n",
    "#                   activation=jax.nn.relu,\n",
    "#                   activate_final=False)\n",
    "#     return kernels._ard(mlp(x), mlp(y), logh=0)\n",
    "# kernel = hk.transform(deep_kernel)\n",
    "\n",
    "x_dummy, _ = init.sample(2)\n",
    "kernel_params = kernel.init(rkey, x_dummy, x_dummy)"
   ]
  },
  {
   "cell_type": "code",
   "execution_count": 29,
   "metadata": {},
   "outputs": [],
   "source": [
    "@jit\n",
    "def loss(kernel_params, sa, sb):\n",
    "    kernel_fn = lambda x, y: kernel.apply(kernel_params, x, y)\n",
    "    return -stein.ksd_squared(sa, sb, target.logpdf, kernel_fn)"
   ]
  },
  {
   "cell_type": "markdown",
   "metadata": {},
   "source": [
    "### Optimize"
   ]
  },
  {
   "cell_type": "code",
   "execution_count": 30,
   "metadata": {},
   "outputs": [],
   "source": [
    "opt = svgd.Optimizer(*optimizers.adam(0.03))\n",
    "opt_state = opt.init(kernel_params)\n",
    "\n",
    "niter = 100\n",
    "n = 1000\n",
    "ksds = []"
   ]
  },
  {
   "cell_type": "code",
   "execution_count": 31,
   "metadata": {},
   "outputs": [],
   "source": [
    "for step in range(niter):\n",
    "    kernel_params = opt.get_params(opt_state)\n",
    "    sa, sb = init.sample(n*2).split(2)\n",
    "    nksd, g = value_and_grad(loss)(kernel_params, sa, sb)\n",
    "    ksds.append(-nksd)\n",
    "    opt_state = opt.update(step, g, opt_state)"
   ]
  },
  {
   "cell_type": "code",
   "execution_count": 32,
   "metadata": {},
   "outputs": [
    {
     "data": {
      "text/plain": [
       "[<matplotlib.lines.Line2D at 0x7f044c5d0940>]"
      ]
     },
     "execution_count": 32,
     "metadata": {},
     "output_type": "execute_result"
    },
    {
     "data": {
      "image/png": "[encoded data removed]",
      "text/plain": [
       "<Figure size 432x288 with 1 Axes>"
      ]
     },
     "metadata": {
      "needs_background": "light"
     },
     "output_type": "display_data"
    }
   ],
   "source": [
    "plt.plot(ksds, \".\")"
   ]
  },
  {
   "cell_type": "markdown",
   "metadata": {},
   "source": [
    "# What does the MLP part do?"
   ]
  },
  {
   "cell_type": "code",
   "execution_count": 33,
   "metadata": {},
   "outputs": [],
   "source": [
    "def feedforward_fn(x):\n",
    "    mlp = hk.nets.MLP(output_sizes=layer_sizes,\n",
    "                      w_init=hk.initializers.VarianceScaling(scale=2.0),\n",
    "                      activation=jax.nn.relu,\n",
    "                      activate_final=False)\n",
    "    return mlp(x)\n",
    "g = hk.transform(feedforward_fn)"
   ]
  },
  {
   "cell_type": "code",
   "execution_count": 34,
   "metadata": {},
   "outputs": [
    {
     "name": "stdout",
     "output_type": "stream",
     "text": [
      "x: [-0.16195309  1.3072596   3.2912245 ]\n",
      "g(x): [0.]\n"
     ]
    }
   ],
   "source": [
    "x, _ = init.sample(2)\n",
    "print(\"x:\", x)\n",
    "print(\"g(x):\", g.apply(kernel_params, x))"
   ]
  },
  {
   "cell_type": "code",
   "execution_count": 35,
   "metadata": {},
   "outputs": [
    {
     "data": {
      "image/png": "[encoded data removed]",
      "text/plain": [
       "<Figure size 432x288 with 1 Axes>"
      ]
     },
     "metadata": {
      "needs_background": "light"
     },
     "output_type": "display_data"
    }
   ],
   "source": [
    "_ = plt.hist(sa[:, 0])"
   ]
  },
  {
   "cell_type": "code",
   "execution_count": 36,
   "metadata": {},
   "outputs": [
    {
     "data": {
      "image/png": "[encoded data removed]",
      "text/plain": [
       "<Figure size 432x288 with 1 Axes>"
      ]
     },
     "metadata": {
      "needs_background": "light"
     },
     "output_type": "display_data"
    }
   ],
   "source": [
    "_ = plt.hist(g.apply(kernel_params, sa)[:, 0])"
   ]
  },
  {
   "cell_type": "code",
   "execution_count": 37,
   "metadata": {},
   "outputs": [
    {
     "data": {
      "image/png": "[encoded data removed]",
      "text/plain": [
       "<Figure size 432x288 with 1 Axes>"
      ]
     },
     "metadata": {
      "needs_background": "light"
     },
     "output_type": "display_data"
    }
   ],
   "source": [
    "g_params_init = g.init(rkey, x)\n",
    "_ = plt.hist(g.apply(g_params_init, sa)[:, 0])"
   ]
  }
 ],
 "metadata": {
  "kernelspec": {
   "display_name": "msc-thesis",
   "language": "python",
   "name": "msc-thesis"
  },
  "language_info": {
   "codemirror_mode": {
    "name": "ipython",
    "version": 3
   },
   "file_extension": ".py",
   "mimetype": "text/x-python",
   "name": "python",
   "nbconvert_exporter": "python",
   "pygments_lexer": "ipython3",
   "version": "3.8.2"
  }
 },
 "nbformat": 4,
 "nbformat_minor": 4
}
