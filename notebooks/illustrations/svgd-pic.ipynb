{
 "cells": [
  {
   "cell_type": "code",
   "execution_count": 1,
   "metadata": {},
   "outputs": [
    {
     "name": "stderr",
     "output_type": "stream",
     "text": [
      "WARNING:absl:No GPU/TPU found, falling back to CPU. (Set TF_CPP_MIN_LOG_LEVEL=0 and rerun for more info.)\n"
     ]
    }
   ],
   "source": [
    "%load_ext autoreload\n",
    "from jax import config\n",
    "config.update(\"jax_debug_nans\", True)\n",
    "# config.update(\"jax_disable_jit\", True)\n",
    "\n",
    "import sys\n",
    "import os\n",
    "sys.path.append(\"../../learning_particle_gradients/\")\n",
    "from matplotlib.animation import FuncAnimation\n",
    "\n",
    "import jax.numpy as np\n",
    "from jax import grad, jit, vmap, random, lax, jacfwd, value_and_grad\n",
    "from jax.ops import index_update, index\n",
    "import matplotlib.pyplot as plt\n",
    "import matplotlib\n",
    "import numpy as onp\n",
    "import jax\n",
    "import pandas as pd\n",
    "\n",
    "import utils\n",
    "import plot\n",
    "import distributions\n",
    "import models\n",
    "import flows\n",
    "from tqdm import tqdm\n",
    "key = random.PRNGKey(0)\n",
    "\n",
    "import kernels\n",
    "import metrics\n",
    "# import seaborn as sns\n",
    "# sns.set_theme()"
   ]
  },
  {
   "cell_type": "code",
   "execution_count": 2,
   "metadata": {},
   "outputs": [],
   "source": [
    "%autoreload"
   ]
  },
  {
   "cell_type": "code",
   "execution_count": 40,
   "metadata": {},
   "outputs": [],
   "source": [
    "# set up exporting\n",
    "import matplotlib\n",
    "matplotlib.use(\"pgf\")\n",
    "matplotlib.rcParams.update({\n",
    "    \"pgf.texsystem\": \"pdflatex\",\n",
    "#     'font.family': 'serif',\n",
    "#     'text.usetex': True,\n",
    "    'pgf.rcfonts': False,\n",
    "    'axes.unicode_minus': False, # avoid unicode error on saving plots with negative numbers (??)\n",
    "})\n",
    "\n",
    "figure_path = \"/home/lauro/documents/msc-thesis/thesis/defense-presentation/figures/\"\n",
    "# save figures by using plt.savefig('path/to/fig')\n",
    "# remember that latex textwidth is 5.4in\n",
    "# so use figsize=[5.4, 4], for example\n",
    "printsize = [5.4, 4]"
   ]
  },
  {
   "cell_type": "code",
   "execution_count": 7,
   "metadata": {},
   "outputs": [],
   "source": [
    "import stein"
   ]
  },
  {
   "cell_type": "markdown",
   "metadata": {},
   "source": [
    "# 2dim Funnel"
   ]
  },
  {
   "cell_type": "code",
   "execution_count": 6,
   "metadata": {},
   "outputs": [],
   "source": [
    "%matplotlib inline"
   ]
  },
  {
   "cell_type": "code",
   "execution_count": 28,
   "metadata": {},
   "outputs": [],
   "source": [
    "# plots\n",
    "target = distributions.squiggle_target.target\n",
    "q = distributions.Gaussian([-1, 0], [1,1])\n",
    "samples = q.sample(100)"
   ]
  },
  {
   "cell_type": "code",
   "execution_count": 29,
   "metadata": {},
   "outputs": [],
   "source": [
    "phi = stein.get_phistar(kernels.get_rbf_kernel(1.), target.logpdf, samples)"
   ]
  },
  {
   "cell_type": "code",
   "execution_count": 45,
   "metadata": {},
   "outputs": [
    {
     "data": {
      "text/plain": [
       "[5.4, 4]"
      ]
     },
     "execution_count": 45,
     "metadata": {},
     "output_type": "execute_result"
    }
   ],
   "source": [
    "printsize"
   ]
  },
  {
   "cell_type": "code",
   "execution_count": 48,
   "metadata": {},
   "outputs": [],
   "source": [
    "printsize = [4, 2]"
   ]
  },
  {
   "cell_type": "code",
   "execution_count": 57,
   "metadata": {},
   "outputs": [
    {
     "data": {
      "image/png": "[encoded data removed]",
      "text/plain": [
       "<Figure size 288x144 with 1 Axes>"
      ]
     },
     "metadata": {
      "needs_background": "light"
     },
     "output_type": "display_data"
    }
   ],
   "source": [
    "fig, ax = plt.subplots(figsize=printsize)\n",
    "lim=[-2,2]\n",
    "ax.set(xlim=lim, ylim=lim)\n",
    "ax.axis(\"off\")\n",
    "\n",
    "n = 25\n",
    "plot.plot_fun_2d(target.pdf,lims=[-2,2], type=\"contour\")\n",
    "plot.scatter(samples[:n], color=\"tab:orange\")\n",
    "\n",
    "\n",
    "for x in samples[:n]:\n",
    "    plt.arrow(*x, *phi(x)/10, length_includes_head=True,\n",
    "          head_width=0.05, head_length=0.05, color=\"black\", zorder=4)\n",
    "\n",
    "for item in [fig, ax]:\n",
    "    item.patch.set_visible(False)\n",
    "    \n",
    "plot.scatter(samples[:n], color=\"tab:orange\", zorder=2)\n",
    "\n",
    "\n",
    "plt.savefig(figure_path + \"svgd.pgf\", transparent=True)"
   ]
  },
  {
   "cell_type": "code",
   "execution_count": 34,
   "metadata": {},
   "outputs": [
    {
     "data": {
      "text/plain": [
       "\u001b[0;31mSignature:\u001b[0m \u001b[0mplt\u001b[0m\u001b[0;34m.\u001b[0m\u001b[0marrow\u001b[0m\u001b[0;34m(\u001b[0m\u001b[0mx\u001b[0m\u001b[0;34m,\u001b[0m \u001b[0my\u001b[0m\u001b[0;34m,\u001b[0m \u001b[0mdx\u001b[0m\u001b[0;34m,\u001b[0m \u001b[0mdy\u001b[0m\u001b[0;34m,\u001b[0m \u001b[0;34m**\u001b[0m\u001b[0mkwargs\u001b[0m\u001b[0;34m)\u001b[0m\u001b[0;34m\u001b[0m\u001b[0;34m\u001b[0m\u001b[0m\n",
       "\u001b[0;31mDocstring:\u001b[0m\n",
       "Add an arrow to the axes.\n",
       "\n",
       "This draws an arrow from ``(x, y)`` to ``(x+dx, y+dy)``.\n",
       "\n",
       "Parameters\n",
       "----------\n",
       "x, y : float\n",
       "    The x and y coordinates of the arrow base.\n",
       "\n",
       "dx, dy : float\n",
       "    The length of the arrow along x and y direction.\n",
       "\n",
       "width: float, default: 0.001\n",
       "    Width of full arrow tail.\n",
       "\n",
       "length_includes_head: bool, default: False\n",
       "    True if head is to be counted in calculating the length.\n",
       "\n",
       "head_width: float or None, default: 3*width\n",
       "    Total width of the full arrow head.\n",
       "\n",
       "head_length: float or None, default: 1.5*head_width\n",
       "    Length of arrow head.\n",
       "\n",
       "shape: ['full', 'left', 'right'], default: 'full'\n",
       "    Draw the left-half, right-half, or full arrow.\n",
       "\n",
       "overhang: float, default: 0\n",
       "    Fraction that the arrow is swept back (0 overhang means\n",
       "    triangular shape). Can be negative or greater than one.\n",
       "\n",
       "head_starts_at_zero: bool, default: False\n",
       "    If True, the head starts being drawn at coordinate 0\n",
       "    instead of ending at coordinate 0.\n",
       "\n",
       "**kwargs\n",
       "    `.Patch` properties:\n",
       "\n",
       "    Properties:\n",
       "    agg_filter: a filter function, which takes a (m, n, 3) float array and a dpi value, and returns a (m, n, 3) array\n",
       "    alpha: float or None\n",
       "    animated: bool\n",
       "    antialiased or aa: unknown\n",
       "    capstyle: {'butt', 'round', 'projecting'}\n",
       "    clip_box: `.Bbox`\n",
       "    clip_on: bool\n",
       "    clip_path: Patch or (Path, Transform) or None\n",
       "    color: color\n",
       "    contains: unknown\n",
       "    edgecolor or ec: color or None or 'auto'\n",
       "    facecolor or fc: color or None\n",
       "    figure: `.Figure`\n",
       "    fill: bool\n",
       "    gid: str\n",
       "    hatch: {'/', '\\\\', '|', '-', '+', 'x', 'o', 'O', '.', '*'}\n",
       "    in_layout: bool\n",
       "    joinstyle: {'miter', 'round', 'bevel'}\n",
       "    label: object\n",
       "    linestyle or ls: {'-', '--', '-.', ':', '', (offset, on-off-seq), ...}\n",
       "    linewidth or lw: float or None\n",
       "    path_effects: `.AbstractPathEffect`\n",
       "    picker: None or bool or callable\n",
       "    rasterized: bool or None\n",
       "    sketch_params: (scale: float, length: float, randomness: float)\n",
       "    snap: bool or None\n",
       "    transform: `.Transform`\n",
       "    url: str\n",
       "    visible: bool\n",
       "    zorder: float\n",
       "\n",
       "Returns\n",
       "-------\n",
       "`.FancyArrow`\n",
       "    The created `.FancyArrow` object.\n",
       "\n",
       "Notes\n",
       "-----\n",
       "The resulting arrow is affected by the axes aspect ratio and limits.\n",
       "This may produce an arrow whose head is not square with its stem. To\n",
       "create an arrow whose head is square with its stem,\n",
       "use :meth:`annotate` for example:\n",
       "\n",
       ">>> ax.annotate(\"\", xy=(0.5, 0.5), xytext=(0, 0),\n",
       "...             arrowprops=dict(arrowstyle=\"->\"))\n",
       "\u001b[0;31mFile:\u001b[0m      ~/.virtualenvs/msc-thesis/lib/python3.8/site-packages/matplotlib/pyplot.py\n",
       "\u001b[0;31mType:\u001b[0m      function\n"
      ]
     },
     "metadata": {},
     "output_type": "display_data"
    }
   ],
   "source": [
    "plt.arrow?"
   ]
  },
  {
   "cell_type": "code",
   "execution_count": null,
   "metadata": {},
   "outputs": [],
   "source": []
  }
 ],
 "metadata": {
  "kernelspec": {
   "display_name": "msc-thesis",
   "language": "python",
   "name": "msc-thesis"
  },
  "language_info": {
   "codemirror_mode": {
    "name": "ipython",
    "version": 3
   },
   "file_extension": ".py",
   "mimetype": "text/x-python",
   "name": "python",
   "nbconvert_exporter": "python",
   "pygments_lexer": "ipython3",
   "version": "3.8.5"
  }
 },
 "nbformat": 4,
 "nbformat_minor": 4
}
