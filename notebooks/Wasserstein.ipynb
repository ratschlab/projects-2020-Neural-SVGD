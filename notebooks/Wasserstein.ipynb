{
 "cells": [
  {
   "cell_type": "markdown",
   "metadata": {},
   "source": [
    "# Wasserstein distance estimation"
   ]
  },
  {
   "cell_type": "code",
   "execution_count": 1,
   "metadata": {},
   "outputs": [
    {
     "name": "stderr",
     "output_type": "stream",
     "text": [
      "/home/lauro/.virtualenvs/msc-thesis/lib/python3.6/site-packages/jax/lib/xla_bridge.py:116: UserWarning: No GPU/TPU found, falling back to CPU.\n",
      "  warnings.warn('No GPU/TPU found, falling back to CPU.')\n"
     ]
    }
   ],
   "source": [
    "import sys\n",
    "sys.path.append(\"/home/lauro/code/msc-thesis/svgd\")\n",
    "\n",
    "import jax\n",
    "import jax.numpy as np\n",
    "from jax import grad, jit, vmap, random, lax, jacfwd\n",
    "from jax import lax\n",
    "from jax.ops import index_update, index\n",
    "from jax.experimental import optimizers\n",
    "\n",
    "import matplotlib.pyplot as plt\n",
    "import numpy as onp\n",
    "from tqdm import tqdm\n",
    "import time\n",
    "from functools import partial\n",
    "\n",
    "import utils\n",
    "import metrics\n",
    "import plot\n",
    "from svgd import SVGD\n",
    "import svgd\n",
    "import stein\n",
    "import kernels\n",
    "import train\n",
    "\n",
    "rkey = random.PRNGKey(0)\n",
    "\n",
    "from jax.config import config; config.update(\"jax_log_compiles\", 1)"
   ]
  },
  {
   "cell_type": "markdown",
   "metadata": {},
   "source": [
    "## Analytical Wasserstein distance between two gaussians"
   ]
  },
  {
   "cell_type": "markdown",
   "metadata": {},
   "source": [
    "Let $\\mu_{1}=\\mathcal{N}\\left(m_{1}, C_{1}\\right)$ and $\\mu_{2}=\\mathcal{N}\\left(m_{2}, C_{2}\\right)$ be two non-degenerate Gaussian measures (i.e. normal distributions) on $\\mathbb{R}^{n},$ with respective expected values $m_{1}$ and $m_{2} \\in \\mathbb{R}^{n}$ and symmetric positive semi-definite covariance matrices $C_{1}$ and $C_{2} \\in \\mathbb{R}^{n \\times n} .$ Then, with respect to the usual Euclidean norm on $\\mathbb{R}^{n},$ the 2\n",
    "Wasserstein distance between $\\mu_{1}$ and $\\mu_{2}$ is\n",
    "\n",
    "$$W_{2}\\left(\\mu_{1}, \\mu_{2}\\right)^{2}=\\left\\|m_{1}-m_{2}\\right\\|_{2}^{2}+\\operatorname{trace}\\left(C_{1}+C_{2}-2\\left(C_{2}^{1 / 2} C_{1} C_{2}^{1 / 2}\\right)^{1 / 2}\\right)$$"
   ]
  },
  {
   "cell_type": "markdown",
   "metadata": {},
   "source": [
    "## Wasserstein distance between two discrete distributions"
   ]
  },
  {
   "cell_type": "markdown",
   "metadata": {},
   "source": [
    "See the scipy implementation [here](https://github.com/scipy/scipy/blob/adc4f4f7bab120ccfab9383aba272954a0a12fb0/scipy/stats/stats.py#L7094)."
   ]
  },
  {
   "cell_type": "code",
   "execution_count": 3,
   "metadata": {},
   "outputs": [],
   "source": [
    "from stats import wasserstein_distance"
   ]
  },
  {
   "cell_type": "code",
   "execution_count": 4,
   "metadata": {},
   "outputs": [
    {
     "name": "stderr",
     "output_type": "stream",
     "text": [
      "/home/lauro/.virtualenvs/msc-thesis/lib/python3.6/site-packages/jax/lax/lax.py:5385: UserWarning: Explicitly requested dtype <class 'float'> requested in asarray is not available, and will be truncated to dtype float32. To enable more dtypes, set the jax_enable_x64 configuration option or the JAX_ENABLE_X64 shell environment variable. See https://github.com/google/jax#current-gotchas for more.\n",
      "  warnings.warn(msg.format(dtype, fun_name , truncated_dtype))\n",
      "/home/lauro/.virtualenvs/msc-thesis/lib/python3.6/site-packages/jax/lax/lax.py:5385: UserWarning: Explicitly requested dtype <class 'float'> requested in array is not available, and will be truncated to dtype float32. To enable more dtypes, set the jax_enable_x64 configuration option or the JAX_ENABLE_X64 shell environment variable. See https://github.com/google/jax#current-gotchas for more.\n",
      "  warnings.warn(msg.format(dtype, fun_name , truncated_dtype))\n",
      "/home/lauro/.virtualenvs/msc-thesis/lib/python3.6/site-packages/jax/numpy/lax_numpy.py:3002: UserWarning: 'kind' argument to sort is ignored.\n",
      "  warnings.warn(\"'kind' argument to sort is ignored.\")\n",
      "WARNING:absl:Compiling _searchsorted for args (ShapedArray(float32[3]), ShapedArray(float32[5])).\n"
     ]
    },
    {
     "data": {
      "text/plain": [
       "DeviceArray(5., dtype=float32)"
      ]
     },
     "execution_count": 4,
     "metadata": {},
     "output_type": "execute_result"
    }
   ],
   "source": [
    "a = [0, 1, 3]\n",
    "b = [5, 6, 8]\n",
    "wasserstein_distance(a, b)"
   ]
  },
  {
   "cell_type": "markdown",
   "metadata": {},
   "source": [
    "## Wasserstein distance between sample and density"
   ]
  },
  {
   "cell_type": "code",
   "execution_count": null,
   "metadata": {},
   "outputs": [],
   "source": []
  }
 ],
 "metadata": {
  "kernelspec": {
   "display_name": "msc-thesis",
   "language": "python",
   "name": "msc-thesis"
  },
  "language_info": {
   "codemirror_mode": {
    "name": "ipython",
    "version": 3
   },
   "file_extension": ".py",
   "mimetype": "text/x-python",
   "name": "python",
   "nbconvert_exporter": "python",
   "pygments_lexer": "ipython3",
   "version": "3.6.9"
  }
 },
 "nbformat": 4,
 "nbformat_minor": 4
}
