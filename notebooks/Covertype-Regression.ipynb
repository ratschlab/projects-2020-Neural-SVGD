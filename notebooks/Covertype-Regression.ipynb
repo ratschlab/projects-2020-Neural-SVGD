{
 "cells": [
  {
   "cell_type": "markdown",
   "metadata": {},
   "source": [
    "# Covertype"
   ]
  },
  {
   "cell_type": "code",
   "execution_count": 54,
   "metadata": {},
   "outputs": [
    {
     "name": "stdout",
     "output_type": "stream",
     "text": [
      "The autoreload extension is already loaded. To reload it, use:\n",
      "  %reload_ext autoreload\n"
     ]
    }
   ],
   "source": [
    "%load_ext autoreload\n",
    "import sys\n",
    "import os\n",
    "sys.path.append(\"/home/lauro/code/msc-thesis/svgd/kernel_learning/\")\n",
    "from tqdm import tqdm\n",
    "\n",
    "import jax.numpy as jnp\n",
    "import jax.numpy as np\n",
    "from jax import grad, jit, vmap, random, lax, jacfwd, value_and_grad\n",
    "from jax.ops import index_update, index\n",
    "import matplotlib.pyplot as plt\n",
    "import matplotlib\n",
    "import numpy as onp\n",
    "import jax\n",
    "import pandas as pd\n",
    "    \n",
    "import utils\n",
    "import plot\n",
    "import distributions\n",
    "import stein\n",
    "import models\n",
    "import flows\n",
    "from itertools import cycle, islice\n",
    "    \n",
    "key = random.PRNGKey(0)\n",
    "\n",
    "from sklearn.model_selection import train_test_split\n",
    "\n",
    "from functools import partial\n",
    "import kernels\n",
    "\n",
    "import matplotlib.pyplot as plt\n",
    "import seaborn as sns\n",
    "from sklearn import datasets\n",
    "sns.set(style='white')\n",
    "\n",
    "from tensorflow_probability.substrates import jax as tfp\n",
    "tfd = tfp.distributions\n",
    "tfb = tfp.bijectors\n",
    "tfpk = tfp.math.psd_kernels"
   ]
  },
  {
   "cell_type": "code",
   "execution_count": 4,
   "metadata": {
    "colab": {},
    "colab_type": "code",
    "id": "0HHsy5lsf_S7"
   },
   "outputs": [],
   "source": [
    "covtype = datasets.fetch_covtype()\n",
    "features, labels = covtype['data'], covtype['target']\n",
    "\n",
    "num_features = features.shape[-1]\n",
    "num_classes = len(onp.unique(labels))"
   ]
  },
  {
   "cell_type": "code",
   "execution_count": 5,
   "metadata": {},
   "outputs": [],
   "source": [
    "x_train, x_test, y_train, y_test = train_test_split(features, labels, test_size=0.2, random_state=42)"
   ]
  },
  {
   "cell_type": "markdown",
   "metadata": {},
   "source": [
    "# TODO: need to normalize data, etc before stuff will work"
   ]
  },
  {
   "cell_type": "code",
   "execution_count": 53,
   "metadata": {},
   "outputs": [],
   "source": [
    "def get_batches(x, y, n_steps=500, batch_size=500):\n",
    "    \"\"\"Split x and y into batches\"\"\"\n",
    "    assert len(x) == len(y)\n",
    "    batch_cycle = cycle(zip(*[onp.array_split(data, len(data)//batch_size) for data in (x, y)]))\n",
    "    return islice(batch_cycle, n_steps)\n",
    "\n",
    "num_batches = len(x_train) // 500"
   ]
  },
  {
   "cell_type": "code",
   "execution_count": 55,
   "metadata": {},
   "outputs": [],
   "source": [
    "batches = get_batches(x_train, y_train, batch_size=5)"
   ]
  },
  {
   "cell_type": "markdown",
   "metadata": {
    "colab_type": "text",
    "id": "9pXr2atnk8xA"
   },
   "source": [
    "We can define the model using `tfd.JointDistributionCoroutine`. We'll put standard normal priors on both the weights and the bias term then write a `target_log_prob` function that pins the sampled labels to the data."
   ]
  },
  {
   "cell_type": "code",
   "execution_count": 8,
   "metadata": {
    "colab": {},
    "colab_type": "code",
    "id": "0Ri7RxnekWUr"
   },
   "outputs": [],
   "source": [
    "Root = tfd.JointDistributionCoroutine.Root\n",
    "\n",
    "def get_model(features_batch):\n",
    "    def model():\n",
    "        \"\"\"generator\"\"\"\n",
    "        w = yield Root(tfd.Sample(tfd.Normal(0., 1.), sample_shape=(num_features, num_classes), name=\"w\"))\n",
    "        b = yield Root(tfd.Sample(tfd.Normal(0., 1.), sample_shape=(num_classes,),              name=\"b\"))\n",
    "        logits = jnp.dot(features_batch, w) + b\n",
    "        _ = yield tfd.Independent(tfd.Categorical(logits=logits), reinterpreted_batch_ndims=1, name=\"labels\")\n",
    "    return model\n",
    "\n",
    "\n",
    "def get_logp(x_batch, y_batch):\n",
    "    \"\"\"Stochastic estimate of the log-density (up to additive constant)\n",
    "    based on batch\"\"\"\n",
    "    def logp(params):\n",
    "        dist = tfd.JointDistributionCoroutine(get_model(x_batch))\n",
    "        return dist.log_prob(tuple(params) + (y_batch,))\n",
    "    return logp\n",
    "\n",
    "dist = tfd.JointDistributionCoroutine(get_model(x_train[:300]))"
   ]
  },
  {
   "cell_type": "markdown",
   "metadata": {},
   "source": [
    "Note that we have two distinct types of batching going on: we're using batches of data to estimate the gradient $\\nabla \\log p$, and then we're mapping that gradient over a set of particles."
   ]
  },
  {
   "cell_type": "code",
   "execution_count": 9,
   "metadata": {},
   "outputs": [
    {
     "name": "stdout",
     "output_type": "stream",
     "text": [
      "-24053.352\n",
      "-24053.352\n"
     ]
    },
    {
     "data": {
      "text/plain": [
       "DeviceArray([-51325.812 , -42315.832 , -19196.648 ,  -3738.0188,\n",
       "             -15562.641 ], dtype=float32)"
      ]
     },
     "execution_count": 9,
     "metadata": {},
     "output_type": "execute_result"
    }
   ],
   "source": [
    "x, y = next(batches)\n",
    "logp = get_logp(x, y)\n",
    "\n",
    "dist = tfd.JointDistributionCoroutine(get_model(x))\n",
    "*params, label = dist.sample(seed=key)\n",
    "print(dist.log_prob(params + [y]))\n",
    "print(logp(params))\n",
    "\n",
    "# now batched!\n",
    "*params, label = dist.sample(5, seed=key)\n",
    "vmap(logp)(params)"
   ]
  },
  {
   "cell_type": "markdown",
   "metadata": {},
   "source": [
    "# Run inference using minibatches"
   ]
  },
  {
   "cell_type": "markdown",
   "metadata": {},
   "source": [
    "We can ravel (flatten) and unravel parameters like so:"
   ]
  },
  {
   "cell_type": "code",
   "execution_count": 10,
   "metadata": {},
   "outputs": [],
   "source": [
    "params = dist.sample(seed=key)[:-1]\n",
    "params_flat, unravel = jax.flatten_util.ravel_pytree(params)\n",
    "# unravel(params_flat) == params\n",
    "# [a == b for a, b in zip(unravel(params_flat), params)]"
   ]
  },
  {
   "cell_type": "code",
   "execution_count": 11,
   "metadata": {},
   "outputs": [],
   "source": [
    "def get_flat_logp(x_batch, y_batch):\n",
    "    logp = get_logp(x_batch, y_batch)\n",
    "    def flat_logp(params_flat):\n",
    "        return logp(unravel(params_flat))\n",
    "    return flat_logp\n",
    "\n",
    "def ravel(params):\n",
    "    flat, _ = jax.flatten_util.ravel_pytree(params)\n",
    "    return flat\n",
    "\n",
    "def batch_ravel(batch):\n",
    "    return vmap(ravel)(batch)\n",
    "\n",
    "def batch_unravel(batch_flat):\n",
    "    return vmap(unravel)(batch_flat)"
   ]
  },
  {
   "cell_type": "code",
   "execution_count": 12,
   "metadata": {},
   "outputs": [],
   "source": [
    "def run_lmc(key, init_batch):\n",
    "    \"\"\"init_batch is a batch of initial samples / particles.\"\"\"\n",
    "    particles = batch_ravel(init_batch)\n",
    "    eta = 1e-3\n",
    "    logps = []\n",
    "\n",
    "    @jit\n",
    "    def step(key, particles, x, y):\n",
    "        logp = get_flat_logp(x, y)\n",
    "        log_probs, grads = vmap(value_and_grad(logp))(particles)\n",
    "        particles += eta * grads + np.sqrt(2*eta) * random.normal(key, shape=particles.shape)\n",
    "        return particles, log_probs\n",
    "\n",
    "    n_steps = num_batches*2\n",
    "    for x, y in tqdm(get_batches(x_train, y_train, n_steps), total=n_steps):\n",
    "        key, subkey = random.split(key)\n",
    "        particles, log_probs = step(subkey, particles, x, y)\n",
    "        logps.append(log_probs)\n",
    "    return batch_unravel(particles), np.array(logps)"
   ]
  },
  {
   "cell_type": "code",
   "execution_count": 13,
   "metadata": {},
   "outputs": [],
   "source": [
    "def run_svgd(init_batch):\n",
    "    \"\"\"init_batch is a batch of initial samples / particles.\"\"\"\n",
    "    particles = batch_ravel(init_batch)\n",
    "    eta = 1e-3\n",
    "    logps = []\n",
    "\n",
    "    @jit\n",
    "    def step(particles, x, y):\n",
    "        logp = get_flat_logp(x, y)\n",
    "        kernel = kernels.get_rbf_kernel(kernels.median_heuristic(particles))\n",
    "        phistar = stein.get_phistar(kernel, logp, particles)\n",
    "        log_probs = vmap(logp)(particles)\n",
    "        return particles + eta * vmap(phistar)(particles), log_probs\n",
    "\n",
    "    n_steps = num_batches*2\n",
    "    for x, y in tqdm(get_batches(x_train, y_train, n_steps), total=n_steps):\n",
    "        particles, log_probs = step(particles, x, y)\n",
    "        logps.append(log_probs)\n",
    "    return batch_unravel(particles), np.array(logps)"
   ]
  },
  {
   "cell_type": "code",
   "execution_count": 14,
   "metadata": {},
   "outputs": [],
   "source": [
    "# def run_neural_svgd(key, init_batch):\n",
    "#     \"\"\"init_batch is a batch of initial samples / particles.\"\"\"\n",
    "#     init_batch = batch_ravel(init_batch)\n",
    "#     key, keya, keyb = random.split(key, 3)\n",
    "#     learner = models.SDLearner(target_logp=logp, target_dim=init_batch.shape[1], key=keya)\n",
    "\n",
    "#     particles = models.Particles(key=keyb,\n",
    "#                                  gradient=learner.gradient,\n",
    "#                                  init_samples=init_batch,\n",
    "#                                  learning_rate=1e-3,\n",
    "#                                  num_groups=2)\n",
    "#     next_batch = partial(particles.next_batch, batch_size=None)\n",
    "#     for x, y in get_batches(x_train, y_train, 10):\n",
    "#         key, subkey = random.split(key)\n",
    "#         learner.train(next_batch, key=subkey, n_steps=1)\n",
    "#         particles.step(learner.get_params())\n",
    "#     return batch_unravel(particles.particles.training), learner, particles"
   ]
  },
  {
   "cell_type": "code",
   "execution_count": 15,
   "metadata": {},
   "outputs": [
    {
     "name": "stderr",
     "output_type": "stream",
     "text": [
      "100%|██████████| 1858/1858 [00:11<00:00, 159.77it/s]\n",
      "100%|██████████| 1858/1858 [00:53<00:00, 34.96it/s]\n"
     ]
    }
   ],
   "source": [
    "init_batch = dist.sample(100, seed=key)[:-1]\n",
    "lmc_samples, lmc_logps = run_lmc(key, init_batch)\n",
    "svgd_samples, svgd_logps = run_svgd(init_batch)\n",
    "# neural_samples, neural_gradient, neural_particles = run_neural_svgd(key, init_batch)"
   ]
  },
  {
   "cell_type": "markdown",
   "metadata": {},
   "source": [
    "## Evaluate samples on test set"
   ]
  },
  {
   "cell_type": "code",
   "execution_count": 16,
   "metadata": {},
   "outputs": [],
   "source": [
    "@jit\n",
    "def test_accuracy(samples):\n",
    "    # get logits\n",
    "    test_dist = tfd.JointDistributionCoroutine(get_model(x_test))\n",
    "\n",
    "    def get_logits(params):\n",
    "        \"\"\"Returns logits shaped (n, 7), 7 being nr of categories\"\"\"\n",
    "        dists, _ = test_dist.sample_distributions(seed=random.PRNGKey(0), value=params + (None,))\n",
    "        logits = dists[-1].distribution.probs_parameter()\n",
    "        return logits\n",
    "    logits = vmap(get_logits)(samples)\n",
    "    return np.mean(logits.mean(axis=0).argmax(axis=-1) == y_test)"
   ]
  },
  {
   "cell_type": "code",
   "execution_count": 17,
   "metadata": {},
   "outputs": [
    {
     "data": {
      "text/plain": [
       "DeviceArray(0.43242428, dtype=float32)"
      ]
     },
     "execution_count": 17,
     "metadata": {},
     "output_type": "execute_result"
    }
   ],
   "source": [
    "test_accuracy(lmc_samples)"
   ]
  },
  {
   "cell_type": "code",
   "execution_count": 18,
   "metadata": {},
   "outputs": [
    {
     "data": {
      "text/plain": [
       "DeviceArray(0.3680628, dtype=float32)"
      ]
     },
     "execution_count": 18,
     "metadata": {},
     "output_type": "execute_result"
    }
   ],
   "source": [
    "test_accuracy(svgd_samples)"
   ]
  },
  {
   "cell_type": "code",
   "execution_count": 19,
   "metadata": {},
   "outputs": [
    {
     "name": "stdout",
     "output_type": "stream",
     "text": [
      "0.10732081\n",
      "14.285714285714286\n"
     ]
    }
   ],
   "source": [
    "print(test_accuracy(dist.sample(500, seed=key)[:-1]))\n",
    "print(100/7)"
   ]
  },
  {
   "cell_type": "code",
   "execution_count": 42,
   "metadata": {},
   "outputs": [
    {
     "data": {
      "text/plain": [
       "DescribeResult(nobs=37800, minmax=(-1886.4893, 1460.1361), mean=0.0056622326, variance=42752.953, skewness=-2.643146276473999, kurtosis=38.401330486692686)"
      ]
     },
     "execution_count": 42,
     "metadata": {},
     "output_type": "execute_result"
    }
   ],
   "source": [
    "scipy.stats.describe(lmc_samples[0].flatten())"
   ]
  },
  {
   "cell_type": "markdown",
   "metadata": {},
   "source": [
    "### compute test log-likelihood"
   ]
  },
  {
   "cell_type": "code",
   "execution_count": 20,
   "metadata": {},
   "outputs": [
    {
     "data": {
      "text/plain": [
       "(116203, 54)"
      ]
     },
     "execution_count": 20,
     "metadata": {},
     "output_type": "execute_result"
    }
   ],
   "source": [
    "x_test.shape"
   ]
  },
  {
   "cell_type": "code",
   "execution_count": 21,
   "metadata": {},
   "outputs": [],
   "source": [
    "test_batches = get_batches(x_test, y_test, batch_size=5000)"
   ]
  },
  {
   "cell_type": "code",
   "execution_count": 22,
   "metadata": {},
   "outputs": [],
   "source": [
    "x, y = next(test_batches)\n",
    "test_logp = get_logp(x, y)"
   ]
  },
  {
   "cell_type": "code",
   "execution_count": 32,
   "metadata": {},
   "outputs": [
    {
     "data": {
      "text/plain": [
       "<matplotlib.legend.Legend at 0x7f602ff70d60>"
      ]
     },
     "execution_count": 32,
     "metadata": {},
     "output_type": "execute_result"
    },
    {
     "data": {
      "image/png": "[encoded data removed]",
      "text/plain": [
       "<Figure size 432x288 with 1 Axes>"
      ]
     },
     "metadata": {},
     "output_type": "display_data"
    }
   ],
   "source": [
    "plt.plot(svgd_logps.mean(axis=1), label=\"SVGD\");\n",
    "plt.plot(lmc_logps.mean(axis=1), label=\"LMC\");\n",
    "plt.legend()"
   ]
  },
  {
   "cell_type": "code",
   "execution_count": 27,
   "metadata": {},
   "outputs": [],
   "source": [
    "lmc_test_logp = np.mean(vmap(test_logp)(lmc_samples))\n",
    "svgd_test_logp = np.mean(vmap(test_logp)(svgd_samples))"
   ]
  },
  {
   "cell_type": "code",
   "execution_count": 34,
   "metadata": {},
   "outputs": [
    {
     "data": {
      "text/plain": [
       "<matplotlib.legend.Legend at 0x7f60382c3b20>"
      ]
     },
     "execution_count": 34,
     "metadata": {},
     "output_type": "execute_result"
    },
    {
     "data": {
      "image/png": "[encoded data removed]",
      "text/plain": [
       "<Figure size 576x360 with 1 Axes>"
      ]
     },
     "metadata": {},
     "output_type": "display_data"
    }
   ],
   "source": [
    "fig, ax = plt.subplots(figsize=[8, 5])\n",
    "ax.plot(svgd_logps.mean(axis=1), label=\"SVGD\")\n",
    "ax.axhline(y=svgd_test_logp, label=\"SVGD test\", color=\"tab:blue\")\n",
    "\n",
    "ax.plot(lmc_logps.mean(axis=1), label=\"LMC\")\n",
    "ax.axhline(y=lmc_test_logp, label=\"LMC test\", color=\"tab:orange\")\n",
    "\n",
    "plt.legend()"
   ]
  }
 ],
 "metadata": {
  "kernelspec": {
   "display_name": "msc-thesis",
   "language": "python",
   "name": "msc-thesis"
  },
  "language_info": {
   "codemirror_mode": {
    "name": "ipython",
    "version": 3
   },
   "file_extension": ".py",
   "mimetype": "text/x-python",
   "name": "python",
   "nbconvert_exporter": "python",
   "pygments_lexer": "ipython3",
   "version": "3.8.5"
  }
 },
 "nbformat": 4,
 "nbformat_minor": 4
}
