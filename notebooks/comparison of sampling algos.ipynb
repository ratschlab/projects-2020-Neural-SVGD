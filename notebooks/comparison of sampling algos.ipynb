{
 "cells": [
  {
   "cell_type": "markdown",
   "metadata": {},
   "source": [
    "# Compare different sampling algorithms"
   ]
  },
  {
   "cell_type": "code",
   "execution_count": 8,
   "metadata": {},
   "outputs": [],
   "source": [
    "def eight_schools(J, sigma, y=None):\n",
    "    mu = numpyro.sample('mu', dist.Normal(0, 5))\n",
    "    tau = numpyro.sample('tau', dist.HalfCauchy(5))\n",
    "    with numpyro.plate('J', J):\n",
    "        theta = numpyro.sample('theta', dist.Normal(mu, tau))\n",
    "        numpyro.sample('obs', dist.Normal(theta, sigma), obs=y)\n"
   ]
  },
  {
   "cell_type": "code",
   "execution_count": 9,
   "metadata": {},
   "outputs": [
    {
     "name": "stderr",
     "output_type": "stream",
     "text": [
      "sample: 100%|██████████| 1500/1500 [00:05<00:00, 297.08it/s, 7 steps of size 2.77e-01. acc. prob=0.76]  \n"
     ]
    }
   ],
   "source": [
    "nuts_kernel = NUTS(eight_schools)\n",
    "mcmc = MCMC(nuts_kernel, num_warmup=500, num_samples=1000)\n",
    "rng_key = random.PRNGKey(0)\n",
    "mcmc.run(rng_key, J, sigma, y=y, extra_fields=('potential_energy',))\n"
   ]
  },
  {
   "cell_type": "code",
   "execution_count": 10,
   "metadata": {},
   "outputs": [
    {
     "name": "stdout",
     "output_type": "stream",
     "text": [
      "\n",
      "                mean       std    median      5.0%     95.0%     n_eff     r_hat\n",
      "        mu      4.56      2.94      4.72     -0.48      9.02    209.48      1.00\n",
      "       tau      4.59      3.32      3.63      0.95      8.78    100.77      1.00\n",
      "  theta[0]      6.99      6.16      6.09     -3.43     16.85    340.16      1.00\n",
      "  theta[1]      5.09      4.86      5.17     -2.64     12.71    385.50      1.00\n",
      "  theta[2]      4.12      5.31      4.42     -4.35     13.10    396.04      1.00\n",
      "  theta[3]      4.98      5.00      5.14     -3.13     12.09    520.83      1.00\n",
      "  theta[4]      3.38      4.68      3.65     -3.33     11.41    344.31      1.00\n",
      "  theta[5]      4.15      4.93      4.55     -3.46     12.20    307.29      1.00\n",
      "  theta[6]      7.13      5.27      6.57     -1.15     15.38    241.43      1.00\n",
      "  theta[7]      5.36      5.89      5.05     -3.64     14.45    519.28      1.00\n",
      "\n",
      "Number of divergences: 9\n"
     ]
    }
   ],
   "source": [
    "mcmc.print_summary()"
   ]
  },
  {
   "cell_type": "code",
   "execution_count": null,
   "metadata": {},
   "outputs": [],
   "source": []
  }
 ],
 "metadata": {
  "kernelspec": {
   "display_name": "msc-thesis",
   "language": "python",
   "name": "msc-thesis"
  },
  "language_info": {
   "codemirror_mode": {
    "name": "ipython",
    "version": 3
   },
   "file_extension": ".py",
   "mimetype": "text/x-python",
   "name": "python",
   "nbconvert_exporter": "python",
   "pygments_lexer": "ipython3",
   "version": "3.6.9"
  }
 },
 "nbformat": 4,
 "nbformat_minor": 4
}
