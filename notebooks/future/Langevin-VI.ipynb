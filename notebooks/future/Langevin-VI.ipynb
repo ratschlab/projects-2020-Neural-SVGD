{
 "cells": [
  {
   "cell_type": "markdown",
   "metadata": {},
   "source": [
    "# Amortized Langevin dynamics"
   ]
  },
  {
   "cell_type": "code",
   "execution_count": 103,
   "metadata": {},
   "outputs": [
    {
     "name": "stdout",
     "output_type": "stream",
     "text": [
      "The autoreload extension is already loaded. To reload it, use:\n",
      "  %reload_ext autoreload\n"
     ]
    }
   ],
   "source": [
    "%load_ext autoreload\n",
    "import sys\n",
    "sys.path.append(\"../../learning_particle_gradients/\")\n",
    "\n",
    "\n",
    "\n",
    "import numpy as onp\n",
    "import jax\n",
    "from jax import numpy as jnp\n",
    "from jax import jit, grad, value_and_grad, vmap, config, random, jacfwd\n",
    "config.update(\"jax_debug_nans\", True)\n",
    "from jax.ops import index_update, index\n",
    "import matplotlib.pyplot as plt\n",
    "from tqdm import tqdm\n",
    "\n",
    "import haiku as hk\n",
    "import optax\n",
    "\n",
    "import distributions\n",
    "import nets\n",
    "import plot\n",
    "\n",
    "key = random.PRNGKey(0)"
   ]
  },
  {
   "cell_type": "code",
   "execution_count": 349,
   "metadata": {},
   "outputs": [],
   "source": [
    "setup = distributions.funnel\n",
    "target, proposal = setup.get()\n",
    "\n",
    "def sample_latent(subkey, num=100):\n",
    "    return proposal.sample(num, key=subkey)\n",
    "\n",
    "def generator_fn(latent):\n",
    "    mlp = nets.MLP([32, 128, 64, 2])\n",
    "    return mlp(latent)\n",
    "\n",
    "generator = hk.transform(generator_fn)\n",
    "\n",
    "\n",
    "key, subkey = random.split(key)\n",
    "z = sample_latent(subkey)\n",
    "\n",
    "key, subkey = random.split(key)\n",
    "init_params = generator.init(subkey, z)\n",
    "\n",
    "# generator.apply(init_params, subkey, z).shape"
   ]
  },
  {
   "cell_type": "code",
   "execution_count": 350,
   "metadata": {},
   "outputs": [],
   "source": [
    "# Training\n",
    "\n",
    "@jit\n",
    "def step(key, params, stepsize):\n",
    "    key, subkey = random.split(key)\n",
    "    z = sample_latent(subkey)\n",
    "    samples = generator.apply(params, subkey, z) # subkey ignored\n",
    "\n",
    "\n",
    "    key, subkey = random.split(key)\n",
    "    noise = random.normal(subkey, samples.shape)\n",
    "    dkl_dsamples = - stepsize * vmap(grad(target.logpdf))(z) + jnp.sqrt(2*stepsize) * noise\n",
    "\n",
    "\n",
    "    dsamples_dparam = vmap(jacfwd(generator.apply), (None, None, 0))(params, subkey, z)\n",
    "    dkl_dparam = jax.tree_map(\n",
    "        lambda ds_dp: jnp.tensordot(ds_dp, dkl_dsamples, axes=([0, 1], [0, 1])),\n",
    "        dsamples_dparam)\n",
    "\n",
    "    updated_params = jax.tree_multimap(lambda a, b: a + b, params, dkl_dparam)\n",
    "    return updated_params\n",
    "\n",
    "@jit\n",
    "def fake_loss(params, key):\n",
    "    key, subkey = random.split(key)\n",
    "    z = sample_latent(subkey)\n",
    "    samples = generator.apply(params, subkey, z) # subkey ignored\n",
    "    true_samples = target.sample(100, key=key)\n",
    "    return jnp.sum((samples - true_samples)**2)"
   ]
  },
  {
   "cell_type": "code",
   "execution_count": 351,
   "metadata": {},
   "outputs": [],
   "source": [
    "params = init_params"
   ]
  },
  {
   "cell_type": "code",
   "execution_count": 361,
   "metadata": {},
   "outputs": [
    {
     "name": "stderr",
     "output_type": "stream",
     "text": [
      "100%|██████████| 100/100 [00:00<00:00, 252.88it/s]\n"
     ]
    },
    {
     "data": {
      "image/png": "[encoded data removed]",
      "text/plain": [
       "<Figure size 432x288 with 1 Axes>"
      ]
     },
     "metadata": {
      "needs_background": "light"
     },
     "output_type": "display_data"
    }
   ],
   "source": [
    "stepsize = 1e-6\n",
    "# for _ in tqdm(range(1000)):\n",
    "#     key, subkey = random.split(key)\n",
    "#     params = step(subkey, params, stepsize)\n",
    "\n",
    "\n",
    "for _ in tqdm(range(100)):\n",
    "    key, subkey = random.split(key)\n",
    "    params = jax.tree_multimap(lambda p, dp: p - stepsize * dp, params, grad(fake_loss)(params, subkey))\n",
    "\n",
    "key, subkey = random.split(key)\n",
    "z = sample_latent(subkey)\n",
    "samples = generator.apply(params, subkey, z)\n",
    "\n",
    "fig, ax = plt.subplots()\n",
    "lim = (-10, 10)\n",
    "ax.set(xlim=lim, ylim=lim)\n",
    "plot.scatter(samples, ax=ax)\n",
    "plot.scatter(target.sample(100), ax=ax, marker=\".\")"
   ]
  },
  {
   "cell_type": "code",
   "execution_count": 237,
   "metadata": {},
   "outputs": [
    {
     "data": {
      "image/png": "[encoded data removed]",
      "text/plain": [
       "<Figure size 432x288 with 1 Axes>"
      ]
     },
     "metadata": {
      "needs_background": "light"
     },
     "output_type": "display_data"
    }
   ],
   "source": [
    "key, subkey = random.split(key)\n",
    "z = sample_latent(subkey)\n",
    "samples = generator.apply(init_params, subkey, z)\n",
    "\n",
    "fig, ax = plt.subplots()\n",
    "lim = (-10, 10)\n",
    "ax.set(xlim=lim, ylim=lim)\n",
    "plot.scatter(samples, ax=ax)\n",
    "plot.scatter(target.sample(100), ax=ax, marker=\".\")"
   ]
  },
  {
   "cell_type": "markdown",
   "metadata": {},
   "source": [
    "### test comparison generator"
   ]
  },
  {
   "cell_type": "code",
   "execution_count": 389,
   "metadata": {},
   "outputs": [],
   "source": [
    "def init(key):\n",
    "    return random.normal(key, (2,2)) / 10\n",
    "\n",
    "def apply(params, subkey):\n",
    "    \"\"\"params have shape (2, 2); in general (d,d)\"\"\"\n",
    "    def gen(key):\n",
    "        z = jnp.squeeze(sample_latent(key, 1))\n",
    "        return z * jnp.exp(jnp.dot(params, z))\n",
    "    return vmap(gen)(random.split(subkey, 100))\n",
    "\n",
    "\n",
    "comparison_generator = hk.Transformed(init, apply)\n",
    "\n",
    "cparams = comparison_generator.init(subkey)\n",
    "# comparison_generator.apply(cparams, subkey).shape\n",
    "\n",
    "@jit\n",
    "def cfake_loss(cparams, key):\n",
    "    key, subkey = random.split(key)\n",
    "    samples = comparison_generator.apply(cparams, subkey)\n",
    "    true_samples = target.sample(100, key=key)\n",
    "    return jnp.sum((samples - true_samples)**2)"
   ]
  },
  {
   "cell_type": "code",
   "execution_count": null,
   "metadata": {},
   "outputs": [],
   "source": [
    "cparams = comparison_generator.init(subkey)"
   ]
  },
  {
   "cell_type": "code",
   "execution_count": 405,
   "metadata": {},
   "outputs": [
    {
     "name": "stderr",
     "output_type": "stream",
     "text": [
      "100%|██████████| 100/100 [00:00<00:00, 603.81it/s]\n"
     ]
    }
   ],
   "source": [
    "key, subkey = random.split(key)\n",
    "ls = []\n",
    "\n",
    "stepsize = 1e-11\n",
    "for _ in tqdm(range(100)):\n",
    "    key, subkey = random.split(key)\n",
    "    l, g = value_and_grad(cfake_loss)(cparams, subkey)\n",
    "    cparams = cparams - stepsize * g\n",
    "    ls.append(l)"
   ]
  },
  {
   "cell_type": "code",
   "execution_count": 406,
   "metadata": {},
   "outputs": [
    {
     "data": {
      "text/plain": [
       "DeviceArray([[ 0.00813374,  0.2135064 ],\n",
       "             [-0.14819667,  0.33566436]], dtype=float32)"
      ]
     },
     "execution_count": 406,
     "metadata": {},
     "output_type": "execute_result"
    }
   ],
   "source": [
    "cparams"
   ]
  },
  {
   "cell_type": "code",
   "execution_count": 407,
   "metadata": {},
   "outputs": [
    {
     "data": {
      "text/plain": [
       "[<matplotlib.lines.Line2D at 0x7f321a348520>]"
      ]
     },
     "execution_count": 407,
     "metadata": {},
     "output_type": "execute_result"
    },
    {
     "data": {
      "image/png": "[encoded data removed]",
      "text/plain": [
       "<Figure size 432x288 with 1 Axes>"
      ]
     },
     "metadata": {
      "needs_background": "light"
     },
     "output_type": "display_data"
    }
   ],
   "source": [
    "plt.plot(ls)"
   ]
  },
  {
   "cell_type": "code",
   "execution_count": 408,
   "metadata": {},
   "outputs": [
    {
     "data": {
      "image/png": "[encoded data removed]",
      "text/plain": [
       "<Figure size 432x288 with 1 Axes>"
      ]
     },
     "metadata": {
      "needs_background": "light"
     },
     "output_type": "display_data"
    }
   ],
   "source": [
    "key, subkey = random.split(key)\n",
    "samples = comparison_generator.apply(cparams, subkey)\n",
    "\n",
    "fig, ax = plt.subplots()\n",
    "lim = (-10, 10)\n",
    "ax.set(xlim=lim, ylim=lim)\n",
    "plot.scatter(samples, ax=ax)\n",
    "plot.scatter(target.sample(100), ax=ax, marker=\".\")"
   ]
  }
 ],
 "metadata": {
  "kernelspec": {
   "display_name": "msc-thesis",
   "language": "python",
   "name": "msc-thesis"
  },
  "language_info": {
   "codemirror_mode": {
    "name": "ipython",
    "version": 3
   },
   "file_extension": ".py",
   "mimetype": "text/x-python",
   "name": "python",
   "nbconvert_exporter": "python",
   "pygments_lexer": "ipython3",
   "version": "3.8.5"
  }
 },
 "nbformat": 4,
 "nbformat_minor": 4
}
