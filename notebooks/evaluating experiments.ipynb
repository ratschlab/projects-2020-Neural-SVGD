{
 "cells": [
  {
   "cell_type": "markdown",
   "metadata": {},
   "source": [
    "# Evaluating experiments"
   ]
  },
  {
   "cell_type": "code",
   "execution_count": 1,
   "metadata": {},
   "outputs": [
    {
     "name": "stderr",
     "output_type": "stream",
     "text": [
      "/home/lauro/.virtualenvs/msc-thesis/lib/python3.6/site-packages/jax/lib/xla_bridge.py:125: UserWarning: No GPU/TPU found, falling back to CPU.\n",
      "  warnings.warn('No GPU/TPU found, falling back to CPU.')\n"
     ]
    }
   ],
   "source": [
    "import sys\n",
    "import os\n",
    "sys.path.append(\"/home/lauro/code/msc-thesis/svgd\")\n",
    "import json\n",
    "\n",
    "import jax.numpy as np\n",
    "from jax import grad, jit, vmap, random, lax, jacfwd\n",
    "from jax import lax\n",
    "from jax.ops import index_update, index\n",
    "import matplotlib.pyplot as plt\n",
    "import numpy as onp\n",
    "import jax\n",
    "import pandas as pd\n",
    "import haiku as hk\n",
    "\n",
    "import config\n",
    "\n",
    "import utils\n",
    "import metrics\n",
    "import time\n",
    "import plot\n",
    "import svgd\n",
    "import stein\n",
    "import train\n",
    "import kernels\n",
    "\n",
    "from jax.experimental import optimizers\n",
    "\n",
    "rkey = random.PRNGKey(0)"
   ]
  },
  {
   "cell_type": "code",
   "execution_count": 2,
   "metadata": {},
   "outputs": [],
   "source": [
    "def get_data(rundir):\n",
    "    \"\"\"Take directory with run results and return a Pandas DataFrame with the relevant hparams plus metrics.\n",
    "    Returns:\n",
    "    * frame: a pandas dataframe with config hparams and metrics\n",
    "    * data: a list of dicts with data collected during runs\"\"\"\n",
    "    cfgs = []\n",
    "    data = []\n",
    "    metrics = []\n",
    "    for logdir in os.listdir(rundir):\n",
    "        configfile, datafile, metricfile = [rundir + logdir + f for f in [\"/config\", \"/data\", \"/metrics\"]]\n",
    "        with open(configfile, \"r\") as f:\n",
    "            cfgs.append(json.load(f))\n",
    "        with open(datafile, \"r\") as f:\n",
    "            data.append(json.load(f))\n",
    "        with open(metricfile, \"r\") as f:\n",
    "            metrics.append(json.load(f))\n",
    "     \n",
    "    # process data\n",
    "    cfgs = [utils.flatten_dict(c) for c in cfgs]\n",
    "    for c in cfgs:\n",
    "        if len(c[\"optimizer_svgd_args\"]) == 1:\n",
    "            c[\"optimizer_svgd_args\"] = c[\"optimizer_svgd_args\"][0]\n",
    "        if len(c[\"optimizer_ksd_args\"]) == 1:\n",
    "            c[\"optimizer_ksd_args\"] = c[\"optimizer_ksd_args\"][0]        \n",
    "    \n",
    "    frame = pd.DataFrame(cfgs)\n",
    "    frame[\"KSD Squared\"] = metrics\n",
    "    frame.rename(columns={\"optimizer_svgd_args\": \"lr svgd\", \"optimizer_ksd_args\": \"lr ksd\"}, inplace=True)\n",
    "    \n",
    "    return frame, data"
   ]
  },
  {
   "cell_type": "code",
   "execution_count": 3,
   "metadata": {},
   "outputs": [
    {
     "data": {
      "text/html": [
       "<div>\n",
       "<style scoped>\n",
       "    .dataframe tbody tr th:only-of-type {\n",
       "        vertical-align: middle;\n",
       "    }\n",
       "\n",
       "    .dataframe tbody tr th {\n",
       "        vertical-align: top;\n",
       "    }\n",
       "\n",
       "    .dataframe thead th {\n",
       "        text-align: right;\n",
       "    }\n",
       "</style>\n",
       "<table border=\"1\" class=\"dataframe\">\n",
       "  <thead>\n",
       "    <tr style=\"text-align: right;\">\n",
       "      <th></th>\n",
       "      <th>KSD Squared</th>\n",
       "      <th>layers</th>\n",
       "      <th>lr svgd</th>\n",
       "    </tr>\n",
       "  </thead>\n",
       "  <tbody>\n",
       "    <tr>\n",
       "      <th>0</th>\n",
       "      <td>0.210310</td>\n",
       "      <td>[32, 32, 32]</td>\n",
       "      <td>1.0</td>\n",
       "    </tr>\n",
       "    <tr>\n",
       "      <th>1</th>\n",
       "      <td>0.036900</td>\n",
       "      <td>[32, 32, 32]</td>\n",
       "      <td>5.0</td>\n",
       "    </tr>\n",
       "    <tr>\n",
       "      <th>2</th>\n",
       "      <td>0.117035</td>\n",
       "      <td>[32, 32, 32, 2]</td>\n",
       "      <td>1.0</td>\n",
       "    </tr>\n",
       "    <tr>\n",
       "      <th>3</th>\n",
       "      <td>0.119718</td>\n",
       "      <td>[32, 32, 32, 2]</td>\n",
       "      <td>5.0</td>\n",
       "    </tr>\n",
       "    <tr>\n",
       "      <th>4</th>\n",
       "      <td>0.112732</td>\n",
       "      <td>[32, 32, 2]</td>\n",
       "      <td>1.0</td>\n",
       "    </tr>\n",
       "    <tr>\n",
       "      <th>5</th>\n",
       "      <td>2.243593</td>\n",
       "      <td>[32, 32, 2]</td>\n",
       "      <td>0.1</td>\n",
       "    </tr>\n",
       "    <tr>\n",
       "      <th>6</th>\n",
       "      <td>0.001279</td>\n",
       "      <td>[32, 32]</td>\n",
       "      <td>5.0</td>\n",
       "    </tr>\n",
       "    <tr>\n",
       "      <th>7</th>\n",
       "      <td>2.134866</td>\n",
       "      <td>[32, 2]</td>\n",
       "      <td>0.1</td>\n",
       "    </tr>\n",
       "    <tr>\n",
       "      <th>8</th>\n",
       "      <td>0.171277</td>\n",
       "      <td>[32, 2]</td>\n",
       "      <td>1.0</td>\n",
       "    </tr>\n",
       "    <tr>\n",
       "      <th>9</th>\n",
       "      <td>0.208072</td>\n",
       "      <td>[32, 32]</td>\n",
       "      <td>1.0</td>\n",
       "    </tr>\n",
       "    <tr>\n",
       "      <th>10</th>\n",
       "      <td>2.217503</td>\n",
       "      <td>[32, 32, 32]</td>\n",
       "      <td>0.1</td>\n",
       "    </tr>\n",
       "    <tr>\n",
       "      <th>11</th>\n",
       "      <td>0.113004</td>\n",
       "      <td>[32, 32, 2]</td>\n",
       "      <td>5.0</td>\n",
       "    </tr>\n",
       "    <tr>\n",
       "      <th>12</th>\n",
       "      <td>0.110252</td>\n",
       "      <td>[32, 2]</td>\n",
       "      <td>5.0</td>\n",
       "    </tr>\n",
       "    <tr>\n",
       "      <th>13</th>\n",
       "      <td>2.237052</td>\n",
       "      <td>[32, 32, 32, 2]</td>\n",
       "      <td>0.1</td>\n",
       "    </tr>\n",
       "    <tr>\n",
       "      <th>14</th>\n",
       "      <td>2.207670</td>\n",
       "      <td>[32, 32]</td>\n",
       "      <td>0.1</td>\n",
       "    </tr>\n",
       "  </tbody>\n",
       "</table>\n",
       "</div>"
      ],
      "text/plain": [
       "    KSD Squared           layers  lr svgd\n",
       "0      0.210310     [32, 32, 32]      1.0\n",
       "1      0.036900     [32, 32, 32]      5.0\n",
       "2      0.117035  [32, 32, 32, 2]      1.0\n",
       "3      0.119718  [32, 32, 32, 2]      5.0\n",
       "4      0.112732      [32, 32, 2]      1.0\n",
       "5      2.243593      [32, 32, 2]      0.1\n",
       "6      0.001279         [32, 32]      5.0\n",
       "7      2.134866          [32, 2]      0.1\n",
       "8      0.171277          [32, 2]      1.0\n",
       "9      0.208072         [32, 32]      1.0\n",
       "10     2.217503     [32, 32, 32]      0.1\n",
       "11     0.113004      [32, 32, 2]      5.0\n",
       "12     0.110252          [32, 2]      5.0\n",
       "13     2.237052  [32, 32, 32, 2]      0.1\n",
       "14     2.207670         [32, 32]      0.1"
      ]
     },
     "execution_count": 3,
     "metadata": {},
     "output_type": "execute_result"
    }
   ],
   "source": [
    "rundir = \"../runs/test1/\"\n",
    "hparams = [\"KSD Squared\", \"layers\", \"lr svgd\"]\n",
    "frame, data = get_data(rundir)\n",
    "f = frame[hparams]\n",
    "f"
   ]
  },
  {
   "cell_type": "code",
   "execution_count": 4,
   "metadata": {},
   "outputs": [
    {
     "data": {
      "text/plain": [
       "<matplotlib.axes._subplots.AxesSubplot at 0x7fe7ec756978>"
      ]
     },
     "execution_count": 4,
     "metadata": {},
     "output_type": "execute_result"
    },
    {
     "data": {
      "image/png": "[encoded data removed]",
      "text/plain": [
       "<Figure size 432x288 with 1 Axes>"
      ]
     },
     "metadata": {
      "needs_background": "light"
     },
     "output_type": "display_data"
    }
   ],
   "source": [
    "f.plot(x=\"lr svgd\", y=\"KSD Squared\", style=\"o\")"
   ]
  },
  {
   "cell_type": "code",
   "execution_count": 5,
   "metadata": {},
   "outputs": [],
   "source": [
    "f = f[f[\"lr svgd\"] != 0.1]"
   ]
  },
  {
   "cell_type": "code",
   "execution_count": 6,
   "metadata": {},
   "outputs": [
    {
     "data": {
      "text/plain": [
       "<matplotlib.axes._subplots.AxesSubplot at 0x7fe7ec6b5e80>"
      ]
     },
     "execution_count": 6,
     "metadata": {},
     "output_type": "execute_result"
    },
    {
     "data": {
      "image/png": "[encoded data removed]",
      "text/plain": [
       "<Figure size 432x288 with 1 Axes>"
      ]
     },
     "metadata": {
      "needs_background": "light"
     },
     "output_type": "display_data"
    }
   ],
   "source": [
    "f.plot(x=\"lr svgd\", y=\"KSD Squared\", style=\"o\")"
   ]
  },
  {
   "cell_type": "code",
   "execution_count": 7,
   "metadata": {},
   "outputs": [],
   "source": [
    "f = f[f[\"lr svgd\"] != 1.0]"
   ]
  },
  {
   "cell_type": "code",
   "execution_count": 8,
   "metadata": {},
   "outputs": [
    {
     "data": {
      "text/plain": [
       "<matplotlib.axes._subplots.AxesSubplot at 0x7fe7ec68f978>"
      ]
     },
     "execution_count": 8,
     "metadata": {},
     "output_type": "execute_result"
    },
    {
     "data": {
      "image/png": "[encoded data removed]",
      "text/plain": [
       "<Figure size 432x288 with 1 Axes>"
      ]
     },
     "metadata": {
      "needs_background": "light"
     },
     "output_type": "display_data"
    }
   ],
   "source": [
    "f.plot(x=\"layers\", y=\"KSD Squared\", style=\"h\")"
   ]
  },
  {
   "cell_type": "code",
   "execution_count": 9,
   "metadata": {},
   "outputs": [
    {
     "data": {
      "text/html": [
       "<div>\n",
       "<style scoped>\n",
       "    .dataframe tbody tr th:only-of-type {\n",
       "        vertical-align: middle;\n",
       "    }\n",
       "\n",
       "    .dataframe tbody tr th {\n",
       "        vertical-align: top;\n",
       "    }\n",
       "\n",
       "    .dataframe thead th {\n",
       "        text-align: right;\n",
       "    }\n",
       "</style>\n",
       "<table border=\"1\" class=\"dataframe\">\n",
       "  <thead>\n",
       "    <tr style=\"text-align: right;\">\n",
       "      <th></th>\n",
       "      <th>KSD Squared</th>\n",
       "      <th>layers</th>\n",
       "      <th>lr svgd</th>\n",
       "    </tr>\n",
       "  </thead>\n",
       "  <tbody>\n",
       "    <tr>\n",
       "      <th>1</th>\n",
       "      <td>0.036900</td>\n",
       "      <td>[32, 32, 32]</td>\n",
       "      <td>5.0</td>\n",
       "    </tr>\n",
       "    <tr>\n",
       "      <th>3</th>\n",
       "      <td>0.119718</td>\n",
       "      <td>[32, 32, 32, 2]</td>\n",
       "      <td>5.0</td>\n",
       "    </tr>\n",
       "    <tr>\n",
       "      <th>6</th>\n",
       "      <td>0.001279</td>\n",
       "      <td>[32, 32]</td>\n",
       "      <td>5.0</td>\n",
       "    </tr>\n",
       "    <tr>\n",
       "      <th>11</th>\n",
       "      <td>0.113004</td>\n",
       "      <td>[32, 32, 2]</td>\n",
       "      <td>5.0</td>\n",
       "    </tr>\n",
       "    <tr>\n",
       "      <th>12</th>\n",
       "      <td>0.110252</td>\n",
       "      <td>[32, 2]</td>\n",
       "      <td>5.0</td>\n",
       "    </tr>\n",
       "  </tbody>\n",
       "</table>\n",
       "</div>"
      ],
      "text/plain": [
       "    KSD Squared           layers  lr svgd\n",
       "1      0.036900     [32, 32, 32]      5.0\n",
       "3      0.119718  [32, 32, 32, 2]      5.0\n",
       "6      0.001279         [32, 32]      5.0\n",
       "11     0.113004      [32, 32, 2]      5.0\n",
       "12     0.110252          [32, 2]      5.0"
      ]
     },
     "execution_count": 9,
     "metadata": {},
     "output_type": "execute_result"
    }
   ],
   "source": [
    "f"
   ]
  }
 ],
 "metadata": {
  "kernelspec": {
   "display_name": "msc-thesis",
   "language": "python",
   "name": "msc-thesis"
  },
  "language_info": {
   "codemirror_mode": {
    "name": "ipython",
    "version": 3
   },
   "file_extension": ".py",
   "mimetype": "text/x-python",
   "name": "python",
   "nbconvert_exporter": "python",
   "pygments_lexer": "ipython3",
   "version": "3.6.9"
  }
 },
 "nbformat": 4,
 "nbformat_minor": 4
}
