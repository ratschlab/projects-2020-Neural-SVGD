{
 "cells": [
  {
   "cell_type": "markdown",
   "metadata": {},
   "source": [
    "# KSD Bandwidth sweep"
   ]
  },
  {
   "cell_type": "code",
   "execution_count": 87,
   "metadata": {},
   "outputs": [],
   "source": [
    "import sys\n",
    "import os\n",
    "sys.path.append(\"/home/lauro/code/msc-thesis/svgd/kernel_learning\")\n",
    "import json_tricks as json\n",
    "import copy\n",
    "\n",
    "from tqdm import tqdm\n",
    "import jax.numpy as np\n",
    "from jax import grad, jit, vmap, random, lax, jacfwd, value_and_grad\n",
    "from jax import lax\n",
    "from jax.ops import index_update, index\n",
    "import matplotlib.pyplot as plt\n",
    "import numpy as onp\n",
    "import jax\n",
    "import pandas as pd\n",
    "import haiku as hk\n",
    "from jax.experimental import optimizers\n",
    "\n",
    "import config\n",
    "\n",
    "import utils\n",
    "import metrics\n",
    "import time\n",
    "import plot\n",
    "import stein\n",
    "import kernels\n",
    "import svgd\n",
    "\n",
    "from jax.experimental import optimizers\n",
    "\n",
    "key = random.PRNGKey(0)"
   ]
  },
  {
   "cell_type": "code",
   "execution_count": 88,
   "metadata": {},
   "outputs": [],
   "source": [
    "# initialize kernel, proposal dist, and target dist\n",
    "def get_rbf_fn(bandwidth):\n",
    "    logh = np.asarray(bandwidth)\n",
    "    logh = np.squeeze(bandwidth)\n",
    "    def rbf(x, y): \n",
    "        x, y = np.asarray(x), np.asarray(y)\n",
    "        return np.exp(- np.sum((x - y)**2 / bandwidth**2) / 2)\n",
    "    return rbf\n",
    "\n",
    "proposal = distributions.Gaussian([0,0],1)\n",
    "target = distributions.Funnel(2)"
   ]
  },
  {
   "cell_type": "code",
   "execution_count": 89,
   "metadata": {},
   "outputs": [],
   "source": [
    "# comparison kernels\n",
    "def constant(x, y): return np.array(1.)\n",
    "def null(x, y): return np.array(0.)\n",
    "def get_tophat_fn(bandwidth):\n",
    "    def tophat(x, y): return np.squeeze(np.where(np.linalg.norm(x-y)<bandwidth, 1., 0.))\n",
    "    return tophat"
   ]
  },
  {
   "cell_type": "code",
   "execution_count": 29,
   "metadata": {},
   "outputs": [
    {
     "name": "stderr",
     "output_type": "stream",
     "text": [
      "100%|██████████| 25/25 [00:10<00:00,  2.33it/s]\n",
      "100%|██████████| 25/25 [00:10<00:00,  2.40it/s]\n",
      "100%|██████████| 25/25 [00:11<00:00,  2.26it/s]\n",
      "100%|██████████| 25/25 [00:12<00:00,  2.06it/s]\n",
      "100%|██████████| 25/25 [00:11<00:00,  2.13it/s]\n"
     ]
    }
   ],
   "source": [
    "def ksd_sweep(proposal, target, n=200, m=5, grid=2**np.linspace(-5, 5, 25)):\n",
    "    ksds_rbf = []\n",
    "    ksds_top = []\n",
    "    \n",
    "    for _ in range(m):\n",
    "        grid_ksds_rbf = []\n",
    "        grid_ksds_top = []\n",
    "        samples = proposal.sample(n)\n",
    "        for p in tqdm(grid):\n",
    "            rbf = get_rbf_fn(p)\n",
    "            tophat = get_tophat_fn(p)\n",
    "            grid_ksds_rbf.append(stein.ksd_squared_u(samples, target.logpdf, rbf, False))\n",
    "            grid_ksds_top.append(stein.ksd_squared_u(samples, target.logpdf, tophat, False))\n",
    "        ksds_rbf.append(grid_ksds_rbf)\n",
    "        ksds_top.append(grid_ksds_top)\n",
    "        \n",
    "    ksds_rbf = np.array(ksds_rbf)\n",
    "    ksds_top = np.array(ksds_top)\n",
    "\n",
    "    grid_means_rbf = np.mean(ksds_rbf, axis=0)\n",
    "    grid_means_top = np.mean(ksds_top, axis=0)\n",
    "\n",
    "    grid_var_rbf = np.std(ksds_rbf, axis=0)\n",
    "    grid_var_top = np.std(ksds_top, axis=0)\n",
    "    return (grid_means_rbf, grid_var_rbf), (grid_means_top, grid_var_top)\n",
    "\n",
    "(grid_means_rbf, grid_var_rbf), (grid_means_top, grid_var_top) = ksd_sweep(proposal, target)"
   ]
  },
  {
   "cell_type": "code",
   "execution_count": 32,
   "metadata": {},
   "outputs": [],
   "source": [
    "samples = proposal.sample(400)\n",
    "ksd_c = stein.ksd_squared_u(samples, target.logpdf, constant, False)"
   ]
  },
  {
   "cell_type": "code",
   "execution_count": 33,
   "metadata": {},
   "outputs": [
    {
     "data": {
      "text/plain": [
       "<matplotlib.legend.Legend at 0x7faf63d21220>"
      ]
     },
     "execution_count": 33,
     "metadata": {},
     "output_type": "execute_result"
    },
    {
     "data": {
      "image/png": "[encoded data removed]",
      "text/plain": [
       "<Figure size 432x288 with 1 Axes>"
      ]
     },
     "metadata": {
      "needs_background": "light"
     },
     "output_type": "display_data"
    }
   ],
   "source": [
    "plt.errorbar(grid, grid_means_rbf, yerr=grid_var_rbf, fmt=\"--o\", label=\"KSD-U\")\n",
    "plt.errorbar(grid, grid_means_top, yerr=grid_var_top, fmt=\"--o\", label=\"KSD-U-tophat\")\n",
    "plt.axhline(y=ksd_c, label=\"one\", color=\"r\")\n",
    "plt.xscale(\"log\")\n",
    "plt.legend()"
   ]
  }
 ],
 "metadata": {
  "kernelspec": {
   "display_name": "msc-thesis",
   "language": "python",
   "name": "msc-thesis"
  },
  "language_info": {
   "codemirror_mode": {
    "name": "ipython",
    "version": 3
   },
   "file_extension": ".py",
   "mimetype": "text/x-python",
   "name": "python",
   "nbconvert_exporter": "python",
   "pygments_lexer": "ipython3",
   "version": "3.8.2"
  }
 },
 "nbformat": 4,
 "nbformat_minor": 4
}
