{
 "cells": [
  {
   "cell_type": "markdown",
   "metadata": {},
   "source": [
    "# KSD Bandwidth sweep"
   ]
  },
  {
   "cell_type": "code",
   "execution_count": 1,
   "metadata": {},
   "outputs": [
    {
     "name": "stderr",
     "output_type": "stream",
     "text": [
      "/home/lauro/.virtualenvs/msc-thesis/lib/python3.8/site-packages/jax/lib/xla_bridge.py:125: UserWarning: No GPU/TPU found, falling back to CPU.\n",
      "  warnings.warn('No GPU/TPU found, falling back to CPU.')\n"
     ]
    }
   ],
   "source": [
    "import sys\n",
    "import os\n",
    "sys.path.append(\"/home/lauro/code/msc-thesis/svgd/kernel_learning\")\n",
    "import json_tricks as json\n",
    "import copy\n",
    "\n",
    "from tqdm import tqdm\n",
    "import jax.numpy as np\n",
    "from jax import grad, jit, vmap, random, lax, jacfwd, value_and_grad\n",
    "from jax import lax\n",
    "from jax.ops import index_update, index\n",
    "import matplotlib.pyplot as plt\n",
    "import numpy as onp\n",
    "import jax\n",
    "import pandas as pd\n",
    "import haiku as hk\n",
    "from jax.experimental import optimizers\n",
    "\n",
    "import config\n",
    "\n",
    "import utils\n",
    "import metrics\n",
    "import time\n",
    "import plot\n",
    "import stein\n",
    "import kernels\n",
    "import svgd\n",
    "import distributions\n",
    "\n",
    "from jax.experimental import optimizers\n",
    "\n",
    "key = random.PRNGKey(0)"
   ]
  },
  {
   "cell_type": "code",
   "execution_count": 2,
   "metadata": {},
   "outputs": [],
   "source": [
    "# initialize kernel, proposal dist, and target dist\n",
    "def get_rbf_fn(bandwidth):\n",
    "    logh = np.asarray(bandwidth)\n",
    "    logh = np.squeeze(bandwidth)\n",
    "    def rbf(x, y): \n",
    "        x, y = np.asarray(x), np.asarray(y)\n",
    "        return np.exp(- np.sum((x - y)**2 / bandwidth**2) / 2)\n",
    "    return rbf\n",
    "\n",
    "proposal = distributions.Gaussian([0,0],1)\n",
    "target = distributions.Funnel(2)"
   ]
  },
  {
   "cell_type": "code",
   "execution_count": 3,
   "metadata": {},
   "outputs": [],
   "source": [
    "# comparison kernels\n",
    "def constant(x, y): return np.array(1.)\n",
    "def null(x, y): return np.array(0.)\n",
    "def get_tophat_fn(bandwidth):\n",
    "    def tophat(x, y): return np.squeeze(np.where(np.linalg.norm(x-y)<bandwidth, 1., 0.))\n",
    "    return tophat"
   ]
  },
  {
   "cell_type": "code",
   "execution_count": 7,
   "metadata": {},
   "outputs": [
    {
     "name": "stderr",
     "output_type": "stream",
     "text": [
      "100%|██████████| 25/25 [00:43<00:00,  1.72s/it]\n",
      "100%|██████████| 25/25 [00:00<00:00, 1093.70it/s]\n",
      "100%|██████████| 25/25 [00:00<00:00, 1099.71it/s]\n",
      "100%|██████████| 25/25 [00:00<00:00, 1141.75it/s]\n",
      "100%|██████████| 25/25 [00:00<00:00, 1224.97it/s]\n"
     ]
    },
    {
     "ename": "ValueError",
     "evalue": "too many values to unpack (expected 3)",
     "output_type": "error",
     "traceback": [
      "\u001b[0;31m---------------------------------------------------------------------------\u001b[0m",
      "\u001b[0;31mValueError\u001b[0m                                Traceback (most recent call last)",
      "\u001b[0;32m<ipython-input-7-cc003fbdc654>\u001b[0m in \u001b[0;36m<module>\u001b[0;34m\u001b[0m\n\u001b[1;32m     21\u001b[0m     \u001b[0;32mreturn\u001b[0m \u001b[0mlist\u001b[0m\u001b[0;34m(\u001b[0m\u001b[0mzip\u001b[0m\u001b[0;34m(\u001b[0m\u001b[0mgrid_means\u001b[0m\u001b[0;34m,\u001b[0m \u001b[0mgrid_vars\u001b[0m\u001b[0;34m)\u001b[0m\u001b[0;34m)\u001b[0m\u001b[0;34m\u001b[0m\u001b[0;34m\u001b[0m\u001b[0m\n\u001b[1;32m     22\u001b[0m \u001b[0;34m\u001b[0m\u001b[0m\n\u001b[0;32m---> 23\u001b[0;31m \u001b[0;34m(\u001b[0m\u001b[0mgrid_means_rbf\u001b[0m\u001b[0;34m,\u001b[0m \u001b[0mgrid_var_rbf\u001b[0m\u001b[0;34m)\u001b[0m\u001b[0;34m,\u001b[0m \u001b[0;34m(\u001b[0m\u001b[0mgrid_means_top\u001b[0m\u001b[0;34m,\u001b[0m \u001b[0mgrid_var_top\u001b[0m\u001b[0;34m)\u001b[0m\u001b[0;34m,\u001b[0m \u001b[0;34m(\u001b[0m\u001b[0mgrid_means_fun\u001b[0m\u001b[0;34m,\u001b[0m \u001b[0mgrid_var_fun\u001b[0m\u001b[0;34m)\u001b[0m \u001b[0;34m=\u001b[0m \u001b[0mksd_sweep\u001b[0m\u001b[0;34m(\u001b[0m\u001b[0mproposal\u001b[0m\u001b[0;34m,\u001b[0m \u001b[0mtarget\u001b[0m\u001b[0;34m)\u001b[0m\u001b[0;34m\u001b[0m\u001b[0;34m\u001b[0m\u001b[0m\n\u001b[0m",
      "\u001b[0;31mValueError\u001b[0m: too many values to unpack (expected 3)"
     ]
    }
   ],
   "source": [
    "def ksd_sweep(proposal, target, n=200, m=5, grid=2**np.linspace(-5, 5, 25)):\n",
    "    kernels_list = [get_rbf_fn, get_tophat_fn, kernels.get_funnel_kernel]\n",
    "    \n",
    "    @jit\n",
    "    def get_ksds(p, lists): #TODO make better\n",
    "        for kernelfn, ksdlist in zip(kernels_list, lists):\n",
    "            kernel = kernelfn(p)\n",
    "            ksdlist.append(stein.ksd_squared_u(samples, target.logpdf, kernel, False))\n",
    "        return lists\n",
    "\n",
    "    ksds = []\n",
    "    for _ in range(m):\n",
    "        grid_ksds = [[], [], []]\n",
    "        samples = proposal.sample(n)\n",
    "        for p in tqdm(grid):\n",
    "            grid_ksds = get_ksds(p, grid_ksds)\n",
    "        ksds.append(grid_ksds) # (nkernels, m)\n",
    "        \n",
    "    grid_means = onp.mean(ksds, axis=1)\n",
    "    grid_vars = onp.std(ksds, axis=1)\n",
    "    return list(zip(grid_means, grid_vars))\n",
    "\n",
    "(grid_means_rbf, grid_var_rbf), (grid_means_top, grid_var_top), (grid_means_fun, grid_var_fun) = ksd_sweep(proposal, target)"
   ]
  },
  {
   "cell_type": "code",
   "execution_count": null,
   "metadata": {},
   "outputs": [],
   "source": [
    "samples = proposal.sample(400)\n",
    "ksd_c = stein.ksd_squared_u(samples, target.logpdf, constant, False)"
   ]
  },
  {
   "cell_type": "code",
   "execution_count": null,
   "metadata": {},
   "outputs": [],
   "source": [
    "fig, ax = plt.figure(figsize=[7,7])\n",
    "plt.errorbar(grid, grid_means_rbf, yerr=grid_var_rbf, fmt=\"--o\", label=\"KSD-U\")\n",
    "plt.errorbar(grid, grid_means_top, yerr=grid_var_top, fmt=\"--o\", label=\"KSD-U-tophat\")\n",
    "plt.errorbar(grid, grid_means_fun, yerr=grid_var_fun, fmt=\"--o\", label=\"KSD-U-funnel\")\n",
    "\n",
    "plt.axhline(y=ksd_c, label=\"one\", color=\"r\")\n",
    "plt.xscale(\"log\")\n",
    "plt.legend()"
   ]
  }
 ],
 "metadata": {
  "kernelspec": {
   "display_name": "msc-thesis",
   "language": "python",
   "name": "msc-thesis"
  },
  "language_info": {
   "codemirror_mode": {
    "name": "ipython",
    "version": 3
   },
   "file_extension": ".py",
   "mimetype": "text/x-python",
   "name": "python",
   "nbconvert_exporter": "python",
   "pygments_lexer": "ipython3",
   "version": "3.8.2"
  }
 },
 "nbformat": 4,
 "nbformat_minor": 4
}
