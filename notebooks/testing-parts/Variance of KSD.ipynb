{
 "cells": [
  {
   "cell_type": "code",
   "execution_count": 1,
   "metadata": {},
   "outputs": [
    {
     "name": "stderr",
     "output_type": "stream",
     "text": [
      "/home/lauro/.virtualenvs/msc-thesis/lib/python3.8/site-packages/jax/lib/xla_bridge.py:125: UserWarning: No GPU/TPU found, falling back to CPU.\n",
      "  warnings.warn('No GPU/TPU found, falling back to CPU.')\n"
     ]
    }
   ],
   "source": [
    "import sys\n",
    "import copy\n",
    "import os\n",
    "sys.path.append(\"/home/lauro/code/msc-thesis/svgd/kernel_learning\")\n",
    "import json\n",
    "import collections\n",
    "import itertools\n",
    "from functools import partial\n",
    "import importlib\n",
    "from tqdm import tqdm\n",
    "\n",
    "import numpy as onp\n",
    "from jax.config import config\n",
    "config.update(\"jax_debug_nans\", True)\n",
    "# config.update(\"jax_enable_x64\", True)\n",
    "\n",
    "import jax.numpy as np\n",
    "from jax import grad, jit, vmap, random, lax, jacfwd, value_and_grad\n",
    "from jax import lax\n",
    "from jax.ops import index_update, index\n",
    "import matplotlib.pyplot as plt\n",
    "\n",
    "import numpy as onp\n",
    "import jax\n",
    "import pandas as pd\n",
    "import haiku as hk\n",
    "import ot\n",
    "\n",
    "import config\n",
    "\n",
    "import utils\n",
    "import metrics\n",
    "import time\n",
    "import plot\n",
    "import stein\n",
    "import kernels\n",
    "import distributions\n",
    "import variance\n",
    "\n",
    "from jax.experimental import optimizers\n",
    "\n",
    "key = random.PRNGKey(0)\n",
    "\n",
    "from jax.scipy.stats import norm"
   ]
  },
  {
   "cell_type": "code",
   "execution_count": 2,
   "metadata": {},
   "outputs": [],
   "source": [
    "source = distributions.Gaussian(0, 10)"
   ]
  },
  {
   "cell_type": "code",
   "execution_count": 3,
   "metadata": {},
   "outputs": [],
   "source": [
    "def mean(fun, m):\n",
    "    \"\"\"\n",
    "    Arguments:\n",
    "        fun : callable, takes a random key as first argument. returns scalar.\n",
    "        m : integer (nr samples for mean)\n",
    "    Returns\n",
    "        mfun : takes same args as fun and returns mean of fun over m random seeds\n",
    "    \"\"\"\n",
    "    def mfun(key, *args, **kwargs):\n",
    "        keys = random.split(key, m)\n",
    "        return np.mean(np.asarray([fun(k, *args, **kwargs) for k in keys]))\n",
    "    return mfun"
   ]
  },
  {
   "cell_type": "markdown",
   "metadata": {},
   "source": [
    "# `var_exp`\n",
    "recall: this is an estimate of\n",
    "$$\\text{Var}_X(\\text{E}_Y[h(X, Y)])$$"
   ]
  },
  {
   "cell_type": "code",
   "execution_count": 4,
   "metadata": {},
   "outputs": [],
   "source": [
    "def h(x, y): return np.squeeze(x+y)\n",
    "hvv = vmap(vmap(h, (None, 0)), (0, None))\n",
    "\n",
    "xs = source.sample(100)\n",
    "gram = vmap(vmap(h, (0, None)), (None, 0))(xs, xs)"
   ]
  },
  {
   "cell_type": "markdown",
   "metadata": {},
   "source": [
    "Variance should be variance of source"
   ]
  },
  {
   "cell_type": "code",
   "execution_count": 5,
   "metadata": {},
   "outputs": [
    {
     "data": {
      "text/plain": [
       "DeviceArray(8.918742, dtype=float32)"
      ]
     },
     "execution_count": 5,
     "metadata": {},
     "output_type": "execute_result"
    }
   ],
   "source": [
    "variance.var_exp(gram)"
   ]
  },
  {
   "cell_type": "markdown",
   "metadata": {},
   "source": [
    "# `var_hxy`"
   ]
  },
  {
   "cell_type": "markdown",
   "metadata": {},
   "source": [
    "recall: this is an estimate of\n",
    "$$ \\text{Var}_{XY}(h(X, Y))$$"
   ]
  },
  {
   "cell_type": "code",
   "execution_count": 6,
   "metadata": {},
   "outputs": [],
   "source": [
    "xs = source.sample(1000)\n",
    "def h(x, y): return np.squeeze(x+y)\n",
    "gram = vmap(vmap(h, (0, None)), (None, 0))(xs, xs)"
   ]
  },
  {
   "cell_type": "markdown",
   "metadata": {},
   "source": [
    "Variance should be twice the variance of source"
   ]
  },
  {
   "cell_type": "code",
   "execution_count": 7,
   "metadata": {},
   "outputs": [
    {
     "data": {
      "text/plain": [
       "DeviceArray(20.646362, dtype=float32)"
      ]
     },
     "execution_count": 7,
     "metadata": {},
     "output_type": "execute_result"
    }
   ],
   "source": [
    "variance.var_hxy(gram)"
   ]
  },
  {
   "cell_type": "markdown",
   "metadata": {},
   "source": [
    "# Test variance of KSD estimators\n",
    "compare U-estimator with linear time estimator"
   ]
  },
  {
   "cell_type": "code",
   "execution_count": 8,
   "metadata": {},
   "outputs": [],
   "source": [
    "target = distributions.Gaussian(0, 1)\n",
    "source = distributions.Gaussian(0, 10)\n",
    "kernel = kernels.get_rbf_kernel_logscaled(logh=0)\n",
    "m = 300"
   ]
  },
  {
   "cell_type": "markdown",
   "metadata": {},
   "source": [
    "Estimate variance of KSD_U with samples"
   ]
  },
  {
   "cell_type": "code",
   "execution_count": 9,
   "metadata": {},
   "outputs": [],
   "source": [
    "@partial(jit, static_argnums=1)\n",
    "def ksd_u_estimator(key, n):\n",
    "    samples = source.sample(n, key=key)\n",
    "    ksd = stein.ksd_squared_u(samples, target.logpdf, kernel, return_variance=False)\n",
    "    return ksd\n",
    "\n",
    "@partial(jit, static_argnums=1)\n",
    "def variance_estimator(key, n):\n",
    "    samples = source.sample(n, key=key)\n",
    "    return variance.var_ksd(samples, target.logpdf, kernel)\n",
    "\n",
    "def mc_variance(key, n):\n",
    "    \"\"\"Return variance computed brute-force over m samples of n particles\"\"\"\n",
    "    keys = random.split(key, m)\n",
    "    return np.var(np.asarray([ksd_u_estimator(subkey, n) for subkey in keys]), ddof=1)\n",
    "\n",
    "# def mean_variance_est(key, n):\n",
    "#     \"\"\"Return mean variance computed using formula.\n",
    "#     Mean is over m samples of n particles.\"\"\"\n",
    "#     keys = random.split(key, m)\n",
    "#     return np.mean(np.asarray([variance_estimator(n, subkey) for subkey in keys]))\n",
    "mean_variance_est = mean(variance_estimator, m)"
   ]
  },
  {
   "cell_type": "code",
   "execution_count": 10,
   "metadata": {},
   "outputs": [
    {
     "name": "stderr",
     "output_type": "stream",
     "text": [
      "100%|██████████| 8/8 [00:19<00:00,  2.44s/it]\n"
     ]
    }
   ],
   "source": [
    "ngrid = 2**onp.arange(3, 11)\n",
    "\n",
    "variances_mc = []\n",
    "variances_theory = []\n",
    "\n",
    "for n in tqdm(ngrid):\n",
    "    key, subkey = random.split(key)\n",
    "    variances_mc.append(mc_variance(subkey, n))\n",
    "    key, subkey = random.split(key)\n",
    "    variances_theory.append(mean_variance_est(subkey, n))\n",
    "    \n",
    "variances_mc = np.array(variances_mc)\n",
    "variances_theory = np.array(variances_theory)"
   ]
  },
  {
   "cell_type": "code",
   "execution_count": 11,
   "metadata": {},
   "outputs": [
    {
     "data": {
      "text/plain": [
       "<matplotlib.legend.Legend at 0x7faf542986a0>"
      ]
     },
     "execution_count": 11,
     "metadata": {},
     "output_type": "execute_result"
    },
    {
     "data": {
      "image/png": "[encoded data removed]",
      "text/plain": [
       "<Figure size 720x504 with 1 Axes>"
      ]
     },
     "metadata": {
      "needs_background": "light"
     },
     "output_type": "display_data"
    }
   ],
   "source": [
    "fig, ax = plt.subplots(figsize=[10,7])\n",
    "plt.plot(ngrid, variances_mc, \"--o\", label=\"sample\")\n",
    "plt.plot(ngrid, variances_theory, \"--o\", label=\"theory\")\n",
    "plt.yscale(\"log\")\n",
    "plt.xscale(\"log\")\n",
    "plt.legend()"
   ]
  },
  {
   "cell_type": "code",
   "execution_count": null,
   "metadata": {},
   "outputs": [],
   "source": [
    "fig, ax = plt.subplots(figsize=[10,7])\n",
    "plt.plot(ngrid, variances_theory - variances_mc)\n",
    "plt.plot(ngrid, 0.7 * 4 / ngrid, label=\"predicted\")\n",
    "# plt.yscale(\"log\")\n",
    "# plt.xscale(\"log\")"
   ]
  },
  {
   "cell_type": "code",
   "execution_count": null,
   "metadata": {},
   "outputs": [],
   "source": [
    "lsdjf"
   ]
  },
  {
   "cell_type": "markdown",
   "metadata": {},
   "source": [
    "# check subcomputations for bias"
   ]
  },
  {
   "cell_type": "markdown",
   "metadata": {},
   "source": [
    "### $\\text{Var}_X(\\text{E}_Y[h(X, Y)])$"
   ]
  },
  {
   "cell_type": "code",
   "execution_count": 13,
   "metadata": {},
   "outputs": [],
   "source": [
    "def h(x, y):\n",
    "    return stein.h(x, y, kernel, target.logpdf)\n",
    "# def h(x, y): return np.squeeze(x+y)\n",
    "hvv = vmap(vmap(h, (None, 0)), (0, None))\n",
    "\n",
    "@partial(jit, static_argnums=0)\n",
    "def var_exp_mc(n, key):\n",
    "    key_x, key_y = random.split(key)\n",
    "    def exp_hxy(y, key):\n",
    "        \"\"\"Return E_x[h(x, y)]\"\"\"\n",
    "        xs = source.sample(n, key=key)\n",
    "        return np.mean(vmap(h, (0, None))(xs, y))\n",
    "    \n",
    "    keys = random.split(key_x, n)\n",
    "    ys = source.sample(n, key=key_y)\n",
    "    return np.var(vmap(exp_hxy)(ys, keys))\n",
    "    \n",
    "@partial(jit, static_argnums=0)\n",
    "def var_exp_quadratic(n, key):\n",
    "    samples = source.sample(n, key=key)\n",
    "    gram = hvv(samples, samples)\n",
    "    return variance.var_exp(gram)\n",
    "\n",
    "def mean_var_exp(n, m, key):\n",
    "    \"\"\"Return mean brute-force over m samples of n particles\"\"\"\n",
    "    keys = random.split(key, m)\n",
    "    return np.mean(vmap(var_exp_mc,       (None, 0))(n, keys))\n",
    "\n",
    "def mean_var_exp_quadratic(n, m, key):\n",
    "    \"\"\"Return mean brute-force over m samples of n particles\"\"\"\n",
    "    keys = random.split(key, m)\n",
    "    return np.mean(vmap(var_exp_quadratic, (None, 0))(n, keys))"
   ]
  },
  {
   "cell_type": "code",
   "execution_count": null,
   "metadata": {},
   "outputs": [],
   "source": [
    "lgrid = np.arange(100, 500, 10)\n",
    "key, *subkeys = random.split(key, len(lgrid)+1)\n",
    "l = [var_exp_mc(n, k) for n, k in zip(lgrid, subkeys)]"
   ]
  },
  {
   "cell_type": "code",
   "execution_count": null,
   "metadata": {},
   "outputs": [],
   "source": [
    "plt.plot(lgrid, l)\n",
    "plt.axhline(y=onp.mean(l[-20:]))"
   ]
  },
  {
   "cell_type": "code",
   "execution_count": null,
   "metadata": {},
   "outputs": [],
   "source": [
    "m = 100\n",
    "ngrid = 2**onp.arange(6, 13)\n",
    "\n",
    "variances = []\n",
    "variances_quadratic = []\n",
    "\n",
    "for n in tqdm(ngrid):\n",
    "    key, subkey = random.split(key)\n",
    "    variances.append(mean_var_exp(n, m, subkey))\n",
    "    key, subkey = random.split(key)\n",
    "    variances_quadratic.append(mean_var_exp_quadratic(n, m, subkey))\n",
    "    \n",
    "variances = np.array(variances)\n",
    "variances_quadratic = np.array(variances_quadratic)"
   ]
  },
  {
   "cell_type": "code",
   "execution_count": null,
   "metadata": {},
   "outputs": [],
   "source": [
    "fig, ax = plt.subplots(figsize=[10,7])\n",
    "plt.plot(ngrid, variances, \"--o\", label=\"linear\")\n",
    "plt.plot(ngrid, variances_quadratic, \"--o\", label=\"quadratic\")\n",
    "plt.yscale(\"log\")\n",
    "plt.legend()"
   ]
  },
  {
   "cell_type": "code",
   "execution_count": null,
   "metadata": {},
   "outputs": [],
   "source": [
    "fig, ax = plt.subplots(figsize=[10,7])\n",
    "plt.plot(ngrid, variances_quadratic - variances, \"--o\", label=\"Diff\")\n",
    "plt.legend()"
   ]
  },
  {
   "cell_type": "markdown",
   "metadata": {},
   "source": [
    "### $ \\text{Var}_{XY}(h(X, Y))$"
   ]
  },
  {
   "cell_type": "code",
   "execution_count": null,
   "metadata": {},
   "outputs": [],
   "source": [
    "def h(x, y):\n",
    "    return stein.h(x, y, kernel, target.logpdf)\n",
    "hvv = vmap(vmap(h, (None, 0)), (0, None))\n",
    "\n",
    "@partial(jit, static_argnums=0)\n",
    "def var_hxy_mc(n, key):\n",
    "    xs, ys = source.sample(2*n, key=key).split(2)\n",
    "    return np.var(vmap(h)(xs, ys))\n",
    "    \n",
    "@partial(jit, static_argnums=0)\n",
    "def var_hxy_quadratic(n, key):\n",
    "    samples = source.sample(n, key=key)\n",
    "    gram = hvv(samples, samples)\n",
    "    return variance.var_hxy(gram)\n",
    "\n",
    "def mean_var_hxy(n, m, key):\n",
    "    \"\"\"Return mean brute-force over m samples of n particles\"\"\"\n",
    "    keys = random.split(key, m)\n",
    "    return np.mean(vmap(var_hxy_mc, (None, 0))(n, keys))\n",
    "\n",
    "def mean_var_hxy_quadratic(n, m, key):\n",
    "    \"\"\"Return mean brute-force over m samples of n particles\"\"\"\n",
    "    keys = random.split(key, m)\n",
    "    return np.mean(vmap(var_hxy_quadratic, (None, 0))(n, keys))"
   ]
  },
  {
   "cell_type": "code",
   "execution_count": null,
   "metadata": {},
   "outputs": [],
   "source": [
    "m = 300\n",
    "ngrid = 2**onp.arange(3, 11)\n",
    "\n",
    "variances = []\n",
    "variances_quadratic = []\n",
    "\n",
    "for n in tqdm(ngrid):\n",
    "    key, subkey = random.split(key)\n",
    "    variances.append(mean_var_hxy(n, m, subkey))\n",
    "    key, subkey = random.split(key)\n",
    "    variances_quadratic.append(mean_var_hxy_quadratic(n, m, subkey))\n",
    "\n",
    "fig, ax = plt.subplots(figsize=[10,7])\n",
    "plt.plot(ngrid, variances, \"--o\", label=\"linear\")\n",
    "plt.plot(ngrid, variances_quadratic, \"--o\", label=\"quadratic\")\n",
    "plt.yscale(\"log\")\n",
    "plt.legend()"
   ]
  }
 ],
 "metadata": {
  "kernelspec": {
   "display_name": "msc-thesis",
   "language": "python",
   "name": "msc-thesis"
  },
  "language_info": {
   "codemirror_mode": {
    "name": "ipython",
    "version": 3
   },
   "file_extension": ".py",
   "mimetype": "text/x-python",
   "name": "python",
   "nbconvert_exporter": "python",
   "pygments_lexer": "ipython3",
   "version": "3.8.2"
  }
 },
 "nbformat": 4,
 "nbformat_minor": 4
}
