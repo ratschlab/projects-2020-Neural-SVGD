{
 "cells": [
  {
   "cell_type": "markdown",
   "metadata": {},
   "source": [
    "# Wasserstein distance estimation"
   ]
  },
  {
   "cell_type": "code",
   "execution_count": 1,
   "metadata": {},
   "outputs": [
    {
     "name": "stderr",
     "output_type": "stream",
     "text": [
      "/home/lauro/.virtualenvs/msc-thesis/lib/python3.8/site-packages/jax/lib/xla_bridge.py:125: UserWarning: No GPU/TPU found, falling back to CPU.\n",
      "  warnings.warn('No GPU/TPU found, falling back to CPU.')\n"
     ]
    }
   ],
   "source": [
    "import sys\n",
    "sys.path.append(\"/home/lauro/code/msc-thesis/svgd/kernel_learning\")\n",
    "sys.path.append(\"/home/lauro/code/msc-thesis/wassdistance\")\n",
    "\n",
    "import jax\n",
    "import jax.numpy as np\n",
    "from jax import grad, jit, vmap, random, lax, jacfwd\n",
    "from jax import lax\n",
    "from jax.ops import index_update, index\n",
    "from jax.experimental import optimizers\n",
    "\n",
    "import matplotlib.pyplot as plt\n",
    "import numpy as onp\n",
    "from tqdm import tqdm\n",
    "import time\n",
    "from functools import partial\n",
    "\n",
    "import utils\n",
    "import metrics\n",
    "import plot\n",
    "from svgd import SVGD\n",
    "import svgd\n",
    "import stein\n",
    "import kernels\n",
    "import train\n",
    "\n",
    "rkey = random.PRNGKey(0)\n",
    "\n",
    "from jax.config import config; config.update(\"jax_log_compiles\", 1)"
   ]
  },
  {
   "cell_type": "markdown",
   "metadata": {},
   "source": [
    "# Get samples"
   ]
  },
  {
   "cell_type": "code",
   "execution_count": 35,
   "metadata": {},
   "outputs": [
    {
     "name": "stderr",
     "output_type": "stream",
     "text": [
      "WARNING:absl:Compiling _multivariate_normal for args (ShapedArray(uint32[2]), ShapedArray(float32[2]), ShapedArray(int32[2,2])).\n"
     ]
    }
   ],
   "source": [
    "d1 = distributions.Gaussian([0, 0], 1)\n",
    "d2 = distributions.Gaussian([0, 0.5], 1)\n",
    "\n",
    "n = 5000\n",
    "m = 5000\n",
    "sa = d1.sample(n)\n",
    "d2.newkey()\n",
    "sb = d2.sample(m)\n",
    "a = np.ones(n) / n\n",
    "b = np.ones(m) / m\n",
    "\n",
    "distance = \"sqeuclidean\"\n",
    "# distance = \"euclidean\"\n",
    "\n",
    "from scipy.spatial.distance import cdist\n",
    "C = cdist(sa, sb, distance)"
   ]
  },
  {
   "cell_type": "code",
   "execution_count": 36,
   "metadata": {},
   "outputs": [
    {
     "data": {
      "text/plain": [
       "array([0.2939886])"
      ]
     },
     "execution_count": 36,
     "metadata": {},
     "output_type": "execute_result"
    }
   ],
   "source": [
    "ot.bregman.empirical_sinkhorn_divergence(sa, sb, 1, metric=distance)"
   ]
  },
  {
   "cell_type": "markdown",
   "metadata": {},
   "source": [
    "## Python Optimal Transport"
   ]
  },
  {
   "cell_type": "code",
   "execution_count": 25,
   "metadata": {},
   "outputs": [
    {
     "name": "stdout",
     "output_type": "stream",
     "text": [
      "EMD = 0.10683221\n"
     ]
    }
   ],
   "source": [
    "import ot\n",
    "emd = ot.emd2(a, b, C, numItermax=10**6)\n",
    "if distance == \"sqeuclidean\":\n",
    "    print(\"EMD =\", np.sqrt(emd))\n",
    "else:\n",
    "    print(\"EMD =\", emd)"
   ]
  },
  {
   "cell_type": "markdown",
   "metadata": {},
   "source": [
    "## Scipy"
   ]
  },
  {
   "cell_type": "markdown",
   "metadata": {},
   "source": [
    "Implementation idea from here: https://stackoverflow.com/questions/57562613/python-earth-mover-distance-of-2d-arrays"
   ]
  },
  {
   "cell_type": "markdown",
   "metadata": {},
   "source": [
    "NOTE: only works if both sets of samples have the same number of samples. That's the premise behind using linear_sum_assignment here."
   ]
  },
  {
   "cell_type": "code",
   "execution_count": 26,
   "metadata": {},
   "outputs": [
    {
     "name": "stdout",
     "output_type": "stream",
     "text": [
      "EMD = 0.10683221\n"
     ]
    }
   ],
   "source": [
    "from scipy.optimize import linear_sum_assignment\n",
    "assignment = linear_sum_assignment(C)\n",
    "emd = C[assignment].sum() / n\n",
    "\n",
    "if distance == \"sqeuclidean\":\n",
    "    print(\"EMD =\", np.sqrt(emd))\n",
    "else:\n",
    "    print(\"EMD =\", emd)"
   ]
  },
  {
   "cell_type": "markdown",
   "metadata": {},
   "source": [
    "## Analytical Wasserstein distance between two gaussians"
   ]
  },
  {
   "cell_type": "markdown",
   "metadata": {},
   "source": [
    "Let $\\mu_{1}=\\mathcal{N}\\left(m_{1}, C_{1}\\right)$ and $\\mu_{2}=\\mathcal{N}\\left(m_{2}, C_{2}\\right)$ be two non-degenerate Gaussian measures (i.e. normal distributions) on $\\mathbb{R}^{n},$ with respective expected values $m_{1}$ and $m_{2} \\in \\mathbb{R}^{n}$ and symmetric positive semi-definite covariance matrices $C_{1}$ and $C_{2} \\in \\mathbb{R}^{n \\times n} .$ Then, with respect to the usual Euclidean norm on $\\mathbb{R}^{n},$ the 2\n",
    "Wasserstein distance between $\\mu_{1}$ and $\\mu_{2}$ is\n",
    "\n",
    "$$W_{2}\\left(\\mu_{1}, \\mu_{2}\\right)^{2}=\\left\\|m_{1}-m_{2}\\right\\|_{2}^{2}+\\operatorname{trace}\\left(C_{1}+C_{2}-2\\left(C_{2}^{1 / 2} C_{1} C_{2}^{1 / 2}\\right)^{1 / 2}\\right)$$"
   ]
  },
  {
   "cell_type": "code",
   "execution_count": 27,
   "metadata": {},
   "outputs": [],
   "source": [
    "def analytical_wasserstein(ma, mb, cova, covb):\n",
    "    \"\"\"Compute Wasserstein distance of order 2 between two Gaussians.\"\"\"\n",
    "    ma = np.asarray(ma)\n",
    "    mb = np.asarray(mb)\n",
    "    cova = np.asarray(cova)\n",
    "    covb = np.asarray(covb)\n",
    "    sqrtcovb = np.sqrt(covb)\n",
    "    if np.squeeze(ma).ndim > 0:\n",
    "        wsquared = np.sum((ma - mb)**2) + np.trace(cova + covb - 2 * np.sqrt(np.matmul(np.matmul(sqrtcovb, cova), sqrtcovb)))\n",
    "        return np.sqrt(wsquared)\n",
    "    else:\n",
    "        return np.sqrt((ma - mb)**2 + cova + covb - 2 * np.sqrt(cova * covb))"
   ]
  },
  {
   "cell_type": "code",
   "execution_count": 28,
   "metadata": {},
   "outputs": [
    {
     "data": {
      "text/plain": [
       "DeviceArray(0., dtype=float32)"
      ]
     },
     "execution_count": 28,
     "metadata": {},
     "output_type": "execute_result"
    }
   ],
   "source": [
    "analytical_wasserstein(d1.mean, d2.mean, d1.cov, d2.cov)"
   ]
  },
  {
   "cell_type": "markdown",
   "metadata": {},
   "source": [
    "# Sinkhorn distance"
   ]
  },
  {
   "cell_type": "code",
   "execution_count": 29,
   "metadata": {},
   "outputs": [
    {
     "data": {
      "text/plain": [
       "array([0.88222351])"
      ]
     },
     "execution_count": 29,
     "metadata": {},
     "output_type": "execute_result"
    }
   ],
   "source": [
    "sinkhorn = ot.sinkhorn2(a, b, C, 1, numItermax=10**6)\n",
    "sinkhorn"
   ]
  },
  {
   "cell_type": "code",
   "execution_count": 30,
   "metadata": {},
   "outputs": [
    {
     "data": {
      "text/plain": [
       "array([0.88222353])"
      ]
     },
     "execution_count": 30,
     "metadata": {},
     "output_type": "execute_result"
    }
   ],
   "source": [
    "ot.bregman.empirical_sinkhorn2(sa, sb, 1, metric=distance)"
   ]
  },
  {
   "cell_type": "code",
   "execution_count": 31,
   "metadata": {},
   "outputs": [
    {
     "data": {
      "text/plain": [
       "array([0.88222353])"
      ]
     },
     "execution_count": 31,
     "metadata": {},
     "output_type": "execute_result"
    }
   ],
   "source": [
    "ot.bregman.empirical_sinkhorn2(sa, sb, 1, metric=distance)"
   ]
  },
  {
   "cell_type": "code",
   "execution_count": null,
   "metadata": {},
   "outputs": [],
   "source": [
    "ot.bregman.empirical_sinkhorn_divergence(sa, sb, 1, metric=distance)"
   ]
  }
 ],
 "metadata": {
  "kernelspec": {
   "display_name": "msc-thesis",
   "language": "python",
   "name": "msc-thesis"
  },
  "language_info": {
   "codemirror_mode": {
    "name": "ipython",
    "version": 3
   },
   "file_extension": ".py",
   "mimetype": "text/x-python",
   "name": "python",
   "nbconvert_exporter": "python",
   "pygments_lexer": "ipython3",
   "version": "3.8.2"
  }
 },
 "nbformat": 4,
 "nbformat_minor": 4
}
