{
 "cells": [
  {
   "cell_type": "markdown",
   "metadata": {},
   "source": [
    "# KSD Bandwidth sweep"
   ]
  },
  {
   "cell_type": "code",
   "execution_count": 1,
   "metadata": {},
   "outputs": [
    {
     "name": "stderr",
     "output_type": "stream",
     "text": [
      "/home/lauro/.virtualenvs/msc-thesis/lib/python3.8/site-packages/jax/lib/xla_bridge.py:125: UserWarning: No GPU/TPU found, falling back to CPU.\n",
      "  warnings.warn('No GPU/TPU found, falling back to CPU.')\n"
     ]
    }
   ],
   "source": [
    "import sys\n",
    "import os\n",
    "sys.path.append(\"/home/lauro/code/msc-thesis/svgd/kernel_learning\")\n",
    "import json_tricks as json\n",
    "import copy\n",
    "\n",
    "from tqdm import tqdm\n",
    "import jax.numpy as np\n",
    "from jax import grad, jit, vmap, random, lax, jacfwd, value_and_grad\n",
    "from jax import lax\n",
    "from jax.ops import index_update, index\n",
    "import matplotlib.pyplot as plt\n",
    "import numpy as onp\n",
    "import jax\n",
    "import pandas as pd\n",
    "import haiku as hk\n",
    "from jax.experimental import optimizers\n",
    "\n",
    "import config\n",
    "\n",
    "import utils\n",
    "import metrics\n",
    "import time\n",
    "import plot\n",
    "import stein\n",
    "import kernels\n",
    "import svgd\n",
    "import distributions\n",
    "import nets\n",
    "\n",
    "from jax.experimental import optimizers\n",
    "\n",
    "key = random.PRNGKey(0)"
   ]
  },
  {
   "cell_type": "markdown",
   "metadata": {},
   "source": [
    "# Summary\n",
    "Assume proposal $\\mathcal N(0,1)$ and target $\\mathcal N(1,1)$. Sample 400 particles from proposal.\n",
    "Then KSD U-estimator has following bandwidth dependent dynamics:\n",
    "* bandwidth $h<10^{-2}$: high variance, estimates from ~ -100 to 100. The true KSD is probably close to zero.\n",
    "* bandwidth $10^{-2} < h < 10$: KSD grows from <0.1 to ca. 0.9. Variance still decently large.\n",
    "* bandwidth $h>10$: KSD stays constant (kernel is essentially equal to $1$ everywhere)\n",
    "\n",
    "#### The weirdest part:\n",
    "KSD is *greatest* in the latter regime, where the bandwidth is totally indiscriminate. This is contrary to intuition---large KSD should mean a bandwidth that discriminates well."
   ]
  },
  {
   "cell_type": "code",
   "execution_count": 2,
   "metadata": {},
   "outputs": [],
   "source": [
    "target   = distributions.Gaussian(0, 0.1)\n",
    "proposal = distributions.Gaussian(0, 15)"
   ]
  },
  {
   "cell_type": "markdown",
   "metadata": {},
   "source": [
    "## sweep"
   ]
  },
  {
   "cell_type": "code",
   "execution_count": 3,
   "metadata": {},
   "outputs": [],
   "source": [
    "m = 15 # nr of computations for var\n",
    "n = 200 # nr particles"
   ]
  },
  {
   "cell_type": "code",
   "execution_count": 4,
   "metadata": {},
   "outputs": [],
   "source": [
    "# estimate KSD and Var(\\hat KSD) values for base kernels\n",
    "def estimate_ksd_and_stddev(key, n: int, m: int, kernel, proposal, target):\n",
    "    \"\"\"\n",
    "    n: number of particles\n",
    "    m: number of draws for variance estimation\n",
    "    \n",
    "    Returns\n",
    "    ksd: mean ksd value\n",
    "    std: standard dev\n",
    "    \"\"\"\n",
    "    ksds_list = []\n",
    "#     @jit\n",
    "    def sample_ksd(samples):\n",
    "        return stein.ksd_squared_u(samples, target.logpdf, kernel, False)\n",
    "    for _ in range(m):\n",
    "        key, subkey = random.split(key)\n",
    "        samples = proposal.sample(n, key=subkey)\n",
    "        ksd = sample_ksd(samples)\n",
    "        ksds_list.append(ksd)\n",
    "    ksd = np.mean(np.asarray(ksds_list))\n",
    "    std = np.std(np.asarray(ksds_list))\n",
    "    return ksd, std"
   ]
  },
  {
   "cell_type": "code",
   "execution_count": 5,
   "metadata": {},
   "outputs": [],
   "source": [
    "key, subkey = random.split(key)\n",
    "@jit\n",
    "def compute_ksds(h):\n",
    "    rbf = kernels.get_rbf_kernel(h)\n",
    "    tophat = kernels.get_tophat_kernel(h)\n",
    "    \n",
    "    ksd_rbf, var_rbf = estimate_ksd_and_stddev(subkey, n, m, rbf, proposal, target)\n",
    "    ksd_top, var_top = estimate_ksd_and_stddev(subkey, n, m, tophat, proposal, target)\n",
    "    return ksd_rbf, var_rbf, ksd_top, var_top"
   ]
  },
  {
   "cell_type": "code",
   "execution_count": 6,
   "metadata": {},
   "outputs": [
    {
     "name": "stderr",
     "output_type": "stream",
     "text": [
      "100%|██████████| 50/50 [00:11<00:00,  4.28it/s]\n"
     ]
    }
   ],
   "source": [
    "grid = 2**np.linspace(-13, 8, 50)\n",
    "grid_means_rbf = []\n",
    "grid_means_top = []\n",
    "grid_var_rbf = []\n",
    "grid_var_top = []\n",
    "\n",
    "for h in tqdm(grid):\n",
    "    ksd_rbf, var_rbf, ksd_top, var_top = compute_ksds(h)\n",
    "    grid_means_rbf.append(ksd_rbf)\n",
    "    grid_var_rbf.append(var_rbf)\n",
    "    grid_means_top.append(ksd_top)\n",
    "    grid_var_top.append(var_top)\n",
    "\n",
    "grid_var_rbf = np.array(grid_var_rbf)"
   ]
  },
  {
   "cell_type": "code",
   "execution_count": 7,
   "metadata": {},
   "outputs": [],
   "source": [
    "# estimate KSD and Var(\\hat KSD) values for base kernels\n",
    "ksd_c, var_c = estimate_ksd_and_stddev(subkey, n, m, kernels.constant_kernel, proposal, target)"
   ]
  },
  {
   "cell_type": "code",
   "execution_count": 8,
   "metadata": {},
   "outputs": [],
   "source": [
    "lims = (-1000, 1000)"
   ]
  },
  {
   "cell_type": "code",
   "execution_count": 9,
   "metadata": {},
   "outputs": [
    {
     "data": {
      "text/plain": [
       "<matplotlib.legend.Legend at 0x7f76f0585fd0>"
      ]
     },
     "execution_count": 9,
     "metadata": {},
     "output_type": "execute_result"
    },
    {
     "data": {
      "image/png": "[encoded data removed]",
      "text/plain": [
       "<Figure size 576x504 with 1 Axes>"
      ]
     },
     "metadata": {
      "needs_background": "light"
     },
     "output_type": "display_data"
    }
   ],
   "source": [
    "fig, ax = plt.subplots(figsize=[8,7])\n",
    "plt.errorbar(grid, grid_means_rbf, yerr=grid_var_rbf, fmt=\"--o\", label=\"KSD-U\")\n",
    "plt.errorbar(grid, grid_means_top, yerr=grid_var_top, fmt=\"--o\", label=\"KSD-U-tophat\")\n",
    "plt.axhline(y=ksd_c, label=\"constant kernel=1\", color=\"r\")\n",
    "plt.xscale(\"log\")\n",
    "plt.ylabel(\"KSD\")\n",
    "plt.xlabel(\"Bandwidth\")\n",
    "plt.ylim(lims)\n",
    "plt.legend()"
   ]
  },
  {
   "cell_type": "markdown",
   "metadata": {},
   "source": [
    "### plot single sample"
   ]
  },
  {
   "cell_type": "code",
   "execution_count": 14,
   "metadata": {},
   "outputs": [
    {
     "data": {
      "text/plain": [
       "<matplotlib.legend.Legend at 0x7f76307d9640>"
      ]
     },
     "execution_count": 14,
     "metadata": {},
     "output_type": "execute_result"
    },
    {
     "data": {
      "image/png": "[encoded data removed]",
      "text/plain": [
       "<Figure size 576x504 with 1 Axes>"
      ]
     },
     "metadata": {
      "needs_background": "light"
     },
     "output_type": "display_data"
    }
   ],
   "source": [
    "@jit\n",
    "def sample_ksd(sample, bandwidth):\n",
    "    return stein.ksd_squared_u(sample, target.logpdf, kernels.get_rbf_kernel(bandwidth))\n",
    "sample = proposal.sample(n)\n",
    "grid_ksds_single = []\n",
    "for h in grid:\n",
    "    grid_ksds_single.append(sample_ksd(sample, h))\n",
    "grid_ksds_single = np.array(grid_ksds_single)\n",
    "\n",
    "fig, ax = plt.subplots(figsize=[8,7])\n",
    "\n",
    "plt.plot(grid, grid_ksds_single, \"--o\", label=\"KSD-U\")\n",
    "plt.plot(grid, grid_ksds_single / np.sqrt(grid_var_rbf), \"--o\", label=\"KSD-U variance regularized\")\n",
    "plt.ylim(lims)\n",
    "plt.xscale(\"log\")\n",
    "plt.ylabel(\"KSD\")\n",
    "plt.xlabel(\"Bandwidth\")\n",
    "plt.legend()"
   ]
  },
  {
   "cell_type": "code",
   "execution_count": null,
   "metadata": {},
   "outputs": [],
   "source": []
  },
  {
   "cell_type": "markdown",
   "metadata": {},
   "source": [
    "## asymptote at $k(x, y) = 1$ is not scale-invariant"
   ]
  },
  {
   "cell_type": "code",
   "execution_count": 11,
   "metadata": {},
   "outputs": [
    {
     "name": "stderr",
     "output_type": "stream",
     "text": [
      "100%|██████████| 100/100 [00:22<00:00,  4.39it/s]\n"
     ]
    }
   ],
   "source": [
    "scales = np.linspace(1, 100, 100)\n",
    "n = 400\n",
    "ksds=[]\n",
    "for scale in tqdm(scales):\n",
    "    mean = scale*1\n",
    "    stddev = scale*1\n",
    "    proposal = distributions.Gaussian(0,stddev**2)\n",
    "    target = distributions.Gaussian(mean, stddev**2)\n",
    "    samples = proposal.sample(n)\n",
    "    \n",
    "    ksds.append(stein.ksd_squared_u(samples, target.logpdf, kernels.constant_kernel, False))"
   ]
  },
  {
   "cell_type": "code",
   "execution_count": 12,
   "metadata": {},
   "outputs": [
    {
     "data": {
      "image/png": "[encoded data removed]",
      "text/plain": [
       "<Figure size 432x288 with 1 Axes>"
      ]
     },
     "metadata": {
      "needs_background": "light"
     },
     "output_type": "display_data"
    }
   ],
   "source": [
    "plt.plot(scales, ksds, \"r\")\n",
    "plt.yscale(\"log\")"
   ]
  }
 ],
 "metadata": {
  "kernelspec": {
   "display_name": "msc-thesis",
   "language": "python",
   "name": "msc-thesis"
  },
  "language_info": {
   "codemirror_mode": {
    "name": "ipython",
    "version": 3
   },
   "file_extension": ".py",
   "mimetype": "text/x-python",
   "name": "python",
   "nbconvert_exporter": "python",
   "pygments_lexer": "ipython3",
   "version": "3.8.2"
  }
 },
 "nbformat": 4,
 "nbformat_minor": 4
}
