{
 "cells": [
  {
   "cell_type": "markdown",
   "metadata": {},
   "source": [
    "# KSD Bandwidth sweep"
   ]
  },
  {
   "cell_type": "code",
   "execution_count": 1,
   "metadata": {},
   "outputs": [
    {
     "name": "stderr",
     "output_type": "stream",
     "text": [
      "/home/lauro/.virtualenvs/msc-thesis/lib/python3.8/site-packages/jax/lib/xla_bridge.py:125: UserWarning: No GPU/TPU found, falling back to CPU.\n",
      "  warnings.warn('No GPU/TPU found, falling back to CPU.')\n"
     ]
    }
   ],
   "source": [
    "import sys\n",
    "import os\n",
    "sys.path.append(\"/home/lauro/code/msc-thesis/svgd/kernel_learning\")\n",
    "import json_tricks as json\n",
    "import copy\n",
    "\n",
    "from tqdm import tqdm\n",
    "import jax.numpy as np\n",
    "from jax import grad, jit, vmap, random, lax, jacfwd, value_and_grad\n",
    "from jax import lax\n",
    "from jax.ops import index_update, index\n",
    "import matplotlib.pyplot as plt\n",
    "import numpy as onp\n",
    "import jax\n",
    "import pandas as pd\n",
    "import haiku as hk\n",
    "from jax.experimental import optimizers\n",
    "\n",
    "import config\n",
    "\n",
    "import utils\n",
    "import metrics\n",
    "import time\n",
    "import plot\n",
    "import stein\n",
    "import kernels\n",
    "import svgd\n",
    "import distributions\n",
    "import nets\n",
    "\n",
    "from jax.experimental import optimizers\n",
    "\n",
    "key = random.PRNGKey(0)"
   ]
  },
  {
   "cell_type": "markdown",
   "metadata": {},
   "source": [
    "# Summary\n",
    "Assume proposal $\\mathcal N(0,1)$ and target $\\mathcal N(1,1)$. Sample 400 particles from proposal.\n",
    "Then KSD U-estimator has following bandwidth dependent dynamics:\n",
    "* bandwidth $h<10^{-2}$: high variance, estimates from ~ -100 to 100. The true KSD is probably close to zero.\n",
    "* bandwidth $10^{-2} < h < 10$: KSD grows from <0.1 to ca. 0.9. Variance still decently large.\n",
    "* bandwidth $h>10$: KSD stays constant (kernel is essentially equal to $1$ everywhere)\n",
    "\n",
    "## The weirdest part\n",
    "KSD is *greatest* in the latter regime, where the bandwidth is totally indiscriminate. This is contrary to intuition---large KSD should mean a bandwidth that discriminates well."
   ]
  },
  {
   "cell_type": "code",
   "execution_count": 2,
   "metadata": {},
   "outputs": [],
   "source": [
    "# initialize kernel, proposal dist, and target dist\n",
    "def get_rbf_fn(bandwidth):\n",
    "    logh = np.asarray(bandwidth)\n",
    "    logh = np.squeeze(bandwidth)\n",
    "    def rbf(x, y): return np.exp(- np.sum((x - y)**2 / bandwidth**2) / 2)\n",
    "    return rbf\n",
    "scale=5\n",
    "# mean = scale*1\n",
    "# stddev = scale*1\n",
    "proposal = distributions.Gaussian(0, 1)\n",
    "target   = distributions.Gaussian(0, 25)"
   ]
  },
  {
   "cell_type": "code",
   "execution_count": 3,
   "metadata": {},
   "outputs": [
    {
     "data": {
      "text/plain": [
       "[<matplotlib.lines.Line2D at 0x7fcdd019fd60>]"
      ]
     },
     "execution_count": 3,
     "metadata": {},
     "output_type": "execute_result"
    },
    {
     "data": {
      "image/png": "[encoded data removed]",
      "text/plain": [
       "<Figure size 432x288 with 1 Axes>"
      ]
     },
     "metadata": {
      "needs_background": "light"
     },
     "output_type": "display_data"
    }
   ],
   "source": [
    "lgrid = np.linspace(-5*scale, 5*scale, 100)\n",
    "plt.plot(lgrid, vmap(target.pdf)(lgrid))\n",
    "plt.plot(lgrid, vmap(proposal.pdf)(lgrid))"
   ]
  },
  {
   "cell_type": "code",
   "execution_count": 4,
   "metadata": {},
   "outputs": [],
   "source": [
    "# comparison kernels\n",
    "def constant(x, y): return np.array(1.)\n",
    "def null(x, y): return np.array(0.)\n",
    "def get_tophat_fn(bandwidth):\n",
    "    def tophat(x, y): return np.squeeze(np.where(np.abs(x-y)<bandwidth, 1., 0.))\n",
    "    return tophat"
   ]
  },
  {
   "cell_type": "markdown",
   "metadata": {},
   "source": [
    "## sweep"
   ]
  },
  {
   "cell_type": "code",
   "execution_count": 5,
   "metadata": {},
   "outputs": [],
   "source": [
    "@jit\n",
    "def compute_ksds(p):\n",
    "    rbf = get_rbf_fn(p)\n",
    "    tophat = get_tophat_fn(p)\n",
    "    ksd_rbf = stein.ksd_squared_u(samples, target.logpdf, rbf,    False)\n",
    "    ksd_top = stein.ksd_squared_u(samples, target.logpdf, tophat, False)\n",
    "    return ksd_rbf, ksd_top"
   ]
  },
  {
   "cell_type": "code",
   "execution_count": 6,
   "metadata": {},
   "outputs": [
    {
     "name": "stderr",
     "output_type": "stream",
     "text": [
      "100%|██████████| 10/10 [00:01<00:00,  6.19it/s]\n"
     ]
    }
   ],
   "source": [
    "n = 200\n",
    "grid = 2**np.linspace(-4, 5, 25)\n",
    "m=10\n",
    "ksds_rbf = []\n",
    "ksds_top = []\n",
    "for _ in tqdm(range(m)):\n",
    "    grid_ksds_rbf = []\n",
    "    grid_ksds_top = []\n",
    "    samples = proposal.sample(n)\n",
    "    for p in grid:\n",
    "        ksd_rbf, ksd_top = compute_ksds(p)\n",
    "        grid_ksds_rbf.append(ksd_rbf)\n",
    "        grid_ksds_top.append(ksd_top)\n",
    "    ksds_rbf.append(grid_ksds_rbf)\n",
    "    ksds_top.append(grid_ksds_top)"
   ]
  },
  {
   "cell_type": "code",
   "execution_count": 7,
   "metadata": {},
   "outputs": [],
   "source": [
    "ksds_rbf = np.array(ksds_rbf)\n",
    "ksds_top = np.array(ksds_top)\n",
    "\n",
    "grid_means_rbf = np.mean(ksds_rbf, axis=0)\n",
    "grid_means_top = np.mean(ksds_top, axis=0)\n",
    "\n",
    "grid_var_rbf = np.std(ksds_rbf, axis=0)\n",
    "grid_var_top = np.std(ksds_top, axis=0)"
   ]
  },
  {
   "cell_type": "code",
   "execution_count": 8,
   "metadata": {},
   "outputs": [],
   "source": [
    "temp=[]\n",
    "for _ in range(20):\n",
    "    samples = proposal.sample(n)\n",
    "    ksd_c = stein.ksd_squared_u(samples, target.logpdf, constant, False)\n",
    "    temp.append(ksd_c)\n",
    "ksd_c = onp.mean(ksd_c)"
   ]
  },
  {
   "cell_type": "code",
   "execution_count": 13,
   "metadata": {},
   "outputs": [
    {
     "data": {
      "text/plain": [
       "<matplotlib.legend.Legend at 0x7fcda80e4be0>"
      ]
     },
     "execution_count": 13,
     "metadata": {},
     "output_type": "execute_result"
    },
    {
     "data": {
      "image/png": "[encoded data removed]",
      "text/plain": [
       "<Figure size 432x288 with 1 Axes>"
      ]
     },
     "metadata": {
      "needs_background": "light"
     },
     "output_type": "display_data"
    }
   ],
   "source": [
    "plt.errorbar(grid, grid_means_rbf, yerr=grid_var_rbf, fmt=\"--o\", label=\"KSD-U\")\n",
    "plt.errorbar(grid, grid_means_top, yerr=grid_var_top, fmt=\"--o\", label=\"KSD-U-tophat\")\n",
    "plt.axhline(y=ksd_c, label=\"constant kernel=1\", color=\"r\")\n",
    "plt.xscale(\"log\")\n",
    "plt.ylabel(\"KSD\")\n",
    "plt.xlabel(\"Bandwidth\")\n",
    "plt.legend()"
   ]
  },
  {
   "cell_type": "markdown",
   "metadata": {},
   "source": [
    "## asymptote at $k(x, y) = 1$ is not scale-invariant"
   ]
  },
  {
   "cell_type": "code",
   "execution_count": 10,
   "metadata": {},
   "outputs": [
    {
     "name": "stderr",
     "output_type": "stream",
     "text": [
      "100%|██████████| 100/100 [00:20<00:00,  4.87it/s]\n"
     ]
    }
   ],
   "source": [
    "scales = np.linspace(1, 100, 100)\n",
    "n = 400\n",
    "ksds=[]\n",
    "for scale in tqdm(scales):\n",
    "    mean = scale*1\n",
    "    stddev = scale*1\n",
    "    proposal = distributions.Gaussian(0,stddev**2)\n",
    "    target = distributions.Gaussian(mean, stddev**2)\n",
    "    samples = proposal.sample(n)\n",
    "    \n",
    "    ksds.append(stein.ksd_squared_u(samples, target.logpdf, constant, False))"
   ]
  },
  {
   "cell_type": "code",
   "execution_count": 11,
   "metadata": {},
   "outputs": [
    {
     "data": {
      "image/png": "[encoded data removed]",
      "text/plain": [
       "<Figure size 432x288 with 1 Axes>"
      ]
     },
     "metadata": {
      "needs_background": "light"
     },
     "output_type": "display_data"
    }
   ],
   "source": [
    "plt.plot(scales, ksds, \"r\")\n",
    "plt.yscale(\"log\")"
   ]
  }
 ],
 "metadata": {
  "kernelspec": {
   "display_name": "msc-thesis",
   "language": "python",
   "name": "msc-thesis"
  },
  "language_info": {
   "codemirror_mode": {
    "name": "ipython",
    "version": 3
   },
   "file_extension": ".py",
   "mimetype": "text/x-python",
   "name": "python",
   "nbconvert_exporter": "python",
   "pygments_lexer": "ipython3",
   "version": "3.8.2"
  }
 },
 "nbformat": 4,
 "nbformat_minor": 4
}
