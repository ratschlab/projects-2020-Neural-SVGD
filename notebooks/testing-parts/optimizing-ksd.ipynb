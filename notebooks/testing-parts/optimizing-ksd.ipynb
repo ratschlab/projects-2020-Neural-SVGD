{
 "cells": [
  {
   "cell_type": "markdown",
   "metadata": {},
   "source": [
    "# Optimizing the KSD"
   ]
  },
  {
   "cell_type": "code",
   "execution_count": 1,
   "metadata": {},
   "outputs": [
    {
     "name": "stderr",
     "output_type": "stream",
     "text": [
      "/home/lauro/.virtualenvs/msc-thesis/lib/python3.8/site-packages/jax/lib/xla_bridge.py:125: UserWarning: No GPU/TPU found, falling back to CPU.\n",
      "  warnings.warn('No GPU/TPU found, falling back to CPU.')\n"
     ]
    }
   ],
   "source": [
    "from jax import config\n",
    "config.update(\"jax_debug_nans\", True)\n",
    "\n",
    "import sys\n",
    "import os\n",
    "sys.path.append(\"/home/lauro/code/msc-thesis/svgd/kernel_learning/\")\n",
    "import json_tricks as json\n",
    "import copy\n",
    "from functools import partial\n",
    "\n",
    "from tqdm import tqdm\n",
    "import jax.numpy as np\n",
    "from jax import grad, jit, vmap, random, lax, jacfwd, value_and_grad\n",
    "from jax import lax\n",
    "from jax.ops import index_update, index\n",
    "import matplotlib.pyplot as plt\n",
    "import numpy as onp\n",
    "import jax\n",
    "import pandas as pd\n",
    "import haiku as hk\n",
    "from jax.experimental import optimizers\n",
    "\n",
    "import config\n",
    "\n",
    "import utils\n",
    "import metrics\n",
    "import time\n",
    "import plot\n",
    "import stein\n",
    "import kernels\n",
    "import distributions\n",
    "import nets\n",
    "import kernel_learning\n",
    "\n",
    "from jax.experimental import optimizers\n",
    "\n",
    "key = random.PRNGKey(0)"
   ]
  },
  {
   "cell_type": "code",
   "execution_count": 2,
   "metadata": {},
   "outputs": [],
   "source": [
    "# estimate KSD and Var(\\hat KSD) values for base kernels\n",
    "def estimate_ksd_and_stddev(n: int, m: int, kernels, proposal, target):\n",
    "    \"\"\"\n",
    "    n: number of particles\n",
    "    m: number of draws for variance estimation\n",
    "    kernels: list of kernel functions\n",
    "    \n",
    "    Returns\n",
    "    ksds: mean ksd value for each kernel\n",
    "    stds: standard dev for each kernel\n",
    "    \"\"\"\n",
    "    ksds_list = [[] for kernel in kernels]\n",
    "    @partial(jit, static_argnums=1)\n",
    "    def sample_ksd(samples, kernel):\n",
    "        return stein.ksd_squared_u(samples, target.logpdf, kernel, False)\n",
    "    for _ in tqdm(range(m)):\n",
    "        samples = proposal.sample(n)\n",
    "        for kernel_ksds, kernel in zip(ksds_list, kernels):\n",
    "            ksd = sample_ksd(samples, kernel)\n",
    "            kernel_ksds.append(ksd)\n",
    "    \n",
    "    ksds = onp.mean(ksds_list, axis=1)\n",
    "    stds = onp.std(ksds_list, axis=1)\n",
    "    return ksds, stds"
   ]
  },
  {
   "cell_type": "markdown",
   "metadata": {},
   "source": [
    "#### Plot everything"
   ]
  },
  {
   "cell_type": "code",
   "execution_count": 3,
   "metadata": {},
   "outputs": [],
   "source": [
    "def plot_training(training_ksds, ksds, stds, ax=None, lims=None):\n",
    "    if ax is None:\n",
    "        ax = plt.gca()\n",
    "    grid_ksds = np.asarray(training_ksds)\n",
    "    ax.plot(grid_ksds, \"--k\", label=\"Optimized KSD\")\n",
    "\n",
    "    labels = (\"k(x, y)=1 constant\", \"RBF with bandwidth 1\", \"RBF composed with funnel\")\n",
    "    cycle = iter(plt.rcParams['axes.prop_cycle'].by_key()['color'])\n",
    "    for label, ksd, std, errorbar_xpos in zip(labels, ksds, stds, len(grid_ksds)*np.array([1/3, 2/3, 0.9])):\n",
    "        col = next(cycle)\n",
    "        ax.axhline(y=ksd, label=label, color=col, linestyle=\"--\")\n",
    "        ax.errorbar(errorbar_xpos, ksd, yerr=std, color=col, capsize=5, label=\"Standard deviation\")\n",
    "    ax.set_xlabel(\"Steps\")\n",
    "    ax.set_ylabel(\"KSD\")\n",
    "\n",
    "    ax.set_ylim(lims)\n",
    "    _ = ax.legend()"
   ]
  },
  {
   "cell_type": "markdown",
   "metadata": {},
   "source": [
    "### Parameters"
   ]
  },
  {
   "cell_type": "code",
   "execution_count": 4,
   "metadata": {},
   "outputs": [],
   "source": [
    "proposal = distributions.Gaussian(0, 1)\n",
    "target = distributions.Gaussian(0, 25)\n",
    "sizes = [16, 32, 32, 16, 2]\n",
    "\n",
    "# proposal = distributions.Uniform([[-0.5, 0.5], [-2, 2]])\n",
    "# target = distributions.Funnel(2)\n",
    "# target = distributions.Gaussian([0, 0], 10)\n",
    "# sizes = [2, 2, 2]\n",
    "\n",
    "# plot.plot_fun(target.pdf, (-10, 10), label=\"Target\")\n",
    "# plot.plot_fun(proposal.pdf, (-10, 10))\n",
    "# plt.legend()"
   ]
  },
  {
   "cell_type": "markdown",
   "metadata": {},
   "source": [
    "### Train"
   ]
  },
  {
   "cell_type": "code",
   "execution_count": 5,
   "metadata": {},
   "outputs": [],
   "source": [
    "learning_rate = 0.1\n",
    "learner = kernel_learning.KernelLearner(key, target, sizes, kernels.get_rbf_kernel(1), learning_rate, 0)"
   ]
  },
  {
   "cell_type": "markdown",
   "metadata": {},
   "source": [
    "## train in isolation "
   ]
  },
  {
   "cell_type": "code",
   "execution_count": 6,
   "metadata": {},
   "outputs": [
    {
     "name": "stderr",
     "output_type": "stream",
     "text": [
      "  0%|          | 0/100 [00:00<?, ?it/s]"
     ]
    },
    {
     "name": "stdout",
     "output_type": "stream",
     "text": [
      "Training kernel to optimize KSD...\n"
     ]
    },
    {
     "name": "stderr",
     "output_type": "stream",
     "text": [
      "100%|██████████| 100/100 [00:48<00:00,  2.04it/s]\n"
     ]
    }
   ],
   "source": [
    "print(\"Training kernel to optimize KSD...\")\n",
    "learner.train(proposal, n_steps=100, batch_size=400, sample_every=False)"
   ]
  },
  {
   "cell_type": "code",
   "execution_count": 7,
   "metadata": {},
   "outputs": [
    {
     "name": "stderr",
     "output_type": "stream",
     "text": [
      "  0%|          | 0/50 [00:00<?, ?it/s]"
     ]
    },
    {
     "name": "stdout",
     "output_type": "stream",
     "text": [
      "Computing KSDs with base kernels for comparison...\n"
     ]
    },
    {
     "name": "stderr",
     "output_type": "stream",
     "text": [
      "100%|██████████| 50/50 [00:01<00:00, 45.65it/s]\n"
     ]
    }
   ],
   "source": [
    "loss_mean, loss_std = learner.compute_final_loss_mean_and_stddev(proposal, batch_size=400)\n",
    "\n",
    "print(\"Computing KSDs with base kernels for comparison...\")\n",
    "kernel_list = [kernels.constant_kernel, kernels.get_rbf_kernel(1)]\n",
    "if isinstance(target, distributions.Funnel):\n",
    "    kernel_list.append(kernels.get_funnel_kernel(1))\n",
    "ksds, stds = onp.array(estimate_ksd_and_stddev(400, 50, kernel_list, \n",
    "                                              proposal, target))"
   ]
  },
  {
   "cell_type": "code",
   "execution_count": 8,
   "metadata": {},
   "outputs": [],
   "source": [
    "# fig, ax = plt.subplots(figsize=[10,8])\n",
    "# bandwidths = np.squeeze(np.array(learner.rundata[\"bandwidth\"]))\n",
    "# plt.plot(bandwidths, \"--o\", label=\"Bandwidth\", color=\"green\")\n",
    "# plt.axhline(onp.mean(bandwidths[-5:]))\n",
    "# plt.yscale(\"log\")\n",
    "# plt.legend()"
   ]
  },
  {
   "cell_type": "code",
   "execution_count": 9,
   "metadata": {},
   "outputs": [
    {
     "name": "stdout",
     "output_type": "stream",
     "text": [
      "Plot results:\n",
      "Loss std is 0.06291471421718597\n",
      "KSD mean is 0.16006967425346375\n"
     ]
    },
    {
     "data": {
      "image/png": "[encoded data removed]",
      "text/plain": [
       "<Figure size 720x576 with 1 Axes>"
      ]
     },
     "metadata": {
      "needs_background": "light"
     },
     "output_type": "display_data"
    }
   ],
   "source": [
    "print(\"Plot results:\")\n",
    "fig, ax = plt.subplots(figsize=[10,8])\n",
    "plot_training(learner.rundata[\"training_ksd\"], ksds, stds, ax)\n",
    "# plt.plot(learner.autoenc_losses, label=\"Autoencoder loss\", color=\"purple\")\n",
    "\n",
    "plt.legend()\n",
    "_ = ax.errorbar(40, -loss_mean, yerr=loss_std, capsize=5, color=\"k\", fmt=\"--o\")\n",
    "\n",
    "plt.plot([40], [-loss_mean], marker=\"o\")\n",
    "print(f\"Loss std is {loss_std}\")\n",
    "print(f\"KSD mean is {-loss_mean}\")"
   ]
  },
  {
   "cell_type": "markdown",
   "metadata": {},
   "source": [
    "## plot learned kernel"
   ]
  },
  {
   "cell_type": "code",
   "execution_count": 10,
   "metadata": {},
   "outputs": [],
   "source": [
    "params = learner.opt.get_params(learner.optimizer_state)\n",
    "learned_kernel = learner.get_kernel(params)"
   ]
  },
  {
   "cell_type": "code",
   "execution_count": 11,
   "metadata": {},
   "outputs": [
    {
     "data": {
      "text/plain": [
       "DeviceArray(4.1162673e-09, dtype=float32)"
      ]
     },
     "execution_count": 11,
     "metadata": {},
     "output_type": "execute_result"
    }
   ],
   "source": [
    "s = proposal.sample(100)\n",
    "learned_kernel(s[4], s[10])"
   ]
  },
  {
   "cell_type": "markdown",
   "metadata": {},
   "source": [
    "# Plot the kernel"
   ]
  },
  {
   "cell_type": "code",
   "execution_count": 12,
   "metadata": {},
   "outputs": [
    {
     "ename": "NameError",
     "evalue": "name 'bandwidths' is not defined",
     "output_type": "error",
     "traceback": [
      "\u001b[0;31m---------------------------------------------------------------------------\u001b[0m",
      "\u001b[0;31mNameError\u001b[0m                                 Traceback (most recent call last)",
      "\u001b[0;32m<ipython-input-12-4db2c7f90a79>\u001b[0m in \u001b[0;36m<module>\u001b[0;34m\u001b[0m\n\u001b[0;32m----> 1\u001b[0;31m \u001b[0mbandwidths\u001b[0m\u001b[0;34m[\u001b[0m\u001b[0;34m-\u001b[0m\u001b[0;36m1\u001b[0m\u001b[0;34m]\u001b[0m\u001b[0;34m\u001b[0m\u001b[0;34m\u001b[0m\u001b[0m\n\u001b[0m",
      "\u001b[0;31mNameError\u001b[0m: name 'bandwidths' is not defined"
     ]
    }
   ],
   "source": [
    "bandwidths[-1]"
   ]
  },
  {
   "cell_type": "code",
   "execution_count": null,
   "metadata": {},
   "outputs": [],
   "source": [
    "if proposal.d == 1:\n",
    "    ngrid = 10**4\n",
    "    grid = np.linspace(-4, 10, ngrid).reshape(ngrid,1)\n",
    "    x = np.array([0.])\n",
    "    plt.plot(grid, vmap(learned_kernel, (0, None))(grid, x), label=\"Learned\", color=\"r\")\n",
    "    plt.plot(grid, vmap(kernels.get_rbf_kernel(1),  (0, None))(grid, x), label=\"RBF\", color=\"b\")\n",
    "    x = np.array([4.])\n",
    "    plt.plot(grid, vmap(learned_kernel, (0, None))(grid, x), color=\"r\")\n",
    "    plt.plot(grid, vmap(kernels.get_rbf_kernel(1),  (0, None))(grid, x), color=\"b\")\n",
    "\n",
    "    plt.legend()\n",
    "elif proposal.d == 2:\n",
    "    fig, ax = plt.subplots(figsize=[7,7])\n",
    "    x = np.array([0, 0])\n",
    "    def kernfunx(x_): return learned_kernel(x, x_)\n",
    "#     def rbfx(x_): return kernels.get_rbf_kernel(1)(x, x_)\n",
    "    plot.plot_pdf_2d(kernfunx, lims=(-10, 10), label=\"Learned Kernel\", ax=ax)\n",
    "#     plot.plot_pdf_2d(rbfx, lims=(-10, 10), label=\"RBF\", ax=ax)"
   ]
  }
 ],
 "metadata": {
  "kernelspec": {
   "display_name": "msc-thesis",
   "language": "python",
   "name": "msc-thesis"
  },
  "language_info": {
   "codemirror_mode": {
    "name": "ipython",
    "version": 3
   },
   "file_extension": ".py",
   "mimetype": "text/x-python",
   "name": "python",
   "nbconvert_exporter": "python",
   "pygments_lexer": "ipython3",
   "version": "3.8.2"
  }
 },
 "nbformat": 4,
 "nbformat_minor": 4
}
