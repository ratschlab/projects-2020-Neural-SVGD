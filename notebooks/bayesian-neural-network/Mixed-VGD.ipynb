{
 "cells": [
  {
   "cell_type": "markdown",
   "metadata": {},
   "source": [
    "# Train a BNN to classify MNIST using neural SVGD"
   ]
  },
  {
   "cell_type": "code",
   "execution_count": 1,
   "metadata": {},
   "outputs": [
    {
     "data": {
      "text/plain": [
       "'--xla_gpu_cuda_data_dir=/cluster/apps/gcc-6.3.0/cuda-10.1.243-n6qg6z5js3zfnhp2cfg5yjccej636czm'"
      ]
     },
     "execution_count": 1,
     "metadata": {},
     "output_type": "execute_result"
    }
   ],
   "source": [
    "# for leonhard\n",
    "import os\n",
    "os.environ['XLA_FLAGS'] = \"--xla_gpu_cuda_data_dir=\" + os.environ[\"CUDA_HOME\"]\n",
    "os.environ['XLA_FLAGS']"
   ]
  },
  {
   "cell_type": "code",
   "execution_count": 3,
   "metadata": {},
   "outputs": [
    {
     "name": "stdout",
     "output_type": "stream",
     "text": [
      "Loading data...\n"
     ]
    }
   ],
   "source": [
    "# Train a Bayesian neural network to classify MNIST using\n",
    "# Neural SVGD\n",
    "#\n",
    "# If using pmap, set the environment variable\n",
    "# `export XLA_FLAGS=\"--xla_force_host_platform_device_count=8\"`\n",
    "# before running on CPU (this enables pmap to \"see\" multiple cores).\n",
    "%load_ext autoreload\n",
    "import sys\n",
    "import os\n",
    "on_cluster = not os.getenv(\"HOME\") == \"/home/lauro\"\n",
    "if on_cluster:\n",
    "    sys.path.append(\"/cluster/home/dlauro/projects-2020-Neural-SVGD/\")\n",
    "\n",
    "import argparse\n",
    "import matplotlib.pyplot as plt\n",
    "from jax import vmap, random\n",
    "import jax.numpy as jnp\n",
    "import numpy as onp\n",
    "from tqdm import tqdm\n",
    "import optax\n",
    "\n",
    "from nvgd.src import models, metrics, utils\n",
    "from nvgd.experiments import bnn, dataloader\n",
    "from nvgd.experiments import config as cfg\n",
    "\n",
    "from jax import jit, grad, value_and_grad\n",
    "\n",
    "# Config\n",
    "key = random.PRNGKey(0)\n",
    "MAX_TRAIN_STEPS = 100  # df 100\n",
    "META_LEARNING_RATE = 5e-4  # df 1e-3; should be as high as possible; regularize w/ max steps\n",
    "PATIENCE = 5  # df 5; early stopping not v helpful, bc we overfit on all ps\n",
    "\n",
    "NUM_SAMPLES = 100\n",
    "DISABLE_PROGRESS_BAR = False\n",
    "USE_PMAP = False\n",
    "\n",
    "BATCH_SIZE = 128\n",
    "LAMBDA_REG = 1/2\n",
    "STEP_SIZE = 4e-5\n",
    "PATIENCE = 15\n",
    "MAX_TRAIN_STEPS = 100"
   ]
  },
  {
   "cell_type": "markdown",
   "metadata": {},
   "source": [
    "# init particles and dynamics model"
   ]
  },
  {
   "cell_type": "code",
   "execution_count": 4,
   "metadata": {},
   "outputs": [
    {
     "data": {
      "text/plain": [
       "(100, 4594)"
      ]
     },
     "execution_count": 4,
     "metadata": {},
     "output_type": "execute_result"
    }
   ],
   "source": [
    "def init_particles_fn(subkey):\n",
    "    init_particles = vmap(bnn.init_flat_params)(random.split(subkey, NUM_SAMPLES))\n",
    "    return init_particles\n",
    "\n",
    "\n",
    "key, subkey = random.split(key)\n",
    "init_particles = init_particles_fn(subkey)\n",
    "opt = optax.sgd(STEP_SIZE)\n",
    "\n",
    "minibatch_vdlogp = jit(vmap(grad(bnn.minibatch_logp), (0, None)))\n",
    "\n",
    "init_particles.shape"
   ]
  },
  {
   "cell_type": "code",
   "execution_count": 4,
   "metadata": {},
   "outputs": [
    {
     "name": "stdout",
     "output_type": "stream",
     "text": [
      "analytical sd: 837803800.0\n",
      "hutchinson estimate: 837107200.0\n",
      "ratio: 1.0008321\n"
     ]
    }
   ],
   "source": [
    "# maximal initial stein discrepancy (theoretical ideal)\n",
    "import plot\n",
    "import stein\n",
    "from jax.scipy import stats\n",
    "\n",
    "n, d = init_particles.shape\n",
    "n = 100\n",
    "key, subkey = random.split(key)\n",
    "xs = random.normal(subkey, (n, d)) / 100\n",
    "\n",
    "first_batch = next(mnist.training_batches)\n",
    "images, labels = first_batch\n",
    "\n",
    "def logp(x):\n",
    "    def loglikelihood(x):\n",
    "        params = bnn.unravel(x)\n",
    "        logits = bnn.model.apply(params, images)\n",
    "        return -mnist.train_data_size/cfg.batch_size * bnn.crossentropy_loss(logits, labels)\n",
    "    return loglikelihood(x) + bnn.log_prior(bnn.unravel(x))\n",
    "\n",
    "\n",
    "def logq(x):\n",
    "    return stats.norm.logpdf(x, loc=0, scale=1/100).sum()\n",
    "\n",
    "\n",
    "def f(x):\n",
    "    def loglikelihood(x):\n",
    "        params = bnn.unravel(x)\n",
    "        logits = bnn.model.apply(params, images)\n",
    "        return -mnist.train_data_size/cfg.batch_size * bnn.crossentropy_loss(logits, labels) / (2*LAMBDA_REG)\n",
    "    return grad(loglikelihood)(x)\n",
    "\n",
    "# double-check stein discrepancy\n",
    "\n",
    "# a) true\n",
    "l2 = utils.l2_norm_squared(xs, f) # = sd(f*) / (2 LAMBDA_REG)\n",
    "true_sd = 2 * LAMBDA_REG * l2\n",
    "min_loss = -l2 * LAMBDA_REG\n",
    "\n",
    "# b) hutchinson\n",
    "key, subkey = random.split(key)\n",
    "random_estimate_sd = stein.stein_discrepancy_hutchinson(subkey, xs, logp, f)\n",
    "\n",
    "print(\"analytical sd:\", true_sd)\n",
    "print(\"hutchinson estimate:\", random_estimate_sd)\n",
    "print(\"ratio:\", true_sd / random_estimate_sd)"
   ]
  },
  {
   "cell_type": "code",
   "execution_count": 5,
   "metadata": {},
   "outputs": [],
   "source": [
    "# class MixedVGD(SteinNetwork):\n",
    "#     def __init__(*args, **kwargs):\n",
    "#         \"\"\"initialize network parameters\"\"\"\n",
    "        \n",
    "        \n",
    "#     def get_field():\n",
    "#         \"\"\"return -(f_theta + phi_kernel)\"\"\"\n",
    "        "
   ]
  },
  {
   "cell_type": "code",
   "execution_count": 8,
   "metadata": {},
   "outputs": [],
   "source": [
    "svgd_grad = models.KernelGradient(get_target_logp=bnn.get_minibatch_logp,\n",
    "                                  scaled=False,\n",
    "                                  lambda_reg=LAMBDA_REG)\n",
    "\n",
    "v, h = svgd_grad.get_field(particles.particles, first_batch)\n",
    "SVGD_SCALE = 1e-4 / STEP_SIZE\n",
    "scaled_grad = lambda x: - v(x)\n",
    "\n",
    "# fixed\n",
    "key, subkey = random.split(key)\n",
    "split_particles = particles.next_batch(subkey)\n",
    "split_dlogp = [minibatch_vdlogp(x, first_batch)\n",
    "               for x in split_particles]\n",
    "dlogp = jnp.append(*split_dlogp, axis=0)"
   ]
  },
  {
   "cell_type": "code",
   "execution_count": 9,
   "metadata": {},
   "outputs": [
    {
     "name": "stdout",
     "output_type": "stream",
     "text": [
      "857720.5\n",
      "837803800.0\n"
     ]
    }
   ],
   "source": [
    "ksd = stein.stein_discrepancy_hutchinson_fixed_log(subkey,\n",
    "                                                   particles.particles,\n",
    "                                                   dlogp,\n",
    "                                                   scaled_grad)\n",
    "print(ksd)\n",
    "print(true_sd)"
   ]
  },
  {
   "cell_type": "code",
   "execution_count": 12,
   "metadata": {},
   "outputs": [],
   "source": [
    "neural_grad3 = models.SteinNetwork(target_dim=init_particles.shape[1],\n",
    "                               learning_rate=META_LEARNING_RATE,\n",
    "                               key=subkey1,\n",
    "                               sizes=[256, 256, 256, init_particles.shape[1]],\n",
    "                               aux=False,\n",
    "                               use_hutchinson=True,\n",
    "                               lambda_reg=LAMBDA_REG,\n",
    "                               patience=PATIENCE,\n",
    "                               dropout=False,\n",
    "                               normalize_inputs=True,\n",
    "                               extra_term=scaled_grad)"
   ]
  },
  {
   "cell_type": "code",
   "execution_count": null,
   "metadata": {},
   "outputs": [],
   "source": [
    "stein.stein_discrepancy_hutchinson_fixed_log(subkey,\n",
    "                                           particles.particles,\n",
    "                                           dlogp,\n",
    "                                           neural_grad3.get_field())"
   ]
  },
  {
   "cell_type": "code",
   "execution_count": 17,
   "metadata": {
    "scrolled": false
   },
   "outputs": [],
   "source": [
    "neural_grad3.train(\n",
    "    split_particles=split_particles,\n",
    "    split_dlogp=split_dlogp,\n",
    "    n_steps=100,\n",
    "    early_stopping=False,\n",
    ")"
   ]
  },
  {
   "cell_type": "code",
   "execution_count": 23,
   "metadata": {},
   "outputs": [
    {
     "data": {
      "text/plain": [
       "<matplotlib.legend.Legend at 0x2ae797f39310>"
      ]
     },
     "execution_count": 23,
     "metadata": {},
     "output_type": "execute_result"
    },
    {
     "data": {
      "image/png": "[encoded data removed]",
      "text/plain": [
       "<Figure size 1080x360 with 1 Axes>"
      ]
     },
     "metadata": {
      "needs_background": "light"
     },
     "output_type": "display_data"
    }
   ],
   "source": [
    "# generate markings based on num_steps\n",
    "a = 0\n",
    "b = -1\n",
    "plt.subplots(figsize=[15, 5])\n",
    "plt.plot(neural_grad3.rundata['training_sd'][a:b], \"--.\", label=\"Training Loss\")\n",
    "plt.plot(neural_grad3.rundata['validation_sd'][a:b], \"--.\", label=\"Validation Loss\")\n",
    "\n",
    "# plt.scatter(markings, onp.zeros(len(markings)))\n",
    "plt.axhline(y=true_sd, label=\"Minimal loss\", linestyle=\"--\", color=\"g\")\n",
    "plt.axhline(y=ksd, label=\"KSD\", linestyle=\"--\", color=\"y\")\n",
    "plt.legend()"
   ]
  }
 ],
 "metadata": {
  "kernelspec": {
   "display_name": "Python 3",
   "language": "python",
   "name": "python3"
  },
  "language_info": {
   "codemirror_mode": {
    "name": "ipython",
    "version": 3
   },
   "file_extension": ".py",
   "mimetype": "text/x-python",
   "name": "python",
   "nbconvert_exporter": "python",
   "pygments_lexer": "ipython3",
   "version": "3.7.4"
  }
 },
 "nbformat": 4,
 "nbformat_minor": 4
}
