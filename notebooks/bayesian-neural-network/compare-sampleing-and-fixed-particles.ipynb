{
 "cells": [
  {
   "cell_type": "markdown",
   "metadata": {},
   "source": [
    "# Train a BNN to classify MNIST using neural SVGD"
   ]
  },
  {
   "cell_type": "code",
   "execution_count": 1,
   "metadata": {},
   "outputs": [
    {
     "data": {
      "text/plain": [
       "'--xla_gpu_cuda_data_dir=/cluster/apps/gcc-6.3.0/cuda-10.1.243-n6qg6z5js3zfnhp2cfg5yjccej636czm'"
      ]
     },
     "execution_count": 1,
     "metadata": {},
     "output_type": "execute_result"
    }
   ],
   "source": [
    "# for leonhard\n",
    "import os\n",
    "os.environ['XLA_FLAGS'] = \"--xla_gpu_cuda_data_dir=\" + os.environ[\"CUDA_HOME\"]\n",
    "os.environ['XLA_FLAGS']"
   ]
  },
  {
   "cell_type": "code",
   "execution_count": 2,
   "metadata": {},
   "outputs": [
    {
     "name": "stdout",
     "output_type": "stream",
     "text": [
      "Loading data...\n"
     ]
    }
   ],
   "source": [
    "# Train a Bayesian neural network to classify MNIST using\n",
    "# Neural SVGD\n",
    "#\n",
    "# If using pmap, set the environment variable\n",
    "# `export XLA_FLAGS=\"--xla_force_host_platform_device_count=8\"`\n",
    "# before running on CPU (this enables pmap to \"see\" multiple cores).\n",
    "%load_ext autoreload\n",
    "import sys\n",
    "import os\n",
    "on_cluster = not os.getenv(\"HOME\") == \"/home/lauro\"\n",
    "if on_cluster:\n",
    "    sys.path.append(\"/cluster/home/dlauro/projects-2020-Neural-SVGD/learning_particle_gradients/\")\n",
    "sys.path.append(\"../../experiments/\")\n",
    "\n",
    "import argparse\n",
    "import matplotlib.pyplot as plt\n",
    "from jax import vmap, random\n",
    "import jax.numpy as jnp\n",
    "import numpy as onp\n",
    "from tqdm import tqdm\n",
    "import optax\n",
    "import bnn\n",
    "import models\n",
    "import metrics\n",
    "import mnist\n",
    "import config as cfg\n",
    "import utils\n",
    "from jax import jit, grad, value_and_grad\n",
    "\n",
    "# Config\n",
    "key = random.PRNGKey(0)\n",
    "MAX_TRAIN_STEPS = 100  # df 100\n",
    "META_LEARNING_RATE = 5e-4  # df 1e-3; should be as high as possible; regularize w/ max steps\n",
    "PATIENCE = 5  # df 5; early stopping not v helpful, bc we overfit on all ps\n",
    "\n",
    "NUM_SAMPLES = 100\n",
    "DISABLE_PROGRESS_BAR = False\n",
    "USE_PMAP = False\n",
    "\n",
    "BATCH_SIZE = 128\n",
    "LAMBDA_REG = 10**2\n",
    "STEP_SIZE = 4e-5\n",
    "PATIENCE = 15\n",
    "MAX_TRAIN_STEPS = 100"
   ]
  },
  {
   "cell_type": "markdown",
   "metadata": {},
   "source": [
    "# init particles and dynamics model"
   ]
  },
  {
   "cell_type": "code",
   "execution_count": 13,
   "metadata": {},
   "outputs": [
    {
     "data": {
      "text/plain": [
       "(100, 4594)"
      ]
     },
     "execution_count": 13,
     "metadata": {},
     "output_type": "execute_result"
    }
   ],
   "source": [
    "def init_particles_fn(subkey):\n",
    "    init_particles = vmap(bnn.init_flat_params)(random.split(subkey, NUM_SAMPLES))\n",
    "    return init_particles\n",
    "\n",
    "\n",
    "key, subkey = random.split(key)\n",
    "init_particles = init_particles_fn(subkey)\n",
    "opt = optax.sgd(STEP_SIZE)\n",
    "\n",
    "# opt = optax.chain(\n",
    "#     optax.scale_by_adam(),\n",
    "#     optax.scale(-STEP_SIZE),\n",
    "# )\n",
    "\n",
    "key, subkey1, subkey2 = random.split(key, 3)\n",
    "neural_grad = models.SDLearner(target_dim=init_particles.shape[1],\n",
    "                               learning_rate=META_LEARNING_RATE,\n",
    "                               key=subkey1,\n",
    "                               sizes=[512, 512, 512, init_particles.shape[1]],\n",
    "                               aux=False,\n",
    "                               use_hutchinson=True,\n",
    "                               lambda_reg=LAMBDA_REG,\n",
    "                               patience=PATIENCE,\n",
    "                               dropout=False,\n",
    "                               normalize_inputs=True)\n",
    "\n",
    "neural_grad2 = models.SDLearner(target_dim=init_particles.shape[1],\n",
    "                               learning_rate=META_LEARNING_RATE,\n",
    "                               key=subkey1,\n",
    "                               sizes=[512, 512, 512, init_particles.shape[1]],\n",
    "                               aux=False,\n",
    "                               use_hutchinson=True,\n",
    "                               lambda_reg=LAMBDA_REG,\n",
    "                               patience=PATIENCE,\n",
    "                               dropout=False,\n",
    "                               normalize_inputs=True)\n",
    "\n",
    "particles = models.Particles(subkey2, neural_grad.gradient, init_particles, custom_optimizer=opt)\n",
    "\n",
    "minibatch_vdlogp = jit(vmap(grad(bnn.minibatch_logp), (0, None)))\n",
    "\n",
    "init_particles.shape"
   ]
  },
  {
   "cell_type": "code",
   "execution_count": 4,
   "metadata": {},
   "outputs": [
    {
     "name": "stdout",
     "output_type": "stream",
     "text": [
      "analytical sd: 4189023.0\n",
      "hutchinson estimate: 4185524.0\n",
      "ratio: 1.000836\n"
     ]
    }
   ],
   "source": [
    "# maximal initial stein discrepancy (theoretical ideal)\n",
    "import plot\n",
    "import stein\n",
    "from jax.scipy import stats\n",
    "\n",
    "n, d = init_particles.shape\n",
    "n = 100\n",
    "key, subkey = random.split(key)\n",
    "xs = random.normal(subkey, (n, d)) / 100\n",
    "\n",
    "first_batch = next(mnist.training_batches)\n",
    "images, labels = first_batch\n",
    "\n",
    "def logp(x):\n",
    "    def loglikelihood(x):\n",
    "        params = bnn.unravel(x)\n",
    "        logits = bnn.model.apply(params, images)\n",
    "        return -mnist.train_data_size/cfg.batch_size * bnn.crossentropy_loss(logits, labels)\n",
    "    return loglikelihood(x) + bnn.log_prior(bnn.unravel(x))\n",
    "\n",
    "\n",
    "def logq(x):\n",
    "    return stats.norm.logpdf(x, loc=0, scale=1/100).sum()\n",
    "\n",
    "\n",
    "def f(x):\n",
    "    def loglikelihood(x):\n",
    "        params = bnn.unravel(x)\n",
    "        logits = bnn.model.apply(params, images)\n",
    "        return -mnist.train_data_size/cfg.batch_size * bnn.crossentropy_loss(logits, labels) / (2*LAMBDA_REG)\n",
    "    return grad(loglikelihood)(x)\n",
    "\n",
    "# double-check stein discrepancy\n",
    "\n",
    "# a) true\n",
    "l2 = utils.l2_norm_squared(xs, f) # = sd(f*) / (2 LAMBDA_REG)\n",
    "true_sd = 2 * LAMBDA_REG * l2\n",
    "min_loss = -l2 * LAMBDA_REG\n",
    "\n",
    "# b) hutchinson\n",
    "key, subkey = random.split(key)\n",
    "random_estimate_sd = stein.stein_discrepancy_hutchinson(subkey, xs, logp, f)\n",
    "\n",
    "print(\"analytical sd:\", true_sd)\n",
    "print(\"hutchinson estimate:\", random_estimate_sd)\n",
    "print(\"ratio:\", true_sd / random_estimate_sd)"
   ]
  },
  {
   "cell_type": "markdown",
   "metadata": {},
   "source": [
    "* everything after here can be skipped"
   ]
  },
  {
   "cell_type": "markdown",
   "metadata": {},
   "source": [
    "# train to match true f directly, via squared error"
   ]
  },
  {
   "cell_type": "code",
   "execution_count": 36,
   "metadata": {},
   "outputs": [],
   "source": [
    "%autoreload"
   ]
  },
  {
   "cell_type": "code",
   "execution_count": 14,
   "metadata": {},
   "outputs": [
    {
     "data": {
      "text/plain": [
       "DeviceArray([ 0.        ,  0.        ,  0.        , ..., -0.09574028,\n",
       "             -0.03656128,  1.        ], dtype=float32)"
      ]
     },
     "execution_count": 14,
     "metadata": {},
     "output_type": "execute_result"
    }
   ],
   "source": [
    "@jit\n",
    "def squared_error_loss(f_params, particles):\n",
    "    v = neural_grad.get_field(subkey, particles, f_params)\n",
    "    return jnp.mean((v(particles) + vmap(f)(particles))**2)\n",
    "\n",
    "adam = optax.adam(1e-4)\n",
    "adam_state = adam.init(neural_grad.params)\n",
    "\n",
    "@jit\n",
    "def sel_step(xs, params, adam_state):\n",
    "    loss, grads = value_and_grad(squared_error_loss)(params, xs)\n",
    "    grads, adam_state = adam.update(grads, adam_state, params)\n",
    "    params = optax.apply_updates(params, grads)\n",
    "    return params, adam_state, {\"loss\": loss.mean()}\n",
    "\n",
    "bnn.ravel(neural_grad.params)"
   ]
  },
  {
   "cell_type": "code",
   "execution_count": null,
   "metadata": {},
   "outputs": [
    {
     "name": "stderr",
     "output_type": "stream",
     "text": [
      "\r",
      "  0%|          | 0/100 [00:00<?, ?it/s]"
     ]
    }
   ],
   "source": [
    "rdata = {}\n",
    "for _ in tqdm(range(100)):\n",
    "    key, subkey = random.split(key)\n",
    "    xs = init_particles_fn(subkey)\n",
    "    neural_grad.params, adam_state, aux = sel_step(xs, neural_grad.params, adam_state)\n",
    "    metrics.append_to_log(rdata, aux)\n",
    "\n",
    "plt.plot(rdata['loss'])"
   ]
  },
  {
   "cell_type": "code",
   "execution_count": 7,
   "metadata": {},
   "outputs": [
    {
     "data": {
      "text/plain": [
       "DeviceArray(8066.15, dtype=float32)"
      ]
     },
     "execution_count": 7,
     "metadata": {},
     "output_type": "execute_result"
    }
   ],
   "source": [
    "v = neural_grad.get_field(subkey, xs, neural_grad.params)\n",
    "stein.stein_discrepancy_hutchinson(subkey, xs, logp, v)"
   ]
  },
  {
   "cell_type": "markdown",
   "metadata": {},
   "source": [
    "# compare sampling and fixed"
   ]
  },
  {
   "cell_type": "code",
   "execution_count": 15,
   "metadata": {},
   "outputs": [],
   "source": [
    "# fixed\n",
    "key, subkey = random.split(key)\n",
    "split_particles = particles.next_batch(subkey, n_train_particles=75)\n",
    "split_dlogp = [minibatch_vdlogp(x, first_batch)\n",
    "               for x in split_particles]"
   ]
  },
  {
   "cell_type": "code",
   "execution_count": 16,
   "metadata": {},
   "outputs": [
    {
     "name": "stderr",
     "output_type": "stream",
     "text": [
      "100%|██████████| 300/300 [00:10<00:00, 27.36it/s]\n"
     ]
    }
   ],
   "source": [
    "for _ in tqdm(range(300)):\n",
    "    neural_grad.step(*split_particles, *split_dlogp)\n",
    "    metrics.append_to_log(\n",
    "        neural_grad.rundata,\n",
    "        {\n",
    "            \"squared_error\": squared_error_loss(\n",
    "                neural_grad.params, split_particles[0]),\n",
    "            \"val_squared_error\": squared_error_loss(\n",
    "                neural_grad.params, split_particles[1])\n",
    "        }\n",
    "    )"
   ]
  },
  {
   "cell_type": "code",
   "execution_count": 17,
   "metadata": {},
   "outputs": [
    {
     "name": "stderr",
     "output_type": "stream",
     "text": [
      "100%|██████████| 300/300 [00:23<00:00, 12.91it/s]\n"
     ]
    }
   ],
   "source": [
    "# sampling\n",
    "for _ in tqdm(range(300)):\n",
    "    key, subkey = random.split(key)\n",
    "    particles.particles = init_particles_fn(subkey)\n",
    "\n",
    "    key, subkey = random.split(key)\n",
    "    new_split_particles = particles.next_batch(subkey)\n",
    "    new_split_dlogp = [minibatch_vdlogp(x, first_batch)\n",
    "                       for x in new_split_particles]\n",
    "\n",
    "    neural_grad2.step(*new_split_particles, *new_split_dlogp)"
   ]
  },
  {
   "cell_type": "code",
   "execution_count": 18,
   "metadata": {},
   "outputs": [
    {
     "data": {
      "text/plain": [
       "dict_keys(['train_steps', 'global_gradient_norm', 'l2_norm', 'layer_gradient_norms', 'mean_drift', 'mean_repulsion', 'step_counter', 'training_loss', 'training_sd', 'validation_loss', 'validation_sd', 'squared_error', 'val_squared_error'])"
      ]
     },
     "execution_count": 18,
     "metadata": {},
     "output_type": "execute_result"
    }
   ],
   "source": [
    "neural_grad.rundata.keys()"
   ]
  },
  {
   "cell_type": "code",
   "execution_count": 19,
   "metadata": {},
   "outputs": [
    {
     "data": {
      "text/plain": [
       "<matplotlib.legend.Legend at 0x2af543e7df50>"
      ]
     },
     "execution_count": 19,
     "metadata": {},
     "output_type": "execute_result"
    },
    {
     "data": {
      "image/png": "[encoded data removed]",
      "text/plain": [
       "<Figure size 1080x360 with 1 Axes>"
      ]
     },
     "metadata": {
      "needs_background": "light"
     },
     "output_type": "display_data"
    }
   ],
   "source": [
    "# generate markings based on num_steps\n",
    "a = 0\n",
    "b = -1\n",
    "plt.subplots(figsize=[15, 5])\n",
    "plt.plot(neural_grad.rundata['training_loss'][a:b], \"--.\", label=\"Training Loss\")\n",
    "plt.plot(neural_grad.rundata['validation_loss'][a:b], \"--.\", label=\"Validation Loss\")\n",
    "plt.plot(neural_grad2.rundata['training_loss'][a:b], \"--.\", label=\"Sample new particles every iteration\")\n",
    "\n",
    "plt.axhline(y=min_loss, label=\"Minimal loss\", linestyle=\"--\", color=\"g\")\n",
    "plt.legend()"
   ]
  },
  {
   "cell_type": "code",
   "execution_count": 22,
   "metadata": {},
   "outputs": [
    {
     "data": {
      "text/plain": [
       "<matplotlib.legend.Legend at 0x2af5575ab610>"
      ]
     },
     "execution_count": 22,
     "metadata": {},
     "output_type": "execute_result"
    },
    {
     "data": {
      "image/png": "[encoded data removed]",
      "text/plain": [
       "<Figure size 1080x360 with 1 Axes>"
      ]
     },
     "metadata": {
      "needs_background": "light"
     },
     "output_type": "display_data"
    }
   ],
   "source": [
    "# generate markings based on num_steps\n",
    "a = 0\n",
    "b = -1\n",
    "plt.subplots(figsize=[15, 5])\n",
    "plt.plot(neural_grad.rundata['squared_error'], label=\"true squared error\")\n",
    "# plt.plot(neural_grad.rundata['val_squared_error'])\n",
    "\n",
    "plt.legend()"
   ]
  },
  {
   "cell_type": "markdown",
   "metadata": {},
   "source": [
    "# extra terms"
   ]
  },
  {
   "cell_type": "markdown",
   "metadata": {},
   "source": [
    "## svgd"
   ]
  },
  {
   "cell_type": "markdown",
   "metadata": {},
   "source": [
    "* TODO: debug this\n",
    "* why is initial SD not equal to KSD?\n",
    "* don't worry about ksd being much larger, that's just a question of scaling\n",
    "* but: seems the SVGD init is not working. figure out why."
   ]
  },
  {
   "cell_type": "code",
   "execution_count": 10,
   "metadata": {},
   "outputs": [],
   "source": [
    "svgd_grad = models.KernelGradient(get_target_logp=bnn.get_minibatch_logp,\n",
    "                                  scaled=False,\n",
    "                                  lambda_reg=LAMBDA_REG)\n",
    "\n",
    "v, h = svgd_grad.get_field(particles.particles, first_batch)\n",
    "SVGD_SCALE = 1e-4 / STEP_SIZE\n",
    "scaled_grad = lambda x: - v(x)"
   ]
  },
  {
   "cell_type": "code",
   "execution_count": 12,
   "metadata": {},
   "outputs": [],
   "source": [
    "neural_grad3 = models.SDLearner(target_dim=init_particles.shape[1],\n",
    "                               learning_rate=META_LEARNING_RATE,\n",
    "                               key=subkey1,\n",
    "                               sizes=[512, 512, 512, init_particles.shape[1]],\n",
    "                               aux=False,\n",
    "                               use_hutchinson=True,\n",
    "                               lambda_reg=LAMBDA_REG,\n",
    "                               patience=PATIENCE,\n",
    "                               dropout=False,\n",
    "                               normalize_inputs=True,\n",
    "                               extra_term=scaled_grad)"
   ]
  },
  {
   "cell_type": "code",
   "execution_count": 13,
   "metadata": {},
   "outputs": [],
   "source": [
    "# fixed\n",
    "key, subkey = random.split(key)\n",
    "split_particles = particles.next_batch(subkey)\n",
    "split_dlogp = [minibatch_vdlogp(x, first_batch)\n",
    "               for x in split_particles]\n",
    "dlogp = jnp.append(*split_dlogp, axis=0)"
   ]
  },
  {
   "cell_type": "code",
   "execution_count": 20,
   "metadata": {},
   "outputs": [
    {
     "name": "stdout",
     "output_type": "stream",
     "text": [
      "764304.0\n",
      "3704006.2\n"
     ]
    }
   ],
   "source": [
    "ksd = stein.stein_discrepancy_hutchinson_fixed_log(subkey,\n",
    "                                                   particles.particles,\n",
    "                                                   dlogp,\n",
    "                                                   scaled_grad)\n",
    "print(ksd)\n",
    "print(true_sd)"
   ]
  },
  {
   "cell_type": "code",
   "execution_count": null,
   "metadata": {},
   "outputs": [],
   "source": [
    "stein.stein_discrepancy_hutchinson_fixed_log(subkey,\n",
    "                                           particles.particles,\n",
    "                                           dlogp,\n",
    "                                           neural_grad3.get_field())"
   ]
  },
  {
   "cell_type": "code",
   "execution_count": 17,
   "metadata": {
    "scrolled": false
   },
   "outputs": [],
   "source": [
    "neural_grad3.train(\n",
    "    split_particles=split_particles,\n",
    "    split_dlogp=split_dlogp,\n",
    "    n_steps=100,\n",
    "    early_stopping=False,\n",
    ")"
   ]
  },
  {
   "cell_type": "code",
   "execution_count": 23,
   "metadata": {},
   "outputs": [
    {
     "data": {
      "text/plain": [
       "<matplotlib.legend.Legend at 0x2ae797f39310>"
      ]
     },
     "execution_count": 23,
     "metadata": {},
     "output_type": "execute_result"
    },
    {
     "data": {
      "image/png": "[encoded data removed]",
      "text/plain": [
       "<Figure size 1080x360 with 1 Axes>"
      ]
     },
     "metadata": {
      "needs_background": "light"
     },
     "output_type": "display_data"
    }
   ],
   "source": [
    "# generate markings based on num_steps\n",
    "a = 0\n",
    "b = -1\n",
    "plt.subplots(figsize=[15, 5])\n",
    "plt.plot(neural_grad3.rundata['training_sd'][a:b], \"--.\", label=\"Training Loss\")\n",
    "plt.plot(neural_grad3.rundata['validation_sd'][a:b], \"--.\", label=\"Validation Loss\")\n",
    "\n",
    "# plt.scatter(markings, onp.zeros(len(markings)))\n",
    "plt.axhline(y=true_sd, label=\"Minimal loss\", linestyle=\"--\", color=\"g\")\n",
    "plt.axhline(y=ksd, label=\"KSD\", linestyle=\"--\", color=\"y\")\n",
    "plt.legend()"
   ]
  }
 ],
 "metadata": {
  "kernelspec": {
   "display_name": "Python 3",
   "language": "python",
   "name": "python3"
  },
  "language_info": {
   "codemirror_mode": {
    "name": "ipython",
    "version": 3
   },
   "file_extension": ".py",
   "mimetype": "text/x-python",
   "name": "python",
   "nbconvert_exporter": "python",
   "pygments_lexer": "ipython3",
   "version": "3.7.4"
  }
 },
 "nbformat": 4,
 "nbformat_minor": 4
}
