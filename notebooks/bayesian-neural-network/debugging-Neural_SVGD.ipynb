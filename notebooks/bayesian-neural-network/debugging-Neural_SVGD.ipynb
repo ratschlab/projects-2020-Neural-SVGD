{
 "cells": [
  {
   "cell_type": "markdown",
   "metadata": {},
   "source": [
    "# Debugging notebook [solved]"
   ]
  },
  {
   "cell_type": "code",
   "execution_count": 30,
   "metadata": {},
   "outputs": [
    {
     "name": "stdout",
     "output_type": "stream",
     "text": [
      "The autoreload extension is already loaded. To reload it, use:\n",
      "  %reload_ext autoreload\n"
     ]
    }
   ],
   "source": [
    "# Train a Bayesian neural network to classify MNIST using\n",
    "# Neural SVGD\n",
    "#\n",
    "# If using pmap, set the environment variable\n",
    "# `export XLA_FLAGS=\"--xla_force_host_platform_device_count=8\"`\n",
    "# before running on CPU (this enables pmap to \"see\" multiple cores).\n",
    "%load_ext autoreload\n",
    "import sys\n",
    "sys.path.append(\"../../experiments/\")\n",
    "from functools import partial\n",
    "from itertools import cycle\n",
    "\n",
    "import numpy as onp\n",
    "import jax\n",
    "from jax import numpy as jnp\n",
    "from jax import jit, grad, value_and_grad, vmap, pmap, config, random, jacfwd\n",
    "config.update(\"jax_debug_nans\", False)\n",
    "from jax.ops import index_update, index\n",
    "import matplotlib.pyplot as plt\n",
    "from tqdm import tqdm\n",
    "from sklearn.model_selection import train_test_split\n",
    "from sklearn.calibration import calibration_curve\n",
    "import tensorflow_datasets as tfds\n",
    "\n",
    "import haiku as hk\n",
    "import optax\n",
    "\n",
    "import nets\n",
    "import utils\n",
    "import models\n",
    "import metrics\n",
    "from convnet import model, accuracy, crossentropy_loss, log_prior, ensemble_accuracy\n",
    "import os\n",
    "import jax.profiler\n",
    "\n",
    "on_cluster = not os.getenv(\"HOME\") == \"/home/lauro\"\n",
    "\n",
    "# Config\n",
    "key = random.PRNGKey(0)\n",
    "EPOCHS = 1\n",
    "NUM_VALS = 20\n",
    "BATCH_SIZE = 128\n",
    "META_LEARNING_RATE = 5e-3\n",
    "NUM_SAMPLES = 200\n",
    "DISABLE_PROGRESS_BAR = False\n",
    "USE_PMAP = False\n",
    "LAMBDA_REG = 1/2 # 100\n",
    "STEP_SIZE = 1e-7 * 2 * LAMBDA_REG #* 100\n",
    "\n",
    "\n",
    "\n",
    "if USE_PMAP:\n",
    "    vpmap = pmap\n",
    "else:\n",
    "    vpmap = vmap\n",
    "\n",
    "# Load MNIST\n",
    "data_dir = '/tmp/tfds' if not on_cluster else \"/cluster/home/dlauro/projects-2020-Neural-SVGD/experiments/data\"\n",
    "mnist_data, info = tfds.load(name=\"mnist\", batch_size=-1, data_dir=data_dir, with_info=True)\n",
    "mnist_data = tfds.as_numpy(mnist_data)\n",
    "train_data, test_data = mnist_data['train'], mnist_data['test']\n",
    "\n",
    "# Full train and test set\n",
    "train_images, train_labels = train_data['image'], train_data['label']\n",
    "test_images, test_labels = test_data['image'], test_data['label']\n",
    "\n",
    "# Split off the validation set\n",
    "train_images, val_images, train_labels, val_labels = train_test_split(\n",
    "    train_images, train_labels, test_size=0.1, random_state=0)\n",
    "data_size = len(train_images)\n",
    "\n",
    "\n",
    "def make_batches(images, labels, batch_size):\n",
    "    \"\"\"Returns an iterator that cycles through \n",
    "    tuples (image_batch, label_batch).\"\"\"\n",
    "    num_batches = len(images) // batch_size\n",
    "    split_idx = onp.arange(1, num_batches+1)*batch_size\n",
    "    batches = zip(*[onp.split(data, split_idx, axis=0) for data in (images, labels)])\n",
    "    return cycle(batches)\n",
    "\n",
    "\n",
    "def loss(params, images, labels):\n",
    "    \"\"\"Minibatch approximation of the (unnormalized) Bayesian\n",
    "    negative log-posterior evaluated at `params`. That is,\n",
    "    -log model_likelihood(data_batch | params) * batch_rescaling_constant - log prior(params))\"\"\"\n",
    "    logits = model.apply(params, images)\n",
    "    return data_size/BATCH_SIZE * crossentropy_loss(logits, labels) - log_prior(params)"
   ]
  },
  {
   "cell_type": "markdown",
   "metadata": {},
   "source": [
    "# Neural SVGD Model\n",
    "* Input: model parameters\n",
    "* Output: 'gradient' of same shape as parameters\n",
    "\n",
    "### Memory\n",
    "Assume: convnet model has 50.000 parameters, and NSVGD layers have hidden dimensions `[1024, 1024]`. Then the NSVGD (meta) model has `2*50.000*1024` parameters (each 8 bytes), i.e. about 800MB.\n",
    "\n",
    "The activations: `50.000 + 1024 + 1024 + 50.000` floats, i.e. about 800KB, times `NUM_SAMPLES`."
   ]
  },
  {
   "cell_type": "code",
   "execution_count": 31,
   "metadata": {},
   "outputs": [],
   "source": [
    "# Utility functions for dealing with parameters\n",
    "key, subkey = random.split(key)\n",
    "params_tree = model.init(subkey, train_images[:2])\n",
    "params_flat, unravel = jax.flatten_util.ravel_pytree(params_tree)\n",
    "\n",
    "\n",
    "def ravel(tree):\n",
    "    return jax.flatten_util.ravel_pytree(tree)[0]\n",
    "\n",
    "\n",
    "def init_flat_params(key):\n",
    "    return ravel(model.init(key, train_images[:2]))\n",
    "\n",
    "\n",
    "def get_minibatch_logp(batch):\n",
    "    \"\"\"\n",
    "    args:\n",
    "        batch = (images, labels)\n",
    "\n",
    "    Returns a callable that computes target posterior\n",
    "    given flattened param vector.\n",
    "    \"\"\"\n",
    "    def minibatch_logp(params_flat):\n",
    "        return -loss(unravel(params_flat), *batch)\n",
    "    return minibatch_logp\n",
    "\n",
    "\n",
    "def sample_tv(key):\n",
    "    \"\"\"return two sets of particles at initialization, for\n",
    "    training and validation in the warmup phase\"\"\"\n",
    "    return vmap(init_flat_params)(random.split(key, NUM_SAMPLES)).split(2)\n",
    "\n",
    "\n",
    "def acc(param_set_flat):\n",
    "    return ensemble_accuracy(vmap(unravel)(param_set_flat),\n",
    "                             val_images[:BATCH_SIZE],\n",
    "                             val_labels[:BATCH_SIZE])\n",
    "\n",
    "\n",
    "def vmean(fun):\n",
    "    \"\"\"vmap, but computes mean along mapped axis\"\"\"\n",
    "    def compute_mean(*args, **kwargs):\n",
    "        return jnp.mean(vmap(fun)(*args, **kwargs), axis=-1)\n",
    "    return compute_mean"
   ]
  },
  {
   "cell_type": "code",
   "execution_count": 32,
   "metadata": {},
   "outputs": [],
   "source": [
    "vlabels = val_labels[:BATCH_SIZE]"
   ]
  },
  {
   "cell_type": "code",
   "execution_count": 33,
   "metadata": {},
   "outputs": [
    {
     "data": {
      "text/plain": [
       "array([0.0703125, 0.1171875, 0.1171875, 0.0703125, 0.109375 , 0.1015625,\n",
       "       0.09375  , 0.125    , 0.125    , 0.0703125])"
      ]
     },
     "execution_count": 33,
     "metadata": {},
     "output_type": "execute_result"
    }
   ],
   "source": [
    "onp.unique(vlabels, return_counts=True)[1] / len(vlabels)"
   ]
  },
  {
   "cell_type": "markdown",
   "metadata": {},
   "source": [
    "# init particles and dynamics model"
   ]
  },
  {
   "cell_type": "code",
   "execution_count": 34,
   "metadata": {},
   "outputs": [],
   "source": [
    "%autoreload"
   ]
  },
  {
   "cell_type": "code",
   "execution_count": 35,
   "metadata": {},
   "outputs": [],
   "source": [
    "# particle optimizer\n",
    "opt = optax.sgd(STEP_SIZE)"
   ]
  },
  {
   "cell_type": "code",
   "execution_count": 36,
   "metadata": {},
   "outputs": [],
   "source": [
    "key, subkey = random.split(key)\n",
    "init_particles = vmap(init_flat_params)(random.split(subkey, NUM_SAMPLES))\n",
    "\n",
    "key, subkey1, subkey2 = random.split(key, 3)\n",
    "neural_grad = models.SteinNetwork(target_dim=init_particles.shape[1],\n",
    "                               get_target_logp=get_minibatch_logp,\n",
    "                               learning_rate=META_LEARNING_RATE,\n",
    "                               key=subkey1,\n",
    "                               sizes=[32, 32, init_particles.shape[1]],\n",
    "                               aux=False,\n",
    "                               use_hutchinson=True,\n",
    "                               lambda_reg=LAMBDA_REG,\n",
    "                               patience=10)\n",
    "particles = models.Particles(subkey2, neural_grad.gradient, init_particles, custom_optimizer=opt)"
   ]
  },
  {
   "cell_type": "code",
   "execution_count": 37,
   "metadata": {},
   "outputs": [],
   "source": [
    "train_batches = make_batches(train_images, train_labels, BATCH_SIZE)\n",
    "test_batches  = make_batches(test_images,  test_labels, BATCH_SIZE)"
   ]
  },
  {
   "cell_type": "markdown",
   "metadata": {},
   "source": [
    "# Maximial initial Stein discrepancy"
   ]
  },
  {
   "cell_type": "code",
   "execution_count": 38,
   "metadata": {},
   "outputs": [
    {
     "name": "stdout",
     "output_type": "stream",
     "text": [
      "analytical sd: 42478172.0\n",
      "hutchinson estimate: 42397276.0\n",
      "ratio: 1.0019081\n"
     ]
    }
   ],
   "source": [
    "import plot\n",
    "import stein\n",
    "from jax.scipy import stats\n",
    "\n",
    "n, d = init_particles.shape\n",
    "key, subkey = random.split(key)\n",
    "xs = random.normal(subkey, (NUM_SAMPLES, d)) / 100\n",
    "\n",
    "first_batch = next(train_batches)\n",
    "images, labels = first_batch\n",
    "\n",
    "def logp(x):\n",
    "    def loglikelihood(x):\n",
    "        params = unravel(x)\n",
    "        logits = model.apply(params, images)\n",
    "        return -data_size/BATCH_SIZE * crossentropy_loss(logits, labels)\n",
    "    return loglikelihood(x) - log_prior(unravel(x))\n",
    "\n",
    "\n",
    "def logq(x):\n",
    "    return stats.norm.logpdf(x, loc=0, scale=1/100).sum()\n",
    "\n",
    "\n",
    "def f(x):\n",
    "    def loglikelihood(x):\n",
    "        params = unravel(x)\n",
    "        logits = model.apply(params, images)\n",
    "        return -data_size/BATCH_SIZE * crossentropy_loss(logits, labels) / (2*LAMBDA_REG)\n",
    "    return grad(loglikelihood)(x)\n",
    "\n",
    "# double-check stein discrepancy\n",
    "\n",
    "# a) true\n",
    "l2 = utils.l2_norm_squared(xs, f) # = sd(f*) / (2 LAMBDA_REG)\n",
    "true_sd = 2 * LAMBDA_REG * l2\n",
    "min_loss = -l2 * LAMBDA_REG\n",
    "\n",
    "# b) hutchinson\n",
    "key, subkey = random.split(key)\n",
    "random_estimate_sd = stein.stein_discrepancy_hutchinson(subkey, xs, logp, f)\n",
    "\n",
    "print(\"analytical sd:\", true_sd)\n",
    "print(\"hutchinson estimate:\", random_estimate_sd)\n",
    "print(\"ratio:\", true_sd / random_estimate_sd)"
   ]
  },
  {
   "cell_type": "code",
   "execution_count": 39,
   "metadata": {},
   "outputs": [],
   "source": [
    "# stein discrepancy of a langevin update\n"
   ]
  },
  {
   "cell_type": "markdown",
   "metadata": {},
   "source": [
    "# Log\n",
    "### 24.01\n",
    "* **Overfitting**\n",
    "    * Network overfits particles even though they don't move much\n",
    "    * Thus this seems to be an issue with the gradient network, *not* the particle updates\n",
    "    * ---> we should see the same overfitting problem during the warmup phase, assuming we don't shuffle the particles\n",
    "        * indeed it should be even worse, since we're not sampling new batches and particles are fixed"
   ]
  },
  {
   "cell_type": "markdown",
   "metadata": {},
   "source": [
    "# warmup"
   ]
  },
  {
   "cell_type": "code",
   "execution_count": 40,
   "metadata": {},
   "outputs": [
    {
     "name": "stderr",
     "output_type": "stream",
     "text": [
      "100%|██████████| 5/5 [00:40<00:00,  8.16s/it]\n"
     ]
    }
   ],
   "source": [
    "# Warmup on first batch\n",
    "key, subkey = random.split(key)\n",
    "neural_grad.warmup(key=subkey,\n",
    "                   sample_split_particles=sample_tv,\n",
    "                   next_data=lambda: first_batch,\n",
    "                   n_iter=5,\n",
    "                   n_inner_steps=100,\n",
    "                   progress_bar=True)\n",
    "\n",
    "# # Warmup on first batch\n",
    "# neural_grad.train(next_batch=sample_tv,\n",
    "#                   n_steps=100, # 100\n",
    "#                   early_stopping=False,\n",
    "#                   data=batch,\n",
    "#                   progress_bar=True)"
   ]
  },
  {
   "cell_type": "code",
   "execution_count": 41,
   "metadata": {},
   "outputs": [
    {
     "data": {
      "text/plain": [
       "<matplotlib.legend.Legend at 0x2b57e438ad30>"
      ]
     },
     "execution_count": 41,
     "metadata": {},
     "output_type": "execute_result"
    },
    {
     "data": {
      "image/png": "[encoded data removed]",
      "text/plain": [
       "<Figure size 1080x360 with 3 Axes>"
      ]
     },
     "metadata": {
      "needs_background": "light"
     },
     "output_type": "display_data"
    }
   ],
   "source": [
    "fig, axs = plt.subplots(1, 3, figsize=[15, 5])\n",
    "\n",
    "ax = axs[0]\n",
    "ax.plot(neural_grad.rundata['training_loss'], label=\"training loss\")\n",
    "ax.plot(neural_grad.rundata['validation_loss'], label=\"validation loss\")\n",
    "ax.axhline(y=min_loss, label=\"true first-batch loss\", linestyle=\"--\")\n",
    "ax.legend()\n",
    "\n",
    "ax = axs[1]\n",
    "ax.plot(neural_grad.rundata['training_sd'], label='training SD')\n",
    "ax.plot(neural_grad.rundata['validation_sd'], label=\"validation SD\")\n",
    "ax.axhline(y=true_sd, linestyle=\"--\", label=\"true first-batch stein discrepancy\")\n",
    "ax.legend()\n",
    "\n",
    "ax = axs[2]\n",
    "ax.plot(neural_grad.rundata['l2_norm'])\n",
    "ax.axhline(y=l2, linestyle=\"--\", label=\"true l2 norm\")\n",
    "ax.legend()"
   ]
  },
  {
   "cell_type": "code",
   "execution_count": 42,
   "metadata": {},
   "outputs": [
    {
     "data": {
      "text/plain": [
       "[<matplotlib.lines.Line2D at 0x2b57e4459470>]"
      ]
     },
     "execution_count": 42,
     "metadata": {},
     "output_type": "execute_result"
    },
    {
     "data": {
      "image/png": "[encoded data removed]",
      "text/plain": [
       "<Figure size 432x288 with 1 Axes>"
      ]
     },
     "metadata": {
      "needs_background": "light"
     },
     "output_type": "display_data"
    }
   ],
   "source": [
    "plt.plot(neural_grad.rundata['train_steps'], \".\")"
   ]
  },
  {
   "cell_type": "markdown",
   "metadata": {},
   "source": [
    "## the first step"
   ]
  },
  {
   "cell_type": "code",
   "execution_count": 43,
   "metadata": {},
   "outputs": [],
   "source": [
    "STEP_SIZE = 1e-7 * 2 * LAMBDA_REG"
   ]
  },
  {
   "cell_type": "code",
   "execution_count": 44,
   "metadata": {},
   "outputs": [
    {
     "data": {
      "text/plain": [
       "1e-07"
      ]
     },
     "execution_count": 44,
     "metadata": {},
     "output_type": "execute_result"
    }
   ],
   "source": [
    "STEP_SIZE"
   ]
  },
  {
   "cell_type": "code",
   "execution_count": 45,
   "metadata": {},
   "outputs": [],
   "source": [
    "adam = optax.adam(STEP_SIZE)\n",
    "adam_state = adam.init(particles.particles)"
   ]
  },
  {
   "cell_type": "code",
   "execution_count": 46,
   "metadata": {},
   "outputs": [],
   "source": [
    "grads = neural_grad.grads(particles.particles)\n",
    "# updated_grads = adam.update(grads, adam_state, particles.particles)\n",
    "updated_grads = grads * STEP_SIZE\n",
    "pnorms = jnp.sqrt(jnp.sum(particles.particles**2, axis=1))"
   ]
  },
  {
   "cell_type": "code",
   "execution_count": 47,
   "metadata": {},
   "outputs": [
    {
     "name": "stdout",
     "output_type": "stream",
     "text": [
      "norm pre update : 74596.375\n",
      "norm post update: 0.0074596363\n"
     ]
    }
   ],
   "source": [
    "print(\"norm pre update :\", optax.global_norm(grads))\n",
    "print(\"norm post update:\", optax.global_norm(updated_grads))"
   ]
  },
  {
   "cell_type": "code",
   "execution_count": 53,
   "metadata": {},
   "outputs": [],
   "source": [
    "# true grad\n",
    "true_grads = vmap(f)(particles.particles)\n",
    "\n",
    "# langevin grad\n",
    "sgld = utils.sgld(1e-7)\n",
    "sgld_state = sgld.init(particles.particles)\n",
    "step_losses, g = vmap(value_and_grad(lambda pflat: loss(unravel(pflat), images, labels)))(particles.particles)\n",
    "langevin_grads, _ = sgld.update(g, sgld_state, particles.particles)"
   ]
  },
  {
   "cell_type": "code",
   "execution_count": 56,
   "metadata": {},
   "outputs": [
    {
     "name": "stdout",
     "output_type": "stream",
     "text": [
      "Langevin particle grad norm: 0.11172449\n",
      "True particle grad norm    : 0.009540847\n",
      "Neural particle grad norm  : 0.0074596363\n"
     ]
    }
   ],
   "source": [
    "print(\"Langevin particle grad norm:\", optax.global_norm(langevin_grads))\n",
    "print(\"True particle grad norm    :\", optax.global_norm(true_grads*1e-7))\n",
    "print(\"Neural particle grad norm  :\", optax.global_norm(updated_grads))"
   ]
  },
  {
   "cell_type": "code",
   "execution_count": 58,
   "metadata": {},
   "outputs": [
    {
     "name": "stdout",
     "output_type": "stream",
     "text": [
      "Noise component of langevin: 0.11158968\n",
      "Grad component of langevin : 0.009874649\n"
     ]
    }
   ],
   "source": [
    "langevin_noise = onp.sqrt(2*1e-7) * random.normal(subkey, particles.particles.shape)\n",
    "print(\"Noise component of langevin:\", optax.global_norm(langevin_noise))\n",
    "print(\"Grad component of langevin :\", optax.global_norm(g * 1e-7))"
   ]
  },
  {
   "cell_type": "markdown",
   "metadata": {},
   "source": [
    "### interesting\n",
    "* the noise component is much much larger\n",
    "* this means it'll be a while till this model learns anything at all\n",
    "* should be a big advantage that we can use much larger step sizes, since our noise won't dominate everything\n",
    "* though do note that at larger stepsizes, the langevin noise is smaller relative to the deterministic component"
   ]
  },
  {
   "cell_type": "code",
   "execution_count": 50,
   "metadata": {},
   "outputs": [
    {
     "data": {
      "text/plain": [
       "DeviceArray(14.977203, dtype=float32)"
      ]
     },
     "execution_count": 50,
     "metadata": {},
     "output_type": "execute_result"
    }
   ],
   "source": [
    "# ratio\n",
    "optax.global_norm(langevin_grads) / optax.global_norm(updated_grads)"
   ]
  }
 ],
 "metadata": {
  "kernelspec": {
   "display_name": "Python 3",
   "language": "python",
   "name": "python3"
  },
  "language_info": {
   "codemirror_mode": {
    "name": "ipython",
    "version": 3
   },
   "file_extension": ".py",
   "mimetype": "text/x-python",
   "name": "python",
   "nbconvert_exporter": "python",
   "pygments_lexer": "ipython3",
   "version": "3.7.1"
  }
 },
 "nbformat": 4,
 "nbformat_minor": 4
}
