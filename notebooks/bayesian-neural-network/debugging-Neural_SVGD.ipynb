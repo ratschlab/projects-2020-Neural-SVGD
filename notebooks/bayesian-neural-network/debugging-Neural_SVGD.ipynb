{
 "cells": [
  {
   "cell_type": "markdown",
   "metadata": {},
   "source": [
    "# Debugging notebook [solved]"
   ]
  },
  {
   "cell_type": "code",
   "execution_count": 1,
   "metadata": {},
   "outputs": [
    {
     "name": "stderr",
     "output_type": "stream",
     "text": [
      "WARNING:absl:No GPU/TPU found, falling back to CPU. (Set TF_CPP_MIN_LOG_LEVEL=0 and rerun for more info.)\n"
     ]
    }
   ],
   "source": [
    "# Train a Bayesian neural network to classify MNIST using\n",
    "# Neural SVGD\n",
    "#\n",
    "# If using pmap, set the environment variable\n",
    "# `export XLA_FLAGS=\"--xla_force_host_platform_device_count=8\"`\n",
    "# before running on CPU (this enables pmap to \"see\" multiple cores).\n",
    "%load_ext autoreload\n",
    "import sys\n",
    "sys.path.append(\"../../experiments/\")\n",
    "from functools import partial\n",
    "from itertools import cycle\n",
    "\n",
    "import numpy as onp\n",
    "import jax\n",
    "from jax import numpy as jnp\n",
    "from jax import jit, grad, value_and_grad, vmap, pmap, config, random, jacfwd\n",
    "config.update(\"jax_debug_nans\", False)\n",
    "from jax.ops import index_update, index\n",
    "import matplotlib.pyplot as plt\n",
    "from tqdm import tqdm\n",
    "from sklearn.model_selection import train_test_split\n",
    "from sklearn.calibration import calibration_curve\n",
    "import tensorflow_datasets as tfds\n",
    "\n",
    "import haiku as hk\n",
    "import optax\n",
    "\n",
    "import nets\n",
    "import utils\n",
    "import models\n",
    "import metrics\n",
    "from convnet import model, accuracy, crossentropy_loss, log_prior, ensemble_accuracy\n",
    "import os\n",
    "import jax.profiler\n",
    "\n",
    "on_cluster = not os.getenv(\"HOME\") == \"/home/lauro\"\n",
    "\n",
    "# Config\n",
    "key = random.PRNGKey(0)\n",
    "EPOCHS = 1\n",
    "NUM_VALS = 20\n",
    "BATCH_SIZE = 128\n",
    "META_LEARNING_RATE = 5e-3\n",
    "NUM_SAMPLES = 100\n",
    "DISABLE_PROGRESS_BAR = False\n",
    "USE_PMAP = False\n",
    "LAMBDA_REG = 10**2\n",
    "STEP_SIZE = 1e-7 * 2 * LAMBDA_REG * 100\n",
    "\n",
    "\n",
    "\n",
    "if USE_PMAP:\n",
    "    vpmap = pmap\n",
    "else:\n",
    "    vpmap = vmap\n",
    "\n",
    "# Load MNIST\n",
    "data_dir = '/tmp/tfds' if not on_cluster else \"/cluster/home/dlauro/projects-2020-Neural-SVGD/experiments/data\"\n",
    "mnist_data, info = tfds.load(name=\"mnist\", batch_size=-1, data_dir=data_dir, with_info=True)\n",
    "mnist_data = tfds.as_numpy(mnist_data)\n",
    "train_data, test_data = mnist_data['train'], mnist_data['test']\n",
    "\n",
    "# Full train and test set\n",
    "train_images, train_labels = train_data['image'], train_data['label']\n",
    "test_images, test_labels = test_data['image'], test_data['label']\n",
    "\n",
    "# Split off the validation set\n",
    "train_images, val_images, train_labels, val_labels = train_test_split(\n",
    "    train_images, train_labels, test_size=0.1, random_state=0)\n",
    "data_size = len(train_images)\n",
    "\n",
    "\n",
    "def make_batches(images, labels, batch_size):\n",
    "    \"\"\"Returns an iterator that cycles through \n",
    "    tuples (image_batch, label_batch).\"\"\"\n",
    "    num_batches = len(images) // batch_size\n",
    "    split_idx = onp.arange(1, num_batches+1)*batch_size\n",
    "    batches = zip(*[onp.split(data, split_idx, axis=0) for data in (images, labels)])\n",
    "    return cycle(batches)\n",
    "\n",
    "\n",
    "def loss(params, images, labels):\n",
    "    \"\"\"Minibatch approximation of the (unnormalized) Bayesian\n",
    "    negative log-posterior evaluated at `params`. That is,\n",
    "    -log model_likelihood(data_batch | params) * batch_rescaling_constant - log prior(params))\"\"\"\n",
    "    logits = model.apply(params, images)\n",
    "    return data_size/BATCH_SIZE * crossentropy_loss(logits, labels) - log_prior(params)"
   ]
  },
  {
   "cell_type": "markdown",
   "metadata": {},
   "source": [
    "# Neural SVGD Model\n",
    "* Input: model parameters\n",
    "* Output: 'gradient' of same shape as parameters\n",
    "\n",
    "### Memory\n",
    "Assume: convnet model has 50.000 parameters, and NSVGD layers have hidden dimensions `[1024, 1024]`. Then the NSVGD (meta) model has `2*50.000*1024` parameters (each 8 bytes), i.e. about 800MB.\n",
    "\n",
    "The activations: `50.000 + 1024 + 1024 + 50.000` floats, i.e. about 800KB, times `NUM_SAMPLES`."
   ]
  },
  {
   "cell_type": "code",
   "execution_count": 2,
   "metadata": {},
   "outputs": [],
   "source": [
    "# Utility functions for dealing with parameters\n",
    "key, subkey = random.split(key)\n",
    "params_tree = model.init(subkey, train_images[:2])\n",
    "params_flat, unravel = jax.flatten_util.ravel_pytree(params_tree)\n",
    "\n",
    "\n",
    "def ravel(tree):\n",
    "    return jax.flatten_util.ravel_pytree(tree)[0]\n",
    "\n",
    "\n",
    "def init_flat_params(key):\n",
    "    return ravel(model.init(key, train_images[:2]))\n",
    "\n",
    "\n",
    "def get_minibatch_loss(batch):\n",
    "    \"\"\"\n",
    "    args:\n",
    "        batch = (images, labels)\n",
    "\n",
    "    Returns a callable that computes target posterior\n",
    "    given flattened param vector.\n",
    "    \"\"\"\n",
    "    def minibatch_loss(params_flat):\n",
    "        return loss(unravel(params_flat), *batch)\n",
    "    return minibatch_loss\n",
    "\n",
    "\n",
    "def sample_tv(key):\n",
    "    \"\"\"return two sets of particles at initialization, for\n",
    "    training and validation in the warmup phase\"\"\"\n",
    "    return vmap(init_flat_params)(random.split(key, NUM_SAMPLES)).split(2)\n",
    "\n",
    "\n",
    "def acc(param_set_flat):\n",
    "    return ensemble_accuracy(vmap(unravel)(param_set_flat),\n",
    "                             val_images[:BATCH_SIZE],\n",
    "                             val_labels[:BATCH_SIZE])\n",
    "\n",
    "\n",
    "def vmean(fun):\n",
    "    \"\"\"vmap, but computes mean along mapped axis\"\"\"\n",
    "    def compute_mean(*args, **kwargs):\n",
    "        return jnp.mean(vmap(fun)(*args, **kwargs), axis=-1)\n",
    "    return compute_mean"
   ]
  },
  {
   "cell_type": "markdown",
   "metadata": {},
   "source": [
    "# init particles and dynamics model"
   ]
  },
  {
   "cell_type": "code",
   "execution_count": 3,
   "metadata": {},
   "outputs": [],
   "source": [
    "%autoreload"
   ]
  },
  {
   "cell_type": "code",
   "execution_count": 3,
   "metadata": {},
   "outputs": [],
   "source": [
    "# particle optimizer\n",
    "opt = optax.sgd(STEP_SIZE)"
   ]
  },
  {
   "cell_type": "code",
   "execution_count": 4,
   "metadata": {},
   "outputs": [],
   "source": [
    "key, subkey = random.split(key)\n",
    "init_particles = vmap(init_flat_params)(random.split(subkey, NUM_SAMPLES))\n",
    "\n",
    "key, subkey1, subkey2 = random.split(key, 3)\n",
    "neural_grad = models.SDLearner(target_dim=init_particles.shape[1],\n",
    "                               get_target_logp=get_minibatch_loss,\n",
    "                               learning_rate=META_LEARNING_RATE,\n",
    "                               key=subkey1,\n",
    "                               sizes=[32, 32, init_particles.shape[1]],\n",
    "                               aux=False,\n",
    "                               use_hutchinson=True,\n",
    "                               lambda_reg=LAMBDA_REG)\n",
    "particles = models.Particles(subkey2, neural_grad.gradient, init_particles, custom_optimizer=opt)"
   ]
  },
  {
   "cell_type": "code",
   "execution_count": 5,
   "metadata": {},
   "outputs": [],
   "source": [
    "train_batches = make_batches(train_images, train_labels, BATCH_SIZE)\n",
    "test_batches  = make_batches(test_images,  test_labels, BATCH_SIZE)"
   ]
  },
  {
   "cell_type": "markdown",
   "metadata": {},
   "source": [
    "# Maximial initial Stein discrepancy"
   ]
  },
  {
   "cell_type": "code",
   "execution_count": 6,
   "metadata": {},
   "outputs": [
    {
     "name": "stdout",
     "output_type": "stream",
     "text": [
      "analytical sd: 181331.03\n",
      "hutchinson estimate: 181677.0\n",
      "ratio: 0.9980957\n"
     ]
    }
   ],
   "source": [
    "import plot\n",
    "import stein\n",
    "from jax.scipy import stats\n",
    "\n",
    "n, d = init_particles.shape\n",
    "key, subkey = random.split(key)\n",
    "xs = random.normal(subkey, (NUM_SAMPLES, d)) / 100\n",
    "\n",
    "batch = next(train_batches)\n",
    "# logp = get_minibatch_loss(batch)\n",
    "images, labels = batch\n",
    "\n",
    "def logp(x):\n",
    "    def loglikelihood(x):\n",
    "        params = unravel(x)\n",
    "        logits = model.apply(params, images)\n",
    "        return data_size/BATCH_SIZE * crossentropy_loss(logits, labels)\n",
    "    return loglikelihood(x) - log_prior(unravel(x))\n",
    "\n",
    "\n",
    "def logq(x):\n",
    "    return stats.norm.logpdf(x, loc=0, scale=1/100).sum()\n",
    "\n",
    "\n",
    "def f(x):\n",
    "    def loglikelihood(x):\n",
    "        params = unravel(x)\n",
    "        logits = model.apply(params, images)\n",
    "        return data_size/BATCH_SIZE * crossentropy_loss(logits, labels) / (2*LAMBDA_REG)\n",
    "    return grad(loglikelihood)(x)\n",
    "\n",
    "# double-check stein discrepancy\n",
    "\n",
    "# a) true\n",
    "l2 = utils.l2_norm_squared(xs, f) # = sd(f*) / (2 LAMBDA_REG)\n",
    "true_sd = 2 * LAMBDA_REG * l2\n",
    "min_loss = -l2 * LAMBDA_REG\n",
    "\n",
    "# b) hutchinson\n",
    "key, subkey = random.split(key)\n",
    "random_estimate_sd = stein.stein_discrepancy_hutchinson(subkey, xs, logp, f)\n",
    "\n",
    "print(\"analytical sd:\", true_sd)\n",
    "print(\"hutchinson estimate:\", random_estimate_sd)\n",
    "print(\"ratio:\", true_sd / random_estimate_sd)"
   ]
  },
  {
   "cell_type": "markdown",
   "metadata": {},
   "source": [
    "# warmup"
   ]
  },
  {
   "cell_type": "markdown",
   "metadata": {},
   "source": [
    "* Run to convergence, then check diff in magnitude of NGF particle updates and Langevin updates.\n",
    "* If still 50x difference, then future training is probably *not* the cause of later instability.\n",
    "    * In this case, test: run NSVGD trajectory with long warmup, then see if old pattern stays."
   ]
  },
  {
   "cell_type": "code",
   "execution_count": 27,
   "metadata": {},
   "outputs": [
    {
     "name": "stderr",
     "output_type": "stream",
     "text": [
      "100%|██████████| 100/100 [03:40<00:00,  2.20s/it]\n"
     ]
    }
   ],
   "source": [
    "# Warmup on first batch\n",
    "neural_grad.train(next_batch=sample_tv,\n",
    "                  n_steps=100, # 100\n",
    "                  early_stopping=False,\n",
    "                  data=batch,\n",
    "                  progress_bar=True)"
   ]
  },
  {
   "cell_type": "code",
   "execution_count": 28,
   "metadata": {},
   "outputs": [
    {
     "data": {
      "text/plain": [
       "<matplotlib.lines.Line2D at 0x2b32876d8668>"
      ]
     },
     "execution_count": 28,
     "metadata": {},
     "output_type": "execute_result"
    },
    {
     "data": {
      "image/png": "[encoded data removed]",
      "text/plain": [
       "<Figure size 1080x360 with 3 Axes>"
      ]
     },
     "metadata": {
      "needs_background": "light"
     },
     "output_type": "display_data"
    }
   ],
   "source": [
    "fig, axs = plt.subplots(1, 3, figsize=[15, 5])\n",
    "\n",
    "ax = axs[0]\n",
    "ax.plot(neural_grad.rundata['training_loss'])\n",
    "ax.plot(neural_grad.rundata['validation_loss'])\n",
    "ax.axhline(y=min_loss, label=\"true loss\", linestyle=\"--\")\n",
    "\n",
    "ax = axs[1]\n",
    "ax.plot(neural_grad.rundata['training_sd'])\n",
    "ax.plot(neural_grad.rundata['validation_sd'])\n",
    "ax.axhline(y=true_sd, linestyle=\"--\", label=\"true stein discrepancy\")\n",
    "\n",
    "\n",
    "ax = axs[2]\n",
    "ax.plot(neural_grad.rundata['l2_norm'])\n",
    "ax.axhline(y=l2, linestyle=\"--\", label=\"true l2 norm\")"
   ]
  },
  {
   "cell_type": "markdown",
   "metadata": {},
   "source": [
    "## the first step"
   ]
  },
  {
   "cell_type": "code",
   "execution_count": 29,
   "metadata": {},
   "outputs": [],
   "source": [
    "STEP_SIZE = 1e-7 * 2 * LAMBDA_REG * 50"
   ]
  },
  {
   "cell_type": "code",
   "execution_count": 30,
   "metadata": {},
   "outputs": [
    {
     "data": {
      "text/plain": [
       "(100, 302)"
      ]
     },
     "execution_count": 30,
     "metadata": {},
     "output_type": "execute_result"
    }
   ],
   "source": [
    "grads = neural_grad.grads(particles.particles) * STEP_SIZE\n",
    "ratios = particles.particles / grads\n",
    "ratios.shape"
   ]
  },
  {
   "cell_type": "code",
   "execution_count": 31,
   "metadata": {},
   "outputs": [],
   "source": [
    "pnorms = jnp.sum(particles.particles**2, axis=1)\n",
    "gnorms = jnp.sum(grads**2, axis=1)"
   ]
  },
  {
   "cell_type": "code",
   "execution_count": 32,
   "metadata": {},
   "outputs": [
    {
     "data": {
      "text/plain": [
       "DeviceArray(0.02326085, dtype=float32)"
      ]
     },
     "execution_count": 32,
     "metadata": {},
     "output_type": "execute_result"
    }
   ],
   "source": [
    "jnp.mean(gnorms / pnorms)"
   ]
  },
  {
   "cell_type": "markdown",
   "metadata": {},
   "source": [
    "###### compare to langevin grads"
   ]
  },
  {
   "cell_type": "code",
   "execution_count": 33,
   "metadata": {},
   "outputs": [],
   "source": [
    "sgld = utils.sgld(1e-7)\n",
    "sgld_state = sgld.init(particles.particles)\n",
    "\n",
    "step_losses, g = vmap(value_and_grad(lambda pflat: loss(unravel(pflat), images, labels)))(particles.particles)\n",
    "langevin_grads, _ = sgld.update(g, sgld_state, particles.particles)\n",
    "\n",
    "lgnorms = jnp.sum(langevin_grads**2, axis=1)"
   ]
  },
  {
   "cell_type": "code",
   "execution_count": 34,
   "metadata": {},
   "outputs": [
    {
     "data": {
      "text/plain": [
       "DeviceArray(0.00206518, dtype=float32)"
      ]
     },
     "execution_count": 34,
     "metadata": {},
     "output_type": "execute_result"
    }
   ],
   "source": [
    "jnp.mean(lgnorms / pnorms)"
   ]
  }
 ],
 "metadata": {
  "kernelspec": {
   "display_name": "Python 3",
   "language": "python",
   "name": "python3"
  },
  "language_info": {
   "codemirror_mode": {
    "name": "ipython",
    "version": 3
   },
   "file_extension": ".py",
   "mimetype": "text/x-python",
   "name": "python",
   "nbconvert_exporter": "python",
   "pygments_lexer": "ipython3",
   "version": "3.7.1"
  }
 },
 "nbformat": 4,
 "nbformat_minor": 4
}
