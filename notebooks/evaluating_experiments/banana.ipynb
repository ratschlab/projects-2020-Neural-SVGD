{
 "cells": [
  {
   "cell_type": "code",
   "execution_count": 1,
   "metadata": {},
   "outputs": [
    {
     "name": "stderr",
     "output_type": "stream",
     "text": [
      "/home/lauro/.virtualenvs/msc-thesis/lib/python3.8/site-packages/jax/lib/xla_bridge.py:125: UserWarning: No GPU/TPU found, falling back to CPU.\n",
      "  warnings.warn('No GPU/TPU found, falling back to CPU.')\n"
     ]
    }
   ],
   "source": [
    "import sys\n",
    "import os\n",
    "sys.path.append(\"/home/lauro/code/msc-thesis/svgd\")\n",
    "import json_tricks as json\n",
    "import warnings\n",
    "\n",
    "import matplotlib as mpl\n",
    "\n",
    "import jax.numpy as np\n",
    "from jax import grad, jit, vmap, random, lax, jacfwd\n",
    "from jax import lax\n",
    "from jax.ops import index_update, index\n",
    "import matplotlib.pyplot as plt\n",
    "import numpy as onp\n",
    "import jax\n",
    "import pandas as pd\n",
    "import haiku as hk\n",
    "\n",
    "import config\n",
    "\n",
    "import utils\n",
    "import metrics\n",
    "import time\n",
    "import plot\n",
    "import svgd\n",
    "import stein\n",
    "import kernels\n",
    "from svgd import SVGD\n",
    "\n",
    "from jax.experimental import optimizers\n",
    "\n",
    "rkey = random.PRNGKey(0)\n",
    "basedir = \"/home/lauro/code/msc-thesis/svgd/\""
   ]
  },
  {
   "cell_type": "markdown",
   "metadata": {},
   "source": [
    "## Summary\n",
    "both vanilla and mlp have big problems in trying to get anywhere near the target. Movement in mean (during run) is very similar."
   ]
  },
  {
   "cell_type": "code",
   "execution_count": 2,
   "metadata": {},
   "outputs": [],
   "source": [
    "def get_data(logdir):\n",
    "    \"\"\"Take directory with run results and return a Pandas DataFrame with the relevant hparams plus metrics.\n",
    "    Returns:\n",
    "    * frame: a pandas dataframe with config hparams and metrics\n",
    "    * data: a list of dicts with data collected during runs\"\"\"\n",
    "    cfgs = []\n",
    "    rundata = []\n",
    "    metrics = []\n",
    "    sweep_metaconfigs = []\n",
    "    base_metaconfigs = []\n",
    "    for rundir in os.listdir(logdir):\n",
    "        if os.path.isdir(os.path.join(logdir, rundir)):\n",
    "            configfile, datafile, metricfile = [logdir + rundir + f for f in [\"/config.json\", \"/rundata.json\", \"/metrics.json\"]]\n",
    "            try:\n",
    "                with open(configfile, \"r\") as f:\n",
    "                    cfgs.append(json.load(f))\n",
    "                with open(datafile, \"r\") as f:\n",
    "                    rundata.append(json.load(f))\n",
    "                with open(metricfile, \"r\") as f:\n",
    "                    metrics.append(json.load(f))\n",
    "            except FileNotFoundError:\n",
    "                warnings.warn(f\"Failed loading one or more files from {rundir}.\")\n",
    "        else:\n",
    "            with open(logdir + rundir, \"r\") as f:\n",
    "                base, sweep_config = json.load(f)\n",
    "                sweep_metaconfigs.append(sweep_config)\n",
    "                base_metaconfigs.append(base)\n",
    "     \n",
    "    # process data\n",
    "    cfgs_flat = [utils.flatten_dict(c) for c in cfgs]    \n",
    "    \n",
    "    configs_df = pd.DataFrame(cfgs_flat)    \n",
    "    metrics_df = pd.DataFrame(metrics)\n",
    "    all_df = pd.concat([metrics_df, configs_df], axis=1)\n",
    "    all_df[\"encoder_layers\"] = all_df.encoder_layers.astype('str').astype('category')\n",
    "    all_df[\"decoder_layers\"] = all_df.decoder_layers.astype('str').astype('category')\n",
    "    all_df[\"train\"] = all_df.train.astype('category')\n",
    "    \n",
    "    # to numeric\n",
    "    all_df.lr_ksd  = pd.to_numeric(all_df.lr_ksd.astype(\"str\"), errors=\"coerce\")\n",
    "    all_df.lr_svgd = pd.to_numeric(all_df.lr_svgd.astype(\"str\"), errors=\"coerce\")\n",
    "    \n",
    "    \n",
    "    if all_df.isnull().values.any():\n",
    "        rows_with_nans = all_df.shape[0] - all_df.dropna().shape[0]\n",
    "        warnings.warn(f\"Detected NaNs in dataframe. {rows_with_nans} / {all_df.shape[0]} rows include at least one NaN or inf. Dropping all rows with nonfinite values.\")\n",
    "#         all_df = all_df.dropna()\n",
    "\n",
    "    return all_df, rundata, cfgs, sweep_metaconfigs, base_metaconfigs"
   ]
  },
  {
   "cell_type": "code",
   "execution_count": 3,
   "metadata": {},
   "outputs": [
    {
     "name": "stdout",
     "output_type": "stream",
     "text": [
      "\u001b[0m\u001b[01;34mtwo-dim\u001b[0m/\n"
     ]
    }
   ],
   "source": [
    "ls ../../runs"
   ]
  },
  {
   "cell_type": "code",
   "execution_count": 4,
   "metadata": {},
   "outputs": [
    {
     "name": "stderr",
     "output_type": "stream",
     "text": [
      "<ipython-input-2-f3fe6a293710>:46: UserWarning: Detected NaNs in dataframe. 2 / 3 rows include at least one NaN or inf. Dropping all rows with nonfinite values.\n",
      "  warnings.warn(f\"Detected NaNs in dataframe. {rows_with_nans} / {all_df.shape[0]} rows include at least one NaN or inf. Dropping all rows with nonfinite values.\")\n"
     ]
    }
   ],
   "source": [
    "rundir = basedir + \"test-runs/2-dim-banana/\"\n",
    "frame, rundata, configs, sweep_metaconfigs, base_metaconfigs = get_data(rundir)"
   ]
  },
  {
   "cell_type": "code",
   "execution_count": 5,
   "metadata": {},
   "outputs": [],
   "source": [
    "relevant = [\"se_mean\", \"se_var\", \"ksd\", \"emd\"] + [\"lr_ksd\", \"svgd_steps\", \"encoder_layers\", \"ksd_steps\", \"train\", \"lambda_reg\"]\n",
    "f = frame[relevant]\n",
    "# f"
   ]
  },
  {
   "cell_type": "code",
   "execution_count": 6,
   "metadata": {},
   "outputs": [
    {
     "data": {
      "text/html": [
       "<div>\n",
       "<style scoped>\n",
       "    .dataframe tbody tr th:only-of-type {\n",
       "        vertical-align: middle;\n",
       "    }\n",
       "\n",
       "    .dataframe tbody tr th {\n",
       "        vertical-align: top;\n",
       "    }\n",
       "\n",
       "    .dataframe thead th {\n",
       "        text-align: right;\n",
       "    }\n",
       "</style>\n",
       "<table border=\"1\" class=\"dataframe\">\n",
       "  <thead>\n",
       "    <tr style=\"text-align: right;\">\n",
       "      <th></th>\n",
       "      <th>se_mean</th>\n",
       "      <th>se_var</th>\n",
       "      <th>ksd</th>\n",
       "      <th>emd</th>\n",
       "      <th>lr_ksd</th>\n",
       "      <th>svgd_steps</th>\n",
       "      <th>encoder_layers</th>\n",
       "      <th>ksd_steps</th>\n",
       "      <th>train</th>\n",
       "      <th>lambda_reg</th>\n",
       "    </tr>\n",
       "  </thead>\n",
       "  <tbody>\n",
       "    <tr>\n",
       "      <th>0</th>\n",
       "      <td>0.532875</td>\n",
       "      <td>4.805124</td>\n",
       "      <td>0.010055</td>\n",
       "      <td>1.781841</td>\n",
       "      <td>0.031621</td>\n",
       "      <td>1</td>\n",
       "      <td>[4, 4, 2]</td>\n",
       "      <td>10.0</td>\n",
       "      <td>True</td>\n",
       "      <td>0.000936</td>\n",
       "    </tr>\n",
       "    <tr>\n",
       "      <th>1</th>\n",
       "      <td>NaN</td>\n",
       "      <td>NaN</td>\n",
       "      <td>NaN</td>\n",
       "      <td>NaN</td>\n",
       "      <td>0.031621</td>\n",
       "      <td>1</td>\n",
       "      <td>[4, 4, 2]</td>\n",
       "      <td>5.0</td>\n",
       "      <td>True</td>\n",
       "      <td>0.000936</td>\n",
       "    </tr>\n",
       "    <tr>\n",
       "      <th>2</th>\n",
       "      <td>10.754229</td>\n",
       "      <td>9.879546</td>\n",
       "      <td>0.244902</td>\n",
       "      <td>4.956281</td>\n",
       "      <td>0.030000</td>\n",
       "      <td>1</td>\n",
       "      <td>None</td>\n",
       "      <td>NaN</td>\n",
       "      <td>False</td>\n",
       "      <td>NaN</td>\n",
       "    </tr>\n",
       "  </tbody>\n",
       "</table>\n",
       "</div>"
      ],
      "text/plain": [
       "     se_mean    se_var       ksd       emd    lr_ksd  svgd_steps  \\\n",
       "0   0.532875  4.805124  0.010055  1.781841  0.031621           1   \n",
       "1        NaN       NaN       NaN       NaN  0.031621           1   \n",
       "2  10.754229  9.879546  0.244902  4.956281  0.030000           1   \n",
       "\n",
       "  encoder_layers  ksd_steps  train  lambda_reg  \n",
       "0      [4, 4, 2]       10.0   True    0.000936  \n",
       "1      [4, 4, 2]        5.0   True    0.000936  \n",
       "2           None        NaN  False         NaN  "
      ]
     },
     "execution_count": 6,
     "metadata": {},
     "output_type": "execute_result"
    }
   ],
   "source": [
    "f"
   ]
  },
  {
   "cell_type": "markdown",
   "metadata": {},
   "source": [
    "# Hyperparameter comparison"
   ]
  },
  {
   "cell_type": "code",
   "execution_count": 7,
   "metadata": {},
   "outputs": [
    {
     "data": {
      "image/png": "[encoded data removed]",
      "text/plain": [
       "<Figure size 432x288 with 1 Axes>"
      ]
     },
     "metadata": {
      "needs_background": "light"
     },
     "output_type": "display_data"
    }
   ],
   "source": [
    "plt.scatter(f.encoder_layers, f.se_var)\n",
    "plt.yscale(\"log\")"
   ]
  },
  {
   "cell_type": "code",
   "execution_count": 8,
   "metadata": {},
   "outputs": [
    {
     "data": {
      "image/png": "[encoded data removed]",
      "text/plain": [
       "<Figure size 432x288 with 1 Axes>"
      ]
     },
     "metadata": {
      "needs_background": "light"
     },
     "output_type": "display_data"
    }
   ],
   "source": [
    "plt.scatter(f.encoder_layers, f.se_mean)\n",
    "plt.yscale(\"log\")"
   ]
  },
  {
   "cell_type": "code",
   "execution_count": 9,
   "metadata": {},
   "outputs": [
    {
     "data": {
      "image/png": "[encoded data removed]",
      "text/plain": [
       "<Figure size 432x288 with 1 Axes>"
      ]
     },
     "metadata": {
      "needs_background": "light"
     },
     "output_type": "display_data"
    }
   ],
   "source": [
    "plt.scatter(f.lr_ksd, f.se_mean)\n",
    "plt.yscale(\"log\")\n",
    "plt.xscale(\"log\")"
   ]
  },
  {
   "cell_type": "markdown",
   "metadata": {},
   "source": [
    "# Rundata"
   ]
  },
  {
   "cell_type": "code",
   "execution_count": 18,
   "metadata": {},
   "outputs": [],
   "source": [
    "# sweep_metaconfigs[0][\"svgd\"][\"target_args\"]"
   ]
  },
  {
   "cell_type": "code",
   "execution_count": 11,
   "metadata": {},
   "outputs": [
    {
     "data": {
      "text/plain": [
       "odict_keys(['Interrupted because of NaN', 'autoencoder_loss', 'decoder_params', 'encoder_params', 'ksd_after_svgd_update', 'ksd_after_svgd_update_val', 'ksd_before_kernel_update', 'ksd_before_kernel_update_val', 'ksd_variance', 'ksd_variance_val', 'leader_idx', 'leader_mean', 'leader_var', 'mean_drift', 'mean_repulsion', 'particles', 'regularized_loss', 'square_errors', 'train_idx', 'training_mean', 'training_var', 'update_to_weight_ratio', 'validation_idx', 'validation_mean', 'validation_var'])"
      ]
     },
     "execution_count": 11,
     "metadata": {},
     "output_type": "execute_result"
    }
   ],
   "source": [
    "rundata[0].keys()"
   ]
  },
  {
   "cell_type": "code",
   "execution_count": 12,
   "metadata": {},
   "outputs": [
    {
     "data": {
      "text/html": [
       "<div>\n",
       "<style scoped>\n",
       "    .dataframe tbody tr th:only-of-type {\n",
       "        vertical-align: middle;\n",
       "    }\n",
       "\n",
       "    .dataframe tbody tr th {\n",
       "        vertical-align: top;\n",
       "    }\n",
       "\n",
       "    .dataframe thead th {\n",
       "        text-align: right;\n",
       "    }\n",
       "</style>\n",
       "<table border=\"1\" class=\"dataframe\">\n",
       "  <thead>\n",
       "    <tr style=\"text-align: right;\">\n",
       "      <th></th>\n",
       "      <th>se_mean</th>\n",
       "      <th>se_var</th>\n",
       "      <th>ksd</th>\n",
       "      <th>emd</th>\n",
       "      <th>lr_ksd</th>\n",
       "      <th>svgd_steps</th>\n",
       "      <th>encoder_layers</th>\n",
       "      <th>ksd_steps</th>\n",
       "      <th>train</th>\n",
       "      <th>lambda_reg</th>\n",
       "    </tr>\n",
       "  </thead>\n",
       "  <tbody>\n",
       "    <tr>\n",
       "      <th>2</th>\n",
       "      <td>10.754229</td>\n",
       "      <td>9.879546</td>\n",
       "      <td>0.244902</td>\n",
       "      <td>4.956281</td>\n",
       "      <td>0.03</td>\n",
       "      <td>1</td>\n",
       "      <td>None</td>\n",
       "      <td>NaN</td>\n",
       "      <td>False</td>\n",
       "      <td>NaN</td>\n",
       "    </tr>\n",
       "  </tbody>\n",
       "</table>\n",
       "</div>"
      ],
      "text/plain": [
       "     se_mean    se_var       ksd       emd  lr_ksd  svgd_steps encoder_layers  \\\n",
       "2  10.754229  9.879546  0.244902  4.956281    0.03           1           None   \n",
       "\n",
       "   ksd_steps  train  lambda_reg  \n",
       "2        NaN  False         NaN  "
      ]
     },
     "execution_count": 12,
     "metadata": {},
     "output_type": "execute_result"
    }
   ],
   "source": [
    "f[f.train == False]"
   ]
  },
  {
   "cell_type": "code",
   "execution_count": 13,
   "metadata": {},
   "outputs": [
    {
     "data": {
      "text/plain": [
       "se_mean            10.7542\n",
       "se_var             9.87955\n",
       "ksd               0.244902\n",
       "emd                4.95628\n",
       "lr_ksd                0.03\n",
       "svgd_steps               1\n",
       "encoder_layers        None\n",
       "ksd_steps              NaN\n",
       "train                False\n",
       "lambda_reg             NaN\n",
       "Name: 2, dtype: object"
      ]
     },
     "execution_count": 13,
     "metadata": {},
     "output_type": "execute_result"
    }
   ],
   "source": [
    "ind = 2\n",
    "f.iloc[ind]"
   ]
  },
  {
   "cell_type": "code",
   "execution_count": 15,
   "metadata": {},
   "outputs": [
    {
     "data": {
      "image/png": "[encoded data removed]",
      "text/plain": [
       "<Figure size 432x288 with 1 Axes>"
      ]
     },
     "metadata": {
      "needs_background": "light"
     },
     "output_type": "display_data"
    }
   ],
   "source": [
    "colorcycle = plt.rcParams['axes.prop_cycle'].by_key()['color']\n",
    "mean = onp.array(rundata[ind][\"validation_mean\"])\n",
    "tru_mean = configs[ind][\"svgd\"][\"target_args\"][0]\n",
    "\n",
    "_ = plt.plot(mean)\n",
    "_ = plt.hlines(tru_mean, 0, 200, colors=colorcycle)"
   ]
  },
  {
   "cell_type": "code",
   "execution_count": null,
   "metadata": {},
   "outputs": [],
   "source": [
    "var = onp.array(rundata[ind][\"training_var\"])\n",
    "tru_var = onp.diag(configs[ind][\"svgd\"][\"target_args\"][1])\n",
    "_ = plt.plot(var)\n",
    "_ = plt.hlines(tru_var, 0, 200, colors=colorcycle)"
   ]
  },
  {
   "cell_type": "markdown",
   "metadata": {},
   "source": [
    "### KSD"
   ]
  },
  {
   "cell_type": "code",
   "execution_count": null,
   "metadata": {},
   "outputs": [],
   "source": [
    "n_iter = 200"
   ]
  },
  {
   "cell_type": "code",
   "execution_count": null,
   "metadata": {},
   "outputs": [],
   "source": [
    "ind = 2"
   ]
  },
  {
   "cell_type": "code",
   "execution_count": null,
   "metadata": {},
   "outputs": [],
   "source": [
    "frame.iloc[2]"
   ]
  },
  {
   "cell_type": "code",
   "execution_count": null,
   "metadata": {},
   "outputs": [],
   "source": [
    "plt.plot(onp.array(rundata[ind][\"ksd_after_svgd_update\"]), \"o\", label=\"KSD after svgd update\")\n",
    "plt.yscale(\"log\")"
   ]
  },
  {
   "cell_type": "code",
   "execution_count": null,
   "metadata": {},
   "outputs": [],
   "source": [
    "fig, ax = plt.subplots(figsize=[12, 6])\n",
    "# idx = onp.arange(len(onp.array(rundata[ind][\"ksd_after_kernel_update\"])))\n",
    "ax.plot(onp.array(rundata[ind][\"ksd_after_kernel_update\"]), \"o\", label=\"KSD after kernel update\")\n",
    "\n",
    "# ax.legend()\n",
    "ax.set_yscale(\"log\")"
   ]
  },
  {
   "cell_type": "code",
   "execution_count": null,
   "metadata": {},
   "outputs": [],
   "source": [
    "f"
   ]
  },
  {
   "cell_type": "code",
   "execution_count": null,
   "metadata": {},
   "outputs": [],
   "source": []
  }
 ],
 "metadata": {
  "kernelspec": {
   "display_name": "msc-thesis",
   "language": "python",
   "name": "msc-thesis"
  },
  "language_info": {
   "codemirror_mode": {
    "name": "ipython",
    "version": 3
   },
   "file_extension": ".py",
   "mimetype": "text/x-python",
   "name": "python",
   "nbconvert_exporter": "python",
   "pygments_lexer": "ipython3",
   "version": "3.8.2"
  }
 },
 "nbformat": 4,
 "nbformat_minor": 4
}
