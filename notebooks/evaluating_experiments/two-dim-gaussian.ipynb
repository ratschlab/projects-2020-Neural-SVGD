{
 "cells": [
  {
   "cell_type": "code",
   "execution_count": 1,
   "metadata": {},
   "outputs": [
    {
     "name": "stderr",
     "output_type": "stream",
     "text": [
      "/home/lauro/.virtualenvs/msc-thesis/lib/python3.8/site-packages/jax/lib/xla_bridge.py:125: UserWarning: No GPU/TPU found, falling back to CPU.\n",
      "  warnings.warn('No GPU/TPU found, falling back to CPU.')\n"
     ]
    }
   ],
   "source": [
    "import sys\n",
    "import os\n",
    "sys.path.append(\"/home/lauro/code/msc-thesis/svgd\")\n",
    "import json_tricks as json\n",
    "import warnings\n",
    "\n",
    "import matplotlib as mpl\n",
    "\n",
    "import jax.numpy as np\n",
    "from jax import grad, jit, vmap, random, lax, jacfwd\n",
    "from jax import lax\n",
    "from jax.ops import index_update, index\n",
    "import matplotlib.pyplot as plt\n",
    "import numpy as onp\n",
    "import jax\n",
    "import pandas as pd\n",
    "import haiku as hk\n",
    "\n",
    "import config\n",
    "\n",
    "import utils\n",
    "import metrics\n",
    "import time\n",
    "import plot\n",
    "import svgd\n",
    "import stein\n",
    "import train\n",
    "import kernels\n",
    "from svgd import SVGD\n",
    "\n",
    "from jax.experimental import optimizers\n",
    "\n",
    "rkey = random.PRNGKey(0)\n",
    "basedir = \"/home/lauro/code/msc-thesis/svgd/\""
   ]
  },
  {
   "cell_type": "markdown",
   "metadata": {},
   "source": [
    "## Summary\n",
    "both vanilla and mlp have big problems in trying to get anywhere near the target. Movement in mean (during run) is very similar."
   ]
  },
  {
   "cell_type": "code",
   "execution_count": 59,
   "metadata": {},
   "outputs": [],
   "source": [
    "def get_data(rundir):\n",
    "    \"\"\"Take directory with run results and return a Pandas DataFrame with the relevant hparams plus metrics.\n",
    "    Returns:\n",
    "    * frame: a pandas dataframe with config hparams and metrics\n",
    "    * data: a list of dicts with data collected during runs\"\"\"\n",
    "    cfgs = []\n",
    "    rundata = []\n",
    "    metrics = []\n",
    "    sweep_metaconfigs = []\n",
    "    base_metaconfigs = []\n",
    "    for logdir in os.listdir(rundir):\n",
    "        if os.path.isdir(os.path.join(rundir, logdir)):\n",
    "            configfile, datafile, metricfile = [rundir + logdir + f for f in [\"/config.json\", \"/rundata.json\", \"/metrics.json\"]]\n",
    "            with open(configfile, \"r\") as f:\n",
    "                cfgs.append(json.load(f))\n",
    "            try:\n",
    "                with open(datafile, \"r\") as f:\n",
    "                    rundata.append(json.load(f))\n",
    "                with open(metricfile, \"r\") as f:\n",
    "                    metrics.append(json.load(f))\n",
    "            except FileNotFoundError:\n",
    "                warnings.warn(f\"No config / data files in {logdir}.\")\n",
    "        else:\n",
    "            with open(rundir + logdir, \"r\") as f:\n",
    "                base, sweep_config = json.load(f)\n",
    "                sweep_metaconfigs.append(sweep_config)\n",
    "                base_metaconfigs.append(base)\n",
    "     \n",
    "    # process data\n",
    "    cfgs_flat = [utils.flatten_dict(c) for c in cfgs]\n",
    "    for c in cfgs_flat:\n",
    "        if len(c[\"optimizer_svgd_args\"]) == 1:\n",
    "            c[\"optimizer_svgd_args\"] = onp.squeeze(c[\"optimizer_svgd_args\"])\n",
    "        if len(c[\"optimizer_ksd_args\"]) == 1:\n",
    "            c[\"optimizer_ksd_args\"] = onp.squeeze(c[\"optimizer_ksd_args\"])\n",
    "    \n",
    "    \n",
    "    configs_df = pd.DataFrame(cfgs_flat)\n",
    "    configs_df.rename(columns={\"optimizer_svgd_args\": \"lr svgd\", \"optimizer_ksd_args\": \"lr ksd\"}, inplace=True)\n",
    "    \n",
    "    metrics_df = pd.DataFrame(metrics)\n",
    "    all_df = pd.concat([metrics_df, configs_df], axis=1)\n",
    "    all_df[\"layers\"] = all_df.layers.astype('str').astype('category')\n",
    "    all_df[\"architecture\"] = all_df.architecture.astype('str').astype('category')\n",
    "    \n",
    "    if all_df.isnull().values.any():\n",
    "        rows_with_nans = all_df.shape[0] - all_df.dropna().shape[0]\n",
    "        warnings.warn(f\"Detected NaNs in dataframe. {rows_with_nans} / {all_df.shape[0]} rows include at least one NaN or inf. Dropping all rows with nonfinite values.\")\n",
    "        all_df = all_df.dropna()\n",
    "\n",
    "    return all_df, rundata, cfgs, sweep_metaconfigs, base_metaconfigs"
   ]
  },
  {
   "cell_type": "code",
   "execution_count": 60,
   "metadata": {},
   "outputs": [],
   "source": [
    "# rundir = \"../runs/four-dim/\"\n",
    "rundir = basedir + \"runs/two-dim/\"\n",
    "frame, rundata, configs, sweep_metaconfigs, base_metaconfigs = get_data(rundir)\n",
    "relevant = [\"ksd\", \"emd\", \"sinkhorn_divergence\"] + [\"lr ksd\", \"svgd_steps\", \"architecture\", \"layers\", \"ksd_steps\", \"optimizer_ksd\"]\n",
    "f = frame[relevant]\n",
    "# f"
   ]
  },
  {
   "cell_type": "code",
   "execution_count": 61,
   "metadata": {},
   "outputs": [
    {
     "data": {
      "text/html": [
       "<div>\n",
       "<style scoped>\n",
       "    .dataframe tbody tr th:only-of-type {\n",
       "        vertical-align: middle;\n",
       "    }\n",
       "\n",
       "    .dataframe tbody tr th {\n",
       "        vertical-align: top;\n",
       "    }\n",
       "\n",
       "    .dataframe thead th {\n",
       "        text-align: right;\n",
       "    }\n",
       "</style>\n",
       "<table border=\"1\" class=\"dataframe\">\n",
       "  <thead>\n",
       "    <tr style=\"text-align: right;\">\n",
       "      <th></th>\n",
       "      <th>ksd</th>\n",
       "      <th>emd</th>\n",
       "      <th>sinkhorn_divergence</th>\n",
       "      <th>lr ksd</th>\n",
       "      <th>svgd_steps</th>\n",
       "      <th>architecture</th>\n",
       "      <th>layers</th>\n",
       "      <th>ksd_steps</th>\n",
       "      <th>optimizer_ksd</th>\n",
       "    </tr>\n",
       "  </thead>\n",
       "  <tbody>\n",
       "    <tr>\n",
       "      <th>0</th>\n",
       "      <td>72.388889</td>\n",
       "      <td>16.790721</td>\n",
       "      <td>0.000000</td>\n",
       "      <td>0.15848931924611134</td>\n",
       "      <td>1</td>\n",
       "      <td>MLP</td>\n",
       "      <td>[32, 32, 32, 2]</td>\n",
       "      <td>1</td>\n",
       "      <td>Adam</td>\n",
       "    </tr>\n",
       "    <tr>\n",
       "      <th>1</th>\n",
       "      <td>NaN</td>\n",
       "      <td>NaN</td>\n",
       "      <td>NaN</td>\n",
       "      <td>2.5118864315095797</td>\n",
       "      <td>1</td>\n",
       "      <td>Vanilla</td>\n",
       "      <td>[]</td>\n",
       "      <td>1</td>\n",
       "      <td>SGD</td>\n",
       "    </tr>\n",
       "    <tr>\n",
       "      <th>2</th>\n",
       "      <td>NaN</td>\n",
       "      <td>NaN</td>\n",
       "      <td>NaN</td>\n",
       "      <td>0.630957344480193</td>\n",
       "      <td>1</td>\n",
       "      <td>Vanilla</td>\n",
       "      <td>[]</td>\n",
       "      <td>1</td>\n",
       "      <td>SGD</td>\n",
       "    </tr>\n",
       "    <tr>\n",
       "      <th>3</th>\n",
       "      <td>253.871843</td>\n",
       "      <td>6.666597</td>\n",
       "      <td>44.648195</td>\n",
       "      <td>0.630957344480193</td>\n",
       "      <td>1</td>\n",
       "      <td>Vanilla</td>\n",
       "      <td>[]</td>\n",
       "      <td>1</td>\n",
       "      <td>Adam</td>\n",
       "    </tr>\n",
       "    <tr>\n",
       "      <th>4</th>\n",
       "      <td>NaN</td>\n",
       "      <td>NaN</td>\n",
       "      <td>NaN</td>\n",
       "      <td>10.0</td>\n",
       "      <td>1</td>\n",
       "      <td>Vanilla</td>\n",
       "      <td>[]</td>\n",
       "      <td>1</td>\n",
       "      <td>SGD</td>\n",
       "    </tr>\n",
       "    <tr>\n",
       "      <th>5</th>\n",
       "      <td>0.759041</td>\n",
       "      <td>4.923367</td>\n",
       "      <td>24.238921</td>\n",
       "      <td>0.01</td>\n",
       "      <td>1</td>\n",
       "      <td>Vanilla</td>\n",
       "      <td>[]</td>\n",
       "      <td>1</td>\n",
       "      <td>Adam</td>\n",
       "    </tr>\n",
       "    <tr>\n",
       "      <th>6</th>\n",
       "      <td>357.120521</td>\n",
       "      <td>17.923070</td>\n",
       "      <td>321.281417</td>\n",
       "      <td>2.5118864315095797</td>\n",
       "      <td>1</td>\n",
       "      <td>MLP</td>\n",
       "      <td>[32, 32, 32, 2]</td>\n",
       "      <td>1</td>\n",
       "      <td>Adam</td>\n",
       "    </tr>\n",
       "    <tr>\n",
       "      <th>7</th>\n",
       "      <td>NaN</td>\n",
       "      <td>NaN</td>\n",
       "      <td>NaN</td>\n",
       "      <td>2.5118864315095797</td>\n",
       "      <td>1</td>\n",
       "      <td>Vanilla</td>\n",
       "      <td>[]</td>\n",
       "      <td>1</td>\n",
       "      <td>Adam</td>\n",
       "    </tr>\n",
       "    <tr>\n",
       "      <th>8</th>\n",
       "      <td>NaN</td>\n",
       "      <td>NaN</td>\n",
       "      <td>NaN</td>\n",
       "      <td>0.01</td>\n",
       "      <td>1</td>\n",
       "      <td>Vanilla</td>\n",
       "      <td>[]</td>\n",
       "      <td>1</td>\n",
       "      <td>SGD</td>\n",
       "    </tr>\n",
       "    <tr>\n",
       "      <th>9</th>\n",
       "      <td>3.975875</td>\n",
       "      <td>9.017076</td>\n",
       "      <td>81.309788</td>\n",
       "      <td>0.039810717055349734</td>\n",
       "      <td>1</td>\n",
       "      <td>MLP</td>\n",
       "      <td>[32, 32, 32, 2]</td>\n",
       "      <td>1</td>\n",
       "      <td>Adam</td>\n",
       "    </tr>\n",
       "    <tr>\n",
       "      <th>10</th>\n",
       "      <td>NaN</td>\n",
       "      <td>NaN</td>\n",
       "      <td>NaN</td>\n",
       "      <td>0.630957344480193</td>\n",
       "      <td>1</td>\n",
       "      <td>MLP</td>\n",
       "      <td>[32, 32, 32, 2]</td>\n",
       "      <td>1</td>\n",
       "      <td>SGD</td>\n",
       "    </tr>\n",
       "    <tr>\n",
       "      <th>11</th>\n",
       "      <td>NaN</td>\n",
       "      <td>NaN</td>\n",
       "      <td>NaN</td>\n",
       "      <td>0.15848931924611134</td>\n",
       "      <td>1</td>\n",
       "      <td>MLP</td>\n",
       "      <td>[32, 32, 32, 2]</td>\n",
       "      <td>1</td>\n",
       "      <td>SGD</td>\n",
       "    </tr>\n",
       "    <tr>\n",
       "      <th>12</th>\n",
       "      <td>0.333450</td>\n",
       "      <td>3.588384</td>\n",
       "      <td>12.873622</td>\n",
       "      <td>0.039810717055349734</td>\n",
       "      <td>1</td>\n",
       "      <td>Vanilla</td>\n",
       "      <td>[]</td>\n",
       "      <td>1</td>\n",
       "      <td>Adam</td>\n",
       "    </tr>\n",
       "    <tr>\n",
       "      <th>13</th>\n",
       "      <td>NaN</td>\n",
       "      <td>NaN</td>\n",
       "      <td>NaN</td>\n",
       "      <td>0.039810717055349734</td>\n",
       "      <td>1</td>\n",
       "      <td>Vanilla</td>\n",
       "      <td>[]</td>\n",
       "      <td>1</td>\n",
       "      <td>SGD</td>\n",
       "    </tr>\n",
       "    <tr>\n",
       "      <th>14</th>\n",
       "      <td>NaN</td>\n",
       "      <td>NaN</td>\n",
       "      <td>NaN</td>\n",
       "      <td>10.0</td>\n",
       "      <td>1</td>\n",
       "      <td>MLP</td>\n",
       "      <td>[32, 32, 32, 2]</td>\n",
       "      <td>1</td>\n",
       "      <td>SGD</td>\n",
       "    </tr>\n",
       "    <tr>\n",
       "      <th>15</th>\n",
       "      <td>NaN</td>\n",
       "      <td>NaN</td>\n",
       "      <td>NaN</td>\n",
       "      <td>0.01</td>\n",
       "      <td>1</td>\n",
       "      <td>MLP</td>\n",
       "      <td>[32, 32, 32, 2]</td>\n",
       "      <td>1</td>\n",
       "      <td>SGD</td>\n",
       "    </tr>\n",
       "    <tr>\n",
       "      <th>16</th>\n",
       "      <td>NaN</td>\n",
       "      <td>NaN</td>\n",
       "      <td>NaN</td>\n",
       "      <td>0.15848931924611134</td>\n",
       "      <td>1</td>\n",
       "      <td>Vanilla</td>\n",
       "      <td>[]</td>\n",
       "      <td>1</td>\n",
       "      <td>SGD</td>\n",
       "    </tr>\n",
       "    <tr>\n",
       "      <th>17</th>\n",
       "      <td>281.485336</td>\n",
       "      <td>6.592248</td>\n",
       "      <td>43.724274</td>\n",
       "      <td>0.15848931924611134</td>\n",
       "      <td>1</td>\n",
       "      <td>Vanilla</td>\n",
       "      <td>[]</td>\n",
       "      <td>1</td>\n",
       "      <td>Adam</td>\n",
       "    </tr>\n",
       "    <tr>\n",
       "      <th>18</th>\n",
       "      <td>NaN</td>\n",
       "      <td>NaN</td>\n",
       "      <td>NaN</td>\n",
       "      <td>10.0</td>\n",
       "      <td>1</td>\n",
       "      <td>Vanilla</td>\n",
       "      <td>[]</td>\n",
       "      <td>1</td>\n",
       "      <td>Adam</td>\n",
       "    </tr>\n",
       "    <tr>\n",
       "      <th>19</th>\n",
       "      <td>91.462087</td>\n",
       "      <td>17.566489</td>\n",
       "      <td>0.000000</td>\n",
       "      <td>0.630957344480193</td>\n",
       "      <td>1</td>\n",
       "      <td>MLP</td>\n",
       "      <td>[32, 32, 32, 2]</td>\n",
       "      <td>1</td>\n",
       "      <td>Adam</td>\n",
       "    </tr>\n",
       "    <tr>\n",
       "      <th>20</th>\n",
       "      <td>NaN</td>\n",
       "      <td>NaN</td>\n",
       "      <td>NaN</td>\n",
       "      <td>2.5118864315095797</td>\n",
       "      <td>1</td>\n",
       "      <td>MLP</td>\n",
       "      <td>[32, 32, 32, 2]</td>\n",
       "      <td>1</td>\n",
       "      <td>SGD</td>\n",
       "    </tr>\n",
       "    <tr>\n",
       "      <th>21</th>\n",
       "      <td>479.442797</td>\n",
       "      <td>17.782888</td>\n",
       "      <td>316.269242</td>\n",
       "      <td>10.0</td>\n",
       "      <td>1</td>\n",
       "      <td>MLP</td>\n",
       "      <td>[32, 32, 32, 2]</td>\n",
       "      <td>1</td>\n",
       "      <td>Adam</td>\n",
       "    </tr>\n",
       "    <tr>\n",
       "      <th>22</th>\n",
       "      <td>NaN</td>\n",
       "      <td>NaN</td>\n",
       "      <td>NaN</td>\n",
       "      <td>0.039810717055349734</td>\n",
       "      <td>1</td>\n",
       "      <td>MLP</td>\n",
       "      <td>[32, 32, 32, 2]</td>\n",
       "      <td>1</td>\n",
       "      <td>SGD</td>\n",
       "    </tr>\n",
       "    <tr>\n",
       "      <th>23</th>\n",
       "      <td>0.270113</td>\n",
       "      <td>1.266446</td>\n",
       "      <td>1.593186</td>\n",
       "      <td>0.01</td>\n",
       "      <td>1</td>\n",
       "      <td>MLP</td>\n",
       "      <td>[32, 32, 32, 2]</td>\n",
       "      <td>1</td>\n",
       "      <td>Adam</td>\n",
       "    </tr>\n",
       "  </tbody>\n",
       "</table>\n",
       "</div>"
      ],
      "text/plain": [
       "           ksd        emd  sinkhorn_divergence                lr ksd  \\\n",
       "0    72.388889  16.790721             0.000000   0.15848931924611134   \n",
       "1          NaN        NaN                  NaN    2.5118864315095797   \n",
       "2          NaN        NaN                  NaN     0.630957344480193   \n",
       "3   253.871843   6.666597            44.648195     0.630957344480193   \n",
       "4          NaN        NaN                  NaN                  10.0   \n",
       "5     0.759041   4.923367            24.238921                  0.01   \n",
       "6   357.120521  17.923070           321.281417    2.5118864315095797   \n",
       "7          NaN        NaN                  NaN    2.5118864315095797   \n",
       "8          NaN        NaN                  NaN                  0.01   \n",
       "9     3.975875   9.017076            81.309788  0.039810717055349734   \n",
       "10         NaN        NaN                  NaN     0.630957344480193   \n",
       "11         NaN        NaN                  NaN   0.15848931924611134   \n",
       "12    0.333450   3.588384            12.873622  0.039810717055349734   \n",
       "13         NaN        NaN                  NaN  0.039810717055349734   \n",
       "14         NaN        NaN                  NaN                  10.0   \n",
       "15         NaN        NaN                  NaN                  0.01   \n",
       "16         NaN        NaN                  NaN   0.15848931924611134   \n",
       "17  281.485336   6.592248            43.724274   0.15848931924611134   \n",
       "18         NaN        NaN                  NaN                  10.0   \n",
       "19   91.462087  17.566489             0.000000     0.630957344480193   \n",
       "20         NaN        NaN                  NaN    2.5118864315095797   \n",
       "21  479.442797  17.782888           316.269242                  10.0   \n",
       "22         NaN        NaN                  NaN  0.039810717055349734   \n",
       "23    0.270113   1.266446             1.593186                  0.01   \n",
       "\n",
       "    svgd_steps architecture           layers  ksd_steps optimizer_ksd  \n",
       "0            1          MLP  [32, 32, 32, 2]          1          Adam  \n",
       "1            1      Vanilla               []          1           SGD  \n",
       "2            1      Vanilla               []          1           SGD  \n",
       "3            1      Vanilla               []          1          Adam  \n",
       "4            1      Vanilla               []          1           SGD  \n",
       "5            1      Vanilla               []          1          Adam  \n",
       "6            1          MLP  [32, 32, 32, 2]          1          Adam  \n",
       "7            1      Vanilla               []          1          Adam  \n",
       "8            1      Vanilla               []          1           SGD  \n",
       "9            1          MLP  [32, 32, 32, 2]          1          Adam  \n",
       "10           1          MLP  [32, 32, 32, 2]          1           SGD  \n",
       "11           1          MLP  [32, 32, 32, 2]          1           SGD  \n",
       "12           1      Vanilla               []          1          Adam  \n",
       "13           1      Vanilla               []          1           SGD  \n",
       "14           1          MLP  [32, 32, 32, 2]          1           SGD  \n",
       "15           1          MLP  [32, 32, 32, 2]          1           SGD  \n",
       "16           1      Vanilla               []          1           SGD  \n",
       "17           1      Vanilla               []          1          Adam  \n",
       "18           1      Vanilla               []          1          Adam  \n",
       "19           1          MLP  [32, 32, 32, 2]          1          Adam  \n",
       "20           1          MLP  [32, 32, 32, 2]          1           SGD  \n",
       "21           1          MLP  [32, 32, 32, 2]          1          Adam  \n",
       "22           1          MLP  [32, 32, 32, 2]          1           SGD  \n",
       "23           1          MLP  [32, 32, 32, 2]          1          Adam  "
      ]
     },
     "execution_count": 61,
     "metadata": {},
     "output_type": "execute_result"
    }
   ],
   "source": [
    "f"
   ]
  },
  {
   "cell_type": "markdown",
   "metadata": {},
   "source": [
    "# Hyperparameter comparison"
   ]
  },
  {
   "cell_type": "code",
   "execution_count": 8,
   "metadata": {},
   "outputs": [
    {
     "data": {
      "text/plain": [
       "<matplotlib.collections.PathCollection at 0x7f7e483dec70>"
      ]
     },
     "execution_count": 8,
     "metadata": {},
     "output_type": "execute_result"
    },
    {
     "data": {
      "image/png": "[encoded data removed]",
      "text/plain": [
       "<Figure size 432x288 with 1 Axes>"
      ]
     },
     "metadata": {
      "needs_background": "light"
     },
     "output_type": "display_data"
    }
   ],
   "source": [
    "plt.scatter(f.architecture, f.emd)"
   ]
  },
  {
   "cell_type": "markdown",
   "metadata": {},
   "source": [
    "# Rundata"
   ]
  },
  {
   "cell_type": "code",
   "execution_count": 12,
   "metadata": {},
   "outputs": [
    {
     "data": {
      "text/plain": [
       "[[array([5.48813504, 7.15189366]),\n",
       "  array([[0.66022137, 0.60730044],\n",
       "         [0.60730044, 0.59666259]])]]"
      ]
     },
     "execution_count": 12,
     "metadata": {},
     "output_type": "execute_result"
    }
   ],
   "source": [
    "sweep_metaconfigs[0][\"svgd\"][\"target_args\"]"
   ]
  },
  {
   "cell_type": "code",
   "execution_count": 9,
   "metadata": {},
   "outputs": [
    {
     "data": {
      "text/plain": [
       "odict_keys(['Interrupted because of NaN', 'ksd_after_kernel_update', 'ksd_after_svgd_update', 'mean', 'particles', 'square_errors', 'var'])"
      ]
     },
     "execution_count": 9,
     "metadata": {},
     "output_type": "execute_result"
    }
   ],
   "source": [
    "rundata[0].keys()"
   ]
  },
  {
   "cell_type": "code",
   "execution_count": 54,
   "metadata": {},
   "outputs": [],
   "source": [
    "ind = 23"
   ]
  },
  {
   "cell_type": "code",
   "execution_count": 55,
   "metadata": {},
   "outputs": [
    {
     "data": {
      "image/png": "[encoded data removed]",
      "text/plain": [
       "<Figure size 432x288 with 1 Axes>"
      ]
     },
     "metadata": {
      "needs_background": "light"
     },
     "output_type": "display_data"
    }
   ],
   "source": [
    "colorcycle = plt.rcParams['axes.prop_cycle'].by_key()['color']\n",
    "\n",
    "\n",
    "mean = onp.array(rundata[ind][\"mean\"])\n",
    "tru_mean = configs[ind][\"svgd\"][\"target_args\"][0]\n",
    "\n",
    "_ = plt.plot(mean)\n",
    "_ = plt.hlines(tru_mean, 0, 200, colors=colorcycle)"
   ]
  },
  {
   "cell_type": "code",
   "execution_count": 56,
   "metadata": {},
   "outputs": [
    {
     "data": {
      "image/png": "[encoded data removed]",
      "text/plain": [
       "<Figure size 432x288 with 1 Axes>"
      ]
     },
     "metadata": {
      "needs_background": "light"
     },
     "output_type": "display_data"
    }
   ],
   "source": [
    "var = onp.array(rundata[ind][\"var\"])\n",
    "tru_var = onp.diag(configs[ind][\"svgd\"][\"target_args\"][1])\n",
    "_ = plt.plot(var)\n",
    "_ = plt.hlines(tru_var, 0, 200, colors=colorcycle)"
   ]
  },
  {
   "cell_type": "markdown",
   "metadata": {},
   "source": [
    "### KSD"
   ]
  },
  {
   "cell_type": "code",
   "execution_count": null,
   "metadata": {},
   "outputs": [],
   "source": [
    "n_iter = "
   ]
  },
  {
   "cell_type": "code",
   "execution_count": 26,
   "metadata": {},
   "outputs": [
    {
     "data": {
      "text/plain": [
       "odict_keys(['Interrupted because of NaN', 'ksd_after_kernel_update', 'ksd_after_svgd_update', 'mean', 'square_errors', 'var'])"
      ]
     },
     "execution_count": 26,
     "metadata": {},
     "output_type": "execute_result"
    }
   ],
   "source": [
    "rundata[ind].keys()"
   ]
  },
  {
   "cell_type": "code",
   "execution_count": 52,
   "metadata": {},
   "outputs": [],
   "source": [
    "ind = 23"
   ]
  },
  {
   "cell_type": "code",
   "execution_count": 53,
   "metadata": {},
   "outputs": [
    {
     "data": {
      "image/png": "[encoded data removed]",
      "text/plain": [
       "<Figure size 864x432 with 1 Axes>"
      ]
     },
     "metadata": {
      "needs_background": "light"
     },
     "output_type": "display_data"
    }
   ],
   "source": [
    "fig, ax = plt.subplots(figsize=[12, 6])\n",
    "idx = onp.arange(len(onp.array(rundata[ind][\"ksd_after_kernel_update\"])))\n",
    "ax.plot(idx,       onp.array(rundata[ind][\"ksd_after_kernel_update\"]), \"o\", label=\"KSD after kernel update\")\n",
    "ax.plot(idx + 0.5, onp.array(rundata[ind][\"ksd_after_svgd_update\"]), \"o\", label=\"KSD after svgd update\")\n",
    "ax.legend()\n",
    "ax.set_yscale(\"log\")"
   ]
  },
  {
   "cell_type": "code",
   "execution_count": 43,
   "metadata": {},
   "outputs": [
    {
     "data": {
      "text/html": [
       "<div>\n",
       "<style scoped>\n",
       "    .dataframe tbody tr th:only-of-type {\n",
       "        vertical-align: middle;\n",
       "    }\n",
       "\n",
       "    .dataframe tbody tr th {\n",
       "        vertical-align: top;\n",
       "    }\n",
       "\n",
       "    .dataframe thead th {\n",
       "        text-align: right;\n",
       "    }\n",
       "</style>\n",
       "<table border=\"1\" class=\"dataframe\">\n",
       "  <thead>\n",
       "    <tr style=\"text-align: right;\">\n",
       "      <th></th>\n",
       "      <th>ksd</th>\n",
       "      <th>emd</th>\n",
       "      <th>sinkhorn_divergence</th>\n",
       "      <th>lr ksd</th>\n",
       "      <th>svgd_steps</th>\n",
       "      <th>architecture</th>\n",
       "      <th>layers</th>\n",
       "      <th>ksd_steps</th>\n",
       "    </tr>\n",
       "  </thead>\n",
       "  <tbody>\n",
       "    <tr>\n",
       "      <th>0</th>\n",
       "      <td>274.063647</td>\n",
       "      <td>17.590226</td>\n",
       "      <td>309.433619</td>\n",
       "      <td>0.1</td>\n",
       "      <td>1</td>\n",
       "      <td>MLP</td>\n",
       "      <td>[32, 32, 32, 2]</td>\n",
       "      <td>1</td>\n",
       "    </tr>\n",
       "    <tr>\n",
       "      <th>1</th>\n",
       "      <td>233.723850</td>\n",
       "      <td>17.454214</td>\n",
       "      <td>304.662151</td>\n",
       "      <td>0.001</td>\n",
       "      <td>1</td>\n",
       "      <td>Vanilla</td>\n",
       "      <td>[32, 32, 32, 2]</td>\n",
       "      <td>1</td>\n",
       "    </tr>\n",
       "    <tr>\n",
       "      <th>2</th>\n",
       "      <td>269.938762</td>\n",
       "      <td>17.675720</td>\n",
       "      <td>312.465914</td>\n",
       "      <td>0.01</td>\n",
       "      <td>1</td>\n",
       "      <td>MLP</td>\n",
       "      <td>[32, 32, 32, 2]</td>\n",
       "      <td>1</td>\n",
       "    </tr>\n",
       "    <tr>\n",
       "      <th>3</th>\n",
       "      <td>231.515452</td>\n",
       "      <td>17.523217</td>\n",
       "      <td>307.072716</td>\n",
       "      <td>0.1</td>\n",
       "      <td>1</td>\n",
       "      <td>Vanilla</td>\n",
       "      <td>[32, 32, 32, 2]</td>\n",
       "      <td>1</td>\n",
       "    </tr>\n",
       "    <tr>\n",
       "      <th>4</th>\n",
       "      <td>233.494401</td>\n",
       "      <td>17.556293</td>\n",
       "      <td>308.240974</td>\n",
       "      <td>0.01</td>\n",
       "      <td>1</td>\n",
       "      <td>Vanilla</td>\n",
       "      <td>[32, 32, 32, 2]</td>\n",
       "      <td>1</td>\n",
       "    </tr>\n",
       "    <tr>\n",
       "      <th>5</th>\n",
       "      <td>225.633447</td>\n",
       "      <td>17.488249</td>\n",
       "      <td>305.855826</td>\n",
       "      <td>0.001</td>\n",
       "      <td>1</td>\n",
       "      <td>MLP</td>\n",
       "      <td>[32, 32, 32, 2]</td>\n",
       "      <td>1</td>\n",
       "    </tr>\n",
       "  </tbody>\n",
       "</table>\n",
       "</div>"
      ],
      "text/plain": [
       "          ksd        emd  sinkhorn_divergence lr ksd  svgd_steps architecture  \\\n",
       "0  274.063647  17.590226           309.433619    0.1           1          MLP   \n",
       "1  233.723850  17.454214           304.662151  0.001           1      Vanilla   \n",
       "2  269.938762  17.675720           312.465914   0.01           1          MLP   \n",
       "3  231.515452  17.523217           307.072716    0.1           1      Vanilla   \n",
       "4  233.494401  17.556293           308.240974   0.01           1      Vanilla   \n",
       "5  225.633447  17.488249           305.855826  0.001           1          MLP   \n",
       "\n",
       "            layers  ksd_steps  \n",
       "0  [32, 32, 32, 2]          1  \n",
       "1  [32, 32, 32, 2]          1  \n",
       "2  [32, 32, 32, 2]          1  \n",
       "3  [32, 32, 32, 2]          1  \n",
       "4  [32, 32, 32, 2]          1  \n",
       "5  [32, 32, 32, 2]          1  "
      ]
     },
     "execution_count": 43,
     "metadata": {},
     "output_type": "execute_result"
    }
   ],
   "source": [
    "f"
   ]
  },
  {
   "cell_type": "code",
   "execution_count": null,
   "metadata": {},
   "outputs": [],
   "source": []
  }
 ],
 "metadata": {
  "kernelspec": {
   "display_name": "msc-thesis",
   "language": "python",
   "name": "msc-thesis"
  },
  "language_info": {
   "codemirror_mode": {
    "name": "ipython",
    "version": 3
   },
   "file_extension": ".py",
   "mimetype": "text/x-python",
   "name": "python",
   "nbconvert_exporter": "python",
   "pygments_lexer": "ipython3",
   "version": "3.8.2"
  }
 },
 "nbformat": 4,
 "nbformat_minor": 4
}
