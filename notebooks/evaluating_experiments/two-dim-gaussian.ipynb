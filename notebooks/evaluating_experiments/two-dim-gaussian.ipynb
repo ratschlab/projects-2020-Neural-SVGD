{
 "cells": [
  {
   "cell_type": "code",
   "execution_count": 1,
   "metadata": {},
   "outputs": [
    {
     "name": "stderr",
     "output_type": "stream",
     "text": [
      "/home/lauro/.virtualenvs/msc-thesis/lib/python3.8/site-packages/jax/lib/xla_bridge.py:125: UserWarning: No GPU/TPU found, falling back to CPU.\n",
      "  warnings.warn('No GPU/TPU found, falling back to CPU.')\n"
     ]
    }
   ],
   "source": [
    "import sys\n",
    "import os\n",
    "sys.path.append(\"/home/lauro/code/msc-thesis/svgd\")\n",
    "import json_tricks as json\n",
    "import warnings\n",
    "\n",
    "import matplotlib as mpl\n",
    "\n",
    "import jax.numpy as np\n",
    "from jax import grad, jit, vmap, random, lax, jacfwd\n",
    "from jax import lax\n",
    "from jax.ops import index_update, index\n",
    "import matplotlib.pyplot as plt\n",
    "import numpy as onp\n",
    "import jax\n",
    "import pandas as pd\n",
    "import haiku as hk\n",
    "\n",
    "import config\n",
    "\n",
    "import utils\n",
    "import metrics\n",
    "import time\n",
    "import plot\n",
    "import svgd\n",
    "import stein\n",
    "import train\n",
    "import kernels\n",
    "from svgd import SVGD\n",
    "\n",
    "from jax.experimental import optimizers\n",
    "\n",
    "rkey = random.PRNGKey(0)\n",
    "basedir = \"/home/lauro/code/msc-thesis/svgd/\""
   ]
  },
  {
   "cell_type": "markdown",
   "metadata": {},
   "source": [
    "## Summary\n",
    "both vanilla and mlp have big problems in trying to get anywhere near the target. Movement in mean (during run) is very similar."
   ]
  },
  {
   "cell_type": "code",
   "execution_count": 2,
   "metadata": {},
   "outputs": [],
   "source": [
    "def get_data(rundir):\n",
    "    \"\"\"Take directory with run results and return a Pandas DataFrame with the relevant hparams plus metrics.\n",
    "    Returns:\n",
    "    * frame: a pandas dataframe with config hparams and metrics\n",
    "    * data: a list of dicts with data collected during runs\"\"\"\n",
    "    cfgs = []\n",
    "    rundata = []\n",
    "    metrics = []\n",
    "    sweep_metaconfigs = []\n",
    "    base_metaconfigs = []\n",
    "    for logdir in os.listdir(rundir):\n",
    "        if os.path.isdir(os.path.join(rundir, logdir)):\n",
    "            configfile, datafile, metricfile = [rundir + logdir + f for f in [\"/config.json\", \"/rundata.json\", \"/metrics.json\"]]\n",
    "            with open(configfile, \"r\") as f:\n",
    "                cfgs.append(json.load(f))\n",
    "            try:\n",
    "                with open(datafile, \"r\") as f:\n",
    "                    rundata.append(json.load(f))\n",
    "                with open(metricfile, \"r\") as f:\n",
    "                    metrics.append(json.load(f))\n",
    "            except FileNotFoundError:\n",
    "                warnings.warn(f\"No config / data files in {logdir}.\")\n",
    "        else:\n",
    "            with open(rundir + logdir, \"r\") as f:\n",
    "                base, sweep_config = json.load(f)\n",
    "                sweep_metaconfigs.append(sweep_config)\n",
    "                base_metaconfigs.append(base)\n",
    "     \n",
    "    # process data\n",
    "    cfgs_flat = [utils.flatten_dict(c) for c in cfgs]\n",
    "    for c in cfgs_flat:\n",
    "        if len(c[\"optimizer_svgd_args\"]) == 1:\n",
    "            c[\"optimizer_svgd_args\"] = onp.squeeze(c[\"optimizer_svgd_args\"])\n",
    "        if len(c[\"optimizer_ksd_args\"]) == 1:\n",
    "            c[\"optimizer_ksd_args\"] = onp.squeeze(c[\"optimizer_ksd_args\"])\n",
    "    \n",
    "    \n",
    "    configs_df = pd.DataFrame(cfgs_flat)\n",
    "    configs_df.rename(columns={\"optimizer_svgd_args\": \"lr svgd\", \"optimizer_ksd_args\": \"lr ksd\"}, inplace=True)\n",
    "    \n",
    "    metrics_df = pd.DataFrame(metrics)\n",
    "    all_df = pd.concat([metrics_df, configs_df], axis=1)\n",
    "    all_df[\"layers\"] = all_df.layers.astype('str').astype('category')\n",
    "    all_df[\"architecture\"] = all_df.architecture.astype('str').astype('category')\n",
    "    \n",
    "    if all_df.isnull().values.any():\n",
    "        rows_with_nans = all_df.shape[0] - all_df.dropna().shape[0]\n",
    "        warnings.warn(f\"Detected NaNs in dataframe. {rows_with_nans} / {all_df.shape[0]} rows include at least one NaN or inf. Dropping all rows with nonfinite values.\")\n",
    "        all_df = all_df.dropna()\n",
    "\n",
    "    return all_df, rundata, cfgs, sweep_metaconfigs, base_metaconfigs"
   ]
  },
  {
   "cell_type": "code",
   "execution_count": 4,
   "metadata": {},
   "outputs": [
    {
     "name": "stdout",
     "output_type": "stream",
     "text": [
      "\u001b[0m\u001b[01;34mdimension-sweep\u001b[0m/  \u001b[01;34mten-dim\u001b[0m/  \u001b[01;34mtest-eval\u001b[0m/     \u001b[01;34mthree-dim\u001b[0m/  \u001b[01;34mtwo-dim-float32\u001b[0m/\n",
      "\u001b[01;34mfour-dim\u001b[0m/         \u001b[01;34mtest\u001b[0m/     \u001b[01;34mtest-two-dim\u001b[0m/  \u001b[01;34mtwo-dim\u001b[0m/\n"
     ]
    }
   ],
   "source": [
    "ls ../../runs"
   ]
  },
  {
   "cell_type": "code",
   "execution_count": 5,
   "metadata": {},
   "outputs": [
    {
     "name": "stderr",
     "output_type": "stream",
     "text": [
      "<ipython-input-2-6adf68ab8e02>:22: UserWarning: No config / data files in 2020-07-22__22:18:59.\n",
      "  warnings.warn(f\"No config / data files in {logdir}.\")\n",
      "<ipython-input-2-6adf68ab8e02>:22: UserWarning: No config / data files in 2020-07-23__14:44:22.\n",
      "  warnings.warn(f\"No config / data files in {logdir}.\")\n",
      "<ipython-input-2-6adf68ab8e02>:48: UserWarning: Detected NaNs in dataframe. 5 / 12 rows include at least one NaN or inf. Dropping all rows with nonfinite values.\n",
      "  warnings.warn(f\"Detected NaNs in dataframe. {rows_with_nans} / {all_df.shape[0]} rows include at least one NaN or inf. Dropping all rows with nonfinite values.\")\n"
     ]
    }
   ],
   "source": [
    "# rundir = \"../runs/four-dim/\"\n",
    "rundir = basedir + \"runs/two-dim/\"\n",
    "frame, rundata, configs, sweep_metaconfigs, base_metaconfigs = get_data(rundir)\n",
    "relevant = [\"ksd\", \"emd\", \"sinkhorn_divergence\"] + [\"lr ksd\", \"svgd_steps\", \"architecture\", \"layers\", \"ksd_steps\", \"optimizer_ksd\"]\n",
    "f = frame[relevant]\n",
    "# f"
   ]
  },
  {
   "cell_type": "code",
   "execution_count": 6,
   "metadata": {},
   "outputs": [
    {
     "data": {
      "text/html": [
       "<div>\n",
       "<style scoped>\n",
       "    .dataframe tbody tr th:only-of-type {\n",
       "        vertical-align: middle;\n",
       "    }\n",
       "\n",
       "    .dataframe tbody tr th {\n",
       "        vertical-align: top;\n",
       "    }\n",
       "\n",
       "    .dataframe thead th {\n",
       "        text-align: right;\n",
       "    }\n",
       "</style>\n",
       "<table border=\"1\" class=\"dataframe\">\n",
       "  <thead>\n",
       "    <tr style=\"text-align: right;\">\n",
       "      <th></th>\n",
       "      <th>ksd</th>\n",
       "      <th>emd</th>\n",
       "      <th>sinkhorn_divergence</th>\n",
       "      <th>lr ksd</th>\n",
       "      <th>svgd_steps</th>\n",
       "      <th>architecture</th>\n",
       "      <th>layers</th>\n",
       "      <th>ksd_steps</th>\n",
       "      <th>optimizer_ksd</th>\n",
       "    </tr>\n",
       "  </thead>\n",
       "  <tbody>\n",
       "    <tr>\n",
       "      <th>1</th>\n",
       "      <td>0.055363</td>\n",
       "      <td>5.070397</td>\n",
       "      <td>25.678452</td>\n",
       "      <td>0.001</td>\n",
       "      <td>4</td>\n",
       "      <td>Vanilla</td>\n",
       "      <td>[]</td>\n",
       "      <td>50</td>\n",
       "      <td>Adam</td>\n",
       "    </tr>\n",
       "    <tr>\n",
       "      <th>2</th>\n",
       "      <td>0.763608</td>\n",
       "      <td>2.304187</td>\n",
       "      <td>5.081001</td>\n",
       "      <td>0.1778279410038923</td>\n",
       "      <td>4</td>\n",
       "      <td>Vanilla</td>\n",
       "      <td>[]</td>\n",
       "      <td>10</td>\n",
       "      <td>Adam</td>\n",
       "    </tr>\n",
       "    <tr>\n",
       "      <th>3</th>\n",
       "      <td>0.055770</td>\n",
       "      <td>5.083502</td>\n",
       "      <td>25.811416</td>\n",
       "      <td>0.001</td>\n",
       "      <td>4</td>\n",
       "      <td>Vanilla</td>\n",
       "      <td>[]</td>\n",
       "      <td>10</td>\n",
       "      <td>Adam</td>\n",
       "    </tr>\n",
       "    <tr>\n",
       "      <th>4</th>\n",
       "      <td>0.044834</td>\n",
       "      <td>4.885621</td>\n",
       "      <td>23.835862</td>\n",
       "      <td>0.1778279410038923</td>\n",
       "      <td>5</td>\n",
       "      <td>Vanilla</td>\n",
       "      <td>[]</td>\n",
       "      <td>10</td>\n",
       "      <td>Adam</td>\n",
       "    </tr>\n",
       "    <tr>\n",
       "      <th>5</th>\n",
       "      <td>0.046696</td>\n",
       "      <td>4.959700</td>\n",
       "      <td>24.564190</td>\n",
       "      <td>0.001</td>\n",
       "      <td>5</td>\n",
       "      <td>Vanilla</td>\n",
       "      <td>[]</td>\n",
       "      <td>10</td>\n",
       "      <td>Adam</td>\n",
       "    </tr>\n",
       "    <tr>\n",
       "      <th>7</th>\n",
       "      <td>0.609097</td>\n",
       "      <td>1.837626</td>\n",
       "      <td>3.405203</td>\n",
       "      <td>0.005623413251903491</td>\n",
       "      <td>5</td>\n",
       "      <td>Vanilla</td>\n",
       "      <td>[]</td>\n",
       "      <td>10</td>\n",
       "      <td>Adam</td>\n",
       "    </tr>\n",
       "    <tr>\n",
       "      <th>8</th>\n",
       "      <td>0.773521</td>\n",
       "      <td>2.139044</td>\n",
       "      <td>4.456628</td>\n",
       "      <td>1.0</td>\n",
       "      <td>5</td>\n",
       "      <td>Vanilla</td>\n",
       "      <td>[]</td>\n",
       "      <td>10</td>\n",
       "      <td>Adam</td>\n",
       "    </tr>\n",
       "  </tbody>\n",
       "</table>\n",
       "</div>"
      ],
      "text/plain": [
       "        ksd       emd  sinkhorn_divergence                lr ksd  svgd_steps  \\\n",
       "1  0.055363  5.070397            25.678452                 0.001           4   \n",
       "2  0.763608  2.304187             5.081001    0.1778279410038923           4   \n",
       "3  0.055770  5.083502            25.811416                 0.001           4   \n",
       "4  0.044834  4.885621            23.835862    0.1778279410038923           5   \n",
       "5  0.046696  4.959700            24.564190                 0.001           5   \n",
       "7  0.609097  1.837626             3.405203  0.005623413251903491           5   \n",
       "8  0.773521  2.139044             4.456628                   1.0           5   \n",
       "\n",
       "  architecture layers  ksd_steps optimizer_ksd  \n",
       "1      Vanilla     []         50          Adam  \n",
       "2      Vanilla     []         10          Adam  \n",
       "3      Vanilla     []         10          Adam  \n",
       "4      Vanilla     []         10          Adam  \n",
       "5      Vanilla     []         10          Adam  \n",
       "7      Vanilla     []         10          Adam  \n",
       "8      Vanilla     []         10          Adam  "
      ]
     },
     "execution_count": 6,
     "metadata": {},
     "output_type": "execute_result"
    }
   ],
   "source": [
    "f"
   ]
  },
  {
   "cell_type": "markdown",
   "metadata": {},
   "source": [
    "# Hyperparameter comparison"
   ]
  },
  {
   "cell_type": "code",
   "execution_count": 7,
   "metadata": {},
   "outputs": [
    {
     "data": {
      "text/plain": [
       "<matplotlib.collections.PathCollection at 0x7f3355f334f0>"
      ]
     },
     "execution_count": 7,
     "metadata": {},
     "output_type": "execute_result"
    },
    {
     "data": {
      "image/png": "[encoded data removed]",
      "text/plain": [
       "<Figure size 432x288 with 1 Axes>"
      ]
     },
     "metadata": {
      "needs_background": "light"
     },
     "output_type": "display_data"
    }
   ],
   "source": [
    "plt.scatter(f.architecture, f.emd)"
   ]
  },
  {
   "cell_type": "markdown",
   "metadata": {},
   "source": [
    "# Rundata"
   ]
  },
  {
   "cell_type": "code",
   "execution_count": 8,
   "metadata": {},
   "outputs": [
    {
     "data": {
      "text/plain": [
       "[[array([5.48813504, 7.15189366]),\n",
       "  array([[2.64088548, 2.42920175],\n",
       "         [2.42920175, 2.38665038]])]]"
      ]
     },
     "execution_count": 8,
     "metadata": {},
     "output_type": "execute_result"
    }
   ],
   "source": [
    "sweep_metaconfigs[0][\"svgd\"][\"target_args\"]"
   ]
  },
  {
   "cell_type": "code",
   "execution_count": 9,
   "metadata": {},
   "outputs": [
    {
     "data": {
      "text/plain": [
       "odict_keys(['Interrupted because of NaN', 'ksd_after_kernel_update', 'ksd_after_svgd_update', 'mean', 'particles', 'square_errors', 'var'])"
      ]
     },
     "execution_count": 9,
     "metadata": {},
     "output_type": "execute_result"
    }
   ],
   "source": [
    "rundata[0].keys()"
   ]
  },
  {
   "cell_type": "code",
   "execution_count": 11,
   "metadata": {},
   "outputs": [],
   "source": [
    "ind = 2"
   ]
  },
  {
   "cell_type": "code",
   "execution_count": 12,
   "metadata": {},
   "outputs": [
    {
     "data": {
      "image/png": "[encoded data removed]",
      "text/plain": [
       "<Figure size 432x288 with 1 Axes>"
      ]
     },
     "metadata": {
      "needs_background": "light"
     },
     "output_type": "display_data"
    }
   ],
   "source": [
    "colorcycle = plt.rcParams['axes.prop_cycle'].by_key()['color']\n",
    "\n",
    "\n",
    "mean = onp.array(rundata[ind][\"mean\"])\n",
    "tru_mean = configs[ind][\"svgd\"][\"target_args\"][0]\n",
    "\n",
    "_ = plt.plot(mean)\n",
    "_ = plt.hlines(tru_mean, 0, 200, colors=colorcycle)"
   ]
  },
  {
   "cell_type": "code",
   "execution_count": 13,
   "metadata": {},
   "outputs": [
    {
     "data": {
      "image/png": "[encoded data removed]",
      "text/plain": [
       "<Figure size 432x288 with 1 Axes>"
      ]
     },
     "metadata": {
      "needs_background": "light"
     },
     "output_type": "display_data"
    }
   ],
   "source": [
    "var = onp.array(rundata[ind][\"var\"])\n",
    "tru_var = onp.diag(configs[ind][\"svgd\"][\"target_args\"][1])\n",
    "_ = plt.plot(var)\n",
    "_ = plt.hlines(tru_var, 0, 200, colors=colorcycle)"
   ]
  },
  {
   "cell_type": "markdown",
   "metadata": {},
   "source": [
    "### KSD"
   ]
  },
  {
   "cell_type": "code",
   "execution_count": 19,
   "metadata": {},
   "outputs": [],
   "source": [
    "n_iter = 200"
   ]
  },
  {
   "cell_type": "code",
   "execution_count": 21,
   "metadata": {},
   "outputs": [],
   "source": [
    "ind = 2"
   ]
  },
  {
   "cell_type": "code",
   "execution_count": 28,
   "metadata": {},
   "outputs": [
    {
     "data": {
      "text/plain": [
       "emd                                                               5.0835\n",
       "ksd                                                            0.0557701\n",
       "se_mean                                                          10.8701\n",
       "se_var                                                           57.0981\n",
       "sinkhorn_divergence                                              25.8114\n",
       "architecture                                                     Vanilla\n",
       "layers                                                                []\n",
       "n_particles                                                          200\n",
       "optimizer_svgd                                                   Adagrad\n",
       "lr svgd                                                              1.0\n",
       "target                                                          Gaussian\n",
       "target_args            [[5.4881350392732475, 7.151893663724195], [[2....\n",
       "key                                                                    0\n",
       "ksd_steps                                                             10\n",
       "n_iter                                                                50\n",
       "optimizer_ksd                                                       Adam\n",
       "lr ksd                                                             0.001\n",
       "svgd_steps                                                             4\n",
       "Name: 3, dtype: object"
      ]
     },
     "execution_count": 28,
     "metadata": {},
     "output_type": "execute_result"
    }
   ],
   "source": [
    "frame.iloc[2]"
   ]
  },
  {
   "cell_type": "code",
   "execution_count": 27,
   "metadata": {},
   "outputs": [
    {
     "data": {
      "image/png": "[encoded data removed]",
      "text/plain": [
       "<Figure size 432x288 with 1 Axes>"
      ]
     },
     "metadata": {
      "needs_background": "light"
     },
     "output_type": "display_data"
    }
   ],
   "source": [
    "plt.plot(onp.array(rundata[ind][\"ksd_after_svgd_update\"]), \"o\", label=\"KSD after svgd update\")\n",
    "plt.yscale(\"log\")"
   ]
  },
  {
   "cell_type": "code",
   "execution_count": 25,
   "metadata": {},
   "outputs": [
    {
     "ename": "ValueError",
     "evalue": "x and y must have same first dimension, but have shapes (400,) and (200,)",
     "output_type": "error",
     "traceback": [
      "\u001b[0;31m---------------------------------------------------------------------------\u001b[0m",
      "\u001b[0;31mValueError\u001b[0m                                Traceback (most recent call last)",
      "\u001b[0;32m<ipython-input-25-b66b3d77b59c>\u001b[0m in \u001b[0;36m<module>\u001b[0;34m\u001b[0m\n\u001b[1;32m      2\u001b[0m \u001b[0;31m# idx = onp.arange(len(onp.array(rundata[ind][\"ksd_after_kernel_update\"])))\u001b[0m\u001b[0;34m\u001b[0m\u001b[0;34m\u001b[0m\u001b[0;34m\u001b[0m\u001b[0m\n\u001b[1;32m      3\u001b[0m \u001b[0max\u001b[0m\u001b[0;34m.\u001b[0m\u001b[0mplot\u001b[0m\u001b[0;34m(\u001b[0m\u001b[0monp\u001b[0m\u001b[0;34m.\u001b[0m\u001b[0marray\u001b[0m\u001b[0;34m(\u001b[0m\u001b[0mrundata\u001b[0m\u001b[0;34m[\u001b[0m\u001b[0mind\u001b[0m\u001b[0;34m]\u001b[0m\u001b[0;34m[\u001b[0m\u001b[0;34m\"ksd_after_kernel_update\"\u001b[0m\u001b[0;34m]\u001b[0m\u001b[0;34m)\u001b[0m\u001b[0;34m,\u001b[0m \u001b[0;34m\"o\"\u001b[0m\u001b[0;34m,\u001b[0m \u001b[0mlabel\u001b[0m\u001b[0;34m=\u001b[0m\u001b[0;34m\"KSD after kernel update\"\u001b[0m\u001b[0;34m)\u001b[0m\u001b[0;34m\u001b[0m\u001b[0;34m\u001b[0m\u001b[0m\n\u001b[0;32m----> 4\u001b[0;31m \u001b[0max\u001b[0m\u001b[0;34m.\u001b[0m\u001b[0mplot\u001b[0m\u001b[0;34m(\u001b[0m\u001b[0midx\u001b[0m \u001b[0;34m+\u001b[0m \u001b[0;36m0.5\u001b[0m\u001b[0;34m,\u001b[0m \u001b[0monp\u001b[0m\u001b[0;34m.\u001b[0m\u001b[0marray\u001b[0m\u001b[0;34m(\u001b[0m\u001b[0mrundata\u001b[0m\u001b[0;34m[\u001b[0m\u001b[0mind\u001b[0m\u001b[0;34m]\u001b[0m\u001b[0;34m[\u001b[0m\u001b[0;34m\"ksd_after_svgd_update\"\u001b[0m\u001b[0;34m]\u001b[0m\u001b[0;34m)\u001b[0m\u001b[0;34m,\u001b[0m \u001b[0;34m\"o\"\u001b[0m\u001b[0;34m,\u001b[0m \u001b[0mlabel\u001b[0m\u001b[0;34m=\u001b[0m\u001b[0;34m\"KSD after svgd update\"\u001b[0m\u001b[0;34m)\u001b[0m\u001b[0;34m\u001b[0m\u001b[0;34m\u001b[0m\u001b[0m\n\u001b[0m\u001b[1;32m      5\u001b[0m \u001b[0;31m# ax.legend()\u001b[0m\u001b[0;34m\u001b[0m\u001b[0;34m\u001b[0m\u001b[0;34m\u001b[0m\u001b[0m\n\u001b[1;32m      6\u001b[0m \u001b[0max\u001b[0m\u001b[0;34m.\u001b[0m\u001b[0mset_yscale\u001b[0m\u001b[0;34m(\u001b[0m\u001b[0;34m\"log\"\u001b[0m\u001b[0;34m)\u001b[0m\u001b[0;34m\u001b[0m\u001b[0;34m\u001b[0m\u001b[0m\n",
      "\u001b[0;32m~/.virtualenvs/msc-thesis/lib/python3.8/site-packages/matplotlib/axes/_axes.py\u001b[0m in \u001b[0;36mplot\u001b[0;34m(self, scalex, scaley, data, *args, **kwargs)\u001b[0m\n\u001b[1;32m   1644\u001b[0m         \"\"\"\n\u001b[1;32m   1645\u001b[0m         \u001b[0mkwargs\u001b[0m \u001b[0;34m=\u001b[0m \u001b[0mcbook\u001b[0m\u001b[0;34m.\u001b[0m\u001b[0mnormalize_kwargs\u001b[0m\u001b[0;34m(\u001b[0m\u001b[0mkwargs\u001b[0m\u001b[0;34m,\u001b[0m \u001b[0mmlines\u001b[0m\u001b[0;34m.\u001b[0m\u001b[0mLine2D\u001b[0m\u001b[0;34m)\u001b[0m\u001b[0;34m\u001b[0m\u001b[0;34m\u001b[0m\u001b[0m\n\u001b[0;32m-> 1646\u001b[0;31m         \u001b[0mlines\u001b[0m \u001b[0;34m=\u001b[0m \u001b[0;34m[\u001b[0m\u001b[0;34m*\u001b[0m\u001b[0mself\u001b[0m\u001b[0;34m.\u001b[0m\u001b[0m_get_lines\u001b[0m\u001b[0;34m(\u001b[0m\u001b[0;34m*\u001b[0m\u001b[0margs\u001b[0m\u001b[0;34m,\u001b[0m \u001b[0mdata\u001b[0m\u001b[0;34m=\u001b[0m\u001b[0mdata\u001b[0m\u001b[0;34m,\u001b[0m \u001b[0;34m**\u001b[0m\u001b[0mkwargs\u001b[0m\u001b[0;34m)\u001b[0m\u001b[0;34m]\u001b[0m\u001b[0;34m\u001b[0m\u001b[0;34m\u001b[0m\u001b[0m\n\u001b[0m\u001b[1;32m   1647\u001b[0m         \u001b[0;32mfor\u001b[0m \u001b[0mline\u001b[0m \u001b[0;32min\u001b[0m \u001b[0mlines\u001b[0m\u001b[0;34m:\u001b[0m\u001b[0;34m\u001b[0m\u001b[0;34m\u001b[0m\u001b[0m\n\u001b[1;32m   1648\u001b[0m             \u001b[0mself\u001b[0m\u001b[0;34m.\u001b[0m\u001b[0madd_line\u001b[0m\u001b[0;34m(\u001b[0m\u001b[0mline\u001b[0m\u001b[0;34m)\u001b[0m\u001b[0;34m\u001b[0m\u001b[0;34m\u001b[0m\u001b[0m\n",
      "\u001b[0;32m~/.virtualenvs/msc-thesis/lib/python3.8/site-packages/matplotlib/axes/_base.py\u001b[0m in \u001b[0;36m__call__\u001b[0;34m(self, *args, **kwargs)\u001b[0m\n\u001b[1;32m    214\u001b[0m                 \u001b[0mthis\u001b[0m \u001b[0;34m+=\u001b[0m \u001b[0margs\u001b[0m\u001b[0;34m[\u001b[0m\u001b[0;36m0\u001b[0m\u001b[0;34m]\u001b[0m\u001b[0;34m,\u001b[0m\u001b[0;34m\u001b[0m\u001b[0;34m\u001b[0m\u001b[0m\n\u001b[1;32m    215\u001b[0m                 \u001b[0margs\u001b[0m \u001b[0;34m=\u001b[0m \u001b[0margs\u001b[0m\u001b[0;34m[\u001b[0m\u001b[0;36m1\u001b[0m\u001b[0;34m:\u001b[0m\u001b[0;34m]\u001b[0m\u001b[0;34m\u001b[0m\u001b[0;34m\u001b[0m\u001b[0m\n\u001b[0;32m--> 216\u001b[0;31m             \u001b[0;32myield\u001b[0m \u001b[0;32mfrom\u001b[0m \u001b[0mself\u001b[0m\u001b[0;34m.\u001b[0m\u001b[0m_plot_args\u001b[0m\u001b[0;34m(\u001b[0m\u001b[0mthis\u001b[0m\u001b[0;34m,\u001b[0m \u001b[0mkwargs\u001b[0m\u001b[0;34m)\u001b[0m\u001b[0;34m\u001b[0m\u001b[0;34m\u001b[0m\u001b[0m\n\u001b[0m\u001b[1;32m    217\u001b[0m \u001b[0;34m\u001b[0m\u001b[0m\n\u001b[1;32m    218\u001b[0m     \u001b[0;32mdef\u001b[0m \u001b[0mget_next_color\u001b[0m\u001b[0;34m(\u001b[0m\u001b[0mself\u001b[0m\u001b[0;34m)\u001b[0m\u001b[0;34m:\u001b[0m\u001b[0;34m\u001b[0m\u001b[0;34m\u001b[0m\u001b[0m\n",
      "\u001b[0;32m~/.virtualenvs/msc-thesis/lib/python3.8/site-packages/matplotlib/axes/_base.py\u001b[0m in \u001b[0;36m_plot_args\u001b[0;34m(self, tup, kwargs)\u001b[0m\n\u001b[1;32m    340\u001b[0m \u001b[0;34m\u001b[0m\u001b[0m\n\u001b[1;32m    341\u001b[0m         \u001b[0;32mif\u001b[0m \u001b[0mx\u001b[0m\u001b[0;34m.\u001b[0m\u001b[0mshape\u001b[0m\u001b[0;34m[\u001b[0m\u001b[0;36m0\u001b[0m\u001b[0;34m]\u001b[0m \u001b[0;34m!=\u001b[0m \u001b[0my\u001b[0m\u001b[0;34m.\u001b[0m\u001b[0mshape\u001b[0m\u001b[0;34m[\u001b[0m\u001b[0;36m0\u001b[0m\u001b[0;34m]\u001b[0m\u001b[0;34m:\u001b[0m\u001b[0;34m\u001b[0m\u001b[0;34m\u001b[0m\u001b[0m\n\u001b[0;32m--> 342\u001b[0;31m             raise ValueError(f\"x and y must have same first dimension, but \"\n\u001b[0m\u001b[1;32m    343\u001b[0m                              f\"have shapes {x.shape} and {y.shape}\")\n\u001b[1;32m    344\u001b[0m         \u001b[0;32mif\u001b[0m \u001b[0mx\u001b[0m\u001b[0;34m.\u001b[0m\u001b[0mndim\u001b[0m \u001b[0;34m>\u001b[0m \u001b[0;36m2\u001b[0m \u001b[0;32mor\u001b[0m \u001b[0my\u001b[0m\u001b[0;34m.\u001b[0m\u001b[0mndim\u001b[0m \u001b[0;34m>\u001b[0m \u001b[0;36m2\u001b[0m\u001b[0;34m:\u001b[0m\u001b[0;34m\u001b[0m\u001b[0;34m\u001b[0m\u001b[0m\n",
      "\u001b[0;31mValueError\u001b[0m: x and y must have same first dimension, but have shapes (400,) and (200,)"
     ]
    },
    {
     "data": {
      "image/png": "[encoded data removed]",
      "text/plain": [
       "<Figure size 864x432 with 1 Axes>"
      ]
     },
     "metadata": {
      "needs_background": "light"
     },
     "output_type": "display_data"
    }
   ],
   "source": [
    "fig, ax = plt.subplots(figsize=[12, 6])\n",
    "# idx = onp.arange(len(onp.array(rundata[ind][\"ksd_after_kernel_update\"])))\n",
    "ax.plot(onp.array(rundata[ind][\"ksd_after_kernel_update\"]), \"o\", label=\"KSD after kernel update\")\n",
    "\n",
    "# ax.legend()\n",
    "ax.set_yscale(\"log\")"
   ]
  },
  {
   "cell_type": "code",
   "execution_count": 43,
   "metadata": {},
   "outputs": [
    {
     "data": {
      "text/html": [
       "<div>\n",
       "<style scoped>\n",
       "    .dataframe tbody tr th:only-of-type {\n",
       "        vertical-align: middle;\n",
       "    }\n",
       "\n",
       "    .dataframe tbody tr th {\n",
       "        vertical-align: top;\n",
       "    }\n",
       "\n",
       "    .dataframe thead th {\n",
       "        text-align: right;\n",
       "    }\n",
       "</style>\n",
       "<table border=\"1\" class=\"dataframe\">\n",
       "  <thead>\n",
       "    <tr style=\"text-align: right;\">\n",
       "      <th></th>\n",
       "      <th>ksd</th>\n",
       "      <th>emd</th>\n",
       "      <th>sinkhorn_divergence</th>\n",
       "      <th>lr ksd</th>\n",
       "      <th>svgd_steps</th>\n",
       "      <th>architecture</th>\n",
       "      <th>layers</th>\n",
       "      <th>ksd_steps</th>\n",
       "    </tr>\n",
       "  </thead>\n",
       "  <tbody>\n",
       "    <tr>\n",
       "      <th>0</th>\n",
       "      <td>274.063647</td>\n",
       "      <td>17.590226</td>\n",
       "      <td>309.433619</td>\n",
       "      <td>0.1</td>\n",
       "      <td>1</td>\n",
       "      <td>MLP</td>\n",
       "      <td>[32, 32, 32, 2]</td>\n",
       "      <td>1</td>\n",
       "    </tr>\n",
       "    <tr>\n",
       "      <th>1</th>\n",
       "      <td>233.723850</td>\n",
       "      <td>17.454214</td>\n",
       "      <td>304.662151</td>\n",
       "      <td>0.001</td>\n",
       "      <td>1</td>\n",
       "      <td>Vanilla</td>\n",
       "      <td>[32, 32, 32, 2]</td>\n",
       "      <td>1</td>\n",
       "    </tr>\n",
       "    <tr>\n",
       "      <th>2</th>\n",
       "      <td>269.938762</td>\n",
       "      <td>17.675720</td>\n",
       "      <td>312.465914</td>\n",
       "      <td>0.01</td>\n",
       "      <td>1</td>\n",
       "      <td>MLP</td>\n",
       "      <td>[32, 32, 32, 2]</td>\n",
       "      <td>1</td>\n",
       "    </tr>\n",
       "    <tr>\n",
       "      <th>3</th>\n",
       "      <td>231.515452</td>\n",
       "      <td>17.523217</td>\n",
       "      <td>307.072716</td>\n",
       "      <td>0.1</td>\n",
       "      <td>1</td>\n",
       "      <td>Vanilla</td>\n",
       "      <td>[32, 32, 32, 2]</td>\n",
       "      <td>1</td>\n",
       "    </tr>\n",
       "    <tr>\n",
       "      <th>4</th>\n",
       "      <td>233.494401</td>\n",
       "      <td>17.556293</td>\n",
       "      <td>308.240974</td>\n",
       "      <td>0.01</td>\n",
       "      <td>1</td>\n",
       "      <td>Vanilla</td>\n",
       "      <td>[32, 32, 32, 2]</td>\n",
       "      <td>1</td>\n",
       "    </tr>\n",
       "    <tr>\n",
       "      <th>5</th>\n",
       "      <td>225.633447</td>\n",
       "      <td>17.488249</td>\n",
       "      <td>305.855826</td>\n",
       "      <td>0.001</td>\n",
       "      <td>1</td>\n",
       "      <td>MLP</td>\n",
       "      <td>[32, 32, 32, 2]</td>\n",
       "      <td>1</td>\n",
       "    </tr>\n",
       "  </tbody>\n",
       "</table>\n",
       "</div>"
      ],
      "text/plain": [
       "          ksd        emd  sinkhorn_divergence lr ksd  svgd_steps architecture  \\\n",
       "0  274.063647  17.590226           309.433619    0.1           1          MLP   \n",
       "1  233.723850  17.454214           304.662151  0.001           1      Vanilla   \n",
       "2  269.938762  17.675720           312.465914   0.01           1          MLP   \n",
       "3  231.515452  17.523217           307.072716    0.1           1      Vanilla   \n",
       "4  233.494401  17.556293           308.240974   0.01           1      Vanilla   \n",
       "5  225.633447  17.488249           305.855826  0.001           1          MLP   \n",
       "\n",
       "            layers  ksd_steps  \n",
       "0  [32, 32, 32, 2]          1  \n",
       "1  [32, 32, 32, 2]          1  \n",
       "2  [32, 32, 32, 2]          1  \n",
       "3  [32, 32, 32, 2]          1  \n",
       "4  [32, 32, 32, 2]          1  \n",
       "5  [32, 32, 32, 2]          1  "
      ]
     },
     "execution_count": 43,
     "metadata": {},
     "output_type": "execute_result"
    }
   ],
   "source": [
    "f"
   ]
  },
  {
   "cell_type": "code",
   "execution_count": null,
   "metadata": {},
   "outputs": [],
   "source": []
  }
 ],
 "metadata": {
  "kernelspec": {
   "display_name": "msc-thesis",
   "language": "python",
   "name": "msc-thesis"
  },
  "language_info": {
   "codemirror_mode": {
    "name": "ipython",
    "version": 3
   },
   "file_extension": ".py",
   "mimetype": "text/x-python",
   "name": "python",
   "nbconvert_exporter": "python",
   "pygments_lexer": "ipython3",
   "version": "3.8.2"
  }
 },
 "nbformat": 4,
 "nbformat_minor": 4
}
