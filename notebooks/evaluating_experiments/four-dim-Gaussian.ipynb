{
 "cells": [
  {
   "cell_type": "markdown",
   "metadata": {},
   "source": [
    "# Evaluating experiments"
   ]
  },
  {
   "cell_type": "code",
   "execution_count": 4,
   "metadata": {},
   "outputs": [],
   "source": [
    "import sys\n",
    "import os\n",
    "sys.path.append(\"/home/lauro/code/msc-thesis/svgd\")\n",
    "import json_tricks as json\n",
    "import warnings\n",
    "\n",
    "import matplotlib as mpl\n",
    "\n",
    "import jax.numpy as np\n",
    "from jax import grad, jit, vmap, random, lax, jacfwd\n",
    "from jax import lax\n",
    "from jax.ops import index_update, index\n",
    "import matplotlib.pyplot as plt\n",
    "import numpy as onp\n",
    "import jax\n",
    "import pandas as pd\n",
    "import haiku as hk\n",
    "\n",
    "import config\n",
    "\n",
    "import utils\n",
    "import metrics\n",
    "import time\n",
    "import plot\n",
    "import svgd\n",
    "import stein\n",
    "import train\n",
    "import kernels\n",
    "from svgd import SVGD\n",
    "\n",
    "from jax.experimental import optimizers\n",
    "\n",
    "rkey = random.PRNGKey(0)\n",
    "basedir = \"/home/lauro/code/msc-thesis/svgd/\""
   ]
  },
  {
   "cell_type": "code",
   "execution_count": 5,
   "metadata": {},
   "outputs": [],
   "source": [
    "def get_data(rundir):\n",
    "    \"\"\"Take directory with run results and return a Pandas DataFrame with the relevant hparams plus metrics.\n",
    "    Returns:\n",
    "    * frame: a pandas dataframe with config hparams and metrics\n",
    "    * data: a list of dicts with data collected during runs\"\"\"\n",
    "    cfgs = []\n",
    "    rundata = []\n",
    "    metrics = []\n",
    "    sweep_metaconfigs = []\n",
    "    base_metaconfigs = []\n",
    "    for logdir in os.listdir(rundir):\n",
    "        if os.path.isdir(os.path.join(rundir, logdir)):\n",
    "            configfile, datafile, metricfile = [rundir + logdir + f for f in [\"/config.json\", \"/data.json\", \"/metrics.json\"]]\n",
    "            with open(configfile, \"r\") as f:\n",
    "                cfgs.append(json.load(f))\n",
    "            try:\n",
    "                with open(datafile, \"r\") as f:\n",
    "                    rundata.append(json.load(f))\n",
    "                with open(metricfile, \"r\") as f:\n",
    "                    metrics.append(json.load(f))\n",
    "            except FileNotFoundError:\n",
    "                warnings.warn(f\"No config / data files in {logdir}.\")\n",
    "        else:\n",
    "            with open(rundir + logdir, \"r\") as f:\n",
    "                base, sweep_config = json.load(f)\n",
    "                sweep_metaconfigs.append(sweep_config)\n",
    "                base_metaconfigs.append(base)\n",
    "     \n",
    "    # process data\n",
    "    cfgs_flat = [utils.flatten_dict(c) for c in cfgs]\n",
    "    for c in cfgs_flat:\n",
    "        if len(c[\"optimizer_svgd_args\"]) == 1:\n",
    "            c[\"optimizer_svgd_args\"] = onp.squeeze(c[\"optimizer_svgd_args\"])\n",
    "        if len(c[\"optimizer_ksd_args\"]) == 1:\n",
    "            c[\"optimizer_ksd_args\"] = onp.squeeze(c[\"optimizer_ksd_args\"])\n",
    "    \n",
    "    \n",
    "    configs_df = pd.DataFrame(cfgs_flat)\n",
    "    configs_df.rename(columns={\"optimizer_svgd_args\": \"lr svgd\", \"optimizer_ksd_args\": \"lr ksd\"}, inplace=True)\n",
    "    \n",
    "    metrics_df = pd.DataFrame(metrics)\n",
    "    all_df = pd.concat([metrics_df, configs_df], axis=1)\n",
    "    all_df[\"layers\"] = all_df.layers.astype('str').astype('category')\n",
    "    all_df[\"architecture\"] = all_df.architecture.astype('str').astype('category')\n",
    "    \n",
    "    if all_df.isnull().values.any():\n",
    "        rows_with_nans = all_df.shape[0] - all_df.dropna().shape[0]\n",
    "        warnings.warn(f\"Detected NaNs in dataframe. {rows_with_nans} / {all_df.shape[0]} rows include at least one NaN. Dropping all rows with NaNs.\")\n",
    "        all_df = all_df.dropna()\n",
    "\n",
    "    return all_df, rundata, cfgs, sweep_metaconfigs, base_metaconfigs"
   ]
  },
  {
   "cell_type": "code",
   "execution_count": 24,
   "metadata": {},
   "outputs": [
    {
     "name": "stderr",
     "output_type": "stream",
     "text": [
      "<ipython-input-5-c8e7fa5461c8>:22: UserWarning: No config / data files in 2020-07-20__20:45:04.\n",
      "  warnings.warn(f\"No config / data files in {logdir}.\")\n",
      "<ipython-input-5-c8e7fa5461c8>:48: UserWarning: Detected NaNs in dataframe. 1 / 118 rows include at least one NaN. Dropping all rows with NaNs.\n",
      "  warnings.warn(f\"Detected NaNs in dataframe. {rows_with_nans} / {all_df.shape[0]} rows include at least one NaN. Dropping all rows with NaNs.\")\n"
     ]
    }
   ],
   "source": [
    "rundir = basedir + \"runs/four-dim/\"\n",
    "frame, rundata, configs, sweep_metaconfigs, base_metaconfigs = get_data(rundir)\n",
    "relevant = [\"ksd\", \"emd\", \"sinkhorn_divergence\"] + [\"lr ksd\", \"svgd_steps\", \"ksd_steps\", \"architecture\", \"layers\"]\n",
    "f = frame[relevant]\n",
    "# f"
   ]
  },
  {
   "cell_type": "code",
   "execution_count": 25,
   "metadata": {},
   "outputs": [
    {
     "data": {
      "text/html": [
       "<div>\n",
       "<style scoped>\n",
       "    .dataframe tbody tr th:only-of-type {\n",
       "        vertical-align: middle;\n",
       "    }\n",
       "\n",
       "    .dataframe tbody tr th {\n",
       "        vertical-align: top;\n",
       "    }\n",
       "\n",
       "    .dataframe thead th {\n",
       "        text-align: right;\n",
       "    }\n",
       "</style>\n",
       "<table border=\"1\" class=\"dataframe\">\n",
       "  <thead>\n",
       "    <tr style=\"text-align: right;\">\n",
       "      <th></th>\n",
       "      <th>ksd</th>\n",
       "      <th>emd</th>\n",
       "      <th>sinkhorn_divergence</th>\n",
       "      <th>lr ksd</th>\n",
       "      <th>svgd_steps</th>\n",
       "      <th>ksd_steps</th>\n",
       "      <th>architecture</th>\n",
       "      <th>layers</th>\n",
       "    </tr>\n",
       "  </thead>\n",
       "  <tbody>\n",
       "    <tr>\n",
       "      <th>0</th>\n",
       "      <td>0.150997</td>\n",
       "      <td>4.732219</td>\n",
       "      <td>22.240704</td>\n",
       "      <td>0.0031622776601683794</td>\n",
       "      <td>2</td>\n",
       "      <td>2</td>\n",
       "      <td>Vanilla</td>\n",
       "      <td>[32, 32]</td>\n",
       "    </tr>\n",
       "    <tr>\n",
       "      <th>1</th>\n",
       "      <td>0.162801</td>\n",
       "      <td>4.361981</td>\n",
       "      <td>18.810433</td>\n",
       "      <td>0.01778279410038923</td>\n",
       "      <td>1</td>\n",
       "      <td>1</td>\n",
       "      <td>Vanilla</td>\n",
       "      <td>[32, 32]</td>\n",
       "    </tr>\n",
       "    <tr>\n",
       "      <th>2</th>\n",
       "      <td>0.109543</td>\n",
       "      <td>4.186050</td>\n",
       "      <td>17.395578</td>\n",
       "      <td>0.01778279410038923</td>\n",
       "      <td>10</td>\n",
       "      <td>10</td>\n",
       "      <td>MLP</td>\n",
       "      <td>[64, 64, 64]</td>\n",
       "    </tr>\n",
       "    <tr>\n",
       "      <th>3</th>\n",
       "      <td>0.162372</td>\n",
       "      <td>4.548581</td>\n",
       "      <td>20.491128</td>\n",
       "      <td>0.01778279410038923</td>\n",
       "      <td>1</td>\n",
       "      <td>1</td>\n",
       "      <td>MLP</td>\n",
       "      <td>[64, 64, 64]</td>\n",
       "    </tr>\n",
       "    <tr>\n",
       "      <th>4</th>\n",
       "      <td>0.185118</td>\n",
       "      <td>3.146906</td>\n",
       "      <td>9.822332</td>\n",
       "      <td>0.01778279410038923</td>\n",
       "      <td>2</td>\n",
       "      <td>2</td>\n",
       "      <td>Vanilla</td>\n",
       "      <td>[32, 32, 32]</td>\n",
       "    </tr>\n",
       "    <tr>\n",
       "      <th>...</th>\n",
       "      <td>...</td>\n",
       "      <td>...</td>\n",
       "      <td>...</td>\n",
       "      <td>...</td>\n",
       "      <td>...</td>\n",
       "      <td>...</td>\n",
       "      <td>...</td>\n",
       "      <td>...</td>\n",
       "    </tr>\n",
       "    <tr>\n",
       "      <th>112</th>\n",
       "      <td>0.151476</td>\n",
       "      <td>4.788601</td>\n",
       "      <td>22.792011</td>\n",
       "      <td>0.007498942093324558</td>\n",
       "      <td>10</td>\n",
       "      <td>10</td>\n",
       "      <td>MLP</td>\n",
       "      <td>[32, 32]</td>\n",
       "    </tr>\n",
       "    <tr>\n",
       "      <th>113</th>\n",
       "      <td>0.151009</td>\n",
       "      <td>2.828301</td>\n",
       "      <td>7.895699</td>\n",
       "      <td>0.0031622776601683794</td>\n",
       "      <td>10</td>\n",
       "      <td>10</td>\n",
       "      <td>Vanilla</td>\n",
       "      <td>[32, 32, 32]</td>\n",
       "    </tr>\n",
       "    <tr>\n",
       "      <th>114</th>\n",
       "      <td>0.153608</td>\n",
       "      <td>4.678487</td>\n",
       "      <td>21.717472</td>\n",
       "      <td>0.1</td>\n",
       "      <td>2</td>\n",
       "      <td>2</td>\n",
       "      <td>Vanilla</td>\n",
       "      <td>[64, 64, 64]</td>\n",
       "    </tr>\n",
       "    <tr>\n",
       "      <th>115</th>\n",
       "      <td>0.162372</td>\n",
       "      <td>4.548581</td>\n",
       "      <td>20.491128</td>\n",
       "      <td>0.007498942093324558</td>\n",
       "      <td>1</td>\n",
       "      <td>1</td>\n",
       "      <td>Vanilla</td>\n",
       "      <td>[64, 64, 64]</td>\n",
       "    </tr>\n",
       "    <tr>\n",
       "      <th>116</th>\n",
       "      <td>0.148800</td>\n",
       "      <td>5.119049</td>\n",
       "      <td>26.101807</td>\n",
       "      <td>0.01778279410038923</td>\n",
       "      <td>2</td>\n",
       "      <td>2</td>\n",
       "      <td>Vanilla</td>\n",
       "      <td>[32, 32]</td>\n",
       "    </tr>\n",
       "  </tbody>\n",
       "</table>\n",
       "<p>117 rows × 8 columns</p>\n",
       "</div>"
      ],
      "text/plain": [
       "          ksd       emd  sinkhorn_divergence                 lr ksd  \\\n",
       "0    0.150997  4.732219            22.240704  0.0031622776601683794   \n",
       "1    0.162801  4.361981            18.810433    0.01778279410038923   \n",
       "2    0.109543  4.186050            17.395578    0.01778279410038923   \n",
       "3    0.162372  4.548581            20.491128    0.01778279410038923   \n",
       "4    0.185118  3.146906             9.822332    0.01778279410038923   \n",
       "..        ...       ...                  ...                    ...   \n",
       "112  0.151476  4.788601            22.792011   0.007498942093324558   \n",
       "113  0.151009  2.828301             7.895699  0.0031622776601683794   \n",
       "114  0.153608  4.678487            21.717472                    0.1   \n",
       "115  0.162372  4.548581            20.491128   0.007498942093324558   \n",
       "116  0.148800  5.119049            26.101807    0.01778279410038923   \n",
       "\n",
       "     svgd_steps  ksd_steps architecture        layers  \n",
       "0             2          2      Vanilla      [32, 32]  \n",
       "1             1          1      Vanilla      [32, 32]  \n",
       "2            10         10          MLP  [64, 64, 64]  \n",
       "3             1          1          MLP  [64, 64, 64]  \n",
       "4             2          2      Vanilla  [32, 32, 32]  \n",
       "..          ...        ...          ...           ...  \n",
       "112          10         10          MLP      [32, 32]  \n",
       "113          10         10      Vanilla  [32, 32, 32]  \n",
       "114           2          2      Vanilla  [64, 64, 64]  \n",
       "115           1          1      Vanilla  [64, 64, 64]  \n",
       "116           2          2      Vanilla      [32, 32]  \n",
       "\n",
       "[117 rows x 8 columns]"
      ]
     },
     "execution_count": 25,
     "metadata": {},
     "output_type": "execute_result"
    }
   ],
   "source": [
    "f"
   ]
  },
  {
   "cell_type": "code",
   "execution_count": 26,
   "metadata": {},
   "outputs": [
    {
     "data": {
      "text/plain": [
       "<matplotlib.collections.PathCollection at 0x7f6cc82575e0>"
      ]
     },
     "execution_count": 26,
     "metadata": {},
     "output_type": "execute_result"
    },
    {
     "data": {
      "image/png": "[encoded data removed]",
      "text/plain": [
       "<Figure size 432x288 with 1 Axes>"
      ]
     },
     "metadata": {
      "needs_background": "light"
     },
     "output_type": "display_data"
    }
   ],
   "source": [
    "plt.scatter(f.architecture, f.sinkhorn_divergence)"
   ]
  },
  {
   "cell_type": "code",
   "execution_count": 27,
   "metadata": {},
   "outputs": [
    {
     "data": {
      "text/plain": [
       "<matplotlib.collections.PathCollection at 0x7f6c13d2df70>"
      ]
     },
     "execution_count": 27,
     "metadata": {},
     "output_type": "execute_result"
    },
    {
     "data": {
      "image/png": "[encoded data removed]",
      "text/plain": [
       "<Figure size 432x288 with 1 Axes>"
      ]
     },
     "metadata": {
      "needs_background": "light"
     },
     "output_type": "display_data"
    }
   ],
   "source": [
    "f_mlp = f[f[\"architecture\"] == \"MLP\"]\n",
    "plt.scatter(f.layers, f.emd)"
   ]
  },
  {
   "cell_type": "markdown",
   "metadata": {},
   "source": [
    "# Compare KSD learning"
   ]
  },
  {
   "cell_type": "code",
   "execution_count": 28,
   "metadata": {},
   "outputs": [
    {
     "name": "stdout",
     "output_type": "stream",
     "text": [
      "ksd                               0.162801\n",
      "emd                                4.36198\n",
      "sinkhorn_divergence                18.8104\n",
      "lr ksd                 0.01778279410038923\n",
      "svgd_steps                               1\n",
      "ksd_steps                                1\n",
      "architecture                       Vanilla\n",
      "layers                            [32, 32]\n",
      "Name: 1, dtype: object\n"
     ]
    },
    {
     "data": {
      "image/png": "[encoded data removed]",
      "text/plain": [
       "<Figure size 432x288 with 1 Axes>"
      ]
     },
     "metadata": {
      "needs_background": "light"
     },
     "output_type": "display_data"
    }
   ],
   "source": [
    "print(f.iloc[1])\n",
    "_ = plt.plot(onp.array(rundata[1][\"ksd\"]).reshape((30,)))"
   ]
  },
  {
   "cell_type": "code",
   "execution_count": 29,
   "metadata": {},
   "outputs": [
    {
     "name": "stdout",
     "output_type": "stream",
     "text": [
      "ksd                               0.162372\n",
      "emd                                4.54858\n",
      "sinkhorn_divergence                20.4911\n",
      "lr ksd                 0.01778279410038923\n",
      "svgd_steps                               1\n",
      "ksd_steps                                1\n",
      "architecture                           MLP\n",
      "layers                        [64, 64, 64]\n",
      "Name: 3, dtype: object\n"
     ]
    },
    {
     "data": {
      "image/png": "[encoded data removed]",
      "text/plain": [
       "<Figure size 432x288 with 1 Axes>"
      ]
     },
     "metadata": {
      "needs_background": "light"
     },
     "output_type": "display_data"
    }
   ],
   "source": [
    "print(f.iloc[3])\n",
    "_ = plt.plot(onp.array(rundata[3][\"ksd\"]).reshape((30,)))"
   ]
  },
  {
   "cell_type": "code",
   "execution_count": 30,
   "metadata": {},
   "outputs": [
    {
     "data": {
      "text/html": [
       "<div>\n",
       "<style scoped>\n",
       "    .dataframe tbody tr th:only-of-type {\n",
       "        vertical-align: middle;\n",
       "    }\n",
       "\n",
       "    .dataframe tbody tr th {\n",
       "        vertical-align: top;\n",
       "    }\n",
       "\n",
       "    .dataframe thead th {\n",
       "        text-align: right;\n",
       "    }\n",
       "</style>\n",
       "<table border=\"1\" class=\"dataframe\">\n",
       "  <thead>\n",
       "    <tr style=\"text-align: right;\">\n",
       "      <th></th>\n",
       "      <th>ksd</th>\n",
       "      <th>emd</th>\n",
       "      <th>sinkhorn_divergence</th>\n",
       "      <th>lr ksd</th>\n",
       "      <th>svgd_steps</th>\n",
       "      <th>ksd_steps</th>\n",
       "      <th>architecture</th>\n",
       "      <th>layers</th>\n",
       "    </tr>\n",
       "  </thead>\n",
       "  <tbody>\n",
       "    <tr>\n",
       "      <th>0</th>\n",
       "      <td>0.150997</td>\n",
       "      <td>4.732219</td>\n",
       "      <td>22.240704</td>\n",
       "      <td>0.0031622776601683794</td>\n",
       "      <td>2</td>\n",
       "      <td>2</td>\n",
       "      <td>Vanilla</td>\n",
       "      <td>[32, 32]</td>\n",
       "    </tr>\n",
       "    <tr>\n",
       "      <th>1</th>\n",
       "      <td>0.162801</td>\n",
       "      <td>4.361981</td>\n",
       "      <td>18.810433</td>\n",
       "      <td>0.01778279410038923</td>\n",
       "      <td>1</td>\n",
       "      <td>1</td>\n",
       "      <td>Vanilla</td>\n",
       "      <td>[32, 32]</td>\n",
       "    </tr>\n",
       "    <tr>\n",
       "      <th>2</th>\n",
       "      <td>0.109543</td>\n",
       "      <td>4.186050</td>\n",
       "      <td>17.395578</td>\n",
       "      <td>0.01778279410038923</td>\n",
       "      <td>10</td>\n",
       "      <td>10</td>\n",
       "      <td>MLP</td>\n",
       "      <td>[64, 64, 64]</td>\n",
       "    </tr>\n",
       "    <tr>\n",
       "      <th>3</th>\n",
       "      <td>0.162372</td>\n",
       "      <td>4.548581</td>\n",
       "      <td>20.491128</td>\n",
       "      <td>0.01778279410038923</td>\n",
       "      <td>1</td>\n",
       "      <td>1</td>\n",
       "      <td>MLP</td>\n",
       "      <td>[64, 64, 64]</td>\n",
       "    </tr>\n",
       "    <tr>\n",
       "      <th>4</th>\n",
       "      <td>0.185118</td>\n",
       "      <td>3.146906</td>\n",
       "      <td>9.822332</td>\n",
       "      <td>0.01778279410038923</td>\n",
       "      <td>2</td>\n",
       "      <td>2</td>\n",
       "      <td>Vanilla</td>\n",
       "      <td>[32, 32, 32]</td>\n",
       "    </tr>\n",
       "    <tr>\n",
       "      <th>...</th>\n",
       "      <td>...</td>\n",
       "      <td>...</td>\n",
       "      <td>...</td>\n",
       "      <td>...</td>\n",
       "      <td>...</td>\n",
       "      <td>...</td>\n",
       "      <td>...</td>\n",
       "      <td>...</td>\n",
       "    </tr>\n",
       "    <tr>\n",
       "      <th>112</th>\n",
       "      <td>0.151476</td>\n",
       "      <td>4.788601</td>\n",
       "      <td>22.792011</td>\n",
       "      <td>0.007498942093324558</td>\n",
       "      <td>10</td>\n",
       "      <td>10</td>\n",
       "      <td>MLP</td>\n",
       "      <td>[32, 32]</td>\n",
       "    </tr>\n",
       "    <tr>\n",
       "      <th>113</th>\n",
       "      <td>0.151009</td>\n",
       "      <td>2.828301</td>\n",
       "      <td>7.895699</td>\n",
       "      <td>0.0031622776601683794</td>\n",
       "      <td>10</td>\n",
       "      <td>10</td>\n",
       "      <td>Vanilla</td>\n",
       "      <td>[32, 32, 32]</td>\n",
       "    </tr>\n",
       "    <tr>\n",
       "      <th>114</th>\n",
       "      <td>0.153608</td>\n",
       "      <td>4.678487</td>\n",
       "      <td>21.717472</td>\n",
       "      <td>0.1</td>\n",
       "      <td>2</td>\n",
       "      <td>2</td>\n",
       "      <td>Vanilla</td>\n",
       "      <td>[64, 64, 64]</td>\n",
       "    </tr>\n",
       "    <tr>\n",
       "      <th>115</th>\n",
       "      <td>0.162372</td>\n",
       "      <td>4.548581</td>\n",
       "      <td>20.491128</td>\n",
       "      <td>0.007498942093324558</td>\n",
       "      <td>1</td>\n",
       "      <td>1</td>\n",
       "      <td>Vanilla</td>\n",
       "      <td>[64, 64, 64]</td>\n",
       "    </tr>\n",
       "    <tr>\n",
       "      <th>116</th>\n",
       "      <td>0.148800</td>\n",
       "      <td>5.119049</td>\n",
       "      <td>26.101807</td>\n",
       "      <td>0.01778279410038923</td>\n",
       "      <td>2</td>\n",
       "      <td>2</td>\n",
       "      <td>Vanilla</td>\n",
       "      <td>[32, 32]</td>\n",
       "    </tr>\n",
       "  </tbody>\n",
       "</table>\n",
       "<p>117 rows × 8 columns</p>\n",
       "</div>"
      ],
      "text/plain": [
       "          ksd       emd  sinkhorn_divergence                 lr ksd  \\\n",
       "0    0.150997  4.732219            22.240704  0.0031622776601683794   \n",
       "1    0.162801  4.361981            18.810433    0.01778279410038923   \n",
       "2    0.109543  4.186050            17.395578    0.01778279410038923   \n",
       "3    0.162372  4.548581            20.491128    0.01778279410038923   \n",
       "4    0.185118  3.146906             9.822332    0.01778279410038923   \n",
       "..        ...       ...                  ...                    ...   \n",
       "112  0.151476  4.788601            22.792011   0.007498942093324558   \n",
       "113  0.151009  2.828301             7.895699  0.0031622776601683794   \n",
       "114  0.153608  4.678487            21.717472                    0.1   \n",
       "115  0.162372  4.548581            20.491128   0.007498942093324558   \n",
       "116  0.148800  5.119049            26.101807    0.01778279410038923   \n",
       "\n",
       "     svgd_steps  ksd_steps architecture        layers  \n",
       "0             2          2      Vanilla      [32, 32]  \n",
       "1             1          1      Vanilla      [32, 32]  \n",
       "2            10         10          MLP  [64, 64, 64]  \n",
       "3             1          1          MLP  [64, 64, 64]  \n",
       "4             2          2      Vanilla  [32, 32, 32]  \n",
       "..          ...        ...          ...           ...  \n",
       "112          10         10          MLP      [32, 32]  \n",
       "113          10         10      Vanilla  [32, 32, 32]  \n",
       "114           2          2      Vanilla  [64, 64, 64]  \n",
       "115           1          1      Vanilla  [64, 64, 64]  \n",
       "116           2          2      Vanilla      [32, 32]  \n",
       "\n",
       "[117 rows x 8 columns]"
      ]
     },
     "execution_count": 30,
     "metadata": {},
     "output_type": "execute_result"
    }
   ],
   "source": [
    "f"
   ]
  },
  {
   "cell_type": "code",
   "execution_count": 31,
   "metadata": {},
   "outputs": [
    {
     "data": {
      "image/png": "[encoded data removed]",
      "text/plain": [
       "<Figure size 432x288 with 1 Axes>"
      ]
     },
     "metadata": {
      "needs_background": "light"
     },
     "output_type": "display_data"
    }
   ],
   "source": [
    "_ = plt.plot(onp.array(rundata[2][\"ksd\"]).reshape((30,)))"
   ]
  },
  {
   "cell_type": "code",
   "execution_count": 32,
   "metadata": {},
   "outputs": [
    {
     "data": {
      "image/png": "[encoded data removed]",
      "text/plain": [
       "<Figure size 432x288 with 1 Axes>"
      ]
     },
     "metadata": {
      "needs_background": "light"
     },
     "output_type": "display_data"
    }
   ],
   "source": [
    "_ = plt.plot(onp.array(rundata[113][\"ksd\"]).reshape((30,)))"
   ]
  }
 ],
 "metadata": {
  "kernelspec": {
   "display_name": "msc-thesis",
   "language": "python",
   "name": "msc-thesis"
  },
  "language_info": {
   "codemirror_mode": {
    "name": "ipython",
    "version": 3
   },
   "file_extension": ".py",
   "mimetype": "text/x-python",
   "name": "python",
   "nbconvert_exporter": "python",
   "pygments_lexer": "ipython3",
   "version": "3.8.2"
  }
 },
 "nbformat": 4,
 "nbformat_minor": 4
}
