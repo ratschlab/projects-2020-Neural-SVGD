{
 "cells": [
  {
   "cell_type": "code",
   "execution_count": 1,
   "metadata": {},
   "outputs": [
    {
     "name": "stderr",
     "output_type": "stream",
     "text": [
      "/home/lauro/.virtualenvs/msc-thesis/lib/python3.8/site-packages/jax/lib/xla_bridge.py:125: UserWarning: No GPU/TPU found, falling back to CPU.\n",
      "  warnings.warn('No GPU/TPU found, falling back to CPU.')\n"
     ]
    }
   ],
   "source": [
    "import sys\n",
    "import os\n",
    "sys.path.append(\"/home/lauro/code/msc-thesis/svgd\")\n",
    "import json_tricks as json\n",
    "import warnings\n",
    "\n",
    "import matplotlib as mpl\n",
    "\n",
    "import jax.numpy as np\n",
    "from jax import grad, jit, vmap, random, lax, jacfwd\n",
    "from jax import lax\n",
    "from jax.ops import index_update, index\n",
    "import matplotlib.pyplot as plt\n",
    "import numpy as onp\n",
    "import jax\n",
    "import pandas as pd\n",
    "import haiku as hk\n",
    "\n",
    "import config\n",
    "\n",
    "import utils\n",
    "import metrics\n",
    "import time\n",
    "import plot\n",
    "import svgd\n",
    "import stein\n",
    "import train\n",
    "import kernels\n",
    "from svgd import SVGD\n",
    "\n",
    "from jax.experimental import optimizers\n",
    "\n",
    "rkey = random.PRNGKey(0)\n",
    "basedir = \"/home/lauro/code/msc-thesis/svgd/\""
   ]
  },
  {
   "cell_type": "markdown",
   "metadata": {},
   "source": [
    "## Summary\n",
    "both vanilla and mlp have big problems in trying to get anywhere near the target. Movement in mean (during run) is very similar."
   ]
  },
  {
   "cell_type": "code",
   "execution_count": 2,
   "metadata": {},
   "outputs": [],
   "source": [
    "def get_data(rundir):\n",
    "    \"\"\"Take directory with run results and return a Pandas DataFrame with the relevant hparams plus metrics.\n",
    "    Returns:\n",
    "    * frame: a pandas dataframe with config hparams and metrics\n",
    "    * data: a list of dicts with data collected during runs\"\"\"\n",
    "    cfgs = []\n",
    "    rundata = []\n",
    "    metrics = []\n",
    "    sweep_metaconfigs = []\n",
    "    base_metaconfigs = []\n",
    "    for logdir in os.listdir(rundir):\n",
    "        if os.path.isdir(os.path.join(rundir, logdir)):\n",
    "            configfile, datafile, metricfile = [rundir + logdir + f for f in [\"/config.json\", \"/rundata.json\", \"/metrics.json\"]]\n",
    "            with open(configfile, \"r\") as f:\n",
    "                cfgs.append(json.load(f))\n",
    "            try:\n",
    "                with open(datafile, \"r\") as f:\n",
    "                    rundata.append(json.load(f))\n",
    "                with open(metricfile, \"r\") as f:\n",
    "                    metrics.append(json.load(f))\n",
    "            except FileNotFoundError:\n",
    "                warnings.warn(f\"No config / data files in {logdir}.\")\n",
    "        else:\n",
    "            with open(rundir + logdir, \"r\") as f:\n",
    "                base, sweep_config = json.load(f)\n",
    "                sweep_metaconfigs.append(sweep_config)\n",
    "                base_metaconfigs.append(base)\n",
    "     \n",
    "    # process data\n",
    "    cfgs_flat = [utils.flatten_dict(c) for c in cfgs]\n",
    "    for c in cfgs_flat:\n",
    "        if len(c[\"optimizer_svgd_args\"]) == 1:\n",
    "            c[\"optimizer_svgd_args\"] = onp.squeeze(c[\"optimizer_svgd_args\"])\n",
    "        if len(c[\"optimizer_ksd_args\"]) == 1:\n",
    "            c[\"optimizer_ksd_args\"] = onp.squeeze(c[\"optimizer_ksd_args\"])\n",
    "    \n",
    "    \n",
    "    configs_df = pd.DataFrame(cfgs_flat)\n",
    "    configs_df.rename(columns={\"optimizer_svgd_args\": \"lr svgd\", \"optimizer_ksd_args\": \"lr ksd\"}, inplace=True)\n",
    "    \n",
    "    metrics_df = pd.DataFrame(metrics)\n",
    "    all_df = pd.concat([metrics_df, configs_df], axis=1)\n",
    "    all_df[\"layers\"] = all_df.layers.astype('str').astype('category')\n",
    "    all_df[\"architecture\"] = all_df.architecture.astype('str').astype('category')\n",
    "    \n",
    "    if all_df.isnull().values.any():\n",
    "        rows_with_nans = all_df.shape[0] - all_df.dropna().shape[0]\n",
    "        warnings.warn(f\"Detected NaNs in dataframe. {rows_with_nans} / {all_df.shape[0]} rows include at least one NaN. Dropping all rows with NaNs.\")\n",
    "        all_df = all_df.dropna()\n",
    "\n",
    "    return all_df, rundata, cfgs, sweep_metaconfigs, base_metaconfigs"
   ]
  },
  {
   "cell_type": "code",
   "execution_count": 4,
   "metadata": {},
   "outputs": [],
   "source": [
    "# rundir = \"../runs/four-dim/\"\n",
    "rundir = basedir + \"runs/test-eval/\"\n",
    "frame, rundata, configs, sweep_metaconfigs, base_metaconfigs = get_data(rundir)\n",
    "relevant = [\"ksd\", \"emd\", \"sinkhorn_divergence\"] + [\"lr ksd\", \"svgd_steps\", \"architecture\", \"layers\", \"ksd_steps\"]\n",
    "f = frame[relevant]\n",
    "# f"
   ]
  },
  {
   "cell_type": "code",
   "execution_count": 5,
   "metadata": {},
   "outputs": [
    {
     "data": {
      "text/html": [
       "<div>\n",
       "<style scoped>\n",
       "    .dataframe tbody tr th:only-of-type {\n",
       "        vertical-align: middle;\n",
       "    }\n",
       "\n",
       "    .dataframe tbody tr th {\n",
       "        vertical-align: top;\n",
       "    }\n",
       "\n",
       "    .dataframe thead th {\n",
       "        text-align: right;\n",
       "    }\n",
       "</style>\n",
       "<table border=\"1\" class=\"dataframe\">\n",
       "  <thead>\n",
       "    <tr style=\"text-align: right;\">\n",
       "      <th></th>\n",
       "      <th>ksd</th>\n",
       "      <th>emd</th>\n",
       "      <th>sinkhorn_divergence</th>\n",
       "      <th>lr ksd</th>\n",
       "      <th>svgd_steps</th>\n",
       "      <th>architecture</th>\n",
       "      <th>layers</th>\n",
       "      <th>ksd_steps</th>\n",
       "    </tr>\n",
       "  </thead>\n",
       "  <tbody>\n",
       "    <tr>\n",
       "      <th>0</th>\n",
       "      <td>274.063647</td>\n",
       "      <td>17.590226</td>\n",
       "      <td>309.433619</td>\n",
       "      <td>0.1</td>\n",
       "      <td>1</td>\n",
       "      <td>MLP</td>\n",
       "      <td>[32, 32, 32, 2]</td>\n",
       "      <td>1</td>\n",
       "    </tr>\n",
       "    <tr>\n",
       "      <th>1</th>\n",
       "      <td>233.723850</td>\n",
       "      <td>17.454214</td>\n",
       "      <td>304.662151</td>\n",
       "      <td>0.001</td>\n",
       "      <td>1</td>\n",
       "      <td>Vanilla</td>\n",
       "      <td>[32, 32, 32, 2]</td>\n",
       "      <td>1</td>\n",
       "    </tr>\n",
       "    <tr>\n",
       "      <th>2</th>\n",
       "      <td>269.938762</td>\n",
       "      <td>17.675720</td>\n",
       "      <td>312.465914</td>\n",
       "      <td>0.01</td>\n",
       "      <td>1</td>\n",
       "      <td>MLP</td>\n",
       "      <td>[32, 32, 32, 2]</td>\n",
       "      <td>1</td>\n",
       "    </tr>\n",
       "    <tr>\n",
       "      <th>3</th>\n",
       "      <td>231.515452</td>\n",
       "      <td>17.523217</td>\n",
       "      <td>307.072716</td>\n",
       "      <td>0.1</td>\n",
       "      <td>1</td>\n",
       "      <td>Vanilla</td>\n",
       "      <td>[32, 32, 32, 2]</td>\n",
       "      <td>1</td>\n",
       "    </tr>\n",
       "    <tr>\n",
       "      <th>4</th>\n",
       "      <td>233.494401</td>\n",
       "      <td>17.556293</td>\n",
       "      <td>308.240974</td>\n",
       "      <td>0.01</td>\n",
       "      <td>1</td>\n",
       "      <td>Vanilla</td>\n",
       "      <td>[32, 32, 32, 2]</td>\n",
       "      <td>1</td>\n",
       "    </tr>\n",
       "    <tr>\n",
       "      <th>5</th>\n",
       "      <td>225.633447</td>\n",
       "      <td>17.488249</td>\n",
       "      <td>305.855826</td>\n",
       "      <td>0.001</td>\n",
       "      <td>1</td>\n",
       "      <td>MLP</td>\n",
       "      <td>[32, 32, 32, 2]</td>\n",
       "      <td>1</td>\n",
       "    </tr>\n",
       "  </tbody>\n",
       "</table>\n",
       "</div>"
      ],
      "text/plain": [
       "          ksd        emd  sinkhorn_divergence lr ksd  svgd_steps architecture  \\\n",
       "0  274.063647  17.590226           309.433619    0.1           1          MLP   \n",
       "1  233.723850  17.454214           304.662151  0.001           1      Vanilla   \n",
       "2  269.938762  17.675720           312.465914   0.01           1          MLP   \n",
       "3  231.515452  17.523217           307.072716    0.1           1      Vanilla   \n",
       "4  233.494401  17.556293           308.240974   0.01           1      Vanilla   \n",
       "5  225.633447  17.488249           305.855826  0.001           1          MLP   \n",
       "\n",
       "            layers  ksd_steps  \n",
       "0  [32, 32, 32, 2]          1  \n",
       "1  [32, 32, 32, 2]          1  \n",
       "2  [32, 32, 32, 2]          1  \n",
       "3  [32, 32, 32, 2]          1  \n",
       "4  [32, 32, 32, 2]          1  \n",
       "5  [32, 32, 32, 2]          1  "
      ]
     },
     "execution_count": 5,
     "metadata": {},
     "output_type": "execute_result"
    }
   ],
   "source": [
    "f"
   ]
  },
  {
   "cell_type": "markdown",
   "metadata": {},
   "source": [
    "# Hyperparameter comparison"
   ]
  },
  {
   "cell_type": "code",
   "execution_count": 7,
   "metadata": {},
   "outputs": [
    {
     "data": {
      "text/plain": [
       "<matplotlib.collections.PathCollection at 0x7f96e003caf0>"
      ]
     },
     "execution_count": 7,
     "metadata": {},
     "output_type": "execute_result"
    },
    {
     "data": {
      "image/png": "[encoded data removed]",
      "text/plain": [
       "<Figure size 432x288 with 1 Axes>"
      ]
     },
     "metadata": {
      "needs_background": "light"
     },
     "output_type": "display_data"
    }
   ],
   "source": [
    "plt.scatter(f.architecture, f.emd)"
   ]
  },
  {
   "cell_type": "markdown",
   "metadata": {},
   "source": [
    "# Rundata"
   ]
  },
  {
   "cell_type": "code",
   "execution_count": 10,
   "metadata": {},
   "outputs": [
    {
     "data": {
      "text/plain": [
       "odict_keys(['Interrupted because of NaN', 'ksd', 'ksd_after_kernel_update', 'mean', 'particles', 'square_errors', 'var'])"
      ]
     },
     "execution_count": 10,
     "metadata": {},
     "output_type": "execute_result"
    }
   ],
   "source": [
    "rundata[0].keys()"
   ]
  },
  {
   "cell_type": "code",
   "execution_count": 37,
   "metadata": {},
   "outputs": [
    {
     "data": {
      "image/png": "[encoded data removed]",
      "text/plain": [
       "<Figure size 432x288 with 1 Axes>"
      ]
     },
     "metadata": {
      "needs_background": "light"
     },
     "output_type": "display_data"
    }
   ],
   "source": [
    "ind = 5\n",
    "mean = onp.array(rundata[ind][\"mean\"])\n",
    "_ = plt.plot(mean)"
   ]
  },
  {
   "cell_type": "code",
   "execution_count": 38,
   "metadata": {},
   "outputs": [
    {
     "data": {
      "image/png": "[encoded data removed]",
      "text/plain": [
       "<Figure size 432x288 with 1 Axes>"
      ]
     },
     "metadata": {
      "needs_background": "light"
     },
     "output_type": "display_data"
    }
   ],
   "source": [
    "mean = onp.array(rundata[index][\"var\"])\n",
    "_ = plt.plot(mean)"
   ]
  },
  {
   "cell_type": "code",
   "execution_count": 25,
   "metadata": {},
   "outputs": [],
   "source": [
    "# rundata[ind][\"square_errors\"]"
   ]
  },
  {
   "cell_type": "markdown",
   "metadata": {},
   "source": [
    "### KSD"
   ]
  },
  {
   "cell_type": "code",
   "execution_count": 44,
   "metadata": {},
   "outputs": [],
   "source": [
    "ind = 1"
   ]
  },
  {
   "cell_type": "code",
   "execution_count": 45,
   "metadata": {},
   "outputs": [
    {
     "data": {
      "text/plain": [
       "<matplotlib.legend.Legend at 0x7f96643ba1c0>"
      ]
     },
     "execution_count": 45,
     "metadata": {},
     "output_type": "execute_result"
    },
    {
     "data": {
      "image/png": "[encoded data removed]",
      "text/plain": [
       "<Figure size 432x288 with 1 Axes>"
      ]
     },
     "metadata": {
      "needs_background": "light"
     },
     "output_type": "display_data"
    }
   ],
   "source": [
    "fig, ax = plt.subplots()\n",
    "idx = onp.arange(5)\n",
    "ax.plot(idx, onp.array(rundata[ind][\"ksd\"]), \"o\", label=\"KSD after kernel update\")\n",
    "ax.plot(idx + 0.5, onp.array(rundata[ind][\"ksd_after_kernel_update\"]), \"o\", label=\"KSD after svgd update\")\n",
    "plt.legend()"
   ]
  },
  {
   "cell_type": "code",
   "execution_count": 43,
   "metadata": {},
   "outputs": [
    {
     "data": {
      "text/html": [
       "<div>\n",
       "<style scoped>\n",
       "    .dataframe tbody tr th:only-of-type {\n",
       "        vertical-align: middle;\n",
       "    }\n",
       "\n",
       "    .dataframe tbody tr th {\n",
       "        vertical-align: top;\n",
       "    }\n",
       "\n",
       "    .dataframe thead th {\n",
       "        text-align: right;\n",
       "    }\n",
       "</style>\n",
       "<table border=\"1\" class=\"dataframe\">\n",
       "  <thead>\n",
       "    <tr style=\"text-align: right;\">\n",
       "      <th></th>\n",
       "      <th>ksd</th>\n",
       "      <th>emd</th>\n",
       "      <th>sinkhorn_divergence</th>\n",
       "      <th>lr ksd</th>\n",
       "      <th>svgd_steps</th>\n",
       "      <th>architecture</th>\n",
       "      <th>layers</th>\n",
       "      <th>ksd_steps</th>\n",
       "    </tr>\n",
       "  </thead>\n",
       "  <tbody>\n",
       "    <tr>\n",
       "      <th>0</th>\n",
       "      <td>274.063647</td>\n",
       "      <td>17.590226</td>\n",
       "      <td>309.433619</td>\n",
       "      <td>0.1</td>\n",
       "      <td>1</td>\n",
       "      <td>MLP</td>\n",
       "      <td>[32, 32, 32, 2]</td>\n",
       "      <td>1</td>\n",
       "    </tr>\n",
       "    <tr>\n",
       "      <th>1</th>\n",
       "      <td>233.723850</td>\n",
       "      <td>17.454214</td>\n",
       "      <td>304.662151</td>\n",
       "      <td>0.001</td>\n",
       "      <td>1</td>\n",
       "      <td>Vanilla</td>\n",
       "      <td>[32, 32, 32, 2]</td>\n",
       "      <td>1</td>\n",
       "    </tr>\n",
       "    <tr>\n",
       "      <th>2</th>\n",
       "      <td>269.938762</td>\n",
       "      <td>17.675720</td>\n",
       "      <td>312.465914</td>\n",
       "      <td>0.01</td>\n",
       "      <td>1</td>\n",
       "      <td>MLP</td>\n",
       "      <td>[32, 32, 32, 2]</td>\n",
       "      <td>1</td>\n",
       "    </tr>\n",
       "    <tr>\n",
       "      <th>3</th>\n",
       "      <td>231.515452</td>\n",
       "      <td>17.523217</td>\n",
       "      <td>307.072716</td>\n",
       "      <td>0.1</td>\n",
       "      <td>1</td>\n",
       "      <td>Vanilla</td>\n",
       "      <td>[32, 32, 32, 2]</td>\n",
       "      <td>1</td>\n",
       "    </tr>\n",
       "    <tr>\n",
       "      <th>4</th>\n",
       "      <td>233.494401</td>\n",
       "      <td>17.556293</td>\n",
       "      <td>308.240974</td>\n",
       "      <td>0.01</td>\n",
       "      <td>1</td>\n",
       "      <td>Vanilla</td>\n",
       "      <td>[32, 32, 32, 2]</td>\n",
       "      <td>1</td>\n",
       "    </tr>\n",
       "    <tr>\n",
       "      <th>5</th>\n",
       "      <td>225.633447</td>\n",
       "      <td>17.488249</td>\n",
       "      <td>305.855826</td>\n",
       "      <td>0.001</td>\n",
       "      <td>1</td>\n",
       "      <td>MLP</td>\n",
       "      <td>[32, 32, 32, 2]</td>\n",
       "      <td>1</td>\n",
       "    </tr>\n",
       "  </tbody>\n",
       "</table>\n",
       "</div>"
      ],
      "text/plain": [
       "          ksd        emd  sinkhorn_divergence lr ksd  svgd_steps architecture  \\\n",
       "0  274.063647  17.590226           309.433619    0.1           1          MLP   \n",
       "1  233.723850  17.454214           304.662151  0.001           1      Vanilla   \n",
       "2  269.938762  17.675720           312.465914   0.01           1          MLP   \n",
       "3  231.515452  17.523217           307.072716    0.1           1      Vanilla   \n",
       "4  233.494401  17.556293           308.240974   0.01           1      Vanilla   \n",
       "5  225.633447  17.488249           305.855826  0.001           1          MLP   \n",
       "\n",
       "            layers  ksd_steps  \n",
       "0  [32, 32, 32, 2]          1  \n",
       "1  [32, 32, 32, 2]          1  \n",
       "2  [32, 32, 32, 2]          1  \n",
       "3  [32, 32, 32, 2]          1  \n",
       "4  [32, 32, 32, 2]          1  \n",
       "5  [32, 32, 32, 2]          1  "
      ]
     },
     "execution_count": 43,
     "metadata": {},
     "output_type": "execute_result"
    }
   ],
   "source": [
    "f"
   ]
  },
  {
   "cell_type": "code",
   "execution_count": null,
   "metadata": {},
   "outputs": [],
   "source": []
  }
 ],
 "metadata": {
  "kernelspec": {
   "display_name": "msc-thesis",
   "language": "python",
   "name": "msc-thesis"
  },
  "language_info": {
   "codemirror_mode": {
    "name": "ipython",
    "version": 3
   },
   "file_extension": ".py",
   "mimetype": "text/x-python",
   "name": "python",
   "nbconvert_exporter": "python",
   "pygments_lexer": "ipython3",
   "version": "3.8.2"
  }
 },
 "nbformat": 4,
 "nbformat_minor": 4
}
