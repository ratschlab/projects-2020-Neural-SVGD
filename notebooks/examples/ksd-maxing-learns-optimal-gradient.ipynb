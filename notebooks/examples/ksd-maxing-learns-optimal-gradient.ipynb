{
 "cells": [
  {
   "cell_type": "markdown",
   "metadata": {},
   "source": [
    "# Optimizing the KSD"
   ]
  },
  {
   "cell_type": "code",
   "execution_count": 1,
   "metadata": {},
   "outputs": [
    {
     "name": "stderr",
     "output_type": "stream",
     "text": [
      "/home/lauro/.virtualenvs/msc-thesis/lib/python3.8/site-packages/jax/lib/xla_bridge.py:125: UserWarning: No GPU/TPU found, falling back to CPU.\n",
      "  warnings.warn('No GPU/TPU found, falling back to CPU.')\n"
     ]
    }
   ],
   "source": [
    "from jax import config\n",
    "config.update(\"jax_debug_nans\", True)\n",
    "# config.update(\"jax_disable_jit\", True)\n",
    "\n",
    "import sys\n",
    "import os\n",
    "sys.path.append(\"../../learning_particle_gradients/\")\n",
    "import json_tricks as json\n",
    "import copy\n",
    "from functools import partial\n",
    "\n",
    "from tqdm import tqdm\n",
    "import jax.numpy as np\n",
    "from jax import grad, jit, vmap, random, lax, jacfwd, value_and_grad\n",
    "from jax import lax\n",
    "from jax.ops import index_update, index\n",
    "import matplotlib.pyplot as plt\n",
    "import numpy as onp\n",
    "import jax\n",
    "import pandas as pd\n",
    "import haiku as hk\n",
    "from jax.experimental import optimizers\n",
    "\n",
    "import config\n",
    "\n",
    "import utils\n",
    "import metrics\n",
    "import time\n",
    "import plot\n",
    "import stein\n",
    "import kernels\n",
    "import distributions\n",
    "import nets\n",
    "import kernel_learning\n",
    "\n",
    "from jax.experimental import optimizers\n",
    "\n",
    "key = random.PRNGKey(0)"
   ]
  },
  {
   "cell_type": "code",
   "execution_count": 2,
   "metadata": {},
   "outputs": [
    {
     "data": {
      "image/png": "[encoded data removed]",
      "text/plain": [
       "<Figure size 432x288 with 1 Axes>"
      ]
     },
     "metadata": {
      "needs_background": "light"
     },
     "output_type": "display_data"
    }
   ],
   "source": [
    "proposal = distributions.Gaussian(0, 5)\n",
    "target = distributions.GaussianMixture([-3, 0, 3], [1, 0.05, 1], [1,1,1])\n",
    "sizes = [1]\n",
    "# sizes = [8, 8, 8, 8]\n",
    "\n",
    "plot.plot_fun(proposal.pdf)\n",
    "plot.plot_fun(target.pdf, label=\"Target\")"
   ]
  },
  {
   "cell_type": "markdown",
   "metadata": {},
   "source": [
    "# Train"
   ]
  },
  {
   "cell_type": "code",
   "execution_count": 3,
   "metadata": {},
   "outputs": [],
   "source": [
    "learning_rate = 0.1\n",
    "learner = kernel_learning.KernelLearner(key, \n",
    "                                        target, \n",
    "                                        sizes,\n",
    "                                        kernels.get_rbf_kernel(1, dim=sizes[-1]),\n",
    "                                        learning_rate,\n",
    "                                        lambda_reg=0,\n",
    "                                        scaling_parameter=False)"
   ]
  },
  {
   "cell_type": "code",
   "execution_count": 4,
   "metadata": {},
   "outputs": [
    {
     "name": "stdout",
     "output_type": "stream",
     "text": [
      "Training kernel to optimize KSD...\n"
     ]
    },
    {
     "name": "stderr",
     "output_type": "stream",
     "text": [
      "100%|██████████| 100/100 [00:03<00:00, 32.85it/s]\n"
     ]
    }
   ],
   "source": [
    "print(\"Training kernel to optimize KSD...\")\n",
    "sample = proposal.sample(400)\n",
    "learner.train(sample, n_steps=100)"
   ]
  },
  {
   "cell_type": "code",
   "execution_count": 5,
   "metadata": {},
   "outputs": [],
   "source": [
    "samples = proposal.sample(500)\n",
    "phistar = learner.get_phistar(learner.get_params(), samples)\n",
    "def optimal_phistar(x):\n",
    "    return grad(lambda x: target.logpdf(x) - proposal.logpdf(x))(x)\n",
    "phistar_rbf = stein.get_phistar(kernels.get_rbf_kernel(1), target.logpdf, samples)"
   ]
  },
  {
   "cell_type": "code",
   "execution_count": null,
   "metadata": {},
   "outputs": [
    {
     "data": {
      "text/plain": [
       "<matplotlib.legend.Legend at 0x7f6a0440a730>"
      ]
     },
     "execution_count": 12,
     "metadata": {},
     "output_type": "execute_result"
    }
   ],
   "source": [
    "# plot the stein gradient\n",
    "grid_n = 100\n",
    "grid = np.linspace(-5, 5, grid_n).reshape(grid_n, 1)\n",
    "fig, ax = plt.subplots(figsize=[7,7])\n",
    "plt.plot(grid, vmap(optimal_phistar)(grid), label=\"KL gradient \\\\nabla logp/logq\")\n",
    "plt.plot(grid, vmap(phistar)(grid)*15, label=\"learned_phistar (scaled)\")\n",
    "# plt.plot(grid, vmap(phistar_rbf)(grid), label=\"rbf phistar\")\n",
    "\n",
    "plt.legend()"
   ]
  },
  {
   "cell_type": "code",
   "execution_count": 8,
   "metadata": {},
   "outputs": [
    {
     "data": {
      "text/plain": [
       "[<matplotlib.lines.Line2D at 0x7f6a6a01cc70>]"
      ]
     },
     "execution_count": 8,
     "metadata": {},
     "output_type": "execute_result"
    },
    {
     "data": {
      "image/png": "[encoded data removed]",
      "text/plain": [
       "<Figure size 432x288 with 1 Axes>"
      ]
     },
     "metadata": {
      "needs_background": "light"
     },
     "output_type": "display_data"
    }
   ],
   "source": [
    "plt.plot(learner.rundata[\"training_ksd\"])"
   ]
  },
  {
   "cell_type": "markdown",
   "metadata": {},
   "source": [
    "## plot learned kernel"
   ]
  },
  {
   "cell_type": "code",
   "execution_count": 9,
   "metadata": {},
   "outputs": [
    {
     "data": {
      "text/plain": [
       "DeviceArray(0.01611619, dtype=float32)"
      ]
     },
     "execution_count": 9,
     "metadata": {},
     "output_type": "execute_result"
    }
   ],
   "source": [
    "params = learner.opt.get_params(learner.optimizer_state)\n",
    "learned_kernel = learner.get_kernel(params)\n",
    "\n",
    "s = proposal.sample(100)\n",
    "learned_kernel(s[4], s[10])"
   ]
  },
  {
   "cell_type": "code",
   "execution_count": 11,
   "metadata": {},
   "outputs": [
    {
     "data": {
      "image/png": "[encoded data removed]",
      "text/plain": [
       "<Figure size 432x288 with 1 Axes>"
      ]
     },
     "metadata": {
      "needs_background": "light"
     },
     "output_type": "display_data"
    }
   ],
   "source": [
    "if proposal.d == 1:\n",
    "    ngrid = 10**4\n",
    "    grid = np.linspace(-4, 10, ngrid).reshape(ngrid,1)\n",
    "    x = np.array([0.])\n",
    "    plt.plot(grid, vmap(learned_kernel, (0, None))(grid, x), label=\"Learned\", color=\"r\")\n",
    "    plt.plot(grid, vmap(kernels.get_rbf_kernel(1),  (0, None))(grid, x), label=\"RBF\", color=\"b\")\n",
    "    x = np.array([4.])\n",
    "    plt.plot(grid, vmap(learned_kernel, (0, None))(grid, x), color=\"r\")\n",
    "    plt.plot(grid, vmap(kernels.get_rbf_kernel(1),  (0, None))(grid, x), color=\"b\")\n",
    "\n",
    "    plt.legend()\n",
    "elif proposal.d == 2:\n",
    "    fig, ax = plt.subplots(figsize=[7,7])\n",
    "    x = np.array([0, 0])\n",
    "    def kernfunx(x_): return learned_kernel(x, x_)\n",
    "#     def rbfx(x_): return kernels.get_rbf_kernel(1)(x, x_)\n",
    "    plot.plot_pdf_2d(kernfunx, lims=(-10, 10), label=\"Learned Kernel\", ax=ax)\n",
    "#     plot.plot_pdf_2d(rbfx, lims=(-10, 10), label=\"RBF\", ax=ax)"
   ]
  }
 ],
 "metadata": {
  "kernelspec": {
   "display_name": "msc-thesis",
   "language": "python",
   "name": "msc-thesis"
  },
  "language_info": {
   "codemirror_mode": {
    "name": "ipython",
    "version": 3
   },
   "file_extension": ".py",
   "mimetype": "text/x-python",
   "name": "python",
   "nbconvert_exporter": "python",
   "pygments_lexer": "ipython3",
   "version": "3.8.2"
  }
 },
 "nbformat": 4,
 "nbformat_minor": 4
}
