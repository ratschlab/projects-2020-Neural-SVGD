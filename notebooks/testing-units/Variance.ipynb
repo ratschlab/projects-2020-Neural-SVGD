{
 "cells": [
  {
   "cell_type": "code",
   "execution_count": 1,
   "metadata": {},
   "outputs": [
    {
     "name": "stderr",
     "output_type": "stream",
     "text": [
      "/home/lauro/.virtualenvs/msc-thesis/lib/python3.8/site-packages/jax/lib/xla_bridge.py:125: UserWarning: No GPU/TPU found, falling back to CPU.\n",
      "  warnings.warn('No GPU/TPU found, falling back to CPU.')\n"
     ]
    }
   ],
   "source": [
    "import sys\n",
    "import copy\n",
    "import os\n",
    "sys.path.append(\"/home/lauro/code/msc-thesis/svgd\")\n",
    "import json\n",
    "import collections\n",
    "import itertools\n",
    "from functools import partial\n",
    "import importlib\n",
    "\n",
    "import numpy as onp\n",
    "from jax.config import config\n",
    "config.update(\"jax_debug_nans\", True)\n",
    "# config.update(\"jax_enable_x64\", True)\n",
    "\n",
    "import jax.numpy as np\n",
    "from jax import grad, jit, vmap, random, lax, jacfwd, value_and_grad\n",
    "from jax import lax\n",
    "from jax.ops import index_update, index\n",
    "import matplotlib.pyplot as plt\n",
    "\n",
    "import numpy as onp\n",
    "import jax\n",
    "import pandas as pd\n",
    "import haiku as hk\n",
    "import ot\n",
    "\n",
    "import config\n",
    "\n",
    "import utils\n",
    "import metrics\n",
    "import time\n",
    "import plot\n",
    "from svgd import SVGD\n",
    "import stein\n",
    "import kernels\n",
    "\n",
    "from jax.experimental import optimizers\n",
    "\n",
    "key = random.PRNGKey(0)\n",
    "\n",
    "from jax.scipy.stats import norm"
   ]
  },
  {
   "cell_type": "markdown",
   "metadata": {},
   "source": [
    "# Variance estimators"
   ]
  },
  {
   "cell_type": "code",
   "execution_count": 2,
   "metadata": {},
   "outputs": [],
   "source": [
    "def var_exp(gram):\n",
    "    \"\"\"\n",
    "    Estimator for $Var_Y(E_X[h(X, Y)])$, where h is a kernel function.\n",
    "    For background, see this technical report: https://arxiv.org/pdf/1906.02104.pdf\n",
    "    \n",
    "    Args\n",
    "        gram: Gram matrix $G_{ij} = h(x_i, x_j)$. Has shape (n, n)\n",
    "        \n",
    "    \"\"\"\n",
    "    if gram.shape[0] != gram.shape[1] or gram.ndim != 2:\n",
    "        raise ValueError(f\"Gram matrix must have shape (n, n). Instead received shape {gram.shape}.\")\n",
    "        \n",
    "    n = gram.shape[0]\n",
    "    diagonal_indices = [list(range(n))]*2\n",
    "    gramzero = index_update(gram, diagonal_indices, 0)\n",
    "    return (np.linalg.norm(np.dot(gramzero, np.ones(n)))**2 - np.linalg.norm(gramzero)**2) / (n * (n-1) * (n-2))\n",
    "\n",
    "\n",
    "def var_hxy(gram):\n",
    "    \"\"\"\n",
    "    Estimator for $Var_{XY}(h(X, Y))$, where h is a symmetric function.\n",
    "    For background, see this technical report: https://arxiv.org/pdf/1906.02104.pdf\n",
    "    \n",
    "    Args\n",
    "        gram: Gram matrix $G_{ij} = h(x_i, x_j)$. Has shape (n, n)\n",
    "        \n",
    "    \"\"\"\n",
    "    if gram.shape[0] != gram.shape[1] or gram.ndim != 2:\n",
    "        raise ValueError(f\"Gram matrix must have shape (n, n). Instead received shape {gram.shape}.\")\n",
    "        \n",
    "    n = gram.shape[0]\n",
    "    diagonal_indices = [list(range(n))]*2\n",
    "    gramzero = index_update(gram, diagonal_indices, 0)\n",
    "    \n",
    "    ones = np.ones(n)\n",
    "    mean_of_square = np.linalg.norm(gramzero)**2 / (n * (n-1))\n",
    "    mean_squared = (np.dot(np.dot(ones, gramzero), ones)**2 - 4*np.linalg.norm(np.dot(gramzero, ones))**2 + 2*np.linalg.norm(gramzero)**2) / (n*(n-1)*(n-2)*(n-3)) \n",
    "    return mean_of_square - mean_squared\n",
    "\n",
    "def var_ksd(xs, logp: callable, k: callable):\n",
    "    \"\"\"\n",
    "    Estimator for $Var_{XY} \\hat KSD$, where \\hat KSD is a U-estimator for the \n",
    "    kernelized Stein discrepancy with kernel k.\n",
    "    For background, see this technical report: https://arxiv.org/pdf/1906.02104.pdf\n",
    "    \n",
    "    Args\n",
    "        xs: random samples from q\n",
    "        logp: computes log(p(x))\n",
    "        k: computes positive definite symmetric kernel k(x, y)\n",
    "    \"\"\"\n",
    "    def h(x, y):\n",
    "        def h2(x_, y_): return np.inner(grad(logp)(y_), grad(k, argnums=0)(x_, y_))\n",
    "        def d_xk(x_, y_): return grad(k, argnums=0)(x_, y_)\n",
    "        out = np.inner(grad(logp)(x), grad(logp)(y)) * k(x,y) +\\\n",
    "                h2(x, y) + h2(y, x) +\\\n",
    "                np.trace(jacfwd(d_xk, argnums=1)(x, y))\n",
    "        return out\n",
    "    \n",
    "    gram = vmap(vmap(h, (0, None)), (None, 0))(xs, xs)\n",
    "    n = xs.shape[0]\n",
    "    return 4*(n-2) / (n * (n-1)) * var_exp(gram) + 2/(n*(n-1)) * var_hxy(gram)"
   ]
  },
  {
   "cell_type": "code",
   "execution_count": null,
   "metadata": {},
   "outputs": [],
   "source": [
    "def covhh(gram):\n",
    "    \"\"\"\n",
    "    Estimator for $Cov(h2(X, Y), h2(X, Y))$, where \\hat KSD is a U-estimator for the \n",
    "    kernelized Stein discrepancy with kernel k.\n",
    "    For background, see this technical report: https://arxiv.org/pdf/1906.02104.pdf\n",
    "    \n",
    "    Args\n",
    "        xs: random samples from q\n",
    "        logp: computes log(p(x))\n",
    "        k: computes positive definite symmetric kernel k(x, y)\n",
    "    \"\"\"\n",
    "    "
   ]
  },
  {
   "cell_type": "markdown",
   "metadata": {},
   "source": [
    "## test individual functions"
   ]
  },
  {
   "cell_type": "markdown",
   "metadata": {},
   "source": [
    "### `var_exp`\n",
    "recall: this is an estimate of\n",
    "$$\\text{Var}_X(\\text{E}_Y[h(X, Y)])$$"
   ]
  },
  {
   "cell_type": "code",
   "execution_count": 3,
   "metadata": {},
   "outputs": [],
   "source": [
    "source = metrics.Gaussian(0, 5)"
   ]
  },
  {
   "cell_type": "code",
   "execution_count": 28,
   "metadata": {},
   "outputs": [],
   "source": [
    "xs = source.sample(1000)\n",
    "def h(x, y): return np.squeeze(x+y)\n",
    "gram = vmap(vmap(h, (0, None)), (None, 0))(xs, xs)"
   ]
  },
  {
   "cell_type": "markdown",
   "metadata": {},
   "source": [
    "Variance should be variance of source"
   ]
  },
  {
   "cell_type": "code",
   "execution_count": 29,
   "metadata": {},
   "outputs": [
    {
     "data": {
      "text/plain": [
       "DeviceArray(5.0452375, dtype=float32)"
      ]
     },
     "execution_count": 29,
     "metadata": {},
     "output_type": "execute_result"
    }
   ],
   "source": [
    "var_exp(gram)"
   ]
  },
  {
   "cell_type": "markdown",
   "metadata": {},
   "source": [
    "### `var_hxy`"
   ]
  },
  {
   "cell_type": "markdown",
   "metadata": {},
   "source": [
    "recall: this is an estimate of\n",
    "$$ \\text{Var}_{XY}(h(X, Y))$$"
   ]
  },
  {
   "cell_type": "code",
   "execution_count": 18,
   "metadata": {},
   "outputs": [],
   "source": [
    "source = metrics.Gaussian(0, 5)"
   ]
  },
  {
   "cell_type": "code",
   "execution_count": 26,
   "metadata": {},
   "outputs": [],
   "source": [
    "xs = source.sample(1000)\n",
    "def h(x, y): return np.squeeze(x+y)\n",
    "gram = vmap(vmap(h, (0, None)), (None, 0))(xs, xs)"
   ]
  },
  {
   "cell_type": "markdown",
   "metadata": {},
   "source": [
    "Variance should be twice the variance of source"
   ]
  },
  {
   "cell_type": "code",
   "execution_count": 27,
   "metadata": {},
   "outputs": [
    {
     "data": {
      "text/plain": [
       "DeviceArray(10.4439535, dtype=float32)"
      ]
     },
     "execution_count": 27,
     "metadata": {},
     "output_type": "execute_result"
    }
   ],
   "source": [
    "var_hxy(gram)"
   ]
  },
  {
   "cell_type": "markdown",
   "metadata": {},
   "source": [
    "### h"
   ]
  },
  {
   "cell_type": "code",
   "execution_count": 6,
   "metadata": {},
   "outputs": [],
   "source": [
    "target = metrics.Gaussian(0, 1)\n",
    "source = metrics.Gaussian(0, 1)\n",
    "k = kernels.ard(logh=0)\n",
    "logp = target.logpdf\n",
    "def h(x, y):\n",
    "    def h2(x_, y_): return np.inner(grad(logp)(y_), grad(k, argnums=0)(x_, y_))\n",
    "    def d_xk(x_, y_): return grad(k, argnums=0)(x_, y_)\n",
    "    out = np.inner(grad(logp)(x), grad(logp)(y)) * k(x,y) +\\\n",
    "            h2(x, y) + h2(y, x) +\\\n",
    "            np.trace(jacfwd(d_xk, argnums=1)(x, y))\n",
    "    return out"
   ]
  },
  {
   "cell_type": "code",
   "execution_count": 7,
   "metadata": {},
   "outputs": [],
   "source": [
    "x, y = source.sample(2)"
   ]
  },
  {
   "cell_type": "code",
   "execution_count": 8,
   "metadata": {},
   "outputs": [],
   "source": [
    "def g(x, y):\n",
    "    \"\"\"x, y: np.arrays of shape (d,)\"\"\"\n",
    "    def inner(x):\n",
    "        kx = lambda y_: k(x, y_)\n",
    "        return stein.stein_operator(kx, y, logp)\n",
    "    return stein.stein_operator(inner, x, logp, transposed=True)"
   ]
  },
  {
   "cell_type": "code",
   "execution_count": 9,
   "metadata": {},
   "outputs": [
    {
     "data": {
      "text/plain": [
       "DeviceArray(-0.10658365, dtype=float32)"
      ]
     },
     "execution_count": 9,
     "metadata": {},
     "output_type": "execute_result"
    }
   ],
   "source": [
    "g(x, y)"
   ]
  },
  {
   "cell_type": "code",
   "execution_count": 10,
   "metadata": {},
   "outputs": [
    {
     "data": {
      "text/plain": [
       "DeviceArray(-0.10658365, dtype=float32)"
      ]
     },
     "execution_count": 10,
     "metadata": {},
     "output_type": "execute_result"
    }
   ],
   "source": [
    "h(x, y)"
   ]
  },
  {
   "cell_type": "markdown",
   "metadata": {},
   "source": [
    "# Test variance of KSD estimators\n",
    "compare U-estimator with linear time estimator"
   ]
  },
  {
   "cell_type": "code",
   "execution_count": 11,
   "metadata": {},
   "outputs": [],
   "source": [
    "target = metrics.Gaussian(0, 1)\n",
    "source = metrics.Gaussian(2, 1.2)\n",
    "kernel = kernels.ard(logh=0)"
   ]
  },
  {
   "cell_type": "markdown",
   "metadata": {},
   "source": [
    "Estimate variance of KSD_U with samples"
   ]
  },
  {
   "cell_type": "code",
   "execution_count": 12,
   "metadata": {},
   "outputs": [],
   "source": [
    "def sample_ksd_u(n):\n",
    "    samples = source.sample(n)\n",
    "    ksd = stein.ksd_squared_u(samples, target.logpdf, kernel, return_variance=False)\n",
    "    return ksd\n",
    "\n",
    "def sample_ksd_variance_u(n, m):\n",
    "    return np.var(np.asarray([sample_ksd_u(n) for _ in range(m)]), ddof=1)\n",
    "\n",
    "def theory_ksd_variance_u(n):\n",
    "    samples = source.sample(n)\n",
    "    return var_ksd(samples, target.logpdf, kernel)"
   ]
  },
  {
   "cell_type": "code",
   "execution_count": 13,
   "metadata": {},
   "outputs": [
    {
     "data": {
      "text/plain": [
       "DeviceArray(0.16593878, dtype=float32)"
      ]
     },
     "execution_count": 13,
     "metadata": {},
     "output_type": "execute_result"
    }
   ],
   "source": [
    "n=100\n",
    "m=10\n",
    "sample_ksd_variance_u(n, m)"
   ]
  },
  {
   "cell_type": "code",
   "execution_count": 14,
   "metadata": {},
   "outputs": [
    {
     "data": {
      "text/plain": [
       "DeviceArray(0.37232384, dtype=float32)"
      ]
     },
     "execution_count": 14,
     "metadata": {},
     "output_type": "execute_result"
    }
   ],
   "source": [
    "samples = source.sample(n)\n",
    "var_ksd(samples, target.logpdf, kernel)"
   ]
  },
  {
   "cell_type": "code",
   "execution_count": 15,
   "metadata": {},
   "outputs": [
    {
     "name": "stdout",
     "output_type": "stream",
     "text": [
      "64\n",
      "128\n",
      "256\n",
      "512\n",
      "1024\n"
     ]
    }
   ],
   "source": [
    "m = 100\n",
    "vars_u = []\n",
    "vars_u_theory = []\n",
    "\n",
    "ngrid = 2**onp.arange(6, 11)\n",
    "\n",
    "for n in ngrid:\n",
    "    print(n)\n",
    "    vars_u.append(sample_ksd_variance_u(n, m))\n",
    "    vars_u_theory.append(theory_ksd_variance_u(n))"
   ]
  },
  {
   "cell_type": "code",
   "execution_count": 16,
   "metadata": {},
   "outputs": [
    {
     "data": {
      "text/plain": [
       "<matplotlib.legend.Legend at 0x7fdafa22f730>"
      ]
     },
     "execution_count": 16,
     "metadata": {},
     "output_type": "execute_result"
    },
    {
     "data": {
      "image/png": "[encoded data removed]",
      "text/plain": [
       "<Figure size 432x288 with 1 Axes>"
      ]
     },
     "metadata": {
      "needs_background": "light"
     },
     "output_type": "display_data"
    }
   ],
   "source": [
    "plt.plot(vars_u, \".\", label=\"sample\")\n",
    "plt.plot(vars_u_theory, \".\", label=\"theory\")\n",
    "plt.yscale(\"log\")\n",
    "plt.legend()"
   ]
  },
  {
   "cell_type": "code",
   "execution_count": 17,
   "metadata": {},
   "outputs": [
    {
     "ename": "NameError",
     "evalue": "name 'slfkjlsdkj' is not defined",
     "output_type": "error",
     "traceback": [
      "\u001b[0;31m---------------------------------------------------------------------------\u001b[0m",
      "\u001b[0;31mNameError\u001b[0m                                 Traceback (most recent call last)",
      "\u001b[0;32m<ipython-input-17-275c5f3894ef>\u001b[0m in \u001b[0;36m<module>\u001b[0;34m\u001b[0m\n\u001b[0;32m----> 1\u001b[0;31m \u001b[0mslfkjlsdkj\u001b[0m\u001b[0;34m\u001b[0m\u001b[0;34m\u001b[0m\u001b[0m\n\u001b[0m",
      "\u001b[0;31mNameError\u001b[0m: name 'slfkjlsdkj' is not defined"
     ]
    }
   ],
   "source": [
    "slfkjlsdkj"
   ]
  },
  {
   "cell_type": "markdown",
   "metadata": {},
   "source": [
    "# estimate variance"
   ]
  },
  {
   "cell_type": "code",
   "execution_count": null,
   "metadata": {},
   "outputs": [],
   "source": [
    "L = 10 # linear time estimator uses L2n samples --> memory L2n, computation Ln, Var(KSD_L) = 1/Ln Var(h(X, Y))\n",
    "      # where n = nr of samples for U-estimator"
   ]
  },
  {
   "cell_type": "code",
   "execution_count": null,
   "metadata": {},
   "outputs": [],
   "source": [
    "def sample_ksd(n, source, target, mode=\"l\"):\n",
    "    if mode==\"u\":\n",
    "        samples = source.sample(n)\n",
    "        return stein.ksd_squared_u(samples, target.logpdf, kernel)\n",
    "    elif mode==\"l\":\n",
    "        samples = source.sample(2*n).split(2)\n",
    "        return stein.ksd_squared_l(*samples, target.logpdf, kernel, False)\n",
    "    else:\n",
    "        raise ValueError(\"mode must be 'u' or 'l'.\")\n",
    "\n",
    "# @partial(jit, static_argnums=range(5))\n",
    "def sample_ksd_variance(n, m, source, target, mode=\"l\"):\n",
    "    return np.var(np.asarray([sample_ksd(n, source, target, mode) for _ in range(m)]))"
   ]
  },
  {
   "cell_type": "code",
   "execution_count": null,
   "metadata": {},
   "outputs": [],
   "source": [
    "# test the variance variance\n",
    "n = 1000\n",
    "m = 2\n",
    "variances = [sample_ksd_variance(n, m, source, target, \"l\") for _ in range(100)]"
   ]
  },
  {
   "cell_type": "code",
   "execution_count": null,
   "metadata": {},
   "outputs": [],
   "source": [
    "onp.var(variances)"
   ]
  },
  {
   "cell_type": "code",
   "execution_count": null,
   "metadata": {},
   "outputs": [],
   "source": [
    "m = 100\n",
    "vars_u = []\n",
    "vars_l = []\n",
    "ngrid = 2**onp.arange(5, 15)\n",
    "\n",
    "for n in ngrid:\n",
    "    print(n)\n",
    "    vars_u.append(sample_ksd_variance(n, m, source, target, \"u\"))\n",
    "    vars_l.append(sample_ksd_variance(L*n, m, source, target, \"l\"))"
   ]
  },
  {
   "cell_type": "code",
   "execution_count": null,
   "metadata": {},
   "outputs": [],
   "source": [
    "vars_u, vars_l = [np.asarray(x) for x in (vars_u, vars_l)] \n",
    "\n",
    "if not np.all(vars_l / vars_u < 1):\n",
    "    print(\"Variance is too high!!\")"
   ]
  },
  {
   "cell_type": "code",
   "execution_count": null,
   "metadata": {},
   "outputs": [],
   "source": [
    "plt.plot(ngrid, vars_l / vars_u, \".\")\n",
    "plt.xscale(\"log\")"
   ]
  },
  {
   "cell_type": "code",
   "execution_count": null,
   "metadata": {},
   "outputs": [],
   "source": [
    "vars_l"
   ]
  },
  {
   "cell_type": "code",
   "execution_count": null,
   "metadata": {},
   "outputs": [],
   "source": [
    "vars_u"
   ]
  },
  {
   "cell_type": "code",
   "execution_count": null,
   "metadata": {},
   "outputs": [],
   "source": [
    "m = 1000000\n",
    "samples = source.sample(m).split(2)\n",
    "hvar = stein.h_var(*samples, target.logpdf, kernel)\n",
    "hvar\n",
    "\n",
    "plt.plot(ngrid, vars_u, label=\"V_U in practice\")\n",
    "# plt.hlines(hvar, xmin=0, xmax=ngrid[-1], label=\"V_U in theory\", color=\"r\")\n",
    "# plt.yscale(\"log\")\n",
    "plt.xscale(\"log\")\n",
    "plt.yscale(\"log\")\n",
    "plt.legend()"
   ]
  },
  {
   "cell_type": "code",
   "execution_count": null,
   "metadata": {},
   "outputs": [],
   "source": [
    "m = 1000000\n",
    "samples = source.sample(m).split(2)\n",
    "hvar = stein.h_var(*samples, target.logpdf, kernel)\n",
    "hvar\n",
    "\n",
    "plt.plot(ngrid, ngrid * L * vars_l, label=\"V_L in practice\")\n",
    "plt.hlines(hvar, xmin=0, xmax=ngrid[-1], label=\"V_L in theory\", color=\"r\")\n",
    "# plt.yscale(\"log\")\n",
    "plt.xscale(\"log\")\n",
    "plt.legend()"
   ]
  },
  {
   "cell_type": "code",
   "execution_count": null,
   "metadata": {},
   "outputs": [],
   "source": [
    "plt.plot(ngrid, ngrid * vars_u, \".\")\n",
    "plt.xscale(\"log\")"
   ]
  }
 ],
 "metadata": {
  "kernelspec": {
   "display_name": "msc-thesis",
   "language": "python",
   "name": "msc-thesis"
  },
  "language_info": {
   "codemirror_mode": {
    "name": "ipython",
    "version": 3
   },
   "file_extension": ".py",
   "mimetype": "text/x-python",
   "name": "python",
   "nbconvert_exporter": "python",
   "pygments_lexer": "ipython3",
   "version": "3.8.2"
  }
 },
 "nbformat": 4,
 "nbformat_minor": 4
}
