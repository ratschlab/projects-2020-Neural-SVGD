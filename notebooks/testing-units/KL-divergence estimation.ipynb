{
 "cells": [
  {
   "cell_type": "code",
   "execution_count": 1,
   "metadata": {},
   "outputs": [
    {
     "name": "stderr",
     "output_type": "stream",
     "text": [
      "/home/lauro/.virtualenvs/msc-thesis/lib/python3.8/site-packages/jax/lib/xla_bridge.py:125: UserWarning: No GPU/TPU found, falling back to CPU.\n",
      "  warnings.warn('No GPU/TPU found, falling back to CPU.')\n"
     ]
    }
   ],
   "source": [
    "import sys\n",
    "sys.path.append(\"/home/lauro/code/msc-thesis/svgd\")\n",
    "import time\n",
    "\n",
    "import jax.numpy as np\n",
    "from jax import grad, jit, vmap, random, lax, jacfwd\n",
    "from jax import lax\n",
    "from jax.ops import index_update, index\n",
    "import matplotlib.pyplot as plt\n",
    "import numpy as onp\n",
    "from tqdm import tqdm\n",
    "\n",
    "from jax.scipy.stats import norm\n",
    "\n",
    "import utils\n",
    "import metrics\n",
    "import stein\n",
    "import plot\n",
    "import kernels\n",
    "from svgd import SVGD\n",
    "\n",
    "rkey = random.PRNGKey(1)"
   ]
  },
  {
   "cell_type": "markdown",
   "metadata": {},
   "source": [
    "# KL divergence estimation"
   ]
  },
  {
   "cell_type": "markdown",
   "metadata": {},
   "source": [
    "## KL between two discrete probability vectors"
   ]
  },
  {
   "cell_type": "markdown",
   "metadata": {},
   "source": [
    "Let $X_1, \\dots, X_n$ iid as $q$ and $Y_1, \\dots, Y_n$ iid as $p$. Then an estimator for $\\text{KL}(q \\ \\Vert \\ p)$ is given by\n",
    "\n",
    "$$\n",
    "\\sum_{k=1}^K \\hat q_k \\log \\frac{\\hat q_k}{\\hat p_k},\n",
    "$$\n",
    "where $\\hat q$ and $\\hat p$ are vectors in $\\mathbb R^K$ representing histogram estimates of $q$ and $p$ with $K$ bins, computed using the samples $X_i$ and $Y_i$."
   ]
  },
  {
   "cell_type": "code",
   "execution_count": 2,
   "metadata": {},
   "outputs": [],
   "source": [
    "def get_bins_and_bincounts(samples, normalized=False):\n",
    "    \"\"\"take in samples, create a common set of bins, and compute the counts count(x in bin)\n",
    "    for each bin and each sample x.\n",
    "    Parameters\n",
    "    ------------\n",
    "    samples : np.array of shape (n,) or shape (k, n).\n",
    "    - If shape (n,): interpreted as a set of n scalar-valued samples.\n",
    "    - If shape (k, n): interpreted as k sets of n scalar-valued samples.\n",
    "    \n",
    "    Returns\n",
    "    --------\n",
    "    probabilities :\n",
    "    bins :\n",
    "    \"\"\"\n",
    "    nr_samples = np.prod(samples.shape)\n",
    "    nr_bins = np.log2(nr_samples)\n",
    "    nr_bins = int(max(nr_bins, 5))\n",
    "    \n",
    "    lims = [np.min(samples), np.max(samples)]\n",
    "    bins = np.linspace(*lims, num=nr_bins)\n",
    "    \n",
    "    if samples.ndim == 2:\n",
    "        out = np.asarray([np.histogram(x, bins=bins, density=normalized)[0] for x in samples])\n",
    "        return out, bins\n",
    "    elif samples.ndim == 1:\n",
    "        return np.histogram(samples, bins=bins, density=normalized)[0], bins\n",
    "    else:\n",
    "        raise ValueError(f\"Input must have shape (n,) or shape (k,n). Instead received shape {samples.shape}\")\n",
    "        \n",
    "# get_bins_and_bincounts = jit(get_bins_and_bincounts)"
   ]
  },
  {
   "cell_type": "code",
   "execution_count": 3,
   "metadata": {},
   "outputs": [],
   "source": [
    "def smooth_and_normalize(vec, normalize=True):\n",
    "    \"\"\"\n",
    "    Parameters:\n",
    "    * vec : np.array of shape (n,)\n",
    "    * normalize : bool\n",
    "    \n",
    "    Returns:\n",
    "    out : np.array of shape (n,).\n",
    "    If vec_i = 0, then out_i = epsilon. If vec_i !=0, then out_i = vec_i - c.\n",
    "    c is chosen such that sum(vec) == 1.\n",
    "    \"\"\"\n",
    "    vec = np.asarray(vec, dtype=np.float32)\n",
    "    \n",
    "    if normalize:\n",
    "        vec = vec / vec.sum()\n",
    "    n = len(vec)\n",
    "    epsilon = 0.0001\n",
    "    num_nonzero = np.count_nonzero(vec)\n",
    "    c = epsilon * (n - num_nonzero) / num_nonzero\n",
    "    perturbation =  (vec == 0)*epsilon - (vec != 0)*c\n",
    "    return vec + perturbation"
   ]
  },
  {
   "cell_type": "code",
   "execution_count": 4,
   "metadata": {},
   "outputs": [],
   "source": [
    "def kl_from_probabilities(p, q):\n",
    "    \"\"\"Kullback-Leibler divergence D(P || Q) for discrete distributions\n",
    "    Parameters\n",
    "    ----------\n",
    "    p, q : array-like, dtype=float, shape=(k,)\n",
    "    Discrete probability distributions. Can be unnormalized.\n",
    "    \"\"\"\n",
    "    p = np.asarray(p, dtype=np.float32)\n",
    "    q = np.asarray(q, dtype=np.float32)\n",
    "    if p.shape != q.shape:\n",
    "        raise ValueError(\"p and q need to have same shape.\")\n",
    "    elif p.ndim > 1:\n",
    "        raise ValueError(f\"Inputs need to be one-dimensional vectors.\")\n",
    "        \n",
    "    p, q = [smooth_and_normalize(prob) for prob in (p, q)]\n",
    "    \n",
    "#     return np.sum(p * np.log(p/q))\n",
    "    return np.sum(p * (np.log(p) - np.log(q)))"
   ]
  },
  {
   "cell_type": "code",
   "execution_count": 5,
   "metadata": {},
   "outputs": [],
   "source": [
    "@jit\n",
    "def kl_from_samples(p, q):\n",
    "    \"\"\"Kullback-Leibler divergence D(P || Q) for discrete distributions\n",
    "    Parameters\n",
    "    ----------\n",
    "    p, q : array-like, dtype=float, shape=(n,). iid samples from p and q.\n",
    "    \"\"\"\n",
    "    samples = np.stack([p, q])\n",
    "    vals, _ = get_bins_and_bincounts(samples)\n",
    "    pprobs, qprobs = vals\n",
    "\n",
    "    return kl_from_probabilities(pprobs, qprobs)"
   ]
  },
  {
   "cell_type": "markdown",
   "metadata": {},
   "source": [
    "## KL between sample and continuous density using histogram estimate"
   ]
  },
  {
   "cell_type": "markdown",
   "metadata": {},
   "source": [
    "Let $X_1, \\dots, X_n$ iid as $q$. Assume density $p$ is known. Then an estimator for $\\text{KL}(q \\ \\Vert \\ p)$ is given by\n",
    "\n",
    "$$\n",
    "1/n \\sum_i \\log \\hat q(X_i) - \\log p(X_i),\n",
    "$$\n",
    "where $\\hat q$ is a histogram estimate of $q$ based on the samples $X_i$.\n",
    "\n",
    "Note: \n",
    "* this estimate is sensitive to the method used to determine the number of histogram bins $K$. Empirically, $K = \\log_2(n)$ gives good results, while $K = n / 10$ or $K = \\sqrt n$ don't.\n",
    "* A reasonable bound on the bias of a histogram estimate $\\hat q$ is\n",
    "$$E[\\hat q(x)] - q(x)\\leq \\frac{L}{K},$$\n",
    "where $L = \\sup_x \\vert q'(x) \\vert$. ([reference](https://faculty.washington.edu/yenchic/18W_425/Lec6_hist_KDE.pdf))\n",
    "* The pointwise variance of histogram estimate $\\hat q$ grows linearly with number of bins $K$.\n",
    "* This is a special case of the kernel density estimator below, with kernel \n",
    "$$\n",
    "k(x, y) = \\begin{cases} 1/B_{xy} & \\text{ if $x$ and $y$ are in the same bin} \\\\ 0 & \\text{ otherwise.} \\end{cases}\n",
    "$$\n",
    "where $B$ is the width of the interval corresponding to the bin containing $x$ and $y$."
   ]
  },
  {
   "cell_type": "code",
   "execution_count": 6,
   "metadata": {},
   "outputs": [],
   "source": [
    "def get_histogram_likelihoods(q):\n",
    "    \"\"\"\n",
    "    Parameters:\n",
    "    * q : np.array of scalar-valued samples from distribution q.\n",
    "    \n",
    "    Returns:\n",
    "    np.array of same length as q, consisting of an approximation of the pdf q(x_i) at the (sorted) samples x_i\n",
    "    \"\"\"\n",
    "    q = np.asarray(q, dtype=np.float32)\n",
    "    n = len(q) \n",
    "    \n",
    "    bincounts, bins = get_bins_and_bincounts(q)\n",
    "    bincounts = np.array(bincounts, dtype=np.int32)\n",
    "    likelihoods = smooth_and_normalize(bincounts) / np.diff(bins)\n",
    "    \n",
    "    sample_likelihoods = np.repeat(likelihoods, bincounts)\n",
    "    return sample_likelihoods"
   ]
  },
  {
   "cell_type": "code",
   "execution_count": 7,
   "metadata": {},
   "outputs": [
    {
     "name": "stderr",
     "output_type": "stream",
     "text": [
      "/home/lauro/.virtualenvs/msc-thesis/lib/python3.8/site-packages/jax/numpy/lax_numpy.py:1531: FutureWarning: jax.numpy reductions won't accept lists and tuples in future versions, only scalars and ndarrays\n",
      "  warnings.warn(msg, category=FutureWarning)\n"
     ]
    },
    {
     "data": {
      "text/plain": [
       "<matplotlib.legend.Legend at 0x7ff544273370>"
      ]
     },
     "execution_count": 7,
     "metadata": {},
     "output_type": "execute_result"
    },
    {
     "data": {
      "image/png": "[encoded data removed]",
      "text/plain": [
       "<Figure size 432x288 with 1 Axes>"
      ]
     },
     "metadata": {
      "needs_background": "light"
     },
     "output_type": "display_data"
    }
   ],
   "source": [
    "dist = metrics.Gaussian(0, 3)\n",
    "s = dist.sample(500)\n",
    "s = s[:, 0]\n",
    "sample_probabilities = get_histogram_likelihoods(s)\n",
    "s = s.sort()\n",
    "plt.plot(s, sample_probabilities, \"--\", label=\"histogram probabilities\")\n",
    "plt.plot(s, vmap(dist.pdf)(s), \"-\", label=\"true distribution\")\n",
    "plt.legend()"
   ]
  },
  {
   "cell_type": "code",
   "execution_count": 8,
   "metadata": {},
   "outputs": [
    {
     "data": {
      "text/plain": [
       "DeviceArray(1.0159463, dtype=float32)"
      ]
     },
     "execution_count": 8,
     "metadata": {},
     "output_type": "execute_result"
    }
   ],
   "source": [
    "np.sum(sample_probabilities[1:] * np.diff(s)) # needs to equal 1"
   ]
  },
  {
   "cell_type": "code",
   "execution_count": 9,
   "metadata": {},
   "outputs": [],
   "source": [
    "def kl_sample_and_density(q, logp):\n",
    "    \"\"\"Kullback-Leibler divergence D(q || p) between sample p and cts density q\n",
    "    Parameters\n",
    "    ----------\n",
    "    q : array-like, shape (d,). Samples from distribution q.\n",
    "    logp : callable. Takes one argument, computes log(p(x))\n",
    "    \"\"\"\n",
    "    histogram_likelihoods = get_histogram_likelihoods(q)\n",
    "    return np.mean(np.log(histogram_likelihoods) - vmap(logp)(q))"
   ]
  },
  {
   "cell_type": "markdown",
   "metadata": {},
   "source": [
    "## KL (between sample and density) using interpolated CDF"
   ]
  },
  {
   "cell_type": "markdown",
   "metadata": {},
   "source": [
    "A variation on the above approach. Let $X_1, \\dots, X_n$ iid as $q$ and assume $p$ is known. Write $\\mathbb Q_n$ for the empirical CDF of the $X_i$. Now define $\\hat Q$ to be equal to $\\mathbb Q_n$ when evaluated at one of the samples and linearly interpolated in between.\n",
    "\n",
    "We can then approximate $q$ by the derivative $\\hat q = \\frac{d \\hat Q}{dx}$. This is easy to evaluate since $\\hat Q$ is piecewise linear.\n",
    "\n",
    "Then an estimator for $\\text{KL}(q \\ \\Vert \\ p)$ is given by\n",
    "$$\n",
    "1/n \\sum_{i=1}^n \\log \\frac{\\hat q(X_i)}{p(X_i)}.\n",
    "$$\n",
    "Note that\n",
    "$$\n",
    "\\hat q(X_i) = \\frac{1/n}{X_i - X_{i-1}}.\n",
    "$$\n",
    "\n",
    "Unfortunately this approach is unstable: it gives very high values for $\\hat q$ whenever two samples lie very close to each other. A better version might be to estimate\n",
    "\n",
    "$$\n",
    "\\frac{q(X_i)}{p(X_i)} \\approx \\frac{1/n}{P(X_i) - P(X_{i-1})}\n",
    "$$\n",
    "where $P$ is the (known) CDF of $p$."
   ]
  },
  {
   "cell_type": "code",
   "execution_count": 10,
   "metadata": {},
   "outputs": [],
   "source": [
    "def get_interpolated_loglikelihoods(q):\n",
    "    \"\"\"\n",
    "    Parameters:\n",
    "    * samples : array-like, shape (n,). Set of n scalar-valued samples.\n",
    "    \n",
    "    Returns:\n",
    "    An estimate of the loglikelihood log q(x) for each x in samples. Sorted from least to greatest sample.\n",
    "    \"\"\"\n",
    "    q = np.asarray(q, dtype=np.float32)\n",
    "    n = len(q)\n",
    "    \n",
    "    diffs = np.diff(q.sort())\n",
    "    diffs = smooth_and_normalize(diffs, normalize=False)\n",
    "    logpdf_estimate = -np.log(n) - np.log(diffs)\n",
    "    \n",
    "    return np.concatenate([logpdf_estimate[0, np.newaxis], logpdf_estimate])"
   ]
  },
  {
   "cell_type": "code",
   "execution_count": 11,
   "metadata": {},
   "outputs": [
    {
     "data": {
      "text/plain": [
       "<matplotlib.legend.Legend at 0x7ff5440bab20>"
      ]
     },
     "execution_count": 11,
     "metadata": {},
     "output_type": "execute_result"
    },
    {
     "data": {
      "image/png": "[encoded data removed]",
      "text/plain": [
       "<Figure size 432x288 with 1 Axes>"
      ]
     },
     "metadata": {
      "needs_background": "light"
     },
     "output_type": "display_data"
    }
   ],
   "source": [
    "dist = metrics.Gaussian(0, 3)\n",
    "s = dist.sample(500)[:, 0]\n",
    "sample_likelihoods = get_interpolated_loglikelihoods(s)\n",
    "s = s.sort()\n",
    "plt.plot(s, sample_likelihoods, \"--\", label=\"interpolated likelihoods\")\n",
    "plt.plot(s, vmap(dist.logpdf)(s), \"-\", label=\"true distribution\")\n",
    "plt.legend()"
   ]
  },
  {
   "cell_type": "code",
   "execution_count": 12,
   "metadata": {},
   "outputs": [
    {
     "data": {
      "text/plain": [
       "DeviceArray(0.99800014, dtype=float32)"
      ]
     },
     "execution_count": 12,
     "metadata": {},
     "output_type": "execute_result"
    }
   ],
   "source": [
    "np.sum(np.exp(sample_likelihoods[1:]) * np.diff(s))"
   ]
  },
  {
   "cell_type": "code",
   "execution_count": 13,
   "metadata": {},
   "outputs": [],
   "source": [
    "def kl_using_interpolated_cdf(q, logp):\n",
    "    \"\"\"Kullback-Leibler divergence D(q || p) between sample p and cts density q\n",
    "    Parameters\n",
    "    ----------\n",
    "    q : array-like, shape (d,). Samples from distribution q.\n",
    "    logp : callable. Takes one argument, computes log(p(x))\n",
    "    \"\"\"\n",
    "    histogram_loglikelihoods = get_interpolated_loglikelihoods(q)\n",
    "    return np.mean(histogram_loglikelihoods - vmap(logp)(q))"
   ]
  },
  {
   "cell_type": "markdown",
   "metadata": {},
   "source": [
    "### Try other interpolating approach:"
   ]
  },
  {
   "cell_type": "code",
   "execution_count": 14,
   "metadata": {},
   "outputs": [],
   "source": [
    "def get_interpolated_likelihood_ratio(samples, p_cdf):\n",
    "    \"\"\"\n",
    "    Parameters:\n",
    "    * samples : array-like, shape (n,). Set of n scalar-valued samples.\n",
    "    * p_cdf : callable, takes in one scalar argument x and returns CDF of p at x.\n",
    "    \n",
    "    Returns:\n",
    "    An estimate of the log likelihood rato log q(x)/p(x) for each x in samples. Sorted from least to greatest sample.\n",
    "    \"\"\"\n",
    "    samples = np.asarray(samples, dtype=np.float32)\n",
    "    n = len(samples)\n",
    "    \n",
    "    pdiffs = np.diff(vmap(p_cdf)(samples.sort()))\n",
    "    ratio_estimate = -np.log(n) - np.log(pdiffs)\n",
    "#     return ratio_estimate\n",
    "    return np.concatenate([ratio_estimate[0, np.newaxis], ratio_estimate]) # make sure length is n"
   ]
  },
  {
   "cell_type": "code",
   "execution_count": 15,
   "metadata": {},
   "outputs": [],
   "source": [
    "q = metrics.Gaussian(-3, 1) \n",
    "s = q.sample(500)[:, 0]\n",
    "\n",
    "def logratio(x):\n",
    "    \"\"\"q(x)/p(x)\"\"\"\n",
    "    return (9-6*x)/2\n",
    "\n",
    "likelihood_ratio = get_interpolated_likelihood_ratio(s, norm.cdf)\n",
    "s = s.sort()\n",
    "true_likelihood_ratio = vmap(logratio)(s)\n",
    "\n",
    "# plt.plot(s, sample_likelihoods, \"--\", label=\"interpolated likelihoods\")\n"
   ]
  },
  {
   "cell_type": "code",
   "execution_count": 16,
   "metadata": {},
   "outputs": [
    {
     "data": {
      "text/plain": [
       "<matplotlib.legend.Legend at 0x7ff5440167f0>"
      ]
     },
     "execution_count": 16,
     "metadata": {},
     "output_type": "execute_result"
    },
    {
     "data": {
      "image/png": "[encoded data removed]",
      "text/plain": [
       "<Figure size 432x288 with 1 Axes>"
      ]
     },
     "metadata": {
      "needs_background": "light"
     },
     "output_type": "display_data"
    }
   ],
   "source": [
    "plt.plot(s, likelihood_ratio)\n",
    "plt.plot(s, true_likelihood_ratio, \"-\", label=\"true ratio\")\n",
    "# plt.yscale(\"log\")\n",
    "plt.legend()"
   ]
  },
  {
   "cell_type": "markdown",
   "metadata": {},
   "source": [
    "## KL (between sample and density) using Kernel Density Estimation"
   ]
  },
  {
   "cell_type": "markdown",
   "metadata": {},
   "source": [
    "Let $X_1, \\dots, X_n$ iid as $q$. Assume density $p$ is known. Then an estimator for for $q$ is given by\n",
    "$$\n",
    "\\hat q(x) = \\frac{1}{n} \\sum_{i=1}^n k(x, X_i),\n",
    "$$\n",
    "where $k$ is some P.D. kernel function. An estimator for $\\text{KL}(q \\ \\Vert \\ p)$ is then given by\n",
    "$$\n",
    "1/n \\sum_i \\log \\hat q(X_i) - \\log p(X_i).\n",
    "$$\n",
    "Note:\n",
    "* This takes $ O (n^2)$ to evaluate."
   ]
  },
  {
   "cell_type": "code",
   "execution_count": 17,
   "metadata": {},
   "outputs": [],
   "source": [
    "def get_kde_likelihoods(samples, kernel):\n",
    "    \"\"\"\n",
    "    Parameters:\n",
    "    * samples : array-like, shape (n,). Set of n scalar-valued samples.\n",
    "    * kernel : callable, takes in two scalar arguments x and y. Computes kernel k(x, y). Must be normalized,\n",
    "    that is for all $y$ we have $\\int k(x, y) dx = 1$.\n",
    "    \n",
    "    Returns:\n",
    "    An estimate of the likelihood q(x) for each x in samples. Same order as the samples.\n",
    "    \"\"\"\n",
    "    samples = np.asarray(samples, dtype=np.float32)\n",
    "    n = len(samples)\n",
    "    kernelv = vmap(kernel, (0, None))\n",
    "    kernelvv = vmap(kernelv, (None, 0))\n",
    "    \n",
    "    return np.squeeze(np.mean(kernelvv(samples, samples), axis=0))"
   ]
  },
  {
   "cell_type": "code",
   "execution_count": 18,
   "metadata": {},
   "outputs": [
    {
     "data": {
      "text/plain": [
       "<matplotlib.legend.Legend at 0x7ff544129d30>"
      ]
     },
     "execution_count": 18,
     "metadata": {},
     "output_type": "execute_result"
    },
    {
     "data": {
      "image/png": "[encoded data removed]",
      "text/plain": [
       "<Figure size 432x288 with 1 Axes>"
      ]
     },
     "metadata": {
      "needs_background": "light"
     },
     "output_type": "display_data"
    }
   ],
   "source": [
    "dist = metrics.Gaussian(0, 3)\n",
    "s = dist.sample(500)[:, 0]\n",
    "h = 0.1\n",
    "logh = np.log(h)\n",
    "kernel = lambda x, y: kernels._ard(x, y, logh) / np.sqrt(2 * np.pi * h)\n",
    "sample_likelihoods = get_kde_likelihoods(s, kernel)\n",
    "sorted_idx = np.argsort(s)\n",
    "s = s[sorted_idx]\n",
    "sample_likelihoods = sample_likelihoods[sorted_idx]\n",
    "\n",
    "plt.plot(s, sample_likelihoods, \"--\", label=\"KDE likelihoods\")\n",
    "plt.plot(s, vmap(dist.pdf)(s), \"-\", label=\"true distribution\")\n",
    "plt.hist(s, alpha=0.3, label=\"histogram of samples\", density=True)\n",
    "plt.legend()"
   ]
  },
  {
   "cell_type": "code",
   "execution_count": 19,
   "metadata": {},
   "outputs": [],
   "source": [
    "def kl_using_kde(q, logp, kernel):\n",
    "    \"\"\"Kullback-Leibler divergence D(q || p) between sample p and cts density q\n",
    "    Parameters\n",
    "    ----------\n",
    "    q : array-like, shape (d,). Samples from distribution q.\n",
    "    logp : callable. Takes one argument, computes log(p(x))\n",
    "    kernel : callable, takes in two scalar arguments x and y. Computes kernel k(x, y). Must be normalized,\n",
    "    that is for all $y$ we have $\\int k(x, y) dx = 1$.\n",
    "    \"\"\"\n",
    "    kde_likelihoods = get_kde_likelihoods(q, kernel)\n",
    "    return np.mean(np.log(kde_likelihoods) - vmap(logp)(q))\n",
    "kl_using_kde = jit(kl_using_kde, static_argnums=(1,2))"
   ]
  },
  {
   "cell_type": "markdown",
   "metadata": {},
   "source": [
    "## Analytic KL of two Gaussians"
   ]
  },
  {
   "cell_type": "markdown",
   "metadata": {},
   "source": [
    "This is the exact value for $\\text{KL}(q \\ \\Vert \\ p)$ where $q$ and $p$ are both Gaussian."
   ]
  },
  {
   "cell_type": "code",
   "execution_count": 20,
   "metadata": {},
   "outputs": [],
   "source": [
    "@jit\n",
    "def kl_of_gaussian(p, q):\n",
    "    \"\"\"\n",
    "    Parameters\n",
    "    ----------\n",
    "    p, q : array-like, parameters of gaussian: p = [mu, var], q = [mu2, var2]\n",
    "    \"\"\"\n",
    "    mu1, var1 = p\n",
    "    mu2, var2 = q\n",
    "    sigma1, sigma2 = [np.sqrt(v) for v in (var1, var2)]\n",
    "    out =  np.log(sigma2 / sigma1) + (var1 + (mu1 - mu2)**2) / (2 * var2) - 1/2\n",
    "    return np.squeeze(out)"
   ]
  },
  {
   "cell_type": "markdown",
   "metadata": {},
   "source": [
    "## KL estimate using fitted Gaussian parameters"
   ]
  },
  {
   "cell_type": "code",
   "execution_count": 21,
   "metadata": {},
   "outputs": [],
   "source": [
    "def fit_gaussian(samples):\n",
    "    \"\"\"\n",
    "    Parameters\n",
    "    ----------\n",
    "    samples : array-like, shape (n,)\n",
    "    \"\"\"\n",
    "    samples = np.asarray(samples)\n",
    "    return np.array([np.mean(samples), np.var(samples)])"
   ]
  },
  {
   "cell_type": "markdown",
   "metadata": {},
   "source": [
    "# Multidimensional KDE"
   ]
  },
  {
   "cell_type": "code",
   "execution_count": 23,
   "metadata": {},
   "outputs": [
    {
     "data": {
      "text/plain": [
       "KernelDensity(bandwidth=0.5094138014816381, metric='wminkowski',\n",
       "              metric_params={'p': 2, 'w': [1, 2]})"
      ]
     },
     "execution_count": 23,
     "metadata": {},
     "output_type": "execute_result"
    }
   ],
   "source": [
    "from sklearn.neighbors import KernelDensity\n",
    "from sklearn.model_selection import GridSearchCV\n",
    "from sklearn.model_selection import LeaveOneOut\n",
    "\n",
    "# sample data\n",
    "d = metrics.Gaussian([0, 0], [1,1])\n",
    "x = d.sample(500)\n",
    "\n",
    "# instantiate, crossvalidate, and fit the KDE model\n",
    "kde = KernelDensity(kernel='gaussian')\n",
    "bandwidths = 10 ** onp.linspace(-1, 1, 100)\n",
    "metric_params = {\n",
    "    \"p\": 2,\n",
    "    \"w\": [1,2],\n",
    "}\n",
    "grid = GridSearchCV(KernelDensity(kernel='gaussian', \n",
    "                                  metric=\"wminkowski\",\n",
    "                                  metric_params=metric_params),\n",
    "                    {'bandwidth': bandwidths})\n",
    "grid.fit(x)\n",
    "grid.best_params_\n",
    "kde = grid.best_estimator_\n",
    "kde.fit(x)\n",
    "\n",
    "# # score_samples returns the log of the probability density\n",
    "# x_d = np.linspace(-7, 8, 2000)\n",
    "# logprob = kde.score_samples(x_d[:, None])\n",
    "\n",
    "# plt.fill_between(x_d, np.exp(logprob), alpha=0.5)\n",
    "# plt.plot(x, np.full_like(x, -0.01), '|k', markeredgewidth=1)\n",
    "# plt.plot(x_d, vmap(d.pdf)(x_d))\n",
    "# # plt.ylim(-0.02, 0.22)"
   ]
  },
  {
   "cell_type": "code",
   "execution_count": null,
   "metadata": {},
   "outputs": [],
   "source": [
    "def get_kde_loglikelihoods(samples):\n",
    "    \"\"\"\n",
    "    samples: array of shape (n, d) drawn from distribution q.\n",
    "    \n",
    "    Return:\n",
    "    KDE estimate of loglikelihood q(x) for each x in samples.\n",
    "    \"\"\"\n",
    "    # instantiate, crossvalidate, and fit the KDE model\n",
    "    bandwidths = 10**onp.linspace(-2, 1, 100)\n",
    "    grid = GridSearchCV(KernelDensity(kernel='gaussian'),\n",
    "                        {'bandwidth': bandwidths})\n",
    "    grid.fit(samples)\n",
    "    kde = grid.best_estimator_\n",
    "    kde.fit(samples)\n",
    "    return kde.score_samples(samples)"
   ]
  },
  {
   "cell_type": "markdown",
   "metadata": {},
   "source": [
    "## Test KL estimate for a range of sample sizes"
   ]
  },
  {
   "cell_type": "code",
   "execution_count": null,
   "metadata": {},
   "outputs": [],
   "source": [
    "def test_kl(qdist, pdist, ngrid, kernel):\n",
    "    \"\"\"compute estimated KL(q || p) for a range of sample sizes\"\"\"\n",
    "    ppars, qpars = [(dist.mean, dist.cov) for dist in (pdist, qdist)]\n",
    "    true_kl = kl_of_gaussian(qpars, ppars)\n",
    "    \n",
    "    kls_samples = []\n",
    "    kls_sample_and_density = []\n",
    "    kls_using_fit = []\n",
    "    kls_interpolated = []\n",
    "    kls_kde = []\n",
    "    \n",
    "    mses = []\n",
    "    for n in tqdm(ngrid):\n",
    "        qs, ps = [dist.sample(n)[:, 0] for dist in (qdist, pdist)]\n",
    "        \n",
    "        kls_samples.append(kl_from_samples(qs, ps))\n",
    "        kls_sample_and_density.append(kl_sample_and_density(qs, pdist.logpdf))\n",
    "        kls_using_fit.append(kl_of_gaussian(fit_gaussian(qs), ppars))\n",
    "        kls_interpolated.append(kl_using_interpolated_cdf(qs, pdist.logpdf))\n",
    "        kls_kde.append(kl_using_kde(qs, pdist.logpdf, kernel))\n",
    "        \n",
    "        mses.append([(est[-1] - true_kl)**2 for est in \n",
    "                     (kls_samples, kls_sample_and_density, \n",
    "                      kls_using_fit, kls_interpolated, kls_kde)])\n",
    "        \n",
    "    return mses, kls_samples, kls_sample_and_density, kls_using_fit, kls_interpolated, kls_kde, true_kl\n",
    "\n",
    "def plot_results(ngrid, mses, kls_samples, kls_sample_and_density, kls_using_fit, kls_interpolated, kls_kde, true_kl):\n",
    "    fig, axs = plt.subplots(1, figsize=[10, 6])\n",
    "    ax = axs\n",
    "#     ax.plot(ngrid, kls_samples, \"--o\", label=\"KL sample-sample\")\n",
    "    ax.plot(ngrid, kls_sample_and_density, \"--o\", label=\"KL sample-pdf\")\n",
    "    ax.plot(ngrid, kls_using_fit, \"--o\", label=\"KL using fitted gaussian\")\n",
    "#     ax.plot(ngrid, kls_interpolated, \"--o\", label=\"KL using interpolated CDF\")\n",
    "    ax.plot(ngrid, kls_kde, \"--o\", label=\"KL using KDE estimate of CDF\")\n",
    "    \n",
    "    ax.set_xscale(\"log\")\n",
    "    ax.axhline(y=true_kl)\n",
    "    ax.legend()\n",
    "    \n",
    "#     ax.set_ylim((true_kl-0.4, true_kl+0.4))"
   ]
  },
  {
   "cell_type": "code",
   "execution_count": null,
   "metadata": {},
   "outputs": [],
   "source": [
    "# parameters (mean, variance)\n",
    "ppar = (0, 6)\n",
    "qpar = (-5, 1)\n",
    "\n",
    "pdist = metrics.Gaussian(*ppar)\n",
    "qdist = metrics.Gaussian(*qpar)\n",
    "\n",
    "ngrid = np.logspace(1, 3, 30)\n",
    "ngrid = np.array(ngrid, dtype=np.int32)\n",
    "\n",
    "h = 0.1\n",
    "logh = np.log(h)\n",
    "kernel = lambda x, y: kernels._ard(x, y, logh) / np.sqrt(2 * np.pi * h)"
   ]
  },
  {
   "cell_type": "code",
   "execution_count": null,
   "metadata": {},
   "outputs": [],
   "source": [
    "res = test_kl(qdist, pdist, ngrid, kernel)"
   ]
  },
  {
   "cell_type": "code",
   "execution_count": null,
   "metadata": {},
   "outputs": [],
   "source": [
    "plot_results(ngrid, *res)"
   ]
  },
  {
   "cell_type": "code",
   "execution_count": null,
   "metadata": {},
   "outputs": [],
   "source": [
    "res[-1]"
   ]
  },
  {
   "cell_type": "markdown",
   "metadata": {},
   "source": [
    "## Implementation in `metrics.Distribution`"
   ]
  },
  {
   "cell_type": "code",
   "execution_count": null,
   "metadata": {},
   "outputs": [],
   "source": [
    "ppar = (0, 6) # (mean, variance)\n",
    "qpar = (0, 1)\n",
    "\n",
    "pdist = metrics.Gaussian(*ppar)\n",
    "qdist = metrics.Gaussian(*qpar)\n",
    "\n",
    "n = 100\n",
    "sample = qdist.sample((n,))\n",
    "print(\"KL estimate:\", pdist.kl_divergence(sample))\n",
    "print(\"True KL:\", kl_of_gaussian(qpar, ppar))"
   ]
  },
  {
   "cell_type": "markdown",
   "metadata": {},
   "source": [
    "# KL Divergence of the Funnel distribution"
   ]
  },
  {
   "cell_type": "code",
   "execution_count": null,
   "metadata": {},
   "outputs": [],
   "source": [
    "f = dist.Funnel(2)\n"
   ]
  }
 ],
 "metadata": {
  "kernelspec": {
   "display_name": "msc-thesis",
   "language": "python",
   "name": "msc-thesis"
  },
  "language_info": {
   "codemirror_mode": {
    "name": "ipython",
    "version": 3
   },
   "file_extension": ".py",
   "mimetype": "text/x-python",
   "name": "python",
   "nbconvert_exporter": "python",
   "pygments_lexer": "ipython3",
   "version": "3.8.2"
  }
 },
 "nbformat": 4,
 "nbformat_minor": 4
}
