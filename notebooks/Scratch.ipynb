{
 "cells": [
  {
   "cell_type": "markdown",
   "metadata": {},
   "source": [
    "# Scratch Notebook"
   ]
  },
  {
   "cell_type": "code",
   "execution_count": 1,
   "metadata": {},
   "outputs": [
    {
     "name": "stderr",
     "output_type": "stream",
     "text": [
      "/home/lauro/.virtualenvs/msc-thesis/lib/python3.8/site-packages/jax/lib/xla_bridge.py:130: UserWarning: No GPU/TPU found, falling back to CPU.\n",
      "  warnings.warn('No GPU/TPU found, falling back to CPU.')\n"
     ]
    }
   ],
   "source": [
    "%load_ext autoreload\n",
    "\n",
    "import sys\n",
    "import copy\n",
    "import os\n",
    "sys.path.append(\"/home/lauro/code/msc-thesis/svgd/kernel_learning\")\n",
    "import json\n",
    "import collections\n",
    "import itertools\n",
    "from functools import partial\n",
    "import importlib\n",
    "\n",
    "import numpy as onp\n",
    "from jax.config import config\n",
    "config.update(\"jax_debug_nans\", True)\n",
    "# config.update(\"jax_log_compiles\", True)\n",
    "# config.update(\"jax_enable_x64\", True)\n",
    "\n",
    "import jax.numpy as np\n",
    "from jax import grad, jit, vmap, random, lax, jacfwd, value_and_grad\n",
    "from jax import lax\n",
    "from jax.ops import index_update, index\n",
    "import optax\n",
    "import matplotlib.pyplot as plt\n",
    "\n",
    "import numpy as onp\n",
    "import jax\n",
    "import pandas as pd\n",
    "import haiku as hk\n",
    "import ot\n",
    "\n",
    "\n",
    "import utils\n",
    "import metrics\n",
    "import time\n",
    "import plot\n",
    "import stein\n",
    "import kernels\n",
    "import distributions\n",
    "import nets\n",
    "import kernel_learning\n",
    "import models\n",
    "\n",
    "from jax.experimental import optimizers\n",
    "\n",
    "key = random.PRNGKey(0)\n",
    "key, subkey = random.split(key)\n",
    "\n",
    "from jax.scipy.stats import norm"
   ]
  },
  {
   "cell_type": "code",
   "execution_count": 3,
   "metadata": {},
   "outputs": [],
   "source": [
    "from dataclasses import dataclass"
   ]
  },
  {
   "cell_type": "code",
   "execution_count": 4,
   "metadata": {},
   "outputs": [
    {
     "data": {
      "text/plain": [
       "Test(a=1, b=2)"
      ]
     },
     "execution_count": 4,
     "metadata": {},
     "output_type": "execute_result"
    }
   ],
   "source": [
    "@dataclass\n",
    "class Test:\n",
    "    a: int\n",
    "    b: int\n",
    "t = Test(1,2)\n",
    "t"
   ]
  },
  {
   "cell_type": "code",
   "execution_count": 5,
   "metadata": {},
   "outputs": [
    {
     "data": {
      "text/plain": [
       "{'a': int, 'b': int}"
      ]
     },
     "execution_count": 5,
     "metadata": {},
     "output_type": "execute_result"
    }
   ],
   "source": [
    "t."
   ]
  },
  {
   "cell_type": "code",
   "execution_count": 2,
   "metadata": {},
   "outputs": [],
   "source": [
    "%autoreload"
   ]
  },
  {
   "cell_type": "markdown",
   "metadata": {},
   "source": [
    "# test tfp langevin"
   ]
  },
  {
   "cell_type": "code",
   "execution_count": 6,
   "metadata": {},
   "outputs": [],
   "source": [
    "from tensorflow_probability.substrates import jax as tfp\n",
    "tfd = tfp.distributions\n",
    "tfb = tfp.bijectors\n",
    "tfpk = tfp.math.psd_kernels"
   ]
  },
  {
   "cell_type": "code",
   "execution_count": 7,
   "metadata": {},
   "outputs": [],
   "source": [
    "target = distributions.Gaussian([0, 0], 1)"
   ]
  },
  {
   "cell_type": "code",
   "execution_count": 41,
   "metadata": {},
   "outputs": [
    {
     "name": "stderr",
     "output_type": "stream",
     "text": [
      "/home/lauro/.virtualenvs/msc-thesis/lib/python3.8/site-packages/tensorflow_probability/substrates/jax/mcmc/sample.py:327: UserWarning: supplied `TransitionKernel` is not calibrated. Markov chain may not converge to intended target distribution.\n",
      "  warnings.warn('supplied `TransitionKernel` is not calibrated. Markov '\n"
     ]
    }
   ],
   "source": [
    "n = 300\n",
    "init_key, sample_key = random.split(random.PRNGKey(0))\n",
    "init_params = random.normal(key, shape=(n, 2))-5\n",
    "\n",
    "@jit\n",
    "def run_chain(key, state):\n",
    "    kernel = tfp.mcmc.UncalibratedLangevin(target.logpdf, 1e-2)\n",
    "    return tfp.mcmc.sample_chain(500,\n",
    "      current_state=state,\n",
    "      kernel=kernel,\n",
    "      trace_fn=lambda _, results: results.target_log_prob,\n",
    "      num_burnin_steps=0, # CHANGED\n",
    "      seed=key)\n",
    "\n",
    "subkeys = random.split(sample_key, n)\n",
    "states, log_probs = vmap(run_chain)(subkeys, init_params)"
   ]
  },
  {
   "cell_type": "code",
   "execution_count": 42,
   "metadata": {},
   "outputs": [
    {
     "data": {
      "text/plain": [
       "(300, 500, 2)"
      ]
     },
     "execution_count": 42,
     "metadata": {},
     "output_type": "execute_result"
    }
   ],
   "source": [
    "states.shape"
   ]
  },
  {
   "cell_type": "code",
   "execution_count": 43,
   "metadata": {},
   "outputs": [
    {
     "data": {
      "text/plain": [
       "[<matplotlib.lines.Line2D at 0x7ff1b77cb580>]"
      ]
     },
     "execution_count": 43,
     "metadata": {},
     "output_type": "execute_result"
    },
    {
     "data": {
      "image/png": "[encoded data removed]",
      "text/plain": [
       "<Figure size 432x288 with 1 Axes>"
      ]
     },
     "metadata": {
      "needs_background": "light"
     },
     "output_type": "display_data"
    }
   ],
   "source": [
    "means = onp.mean(states, axis=(0, 2))\n",
    "plt.plot(means)"
   ]
  },
  {
   "cell_type": "code",
   "execution_count": 44,
   "metadata": {},
   "outputs": [
    {
     "data": {
      "image/png": "[encoded data removed]",
      "text/plain": [
       "<Figure size 432x288 with 1 Axes>"
      ]
     },
     "metadata": {
      "needs_background": "light"
     },
     "output_type": "display_data"
    }
   ],
   "source": [
    "_ = plt.hist(states[:, 500, :].flatten(), bins=25, density=True)\n",
    "plt.hist(target.sample(500).flatten(), alpha=0.5, density=True);"
   ]
  },
  {
   "cell_type": "markdown",
   "metadata": {},
   "source": [
    "# new distributions using tfp"
   ]
  },
  {
   "cell_type": "code",
   "execution_count": 2,
   "metadata": {},
   "outputs": [],
   "source": [
    "from tensorflow_probability.substrates import jax as tfp\n",
    "tfd = tfp.distributions\n",
    "tfb = tfp.bijectors\n",
    "tfpk = tfp.math.psd_kernels"
   ]
  },
  {
   "cell_type": "code",
   "execution_count": 9,
   "metadata": {},
   "outputs": [],
   "source": [
    "# for comparison\n",
    "banana = distributions.Banana([0, 0], [4, 1]) # ie y = x**2 + eps; std 2 and 1 respectively\n",
    "\n",
    "tfp_banana = tfd.JointDistributionSequential([\n",
    "    tfd.Normal(0, 2),\n",
    "    lambda x: tfd.Normal(x**2, 1)\n",
    "])"
   ]
  },
  {
   "cell_type": "code",
   "execution_count": 11,
   "metadata": {},
   "outputs": [
    {
     "data": {
      "image/png": "[encoded data removed]",
      "text/plain": [
       "<Figure size 432x288 with 1 Axes>"
      ]
     },
     "metadata": {
      "needs_background": "light"
     },
     "output_type": "display_data"
    }
   ],
   "source": [
    "plt.scatter(*tfp_banana.sample(1000, seed=random.PRNGKey(0)), alpha=0.5)\n",
    "plot.scatter(banana.sample(1000, key=random.PRNGKey(0)), alpha=0.5)"
   ]
  },
  {
   "cell_type": "code",
   "execution_count": 23,
   "metadata": {},
   "outputs": [
    {
     "name": "stdout",
     "output_type": "stream",
     "text": [
      "-2.5310242\n",
      "-2.5310242\n"
     ]
    }
   ],
   "source": [
    "x = np.array([0, 0])\n",
    "print(banana.logpdf(x))\n",
    "print(tfp_banana.log_prob(x))"
   ]
  },
  {
   "cell_type": "markdown",
   "metadata": {},
   "source": [
    "#### coroutine"
   ]
  },
  {
   "cell_type": "code",
   "execution_count": 77,
   "metadata": {},
   "outputs": [
    {
     "data": {
      "text/plain": [
       "StructTuple(\n",
       "  x=DeviceArray(1.7866045, dtype=float32),\n",
       "  y=DeviceArray(2.4583967, dtype=float32)\n",
       ")"
      ]
     },
     "execution_count": 77,
     "metadata": {},
     "output_type": "execute_result"
    }
   ],
   "source": [
    "Root = tfd.JointDistributionCoroutine.Root\n",
    "def model():\n",
    "    x = yield Root(tfd.Normal(0, 2, name=\"x\"))\n",
    "    y = yield tfd.Normal(x**2, 1, name=\"y\")\n",
    "banana_coroutine = tfd.JointDistributionCoroutine(model)\n",
    "\n",
    "banana_coroutine.sample(seed=random.PRNGKey(0))"
   ]
  },
  {
   "cell_type": "code",
   "execution_count": 78,
   "metadata": {},
   "outputs": [
    {
     "data": {
      "text/plain": [
       "DeviceArray([0.28778088], dtype=float32)"
      ]
     },
     "execution_count": 78,
     "metadata": {},
     "output_type": "execute_result"
    }
   ],
   "source": [
    "xdist.distribution.sample(1, seed=key)"
   ]
  },
  {
   "cell_type": "code",
   "execution_count": 81,
   "metadata": {},
   "outputs": [
    {
     "name": "stdout",
     "output_type": "stream",
     "text": [
      "[0.28778088] [[0.22670828]]\n"
     ]
    }
   ],
   "source": [
    "gen = model()\n",
    "xroot = next(gen)\n",
    "x = xroot.distribution.sample(1, key)\n",
    "ydist = gen.send(x)\n",
    "y = ydist.sample(1, key)\n",
    "print(x, y)"
   ]
  },
  {
   "cell_type": "code",
   "execution_count": 83,
   "metadata": {},
   "outputs": [
    {
     "data": {
      "text/plain": [
       "<matplotlib.collections.PathCollection at 0x7f06069cbdf0>"
      ]
     },
     "execution_count": 83,
     "metadata": {},
     "output_type": "execute_result"
    },
    {
     "data": {
      "image/png": "[encoded data removed]",
      "text/plain": [
       "<Figure size 432x288 with 1 Axes>"
      ]
     },
     "metadata": {
      "needs_background": "light"
     },
     "output_type": "display_data"
    }
   ],
   "source": [
    "samples = banana_coroutine.sample(1000, seed=key)\n",
    "plt.scatter(samples.x, samples.y)"
   ]
  },
  {
   "cell_type": "code",
   "execution_count": 85,
   "metadata": {},
   "outputs": [
    {
     "data": {
      "text/plain": [
       "DeviceArray(-2.5310242, dtype=float32)"
      ]
     },
     "execution_count": 85,
     "metadata": {},
     "output_type": "execute_result"
    }
   ],
   "source": [
    "x = np.array([0, 0])\n",
    "banana_coroutine.log_prob(x) # x = [x, y]"
   ]
  },
  {
   "cell_type": "markdown",
   "metadata": {},
   "source": [
    "# test gauss mix"
   ]
  },
  {
   "cell_type": "code",
   "execution_count": 376,
   "metadata": {},
   "outputs": [],
   "source": [
    "# d = distributions.GaussianMixture()\n",
    "d = 2\n",
    "coords = np.vstack([np.eye(d), np.ones(d).reshape(1, d)]) * 10\n",
    "\n",
    "# sample m points from the corners of n-simplex\n",
    "\n",
    "m = 3\n",
    "idx = random.choice(key, d+1, (m,), replace=False)\n",
    "means = coords[idx]\n",
    "\n",
    "target = distributions.GaussianMixture(means, 1, np.ones(m))\n",
    "proposal = distributions.Gaussian(-np.ones(d), np.ones(d))\n",
    "setup = distributions.Setup(target, proposal)"
   ]
  },
  {
   "cell_type": "code",
   "execution_count": 378,
   "metadata": {},
   "outputs": [
    {
     "data": {
      "text/plain": [
       "<matplotlib.collections.PathCollection at 0x7fbe0b1c8c40>"
      ]
     },
     "execution_count": 378,
     "metadata": {},
     "output_type": "execute_result"
    },
    {
     "data": {
      "image/png": "[encoded data removed]",
      "text/plain": [
       "<Figure size 432x288 with 1 Axes>"
      ]
     },
     "metadata": {
      "needs_background": "light"
     },
     "output_type": "display_data"
    }
   ],
   "source": [
    "n = 500\n",
    "s = target.sample(n)\n",
    "plt.scatter(*np.rollaxis(s, 1))"
   ]
  },
  {
   "cell_type": "markdown",
   "metadata": {},
   "source": [
    "### SGLD by hand"
   ]
  },
  {
   "cell_type": "code",
   "execution_count": 99,
   "metadata": {},
   "outputs": [],
   "source": [
    "p = proposal.sample(100)"
   ]
  },
  {
   "cell_type": "code",
   "execution_count": 215,
   "metadata": {},
   "outputs": [
    {
     "data": {
      "image/png": "[encoded data removed]",
      "text/plain": [
       "<Figure size 432x288 with 1 Axes>"
      ]
     },
     "metadata": {
      "needs_background": "light"
     },
     "output_type": "display_data"
    }
   ],
   "source": [
    "fig, ax = plt.subplots()\n",
    "ax.set(xlim=lims, ylim=lims)\n",
    "plot.scatter(p)\n",
    "\n",
    "eta = 1e-1\n",
    "key, subkey = random.split(key)\n",
    "p = p + eta * vmap(grad(target.logpdf))(p) + np.sqrt(2*eta) * random.normal(subkey, p.shape)"
   ]
  },
  {
   "cell_type": "markdown",
   "metadata": {},
   "source": [
    "# high-dim gaussian mixture"
   ]
  },
  {
   "cell_type": "code",
   "execution_count": 72,
   "metadata": {},
   "outputs": [],
   "source": [
    "# get coordinates of d-simplex\n",
    "d = 5\n",
    "coords = np.vstack([np.eye(d), np.ones(d).reshape(1, d)]) * 5\n",
    "\n",
    "# sample m points\n",
    "m = d+1\n",
    "idx = random.choice(key, d+1, (m,), replace=False)\n",
    "means = coords[idx]\n",
    "\n",
    "target = distributions.GaussianMixture(means, 1, np.ones(m))\n",
    "proposal = distributions.Gaussian(np.zeros(d), np.ones(d))"
   ]
  },
  {
   "cell_type": "markdown",
   "metadata": {},
   "source": [
    "# rotated gauss"
   ]
  },
  {
   "cell_type": "code",
   "execution_count": 8,
   "metadata": {},
   "outputs": [],
   "source": [
    "# rotated gaussian\n",
    "d = 2\n",
    "variances = np.logspace(-2, 1, num=d)\n",
    "subkey = random.PRNGKey(0)\n",
    "Q = utils.qmult(subkey, d)\n",
    "cov = Q.T @ np.diag(variances) @ Q\n",
    "rot_gauss = distributions.Gaussian(np.zeros(d), cov)\n",
    "gauss = distributions.Gaussian(np.zeros(d), variances)"
   ]
  },
  {
   "cell_type": "code",
   "execution_count": 9,
   "metadata": {},
   "outputs": [
    {
     "name": "stderr",
     "output_type": "stream",
     "text": [
      "/home/lauro/code/msc-thesis/svgd/kernel_learning/plot.py:201: MatplotlibDeprecationWarning: shading='flat' when X and Y have the same dimensions as C is deprecated since 3.3.  Either specify the corners of the quadrilaterals with X and Y, or pass shading='auto', 'nearest' or 'gouraud', or set rcParams['pcolor.shading'].  This will become an error two minor releases later.\n",
      "  return ax.pcolormesh(*meshgrid, cmap=cmap, **kwargs)\n"
     ]
    },
    {
     "data": {
      "text/plain": [
       "<matplotlib.collections.QuadMesh at 0x7ff1f868b040>"
      ]
     },
     "execution_count": 9,
     "metadata": {},
     "output_type": "execute_result"
    },
    {
     "data": {
      "image/png": "[encoded data removed]",
      "text/plain": [
       "<Figure size 432x288 with 1 Axes>"
      ]
     },
     "metadata": {
      "needs_background": "light"
     },
     "output_type": "display_data"
    }
   ],
   "source": [
    "plot.plot_fun_2d(gauss.pdf)"
   ]
  },
  {
   "cell_type": "code",
   "execution_count": 10,
   "metadata": {},
   "outputs": [
    {
     "data": {
      "text/plain": [
       "<matplotlib.collections.QuadMesh at 0x7ff12d44ef70>"
      ]
     },
     "execution_count": 10,
     "metadata": {},
     "output_type": "execute_result"
    },
    {
     "data": {
      "image/png": "[encoded data removed]",
      "text/plain": [
       "<Figure size 432x288 with 1 Axes>"
      ]
     },
     "metadata": {
      "needs_background": "light"
     },
     "output_type": "display_data"
    }
   ],
   "source": [
    "plot.plot_fun_2d(rot_gauss.pdf)"
   ]
  },
  {
   "cell_type": "code",
   "execution_count": null,
   "metadata": {},
   "outputs": [],
   "source": [
    "skdfjlka\n"
   ]
  },
  {
   "cell_type": "markdown",
   "metadata": {},
   "source": [
    "# plot energy gradient"
   ]
  },
  {
   "cell_type": "code",
   "execution_count": null,
   "metadata": {},
   "outputs": [],
   "source": [
    "d = distributions.Gaussian(0, 1)\n",
    "plot.plot_fun(grad(d.logpdf))"
   ]
  },
  {
   "cell_type": "code",
   "execution_count": null,
   "metadata": {},
   "outputs": [],
   "source": [
    "plt.subplots(figsize=[7,7])\n",
    "d = distributions.Gaussian([0, 0], [1, 4])\n",
    "plot.plot_gradient_field(vmap(grad(d.logpdf)))"
   ]
  },
  {
   "cell_type": "markdown",
   "metadata": {},
   "source": [
    "# init neural net"
   ]
  },
  {
   "cell_type": "code",
   "execution_count": null,
   "metadata": {},
   "outputs": [],
   "source": [
    "def net_fn(x):\n",
    "    net = hk.nets.MLP(output_sizes=[32, 32, 2],\n",
    "                  w_init=hk.initializers.VarianceScaling(scale=2.0),\n",
    "                  activation=jax.nn.swish,\n",
    "                  activate_final=False)\n",
    "    return net(x)\n",
    "net = hk.transform(net_fn)"
   ]
  },
  {
   "cell_type": "code",
   "execution_count": null,
   "metadata": {},
   "outputs": [],
   "source": [
    "n = 100\n",
    "d = 3\n",
    "key, subkey = random.split(key)\n",
    "x = random.normal(subkey, (n, d))\n",
    "\n",
    "key, subkey = random.split(key)\n",
    "params = net.init(subkey, x)\n",
    "xout = net.apply(params, None, x)\n",
    "plot.scatter(xout)\n",
    "plot.scatter(distributions.Gaussian([0, 0], [1, 1]).sample(100))\n",
    "lim=(-4, 4)\n",
    "plt.ylim(lim)\n",
    "plt.xlim(lim)"
   ]
  },
  {
   "cell_type": "markdown",
   "metadata": {},
   "source": [
    "## check out deep kernel"
   ]
  },
  {
   "cell_type": "code",
   "execution_count": null,
   "metadata": {},
   "outputs": [],
   "source": [
    "# define kernel\n",
    "def kernel_fn(x, y):\n",
    "    k = nets.DeepKernel([2, 2, 2])\n",
    "#     k = nets.RBFKernel(parametrization=\"full\")\n",
    "    return k(np.stack([x, y]))\n",
    "deep_kernel = hk.transform(kernel_fn)\n",
    "\n",
    "# init params\n",
    "d = 3\n",
    "x = np.ones(d)\n",
    "params = deep_kernel.init(subkey, x, x)\n",
    "def k(x, y):\n",
    "    return deep_kernel.apply(params, None, x, y)\n",
    "\n",
    "# evaluate at particles\n",
    "n = 50\n",
    "samples = random.normal(subkey, (n, d))\n",
    "kvalues = vmap(k, (None, 0))(samples[0], samples[1:])\n",
    "\n",
    "plt.hist(kvalues)"
   ]
  },
  {
   "cell_type": "code",
   "execution_count": null,
   "metadata": {},
   "outputs": [],
   "source": [
    "np.count_nonzero(kvalues > 1e-1)"
   ]
  },
  {
   "cell_type": "code",
   "execution_count": null,
   "metadata": {},
   "outputs": [],
   "source": [
    "sigma = np.diag(np.ones(2))\n",
    "k = kernels.get_multivariate_gaussian_kernel(sigma)\n",
    "dist2 = distributions.Gaussian([0, 0], [1, 1])\n",
    "x, y = dist2.sample(2)\n",
    "k(x, y)"
   ]
  },
  {
   "cell_type": "code",
   "execution_count": null,
   "metadata": {},
   "outputs": [],
   "source": []
  },
  {
   "cell_type": "markdown",
   "metadata": {},
   "source": [
    "# RBF kernel in high dim"
   ]
  },
  {
   "cell_type": "code",
   "execution_count": null,
   "metadata": {},
   "outputs": [],
   "source": [
    "k = kernels.get_rbf_kernel(1)\n",
    "kh = kernels.get_rbf_kernel(3)\n",
    "n = 1000\n",
    "samples_d2 = random.normal(subkey, shape=(n, 2))\n",
    "samples_d20 = random.normal(subkey, shape=(n, 20))"
   ]
  },
  {
   "cell_type": "code",
   "execution_count": null,
   "metadata": {},
   "outputs": [],
   "source": [
    "kvalues_d2 =  vmap(k, (None, 0))(samples_d2[0], samples_d2[1:])\n",
    "kvalues_d20 = vmap(kh, (None, 0))(samples_d20[0], samples_d20[1:])"
   ]
  },
  {
   "cell_type": "code",
   "execution_count": null,
   "metadata": {},
   "outputs": [],
   "source": [
    "_ = plt.hist(np.log10(kvalues_d2), bins=20, alpha=0.5, label=\"Dimension 2\", density=True)\n",
    "_ = plt.hist(np.log10(kvalues_d20), bins=20, alpha=0.5, label=\"Dimension 20\", density=True)\n",
    "plt.legend()\n",
    "# plt.axvline(x=-1.5, color=\"red\", linestyle=\"--\")"
   ]
  },
  {
   "cell_type": "code",
   "execution_count": null,
   "metadata": {},
   "outputs": [],
   "source": [
    "key, subkey = random.split(key)\n",
    "def mean_k()\n",
    "permuted_samples = random.permutation(subkey, samples_d2)\n",
    "mean_k_2d = np.mean(vmap(k)(samples_d2, permuted_samples))\n",
    "\n",
    "key, subkey = random.split(key)\n",
    "permuted_samples = random.permutation(subkey, samples_d20)\n",
    "mean_k_20d = np.mean(vmap(k)(samples_d20, permuted_samples))\n",
    "\n",
    "\n",
    "print(mean_k_2d)\n",
    "print(mean_k_20d)"
   ]
  },
  {
   "cell_type": "markdown",
   "metadata": {},
   "source": [
    "# test kernel modules"
   ]
  },
  {
   "cell_type": "code",
   "execution_count": null,
   "metadata": {},
   "outputs": [],
   "source": [
    "sizes=[4, 4, 3]"
   ]
  },
  {
   "cell_type": "code",
   "execution_count": null,
   "metadata": {},
   "outputs": [],
   "source": [
    "d = 2\n",
    "key, subkey = random.split(key)\n",
    "x_dummy = random.normal(subkey, shape=(2,d))\n",
    "\n",
    "key, subkey = random.split(key)\n",
    "k = hk.transform(lambda x: nets.RBFKernel(parametrization=\"full\")(x))\n",
    "params = k.init(subkey, x_dummy)\n",
    "\n",
    "key, subkey = random.split(key)\n",
    "k2 = hk.transform(lambda x: nets.RBFKernel(scale_param=True)(x))\n",
    "params2 = k2.init(subkey, x_dummy)"
   ]
  },
  {
   "cell_type": "code",
   "execution_count": null,
   "metadata": {},
   "outputs": [],
   "source": [
    "key, subkey = random.split(key)\n",
    "xy = random.normal(subkey, shape=(2,d))\n",
    "xy"
   ]
  },
  {
   "cell_type": "code",
   "execution_count": null,
   "metadata": {},
   "outputs": [],
   "source": [
    "kernel = kernels.get_rbf_kernel(1)\n",
    "kernel(*xy)"
   ]
  },
  {
   "cell_type": "code",
   "execution_count": null,
   "metadata": {},
   "outputs": [],
   "source": [
    "k.apply(params, None, xy)"
   ]
  },
  {
   "cell_type": "code",
   "execution_count": null,
   "metadata": {},
   "outputs": [],
   "source": [
    "params2"
   ]
  },
  {
   "cell_type": "code",
   "execution_count": null,
   "metadata": {},
   "outputs": [],
   "source": [
    "k2.apply(params2, None, xy)"
   ]
  },
  {
   "cell_type": "markdown",
   "metadata": {},
   "source": [
    "## play with params"
   ]
  },
  {
   "cell_type": "code",
   "execution_count": null,
   "metadata": {},
   "outputs": [],
   "source": [
    "d = hk.data_structures.to_mutable_dict(params2)\n",
    "d[\"rbf_kernel\"][\"scale\"] = np.array(2.)"
   ]
  },
  {
   "cell_type": "code",
   "execution_count": null,
   "metadata": {},
   "outputs": [],
   "source": [
    "k2.apply(d, None, xy) == 2* k2.apply(params2, None, xy)"
   ]
  },
  {
   "cell_type": "code",
   "execution_count": null,
   "metadata": {},
   "outputs": [],
   "source": [
    "d = hk.data_structures.to_mutable_dict(params2)\n",
    "d[\"rbf_kernel\"][\"bandwidth\"] = np.array([2., 2.])"
   ]
  },
  {
   "cell_type": "code",
   "execution_count": null,
   "metadata": {},
   "outputs": [],
   "source": [
    "k2.apply(d, None, xy)# == 2* k2.apply(params2, None, xy)"
   ]
  },
  {
   "cell_type": "markdown",
   "metadata": {},
   "source": [
    "# ARD kernel"
   ]
  },
  {
   "cell_type": "code",
   "execution_count": null,
   "metadata": {},
   "outputs": [],
   "source": [
    "key, subkey = random.split(key)\n",
    "sigma = random.normal(key, shape=(2,2))\n",
    "ard = kernels.get_ard_kernel(sigma, dim=2)\n",
    "\n",
    "ard_f = lambda x: ard(x, [0.,0.])\n",
    "\n",
    "plot.plot_fun_2d(ard_f)"
   ]
  },
  {
   "cell_type": "markdown",
   "metadata": {},
   "source": [
    "# classes and inheritance\n"
   ]
  },
  {
   "cell_type": "code",
   "execution_count": null,
   "metadata": {},
   "outputs": [],
   "source": [
    "class FooMixin:\n",
    "    def __init__(self, *args, **kwargs):\n",
    "        super().__init__(*args, **kwargs)  # forwards all unused arguments\n",
    "        self.foo = 'foo'\n",
    "\n",
    "class Bar:\n",
    "    def __init__(self, bar):\n",
    "        self.bar = bar\n",
    "\n",
    "class FooBar(FooMixin, Bar):\n",
    "    def __init__(self, bar='bar'):\n",
    "        super().__init__(bar)  # a single call is enough to invoke\n",
    "                               # all parent constructors"
   ]
  },
  {
   "cell_type": "code",
   "execution_count": null,
   "metadata": {},
   "outputs": [],
   "source": [
    "fb = FooBar('testbar')"
   ]
  },
  {
   "cell_type": "code",
   "execution_count": null,
   "metadata": {},
   "outputs": [],
   "source": [
    "class A:\n",
    "    def __init__(self):\n",
    "#         super().__init__()\n",
    "        print(\"init A\")\n",
    "\n",
    "class B:\n",
    "    def __init__(self):\n",
    "        super().__init__()\n",
    "        print(\"init B\")\n",
    "\n",
    "class C(A, B):\n",
    "    def __init__(self):\n",
    "        super().__init__()\n",
    "\n",
    "c = C()"
   ]
  },
  {
   "cell_type": "markdown",
   "metadata": {},
   "source": [
    "# testing vec"
   ]
  },
  {
   "cell_type": "code",
   "execution_count": null,
   "metadata": {},
   "outputs": [],
   "source": [
    "def vec_fn(x):\n",
    "    vec = nets.VectorField([4,4,1])\n",
    "    return vec(x)\n",
    "v = hk.transform(vec_fn)"
   ]
  },
  {
   "cell_type": "code",
   "execution_count": null,
   "metadata": {},
   "outputs": [],
   "source": [
    "x = np.ones((1,))\n",
    "params = v.init(key, x)"
   ]
  },
  {
   "cell_type": "code",
   "execution_count": null,
   "metadata": {},
   "outputs": [],
   "source": [
    "x = random.normal(key, (10,1))\n",
    "out = v.apply(params, None, x)\n",
    "out"
   ]
  },
  {
   "cell_type": "code",
   "execution_count": null,
   "metadata": {},
   "outputs": [],
   "source": [
    "sdlfj"
   ]
  },
  {
   "cell_type": "markdown",
   "metadata": {},
   "source": [
    "# Normalizing Layer"
   ]
  },
  {
   "cell_type": "code",
   "execution_count": null,
   "metadata": {},
   "outputs": [],
   "source": [
    "class Norm(hk.Module):\n",
    "    \"\"\"Much simpler than using BatchNorm\"\"\"\n",
    "    def __init__(self, name=None):\n",
    "        super().__init__(name=name)\n",
    "\n",
    "    def __call__(self, x):\n",
    "        \"\"\"x is a batch of particles of shape (n, d)\"\"\"\n",
    "        mean = np.mean(x, axis=0)\n",
    "        std = np.std(x, axis=0)\n",
    "        return (x - mean) / (std + 1e-5)\n",
    "\n",
    "def test_fn(x):\n",
    "    norm = Norm()\n",
    "    return norm(x)\n",
    "\n",
    "t = hk.transform(test_fn)"
   ]
  },
  {
   "cell_type": "code",
   "execution_count": null,
   "metadata": {},
   "outputs": [],
   "source": [
    "x = random.normal(key, (5000,)) * 2 + 3\n",
    "out = t.apply(None, None, x)"
   ]
  },
  {
   "cell_type": "code",
   "execution_count": null,
   "metadata": {},
   "outputs": [],
   "source": [
    "plt.hist(out, density=True, alpha=0.5, bins=30, label=\"Normalized\")\n",
    "_ = plt.hist(x, density=True, alpha=0.5, bins=30, label=\"Original\")\n",
    "plt.legend()"
   ]
  },
  {
   "cell_type": "markdown",
   "metadata": {},
   "source": [
    "# test haiku batching"
   ]
  },
  {
   "cell_type": "markdown",
   "metadata": {},
   "source": [
    "* hk.Module itself does not know about batch dimensions. It just calls whatever method you implement directly on the input of apply.\n",
    "* However, many layers do care about batch dimensions. E.g. `hk.Linear` is made for vector inputs; all other dims are treated as batch dimensions (see also the tutorial Linear implementation on the haiku github readme).\n",
    "* `BatchNorm` normalizes across all dimensions except the *last* (since we don't wanna normalize across a single input). So all dimensions other than the last are treated as batch dimensions.\n",
    "* Upshot: if I want to add a layer that operates on the whole batch in a non-entry-wise manner, I can just do that by writing a `hk.Layer` that uses the batch dim."
   ]
  },
  {
   "cell_type": "code",
   "execution_count": null,
   "metadata": {},
   "outputs": [],
   "source": [
    "class Test(hk.Module):\n",
    "    def __init__(self):\n",
    "        super().__init__()\n",
    "\n",
    "    def __call__(self, x):\n",
    "        a = hk.get_parameter()\n",
    "        return x * a\n",
    "\n",
    "def t_fn(x):\n",
    "    norm = hk.BatchNorm(False, False, 0)\n",
    "    return norm(x, is_training=True)\n",
    "\n",
    "t = hk.transform_with_state(t_fn)"
   ]
  },
  {
   "cell_type": "code",
   "execution_count": null,
   "metadata": {},
   "outputs": [],
   "source": [
    "key, subkey = random.split(key)\n",
    "x_dummy = random.normal(subkey, shape=(2,))\n",
    "params, state = t.init(key, x_dummy)"
   ]
  },
  {
   "cell_type": "code",
   "execution_count": null,
   "metadata": {},
   "outputs": [],
   "source": [
    "t.apply(params, state, key, x_dummy)"
   ]
  },
  {
   "cell_type": "code",
   "execution_count": null,
   "metadata": {},
   "outputs": [],
   "source": [
    "x = random.normal(subkey, shape=(1000,2))\n",
    "out, state = t.apply(params, state, key, x)\n",
    "out - x"
   ]
  },
  {
   "cell_type": "code",
   "execution_count": null,
   "metadata": {},
   "outputs": [],
   "source": [
    "state"
   ]
  },
  {
   "cell_type": "markdown",
   "metadata": {},
   "source": [
    "# comparing SGLD"
   ]
  },
  {
   "cell_type": "code",
   "execution_count": null,
   "metadata": {},
   "outputs": [],
   "source": [
    "target = distributions.Gaussian(0, 1)\n",
    "proposal = distributions.Gaussian(-3, 1)\n",
    "\n",
    "key, subkey = random.split(key)\n",
    "gradient = models.EnergyGradient(target, subkey)\n",
    "key, subkey = random.split(key)\n",
    "particles = models.Particles(subkey, gradient.gradient, proposal, n_particles=50, num_groups=1, learning_rate=1e-1, optimizer=\"adam\", noise_level=1.)"
   ]
  },
  {
   "cell_type": "code",
   "execution_count": null,
   "metadata": {},
   "outputs": [],
   "source": [
    "scales = []\n",
    "for _ in range(100):\n",
    "    particles.step(None)\n",
    "    scales.append(onp.squeeze(onp.abs(particles.noise_scales)).tolist())"
   ]
  },
  {
   "cell_type": "code",
   "execution_count": null,
   "metadata": {},
   "outputs": [],
   "source": [
    "fig, axs = plt.subplots(2, figsize=[8, 6])\n",
    "particles.plot_trajectories(marker=\".\", ax=axs[0])\n",
    "axs[1].plot(scales, \"--.\")\n",
    "plt.yscale(\"log\")"
   ]
  },
  {
   "cell_type": "code",
   "execution_count": null,
   "metadata": {},
   "outputs": [],
   "source": [
    "fig, axs = plt.subplots(2, figsize=[8, 6])\n",
    "particles.plot_trajectories(marker=\".\", ax=axs[0])\n",
    "axs[1].plot(scales, \"--.\")\n",
    "plt.yscale(\"log\")"
   ]
  },
  {
   "cell_type": "markdown",
   "metadata": {},
   "source": [
    "# dists"
   ]
  },
  {
   "cell_type": "code",
   "execution_count": null,
   "metadata": {},
   "outputs": [],
   "source": [
    "from distributions import Gaussian as G"
   ]
  },
  {
   "cell_type": "code",
   "execution_count": null,
   "metadata": {},
   "outputs": [],
   "source": [
    "%autoreload"
   ]
  },
  {
   "cell_type": "code",
   "execution_count": null,
   "metadata": {},
   "outputs": [],
   "source": [
    "target = G(0,1)"
   ]
  },
  {
   "cell_type": "code",
   "execution_count": null,
   "metadata": {},
   "outputs": [],
   "source": [
    "learner = models.SDLearner(target)\n",
    "particles = models.Particles(key, learner.gradient, target)"
   ]
  },
  {
   "cell_type": "code",
   "execution_count": null,
   "metadata": {},
   "outputs": [],
   "source": [
    "learner.train(particles.next_batch, key=subkey, n_steps=5)\n",
    "particles.step(learner.get_params())"
   ]
  },
  {
   "cell_type": "code",
   "execution_count": null,
   "metadata": {},
   "outputs": [],
   "source": [
    "learner.rundata[\"train_steps\"]"
   ]
  },
  {
   "cell_type": "code",
   "execution_count": null,
   "metadata": {},
   "outputs": [],
   "source": [
    "learner.step_counter"
   ]
  },
  {
   "cell_type": "code",
   "execution_count": null,
   "metadata": {},
   "outputs": [],
   "source": [
    "learner.rundata[\"step_counter\"]"
   ]
  },
  {
   "cell_type": "markdown",
   "metadata": {},
   "source": [
    "# check if dists have correct statistics"
   ]
  },
  {
   "cell_type": "code",
   "execution_count": null,
   "metadata": {},
   "outputs": [],
   "source": [
    "%autoreload"
   ]
  },
  {
   "cell_type": "code",
   "execution_count": null,
   "metadata": {},
   "outputs": [],
   "source": [
    "def check_dist(dist, key):\n",
    "    s = dist.sample(10**4, key=key)\n",
    "    errs = {\n",
    "        \"se_mean\": np.sum((np.mean(s, axis=0) - dist.mean)**2),\n",
    "        \"se_cov\": np.sum((np.cov(s, rowvar=False) - dist.cov)**2),\n",
    "    }\n",
    "    for k, err in errs.items():\n",
    "        if err > 1e-2:\n",
    "            print(f\"{k} to big! {k} = {err} > 0.01\")\n",
    "    return"
   ]
  },
  {
   "cell_type": "code",
   "execution_count": null,
   "metadata": {},
   "outputs": [],
   "source": [
    "dist = distributions.Gaussian(0, 1)\n",
    "check_dist(dist, key)"
   ]
  },
  {
   "cell_type": "code",
   "execution_count": null,
   "metadata": {},
   "outputs": [],
   "source": [
    "dist, _ = distributions.funnel.get()\n",
    "check_dist(dist, key) # fine, just hard to approximate"
   ]
  },
  {
   "cell_type": "code",
   "execution_count": null,
   "metadata": {},
   "outputs": [],
   "source": [
    "dist, _ = distributions.banana_target.get()\n",
    "check_dist(dist, key) # fine"
   ]
  },
  {
   "cell_type": "code",
   "execution_count": null,
   "metadata": {},
   "outputs": [],
   "source": [
    "dist, _ = distributions.ring_target.get()\n",
    "check_dist(dist, key) # fine"
   ]
  },
  {
   "cell_type": "code",
   "execution_count": null,
   "metadata": {},
   "outputs": [],
   "source": [
    "dist, _ = distributions.squiggle_target.get()\n",
    "check_dist(dist, key)"
   ]
  },
  {
   "cell_type": "code",
   "execution_count": null,
   "metadata": {},
   "outputs": [],
   "source": []
  }
 ],
 "metadata": {
  "kernelspec": {
   "display_name": "msc-thesis",
   "language": "python",
   "name": "msc-thesis"
  },
  "language_info": {
   "codemirror_mode": {
    "name": "ipython",
    "version": 3
   },
   "file_extension": ".py",
   "mimetype": "text/x-python",
   "name": "python",
   "nbconvert_exporter": "python",
   "pygments_lexer": "ipython3",
   "version": "3.8.5"
  }
 },
 "nbformat": 4,
 "nbformat_minor": 4
}
