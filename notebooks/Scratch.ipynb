{
 "cells": [
  {
   "cell_type": "markdown",
   "metadata": {},
   "source": [
    "# Scratch Notebook"
   ]
  },
  {
   "cell_type": "code",
   "execution_count": 88,
   "metadata": {},
   "outputs": [
    {
     "name": "stdout",
     "output_type": "stream",
     "text": [
      "The autoreload extension is already loaded. To reload it, use:\n",
      "  %reload_ext autoreload\n"
     ]
    }
   ],
   "source": [
    "%load_ext autoreload\n",
    "\n",
    "import sys\n",
    "import copy\n",
    "import os\n",
    "import json_tricks as json\n",
    "import collections\n",
    "import itertools\n",
    "from functools import partial\n",
    "import importlib\n",
    "\n",
    "import numpy as onp\n",
    "from jax.config import config\n",
    "config.update(\"jax_debug_nans\", False)\n",
    "# config.update(\"jax_log_compiles\", True)\n",
    "# config.update(\"jax_enable_x64\", True)\n",
    "\n",
    "import jax.numpy as np\n",
    "import jax.numpy as jnp\n",
    "from jax import grad, jit, vmap, random, lax, jacfwd, value_and_grad\n",
    "from jax import lax\n",
    "from jax.ops import index_update, index\n",
    "import optax\n",
    "import matplotlib.pyplot as plt\n",
    "import time\n",
    "\n",
    "import numpy as onp\n",
    "import jax\n",
    "import pandas as pd\n",
    "import haiku as hk\n",
    "import ot\n",
    "\n",
    "\n",
    "from nvgd.src import utils, metrics, plot, stein, kernels, distributions, nets, models\n",
    "from nvgd.experiments import bnn, dataloader\n",
    "\n",
    "from jax.experimental import optimizers\n",
    "\n",
    "key = random.PRNGKey(0)\n",
    "key, subkey = random.split(key)\n",
    "\n",
    "from jax.scipy.stats import norm\n",
    "\n",
    "from tensorflow_probability.substrates import jax as tfp\n",
    "tfd = tfp.distributions\n",
    "tfb = tfp.bijectors\n",
    "tfpk = tfp.math.psd_kernels"
   ]
  },
  {
   "cell_type": "markdown",
   "metadata": {},
   "source": [
    "# is jax ravel / unravel always commutative?"
   ]
  },
  {
   "cell_type": "code",
   "execution_count": 15,
   "metadata": {},
   "outputs": [
    {
     "name": "stdout",
     "output_type": "stream",
     "text": [
      "[1 2 3]\n",
      "[1 2 3]\n"
     ]
    }
   ],
   "source": [
    "d1 = {'a': jnp.array(1), 'b': jnp.array(2), 'c': jnp.array(3)}\n",
    "d2 = {'c': 3, 'a': 1, 'b': 2}\n",
    "\n",
    "d1_arr, d1_unravel = jax.flatten_util.ravel_pytree(d1)\n",
    "d2_arr, d2_unravel = jax.flatten_util.ravel_pytree(d2)\n",
    "\n",
    "print(d1_arr)\n",
    "print(d2_arr)"
   ]
  },
  {
   "cell_type": "code",
   "execution_count": 16,
   "metadata": {},
   "outputs": [
    {
     "data": {
      "text/plain": [
       "{'a': DeviceArray(1, dtype=int32),\n",
       " 'b': DeviceArray(2, dtype=int32),\n",
       " 'c': DeviceArray(3, dtype=int32)}"
      ]
     },
     "execution_count": 16,
     "metadata": {},
     "output_type": "execute_result"
    }
   ],
   "source": [
    "d1"
   ]
  },
  {
   "cell_type": "code",
   "execution_count": 17,
   "metadata": {},
   "outputs": [
    {
     "data": {
      "text/plain": [
       "{'a': array((b'',), dtype=[('float0', 'V')]),\n",
       " 'b': array((b'',), dtype=[('float0', 'V')]),\n",
       " 'c': array((b'',), dtype=[('float0', 'V')])}"
      ]
     },
     "execution_count": 17,
     "metadata": {},
     "output_type": "execute_result"
    }
   ],
   "source": [
    "d1_unravel(d1_arr)"
   ]
  },
  {
   "cell_type": "code",
   "execution_count": 18,
   "metadata": {},
   "outputs": [
    {
     "name": "stdout",
     "output_type": "stream",
     "text": [
      "{'a': array((b'',), dtype=[('float0', 'V')]), 'b': array((b'',), dtype=[('float0', 'V')]), 'c': array((b'',), dtype=[('float0', 'V')])}\n",
      "{'a': array((b'',), dtype=[('float0', 'V')]), 'b': array((b'',), dtype=[('float0', 'V')]), 'c': array((b'',), dtype=[('float0', 'V')])}\n"
     ]
    }
   ],
   "source": [
    "print(d1_unravel(d1_arr))\n",
    "print(d1_unravel(d2_arr))"
   ]
  },
  {
   "cell_type": "markdown",
   "metadata": {},
   "source": [
    "# test hypernet"
   ]
  },
  {
   "cell_type": "code",
   "execution_count": 21,
   "metadata": {},
   "outputs": [],
   "source": [
    "%autoreload"
   ]
  },
  {
   "cell_type": "code",
   "execution_count": 22,
   "metadata": {},
   "outputs": [
    {
     "data": {
      "text/plain": [
       "FlatMapping({\n",
       "  'cnn/conv': FlatMapping({'w': (3, 3, 8, 8)}),\n",
       "  'cnn/conv_1': FlatMapping({'w': (3, 3, 8, 8)}),\n",
       "  'cnn/conv_2': FlatMapping({'w': (3, 3, 8, 8)}),\n",
       "  'cnn/conv_3': FlatMapping({'w': (3, 3, 8, 8)}),\n",
       "  'cnn/conv_4': FlatMapping({'w': (3, 3, 8, 8)}),\n",
       "  'cnn/misc': FlatMapping({'w': (3, 3, 1, 8)}),\n",
       "  'cnn/misc_1': FlatMapping({'b': (10,), 'w': (128, 10)}),\n",
       "})"
      ]
     },
     "execution_count": 22,
     "metadata": {},
     "output_type": "execute_result"
    }
   ],
   "source": [
    "# base convnet\n",
    "def cnn_fn(image, debug=False):\n",
    "    return nets.CNN()(image, debug)\n",
    "\n",
    "\n",
    "cnn = hk.transform(cnn_fn)\n",
    "base_params = cnn.init(subkey, dataloader.data.train_images[:2] / 100)\n",
    "utils.leaf_shapes(base_params)"
   ]
  },
  {
   "cell_type": "code",
   "execution_count": 28,
   "metadata": {},
   "outputs": [],
   "source": [
    "def hnet_fn(base_params):\n",
    "    return nets.StaticHypernet()(base_params)\n",
    "\n",
    "\n",
    "hnet = hk.transform(hnet_fn)\n",
    "hnet_params = hnet.init(subkey, base_params)\n",
    "delta_params = hnet.apply(hnet_params, subkey, base_params)"
   ]
  },
  {
   "cell_type": "code",
   "execution_count": 30,
   "metadata": {},
   "outputs": [],
   "source": [
    "from chex import assert_tree_all_equal_shapes\n",
    "assert_tree_all_equal_shapes([delta_params, base_params])"
   ]
  },
  {
   "cell_type": "markdown",
   "metadata": {},
   "source": [
    "# hk net structure and naming"
   ]
  },
  {
   "cell_type": "code",
   "execution_count": 2,
   "metadata": {},
   "outputs": [],
   "source": [
    "%autoreload"
   ]
  },
  {
   "cell_type": "code",
   "execution_count": 3,
   "metadata": {},
   "outputs": [],
   "source": [
    "xdummy = random.normal(subkey, (2, 10, 10))\n",
    "def net_fn(x):\n",
    "    fwd = hk.Sequential([\n",
    "        hk.Conv2D(8, 3, name='woobie'),\n",
    "        hk.Conv2D(8, 3, name='woobie'),\n",
    "        hk.Flatten(),\n",
    "        hk.Linear(5)\n",
    "    ], name=\"sequeential\")\n",
    "    return fwd(x)"
   ]
  },
  {
   "cell_type": "code",
   "execution_count": 4,
   "metadata": {},
   "outputs": [],
   "source": [
    "net = hk.transform(net_fn)"
   ]
  },
  {
   "cell_type": "code",
   "execution_count": 5,
   "metadata": {},
   "outputs": [
    {
     "data": {
      "text/plain": [
       "FlatMapping({\n",
       "  'linear': FlatMapping({'b': (5,), 'w': (80, 5)}),\n",
       "  'woobie': FlatMapping({'b': (8,), 'w': (3, 3, 10, 8)}),\n",
       "  'woobie_1': FlatMapping({'b': (8,), 'w': (3, 3, 8, 8)}),\n",
       "})"
      ]
     },
     "execution_count": 5,
     "metadata": {},
     "output_type": "execute_result"
    }
   ],
   "source": [
    "params = net.init(subkey, xdummy)\n",
    "utils.leaf_shapes(params)"
   ]
  },
  {
   "cell_type": "code",
   "execution_count": 6,
   "metadata": {},
   "outputs": [
    {
     "data": {
      "text/plain": [
       "FlatMapping({\n",
       "  'linear': FlatMapping({'b': (5,), 'w': (80, 5)}),\n",
       "  'woobie': FlatMapping({'b': (8,), 'w': (3, 3, 10, 8)}),\n",
       "  'woobie_1': FlatMapping({'b': (8,), 'w': (3, 3, 8, 8)}),\n",
       "})"
      ]
     },
     "execution_count": 6,
     "metadata": {},
     "output_type": "execute_result"
    }
   ],
   "source": [
    "params = net.init(subkey, xdummy)\n",
    "utils.leaf_shapes(params)"
   ]
  },
  {
   "cell_type": "markdown",
   "metadata": {},
   "source": [
    "# test hypernet"
   ]
  },
  {
   "cell_type": "code",
   "execution_count": 7,
   "metadata": {},
   "outputs": [],
   "source": [
    "from nvgd.experiments import bnn, dataloader"
   ]
  },
  {
   "cell_type": "code",
   "execution_count": 39,
   "metadata": {},
   "outputs": [],
   "source": [
    "%autoreload"
   ]
  },
  {
   "cell_type": "code",
   "execution_count": 8,
   "metadata": {},
   "outputs": [],
   "source": [
    "# base convnet\n",
    "def cnn_fn(image, debug=False):\n",
    "    return nets.CNN()(image, debug)\n",
    "\n",
    "cnn = hk.transform(cnn_fn)\n",
    "base_params = cnn.init(subkey, dataloader.data.train_images[:2] / 100)\n",
    "# utils.leaf_shapes(base_params)\n",
    "\n",
    "\n",
    "def split_param_dict(base_params):\n",
    "    \"\"\"\n",
    "    preprocess NN parameters before feeding into hypernetwork.\n",
    "\n",
    "    args:\n",
    "        pytree of neural net parameters\n",
    "        \n",
    "    returns:\n",
    "        two dictionaries, containing conv params and misc params.\n",
    "        these dictionaries are fed directly into hypernet.\n",
    "    \"\"\"\n",
    "    conv_dict = {k: v for k, v in base_params.items() if 'conv' in k}\n",
    "    misc_dict = {k: v for k, v in base_params.items() if 'misc' in k}\n",
    "    return conv_dict, misc_dict"
   ]
  },
  {
   "cell_type": "code",
   "execution_count": 9,
   "metadata": {},
   "outputs": [],
   "source": [
    "# split dict\n",
    "conv_dict = {k: v for k, v in base_params.items() if \"conv\" in k}\n",
    "misc_dict = {k: v for k, v in base_params.items() if \"misc\" in k}"
   ]
  },
  {
   "cell_type": "code",
   "execution_count": 67,
   "metadata": {},
   "outputs": [
    {
     "data": {
      "text/plain": [
       "array([0, 1, 2, 3, 4, 5, 6, 7, 8, 9])"
      ]
     },
     "execution_count": 67,
     "metadata": {},
     "output_type": "execute_result"
    }
   ],
   "source": [
    "# are reshape and ravel commutative?\n",
    "onp.arange(10).reshape(2,5).ravel()"
   ]
  },
  {
   "cell_type": "code",
   "execution_count": 68,
   "metadata": {},
   "outputs": [],
   "source": [
    "def hypernet_shape_utilities(conv_dict, misc_dict):\n",
    "    \"\"\"\n",
    "    args:\n",
    "        conv_dict: dictionary containing conv layer parameters. Importantly,\n",
    "            every layer must have the same number of parameters (since they\n",
    "            will be concatenated and fed as batched input to an MLP).\n",
    "        misc_dict: dictionary containing other parameters. These are typically\n",
    "            all layers that don't have the right number of parameters, such as\n",
    "            the first conv layer and the final linear layer.\n",
    "\n",
    "    returns:\n",
    "        two functions (ravel, unravel) that map conv_dict and\n",
    "            misc_dict to arrays and back again.\n",
    "    \"\"\"\n",
    "    conv_params, conv_treedef = jax.tree_flatten(conv_dict)\n",
    "    conv_kernel_shape = conv_params[0].shape\n",
    "    _, misc_unravel = jax.flatten_util.ravel_pytree(misc_dict)\n",
    "\n",
    "    def ravel(conv_dict, misc_dict):\n",
    "        # dict to arrays\n",
    "        conv_params, conv_treedef = jax.tree_flatten(conv_dict)\n",
    "        conv_params = [jnp.ravel(p) for p in conv_params]\n",
    "        conv_params = jnp.asarray(conv_params)\n",
    "\n",
    "        misc_params, _ = jax.flatten_util.ravel_pytree(misc_dict)\n",
    "        return conv_params, misc_params\n",
    "\n",
    "    def unravel(conv_params_arr, misc_params_arr):\n",
    "        # arrays to dict\n",
    "        cp = [jnp.reshape(p, conv_kernel_shape) for p in conv_params_arr]\n",
    "        conv_dict_new = jax.tree_unflatten(conv_treedef, cp)\n",
    "        misc_dict_new = misc_unravel(misc_params_arr)\n",
    "        return conv_dict_new, misc_dict_new\n",
    "\n",
    "    return ravel, unravel"
   ]
  },
  {
   "cell_type": "code",
   "execution_count": 69,
   "metadata": {},
   "outputs": [],
   "source": [
    "param_ravel, param_unravel = hypernet_shape_utilities(conv_dict, misc_dict)\n",
    "conv_arr, misc_arr = param_ravel(conv_dict, misc_dict)\n",
    "conv_dict_new, misc_dict_new = param_unravel(conv_arr, misc_arr)\n",
    "\n",
    "from chex import assert_tree_all_close\n",
    "\n",
    "assert_tree_all_close(misc_dict, misc_dict_new)\n",
    "assert_tree_all_close(conv_dict, conv_dict_new)"
   ]
  },
  {
   "cell_type": "code",
   "execution_count": 71,
   "metadata": {},
   "outputs": [
    {
     "name": "stdout",
     "output_type": "stream",
     "text": [
      "\n",
      "(2, 28, 28, 8)\n",
      "\n",
      "(2, 14, 14, 8)\n",
      "\n",
      "(2, 14, 14, 8)\n",
      "\n",
      "(2, 7, 7, 8)\n",
      "\n",
      "(2, 7, 7, 8)\n",
      "\n",
      "(2, 4, 4, 8)\n",
      "\n",
      "(2, 10)\n"
     ]
    }
   ],
   "source": [
    "out = cnn.apply(base_params, subkey, dataloader.data.train_images[:2] / 100, debug=True)"
   ]
  },
  {
   "cell_type": "markdown",
   "metadata": {},
   "source": [
    "# jax and cache"
   ]
  },
  {
   "cell_type": "code",
   "execution_count": 39,
   "metadata": {},
   "outputs": [],
   "source": [
    "def fib(n):\n",
    "    if n <= 1:\n",
    "        return n\n",
    "    else:\n",
    "        return fib(n-1) + fib(n-2)\n",
    "\n",
    "\n",
    "# @jit\n",
    "def fib2(n):\n",
    "    return lax.cond(True,\n",
    "                    lambda n: n,\n",
    "                    lambda n: fib2(n-1) + fib2(n-2),\n",
    "                    n)"
   ]
  },
  {
   "cell_type": "code",
   "execution_count": null,
   "metadata": {},
   "outputs": [],
   "source": [
    "# idea was to test if jit caches function results. but I'm pretty sure it does, see the jax documentiation."
   ]
  },
  {
   "cell_type": "markdown",
   "metadata": {},
   "source": [
    "# Convnet layer shapes"
   ]
  },
  {
   "cell_type": "code",
   "execution_count": 20,
   "metadata": {},
   "outputs": [],
   "source": [
    "import dataloader\n",
    "data = dataloader.data"
   ]
  },
  {
   "cell_type": "code",
   "execution_count": 17,
   "metadata": {},
   "outputs": [
    {
     "data": {
      "text/plain": [
       "FlatMapping({\n",
       "  'conv2_d': FlatMapping({'b': (8,), 'w': (3, 3, 1, 8)}),\n",
       "  'conv2_d_1': FlatMapping({'b': (8,), 'w': (3, 3, 8, 8)}),\n",
       "  'linear': FlatMapping({'b': (10,), 'w': (392, 10)}),\n",
       "})"
      ]
     },
     "execution_count": 17,
     "metadata": {},
     "output_type": "execute_result"
    }
   ],
   "source": [
    "# sys.path.append(\"../experiments\")\n",
    "# import bnn\n",
    "cnn_params = bnn.unravel(bnn.init_flat_params(key))\n",
    "utils.leaf_shapes(cnn_params)"
   ]
  },
  {
   "cell_type": "code",
   "execution_count": 23,
   "metadata": {},
   "outputs": [],
   "source": [
    "initializer = hk.initializers.RandomNormal(stddev=1 / 100)\n",
    "\n",
    "\n",
    "def make_model():\n",
    "    def model_fn(image):\n",
    "        \"\"\"returns logits\"\"\"\n",
    "        n_channels = 32\n",
    "        image = image.astype(jnp.float32)\n",
    "        convnet = hk.Sequential([\n",
    "            hk.Conv2D(n_channels, kernel_shape=3, w_init=initializer, b_init=initializer, stride=2),\n",
    "            jax.nn.relu,\n",
    "\n",
    "            hk.Conv2D(n_channels, kernel_shape=3, w_init=initializer, b_init=initializer, stride=2),\n",
    "            jax.nn.relu,\n",
    "\n",
    "            hk.Conv2D(n_channels, kernel_shape=3, w_init=initializer, b_init=initializer, stride=2),\n",
    "            jax.nn.relu,\n",
    "\n",
    "            hk.Flatten(),\n",
    "            hk.Linear(10, w_init=initializer, b_init=initializer),\n",
    "        ])\n",
    "        return convnet(image)\n",
    "    return hk.without_apply_rng(hk.transform(model_fn))\n",
    "\n",
    "\n",
    "model = make_model()\n",
    "\n",
    "# utility functions for dealing with parameter shapes\n",
    "params_tree = model.init(random.PRNGKey(0), data.train_images[:2])"
   ]
  },
  {
   "cell_type": "code",
   "execution_count": 24,
   "metadata": {},
   "outputs": [
    {
     "data": {
      "text/plain": [
       "FlatMapping({\n",
       "  'conv2_d': FlatMapping({'b': (32,), 'w': (3, 3, 1, 32)}),\n",
       "  'conv2_d_1': FlatMapping({'b': (32,), 'w': (3, 3, 32, 32)}),\n",
       "  'linear': FlatMapping({'b': (10,), 'w': (1568, 10)}),\n",
       "})"
      ]
     },
     "execution_count": 24,
     "metadata": {},
     "output_type": "execute_result"
    }
   ],
   "source": [
    "utils.leaf_shapes(params_tree)"
   ]
  },
  {
   "cell_type": "markdown",
   "metadata": {},
   "source": [
    "# test new loss fn"
   ]
  },
  {
   "cell_type": "code",
   "execution_count": 96,
   "metadata": {},
   "outputs": [],
   "source": [
    "target = distributions.Funnel(2)\n",
    "reference = distributions.Gaussian([0, 0], [1, 1])\n",
    "\n",
    "key, subkey = random.split(key)\n",
    "init_particles = reference.sample(200, subkey)\n",
    "logp, dlogp = vmap(value_and_grad(target.logpdf))(init_particles)\n",
    "\n",
    "key, subkey = random.split(key)\n",
    "stein_network = models.SteinNetwork(target_dim=2,\n",
    "                                 key=subkey,\n",
    "                                 sizes=[32, 32, 2],\n",
    "                                 learning_rate=1e-3,\n",
    "                                 patience=15,\n",
    "                                 dropout=False,\n",
    "                                 normalize_inputs=False,\n",
    "                                 aux=False)\n",
    "\n",
    "f = utils.negative(stein_network.get_field())\n",
    "\n",
    "key, subkey = random.split(key)"
   ]
  },
  {
   "cell_type": "code",
   "execution_count": 97,
   "metadata": {},
   "outputs": [
    {
     "data": {
      "text/plain": [
       "(DeviceArray(0.47711164, dtype=float32),\n",
       " {'l2': DeviceArray(3.695649, dtype=float32),\n",
       "  'sd': DeviceArray(1.3707126, dtype=float32),\n",
       "  'loss': DeviceArray(0.47711164, dtype=float32)})"
      ]
     },
     "execution_count": 97,
     "metadata": {},
     "output_type": "execute_result"
    }
   ],
   "source": [
    "stein_network.loss_fn(stein_network.params, dlogp, subkey, init_particles, dropout=True)"
   ]
  },
  {
   "cell_type": "code",
   "execution_count": 98,
   "metadata": {},
   "outputs": [],
   "source": [
    "@partial(jit, static_argnums=4)\n",
    "def loss_fn(params, dlogp, key, particles, dropout=False):\n",
    "    n, d = particles.shape\n",
    "    v = stein_network.get_field(particles, params, dropout=dropout)\n",
    "    if dropout:\n",
    "        f = utils.negative(v)\n",
    "    else:\n",
    "        def f(x, dummy_key):\n",
    "            return -v(x)\n",
    "\n",
    "    # stein discrepancy\n",
    "    def h(x, dlogp_x, key):\n",
    "        zkey, fkey = random.split(key)\n",
    "        z = random.normal(zkey, (d,))\n",
    "        zdf = grad(lambda _x: np.vdot(z, f(_x, fkey)))\n",
    "        div_f = np.vdot(zdf(x), z)\n",
    "        sd = np.vdot(f(x, fkey), dlogp_x) + div_f\n",
    "        l2 = np.vdot(f(x, fkey), f(x, fkey))\n",
    "        aux = {\n",
    "            \"sd\": sd,\n",
    "            \"l2\": l2,\n",
    "        }\n",
    "        return -sd + l2 / 2, aux\n",
    "    keys = random.split(key, n)\n",
    "    loss, aux = vmap(h)(particles, dlogp, keys)\n",
    "    loss = loss.mean()\n",
    "    aux = {k: v.mean() for k, v in aux.items()}\n",
    "    aux.update({\"loss\": loss})\n",
    "#        #  add L1 term\n",
    "#        if self.l1_weight:\n",
    "#            loss = loss + self.l1_weight * np.abs(jnp.mean(vmap(f)(particles) - dlogp))\n",
    "    return loss, aux"
   ]
  },
  {
   "cell_type": "code",
   "execution_count": 162,
   "metadata": {},
   "outputs": [
    {
     "data": {
      "text/plain": [
       "(DeviceArray(-0.08575131, dtype=float32),\n",
       " {'l2': DeviceArray(3.3597863, dtype=float32),\n",
       "  'loss': DeviceArray(-0.08575131, dtype=float32),\n",
       "  'sd': DeviceArray(1.7656442, dtype=float32)})"
      ]
     },
     "execution_count": 162,
     "metadata": {},
     "output_type": "execute_result"
    }
   ],
   "source": [
    "key, subkey = random.split(key)\n",
    "loss_fn(stein_network.params, dlogp, subkey, init_particles, False)"
   ]
  },
  {
   "cell_type": "code",
   "execution_count": 110,
   "metadata": {},
   "outputs": [
    {
     "data": {
      "text/plain": [
       "DeviceArray(3.3597863, dtype=float32)"
      ]
     },
     "execution_count": 110,
     "metadata": {},
     "output_type": "execute_result"
    }
   ],
   "source": [
    "l2 = utils.l2_norm_squared(init_particles, f)\n",
    "l2"
   ]
  },
  {
   "cell_type": "code",
   "execution_count": 111,
   "metadata": {},
   "outputs": [
    {
     "data": {
      "text/plain": [
       "DeviceArray(1.293703, dtype=float32)"
      ]
     },
     "execution_count": 111,
     "metadata": {},
     "output_type": "execute_result"
    }
   ],
   "source": [
    "sd = stein.stein_discrepancy_fixed_log(init_particles, dlogp, f)\n",
    "sd"
   ]
  },
  {
   "cell_type": "markdown",
   "metadata": {},
   "source": [
    "## compare variances"
   ]
  },
  {
   "cell_type": "code",
   "execution_count": 165,
   "metadata": {},
   "outputs": [],
   "source": [
    "sds = []\n",
    "sds_new = []\n",
    "for _ in range(1000):\n",
    "    key, subkey = random.split(key)\n",
    "    sd = stein.stein_discrepancy_hutchinson_fixed_log(subkey, init_particles, dlogp, f)\n",
    "    _, aux = loss_fn(stein_network.params, dlogp, subkey, init_particles, True)\n",
    "\n",
    "    sds.append(sd)\n",
    "    sds_new.append(aux['sd'])"
   ]
  },
  {
   "cell_type": "code",
   "execution_count": 167,
   "metadata": {},
   "outputs": [
    {
     "data": {
      "text/plain": [
       "(array([0.00604178, 0.08458487, 0.21146218, 0.57396877, 1.20231354,\n",
       "        1.48023419, 1.29898196, 0.79147273, 0.3081306 , 0.08458487]),\n",
       " array([0.35115466, 0.5166689 , 0.68218315, 0.8476974 , 1.0132116 ,\n",
       "        1.1787258 , 1.3442402 , 1.5097544 , 1.6752687 , 1.8407829 ,\n",
       "        2.006297  ], dtype=float32),\n",
       " <BarContainer object of 10 artists>)"
      ]
     },
     "execution_count": 167,
     "metadata": {},
     "output_type": "execute_result"
    },
    {
     "data": {
      "image/png": "[encoded data removed]",
      "text/plain": [
       "<Figure size 432x288 with 1 Axes>"
      ]
     },
     "metadata": {
      "needs_background": "light"
     },
     "output_type": "display_data"
    }
   ],
   "source": [
    "plt.hist(onp.array(sds), density=True, alpha=0.6)\n",
    "plt.hist(onp.array(sds_new), density=True, label=\"new\", alpha=0.6)"
   ]
  },
  {
   "cell_type": "code",
   "execution_count": 112,
   "metadata": {},
   "outputs": [
    {
     "data": {
      "text/plain": [
       "DeviceArray(0.38619018, dtype=float32)"
      ]
     },
     "execution_count": 112,
     "metadata": {},
     "output_type": "execute_result"
    }
   ],
   "source": [
    "loss = -sd + l2 / 2\n",
    "loss"
   ]
  },
  {
   "cell_type": "code",
   "execution_count": 113,
   "metadata": {},
   "outputs": [
    {
     "data": {
      "text/plain": [
       "<matplotlib.lines.Line2D at 0x7f2543220880>"
      ]
     },
     "execution_count": 113,
     "metadata": {},
     "output_type": "execute_result"
    },
    {
     "data": {
      "image/png": "[encoded data removed]",
      "text/plain": [
       "<Figure size 432x288 with 1 Axes>"
      ]
     },
     "metadata": {
      "needs_background": "light"
     },
     "output_type": "display_data"
    }
   ],
   "source": [
    "plt.hist(onp.array(ls), density=True);\n",
    "plt.axvline(x=loss, color=\"green\")"
   ]
  },
  {
   "cell_type": "markdown",
   "metadata": {},
   "source": [
    "# load sweep csv"
   ]
  },
  {
   "cell_type": "code",
   "execution_count": 111,
   "metadata": {},
   "outputs": [
    {
     "data": {
      "text/html": [
       "<div>\n",
       "<style scoped>\n",
       "    .dataframe tbody tr th:only-of-type {\n",
       "        vertical-align: middle;\n",
       "    }\n",
       "\n",
       "    .dataframe tbody tr th {\n",
       "        vertical-align: top;\n",
       "    }\n",
       "\n",
       "    .dataframe thead th {\n",
       "        text-align: right;\n",
       "    }\n",
       "</style>\n",
       "<table border=\"1\" class=\"dataframe\">\n",
       "  <thead>\n",
       "    <tr style=\"text-align: right;\">\n",
       "      <th></th>\n",
       "      <th>optimal_stepsize</th>\n",
       "      <th>max_val_accuracy</th>\n",
       "    </tr>\n",
       "    <tr>\n",
       "      <th>name</th>\n",
       "      <th></th>\n",
       "      <th></th>\n",
       "    </tr>\n",
       "  </thead>\n",
       "  <tbody>\n",
       "    <tr>\n",
       "      <th>nvgd</th>\n",
       "      <td>1.000000e-07</td>\n",
       "      <td>0.125427</td>\n",
       "    </tr>\n",
       "  </tbody>\n",
       "</table>\n",
       "</div>"
      ],
      "text/plain": [
       "      optimal_stepsize  max_val_accuracy\n",
       "name                                    \n",
       "nvgd      1.000000e-07          0.125427"
      ]
     },
     "execution_count": 111,
     "metadata": {},
     "output_type": "execute_result"
    }
   ],
   "source": [
    "res = pd.read_csv('../experiments/results/bnn-sweep/best-stepsizes.csv', index_col=0)\n",
    "res"
   ]
  },
  {
   "cell_type": "code",
   "execution_count": 113,
   "metadata": {},
   "outputs": [
    {
     "data": {
      "text/plain": [
       "1e-07"
      ]
     },
     "execution_count": 113,
     "metadata": {},
     "output_type": "execute_result"
    }
   ],
   "source": [
    "res['optimal_stepsize']['nvgd']"
   ]
  },
  {
   "cell_type": "markdown",
   "metadata": {},
   "source": [
    "## convnet shapes"
   ]
  },
  {
   "cell_type": "code",
   "execution_count": 73,
   "metadata": {},
   "outputs": [],
   "source": [
    "shapes = []\n",
    "def id_print(x):\n",
    "    shapes.append(x.shape)\n",
    "    print(f\"Activation shape {x.shape}\")\n",
    "    return x"
   ]
  },
  {
   "cell_type": "code",
   "execution_count": 90,
   "metadata": {},
   "outputs": [],
   "source": [
    "def model_fn(image):\n",
    "    \"\"\"returns logits\"\"\"\n",
    "    n_channels = 8\n",
    "    image = image.astype(jnp.float32)\n",
    "    convnet = hk.Sequential([\n",
    "#         hk.Conv2D(n_channels, kernel_shape=3),\n",
    "#         jax.nn.relu,\n",
    "#         id_print,\n",
    "\n",
    "        hk.Conv2D(n_channels, kernel_shape=3, stride=2),\n",
    "        jax.nn.relu,\n",
    "        id_print,\n",
    "\n",
    "#         hk.Conv2D(n_channels, kernel_shape=3),\n",
    "#         jax.nn.relu,\n",
    "#         id_print,\n",
    "\n",
    "        hk.Conv2D(n_channels, kernel_shape=3, stride=2),\n",
    "        jax.nn.relu,\n",
    "        id_print,\n",
    "\n",
    "        hk.Flatten(),\n",
    "        id_print,\n",
    "        hk.Linear(10),\n",
    "    ])\n",
    "    return convnet(image)"
   ]
  },
  {
   "cell_type": "code",
   "execution_count": 91,
   "metadata": {},
   "outputs": [],
   "source": [
    "model = hk.without_apply_rng(hk.transform(model_fn))"
   ]
  },
  {
   "cell_type": "code",
   "execution_count": 92,
   "metadata": {},
   "outputs": [
    {
     "name": "stdout",
     "output_type": "stream",
     "text": [
      "Activation shape (128, 14, 14, 8)\n",
      "Activation shape (128, 7, 7, 8)\n",
      "Activation shape (128, 392)\n"
     ]
    }
   ],
   "source": [
    "imgs = random.normal(subkey, (128, 28, 28, 1))\n",
    "params = model.init(subkey, imgs)"
   ]
  },
  {
   "cell_type": "code",
   "execution_count": 93,
   "metadata": {},
   "outputs": [
    {
     "data": {
      "text/plain": [
       "4594"
      ]
     },
     "execution_count": 93,
     "metadata": {},
     "output_type": "execute_result"
    }
   ],
   "source": [
    "jax.flatten_util.ravel_pytree(params)[0].shape[0]"
   ]
  },
  {
   "cell_type": "code",
   "execution_count": 88,
   "metadata": {},
   "outputs": [
    {
     "data": {
      "text/plain": [
       "FlatMapping({\n",
       "  'conv2_d': FlatMapping({'b': (8,), 'w': (3, 3, 1, 8)}),\n",
       "  'conv2_d_1': FlatMapping({'b': (8,), 'w': (3, 3, 8, 8)}),\n",
       "  'conv2_d_2': FlatMapping({'b': (8,), 'w': (3, 3, 8, 8)}),\n",
       "  'conv2_d_3': FlatMapping({'b': (8,), 'w': (3, 3, 8, 8)}),\n",
       "  'linear': FlatMapping({'b': (10,), 'w': (392, 10)}),\n",
       "})"
      ]
     },
     "execution_count": 88,
     "metadata": {},
     "output_type": "execute_result"
    }
   ],
   "source": [
    "utils.leaf_shapes(params)"
   ]
  },
  {
   "cell_type": "code",
   "execution_count": 89,
   "metadata": {},
   "outputs": [
    {
     "name": "stdout",
     "output_type": "stream",
     "text": [
      "Activation memory: 39.588864 MB\n",
      "Parameter memory: 0.023048 MB\n"
     ]
    }
   ],
   "source": [
    "activation_mem = sum([onp.prod(shape) for shape in shapes]) * 4 * 3\n",
    "param_mem = jax.flatten_util.ravel_pytree(params)[0].shape[0] * 4\n",
    "\n",
    "print(\"Activation memory:\", activation_mem / 1e6, \"MB\")\n",
    "print(\"Parameter memory:\", param_mem / 1e6, \"MB\")"
   ]
  },
  {
   "cell_type": "code",
   "execution_count": 83,
   "metadata": {},
   "outputs": [
    {
     "data": {
      "text/plain": [
       "2394.1"
      ]
     },
     "execution_count": 83,
     "metadata": {},
     "output_type": "execute_result"
    }
   ],
   "source": [
    "# total MB\n",
    "(activation_mem + param_mem) * 100 / 1e6"
   ]
  },
  {
   "cell_type": "markdown",
   "metadata": {},
   "source": [
    "# debugging new training"
   ]
  },
  {
   "cell_type": "code",
   "execution_count": 31,
   "metadata": {},
   "outputs": [],
   "source": [
    "%autoreload"
   ]
  },
  {
   "cell_type": "code",
   "execution_count": 32,
   "metadata": {},
   "outputs": [],
   "source": [
    "scale = 1\n",
    "key, subkey = random.split(key)\n",
    "xs = random.normal(subkey, (100, 5)) * scale\n",
    "\n",
    "\n",
    "def logp(x):\n",
    "    return norm.logpdf(x, loc=1, scale=3*scale).sum()\n",
    "\n",
    "\n",
    "def logq(x):\n",
    "    return norm.logpdf(x, scale=scale).sum()\n",
    "\n",
    "\n",
    "def f(x):\n",
    "    return (grad(logp)(x) - grad(logq)(x))\n",
    "\n",
    "\n",
    "dlogp = vmap(grad(logp))(xs)"
   ]
  },
  {
   "cell_type": "code",
   "execution_count": 33,
   "metadata": {},
   "outputs": [
    {
     "data": {
      "text/plain": [
       "DeviceArray(4.0054884, dtype=float32)"
      ]
     },
     "execution_count": 33,
     "metadata": {},
     "output_type": "execute_result"
    }
   ],
   "source": [
    "stein.stein_discrepancy(xs, logp, f)"
   ]
  },
  {
   "cell_type": "code",
   "execution_count": 34,
   "metadata": {},
   "outputs": [
    {
     "data": {
      "text/plain": [
       "DeviceArray(4.0054884, dtype=float32)"
      ]
     },
     "execution_count": 34,
     "metadata": {},
     "output_type": "execute_result"
    }
   ],
   "source": [
    "stein.stein_discrepancy_fixed_log(xs, dlogp, f)"
   ]
  },
  {
   "cell_type": "code",
   "execution_count": 35,
   "metadata": {},
   "outputs": [
    {
     "data": {
      "text/plain": [
       "DeviceArray(3.5426853, dtype=float32)"
      ]
     },
     "execution_count": 35,
     "metadata": {},
     "output_type": "execute_result"
    }
   ],
   "source": [
    "key, subkey = random.split(key)\n",
    "stein.stein_discrepancy_hutchinson(subkey, xs, logp, f)"
   ]
  },
  {
   "cell_type": "code",
   "execution_count": 36,
   "metadata": {},
   "outputs": [
    {
     "data": {
      "text/plain": [
       "DeviceArray(3.5426853, dtype=float32)"
      ]
     },
     "execution_count": 36,
     "metadata": {},
     "output_type": "execute_result"
    }
   ],
   "source": [
    "stein.stein_discrepancy_hutchinson_fixed_log(subkey, xs, dlogp, f)"
   ]
  },
  {
   "cell_type": "markdown",
   "metadata": {},
   "source": [
    "# expectation of divergence"
   ]
  },
  {
   "cell_type": "code",
   "execution_count": 30,
   "metadata": {},
   "outputs": [],
   "source": [
    "# q = N(0, 1)\n",
    "# p = N(1, 4)\n",
    "scale = 1\n",
    "key, subkey = random.split(key)\n",
    "xs = random.normal(subkey, (100, 5)) * scale\n",
    "\n",
    "\n",
    "def logp(x):\n",
    "    return norm.logpdf(x, loc=1, scale=3*scale).sum()\n",
    "\n",
    "\n",
    "def logq(x):\n",
    "    return norm.logpdf(x, scale=scale).sum()\n",
    "\n",
    "\n",
    "def f(x):\n",
    "    return (grad(logp)(x) - grad(logq)(x))\n",
    "\n",
    "\n",
    "@partial(jit, static_argnums=1)\n",
    "def expected_div(xs, f):\n",
    "    def div(x):\n",
    "        return jnp.trace(jacfwd(f)(x))\n",
    "    return vmap(div)(xs).mean()\n",
    "\n",
    "\n",
    "@partial(jit, static_argnums=(1, 2))\n",
    "def expected_div_analytic(xs, f, logq):\n",
    "    return -vmap(lambda x: jnp.inner(f(x), grad(logq)(x)))(xs).mean()"
   ]
  },
  {
   "cell_type": "code",
   "execution_count": 25,
   "metadata": {},
   "outputs": [
    {
     "name": "stdout",
     "output_type": "stream",
     "text": [
      "4.4444437\n",
      "4.319465\n"
     ]
    }
   ],
   "source": [
    "print(expected_div(xs, f))\n",
    "print(expected_div_analytic(xs, f, logq))"
   ]
  },
  {
   "cell_type": "code",
   "execution_count": 26,
   "metadata": {},
   "outputs": [
    {
     "data": {
      "text/plain": [
       "DeviceArray(-704.53265, dtype=float32)"
      ]
     },
     "execution_count": 26,
     "metadata": {},
     "output_type": "execute_result"
    }
   ],
   "source": [
    "norm.logpdf(xs, scale=scale).sum()"
   ]
  },
  {
   "cell_type": "code",
   "execution_count": 27,
   "metadata": {},
   "outputs": [
    {
     "data": {
      "text/plain": [
       "DeviceArray(-704.53265, dtype=float32)"
      ]
     },
     "execution_count": 27,
     "metadata": {},
     "output_type": "execute_result"
    }
   ],
   "source": [
    "norm.logpdf(xs/scale).sum()"
   ]
  },
  {
   "cell_type": "code",
   "execution_count": 63,
   "metadata": {},
   "outputs": [],
   "source": [
    "def f_id(x):\n",
    "    return x\n",
    "\n",
    "\n",
    "key, subkey = random.split(key)\n",
    "xs = random.normal(subkey, (100,15))"
   ]
  },
  {
   "cell_type": "code",
   "execution_count": 64,
   "metadata": {},
   "outputs": [
    {
     "data": {
      "text/plain": [
       "DeviceArray(-14.425682, dtype=float32)"
      ]
     },
     "execution_count": 64,
     "metadata": {},
     "output_type": "execute_result"
    }
   ],
   "source": [
    "vmap(lambda x: jnp.inner(f_id(x), grad(logq)(x)))(xs).mean()"
   ]
  },
  {
   "cell_type": "markdown",
   "metadata": {},
   "source": [
    "# jax vs numpy indexing"
   ]
  },
  {
   "cell_type": "code",
   "execution_count": 3,
   "metadata": {},
   "outputs": [
    {
     "data": {
      "text/plain": [
       "array([1, 2])"
      ]
     },
     "execution_count": 3,
     "metadata": {},
     "output_type": "execute_result"
    }
   ],
   "source": [
    "import numpy as onp\n",
    "arr = onp.arange(5)\n",
    "idx = onp.array([1,2])\n",
    "arr[idx]"
   ]
  },
  {
   "cell_type": "code",
   "execution_count": 4,
   "metadata": {},
   "outputs": [
    {
     "name": "stderr",
     "output_type": "stream",
     "text": [
      "<ipython-input-4-9c09f5614663>:3: FutureWarning: Using a non-tuple sequence for multidimensional indexing is deprecated; use `arr[tuple(seq)]` instead of `arr[seq]`. In the future this will be interpreted as an array index, `arr[np.array(seq)]`, which will result either in an error or a different result.\n",
      "  arr[j_idx]\n"
     ]
    },
    {
     "ename": "IndexError",
     "evalue": "too many indices for array: array is 1-dimensional, but 2 were indexed",
     "output_type": "error",
     "traceback": [
      "\u001b[0;31m---------------------------------------------------------------------------\u001b[0m",
      "\u001b[0;31mIndexError\u001b[0m                                Traceback (most recent call last)",
      "\u001b[0;32m<ipython-input-4-9c09f5614663>\u001b[0m in \u001b[0;36m<module>\u001b[0;34m\u001b[0m\n\u001b[1;32m      1\u001b[0m \u001b[0;32mimport\u001b[0m \u001b[0mjax\u001b[0m\u001b[0;34m.\u001b[0m\u001b[0mnumpy\u001b[0m \u001b[0;32mas\u001b[0m \u001b[0mjnp\u001b[0m\u001b[0;34m\u001b[0m\u001b[0;34m\u001b[0m\u001b[0m\n\u001b[1;32m      2\u001b[0m \u001b[0mj_idx\u001b[0m \u001b[0;34m=\u001b[0m \u001b[0mjnp\u001b[0m\u001b[0;34m.\u001b[0m\u001b[0marray\u001b[0m\u001b[0;34m(\u001b[0m\u001b[0;34m[\u001b[0m\u001b[0;36m1\u001b[0m\u001b[0;34m,\u001b[0m\u001b[0;36m2\u001b[0m\u001b[0;34m]\u001b[0m\u001b[0;34m)\u001b[0m\u001b[0;34m\u001b[0m\u001b[0;34m\u001b[0m\u001b[0m\n\u001b[0;32m----> 3\u001b[0;31m \u001b[0marr\u001b[0m\u001b[0;34m[\u001b[0m\u001b[0mj_idx\u001b[0m\u001b[0;34m]\u001b[0m\u001b[0;34m\u001b[0m\u001b[0;34m\u001b[0m\u001b[0m\n\u001b[0m",
      "\u001b[0;31mIndexError\u001b[0m: too many indices for array: array is 1-dimensional, but 2 were indexed"
     ]
    }
   ],
   "source": [
    "import jax.numpy as jnp\n",
    "j_idx = jnp.array([1,2])\n",
    "arr[j_idx]"
   ]
  },
  {
   "cell_type": "markdown",
   "metadata": {},
   "source": [
    "## test utils.sgld"
   ]
  },
  {
   "cell_type": "code",
   "execution_count": 37,
   "metadata": {},
   "outputs": [],
   "source": [
    "learning_rate = 1e-1\n",
    "# opt = optax.sgd(learning_rate)\n",
    "opt = utils.sgld(learning_rate)\n",
    "# opt = utils.sgd(-learning_rate)"
   ]
  },
  {
   "cell_type": "code",
   "execution_count": 38,
   "metadata": {},
   "outputs": [],
   "source": [
    "def loss(x):\n",
    "    return x**2"
   ]
  },
  {
   "cell_type": "code",
   "execution_count": 39,
   "metadata": {},
   "outputs": [],
   "source": [
    "x = 100.\n",
    "state = opt.init(x)\n",
    "ls = []\n",
    "xs = []\n",
    "for _ in range(10):\n",
    "    l, g = value_and_grad(loss)(x)\n",
    "    g, state = opt.update(g, state, x)\n",
    "    x = optax.apply_updates(x, g)\n",
    "    ls.append(l)\n",
    "    xs.append(x)"
   ]
  },
  {
   "cell_type": "code",
   "execution_count": 40,
   "metadata": {},
   "outputs": [
    {
     "data": {
      "text/plain": [
       "[<matplotlib.lines.Line2D at 0x7ffa2b6efb20>]"
      ]
     },
     "execution_count": 40,
     "metadata": {},
     "output_type": "execute_result"
    },
    {
     "data": {
      "image/png": "[encoded data removed]",
      "text/plain": [
       "<Figure size 432x288 with 1 Axes>"
      ]
     },
     "metadata": {
      "needs_background": "light"
     },
     "output_type": "display_data"
    }
   ],
   "source": [
    "plt.plot(ls)"
   ]
  },
  {
   "cell_type": "code",
   "execution_count": 41,
   "metadata": {},
   "outputs": [
    {
     "data": {
      "text/plain": [
       "[<matplotlib.lines.Line2D at 0x7ffa2b640d30>]"
      ]
     },
     "execution_count": 41,
     "metadata": {},
     "output_type": "execute_result"
    },
    {
     "data": {
      "image/png": "[encoded data removed]",
      "text/plain": [
       "<Figure size 432x288 with 1 Axes>"
      ]
     },
     "metadata": {
      "needs_background": "light"
     },
     "output_type": "display_data"
    }
   ],
   "source": [
    "plt.plot(xs, \"--o\")"
   ]
  },
  {
   "cell_type": "markdown",
   "metadata": {},
   "source": [
    "## Bad jax error message"
   ]
  },
  {
   "cell_type": "code",
   "execution_count": 5,
   "metadata": {},
   "outputs": [
    {
     "data": {
      "text/plain": [
       "DeviceArray(8, dtype=int32)"
      ]
     },
     "execution_count": 5,
     "metadata": {},
     "output_type": "execute_result"
    }
   ],
   "source": [
    "@partial(jit, static_argnums=1)\n",
    "def f(x, y=0, z=0):\n",
    "    return x + y - z\n",
    "\n",
    "f(5, 3)"
   ]
  },
  {
   "cell_type": "code",
   "execution_count": 6,
   "metadata": {},
   "outputs": [
    {
     "ename": "ValueError",
     "evalue": "jitted function has static_argnums=(1,), donate_argnums=() but was called with only 1 positional arguments.",
     "output_type": "error",
     "traceback": [
      "\u001b[0;31m---------------------------------------------------------------------------\u001b[0m",
      "\u001b[0;31mFilteredStackTrace\u001b[0m                        Traceback (most recent call last)",
      "\u001b[0;32m<ipython-input-6-fb48ebfde7ea>\u001b[0m in \u001b[0;36m<module>\u001b[0;34m\u001b[0m\n\u001b[0;32m----> 1\u001b[0;31m \u001b[0mf\u001b[0m\u001b[0;34m(\u001b[0m\u001b[0;36m5\u001b[0m\u001b[0;34m)\u001b[0m\u001b[0;34m\u001b[0m\u001b[0;34m\u001b[0m\u001b[0m\n\u001b[0m",
      "\u001b[0;31mFilteredStackTrace\u001b[0m: ValueError: jitted function has static_argnums=(1,), donate_argnums=() but was called with only 1 positional arguments.\n\nThe stack trace above excludes JAX-internal frames.\nThe following is the original exception that occurred, unmodified.\n\n--------------------",
      "\nThe above exception was the direct cause of the following exception:\n",
      "\u001b[0;31mValueError\u001b[0m                                Traceback (most recent call last)",
      "\u001b[0;32m<ipython-input-6-fb48ebfde7ea>\u001b[0m in \u001b[0;36m<module>\u001b[0;34m\u001b[0m\n\u001b[0;32m----> 1\u001b[0;31m \u001b[0mf\u001b[0m\u001b[0;34m(\u001b[0m\u001b[0;36m5\u001b[0m\u001b[0;34m)\u001b[0m\u001b[0;34m\u001b[0m\u001b[0;34m\u001b[0m\u001b[0m\n\u001b[0m",
      "\u001b[0;32m~/.virtualenvs/msc-thesis/lib/python3.8/site-packages/jax/_src/traceback_util.py\u001b[0m in \u001b[0;36mreraise_with_filtered_traceback\u001b[0;34m(*args, **kwargs)\u001b[0m\n\u001b[1;32m    137\u001b[0m   \u001b[0;32mdef\u001b[0m \u001b[0mreraise_with_filtered_traceback\u001b[0m\u001b[0;34m(\u001b[0m\u001b[0;34m*\u001b[0m\u001b[0margs\u001b[0m\u001b[0;34m,\u001b[0m \u001b[0;34m**\u001b[0m\u001b[0mkwargs\u001b[0m\u001b[0;34m)\u001b[0m\u001b[0;34m:\u001b[0m\u001b[0;34m\u001b[0m\u001b[0;34m\u001b[0m\u001b[0m\n\u001b[1;32m    138\u001b[0m     \u001b[0;32mtry\u001b[0m\u001b[0;34m:\u001b[0m\u001b[0;34m\u001b[0m\u001b[0;34m\u001b[0m\u001b[0m\n\u001b[0;32m--> 139\u001b[0;31m       \u001b[0;32mreturn\u001b[0m \u001b[0mfun\u001b[0m\u001b[0;34m(\u001b[0m\u001b[0;34m*\u001b[0m\u001b[0margs\u001b[0m\u001b[0;34m,\u001b[0m \u001b[0;34m**\u001b[0m\u001b[0mkwargs\u001b[0m\u001b[0;34m)\u001b[0m\u001b[0;34m\u001b[0m\u001b[0;34m\u001b[0m\u001b[0m\n\u001b[0m\u001b[1;32m    140\u001b[0m     \u001b[0;32mexcept\u001b[0m \u001b[0mException\u001b[0m \u001b[0;32mas\u001b[0m \u001b[0me\u001b[0m\u001b[0;34m:\u001b[0m\u001b[0;34m\u001b[0m\u001b[0;34m\u001b[0m\u001b[0m\n\u001b[1;32m    141\u001b[0m       \u001b[0;32mif\u001b[0m \u001b[0;32mnot\u001b[0m \u001b[0mis_under_reraiser\u001b[0m\u001b[0;34m(\u001b[0m\u001b[0me\u001b[0m\u001b[0;34m)\u001b[0m\u001b[0;34m:\u001b[0m\u001b[0;34m\u001b[0m\u001b[0;34m\u001b[0m\u001b[0m\n",
      "\u001b[0;32m~/.virtualenvs/msc-thesis/lib/python3.8/site-packages/jax/api.py\u001b[0m in \u001b[0;36mf_jitted\u001b[0;34m(*args, **kwargs)\u001b[0m\n\u001b[1;32m    393\u001b[0m       \u001b[0;32mreturn\u001b[0m \u001b[0mcpp_jitted_f\u001b[0m\u001b[0;34m(\u001b[0m\u001b[0;34m*\u001b[0m\u001b[0margs\u001b[0m\u001b[0;34m,\u001b[0m \u001b[0;34m**\u001b[0m\u001b[0mkwargs\u001b[0m\u001b[0;34m)\u001b[0m\u001b[0;34m\u001b[0m\u001b[0;34m\u001b[0m\u001b[0m\n\u001b[1;32m    394\u001b[0m     \u001b[0;32melse\u001b[0m\u001b[0;34m:\u001b[0m\u001b[0;34m\u001b[0m\u001b[0;34m\u001b[0m\u001b[0m\n\u001b[0;32m--> 395\u001b[0;31m       \u001b[0;32mreturn\u001b[0m \u001b[0mcpp_jitted_f\u001b[0m\u001b[0;34m(\u001b[0m\u001b[0mcontext\u001b[0m\u001b[0;34m,\u001b[0m \u001b[0;34m*\u001b[0m\u001b[0margs\u001b[0m\u001b[0;34m,\u001b[0m \u001b[0;34m**\u001b[0m\u001b[0mkwargs\u001b[0m\u001b[0;34m)\u001b[0m\u001b[0;34m\u001b[0m\u001b[0;34m\u001b[0m\u001b[0m\n\u001b[0m\u001b[1;32m    396\u001b[0m   \u001b[0mf_jitted\u001b[0m\u001b[0;34m.\u001b[0m\u001b[0m_cpp_jitted_f\u001b[0m \u001b[0;34m=\u001b[0m \u001b[0mcpp_jitted_f\u001b[0m\u001b[0;34m\u001b[0m\u001b[0;34m\u001b[0m\u001b[0m\n\u001b[1;32m    397\u001b[0m \u001b[0;34m\u001b[0m\u001b[0m\n",
      "\u001b[0;32m~/.virtualenvs/msc-thesis/lib/python3.8/site-packages/jax/api.py\u001b[0m in \u001b[0;36mcache_miss\u001b[0;34m(_, *args, **kwargs)\u001b[0m\n\u001b[1;32m    267\u001b[0m     \u001b[0;31m# work/code that is redundant between C++ and Python. We can try that later.\u001b[0m\u001b[0;34m\u001b[0m\u001b[0;34m\u001b[0m\u001b[0;34m\u001b[0m\u001b[0m\n\u001b[1;32m    268\u001b[0m     \u001b[0;32mif\u001b[0m \u001b[0mmax\u001b[0m\u001b[0;34m(\u001b[0m\u001b[0mstatic_argnums\u001b[0m \u001b[0;34m+\u001b[0m \u001b[0mdonate_argnums\u001b[0m\u001b[0;34m,\u001b[0m \u001b[0mdefault\u001b[0m\u001b[0;34m=\u001b[0m\u001b[0;34m-\u001b[0m\u001b[0;36m1\u001b[0m\u001b[0;34m)\u001b[0m \u001b[0;34m>=\u001b[0m \u001b[0mlen\u001b[0m\u001b[0;34m(\u001b[0m\u001b[0margs\u001b[0m\u001b[0;34m)\u001b[0m\u001b[0;34m:\u001b[0m\u001b[0;34m\u001b[0m\u001b[0;34m\u001b[0m\u001b[0m\n\u001b[0;32m--> 269\u001b[0;31m       raise ValueError(f\"jitted function has static_argnums={static_argnums}, \"\n\u001b[0m\u001b[1;32m    270\u001b[0m                        \u001b[0;34mf\"donate_argnums={donate_argnums} but \"\u001b[0m\u001b[0;34m\u001b[0m\u001b[0;34m\u001b[0m\u001b[0m\n\u001b[1;32m    271\u001b[0m                        f\"was called with only {len(args)} positional arguments.\")\n",
      "\u001b[0;31mValueError\u001b[0m: jitted function has static_argnums=(1,), donate_argnums=() but was called with only 1 positional arguments."
     ]
    }
   ],
   "source": [
    "f(5)"
   ]
  },
  {
   "cell_type": "code",
   "execution_count": 7,
   "metadata": {},
   "outputs": [
    {
     "ename": "ValueError",
     "evalue": "jitted function has static_argnums=(1,), donate_argnums=() but was called with only 0 positional arguments.",
     "output_type": "error",
     "traceback": [
      "\u001b[0;31m---------------------------------------------------------------------------\u001b[0m",
      "\u001b[0;31mFilteredStackTrace\u001b[0m                        Traceback (most recent call last)",
      "\u001b[0;32m<ipython-input-7-fe25c7e7fb12>\u001b[0m in \u001b[0;36m<module>\u001b[0;34m\u001b[0m\n\u001b[0;32m----> 1\u001b[0;31m \u001b[0mf\u001b[0m\u001b[0;34m(\u001b[0m\u001b[0mx\u001b[0m\u001b[0;34m=\u001b[0m\u001b[0;36m5\u001b[0m\u001b[0;34m,\u001b[0m \u001b[0my\u001b[0m\u001b[0;34m=\u001b[0m\u001b[0;36m3\u001b[0m\u001b[0;34m)\u001b[0m\u001b[0;34m\u001b[0m\u001b[0;34m\u001b[0m\u001b[0m\n\u001b[0m",
      "\u001b[0;31mFilteredStackTrace\u001b[0m: ValueError: jitted function has static_argnums=(1,), donate_argnums=() but was called with only 0 positional arguments.\n\nThe stack trace above excludes JAX-internal frames.\nThe following is the original exception that occurred, unmodified.\n\n--------------------",
      "\nThe above exception was the direct cause of the following exception:\n",
      "\u001b[0;31mValueError\u001b[0m                                Traceback (most recent call last)",
      "\u001b[0;32m<ipython-input-7-fe25c7e7fb12>\u001b[0m in \u001b[0;36m<module>\u001b[0;34m\u001b[0m\n\u001b[0;32m----> 1\u001b[0;31m \u001b[0mf\u001b[0m\u001b[0;34m(\u001b[0m\u001b[0mx\u001b[0m\u001b[0;34m=\u001b[0m\u001b[0;36m5\u001b[0m\u001b[0;34m,\u001b[0m \u001b[0my\u001b[0m\u001b[0;34m=\u001b[0m\u001b[0;36m3\u001b[0m\u001b[0;34m)\u001b[0m\u001b[0;34m\u001b[0m\u001b[0;34m\u001b[0m\u001b[0m\n\u001b[0m",
      "\u001b[0;32m~/.virtualenvs/msc-thesis/lib/python3.8/site-packages/jax/_src/traceback_util.py\u001b[0m in \u001b[0;36mreraise_with_filtered_traceback\u001b[0;34m(*args, **kwargs)\u001b[0m\n\u001b[1;32m    137\u001b[0m   \u001b[0;32mdef\u001b[0m \u001b[0mreraise_with_filtered_traceback\u001b[0m\u001b[0;34m(\u001b[0m\u001b[0;34m*\u001b[0m\u001b[0margs\u001b[0m\u001b[0;34m,\u001b[0m \u001b[0;34m**\u001b[0m\u001b[0mkwargs\u001b[0m\u001b[0;34m)\u001b[0m\u001b[0;34m:\u001b[0m\u001b[0;34m\u001b[0m\u001b[0;34m\u001b[0m\u001b[0m\n\u001b[1;32m    138\u001b[0m     \u001b[0;32mtry\u001b[0m\u001b[0;34m:\u001b[0m\u001b[0;34m\u001b[0m\u001b[0;34m\u001b[0m\u001b[0m\n\u001b[0;32m--> 139\u001b[0;31m       \u001b[0;32mreturn\u001b[0m \u001b[0mfun\u001b[0m\u001b[0;34m(\u001b[0m\u001b[0;34m*\u001b[0m\u001b[0margs\u001b[0m\u001b[0;34m,\u001b[0m \u001b[0;34m**\u001b[0m\u001b[0mkwargs\u001b[0m\u001b[0;34m)\u001b[0m\u001b[0;34m\u001b[0m\u001b[0;34m\u001b[0m\u001b[0m\n\u001b[0m\u001b[1;32m    140\u001b[0m     \u001b[0;32mexcept\u001b[0m \u001b[0mException\u001b[0m \u001b[0;32mas\u001b[0m \u001b[0me\u001b[0m\u001b[0;34m:\u001b[0m\u001b[0;34m\u001b[0m\u001b[0;34m\u001b[0m\u001b[0m\n\u001b[1;32m    141\u001b[0m       \u001b[0;32mif\u001b[0m \u001b[0;32mnot\u001b[0m \u001b[0mis_under_reraiser\u001b[0m\u001b[0;34m(\u001b[0m\u001b[0me\u001b[0m\u001b[0;34m)\u001b[0m\u001b[0;34m:\u001b[0m\u001b[0;34m\u001b[0m\u001b[0;34m\u001b[0m\u001b[0m\n",
      "\u001b[0;32m~/.virtualenvs/msc-thesis/lib/python3.8/site-packages/jax/api.py\u001b[0m in \u001b[0;36mf_jitted\u001b[0;34m(*args, **kwargs)\u001b[0m\n\u001b[1;32m    393\u001b[0m       \u001b[0;32mreturn\u001b[0m \u001b[0mcpp_jitted_f\u001b[0m\u001b[0;34m(\u001b[0m\u001b[0;34m*\u001b[0m\u001b[0margs\u001b[0m\u001b[0;34m,\u001b[0m \u001b[0;34m**\u001b[0m\u001b[0mkwargs\u001b[0m\u001b[0;34m)\u001b[0m\u001b[0;34m\u001b[0m\u001b[0;34m\u001b[0m\u001b[0m\n\u001b[1;32m    394\u001b[0m     \u001b[0;32melse\u001b[0m\u001b[0;34m:\u001b[0m\u001b[0;34m\u001b[0m\u001b[0;34m\u001b[0m\u001b[0m\n\u001b[0;32m--> 395\u001b[0;31m       \u001b[0;32mreturn\u001b[0m \u001b[0mcpp_jitted_f\u001b[0m\u001b[0;34m(\u001b[0m\u001b[0mcontext\u001b[0m\u001b[0;34m,\u001b[0m \u001b[0;34m*\u001b[0m\u001b[0margs\u001b[0m\u001b[0;34m,\u001b[0m \u001b[0;34m**\u001b[0m\u001b[0mkwargs\u001b[0m\u001b[0;34m)\u001b[0m\u001b[0;34m\u001b[0m\u001b[0;34m\u001b[0m\u001b[0m\n\u001b[0m\u001b[1;32m    396\u001b[0m   \u001b[0mf_jitted\u001b[0m\u001b[0;34m.\u001b[0m\u001b[0m_cpp_jitted_f\u001b[0m \u001b[0;34m=\u001b[0m \u001b[0mcpp_jitted_f\u001b[0m\u001b[0;34m\u001b[0m\u001b[0;34m\u001b[0m\u001b[0m\n\u001b[1;32m    397\u001b[0m \u001b[0;34m\u001b[0m\u001b[0m\n",
      "\u001b[0;32m~/.virtualenvs/msc-thesis/lib/python3.8/site-packages/jax/api.py\u001b[0m in \u001b[0;36mcache_miss\u001b[0;34m(_, *args, **kwargs)\u001b[0m\n\u001b[1;32m    267\u001b[0m     \u001b[0;31m# work/code that is redundant between C++ and Python. We can try that later.\u001b[0m\u001b[0;34m\u001b[0m\u001b[0;34m\u001b[0m\u001b[0;34m\u001b[0m\u001b[0m\n\u001b[1;32m    268\u001b[0m     \u001b[0;32mif\u001b[0m \u001b[0mmax\u001b[0m\u001b[0;34m(\u001b[0m\u001b[0mstatic_argnums\u001b[0m \u001b[0;34m+\u001b[0m \u001b[0mdonate_argnums\u001b[0m\u001b[0;34m,\u001b[0m \u001b[0mdefault\u001b[0m\u001b[0;34m=\u001b[0m\u001b[0;34m-\u001b[0m\u001b[0;36m1\u001b[0m\u001b[0;34m)\u001b[0m \u001b[0;34m>=\u001b[0m \u001b[0mlen\u001b[0m\u001b[0;34m(\u001b[0m\u001b[0margs\u001b[0m\u001b[0;34m)\u001b[0m\u001b[0;34m:\u001b[0m\u001b[0;34m\u001b[0m\u001b[0;34m\u001b[0m\u001b[0m\n\u001b[0;32m--> 269\u001b[0;31m       raise ValueError(f\"jitted function has static_argnums={static_argnums}, \"\n\u001b[0m\u001b[1;32m    270\u001b[0m                        \u001b[0;34mf\"donate_argnums={donate_argnums} but \"\u001b[0m\u001b[0;34m\u001b[0m\u001b[0;34m\u001b[0m\u001b[0m\n\u001b[1;32m    271\u001b[0m                        f\"was called with only {len(args)} positional arguments.\")\n",
      "\u001b[0;31mValueError\u001b[0m: jitted function has static_argnums=(1,), donate_argnums=() but was called with only 0 positional arguments."
     ]
    }
   ],
   "source": [
    "f(x=5, y=3)"
   ]
  },
  {
   "cell_type": "markdown",
   "metadata": {},
   "source": [
    "# remove diagonal\n",
    "(utility function broken by jax update)"
   ]
  },
  {
   "cell_type": "code",
   "execution_count": 32,
   "metadata": {},
   "outputs": [],
   "source": [
    "@jit\n",
    "def offdiagonal_idx(matrix):\n",
    "    n = matrix.shape[0]\n",
    "    return onp.nonzero(~onp.eye(n, dtype=bool))"
   ]
  },
  {
   "cell_type": "code",
   "execution_count": 33,
   "metadata": {},
   "outputs": [
    {
     "data": {
      "text/plain": [
       "(DeviceArray([0, 0, 1, 1, 2, 2], dtype=int32),\n",
       " DeviceArray([1, 2, 0, 2, 0, 1], dtype=int32))"
      ]
     },
     "execution_count": 33,
     "metadata": {},
     "output_type": "execute_result"
    }
   ],
   "source": [
    "offdiagonal_idx(random.normal(subkey, (3,3)))"
   ]
  },
  {
   "cell_type": "code",
   "execution_count": 34,
   "metadata": {},
   "outputs": [],
   "source": [
    "def remove_diagonal_old(matrix):\n",
    "    \"\"\"matrix is an (n,n) array.\n",
    "    ouput: (n, n-1) array, matrix without the diagonal\"\"\"\n",
    "    n = matrix.shape[0]\n",
    "    idx = np.ones((n, n))\n",
    "    idx = utils.null_diagonal(idx)\n",
    "    return matrix[idx.nonzero()].reshape((n, n-1))"
   ]
  },
  {
   "cell_type": "code",
   "execution_count": 35,
   "metadata": {},
   "outputs": [],
   "source": [
    "@jit\n",
    "def remove_diagonal(matrix):\n",
    "    n = matrix.shape[0]\n",
    "    idx = offdiagonal_idx(matrix)\n",
    "    return matrix[idx].reshape(n, n-1)"
   ]
  },
  {
   "cell_type": "code",
   "execution_count": 36,
   "metadata": {},
   "outputs": [],
   "source": [
    "matrix = random.normal(subkey, (3,3))"
   ]
  },
  {
   "cell_type": "code",
   "execution_count": 38,
   "metadata": {},
   "outputs": [
    {
     "data": {
      "text/plain": [
       "DeviceArray([[-0.04487171, -2.0427265 ],\n",
       "             [ 0.07932303,  0.79599744],\n",
       "             [-1.4411981 , -1.6929983 ]], dtype=float32)"
      ]
     },
     "execution_count": 38,
     "metadata": {},
     "output_type": "execute_result"
    }
   ],
   "source": [
    "remove_diagonal(matrix)"
   ]
  },
  {
   "cell_type": "markdown",
   "metadata": {},
   "source": [
    "# polynomial schedules"
   ]
  },
  {
   "cell_type": "code",
   "execution_count": 222,
   "metadata": {},
   "outputs": [],
   "source": [
    "NUM_STEPS = 100"
   ]
  },
  {
   "cell_type": "code",
   "execution_count": 225,
   "metadata": {},
   "outputs": [],
   "source": [
    "%autoreload"
   ]
  },
  {
   "cell_type": "code",
   "execution_count": 227,
   "metadata": {},
   "outputs": [
    {
     "data": {
      "image/png": "[encoded data removed]",
      "text/plain": [
       "<Figure size 1080x576 with 1 Axes>"
      ]
     },
     "metadata": {
      "needs_background": "light"
     },
     "output_type": "display_data"
    }
   ],
   "source": [
    "%matplotlib inline\n",
    "plt.subplots(figsize=[15, 8])\n",
    "plt.plot([utils.polynomial_schedule(step) for step in range(NUM_STEPS)])\n",
    "plt.plot([np.sqrt(2*utils.polynomial_schedule(step)) for step in range(NUM_STEPS)])\n",
    "plt.yscale(\"log\")\n",
    "# plt.ylim(1e-2, 2e-1)"
   ]
  },
  {
   "cell_type": "code",
   "execution_count": 220,
   "metadata": {},
   "outputs": [
    {
     "data": {
      "image/png": "[encoded data removed]",
      "text/plain": [
       "<Figure size 1080x576 with 1 Axes>"
      ]
     },
     "metadata": {
      "needs_background": "light"
     },
     "output_type": "display_data"
    }
   ],
   "source": [
    "s = optax.polynomial_schedule(1, 1e-1, .55, 100)\n",
    "%matplotlib inline\n",
    "plt.subplots(figsize=[15, 8])\n",
    "plt.plot([s(step) for step in range(NUM_STEPS)])\n",
    "plt.yscale(\"log\")"
   ]
  },
  {
   "cell_type": "code",
   "execution_count": null,
   "metadata": {},
   "outputs": [],
   "source": []
  },
  {
   "cell_type": "markdown",
   "metadata": {},
   "source": [
    "# Testing SGLD"
   ]
  },
  {
   "cell_type": "code",
   "execution_count": 204,
   "metadata": {},
   "outputs": [],
   "source": [
    "setup = distributions.funnel\n",
    "target, proposal = setup.get()\n",
    "lr = 1e-3\n",
    "n_steps = 500\n",
    "\n",
    "kernel = tfp.mcmc.UncalibratedLangevin(target_log_prob_fn=target.logpdf, step_size=lr)\n",
    "\n",
    "@jit\n",
    "def run_chain(key, state):\n",
    "    return tfp.mcmc.sample_chain(n_steps,\n",
    "      current_state=state,\n",
    "      kernel=kernel,\n",
    "      trace_fn = None,\n",
    "      num_burnin_steps=0,\n",
    "      seed=key)"
   ]
  },
  {
   "cell_type": "code",
   "execution_count": 210,
   "metadata": {},
   "outputs": [
    {
     "name": "stderr",
     "output_type": "stream",
     "text": [
      "100%|██████████| 500/500 [00:01<00:00, 261.44it/s]\n"
     ]
    }
   ],
   "source": [
    "key, subkey = random.split(key)\n",
    "state = proposal.sample(100, subkey)[0]\n",
    "p1 = run_chain(subkey, state)\n",
    "\n",
    "key, subkey = random.split(key)\n",
    "grad, particles, err = flows.sgld_flow(subkey, setup, n_particles=1, n_steps=n_steps, particle_lr=lr)\n",
    "p2 = np.squeeze(particles.rundata[\"particles\"].training)"
   ]
  },
  {
   "cell_type": "code",
   "execution_count": 211,
   "metadata": {},
   "outputs": [
    {
     "data": {
      "text/plain": [
       "<matplotlib.legend.Legend at 0x7f5f7bd341c0>"
      ]
     },
     "execution_count": 211,
     "metadata": {},
     "output_type": "execute_result"
    },
    {
     "data": {
      "image/png": "[encoded data removed]",
      "text/plain": [
       "<Figure size 936x576 with 1 Axes>"
      ]
     },
     "metadata": {
      "needs_background": "light"
     },
     "output_type": "display_data"
    }
   ],
   "source": [
    "fig, ax = plt.subplots(figsize=[13, 8])\n",
    "ax.set(xlim=(-15, 15), ylim=(-15, 15))\n",
    "plot.plot_fun_2d(target.pdf, lims=(-15,15))\n",
    "\n",
    "key, subkey = random.split(key)\n",
    "plt.scatter(*np.rollaxis(target.sample(100, subkey), 1), alpha=0.2)\n",
    "\n",
    "plot.scatter(p1, alpha=0.1, label=\"TFP\")\n",
    "plot.scatter(p2, alpha=0.1, label=\"my implementation\")\n",
    "plt.legend()"
   ]
  },
  {
   "cell_type": "markdown",
   "metadata": {},
   "source": [
    "### same thing but parallel"
   ]
  },
  {
   "cell_type": "code",
   "execution_count": 212,
   "metadata": {},
   "outputs": [
    {
     "name": "stderr",
     "output_type": "stream",
     "text": [
      "100%|██████████| 500/500 [00:02<00:00, 202.80it/s]\n"
     ]
    }
   ],
   "source": [
    "n_particles = 100\n",
    "key, subkey = random.split(key)\n",
    "grad, particles, err = flows.sgld_flow(subkey, setup, n_particles=n_particles, n_steps=n_steps, particle_lr=lr)\n",
    "\n",
    "key, subkey = random.split(key)\n",
    "state = proposal.sample(n_particles, subkey)\n",
    "pp1 = vmap(run_chain)(random.split(subkey, n_particles), state)\n",
    "pp2 = particles.rundata[\"particles\"].training"
   ]
  },
  {
   "cell_type": "code",
   "execution_count": 213,
   "metadata": {},
   "outputs": [
    {
     "data": {
      "text/plain": [
       "<matplotlib.legend.Legend at 0x7f5f7d8710a0>"
      ]
     },
     "execution_count": 213,
     "metadata": {},
     "output_type": "execute_result"
    },
    {
     "data": {
      "image/png": "[encoded data removed]",
      "text/plain": [
       "<Figure size 936x576 with 1 Axes>"
      ]
     },
     "metadata": {
      "needs_background": "light"
     },
     "output_type": "display_data"
    }
   ],
   "source": [
    "fig, ax = plt.subplots(figsize=[13, 8])\n",
    "ax.set(xlim=(-15, 15), ylim=(-15, 15))\n",
    "plot.plot_fun_2d(target.pdf, lims=(-15,15))\n",
    "\n",
    "key, subkey = random.split(key)\n",
    "plt.scatter(*np.rollaxis(target.sample(100, subkey), 1), alpha=0.2)\n",
    "\n",
    "plot.scatter(pp1[:, -1, :], alpha=0.8, label=\"TFP\")\n",
    "plot.scatter(pp2[-1], alpha=0.8, label=\"my implementation\")\n",
    "plt.legend()"
   ]
  },
  {
   "cell_type": "markdown",
   "metadata": {},
   "source": [
    "# SGLD optax optimizer"
   ]
  },
  {
   "cell_type": "code",
   "execution_count": 91,
   "metadata": {},
   "outputs": [],
   "source": [
    "%autoreload"
   ]
  },
  {
   "cell_type": "code",
   "execution_count": 92,
   "metadata": {},
   "outputs": [],
   "source": [
    "# opt = utils.polynomial_sgld(1.)\n",
    "opt = utils.scaled_sgld(subkey, 1., utils.polynomial_schedule)"
   ]
  },
  {
   "cell_type": "code",
   "execution_count": 93,
   "metadata": {},
   "outputs": [],
   "source": [
    "params = np.array(100.)\n",
    "state = opt.init(params)\n",
    "grads = np.array(0.)\n",
    "\n",
    "p = []\n",
    "u = []\n",
    "for _ in range(1000):\n",
    "    updates, state = opt.update(grads, state)\n",
    "    params = optax.apply_updates(params, updates)\n",
    "    p.append(params)\n",
    "    u.append(updates)"
   ]
  },
  {
   "cell_type": "code",
   "execution_count": 94,
   "metadata": {},
   "outputs": [
    {
     "data": {
      "text/plain": [
       "[<matplotlib.lines.Line2D at 0x7f5f92e1ea60>]"
      ]
     },
     "execution_count": 94,
     "metadata": {},
     "output_type": "execute_result"
    },
    {
     "data": {
      "image/png": "[encoded data removed]",
      "text/plain": [
       "<Figure size 432x288 with 1 Axes>"
      ]
     },
     "metadata": {
      "needs_background": "light"
     },
     "output_type": "display_data"
    }
   ],
   "source": [
    "plt.plot(p)"
   ]
  },
  {
   "cell_type": "code",
   "execution_count": 95,
   "metadata": {},
   "outputs": [
    {
     "data": {
      "text/plain": [
       "[<matplotlib.lines.Line2D at 0x7f5f915dd910>]"
      ]
     },
     "execution_count": 95,
     "metadata": {},
     "output_type": "execute_result"
    },
    {
     "data": {
      "image/png": "[encoded data removed]",
      "text/plain": [
       "<Figure size 1080x576 with 1 Axes>"
      ]
     },
     "metadata": {
      "needs_background": "light"
     },
     "output_type": "display_data"
    }
   ],
   "source": [
    "plt.subplots(figsize=[15, 8])\n",
    "plt.plot(u)\n",
    "plt.plot([np.sqrt(2*utils.polynomial_schedule(k)) for k in range(1000)])"
   ]
  },
  {
   "cell_type": "code",
   "execution_count": 96,
   "metadata": {},
   "outputs": [
    {
     "data": {
      "text/plain": [
       "DeviceArray(0.00347712, dtype=float32)"
      ]
     },
     "execution_count": 96,
     "metadata": {},
     "output_type": "execute_result"
    }
   ],
   "source": [
    "np.mean(np.array(u))"
   ]
  },
  {
   "cell_type": "code",
   "execution_count": 85,
   "metadata": {},
   "outputs": [
    {
     "data": {
      "text/plain": [
       "DeviceArray(0.09306009, dtype=float32)"
      ]
     },
     "execution_count": 85,
     "metadata": {},
     "output_type": "execute_result"
    }
   ],
   "source": [
    "np.var(np.array(u))"
   ]
  },
  {
   "cell_type": "code",
   "execution_count": null,
   "metadata": {},
   "outputs": [],
   "source": []
  }
 ],
 "metadata": {
  "kernelspec": {
   "display_name": "msc-thesis",
   "language": "python",
   "name": "msc-thesis"
  },
  "language_info": {
   "codemirror_mode": {
    "name": "ipython",
    "version": 3
   },
   "file_extension": ".py",
   "mimetype": "text/x-python",
   "name": "python",
   "nbconvert_exporter": "python",
   "pygments_lexer": "ipython3",
   "version": "3.8.5"
  }
 },
 "nbformat": 4,
 "nbformat_minor": 4
}
