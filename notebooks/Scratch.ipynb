{
 "cells": [
  {
   "cell_type": "markdown",
   "metadata": {},
   "source": [
    "# Scratch Notebook"
   ]
  },
  {
   "cell_type": "code",
   "execution_count": 1,
   "metadata": {},
   "outputs": [
    {
     "name": "stderr",
     "output_type": "stream",
     "text": [
      "/home/lauro/.virtualenvs/msc-thesis/lib/python3.8/site-packages/jax/lib/xla_bridge.py:125: UserWarning: No GPU/TPU found, falling back to CPU.\n",
      "  warnings.warn('No GPU/TPU found, falling back to CPU.')\n"
     ]
    }
   ],
   "source": [
    "import sys\n",
    "import copy\n",
    "import os\n",
    "sys.path.append(\"/home/lauro/code/msc-thesis/svgd/kernel_learning\")\n",
    "import json\n",
    "import collections\n",
    "import itertools\n",
    "from functools import partial\n",
    "import importlib\n",
    "\n",
    "import numpy as onp\n",
    "from jax.config import config\n",
    "# config.update(\"jax_log_compiles\", True)\n",
    "# config.update(\"jax_enable_x64\", True)\n",
    "\n",
    "import jax.numpy as np\n",
    "from jax import grad, jit, vmap, random, lax, jacfwd, value_and_grad\n",
    "from jax import lax\n",
    "from jax.ops import index_update, index\n",
    "import matplotlib.pyplot as plt\n",
    "\n",
    "import numpy as onp\n",
    "import jax\n",
    "import pandas as pd\n",
    "import haiku as hk\n",
    "import ot\n",
    "\n",
    "import config\n",
    "\n",
    "import utils\n",
    "import metrics\n",
    "import time\n",
    "import plot\n",
    "import stein\n",
    "import kernels\n",
    "import distributions\n",
    "import nets\n",
    "import kernel_learning\n",
    "\n",
    "from jax.experimental import optimizers\n",
    "\n",
    "key = random.PRNGKey(0)\n",
    "\n",
    "from jax.scipy.stats import norm"
   ]
  },
  {
   "cell_type": "markdown",
   "metadata": {},
   "source": [
    "# markdown image link converter"
   ]
  },
  {
   "cell_type": "markdown",
   "metadata": {},
   "source": [
    "Format 1:\n",
    "```\n",
    "![img](/home/lauro/obsidian/Pasted image 14.png)\n",
    "```\n",
    "Format 2:\n",
    "```\n",
    "![[Pasted image 5.png]]\n",
    "```"
   ]
  },
  {
   "cell_type": "code",
   "execution_count": null,
   "metadata": {},
   "outputs": [],
   "source": [
    "string_f1 = \"kxkjdf![img](/home/lauro/obsidian/Pasted image 14.png)xdkfjdlk\\n\"\n",
    "string_f2 = \"![[Pasted image 14.png]]sdlfsdfsdfj\\n\""
   ]
  },
  {
   "cell_type": "code",
   "execution_count": null,
   "metadata": {},
   "outputs": [],
   "source": [
    "def f1_to_f2(string):\n",
    "    ind_begin = string.rindex(\"/\") # last occurence of /\n",
    "    ind_end = string.rindex(\")\") # last occurence of )\n",
    "    name = string[ind_begin+1:ind_end]\n",
    "    return f\"![[{name}]]\"\n",
    "\n",
    "def f2_to_f1(string):\n",
    "    ind_begin = string.index(\"!\")\n",
    "    ind_end = string.rindex(\"]\")\n",
    "    name = string[ind_begin+3:ind_end-1]\n",
    "    return f\"![img](/home/lauro/obsidian/{name})\"\n",
    "\n",
    "def line_is_f1_img(line):\n",
    "    return line.startswith(\"![img]\") and line.endswith(\".png)\\n\")\n",
    "\n",
    "def line_is_f2_img(line):\n",
    "    return line.startswith(\"![[\") and line.endswith(\".png]]\\n\")"
   ]
  },
  {
   "cell_type": "code",
   "execution_count": null,
   "metadata": {},
   "outputs": [],
   "source": [
    "def convert_file(filename, direction=\"f1_to_f2\"):\n",
    "    if direction == \"f1_to_f2\":\n",
    "        convert = f1_to_f2\n",
    "        is_img = line_is_f1_img\n",
    "    elif direction == \"f2_to_f1\":\n",
    "        convert = f2_to_f1\n",
    "        is_img = line_is_f2_img\n",
    "    else:\n",
    "        raise ValueError()\n",
    "    with open(filename, \"r\") as f:\n",
    "        lines = f.readlines()\n",
    "        for i, line in enumerate(lines):\n",
    "            if is_img(line):\n",
    "                line_converted = convert(line)\n",
    "                lines[i] = line_converted + \"\\n\"\n",
    "                print(f\"changed line: {line}\")\n",
    "    with open(filename, \"w\") as f:\n",
    "        f.writelines(lines)"
   ]
  },
  {
   "cell_type": "code",
   "execution_count": null,
   "metadata": {},
   "outputs": [],
   "source": [
    "# filename = \"/home/lauro/testfile\"\n",
    "# convert_file(filename, direction=\"f1_to_f2\")"
   ]
  },
  {
   "cell_type": "code",
   "execution_count": null,
   "metadata": {},
   "outputs": [],
   "source": [
    "filename = \"/home/lauro/obsidian/Master thesis/Updates/Update September 8.md\""
   ]
  },
  {
   "cell_type": "code",
   "execution_count": null,
   "metadata": {},
   "outputs": [],
   "source": [
    "convert_file(filename, direction=\"f1_to_f2\")"
   ]
  }
 ],
 "metadata": {
  "kernelspec": {
   "display_name": "msc-thesis",
   "language": "python",
   "name": "msc-thesis"
  },
  "language_info": {
   "codemirror_mode": {
    "name": "ipython",
    "version": 3
   },
   "file_extension": ".py",
   "mimetype": "text/x-python",
   "name": "python",
   "nbconvert_exporter": "python",
   "pygments_lexer": "ipython3",
   "version": "3.8.2"
  }
 },
 "nbformat": 4,
 "nbformat_minor": 4
}
