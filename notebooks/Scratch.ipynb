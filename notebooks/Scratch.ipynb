{
 "cells": [
  {
   "cell_type": "markdown",
   "metadata": {},
   "source": [
    "# Scratch"
   ]
  },
  {
   "cell_type": "code",
   "execution_count": 17,
   "metadata": {},
   "outputs": [],
   "source": [
    "import sys\n",
    "import os\n",
    "sys.path.append(\"/home/lauro/code/msc-thesis/svgd\")\n",
    "import json\n",
    "\n",
    "import jax.numpy as np\n",
    "from jax import grad, jit, vmap, random, lax, jacfwd\n",
    "from jax import lax\n",
    "from jax.ops import index_update, index\n",
    "import matplotlib.pyplot as plt\n",
    "import numpy as onp\n",
    "import jax\n",
    "import pandas as pd\n",
    "import haiku as hk\n",
    "\n",
    "import config\n",
    "\n",
    "import utils\n",
    "import metrics\n",
    "import time\n",
    "import plot\n",
    "import svgd\n",
    "import stein\n",
    "import train\n",
    "import kernels\n",
    "\n",
    "from jax.experimental import optimizers\n",
    "\n",
    "rkey = random.PRNGKey(0)"
   ]
  },
  {
   "cell_type": "markdown",
   "metadata": {},
   "source": [
    "# make searcher"
   ]
  },
  {
   "cell_type": "code",
   "execution_count": 18,
   "metadata": {},
   "outputs": [],
   "source": [
    "from itertools import product"
   ]
  },
  {
   "cell_type": "code",
   "execution_count": 32,
   "metadata": {},
   "outputs": [],
   "source": [
    "d = {\"one\": [1, 1], \"two\": [2, 2]}"
   ]
  },
  {
   "cell_type": "code",
   "execution_count": null,
   "metadata": {},
   "outputs": [],
   "source": [
    "def grid_search(hparams: dict):\n",
    "    \"\"\"traverse cartesian product of lists in hparams\"\"\"\n",
    "    for h in product(hparams)"
   ]
  },
  {
   "cell_type": "markdown",
   "metadata": {},
   "source": [
    "# Pickle model"
   ]
  },
  {
   "cell_type": "code",
   "execution_count": 2,
   "metadata": {},
   "outputs": [],
   "source": [
    "sargs = config.get_svgd_args(config.config)\n",
    "kernel = sargs[\"kernel\"]"
   ]
  },
  {
   "cell_type": "code",
   "execution_count": 3,
   "metadata": {},
   "outputs": [
    {
     "data": {
      "text/plain": [
       "Transformed(init=<function without_state.<locals>.init_fn at 0x7fd49c6e17b8>, apply=<function without_state.<locals>.apply_fn at 0x7fd49c6e1840>)"
      ]
     },
     "execution_count": 3,
     "metadata": {},
     "output_type": "execute_result"
    }
   ],
   "source": [
    "kernel"
   ]
  },
  {
   "cell_type": "code",
   "execution_count": 4,
   "metadata": {},
   "outputs": [],
   "source": [
    "x = np.array([1,2,3], dtype=np.float32)\n",
    "\n",
    "params = kernel.init(rkey, x, x)"
   ]
  },
  {
   "cell_type": "code",
   "execution_count": 50,
   "metadata": {},
   "outputs": [],
   "source": [
    "model = [kernel, params]"
   ]
  },
  {
   "cell_type": "code",
   "execution_count": 51,
   "metadata": {},
   "outputs": [],
   "source": [
    "import pickle"
   ]
  },
  {
   "cell_type": "code",
   "execution_count": 56,
   "metadata": {},
   "outputs": [],
   "source": [
    "a = np.array(3)"
   ]
  },
  {
   "cell_type": "code",
   "execution_count": 57,
   "metadata": {},
   "outputs": [
    {
     "data": {
      "text/plain": [
       "DeviceArray(3, dtype=int32)"
      ]
     },
     "execution_count": 57,
     "metadata": {},
     "output_type": "execute_result"
    }
   ],
   "source": [
    "a"
   ]
  },
  {
   "cell_type": "code",
   "execution_count": 58,
   "metadata": {},
   "outputs": [
    {
     "data": {
      "text/plain": [
       "'3'"
      ]
     },
     "execution_count": 58,
     "metadata": {},
     "output_type": "execute_result"
    }
   ],
   "source": [
    "str(a)"
   ]
  },
  {
   "cell_type": "code",
   "execution_count": 52,
   "metadata": {},
   "outputs": [
    {
     "ename": "AttributeError",
     "evalue": "Can't pickle local object 'without_state.<locals>.init_fn'",
     "output_type": "error",
     "traceback": [
      "\u001b[0;31m---------------------------------------------------------------------------\u001b[0m",
      "\u001b[0;31mAttributeError\u001b[0m                            Traceback (most recent call last)",
      "\u001b[0;32m<ipython-input-52-60fc630a2c78>\u001b[0m in \u001b[0;36m<module>\u001b[0;34m\u001b[0m\n\u001b[1;32m      1\u001b[0m \u001b[0;32mwith\u001b[0m \u001b[0mopen\u001b[0m\u001b[0;34m(\u001b[0m\u001b[0;34m\"file.pickle\"\u001b[0m\u001b[0;34m,\u001b[0m \u001b[0;34m\"wb\"\u001b[0m\u001b[0;34m)\u001b[0m \u001b[0;32mas\u001b[0m \u001b[0mf\u001b[0m\u001b[0;34m:\u001b[0m\u001b[0;34m\u001b[0m\u001b[0;34m\u001b[0m\u001b[0m\n\u001b[0;32m----> 2\u001b[0;31m     \u001b[0mpickle\u001b[0m\u001b[0;34m.\u001b[0m\u001b[0mdump\u001b[0m\u001b[0;34m(\u001b[0m\u001b[0mmodel\u001b[0m\u001b[0;34m,\u001b[0m \u001b[0mf\u001b[0m\u001b[0;34m)\u001b[0m\u001b[0;34m\u001b[0m\u001b[0;34m\u001b[0m\u001b[0m\n\u001b[0m\u001b[1;32m      3\u001b[0m \u001b[0;34m\u001b[0m\u001b[0m\n\u001b[1;32m      4\u001b[0m \u001b[0;32mwith\u001b[0m \u001b[0mopen\u001b[0m\u001b[0;34m(\u001b[0m\u001b[0;34m'file.pickle'\u001b[0m\u001b[0;34m,\u001b[0m \u001b[0;34m'rb'\u001b[0m\u001b[0;34m)\u001b[0m \u001b[0;32mas\u001b[0m \u001b[0mhandle\u001b[0m\u001b[0;34m:\u001b[0m\u001b[0;34m\u001b[0m\u001b[0;34m\u001b[0m\u001b[0m\n\u001b[1;32m      5\u001b[0m     \u001b[0mb\u001b[0m \u001b[0;34m=\u001b[0m \u001b[0mpickle\u001b[0m\u001b[0;34m.\u001b[0m\u001b[0mload\u001b[0m\u001b[0;34m(\u001b[0m\u001b[0mhandle\u001b[0m\u001b[0;34m)\u001b[0m\u001b[0;34m\u001b[0m\u001b[0;34m\u001b[0m\u001b[0m\n",
      "\u001b[0;31mAttributeError\u001b[0m: Can't pickle local object 'without_state.<locals>.init_fn'"
     ]
    }
   ],
   "source": [
    "with open(\"file.pickle\", \"wb\") as f:\n",
    "    pickle.dump(model, f)\n",
    "    \n",
    "with open('file.pickle', 'rb') as handle:\n",
    "    b = pickle.load(handle)"
   ]
  },
  {
   "cell_type": "markdown",
   "metadata": {},
   "source": [
    "# Read logs\n",
    "and sort by config entry"
   ]
  },
  {
   "cell_type": "code",
   "execution_count": 5,
   "metadata": {},
   "outputs": [
    {
     "name": "stdout",
     "output_type": "stream",
     "text": [
      "\u001b[0m\u001b[01;34mtest1\u001b[0m/\n"
     ]
    }
   ],
   "source": [
    "ls ../runs"
   ]
  },
  {
   "cell_type": "code",
   "execution_count": 12,
   "metadata": {},
   "outputs": [],
   "source": [
    "cfgs = []\n",
    "data = []\n",
    "metrics = []\n",
    "tdir = \"../runs/test1/\"\n",
    "for logdir in os.listdir(tdir):\n",
    "    configfile, datafile, metricfile = [tdir + logdir + f for f in [\"/config\", \"/data\", \"/metrics\"]]\n",
    "    with open(configfile, \"r\") as f:\n",
    "        cfgs.append(json.load(f))\n",
    "    with open(datafile, \"r\") as f:\n",
    "        data.append(json.load(f))\n",
    "    with open(metricfile, \"r\") as f:\n",
    "        metrics.append(json.load(f))\n",
    "        \n",
    "out = zip(cfgs, data)"
   ]
  },
  {
   "cell_type": "code",
   "execution_count": 13,
   "metadata": {},
   "outputs": [
    {
     "data": {
      "text/plain": [
       "15"
      ]
     },
     "execution_count": 13,
     "metadata": {},
     "output_type": "execute_result"
    }
   ],
   "source": [
    "len(cfgs)"
   ]
  },
  {
   "cell_type": "code",
   "execution_count": 14,
   "metadata": {},
   "outputs": [
    {
     "data": {
      "text/plain": [
       "[[32, 32, 32],\n",
       " [32, 32, 32],\n",
       " [32, 32, 32, 2],\n",
       " [32, 32, 32, 2],\n",
       " [32, 32, 2],\n",
       " [32, 32, 2],\n",
       " [32, 32],\n",
       " [32, 2],\n",
       " [32, 2],\n",
       " [32, 32],\n",
       " [32, 32, 32],\n",
       " [32, 32, 2],\n",
       " [32, 2],\n",
       " [32, 32, 32, 2],\n",
       " [32, 32]]"
      ]
     },
     "execution_count": 14,
     "metadata": {},
     "output_type": "execute_result"
    }
   ],
   "source": [
    "[c[\"kernel\"][\"layers\"] for c in cfgs]"
   ]
  },
  {
   "cell_type": "markdown",
   "metadata": {},
   "source": [
    "Want: pd dataframe with structure:\n",
    "\n",
    "y-axis: metric \\\n",
    "x-axis: layers (or learning rate, optimizer, ...)"
   ]
  },
  {
   "cell_type": "code",
   "execution_count": 16,
   "metadata": {},
   "outputs": [
    {
     "data": {
      "text/plain": [
       "[0.2103096,\n",
       " 0.036900043,\n",
       " 0.11703453,\n",
       " 0.11971799,\n",
       " 0.11273165,\n",
       " 2.2435925,\n",
       " 0.0012791828,\n",
       " 2.1348662,\n",
       " 0.17127702,\n",
       " 0.20807171,\n",
       " 2.2175035,\n",
       " 0.113004446,\n",
       " 0.11025192,\n",
       " 2.237052,\n",
       " 2.2076705]"
      ]
     },
     "execution_count": 16,
     "metadata": {},
     "output_type": "execute_result"
    }
   ],
   "source": [
    "metrics"
   ]
  },
  {
   "cell_type": "code",
   "execution_count": 10,
   "metadata": {},
   "outputs": [
    {
     "data": {
      "text/plain": [
       "{'svgd': {'target': 'Gaussian',\n",
       "  'target_args': [0, 1],\n",
       "  'n_particles': 100,\n",
       "  'optimizer_svgd': 'Adagrad',\n",
       "  'optimizer_svgd_args': [1]},\n",
       " 'kernel': {'architecture': 'MLP', 'layers': [32, 32, 32]},\n",
       " 'train_kernel': {'key': 0,\n",
       "  'n_iter': 100,\n",
       "  'ksd_steps': 1,\n",
       "  'svgd_steps': 1,\n",
       "  'optimizer_ksd': 'Adam',\n",
       "  'optimizer_ksd_args': [0.01]},\n",
       " 'metric': {'metric': 'Learned KSD', 'layers': [32, 32, 32, 2]}}"
      ]
     },
     "execution_count": 10,
     "metadata": {},
     "output_type": "execute_result"
    }
   ],
   "source": [
    "cfgs[0]"
   ]
  },
  {
   "cell_type": "markdown",
   "metadata": {},
   "source": [
    "# Haiku"
   ]
  },
  {
   "cell_type": "code",
   "execution_count": 25,
   "metadata": {},
   "outputs": [],
   "source": [
    "def net_fn(x):\n",
    "    mlp = hk.Sequential([\n",
    "        hk.Flatten(),\n",
    "        hk.Linear(32), jax.nn.relu,\n",
    "        hk.Linear(32), jax.nn.relu,\n",
    "        hk.Linear(2)\n",
    "    ])\n",
    "    return mlp(x)"
   ]
  },
  {
   "cell_type": "code",
   "execution_count": 26,
   "metadata": {},
   "outputs": [],
   "source": [
    "net = hk.transform(net_fn)"
   ]
  },
  {
   "cell_type": "code",
   "execution_count": 27,
   "metadata": {},
   "outputs": [],
   "source": [
    "x = np.array([1.])"
   ]
  },
  {
   "cell_type": "code",
   "execution_count": 28,
   "metadata": {},
   "outputs": [
    {
     "data": {
      "text/plain": [
       "frozendict({\n",
       "  'linear': frozendict({\n",
       "              'b': DeviceArray([0., 0., 0., 0., 0., 0., 0., 0., 0., 0., 0., 0., 0., 0., 0.,\n",
       "                                0., 0., 0., 0., 0., 0., 0., 0., 0., 0., 0., 0., 0., 0., 0.,\n",
       "                                0., 0.], dtype=float32),\n",
       "              'w': DeviceArray([[ 0.30432975, -0.20807576,  1.5253605 , -0.33471823,\n",
       "                                 -0.819684  ,  0.07262449,  0.7509552 ,  0.39394718,\n",
       "                                  1.1008915 , -0.08661515,  0.37275988,  0.6297104 ,\n",
       "                                 -1.2111528 ,  0.37929875,  0.16987085, -0.01042716,\n",
       "                                 -0.02237887, -0.25954643,  0.37912893,  0.3542186 ,\n",
       "                                  1.0106695 ,  0.49792677,  0.9558354 ,  1.2206774 ,\n",
       "                                 -1.1474493 ,  0.1913647 , -0.31445143,  0.7700437 ,\n",
       "                                 -0.05240698,  0.64090383,  1.7368569 ,  0.27655005]],            dtype=float32),\n",
       "            }),\n",
       "  'linear_1': frozendict({\n",
       "                'b': DeviceArray([0., 0., 0., 0., 0., 0., 0., 0., 0., 0., 0., 0., 0., 0., 0.,\n",
       "                                  0., 0., 0., 0., 0., 0., 0., 0., 0., 0., 0., 0., 0., 0., 0.,\n",
       "                                  0., 0.], dtype=float32),\n",
       "                'w': DeviceArray([[ 0.08302863, -0.17062844, -0.07376211, ..., -0.08374657,\n",
       "                                    0.21960269,  0.01515668],\n",
       "                                  [ 0.01115299, -0.13521113,  0.32256195, ...,  0.01808637,\n",
       "                                    0.11305171, -0.03808636],\n",
       "                                  [ 0.17479242, -0.2286834 ,  0.00352735, ...,  0.05944774,\n",
       "                                    0.0373136 ,  0.21084544],\n",
       "                                  ...,\n",
       "                                  [-0.2261658 ,  0.00319099, -0.00190081, ..., -0.08454278,\n",
       "                                   -0.02501531,  0.05431697],\n",
       "                                  [ 0.0129506 , -0.2646801 , -0.00346068, ..., -0.35149458,\n",
       "                                   -0.1033944 , -0.01869885],\n",
       "                                  [-0.00433633, -0.07129222,  0.15059368, ...,  0.12429693,\n",
       "                                   -0.00426507,  0.09336969]], dtype=float32),\n",
       "              }),\n",
       "  'linear_2': frozendict({\n",
       "                'b': DeviceArray([0., 0.], dtype=float32),\n",
       "                'w': DeviceArray([[ 0.33693647, -0.08156392],\n",
       "                                  [-0.0231153 , -0.19067462],\n",
       "                                  [-0.06265528,  0.0163577 ],\n",
       "                                  [-0.08656993, -0.13401552],\n",
       "                                  [-0.00870087, -0.03632689],\n",
       "                                  [-0.06582791,  0.16917686],\n",
       "                                  [ 0.3354822 ,  0.07473859],\n",
       "                                  [-0.07807247,  0.08990759],\n",
       "                                  [-0.16548415, -0.22355807],\n",
       "                                  [-0.09944247,  0.09564158],\n",
       "                                  [ 0.03161463,  0.05236812],\n",
       "                                  [ 0.04891369,  0.1782383 ],\n",
       "                                  [-0.215166  , -0.12491131],\n",
       "                                  [-0.16684052,  0.08814897],\n",
       "                                  [ 0.24605985, -0.24375853],\n",
       "                                  [ 0.25648335,  0.31369227],\n",
       "                                  [-0.01597696,  0.13645412],\n",
       "                                  [ 0.04379918, -0.35065004],\n",
       "                                  [ 0.03520917,  0.151708  ],\n",
       "                                  [ 0.26973182,  0.13473019],\n",
       "                                  [ 0.09729369,  0.00419234],\n",
       "                                  [ 0.16646679,  0.01386744],\n",
       "                                  [ 0.11520208,  0.32658333],\n",
       "                                  [ 0.29958388, -0.31057867],\n",
       "                                  [-0.19602196,  0.03781724],\n",
       "                                  [ 0.23637427, -0.15158752],\n",
       "                                  [ 0.19197246,  0.02835671],\n",
       "                                  [-0.06186272,  0.07694263],\n",
       "                                  [ 0.15705451,  0.14830779],\n",
       "                                  [ 0.33091387,  0.08516432],\n",
       "                                  [-0.04851269, -0.16005425],\n",
       "                                  [ 0.0799062 , -0.10167595]], dtype=float32),\n",
       "              }),\n",
       "})"
      ]
     },
     "execution_count": 28,
     "metadata": {},
     "output_type": "execute_result"
    }
   ],
   "source": [
    "net.init(rkey, x)"
   ]
  },
  {
   "cell_type": "code",
   "execution_count": 20,
   "metadata": {},
   "outputs": [
    {
     "data": {
      "text/plain": [
       "DeviceArray(0.3204255, dtype=float32)"
      ]
     },
     "execution_count": 20,
     "metadata": {},
     "output_type": "execute_result"
    }
   ],
   "source": [
    "m = hk.transform(vanilla_ard)\n",
    "dist = metrics.Gaussian(0, 1)\n",
    "x, y = dist.sample((2,))\n",
    "\n",
    "params = m.init(rkey, x, y)\n",
    "\n",
    "m.apply(params, x, y)"
   ]
  },
  {
   "cell_type": "markdown",
   "metadata": {},
   "source": [
    "## test thingy"
   ]
  },
  {
   "cell_type": "code",
   "execution_count": 3,
   "metadata": {},
   "outputs": [],
   "source": [
    "import haiku as hk"
   ]
  },
  {
   "cell_type": "code",
   "execution_count": 3,
   "metadata": {},
   "outputs": [],
   "source": [
    "target = metrics.Gaussian(0, 1) # target dist\n",
    "n = 100 # nr particles\n",
    "\n",
    "lr_svgd = 1\n",
    "lr_ksd = 1e-2\n",
    "\n",
    "n_steps = 1\n",
    "ksd_steps = 1\n",
    "svgd_steps = 300"
   ]
  },
  {
   "cell_type": "code",
   "execution_count": 4,
   "metadata": {},
   "outputs": [],
   "source": [
    "from train import SVGD\n",
    "kernel = kernels.mlp_ard\n",
    "kernel = hk.transform(kernel)\n",
    "\n",
    "opt_svgd = train.Optimizer(*optimizers.sgd(step_size=lr_svgd))\n",
    "opt_ksd  = train.Optimizer(*optimizers.adam(step_size=lr_ksd))\n",
    "\n",
    "svgd = SVGD(target, n, opt_svgd, kernel)"
   ]
  },
  {
   "cell_type": "code",
   "execution_count": 5,
   "metadata": {},
   "outputs": [
    {
     "name": "stderr",
     "output_type": "stream",
     "text": [
      "100%|██████████| 1/1 [00:55<00:00, 55.72s/it]\n"
     ]
    }
   ],
   "source": [
    "kernel_params, log = svgd.train_kernel(rkey, n_steps, ksd_steps, svgd_steps, opt_ksd)"
   ]
  },
  {
   "cell_type": "code",
   "execution_count": 6,
   "metadata": {},
   "outputs": [
    {
     "data": {
      "text/plain": [
       "dict_keys(['square_errors', 'KL Divergence', 'ksd', 'particles'])"
      ]
     },
     "execution_count": 6,
     "metadata": {},
     "output_type": "execute_result"
    }
   ],
   "source": [
    "log.keys()"
   ]
  },
  {
   "cell_type": "code",
   "execution_count": 7,
   "metadata": {},
   "outputs": [
    {
     "data": {
      "text/plain": [
       "[<matplotlib.lines.Line2D at 0x7f8d9c0a1c50>]"
      ]
     },
     "execution_count": 7,
     "metadata": {},
     "output_type": "execute_result"
    },
    {
     "data": {
      "image/png": "[encoded data removed]",
      "text/plain": [
       "<Figure size 432x288 with 1 Axes>"
      ]
     },
     "metadata": {
      "needs_background": "light"
     },
     "output_type": "display_data"
    }
   ],
   "source": [
    "plt.plot(log[\"KL Divergence\"])"
   ]
  },
  {
   "cell_type": "code",
   "execution_count": 9,
   "metadata": {},
   "outputs": [],
   "source": [
    "key = random.PRNGKey(1)\n",
    "key1, key2 = random.split(key)"
   ]
  },
  {
   "cell_type": "code",
   "execution_count": 10,
   "metadata": {},
   "outputs": [],
   "source": [
    "samples = svgd.sample(key1, kernel_params, n_steps)"
   ]
  },
  {
   "cell_type": "code",
   "execution_count": 11,
   "metadata": {},
   "outputs": [
    {
     "data": {
      "image/png": "[encoded data removed]",
      "text/plain": [
       "<Figure size 432x288 with 1 Axes>"
      ]
     },
     "metadata": {
      "needs_background": "light"
     },
     "output_type": "display_data"
    }
   ],
   "source": [
    "gr = np.linspace(-4, 4, 100)\n",
    "_ = plt.plot(gr, vmap(target.pdf)(gr))\n",
    "_ = plt.hist(samples[:, 0], bins=25, density=True)"
   ]
  },
  {
   "cell_type": "code",
   "execution_count": 12,
   "metadata": {},
   "outputs": [],
   "source": [
    "dummies = target.sample((2,1))\n",
    "init_params = kernel.init(key1, *dummies)\n",
    "comparison_samples = svgd.sample(key, init_params, n_steps)"
   ]
  },
  {
   "cell_type": "code",
   "execution_count": 15,
   "metadata": {},
   "outputs": [
    {
     "data": {
      "image/png": "[encoded data removed]",
      "text/plain": [
       "<Figure size 432x288 with 1 Axes>"
      ]
     },
     "metadata": {
      "needs_background": "light"
     },
     "output_type": "display_data"
    }
   ],
   "source": [
    "gr = np.linspace(-4, 4, 100)\n",
    "_ = plt.plot(gr, vmap(target.pdf)(gr))\n",
    "_ = plt.hist(comparison_samples[:, 0], bins=25, density=True)"
   ]
  },
  {
   "cell_type": "markdown",
   "metadata": {},
   "source": [
    "# Haiku"
   ]
  },
  {
   "cell_type": "code",
   "execution_count": 4,
   "metadata": {},
   "outputs": [],
   "source": [
    "from kernels import vanilla_ard"
   ]
  },
  {
   "cell_type": "code",
   "execution_count": 9,
   "metadata": {},
   "outputs": [],
   "source": [
    "m = hk.transform(vanilla_ard)\n",
    "\n",
    "dist = metrics.Gaussian(0, 1)\n",
    "\n",
    "x, y = dist.sample((2,))\n",
    "\n",
    "params = m.init(rkey, x, y)\n",
    "\n",
    "m.apply(params, x, y)"
   ]
  },
  {
   "cell_type": "code",
   "execution_count": 10,
   "metadata": {},
   "outputs": [
    {
     "ename": "NameError",
     "evalue": "name 'slkfdj' is not defined",
     "output_type": "error",
     "traceback": [
      "\u001b[0;31m---------------------------------------------------------------------------\u001b[0m",
      "\u001b[0;31mNameError\u001b[0m                                 Traceback (most recent call last)",
      "\u001b[0;32m<ipython-input-10-696fc5cd3610>\u001b[0m in \u001b[0;36m<module>\u001b[0;34m\u001b[0m\n\u001b[0;32m----> 1\u001b[0;31m \u001b[0mslkfdj\u001b[0m\u001b[0;34m\u001b[0m\u001b[0;34m\u001b[0m\u001b[0m\n\u001b[0m",
      "\u001b[0;31mNameError\u001b[0m: name 'slkfdj' is not defined"
     ]
    }
   ],
   "source": [
    "slkfdj"
   ]
  },
  {
   "cell_type": "markdown",
   "metadata": {},
   "source": [
    "## training"
   ]
  },
  {
   "cell_type": "code",
   "execution_count": null,
   "metadata": {},
   "outputs": [],
   "source": [
    "ksd_squared = vmap(self.ksd_squared, (None, None, 0)) # operate on batch of particles\n",
    "hypernetwork = self.hypernetwork\n",
    "def current_step(i, j, steps):\n",
    "    return i*steps + j\n",
    "key1, key2 = random.split(key)\n",
    "\n",
    "particles = init_svgd(key1, self.particle_shape)\n",
    "opt_svgd_state = self.opt.init(particles)\n",
    "\n",
    "particles = np.expand_dims(particles, 0) # batch dimension\n",
    "params = hypernetwork.init(key2, particles)\n",
    "opt_ksd_state = opt_ksd.init(params)\n",
    "\n",
    "log = dict()\n",
    "for i in range(n_iter):\n",
    "    # update particles:\n",
    "    params = opt_ksd.get_params(opt_ksd_state)\n",
    "    particle_batch = []\n",
    "    for j in range(svgd_steps):\n",
    "        step = current_step(i, j, svgd_steps)\n",
    "\n",
    "        particles = self.opt.get_params(opt_svgd_state)\n",
    "        gp = -self.phistar(particles, params) # TODO gradient has wrong extra batch dim\n",
    "        print(gp.shape)\n",
    "        opt_svgd_state = self.opt.update(step, gp, opt_svgd_state)\n",
    "\n",
    "        particle_batch.append(particles)\n",
    "        utils.warn_if_nan(gp)\n",
    "\n",
    "    # update network params:\n",
    "    particle_batch = np.asarray(particle_batch, dtype=np.float32)\n",
    "    log = metrics.append_to_log(log, {\"particles\": particle_batch})\n",
    "    inner_updates = []\n",
    "    ksds = []\n",
    "    gradients = []\n",
    "    for j in range(ksd_steps):\n",
    "        step = current_step(i, j, ksd_steps)\n",
    "        params = opt_ksd.get_params(opt_ksd_state)\n",
    "        ksd, gk = value_and_grad(ksd_squared)(params, particle_batch)\n",
    "        opt_ksd_state = opt_ksd.update(step, gk, opt_ksd_state)\n",
    "\n",
    "#                inner_updates.append(params)\n",
    "        ksds.append(ksd)\n",
    "        gradients.append(gk)\n",
    "        utils.warn_if_nan(ksd)\n",
    "        utils.warn_if_nan(gk)\n",
    "    update_log = {\n",
    "        \"ksd\": ksds,\n",
    "        \"gradients\": gradients,\n",
    "    }\n",
    "    log = metrics.append_to_log(log, update_log)\n"
   ]
  },
  {
   "cell_type": "markdown",
   "metadata": {},
   "source": [
    "# Bug\n"
   ]
  },
  {
   "cell_type": "code",
   "execution_count": null,
   "metadata": {},
   "outputs": [],
   "source": [
    "np.diff([1, 2, 4, 8])"
   ]
  },
  {
   "cell_type": "code",
   "execution_count": null,
   "metadata": {},
   "outputs": [],
   "source": [
    "onp.diff([1, 2, 4, 8])"
   ]
  },
  {
   "cell_type": "markdown",
   "metadata": {},
   "source": [
    "# class thingy"
   ]
  },
  {
   "cell_type": "code",
   "execution_count": null,
   "metadata": {},
   "outputs": [],
   "source": [
    "class Test():\n",
    "    def __init__(self, a=1):\n",
    "        self.a = a\n",
    "        \n",
    "    def getf(self):\n",
    "        def f():\n",
    "            return self.a\n",
    "        return f"
   ]
  },
  {
   "cell_type": "code",
   "execution_count": null,
   "metadata": {},
   "outputs": [],
   "source": [
    "t = Test(5)\n",
    "f = t.getf()\n",
    "f()"
   ]
  },
  {
   "cell_type": "code",
   "execution_count": null,
   "metadata": {},
   "outputs": [],
   "source": [
    "t.a = 3\n",
    "f()"
   ]
  },
  {
   "cell_type": "markdown",
   "metadata": {},
   "source": [
    "Right, of course this works: `a` is not a global variable, but `t.a` *is*, since the instance `t` is also available globally."
   ]
  },
  {
   "cell_type": "markdown",
   "metadata": {},
   "source": [
    "## jit `static_argnums` and classes"
   ]
  },
  {
   "cell_type": "code",
   "execution_count": null,
   "metadata": {},
   "outputs": [],
   "source": [
    "class Test():\n",
    "    def __init__(self, y):\n",
    "        self.y = y\n",
    "        self.var = 0\n",
    "    \n",
    "    def tfun(self, x):\n",
    "        return self.y + x**2 + self.var\n",
    "    tfun = utils.verbose_jit(tfun, static_argnums=0)\n",
    "    \n",
    "    def change(self):\n",
    "        self.var += 1"
   ]
  },
  {
   "cell_type": "code",
   "execution_count": null,
   "metadata": {},
   "outputs": [],
   "source": [
    "t = Test(5)"
   ]
  },
  {
   "cell_type": "code",
   "execution_count": null,
   "metadata": {},
   "outputs": [],
   "source": [
    "from copy import deepcopy\n",
    "tcopy = deepcopy(t)\n",
    "print(t == tcopy)\n",
    "# indeed:\n",
    "print(id(t) == id(tcopy))\n",
    "\n",
    "print(\"----------\")\n",
    "print(id(t))\n",
    "print(id(tcopy))\n",
    "\n",
    "print(\"---------\")\n",
    "print(\"But the id of the class instance never changes, even if its objects do:\")\n",
    "oldid = id(t)\n",
    "t.change()\n",
    "print(oldid == id(t))\n",
    "print()\n",
    "print(\"This means you gotta be careful, since jit recompiles only if the object id changes.\")"
   ]
  },
  {
   "cell_type": "code",
   "execution_count": null,
   "metadata": {},
   "outputs": [],
   "source": [
    "t.__eq__"
   ]
  },
  {
   "cell_type": "code",
   "execution_count": null,
   "metadata": {},
   "outputs": [],
   "source": [
    "t.__hash__"
   ]
  },
  {
   "cell_type": "markdown",
   "metadata": {},
   "source": [
    "# numpy indexing"
   ]
  },
  {
   "cell_type": "code",
   "execution_count": null,
   "metadata": {},
   "outputs": [],
   "source": [
    "a = random.uniform(rkey, (20,))"
   ]
  },
  {
   "cell_type": "code",
   "execution_count": null,
   "metadata": {},
   "outputs": [],
   "source": [
    "a"
   ]
  },
  {
   "cell_type": "code",
   "execution_count": null,
   "metadata": {},
   "outputs": [],
   "source": [
    "idx = np.array([[1, 2, 3],\n",
    "                [2, 3, 4]])"
   ]
  },
  {
   "cell_type": "code",
   "execution_count": null,
   "metadata": {},
   "outputs": [],
   "source": [
    "a[idx]"
   ]
  },
  {
   "cell_type": "markdown",
   "metadata": {},
   "source": [
    "# test `vmap` row column behaviour"
   ]
  },
  {
   "cell_type": "code",
   "execution_count": null,
   "metadata": {},
   "outputs": [],
   "source": [
    "f = lambda x, y: 10*x + y"
   ]
  },
  {
   "cell_type": "code",
   "execution_count": null,
   "metadata": {},
   "outputs": [],
   "source": [
    "fv  = vmap(f,  (None, 0))\n",
    "fvv = vmap(fv, (0, None))\n",
    "\n",
    "x = np.array([1,2])\n",
    "f_matrix = fvv(x, x)"
   ]
  },
  {
   "cell_type": "code",
   "execution_count": null,
   "metadata": {},
   "outputs": [],
   "source": [
    "f_matrix"
   ]
  },
  {
   "cell_type": "markdown",
   "metadata": {},
   "source": [
    "# testing `stein.stein`"
   ]
  },
  {
   "cell_type": "code",
   "execution_count": null,
   "metadata": {},
   "outputs": [],
   "source": [
    "d = 3\n",
    "dist = metrics.Gaussian(np.zeros(d), 1)\n",
    "xs = dist.sample((100,))"
   ]
  },
  {
   "cell_type": "markdown",
   "metadata": {},
   "source": [
    "### Case 1: \n",
    "Input is $f: \\mathbb R^d \\to \\mathbb R^d$.\n",
    "Then \n",
    "$$\\mathcal A_p [f] (x) \\in \\mathbb R^{d \\times d}$$\n",
    "and \n",
    "$$\\mathcal A_p^T [f] (x) \\in \\mathbb R$$"
   ]
  },
  {
   "cell_type": "code",
   "execution_count": null,
   "metadata": {},
   "outputs": [],
   "source": [
    "def f(x):\n",
    "    x = np.array(x)\n",
    "    assert x.shape == (d,)\n",
    "    a = np.array([1,2,3])\n",
    "    return x*2 + a\n",
    "f([3.,2.,1])"
   ]
  },
  {
   "cell_type": "code",
   "execution_count": null,
   "metadata": {},
   "outputs": [],
   "source": [
    "stein.stein(f, xs, dist.logpdf).shape"
   ]
  },
  {
   "cell_type": "code",
   "execution_count": null,
   "metadata": {},
   "outputs": [],
   "source": [
    "stein.stein(f, xs, dist.logpdf, transposed=True)"
   ]
  },
  {
   "cell_type": "markdown",
   "metadata": {},
   "source": [
    "### Case 2:\n",
    "Input is $f: \\mathbb R^d \\to \\mathbb R$.\n",
    "Then \n",
    "$$\\mathcal A_p [f] (x) \\in \\mathbb R^{d}.$$\n",
    "\n",
    "Note that $\\mathcal A_p^ T [f]$ makes no sense."
   ]
  },
  {
   "cell_type": "code",
   "execution_count": null,
   "metadata": {},
   "outputs": [],
   "source": [
    "def f(x):\n",
    "    x = np.array(x)\n",
    "    assert x.shape == (d,)\n",
    "    a = np.array([1,2,3])\n",
    "    return np.sum(x*2 + a)\n",
    "f([3.,2.,1])"
   ]
  },
  {
   "cell_type": "code",
   "execution_count": null,
   "metadata": {},
   "outputs": [],
   "source": [
    "stein.stein(f, xs, dist.logpdf).shape"
   ]
  },
  {
   "cell_type": "code",
   "execution_count": null,
   "metadata": {},
   "outputs": [],
   "source": [
    "# stein.stein(f, xs, dist.logpdf, transposed=True) # throws an error"
   ]
  },
  {
   "cell_type": "code",
   "execution_count": null,
   "metadata": {},
   "outputs": [],
   "source": [
    "def f(x):\n",
    "    x = np.array(x)\n",
    "    assert x.shape == (d,)\n",
    "    a = np.array([1,2,3])\n",
    "    return np.einsum(\"i,j->ij\",2*x, a)\n",
    "f([3.,2.,1])"
   ]
  },
  {
   "cell_type": "code",
   "execution_count": null,
   "metadata": {},
   "outputs": [],
   "source": [
    "jacfwd(f)([3.,2.,1.])"
   ]
  },
  {
   "cell_type": "code",
   "execution_count": null,
   "metadata": {},
   "outputs": [],
   "source": [
    "onp.einsum(\"iii->i\", jacfwd(f)([3.,2.,1.]))"
   ]
  },
  {
   "cell_type": "code",
   "execution_count": null,
   "metadata": {},
   "outputs": [],
   "source": [
    "np.einsum(\"ii\", f([3,2,1]))"
   ]
  },
  {
   "cell_type": "markdown",
   "metadata": {},
   "source": [
    "# jit stuff "
   ]
  },
  {
   "cell_type": "code",
   "execution_count": null,
   "metadata": {},
   "outputs": [],
   "source": [
    "def t(a, b):\n",
    "    return a + b"
   ]
  },
  {
   "cell_type": "code",
   "execution_count": null,
   "metadata": {},
   "outputs": [],
   "source": [
    "jacfwd(t)(1., 2.)"
   ]
  },
  {
   "cell_type": "code",
   "execution_count": null,
   "metadata": {},
   "outputs": [],
   "source": [
    "@jit\n",
    "def outer(defval, const=None):\n",
    "    if const is None:\n",
    "        const = defval\n",
    "    \n",
    "    def loss():\n",
    "        return const\n",
    "    return loss()\n",
    "    "
   ]
  },
  {
   "cell_type": "code",
   "execution_count": null,
   "metadata": {},
   "outputs": [],
   "source": [
    "outer(5, None)"
   ]
  },
  {
   "cell_type": "code",
   "execution_count": null,
   "metadata": {},
   "outputs": [],
   "source": [
    "outer(5, 15)"
   ]
  },
  {
   "cell_type": "code",
   "execution_count": null,
   "metadata": {},
   "outputs": [],
   "source": [
    "outer(10, None)"
   ]
  },
  {
   "cell_type": "markdown",
   "metadata": {},
   "source": [
    "## test mixture"
   ]
  },
  {
   "cell_type": "code",
   "execution_count": null,
   "metadata": {},
   "outputs": [],
   "source": [
    "d = 3\n",
    "k = 5\n",
    "rkey = random.split(rkey)[0]\n",
    "means = random.uniform(rkey, shape=(k, d))\n",
    "covs = random.uniform(rkey, shape=(k, d, d))\n",
    "covs = np.einsum(\"kil,kjl->kij\", covs, covs)\n",
    "weights = np.array([1/3, 2/3, 2/3, 2/3, 1/3])\n",
    "\n",
    "mix = metrics.GaussianMixture(means, covs, weights)"
   ]
  },
  {
   "cell_type": "code",
   "execution_count": null,
   "metadata": {},
   "outputs": [],
   "source": [
    "diffs = []\n",
    "grid = np.arange(15)\n",
    "grid = 3**grid\n",
    "for i in grid:\n",
    "    sample = mix.sample(shape=(i,))\n",
    "    diffs.append(np.mean((np.cov(sample, rowvar=False) - mix.cov)**2 / mix.cov))\n",
    "diffs = np.array(diffs)"
   ]
  },
  {
   "cell_type": "code",
   "execution_count": null,
   "metadata": {},
   "outputs": [],
   "source": [
    "plt.plot(grid, diffs, \".\")\n",
    "plt.yscale(\"log\")\n",
    "plt.xscale(\"log\")"
   ]
  },
  {
   "cell_type": "markdown",
   "metadata": {},
   "source": [
    "## test Gaussian"
   ]
  },
  {
   "cell_type": "code",
   "execution_count": null,
   "metadata": {},
   "outputs": [],
   "source": [
    "mean = np.array([1, 2])\n",
    "cov = np.array([[1, 3], [3, 20]])"
   ]
  },
  {
   "cell_type": "code",
   "execution_count": null,
   "metadata": {},
   "outputs": [],
   "source": [
    "gauss = metrics.Gaussian(mean, cov)"
   ]
  },
  {
   "cell_type": "code",
   "execution_count": null,
   "metadata": {},
   "outputs": [],
   "source": [
    "metrics.Distribution"
   ]
  },
  {
   "cell_type": "code",
   "execution_count": null,
   "metadata": {},
   "outputs": [],
   "source": [
    "sample = gauss.sample(shape=(100,))\n",
    "rsample = random.multivariate_normal(rkey, mean*3, cov/2, shape=(100,))"
   ]
  },
  {
   "cell_type": "code",
   "execution_count": null,
   "metadata": {},
   "outputs": [],
   "source": [
    "gauss.compute_metrics(sample)"
   ]
  },
  {
   "cell_type": "code",
   "execution_count": null,
   "metadata": {},
   "outputs": [],
   "source": [
    "gauss.compute_metrics(rsample)"
   ]
  },
  {
   "cell_type": "markdown",
   "metadata": {},
   "source": [
    "## jax einsum floating point round-off error"
   ]
  },
  {
   "cell_type": "code",
   "execution_count": null,
   "metadata": {},
   "outputs": [],
   "source": [
    "import jax.numpy as jnp\n",
    "import numpy as onp"
   ]
  },
  {
   "cell_type": "markdown",
   "metadata": {},
   "source": [
    "Jax"
   ]
  },
  {
   "cell_type": "code",
   "execution_count": null,
   "metadata": {},
   "outputs": [],
   "source": [
    "values = jnp.array([[-5], [10]])\n",
    "weights = jnp.array([1/3, 2/3])"
   ]
  },
  {
   "cell_type": "code",
   "execution_count": null,
   "metadata": {},
   "outputs": [],
   "source": [
    "jnp.einsum(\"i,id->d\", weights, values)"
   ]
  },
  {
   "cell_type": "code",
   "execution_count": null,
   "metadata": {},
   "outputs": [],
   "source": [
    "jnp.sum(values.flatten() * weights)"
   ]
  },
  {
   "cell_type": "markdown",
   "metadata": {},
   "source": [
    "Numpy"
   ]
  },
  {
   "cell_type": "code",
   "execution_count": null,
   "metadata": {},
   "outputs": [],
   "source": [
    "values = onp.array([[-5], [10]], dtype=np.float32)\n",
    "weights = onp.array([1/3, 2/3], dtype=np.float32)"
   ]
  },
  {
   "cell_type": "code",
   "execution_count": null,
   "metadata": {},
   "outputs": [],
   "source": [
    "onp.einsum(\"i,id->d\", weights, values)"
   ]
  }
 ],
 "metadata": {
  "kernelspec": {
   "display_name": "msc-thesis",
   "language": "python",
   "name": "msc-thesis"
  },
  "language_info": {
   "codemirror_mode": {
    "name": "ipython",
    "version": 3
   },
   "file_extension": ".py",
   "mimetype": "text/x-python",
   "name": "python",
   "nbconvert_exporter": "python",
   "pygments_lexer": "ipython3",
   "version": "3.6.9"
  }
 },
 "nbformat": 4,
 "nbformat_minor": 4
}
