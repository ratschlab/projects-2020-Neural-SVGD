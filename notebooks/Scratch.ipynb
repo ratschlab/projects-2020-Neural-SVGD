{
 "cells": [
  {
   "cell_type": "markdown",
   "metadata": {},
   "source": [
    "# Scratch Notebook"
   ]
  },
  {
   "cell_type": "code",
   "execution_count": 1,
   "metadata": {},
   "outputs": [
    {
     "name": "stderr",
     "output_type": "stream",
     "text": [
      "/home/lauro/.virtualenvs/msc-thesis/lib/python3.8/site-packages/jax/lib/xla_bridge.py:130: UserWarning: No GPU/TPU found, falling back to CPU.\n",
      "  warnings.warn('No GPU/TPU found, falling back to CPU.')\n"
     ]
    }
   ],
   "source": [
    "%load_ext autoreload\n",
    "\n",
    "import sys\n",
    "import copy\n",
    "import os\n",
    "sys.path.append(\"/home/lauro/code/msc-thesis/svgd/kernel_learning\")\n",
    "import json\n",
    "import collections\n",
    "import itertools\n",
    "from functools import partial\n",
    "import importlib\n",
    "\n",
    "import numpy as onp\n",
    "from jax.config import config\n",
    "# config.update(\"jax_log_compiles\", True)\n",
    "# config.update(\"jax_enable_x64\", True)\n",
    "\n",
    "import jax.numpy as np\n",
    "from jax import grad, jit, vmap, random, lax, jacfwd, value_and_grad\n",
    "from jax import lax\n",
    "from jax.ops import index_update, index\n",
    "import matplotlib.pyplot as plt\n",
    "\n",
    "import numpy as onp\n",
    "import jax\n",
    "import pandas as pd\n",
    "import haiku as hk\n",
    "import ot\n",
    "\n",
    "import config\n",
    "\n",
    "import utils\n",
    "import metrics\n",
    "import time\n",
    "import plot\n",
    "import stein\n",
    "import kernels\n",
    "import distributions\n",
    "import nets\n",
    "import kernel_learning\n",
    "\n",
    "from jax.experimental import optimizers\n",
    "\n",
    "key = random.PRNGKey(0)\n",
    "\n",
    "from jax.scipy.stats import norm"
   ]
  },
  {
   "cell_type": "markdown",
   "metadata": {},
   "source": [
    "# confirm relationship between L2 norm and RKHS norm"
   ]
  },
  {
   "cell_type": "code",
   "execution_count": 5,
   "metadata": {},
   "outputs": [],
   "source": [
    "kernel = kernels.get_rbf_kernel(1)\n",
    "q = distributions.Gaussian(0, 1)\n",
    "s = q.sample(10_000)\n",
    "\n",
    "@partial(jit, static_argnums=0)\n",
    "def l2_and_rkhs_norm(kernel, x):\n",
    "    \"\"\"Return both norms of k(x, _)\"\"\"\n",
    "    x = np.squeeze(np.array(x))\n",
    "    def kx(y):\n",
    "        return kernel(x, np.squeeze(y))\n",
    "    l2_norm = utils.l2_norm(s, kx)\n",
    "    rkhs_norm = kernel(x, x)\n",
    "    return l2_norm, rkhs_norm"
   ]
  },
  {
   "cell_type": "code",
   "execution_count": 6,
   "metadata": {},
   "outputs": [],
   "source": [
    "xgrid = np.linspace(-3, 3, num=50)\n",
    "norms = vmap(l2_and_rkhs_norm, (None, 0))(kernel, xgrid)\n",
    "norms = np.array(norms)"
   ]
  },
  {
   "cell_type": "code",
   "execution_count": 7,
   "metadata": {},
   "outputs": [
    {
     "data": {
      "text/plain": [
       "[<matplotlib.lines.Line2D at 0x7efd80677970>,\n",
       " <matplotlib.lines.Line2D at 0x7efdec179400>]"
      ]
     },
     "execution_count": 7,
     "metadata": {},
     "output_type": "execute_result"
    },
    {
     "data": {
      "image/png": "[encoded data removed]",
      "text/plain": [
       "<Figure size 432x288 with 1 Axes>"
      ]
     },
     "metadata": {
      "needs_background": "light"
     },
     "output_type": "display_data"
    }
   ],
   "source": [
    "plt.plot(norms.T)"
   ]
  },
  {
   "cell_type": "code",
   "execution_count": 31,
   "metadata": {},
   "outputs": [
    {
     "data": {
      "text/plain": [
       "(DeviceArray(0.7579048, dtype=float32), DeviceArray(1., dtype=float32))"
      ]
     },
     "execution_count": 31,
     "metadata": {},
     "output_type": "execute_result"
    }
   ],
   "source": [
    "l2_and_rkhs_norm(kernel, 2.)"
   ]
  },
  {
   "cell_type": "markdown",
   "metadata": {},
   "source": [
    "# benchmark container"
   ]
  },
  {
   "cell_type": "code",
   "execution_count": null,
   "metadata": {},
   "outputs": [],
   "source": [
    "class Benchmarks():\n",
    "    def __init__(target, proposal, lambda_reg):\n",
    "        pass"
   ]
  },
  {
   "cell_type": "markdown",
   "metadata": {},
   "source": [
    "# compute globally maximal stein discrepancy in $L_2$"
   ]
  },
  {
   "cell_type": "code",
   "execution_count": 3,
   "metadata": {},
   "outputs": [],
   "source": [
    "def get_optimal_sd(key, lambda_reg, target, proposal, batch_size=400):\n",
    "    \"\"\"Compute mean and stddev of optimal SD under proposal.\"\"\"\n",
    "    def optimal_grad(x):\n",
    "        div = 2*lambda_reg\n",
    "        return grad(lambda x: target.logpdf(x) - proposal.logpdf(x))(x) / div\n",
    "\n",
    "    @partial(jit, static_argnums=1)\n",
    "    def compute_sd(samples, fun):\n",
    "        return stein.stein_discrepancy(samples, target.logpdf, fun)\n",
    "\n",
    "    def get_sds(key, n_samples, fun):\n",
    "        sds = []\n",
    "        for subkey in random.split(key, 100):\n",
    "            samples = proposal.sample(n_samples, key=subkey)\n",
    "            sds.append(compute_sd(samples, fun))\n",
    "        return sds\n",
    "\n",
    "    sds_optimal = get_sds(key, batch_size, optimal_grad)\n",
    "    return np.mean(sds_optimal), np.std(sds_optimal)"
   ]
  },
  {
   "cell_type": "markdown",
   "metadata": {},
   "source": [
    "# numpy tricks"
   ]
  },
  {
   "cell_type": "code",
   "execution_count": 14,
   "metadata": {},
   "outputs": [
    {
     "name": "stderr",
     "output_type": "stream",
     "text": [
      "<ipython-input-14-466632b10b87>:1: FutureWarning: Passing (type, 1) or '1type' as a synonym of type is deprecated; in a future version of numpy, it will be understood as (type, (1,)) / '(1,)type'.\n",
      "  rain_drops = onp.zeros(5, dtype=[('position', float, 2),\n"
     ]
    },
    {
     "data": {
      "text/plain": [
       "array([[0., 0.],\n",
       "       [0., 0.],\n",
       "       [0., 0.],\n",
       "       [0., 0.],\n",
       "       [0., 0.]])"
      ]
     },
     "execution_count": 14,
     "metadata": {},
     "output_type": "execute_result"
    }
   ],
   "source": [
    "rain_drops = onp.zeros(5, dtype=[('position', float, 2),\n",
    "                                      ('size',     float, 1),\n",
    "                                      ('growth',   float, 1),\n",
    "                                      ('color',    float, 4)])\n",
    "\n",
    "rain_drops['position']"
   ]
  },
  {
   "cell_type": "markdown",
   "metadata": {},
   "source": [
    "# new distributions"
   ]
  },
  {
   "cell_type": "code",
   "execution_count": null,
   "metadata": {},
   "outputs": [],
   "source": [
    "\n",
    "target = distributions.GaussianMixture()\n",
    "circle_mix = distributions.Setup"
   ]
  },
  {
   "cell_type": "markdown",
   "metadata": {},
   "source": [
    "# Particle class"
   ]
  },
  {
   "cell_type": "code",
   "execution_count": 3,
   "metadata": {},
   "outputs": [],
   "source": [
    "from models import Particles"
   ]
  },
  {
   "cell_type": "code",
   "execution_count": 7,
   "metadata": {},
   "outputs": [],
   "source": [
    "setup = distributions.Setup(target=distributions.Gaussian(0, 16), proposal=distributions.Gaussian(0, 1))\n",
    "# setup = distributions.double_mixture\n",
    "# setup = distributions.banana_target\n",
    "target, proposal = setup.get()\n",
    "kernel = kernels.get_rbf_kernel(1)\n",
    "\n",
    "def score_est_unnormalized(x, inducing_particles):\n",
    "    \"\"\"kernel-smoothed estimate of grad(log q(x))\"\"\"\n",
    "    return -np.mean(vmap(grad(kernel), (0, None))(inducing_particles, x))\n",
    "\n",
    "def phistar_unnormalized(x, inducing_particles, aux=False):\n",
    "    out = stein.phistar_i(x, inducing_particles, target.logpdf, kernel, aux=aux)\n",
    "    if aux:\n",
    "        neg_dKL, auxdata = out\n",
    "        out = (-neg_dKL, auxdata)\n",
    "    else:\n",
    "        out = -out\n",
    "    return out\n",
    "\n",
    "## Normalize score estimate\n",
    "s = proposal.sample(10_000)\n",
    "inducing_particles = proposal.sample(10_000)\n",
    "l2_score     = utils.l2_norm(s, grad(proposal.logpdf))\n",
    "l2_score_est = utils.l2_norm(s, lambda x: score_est_unnormalized(x, inducing_particles))\n",
    "\n",
    "def score_est(x, inducing_particles):\n",
    "    \"\"\"kernel-smoothed estimate of grad(log q(x)). Normalized.\"\"\"\n",
    "    return score_est_unnormalized(x, inducing_particles) * l2_score/l2_score_est\n",
    "\n",
    "## Normalize kernel\n",
    "def grad_kl(x):\n",
    "    \"\"\"True grad(KL)\"\"\"\n",
    "    return setup.grad_kl(x)\n",
    "\n",
    "l2_grad_kl = utils.l2_norm(np.squeeze(s), grad_kl)\n",
    "l2_phistar = utils.l2_norm(s, lambda x: phistar_unnormalized(x, inducing_particles))\n",
    "\n",
    "def phistar(x, inducing_particles, aux):\n",
    "    if aux:\n",
    "        out = phistar_unnormalized(x, inducing_particles, aux)\n",
    "        return [o * l2_grad_kl/l2_phistar for o in out]\n",
    "    else:\n",
    "        return phistar_unnormalized(x, inducing_particles, aux) * l2_grad_kl/l2_phistar"
   ]
  },
  {
   "cell_type": "code",
   "execution_count": 8,
   "metadata": {},
   "outputs": [],
   "source": [
    "def dKL(x, inducing_particles):\n",
    "    \"\"\"Estimate of grad(KL(x))\"\"\"\n",
    "    dKL = score_est(x, inducing_particles) - grad(target.logpdf)(x)\n",
    "    return dKL\n",
    "\n",
    "\n",
    "def dKL_batched(particles, inducing_particles, aux=False):\n",
    "    out = vmap(dKL, (0, None))(particles, inducing_particles)\n",
    "    return (out, _) if aux else out\n",
    "\n",
    "\n",
    "def phistar_batched(particles, inducing_particles, aux=False):\n",
    "    return vmap(phistar, (0, None, None))(particles, inducing_particles, aux)"
   ]
  },
  {
   "cell_type": "code",
   "execution_count": 9,
   "metadata": {},
   "outputs": [
    {
     "data": {
      "image/png": "[encoded data removed]",
      "text/plain": [
       "<Figure size 1152x576 with 4 Axes>"
      ]
     },
     "metadata": {
      "needs_background": "light"
     },
     "output_type": "display_data"
    }
   ],
   "source": [
    "inducing_particles = proposal.sample(1000)\n",
    "x = proposal.sample(1000)\n",
    "\n",
    "xgrid = x.sort(axis=0)\n",
    "\n",
    "fig, axs = plt.subplots(2,2, figsize=[16, 8])\n",
    "axsiter = iter(axs.flatten())\n",
    "xlims = (-8, 12)\n",
    "\n",
    "ax = next(axsiter)\n",
    "setup.plot(ax=ax, lims=xlims)\n",
    "ax.legend()\n",
    "\n",
    "ax = next(axsiter)\n",
    "ax.plot(xgrid, dKL_batched(xgrid, inducing_particles), label=\"kernelized score matching grad(KL)\")\n",
    "plot.plot_fun(grad_kl, lims=xlims, ax=ax, label=\"True grad(KL)\")\n",
    "ax.legend()\n",
    "\n",
    "ax = next(axsiter)\n",
    "ax.plot(xgrid, phistar_batched(xgrid, inducing_particles), label=\"SVGD\")\n",
    "plot.plot_fun(grad_kl, lims=xlims, ax=ax, label=\"True grad(KL)\")\n",
    "ax.legend()\n",
    "\n",
    "ax = next(axsiter)\n",
    "\n",
    "for ax in axs.flatten():\n",
    "    ax.set_xlim(xlims)"
   ]
  },
  {
   "cell_type": "code",
   "execution_count": 10,
   "metadata": {},
   "outputs": [],
   "source": [
    "particles_svgd = Particles(key,\n",
    "                           phistar_batched,\n",
    "                           proposal,\n",
    "                           learning_rate=0.01)\n",
    "\n",
    "particles_score = Particles(key,\n",
    "                            dKL_batched,\n",
    "                            proposal,\n",
    "                            learning_rate=0.01)"
   ]
  },
  {
   "cell_type": "code",
   "execution_count": 11,
   "metadata": {},
   "outputs": [],
   "source": [
    "for _ in range(2500):\n",
    "    inducing_particles = particles_svgd.get_params()\n",
    "    particles_svgd.step(params=inducing_particles)\n",
    "\n",
    "# _ = plt.hist(particles_svgd.get_params()[:,0], bins=25, density=True, alpha=0.5)\n",
    "# _ = plot.plot_fun(target.pdf, lims=(-10, 10))"
   ]
  },
  {
   "cell_type": "code",
   "execution_count": 12,
   "metadata": {},
   "outputs": [
    {
     "data": {
      "text/plain": [
       "[<matplotlib.lines.Line2D at 0x7f432c0253d0>]"
      ]
     },
     "execution_count": 12,
     "metadata": {},
     "output_type": "execute_result"
    },
    {
     "data": {
      "image/png": "[encoded data removed]",
      "text/plain": [
       "<Figure size 432x288 with 1 Axes>"
      ]
     },
     "metadata": {
      "needs_background": "light"
     },
     "output_type": "display_data"
    }
   ],
   "source": [
    "plt.plot(particles_svgd.rundata[\"std\"], label=\"SVGD\")"
   ]
  },
  {
   "cell_type": "code",
   "execution_count": null,
   "metadata": {},
   "outputs": [],
   "source": [
    "sdfkj"
   ]
  },
  {
   "cell_type": "markdown",
   "metadata": {},
   "source": [
    "# markdown image link converter"
   ]
  },
  {
   "cell_type": "markdown",
   "metadata": {},
   "source": [
    "Format 1:\n",
    "```\n",
    "![img](/home/lauro/obsidian/Pasted image 14.png)\n",
    "```\n",
    "Format 2:\n",
    "```\n",
    "![[Pasted image 5.png]]\n",
    "```"
   ]
  },
  {
   "cell_type": "code",
   "execution_count": null,
   "metadata": {},
   "outputs": [],
   "source": [
    "string_f1 = \"kxkjdf![img](/home/lauro/obsidian/Pasted image 14.png)xdkfjdlk\\n\"\n",
    "string_f2 = \"![[Pasted image 14.png]]sdlfsdfsdfj\\n\""
   ]
  },
  {
   "cell_type": "code",
   "execution_count": null,
   "metadata": {},
   "outputs": [],
   "source": [
    "def f1_to_f2(string):\n",
    "    ind_begin = string.rindex(\"/\") # last occurence of /\n",
    "    ind_end = string.rindex(\")\") # last occurence of )\n",
    "    name = string[ind_begin+1:ind_end]\n",
    "    return f\"![[{name}]]\"\n",
    "\n",
    "def f2_to_f1(string):\n",
    "    ind_begin = string.index(\"!\")\n",
    "    ind_end = string.rindex(\"]\")\n",
    "    name = string[ind_begin+3:ind_end-1]\n",
    "    return f\"![img](/home/lauro/obsidian/{name})\"\n",
    "\n",
    "def line_is_f1_img(line):\n",
    "    return line.startswith(\"![img]\") and line.endswith(\".png)\\n\")\n",
    "\n",
    "def line_is_f2_img(line):\n",
    "    return line.startswith(\"![[\") and line.endswith(\".png]]\\n\")"
   ]
  },
  {
   "cell_type": "code",
   "execution_count": null,
   "metadata": {},
   "outputs": [],
   "source": [
    "def convert_file(filename, direction=\"f1_to_f2\"):\n",
    "    if direction == \"f1_to_f2\":\n",
    "        convert = f1_to_f2\n",
    "        is_img = line_is_f1_img\n",
    "    elif direction == \"f2_to_f1\":\n",
    "        convert = f2_to_f1\n",
    "        is_img = line_is_f2_img\n",
    "    else:\n",
    "        raise ValueError()\n",
    "    with open(filename, \"r\") as f:\n",
    "        lines = f.readlines()\n",
    "        for i, line in enumerate(lines):\n",
    "            if is_img(line):\n",
    "                line_converted = convert(line)\n",
    "                lines[i] = line_converted + \"\\n\"\n",
    "                print(f\"changed line: {line}\")\n",
    "    with open(filename, \"w\") as f:\n",
    "        f.writelines(lines)"
   ]
  },
  {
   "cell_type": "code",
   "execution_count": null,
   "metadata": {},
   "outputs": [],
   "source": [
    "# filename = \"/home/lauro/testfile\"\n",
    "# convert_file(filename, direction=\"f1_to_f2\")"
   ]
  },
  {
   "cell_type": "code",
   "execution_count": null,
   "metadata": {},
   "outputs": [],
   "source": [
    "# filename = \"/home/lauro/obsidian/Master thesis/Updates/Update September 8.md\""
   ]
  },
  {
   "cell_type": "code",
   "execution_count": null,
   "metadata": {},
   "outputs": [],
   "source": [
    "convert_file(filename, direction=\"f1_to_f2\")"
   ]
  }
 ],
 "metadata": {
  "kernelspec": {
   "display_name": "msc-thesis",
   "language": "python",
   "name": "msc-thesis"
  },
  "language_info": {
   "codemirror_mode": {
    "name": "ipython",
    "version": 3
   },
   "file_extension": ".py",
   "mimetype": "text/x-python",
   "name": "python",
   "nbconvert_exporter": "python",
   "pygments_lexer": "ipython3",
   "version": "3.8.2"
  }
 },
 "nbformat": 4,
 "nbformat_minor": 4
}
