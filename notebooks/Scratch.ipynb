{
 "cells": [
  {
   "cell_type": "markdown",
   "metadata": {},
   "source": [
    "# Scratch Notebook"
   ]
  },
  {
   "cell_type": "code",
   "execution_count": 66,
   "metadata": {},
   "outputs": [
    {
     "name": "stdout",
     "output_type": "stream",
     "text": [
      "The autoreload extension is already loaded. To reload it, use:\n",
      "  %reload_ext autoreload\n"
     ]
    }
   ],
   "source": [
    "%load_ext autoreload\n",
    "\n",
    "import sys\n",
    "import copy\n",
    "import os\n",
    "sys.path.append(\"/home/lauro/code/msc-thesis/svgd/kernel_learning\")\n",
    "import json\n",
    "import collections\n",
    "import itertools\n",
    "from functools import partial\n",
    "import importlib\n",
    "\n",
    "import numpy as onp\n",
    "from jax.config import config\n",
    "config.update(\"jax_debug_nans\", True)\n",
    "# config.update(\"jax_log_compiles\", True)\n",
    "# config.update(\"jax_enable_x64\", True)\n",
    "\n",
    "import jax.numpy as np\n",
    "from jax import grad, jit, vmap, random, lax, jacfwd, value_and_grad\n",
    "from jax import lax\n",
    "from jax.ops import index_update, index\n",
    "import optax\n",
    "import matplotlib.pyplot as plt\n",
    "\n",
    "import numpy as onp\n",
    "import jax\n",
    "import pandas as pd\n",
    "import haiku as hk\n",
    "import ot\n",
    "\n",
    "import config\n",
    "\n",
    "import utils\n",
    "import metrics\n",
    "import time\n",
    "import plot\n",
    "import stein\n",
    "import kernels\n",
    "import distributions\n",
    "import nets\n",
    "import kernel_learning\n",
    "import models\n",
    "\n",
    "from jax.experimental import optimizers\n",
    "\n",
    "key = random.PRNGKey(0)\n",
    "key, subkey = random.split(key)\n",
    "\n",
    "from jax.scipy.stats import norm"
   ]
  },
  {
   "cell_type": "code",
   "execution_count": 87,
   "metadata": {},
   "outputs": [],
   "source": [
    "%autoreload"
   ]
  },
  {
   "cell_type": "markdown",
   "metadata": {},
   "source": [
    "# test kernel modules"
   ]
  },
  {
   "cell_type": "code",
   "execution_count": 88,
   "metadata": {},
   "outputs": [],
   "source": [
    "sizes=[4, 4, 3]"
   ]
  },
  {
   "cell_type": "code",
   "execution_count": 112,
   "metadata": {},
   "outputs": [],
   "source": [
    "d = 2\n",
    "key, subkey = random.split(key)\n",
    "x_dummy = random.normal(subkey, shape=(2,d))\n",
    "\n",
    "key, subkey = random.split(key)\n",
    "k = hk.transform(lambda x: nets.RBFKernel(parametrization=\"full\")(x))\n",
    "params = k.init(subkey, x_dummy)\n",
    "\n",
    "key, subkey = random.split(key)\n",
    "k2 = hk.transform(lambda x: nets.RBFKernel(scale_param=True)(x))\n",
    "params2 = k2.init(subkey, x_dummy)"
   ]
  },
  {
   "cell_type": "code",
   "execution_count": 113,
   "metadata": {},
   "outputs": [
    {
     "data": {
      "text/plain": [
       "DeviceArray([[-1.6102057 ,  0.17245354],\n",
       "             [ 2.118151  ,  1.1614186 ]], dtype=float32)"
      ]
     },
     "execution_count": 113,
     "metadata": {},
     "output_type": "execute_result"
    }
   ],
   "source": [
    "key, subkey = random.split(key)\n",
    "xy = random.normal(subkey, shape=(2,d))\n",
    "xy"
   ]
  },
  {
   "cell_type": "code",
   "execution_count": 114,
   "metadata": {},
   "outputs": [
    {
     "data": {
      "text/plain": [
       "DeviceArray(0.00058767, dtype=float32)"
      ]
     },
     "execution_count": 114,
     "metadata": {},
     "output_type": "execute_result"
    }
   ],
   "source": [
    "kernel = kernels.get_rbf_kernel(1)\n",
    "kernel(*xy)"
   ]
  },
  {
   "cell_type": "code",
   "execution_count": 115,
   "metadata": {},
   "outputs": [
    {
     "data": {
      "text/plain": [
       "DeviceArray(0.00058767, dtype=float32)"
      ]
     },
     "execution_count": 115,
     "metadata": {},
     "output_type": "execute_result"
    }
   ],
   "source": [
    "k.apply(params, None, xy)"
   ]
  },
  {
   "cell_type": "code",
   "execution_count": 116,
   "metadata": {},
   "outputs": [
    {
     "data": {
      "text/plain": [
       "frozendict({\n",
       "  'rbf_kernel': frozendict({\n",
       "                  'bandwidth': DeviceArray([1., 1.], dtype=float32),\n",
       "                  'scale': DeviceArray(1., dtype=float32),\n",
       "                }),\n",
       "})"
      ]
     },
     "execution_count": 116,
     "metadata": {},
     "output_type": "execute_result"
    }
   ],
   "source": [
    "params2"
   ]
  },
  {
   "cell_type": "code",
   "execution_count": 117,
   "metadata": {},
   "outputs": [
    {
     "data": {
      "text/plain": [
       "DeviceArray(0.00058767, dtype=float32)"
      ]
     },
     "execution_count": 117,
     "metadata": {},
     "output_type": "execute_result"
    }
   ],
   "source": [
    "k2.apply(params2, None, xy)"
   ]
  },
  {
   "cell_type": "markdown",
   "metadata": {},
   "source": [
    "## play with params"
   ]
  },
  {
   "cell_type": "code",
   "execution_count": 118,
   "metadata": {},
   "outputs": [],
   "source": [
    "d = hk.data_structures.to_mutable_dict(params2)\n",
    "d[\"rbf_kernel\"][\"scale\"] = np.array(2.)"
   ]
  },
  {
   "cell_type": "code",
   "execution_count": 119,
   "metadata": {},
   "outputs": [
    {
     "data": {
      "text/plain": [
       "DeviceArray(True, dtype=bool)"
      ]
     },
     "execution_count": 119,
     "metadata": {},
     "output_type": "execute_result"
    }
   ],
   "source": [
    "k2.apply(d, None, xy) == 2* k2.apply(params2, None, xy)"
   ]
  },
  {
   "cell_type": "code",
   "execution_count": 131,
   "metadata": {},
   "outputs": [],
   "source": [
    "d = hk.data_structures.to_mutable_dict(params2)\n",
    "d[\"rbf_kernel\"][\"bandwidth\"] = np.array([2., 2.])"
   ]
  },
  {
   "cell_type": "code",
   "execution_count": 132,
   "metadata": {},
   "outputs": [
    {
     "data": {
      "text/plain": [
       "DeviceArray(0.9815735, dtype=float32)"
      ]
     },
     "execution_count": 132,
     "metadata": {},
     "output_type": "execute_result"
    }
   ],
   "source": [
    "k2.apply(d, None, xy)# == 2* k2.apply(params2, None, xy)"
   ]
  },
  {
   "cell_type": "markdown",
   "metadata": {},
   "source": [
    "# ARD kernel"
   ]
  },
  {
   "cell_type": "code",
   "execution_count": 115,
   "metadata": {},
   "outputs": [
    {
     "data": {
      "text/plain": [
       "<matplotlib.collections.QuadMesh at 0x7f00427cb550>"
      ]
     },
     "execution_count": 115,
     "metadata": {},
     "output_type": "execute_result"
    },
    {
     "data": {
      "image/png": "[encoded data removed]",
      "text/plain": [
       "<Figure size 432x288 with 1 Axes>"
      ]
     },
     "metadata": {
      "needs_background": "light"
     },
     "output_type": "display_data"
    }
   ],
   "source": [
    "key, subkey = random.split(key)\n",
    "sigma = random.normal(key, shape=(2,2))\n",
    "ard = kernels.get_ard_kernel(sigma, dim=2)\n",
    "\n",
    "ard_f = lambda x: ard(x, [0.,0.])\n",
    "\n",
    "plot.plot_fun_2d(ard_f)"
   ]
  },
  {
   "cell_type": "markdown",
   "metadata": {},
   "source": [
    "# classes and inheritance\n"
   ]
  },
  {
   "cell_type": "code",
   "execution_count": 22,
   "metadata": {},
   "outputs": [],
   "source": [
    "class FooMixin:\n",
    "    def __init__(self, *args, **kwargs):\n",
    "        super().__init__(*args, **kwargs)  # forwards all unused arguments\n",
    "        self.foo = 'foo'\n",
    "\n",
    "class Bar:\n",
    "    def __init__(self, bar):\n",
    "        self.bar = bar\n",
    "\n",
    "class FooBar(FooMixin, Bar):\n",
    "    def __init__(self, bar='bar'):\n",
    "        super().__init__(bar)  # a single call is enough to invoke\n",
    "                               # all parent constructors"
   ]
  },
  {
   "cell_type": "code",
   "execution_count": 23,
   "metadata": {},
   "outputs": [],
   "source": [
    "fb = FooBar('testbar')"
   ]
  },
  {
   "cell_type": "code",
   "execution_count": 30,
   "metadata": {},
   "outputs": [
    {
     "name": "stdout",
     "output_type": "stream",
     "text": [
      "init A\n"
     ]
    }
   ],
   "source": [
    "class A:\n",
    "    def __init__(self):\n",
    "#         super().__init__()\n",
    "        print(\"init A\")\n",
    "\n",
    "class B:\n",
    "    def __init__(self):\n",
    "        super().__init__()\n",
    "        print(\"init B\")\n",
    "\n",
    "class C(A, B):\n",
    "    def __init__(self):\n",
    "        super().__init__()\n",
    "\n",
    "c = C()"
   ]
  },
  {
   "cell_type": "markdown",
   "metadata": {},
   "source": [
    "# testing vec"
   ]
  },
  {
   "cell_type": "code",
   "execution_count": 11,
   "metadata": {},
   "outputs": [],
   "source": [
    "def vec_fn(x):\n",
    "    vec = nets.VectorField([4,4,1])\n",
    "    return vec(x)\n",
    "v = hk.transform(vec_fn)"
   ]
  },
  {
   "cell_type": "code",
   "execution_count": 12,
   "metadata": {},
   "outputs": [],
   "source": [
    "x = np.ones((1,))\n",
    "params = v.init(key, x)"
   ]
  },
  {
   "cell_type": "code",
   "execution_count": 13,
   "metadata": {},
   "outputs": [
    {
     "data": {
      "text/plain": [
       "DeviceArray([[ 0.05139753],\n",
       "             [ 0.02016285],\n",
       "             [ 0.85884106],\n",
       "             [-0.03981328],\n",
       "             [ 0.2630499 ],\n",
       "             [ 0.82992554],\n",
       "             [ 0.30326903],\n",
       "             [ 0.01443263],\n",
       "             [ 0.12501118],\n",
       "             [ 0.14325386]], dtype=float32)"
      ]
     },
     "execution_count": 13,
     "metadata": {},
     "output_type": "execute_result"
    }
   ],
   "source": [
    "x = random.normal(key, (10,1))\n",
    "out = v.apply(params, None, x)\n",
    "out"
   ]
  },
  {
   "cell_type": "code",
   "execution_count": null,
   "metadata": {},
   "outputs": [],
   "source": [
    "sdlfj"
   ]
  },
  {
   "cell_type": "markdown",
   "metadata": {},
   "source": [
    "# Normalizing Layer"
   ]
  },
  {
   "cell_type": "code",
   "execution_count": null,
   "metadata": {},
   "outputs": [],
   "source": [
    "class Norm(hk.Module):\n",
    "    \"\"\"Much simpler than using BatchNorm\"\"\"\n",
    "    def __init__(self, name=None):\n",
    "        super().__init__(name=name)\n",
    "\n",
    "    def __call__(self, x):\n",
    "        \"\"\"x is a batch of particles of shape (n, d)\"\"\"\n",
    "        mean = np.mean(x, axis=0)\n",
    "        std = np.std(x, axis=0)\n",
    "        return (x - mean) / (std + 1e-5)\n",
    "\n",
    "def test_fn(x):\n",
    "    norm = Norm()\n",
    "    return norm(x)\n",
    "\n",
    "t = hk.transform(test_fn)"
   ]
  },
  {
   "cell_type": "code",
   "execution_count": null,
   "metadata": {},
   "outputs": [],
   "source": [
    "x = random.normal(key, (5000,)) * 2 + 3\n",
    "out = t.apply(None, None, x)"
   ]
  },
  {
   "cell_type": "code",
   "execution_count": null,
   "metadata": {},
   "outputs": [],
   "source": [
    "plt.hist(out, density=True, alpha=0.5, bins=30, label=\"Normalized\")\n",
    "_ = plt.hist(x, density=True, alpha=0.5, bins=30, label=\"Original\")\n",
    "plt.legend()"
   ]
  },
  {
   "cell_type": "markdown",
   "metadata": {},
   "source": [
    "# test haiku batching"
   ]
  },
  {
   "cell_type": "markdown",
   "metadata": {},
   "source": [
    "* hk.Module itself does not know about batch dimensions. It just calls whatever method you implement directly on the input of apply.\n",
    "* However, many layers do care about batch dimensions. E.g. `hk.Linear` is made for vector inputs; all other dims are treated as batch dimensions (see also the tutorial Linear implementation on the haiku github readme).\n",
    "* `BatchNorm` normalizes across all dimensions except the *last* (since we don't wanna normalize across a single input). So all dimensions other than the last are treated as batch dimensions.\n",
    "* Upshot: if I want to add a layer that operates on the whole batch in a non-entry-wise manner, I can just do that by writing a `hk.Layer` that uses the batch dim."
   ]
  },
  {
   "cell_type": "code",
   "execution_count": 29,
   "metadata": {},
   "outputs": [],
   "source": [
    "class Test(hk.Module):\n",
    "    def __init__(self):\n",
    "        super().__init__()\n",
    "\n",
    "    def __call__(self, x):\n",
    "        a = hk.get_parameter()\n",
    "        return x * a\n",
    "\n",
    "def t_fn(x):\n",
    "    norm = hk.BatchNorm(False, False, 0)\n",
    "    return norm(x, is_training=True)\n",
    "\n",
    "t = hk.transform_with_state(t_fn)"
   ]
  },
  {
   "cell_type": "code",
   "execution_count": 30,
   "metadata": {},
   "outputs": [],
   "source": [
    "key, subkey = random.split(key)\n",
    "x_dummy = random.normal(subkey, shape=(2,))\n",
    "params, state = t.init(key, x_dummy)"
   ]
  },
  {
   "cell_type": "code",
   "execution_count": 31,
   "metadata": {},
   "outputs": [
    {
     "data": {
      "text/plain": [
       "(DeviceArray([0., 0.], dtype=float32),\n",
       " frozendict({\n",
       "   'batch_norm/~/mean_ema': frozendict({\n",
       "                              'average': DeviceArray([ 0.00870693, -0.04888531], dtype=float32),\n",
       "                              'counter': DeviceArray(1, dtype=int32),\n",
       "                              'hidden': DeviceArray([ 0.00870693, -0.04888531], dtype=float32),\n",
       "                            }),\n",
       "   'batch_norm/~/var_ema': frozendict({\n",
       "                             'average': DeviceArray([0., 0.], dtype=float32),\n",
       "                             'counter': DeviceArray(1, dtype=int32),\n",
       "                             'hidden': DeviceArray([0., 0.], dtype=float32),\n",
       "                           }),\n",
       " }))"
      ]
     },
     "execution_count": 31,
     "metadata": {},
     "output_type": "execute_result"
    }
   ],
   "source": [
    "t.apply(params, state, key, x_dummy)"
   ]
  },
  {
   "cell_type": "code",
   "execution_count": 32,
   "metadata": {},
   "outputs": [
    {
     "data": {
      "text/plain": [
       "DeviceArray([[ 0.00034833,  0.00524759],\n",
       "             [-0.00066996, -0.00426349],\n",
       "             [-0.01071846, -0.00202864],\n",
       "             ...,\n",
       "             [ 0.00852859, -0.00840089],\n",
       "             [ 0.00702465, -0.0185225 ],\n",
       "             [ 0.00656211, -0.00908336]], dtype=float32)"
      ]
     },
     "execution_count": 32,
     "metadata": {},
     "output_type": "execute_result"
    }
   ],
   "source": [
    "x = random.normal(subkey, shape=(1000,2))\n",
    "out, state = t.apply(params, state, key, x)\n",
    "out - x"
   ]
  },
  {
   "cell_type": "code",
   "execution_count": 33,
   "metadata": {},
   "outputs": [
    {
     "data": {
      "text/plain": [
       "frozendict({\n",
       "  'batch_norm/~/mean_ema': frozendict({\n",
       "                             'average': DeviceArray([[-0.01274119,  0.0064392 ]], dtype=float32),\n",
       "                             'counter': DeviceArray(1, dtype=int32),\n",
       "                             'hidden': DeviceArray([[-0.01274119,  0.0064392 ]], dtype=float32),\n",
       "                           }),\n",
       "  'batch_norm/~/var_ema': frozendict({\n",
       "                            'average': DeviceArray([[0.9760262 , 0.98491955]], dtype=float32),\n",
       "                            'counter': DeviceArray(1, dtype=int32),\n",
       "                            'hidden': DeviceArray([[0.9760262 , 0.98491955]], dtype=float32),\n",
       "                          }),\n",
       "})"
      ]
     },
     "execution_count": 33,
     "metadata": {},
     "output_type": "execute_result"
    }
   ],
   "source": [
    "state"
   ]
  },
  {
   "cell_type": "markdown",
   "metadata": {},
   "source": [
    "# comparing SGLD"
   ]
  },
  {
   "cell_type": "code",
   "execution_count": null,
   "metadata": {},
   "outputs": [],
   "source": [
    "target = distributions.Gaussian(0, 1)\n",
    "proposal = distributions.Gaussian(-3, 1)\n",
    "\n",
    "key, subkey = random.split(key)\n",
    "gradient = models.EnergyGradient(target, subkey)\n",
    "key, subkey = random.split(key)\n",
    "particles = models.Particles(subkey, gradient.gradient, proposal, n_particles=50, num_groups=1, learning_rate=1e-1, optimizer=\"adam\", noise_level=1.)"
   ]
  },
  {
   "cell_type": "code",
   "execution_count": null,
   "metadata": {},
   "outputs": [],
   "source": [
    "scales = []\n",
    "for _ in range(100):\n",
    "    particles.step(None)\n",
    "    scales.append(onp.squeeze(onp.abs(particles.noise_scales)).tolist())"
   ]
  },
  {
   "cell_type": "code",
   "execution_count": null,
   "metadata": {},
   "outputs": [],
   "source": [
    "fig, axs = plt.subplots(2, figsize=[8, 6])\n",
    "particles.plot_trajectories(marker=\".\", ax=axs[0])\n",
    "axs[1].plot(scales, \"--.\")\n",
    "plt.yscale(\"log\")"
   ]
  },
  {
   "cell_type": "code",
   "execution_count": null,
   "metadata": {},
   "outputs": [],
   "source": [
    "fig, axs = plt.subplots(2, figsize=[8, 6])\n",
    "particles.plot_trajectories(marker=\".\", ax=axs[0])\n",
    "axs[1].plot(scales, \"--.\")\n",
    "plt.yscale(\"log\")"
   ]
  },
  {
   "cell_type": "markdown",
   "metadata": {},
   "source": [
    "# dists"
   ]
  },
  {
   "cell_type": "code",
   "execution_count": null,
   "metadata": {},
   "outputs": [],
   "source": [
    "from distributions import Gaussian as G"
   ]
  },
  {
   "cell_type": "code",
   "execution_count": null,
   "metadata": {},
   "outputs": [],
   "source": [
    "%autoreload"
   ]
  },
  {
   "cell_type": "code",
   "execution_count": null,
   "metadata": {},
   "outputs": [],
   "source": [
    "target = G(0,1)"
   ]
  },
  {
   "cell_type": "code",
   "execution_count": null,
   "metadata": {},
   "outputs": [],
   "source": [
    "learner = models.SDLearner(target)\n",
    "particles = models.Particles(key, learner.gradient, target)"
   ]
  },
  {
   "cell_type": "code",
   "execution_count": null,
   "metadata": {},
   "outputs": [],
   "source": [
    "learner.train(particles.next_batch, key=subkey, n_steps=5)\n",
    "particles.step(learner.get_params())"
   ]
  },
  {
   "cell_type": "code",
   "execution_count": null,
   "metadata": {},
   "outputs": [],
   "source": [
    "learner.rundata[\"train_steps\"]"
   ]
  },
  {
   "cell_type": "code",
   "execution_count": null,
   "metadata": {},
   "outputs": [],
   "source": [
    "learner.step_counter"
   ]
  },
  {
   "cell_type": "code",
   "execution_count": null,
   "metadata": {},
   "outputs": [],
   "source": [
    "learner.rundata[\"step_counter\"]"
   ]
  },
  {
   "cell_type": "markdown",
   "metadata": {},
   "source": [
    "# check if dists have correct statistics"
   ]
  },
  {
   "cell_type": "code",
   "execution_count": null,
   "metadata": {},
   "outputs": [],
   "source": [
    "%autoreload"
   ]
  },
  {
   "cell_type": "code",
   "execution_count": null,
   "metadata": {},
   "outputs": [],
   "source": [
    "def check_dist(dist, key):\n",
    "    s = dist.sample(10**4, key=key)\n",
    "    errs = {\n",
    "        \"se_mean\": np.sum((np.mean(s, axis=0) - dist.mean)**2),\n",
    "        \"se_cov\": np.sum((np.cov(s, rowvar=False) - dist.cov)**2),\n",
    "    }\n",
    "    for k, err in errs.items():\n",
    "        if err > 1e-2:\n",
    "            print(f\"{k} to big! {k} = {err} > 0.01\")\n",
    "    return"
   ]
  },
  {
   "cell_type": "code",
   "execution_count": null,
   "metadata": {},
   "outputs": [],
   "source": [
    "dist = distributions.Gaussian(0, 1)\n",
    "check_dist(dist, key)"
   ]
  },
  {
   "cell_type": "code",
   "execution_count": null,
   "metadata": {},
   "outputs": [],
   "source": [
    "dist, _ = distributions.funnel.get()\n",
    "check_dist(dist, key) # fine, just hard to approximate"
   ]
  },
  {
   "cell_type": "code",
   "execution_count": null,
   "metadata": {},
   "outputs": [],
   "source": [
    "dist, _ = distributions.banana_target.get()\n",
    "check_dist(dist, key) # fine"
   ]
  },
  {
   "cell_type": "code",
   "execution_count": null,
   "metadata": {},
   "outputs": [],
   "source": [
    "dist, _ = distributions.ring_target.get()\n",
    "check_dist(dist, key) # fine"
   ]
  },
  {
   "cell_type": "code",
   "execution_count": null,
   "metadata": {},
   "outputs": [],
   "source": [
    "dist, _ = distributions.squiggle_target.get()\n",
    "check_dist(dist, key)"
   ]
  },
  {
   "cell_type": "code",
   "execution_count": null,
   "metadata": {},
   "outputs": [],
   "source": []
  }
 ],
 "metadata": {
  "kernelspec": {
   "display_name": "msc-thesis",
   "language": "python",
   "name": "msc-thesis"
  },
  "language_info": {
   "codemirror_mode": {
    "name": "ipython",
    "version": 3
   },
   "file_extension": ".py",
   "mimetype": "text/x-python",
   "name": "python",
   "nbconvert_exporter": "python",
   "pygments_lexer": "ipython3",
   "version": "3.8.2"
  }
 },
 "nbformat": 4,
 "nbformat_minor": 4
}
