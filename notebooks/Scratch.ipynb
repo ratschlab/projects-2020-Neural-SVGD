{
 "cells": [
  {
   "cell_type": "markdown",
   "metadata": {},
   "source": [
    "# Scratch"
   ]
  },
  {
   "cell_type": "code",
   "execution_count": 2,
   "metadata": {},
   "outputs": [],
   "source": [
    "import sys\n",
    "import os\n",
    "sys.path.append(\"/home/lauro/code/msc-thesis/svgd\")\n",
    "\n",
    "import jax.numpy as np\n",
    "from jax import grad, jit, vmap, random, lax, jacfwd\n",
    "from jax import lax\n",
    "from jax.ops import index_update, index\n",
    "import matplotlib.pyplot as plt\n",
    "import numpy as onp\n",
    "\n",
    "import utils\n",
    "import metrics\n",
    "import time\n",
    "import plot\n",
    "import svgd\n",
    "import stein\n",
    "\n",
    "rkey = random.PRNGKey(0)"
   ]
  },
  {
   "cell_type": "code",
   "execution_count": null,
   "metadata": {},
   "outputs": [],
   "source": [
    "ksd_squared = vmap(self.ksd_squared, (None, None, 0)) # operate on batch of particles\n",
    "hypernetwork = self.hypernetwork\n",
    "def current_step(i, j, steps):\n",
    "    return i*steps + j\n",
    "key1, key2 = random.split(key)\n",
    "\n",
    "particles = init_svgd(key1, self.particle_shape)\n",
    "opt_svgd_state = self.opt.init(particles)\n",
    "\n",
    "particles = np.expand_dims(particles, 0) # batch dimension\n",
    "params = hypernetwork.init(key2, particles)\n",
    "opt_ksd_state = opt_ksd.init(params)\n",
    "\n",
    "log = dict()\n",
    "for i in range(n_iter):\n",
    "    # update particles:\n",
    "    params = opt_ksd.get_params(opt_ksd_state)\n",
    "    particle_batch = []\n",
    "    for j in range(svgd_steps):\n",
    "        step = current_step(i, j, svgd_steps)\n",
    "\n",
    "        particles = self.opt.get_params(opt_svgd_state)\n",
    "        gp = -self.phistar(particles, params) # TODO gradient has wrong extra batch dim\n",
    "        print(gp.shape)\n",
    "        opt_svgd_state = self.opt.update(step, gp, opt_svgd_state)\n",
    "\n",
    "        particle_batch.append(particles)\n",
    "        utils.warn_if_nan(gp)\n",
    "\n",
    "    # update network params:\n",
    "    particle_batch = np.asarray(particle_batch, dtype=np.float32)\n",
    "    log = metrics.append_to_log(log, {\"particles\": particle_batch})\n",
    "    inner_updates = []\n",
    "    ksds = []\n",
    "    gradients = []\n",
    "    for j in range(ksd_steps):\n",
    "        step = current_step(i, j, ksd_steps)\n",
    "        params = opt_ksd.get_params(opt_ksd_state)\n",
    "        ksd, gk = value_and_grad(ksd_squared)(params, particle_batch)\n",
    "        opt_ksd_state = opt_ksd.update(step, gk, opt_ksd_state)\n",
    "\n",
    "#                inner_updates.append(params)\n",
    "        ksds.append(ksd)\n",
    "        gradients.append(gk)\n",
    "        utils.warn_if_nan(ksd)\n",
    "        utils.warn_if_nan(gk)\n",
    "    update_log = {\n",
    "        \"ksd\": ksds,\n",
    "        \"gradients\": gradients,\n",
    "    }\n",
    "    log = metrics.append_to_log(log, update_log)\n"
   ]
  },
  {
   "cell_type": "markdown",
   "metadata": {},
   "source": [
    "# Bug\n"
   ]
  },
  {
   "cell_type": "code",
   "execution_count": 3,
   "metadata": {},
   "outputs": [
    {
     "data": {
      "text/plain": [
       "[1, 2, 4, 8]"
      ]
     },
     "execution_count": 3,
     "metadata": {},
     "output_type": "execute_result"
    }
   ],
   "source": [
    "np.diff([1, 2, 4, 8])"
   ]
  },
  {
   "cell_type": "code",
   "execution_count": 4,
   "metadata": {},
   "outputs": [
    {
     "data": {
      "text/plain": [
       "array([1, 2, 4])"
      ]
     },
     "execution_count": 4,
     "metadata": {},
     "output_type": "execute_result"
    }
   ],
   "source": [
    "onp.diff([1, 2, 4, 8])"
   ]
  },
  {
   "cell_type": "markdown",
   "metadata": {},
   "source": [
    "# class thingy"
   ]
  },
  {
   "cell_type": "code",
   "execution_count": 5,
   "metadata": {},
   "outputs": [],
   "source": [
    "class Test():\n",
    "    def __init__(self, a=1):\n",
    "        self.a = a\n",
    "        \n",
    "    def getf(self):\n",
    "        def f():\n",
    "            return self.a\n",
    "        return f"
   ]
  },
  {
   "cell_type": "code",
   "execution_count": 6,
   "metadata": {},
   "outputs": [
    {
     "data": {
      "text/plain": [
       "5"
      ]
     },
     "execution_count": 6,
     "metadata": {},
     "output_type": "execute_result"
    }
   ],
   "source": [
    "t = Test(5)\n",
    "f = t.getf()\n",
    "f()"
   ]
  },
  {
   "cell_type": "code",
   "execution_count": 7,
   "metadata": {},
   "outputs": [
    {
     "data": {
      "text/plain": [
       "3"
      ]
     },
     "execution_count": 7,
     "metadata": {},
     "output_type": "execute_result"
    }
   ],
   "source": [
    "t.a = 3\n",
    "f()"
   ]
  },
  {
   "cell_type": "markdown",
   "metadata": {},
   "source": [
    "Right, of course this works: `a` is not a global variable, but `t.a` *is*, since the instance `t` is also available globally."
   ]
  },
  {
   "cell_type": "markdown",
   "metadata": {},
   "source": [
    "## jit `static_argnums` and classes"
   ]
  },
  {
   "cell_type": "code",
   "execution_count": 19,
   "metadata": {},
   "outputs": [],
   "source": [
    "class Test():\n",
    "    def __init__(self, y):\n",
    "        self.y = y\n",
    "        self.var = 0\n",
    "    \n",
    "    def tfun(self, x):\n",
    "        return self.y + x**2 + self.var\n",
    "    tfun = utils.verbose_jit(tfun, static_argnums=0)\n",
    "    \n",
    "    def change(self):\n",
    "        self.var += 1"
   ]
  },
  {
   "cell_type": "code",
   "execution_count": 29,
   "metadata": {},
   "outputs": [],
   "source": [
    "t = Test(5)"
   ]
  },
  {
   "cell_type": "code",
   "execution_count": 58,
   "metadata": {},
   "outputs": [
    {
     "name": "stdout",
     "output_type": "stream",
     "text": [
      "False\n",
      "False\n",
      "----------\n",
      "139984662937048\n",
      "139984663119408\n",
      "---------\n",
      "But the id of the class instance never changes, even if its objects do:\n",
      "True\n",
      "\n",
      "This means you gotta be careful, since jit recompiles only if the object id changes.\n"
     ]
    }
   ],
   "source": [
    "from copy import deepcopy\n",
    "tcopy = deepcopy(t)\n",
    "print(t == tcopy)\n",
    "# indeed:\n",
    "print(id(t) == id(tcopy))\n",
    "\n",
    "print(\"----------\")\n",
    "print(id(t))\n",
    "print(id(tcopy))\n",
    "\n",
    "print(\"---------\")\n",
    "print(\"But the id of the class instance never changes, even if its objects do:\")\n",
    "oldid = id(t)\n",
    "t.change()\n",
    "print(oldid == id(t))\n",
    "print()\n",
    "print(\"This means you gotta be careful, since jit recompiles only if the object id changes.\")"
   ]
  },
  {
   "cell_type": "code",
   "execution_count": 37,
   "metadata": {},
   "outputs": [
    {
     "data": {
      "text/plain": [
       "<method-wrapper '__eq__' of Test object at 0x7f50b81bbdd8>"
      ]
     },
     "execution_count": 37,
     "metadata": {},
     "output_type": "execute_result"
    }
   ],
   "source": [
    "t.__eq__"
   ]
  },
  {
   "cell_type": "code",
   "execution_count": 38,
   "metadata": {},
   "outputs": [
    {
     "data": {
      "text/plain": [
       "<method-wrapper '__hash__' of Test object at 0x7f50b81bbdd8>"
      ]
     },
     "execution_count": 38,
     "metadata": {},
     "output_type": "execute_result"
    }
   ],
   "source": [
    "t.__hash__"
   ]
  },
  {
   "cell_type": "markdown",
   "metadata": {},
   "source": [
    "# numpy indexing"
   ]
  },
  {
   "cell_type": "code",
   "execution_count": 4,
   "metadata": {},
   "outputs": [],
   "source": [
    "a = random.uniform(rkey, (20,))"
   ]
  },
  {
   "cell_type": "code",
   "execution_count": 5,
   "metadata": {},
   "outputs": [
    {
     "data": {
      "text/plain": [
       "DeviceArray([0.85417664, 0.16620052, 0.27605474, 0.48728156, 0.9920441 ,\n",
       "             0.03015983, 0.21629429, 0.37687123, 0.63070035, 0.96144474,\n",
       "             0.15203023, 0.92090297, 0.30555236, 0.29931295, 0.6925707 ,\n",
       "             0.8542826 , 0.46517384, 0.7869307 , 0.99605286, 0.28018546],            dtype=float32)"
      ]
     },
     "execution_count": 5,
     "metadata": {},
     "output_type": "execute_result"
    }
   ],
   "source": [
    "a"
   ]
  },
  {
   "cell_type": "code",
   "execution_count": 7,
   "metadata": {},
   "outputs": [],
   "source": [
    "idx = np.array([[1, 2, 3],\n",
    "                [2, 3, 4]])"
   ]
  },
  {
   "cell_type": "code",
   "execution_count": 8,
   "metadata": {},
   "outputs": [
    {
     "data": {
      "text/plain": [
       "DeviceArray([[0.16620052, 0.27605474, 0.48728156],\n",
       "             [0.27605474, 0.48728156, 0.9920441 ]], dtype=float32)"
      ]
     },
     "execution_count": 8,
     "metadata": {},
     "output_type": "execute_result"
    }
   ],
   "source": [
    "a[idx]"
   ]
  },
  {
   "cell_type": "markdown",
   "metadata": {},
   "source": [
    "# test `vmap` row column behaviour"
   ]
  },
  {
   "cell_type": "code",
   "execution_count": 3,
   "metadata": {},
   "outputs": [],
   "source": [
    "f = lambda x, y: 10*x + y"
   ]
  },
  {
   "cell_type": "code",
   "execution_count": 4,
   "metadata": {},
   "outputs": [],
   "source": [
    "fv  = vmap(f,  (None, 0))\n",
    "fvv = vmap(fv, (0, None))\n",
    "\n",
    "x = np.array([1,2])\n",
    "f_matrix = fvv(x, x)"
   ]
  },
  {
   "cell_type": "code",
   "execution_count": 5,
   "metadata": {},
   "outputs": [
    {
     "data": {
      "text/plain": [
       "DeviceArray([[11, 12],\n",
       "             [21, 22]], dtype=int32)"
      ]
     },
     "execution_count": 5,
     "metadata": {},
     "output_type": "execute_result"
    }
   ],
   "source": [
    "f_matrix"
   ]
  },
  {
   "cell_type": "markdown",
   "metadata": {},
   "source": [
    "# testing `stein.stein`"
   ]
  },
  {
   "cell_type": "code",
   "execution_count": 2,
   "metadata": {},
   "outputs": [],
   "source": [
    "d = 3\n",
    "dist = metrics.Gaussian(np.zeros(d), 1)\n",
    "xs = dist.sample((100,))"
   ]
  },
  {
   "cell_type": "markdown",
   "metadata": {},
   "source": [
    "### Case 1: \n",
    "Input is $f: \\mathbb R^d \\to \\mathbb R^d$.\n",
    "Then \n",
    "$$\\mathcal A_p [f] (x) \\in \\mathbb R^{d \\times d}$$\n",
    "and \n",
    "$$\\mathcal A_p^T [f] (x) \\in \\mathbb R$$"
   ]
  },
  {
   "cell_type": "code",
   "execution_count": 3,
   "metadata": {},
   "outputs": [
    {
     "data": {
      "text/plain": [
       "DeviceArray([7., 6., 5.], dtype=float32)"
      ]
     },
     "execution_count": 3,
     "metadata": {},
     "output_type": "execute_result"
    }
   ],
   "source": [
    "def f(x):\n",
    "    x = np.array(x)\n",
    "    assert x.shape == (d,)\n",
    "    a = np.array([1,2,3])\n",
    "    return x*2 + a\n",
    "f([3.,2.,1])"
   ]
  },
  {
   "cell_type": "code",
   "execution_count": 4,
   "metadata": {},
   "outputs": [
    {
     "data": {
      "text/plain": [
       "(3, 3)"
      ]
     },
     "execution_count": 4,
     "metadata": {},
     "output_type": "execute_result"
    }
   ],
   "source": [
    "stein.stein(f, xs, dist.logpdf).shape"
   ]
  },
  {
   "cell_type": "code",
   "execution_count": 7,
   "metadata": {},
   "outputs": [
    {
     "data": {
      "text/plain": [
       "DeviceArray(-0.5033575, dtype=float32)"
      ]
     },
     "execution_count": 7,
     "metadata": {},
     "output_type": "execute_result"
    }
   ],
   "source": [
    "stein.stein(f, xs, dist.logpdf, transposed=True)"
   ]
  },
  {
   "cell_type": "markdown",
   "metadata": {},
   "source": [
    "### Case 2:\n",
    "Input is $f: \\mathbb R^d \\to \\mathbb R$.\n",
    "Then \n",
    "$$\\mathcal A_p [f] (x) \\in \\mathbb R^{d}.$$\n",
    "\n",
    "Note that $\\mathcal A_p^ T [f]$ makes no sense."
   ]
  },
  {
   "cell_type": "code",
   "execution_count": 9,
   "metadata": {},
   "outputs": [
    {
     "data": {
      "text/plain": [
       "DeviceArray(18., dtype=float32)"
      ]
     },
     "execution_count": 9,
     "metadata": {},
     "output_type": "execute_result"
    }
   ],
   "source": [
    "def f(x):\n",
    "    x = np.array(x)\n",
    "    assert x.shape == (d,)\n",
    "    a = np.array([1,2,3])\n",
    "    return np.sum(x*2 + a)\n",
    "f([3.,2.,1])"
   ]
  },
  {
   "cell_type": "code",
   "execution_count": 10,
   "metadata": {},
   "outputs": [
    {
     "data": {
      "text/plain": [
       "(3,)"
      ]
     },
     "execution_count": 10,
     "metadata": {},
     "output_type": "execute_result"
    }
   ],
   "source": [
    "stein.stein(f, xs, dist.logpdf).shape"
   ]
  },
  {
   "cell_type": "code",
   "execution_count": 12,
   "metadata": {},
   "outputs": [],
   "source": [
    "# stein.stein(f, xs, dist.logpdf, transposed=True) # throws an error"
   ]
  },
  {
   "cell_type": "code",
   "execution_count": 13,
   "metadata": {},
   "outputs": [
    {
     "data": {
      "text/plain": [
       "DeviceArray([[ 6., 12., 18.],\n",
       "             [ 4.,  8., 12.],\n",
       "             [ 2.,  4.,  6.]], dtype=float32)"
      ]
     },
     "execution_count": 13,
     "metadata": {},
     "output_type": "execute_result"
    }
   ],
   "source": [
    "def f(x):\n",
    "    x = np.array(x)\n",
    "    assert x.shape == (d,)\n",
    "    a = np.array([1,2,3])\n",
    "    return np.einsum(\"i,j->ij\",2*x, a)\n",
    "f([3.,2.,1])"
   ]
  },
  {
   "cell_type": "code",
   "execution_count": 17,
   "metadata": {},
   "outputs": [
    {
     "data": {
      "text/plain": [
       "[DeviceArray([[2., 4., 6.],\n",
       "              [0., 0., 0.],\n",
       "              [0., 0., 0.]], dtype=float32),\n",
       " DeviceArray([[0., 0., 0.],\n",
       "              [2., 4., 6.],\n",
       "              [0., 0., 0.]], dtype=float32),\n",
       " DeviceArray([[0., 0., 0.],\n",
       "              [0., 0., 0.],\n",
       "              [2., 4., 6.]], dtype=float32)]"
      ]
     },
     "execution_count": 17,
     "metadata": {},
     "output_type": "execute_result"
    }
   ],
   "source": [
    "jacfwd(f)([3.,2.,1.])"
   ]
  },
  {
   "cell_type": "code",
   "execution_count": 24,
   "metadata": {},
   "outputs": [
    {
     "data": {
      "text/plain": [
       "array([2., 4., 6.], dtype=float32)"
      ]
     },
     "execution_count": 24,
     "metadata": {},
     "output_type": "execute_result"
    }
   ],
   "source": [
    "onp.einsum(\"iii->i\", jacfwd(f)([3.,2.,1.]))"
   ]
  },
  {
   "cell_type": "code",
   "execution_count": 30,
   "metadata": {},
   "outputs": [
    {
     "data": {
      "text/plain": [
       "DeviceArray(20, dtype=int32)"
      ]
     },
     "execution_count": 30,
     "metadata": {},
     "output_type": "execute_result"
    }
   ],
   "source": [
    "np.einsum(\"ii\", f([3,2,1]))"
   ]
  },
  {
   "cell_type": "markdown",
   "metadata": {},
   "source": [
    "# jit stuff "
   ]
  },
  {
   "cell_type": "code",
   "execution_count": null,
   "metadata": {},
   "outputs": [],
   "source": [
    "def t(a, b):\n",
    "    return a + b"
   ]
  },
  {
   "cell_type": "code",
   "execution_count": null,
   "metadata": {},
   "outputs": [],
   "source": [
    "jacfwd(t)(1., 2.)"
   ]
  },
  {
   "cell_type": "code",
   "execution_count": null,
   "metadata": {},
   "outputs": [],
   "source": [
    "@jit\n",
    "def outer(defval, const=None):\n",
    "    if const is None:\n",
    "        const = defval\n",
    "    \n",
    "    def loss():\n",
    "        return const\n",
    "    return loss()\n",
    "    "
   ]
  },
  {
   "cell_type": "code",
   "execution_count": null,
   "metadata": {},
   "outputs": [],
   "source": [
    "outer(5, None)"
   ]
  },
  {
   "cell_type": "code",
   "execution_count": null,
   "metadata": {},
   "outputs": [],
   "source": [
    "outer(5, 15)"
   ]
  },
  {
   "cell_type": "code",
   "execution_count": null,
   "metadata": {},
   "outputs": [],
   "source": [
    "outer(10, None)"
   ]
  },
  {
   "cell_type": "markdown",
   "metadata": {},
   "source": [
    "## test mixture"
   ]
  },
  {
   "cell_type": "code",
   "execution_count": null,
   "metadata": {},
   "outputs": [],
   "source": [
    "d = 3\n",
    "k = 5\n",
    "rkey = random.split(rkey)[0]\n",
    "means = random.uniform(rkey, shape=(k, d))\n",
    "covs = random.uniform(rkey, shape=(k, d, d))\n",
    "covs = np.einsum(\"kil,kjl->kij\", covs, covs)\n",
    "weights = np.array([1/3, 2/3, 2/3, 2/3, 1/3])\n",
    "\n",
    "mix = metrics.GaussianMixture(means, covs, weights)"
   ]
  },
  {
   "cell_type": "code",
   "execution_count": null,
   "metadata": {},
   "outputs": [],
   "source": [
    "diffs = []\n",
    "grid = np.arange(15)\n",
    "grid = 3**grid\n",
    "for i in grid:\n",
    "    sample = mix.sample(shape=(i,))\n",
    "    diffs.append(np.mean((np.cov(sample, rowvar=False) - mix.cov)**2 / mix.cov))\n",
    "diffs = np.array(diffs)"
   ]
  },
  {
   "cell_type": "code",
   "execution_count": null,
   "metadata": {},
   "outputs": [],
   "source": [
    "plt.plot(grid, diffs, \".\")\n",
    "plt.yscale(\"log\")\n",
    "plt.xscale(\"log\")"
   ]
  },
  {
   "cell_type": "markdown",
   "metadata": {},
   "source": [
    "## test Gaussian"
   ]
  },
  {
   "cell_type": "code",
   "execution_count": null,
   "metadata": {},
   "outputs": [],
   "source": [
    "mean = np.array([1, 2])\n",
    "cov = np.array([[1, 3], [3, 20]])"
   ]
  },
  {
   "cell_type": "code",
   "execution_count": null,
   "metadata": {},
   "outputs": [],
   "source": [
    "gauss = metrics.Gaussian(mean, cov)"
   ]
  },
  {
   "cell_type": "code",
   "execution_count": null,
   "metadata": {},
   "outputs": [],
   "source": [
    "metrics.Distribution"
   ]
  },
  {
   "cell_type": "code",
   "execution_count": null,
   "metadata": {},
   "outputs": [],
   "source": [
    "sample = gauss.sample(shape=(100,))\n",
    "rsample = random.multivariate_normal(rkey, mean*3, cov/2, shape=(100,))"
   ]
  },
  {
   "cell_type": "code",
   "execution_count": null,
   "metadata": {},
   "outputs": [],
   "source": [
    "gauss.compute_metrics(sample)"
   ]
  },
  {
   "cell_type": "code",
   "execution_count": null,
   "metadata": {},
   "outputs": [],
   "source": [
    "gauss.compute_metrics(rsample)"
   ]
  },
  {
   "cell_type": "markdown",
   "metadata": {},
   "source": [
    "## jax einsum floating point round-off error"
   ]
  },
  {
   "cell_type": "code",
   "execution_count": null,
   "metadata": {},
   "outputs": [],
   "source": [
    "import jax.numpy as jnp\n",
    "import numpy as onp"
   ]
  },
  {
   "cell_type": "markdown",
   "metadata": {},
   "source": [
    "Jax"
   ]
  },
  {
   "cell_type": "code",
   "execution_count": null,
   "metadata": {},
   "outputs": [],
   "source": [
    "values = jnp.array([[-5], [10]])\n",
    "weights = jnp.array([1/3, 2/3])"
   ]
  },
  {
   "cell_type": "code",
   "execution_count": null,
   "metadata": {},
   "outputs": [],
   "source": [
    "jnp.einsum(\"i,id->d\", weights, values)"
   ]
  },
  {
   "cell_type": "code",
   "execution_count": null,
   "metadata": {},
   "outputs": [],
   "source": [
    "jnp.sum(values.flatten() * weights)"
   ]
  },
  {
   "cell_type": "markdown",
   "metadata": {},
   "source": [
    "Numpy"
   ]
  },
  {
   "cell_type": "code",
   "execution_count": null,
   "metadata": {},
   "outputs": [],
   "source": [
    "values = onp.array([[-5], [10]], dtype=np.float32)\n",
    "weights = onp.array([1/3, 2/3], dtype=np.float32)"
   ]
  },
  {
   "cell_type": "code",
   "execution_count": null,
   "metadata": {},
   "outputs": [],
   "source": [
    "onp.einsum(\"i,id->d\", weights, values)"
   ]
  }
 ],
 "metadata": {
  "kernelspec": {
   "display_name": "msc-thesis",
   "language": "python",
   "name": "msc-thesis"
  },
  "language_info": {
   "codemirror_mode": {
    "name": "ipython",
    "version": 3
   },
   "file_extension": ".py",
   "mimetype": "text/x-python",
   "name": "python",
   "nbconvert_exporter": "python",
   "pygments_lexer": "ipython3",
   "version": "3.6.9"
  }
 },
 "nbformat": 4,
 "nbformat_minor": 4
}
