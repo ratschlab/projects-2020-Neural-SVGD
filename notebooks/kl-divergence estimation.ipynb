{
 "cells": [
  {
   "cell_type": "code",
   "execution_count": 1,
   "metadata": {},
   "outputs": [
    {
     "name": "stderr",
     "output_type": "stream",
     "text": [
      "/home/lauro/.virtualenvs/msc-thesis/lib/python3.6/site-packages/jax/lib/xla_bridge.py:116: UserWarning: No GPU/TPU found, falling back to CPU.\n",
      "  warnings.warn('No GPU/TPU found, falling back to CPU.')\n"
     ]
    }
   ],
   "source": [
    "import sys\n",
    "sys.path.append(\"/home/lauro/code/msc-thesis/svgd\")\n",
    "import time\n",
    "\n",
    "import jax.numpy as np\n",
    "from jax import grad, jit, vmap, random, lax, jacfwd\n",
    "from jax import lax\n",
    "from jax.ops import index_update, index\n",
    "import matplotlib.pyplot as plt\n",
    "import numpy as onp\n",
    "from tqdm import tqdm\n",
    "\n",
    "import utils\n",
    "import metrics\n",
    "import stein\n",
    "import plot\n",
    "from svgd import SVGD\n",
    "\n",
    "rkey = random.PRNGKey(1)"
   ]
  },
  {
   "cell_type": "markdown",
   "metadata": {},
   "source": [
    "# KL divergence estimation"
   ]
  },
  {
   "cell_type": "markdown",
   "metadata": {},
   "source": [
    "## KL between two discrete probability vectors"
   ]
  },
  {
   "cell_type": "markdown",
   "metadata": {},
   "source": [
    "Let $X_1, \\dots, X_n$ iid as $q$ and $Y_1, \\dots, Y_n$ iid as $p$. Then an estimator for $\\text{KL}(q \\ \\Vert \\ p)$ is given by\n",
    "\n",
    "$$\n",
    "\\sum_{k=1}^K \\hat q_k \\log \\frac{\\hat q_k}{\\hat p_k},\n",
    "$$\n",
    "where $\\hat q$ and $\\hat p$ are vectors in $\\mathbb R^K$ representing histogram estimates of $q$ and $p$ with $K$ bins, computed using the samples $X_i$ and $Y_i$."
   ]
  },
  {
   "cell_type": "code",
   "execution_count": 2,
   "metadata": {},
   "outputs": [],
   "source": [
    "def create_probabilities_for_bins(samples, normalized=False):\n",
    "    \"\"\"take in samples, create a common set of bins, and compute unnormalized probabilities P(x in bin)\n",
    "    for each bin and each distribution.\n",
    "    Parameters\n",
    "    ------------\n",
    "    samples : np.array of shape (n,) or shape (k, n).\n",
    "    - If shape (n,): interpreted as a set of n scalar-valued samples.\n",
    "    - If shape (k, n): interpreted as k sets of n scalar-valued samples.\n",
    "    \n",
    "    Returns\n",
    "    --------\n",
    "    probabilities :\n",
    "    bins :\n",
    "    \"\"\"\n",
    "    nr_samples = np.prod(samples.shape)\n",
    "    nr_bins = int(max(nr_samples / 10, 5))\n",
    "    lims = [np.min(samples), np.max(samples)]\n",
    "    bins = np.linspace(*lims, num=nr_bins)\n",
    "    \n",
    "    if samples.ndim == 2:\n",
    "        out = np.asarray([np.histogram(x, bins=bins, density=normalized)[0] for x in samples])\n",
    "        return out, bins\n",
    "    elif samples.ndim == 1:\n",
    "        return np.histogram(samples, bins=bins, density=normalized)[0], bins\n",
    "    else:\n",
    "        raise ValueError(f\"Input must have shape (n,) or shape (k,n). Instead received shape {samples.shape}\")\n",
    "        \n",
    "create_probabilities_for_bins = jit(create_probabilities_for_bins)"
   ]
  },
  {
   "cell_type": "code",
   "execution_count": 3,
   "metadata": {},
   "outputs": [],
   "source": [
    "def smooth_and_normalize(vec):\n",
    "    vec = vec / vec.sum()\n",
    "    n = len(vec)\n",
    "    epsilon = 0.0001\n",
    "    num_nonzero = np.count_nonzero(vec)\n",
    "    c = epsilon * (n - num_nonzero) / num_nonzero\n",
    "    perturbation = (vec != 0)*c + (vec == 0)*epsilon\n",
    "    return vec + perturbation"
   ]
  },
  {
   "cell_type": "code",
   "execution_count": 4,
   "metadata": {},
   "outputs": [],
   "source": [
    "@jit\n",
    "def kl_from_probabilities(p, q):\n",
    "    \"\"\"Kullback-Leibler divergence D(P || Q) for discrete distributions\n",
    "    Parameters\n",
    "    ----------\n",
    "    p, q : array-like, dtype=float, shape=(n,)\n",
    "    Discrete probability distributions. Can be unnormalized.\n",
    "    \"\"\"\n",
    "    p = np.asarray(p, dtype=np.float32)\n",
    "    q = np.asarray(q, dtype=np.float32)\n",
    "    if p.shape != q.shape:\n",
    "        raise ValueError(\"p and q need to have same shape.\")\n",
    "    elif p.ndim > 1:\n",
    "        raise ValueError(f\"Inputs need to be one-dimensional vectors.\")\n",
    "        \n",
    "    p, q = [smooth_and_normalize(prob) for prob in (p, q)]\n",
    "    \n",
    "    return np.sum(p * np.log(p/q))"
   ]
  },
  {
   "cell_type": "markdown",
   "metadata": {},
   "source": [
    "## KL between sample and continuous density"
   ]
  },
  {
   "cell_type": "markdown",
   "metadata": {},
   "source": [
    "Let $X_1, \\dots, X_n$ iid as $q$. Assume density $p$ is known. Then an estimator for $\\text{KL}(q \\ \\Vert \\ p)$ is given by\n",
    "\n",
    "$$\n",
    "1/n \\sum_i \\log \\hat q(X_i) - \\log p(X_i),\n",
    "$$\n",
    "where $\\hat q$ is a histogram estimate of $q$ based on the samples $X_i$."
   ]
  },
  {
   "cell_type": "code",
   "execution_count": 5,
   "metadata": {},
   "outputs": [],
   "source": [
    "def kl_sample_and_density(q, logp):\n",
    "    \"\"\"Kullback-Leibler divergence D(q || p) between sample p and cts density q\n",
    "    Parameters\n",
    "    ----------\n",
    "    q : array-like, shape (d,). Samples from distribution p\n",
    "    logp : callable. Takes one argument, computes log(p(x))\n",
    "    \"\"\"\n",
    "    q = np.asarray(q, dtype=np.float32)\n",
    "    n = len(q)\n",
    "    \n",
    "    vals, bins = create_probabilities_for_bins(q)\n",
    "    vals = np.array(vals, dtype=np.int32)\n",
    "    sample_probabilities = np.repeat(vals, vals) / n # p(x in bin) for x in q\n",
    "    \n",
    "    return np.mean(np.log(sample_probabilities) - vmap(logp)(q))"
   ]
  },
  {
   "cell_type": "markdown",
   "metadata": {},
   "source": [
    "## Analytic KL of two Gaussians"
   ]
  },
  {
   "cell_type": "code",
   "execution_count": 6,
   "metadata": {},
   "outputs": [],
   "source": [
    "@jit\n",
    "def kl_of_gaussian(p, q):\n",
    "    \"\"\"\n",
    "    Parameters\n",
    "    ----------\n",
    "    p, q : array-like, parameters of gaussian: p = [mu, var], q = [mu2, var2]\n",
    "    \"\"\"\n",
    "    mu1, var1 = p\n",
    "    mu2, var2 = q\n",
    "    sigma1, sigma2 = [np.sqrt(v) for v in (var1, var2)]\n",
    "    out =  np.log(sigma2 / sigma1) + (var1 + (mu1 - mu2)**2) / (2 * var2) - 1/2\n",
    "    return np.squeeze(out)"
   ]
  },
  {
   "cell_type": "markdown",
   "metadata": {},
   "source": [
    "## KL estimate using fitted Gaussian parameters"
   ]
  },
  {
   "cell_type": "code",
   "execution_count": 7,
   "metadata": {},
   "outputs": [],
   "source": [
    "def fit_gaussian(samples):\n",
    "    \"\"\"\n",
    "    Parameters\n",
    "    ----------\n",
    "    samples : array-like, shape (n,)\n",
    "    \"\"\"\n",
    "    samples = np.asarray(samples)\n",
    "    return np.mean(samples), np.var(samples)"
   ]
  },
  {
   "cell_type": "markdown",
   "metadata": {},
   "source": [
    "## Test KL estimate for a range of sample sizes"
   ]
  },
  {
   "cell_type": "code",
   "execution_count": 30,
   "metadata": {},
   "outputs": [],
   "source": [
    "def test_kl(pdist, qdist, ngrid):\n",
    "    \"\"\"plot estimated KL(p || q) against true KL for a range of sample sizes\"\"\"\n",
    "    ppars, qpars = [(dist.mean, dist.cov) for dist in (pdist, qdist)]\n",
    "    \n",
    "    kls_samples = []\n",
    "    kls_sample_and_density = []\n",
    "    kls_using_fit = []\n",
    "    for n in tqdm(ngrid):\n",
    "        qs, ps = [dist.sample((n,)) for dist in (qdist, pdist)]\n",
    "        samples = np.stack([qs, ps])\n",
    "        \n",
    "        vals, _ = create_probabilities_for_bins(samples)\n",
    "        q, p = vals\n",
    "        kls_samples.append(kl_from_probabilities(p, q))\n",
    "        kls_sample_and_density.append(kl_sample_and_density(qs, pdist.logpdf))\n",
    "        kls_using_fit.append(kl_of_gaussian(fit_gaussian(qs), ppars))\n",
    "        \n",
    "    # true kl\n",
    "    true_kl = kl_of_gaussian(ppars, qpars)\n",
    "    return kls_samples, kls_sample_and_density, kls_using_fit, true_kl\n",
    "\n",
    "def plot_results(ngrid, kls_samples, kls_sample_and_density, kls_using_fit, true_kl):\n",
    "    fig, axs = plt.subplots(1, figsize=[10, 6])\n",
    "    ax = axs\n",
    "    ax.plot(ngrid, kls_samples, \"--o\", label=\"KL sample-sample\")\n",
    "    ax.plot(ngrid, kls_sample_and_density, \"--o\", label=\"KL sample-pdf\")\n",
    "    ax.plot(ngrid, kls_using_fit, \"--o\", label=\"KL using fitted gaussian\")\n",
    "    \n",
    "    ax.set_xscale(\"log\")\n",
    "    ax.axhline(y=true_kl)\n",
    "    ax.legend()"
   ]
  },
  {
   "cell_type": "code",
   "execution_count": 9,
   "metadata": {},
   "outputs": [
    {
     "name": "stderr",
     "output_type": "stream",
     "text": [
      "/home/lauro/.virtualenvs/msc-thesis/lib/python3.6/site-packages/jax/lax/lax.py:5385: UserWarning: Explicitly requested dtype float64 requested in asarray is not available, and will be truncated to dtype float32. To enable more dtypes, set the jax_enable_x64 configuration option or the JAX_ENABLE_X64 shell environment variable. See https://github.com/google/jax#current-gotchas for more.\n",
      "  warnings.warn(msg.format(dtype, fun_name , truncated_dtype))\n",
      "/home/lauro/.virtualenvs/msc-thesis/lib/python3.6/site-packages/jax/lax/lax.py:5385: UserWarning: Explicitly requested dtype float64 requested in array is not available, and will be truncated to dtype float32. To enable more dtypes, set the jax_enable_x64 configuration option or the JAX_ENABLE_X64 shell environment variable. See https://github.com/google/jax#current-gotchas for more.\n",
      "  warnings.warn(msg.format(dtype, fun_name , truncated_dtype))\n"
     ]
    }
   ],
   "source": [
    "# parameters (mean, variance)\n",
    "ppar = (0, 1)\n",
    "qpar = (-1, 2)\n",
    "\n",
    "pdist = metrics.Gaussian(*ppar)\n",
    "qdist = metrics.Gaussian(*qpar)\n",
    "\n",
    "ngrid = np.logspace(1, 3, 20)\n",
    "ngrid = np.array(ngrid, dtype=np.int32)"
   ]
  },
  {
   "cell_type": "code",
   "execution_count": 10,
   "metadata": {},
   "outputs": [
    {
     "name": "stderr",
     "output_type": "stream",
     "text": [
      "100%|██████████| 20/20 [00:27<00:00,  1.40s/it]\n"
     ]
    }
   ],
   "source": [
    "res = test_kl(qdist, pdist, ngrid)"
   ]
  },
  {
   "cell_type": "code",
   "execution_count": null,
   "metadata": {},
   "outputs": [],
   "source": [
    "plot_results(ngrid, *res)"
   ]
  },
  {
   "cell_type": "markdown",
   "metadata": {},
   "source": [
    "## Empirical CDF"
   ]
  },
  {
   "cell_type": "code",
   "execution_count": 12,
   "metadata": {},
   "outputs": [],
   "source": [
    "dist = metrics.Gaussian(0,1)\n",
    "s = dist.sample((100,))"
   ]
  },
  {
   "cell_type": "code",
   "execution_count": 13,
   "metadata": {},
   "outputs": [],
   "source": [
    "# np.arange?"
   ]
  },
  {
   "cell_type": "code",
   "execution_count": 14,
   "metadata": {},
   "outputs": [
    {
     "data": {
      "text/plain": [
       "[<matplotlib.lines.Line2D at 0x7f995c10b2e8>]"
      ]
     },
     "execution_count": 14,
     "metadata": {},
     "output_type": "execute_result"
    },
    {
     "data": {
      "image/png": "[encoded data removed]",
      "text/plain": [
       "<Figure size 432x288 with 1 Axes>"
      ]
     },
     "metadata": {
      "needs_background": "light"
     },
     "output_type": "display_data"
    }
   ],
   "source": [
    "x = np.sort(s)\n",
    "y = np.arange(len(x))/float(len(x)) # [0, 0.1, ..., 0.98, 0.99] if n = 100\n",
    "plt.plot(x, y)"
   ]
  },
  {
   "cell_type": "code",
   "execution_count": 15,
   "metadata": {},
   "outputs": [],
   "source": [
    "def emp_cdf(x, samples):\n",
    "    \"\"\"\n",
    "    maps x to F(x), where F is the emprirical distribution function of the samples.\n",
    "    \n",
    "    Parameters\n",
    "    ---------\n",
    "    x : scalar\n",
    "    samples : np.array of shape (n,)\n",
    "    \"\"\"\n",
    "    n = samples.shape[0]\n",
    "    return np.sum(samples <= x) / n"
   ]
  },
  {
   "cell_type": "code",
   "execution_count": 16,
   "metadata": {},
   "outputs": [],
   "source": [
    "xgrid = np.linspace(-3, 3, num=200)"
   ]
  },
  {
   "cell_type": "code",
   "execution_count": 17,
   "metadata": {},
   "outputs": [
    {
     "data": {
      "text/plain": [
       "[<matplotlib.lines.Line2D at 0x7f9934b9bfd0>]"
      ]
     },
     "execution_count": 17,
     "metadata": {},
     "output_type": "execute_result"
    },
    {
     "data": {
      "image/png": "[encoded data removed]",
      "text/plain": [
       "<Figure size 432x288 with 1 Axes>"
      ]
     },
     "metadata": {
      "needs_background": "light"
     },
     "output_type": "display_data"
    }
   ],
   "source": [
    "plt.plot(xgrid, vmap(emp_cdf, (0, None))(xgrid, s))"
   ]
  },
  {
   "cell_type": "markdown",
   "metadata": {},
   "source": [
    "### Empirical cdf, linearly interpolated"
   ]
  },
  {
   "cell_type": "markdown",
   "metadata": {},
   "source": [
    "Idea from [here](https://stats.stackexchange.com/questions/211175/kullback-leibler-divergence-for-two-samples) and [this paper](http://citeseerx.ist.psu.edu/viewdoc/download?doi=10.1.1.422.5121&rep=rep1&type=pdf)."
   ]
  },
  {
   "cell_type": "code",
   "execution_count": 18,
   "metadata": {},
   "outputs": [],
   "source": [
    "def lin_cdf(x, samples):\n",
    "    raise NotImplementedError()"
   ]
  },
  {
   "cell_type": "markdown",
   "metadata": {},
   "source": [
    "### Linearly interpolated empirical pdf"
   ]
  },
  {
   "cell_type": "code",
   "execution_count": 19,
   "metadata": {},
   "outputs": [],
   "source": [
    "def lin_pdf(samples):\n",
    "    \"\"\"Linearized cdf, evaluated at the samples.\"\"\"\n",
    "    samples = np.squeeze(samples)\n",
    "    samples = np.sort(samples)\n",
    "    n = samples.shape[0]\n",
    "    \n",
    "    diffs = np.diff(samples)\n",
    "    \n",
    "    return 1 / n / np.concatenate([diffs[0][np.newaxis], diffs])"
   ]
  },
  {
   "cell_type": "code",
   "execution_count": 20,
   "metadata": {},
   "outputs": [],
   "source": [
    "def kl_divergence(xs, logp):\n",
    "    \"\"\"\n",
    "    Parameters\n",
    "    --------------\n",
    "    xs : np.array of shape (n,) or (n,1)\n",
    "    p : callable, computes log(p(x)) up to an additive constant\n",
    "    \"\"\"\n",
    "    xs = np.squeeze(xs)\n",
    "    xs = np.sort(xs)\n",
    "    n = xs.shape[0]\n",
    "    \n",
    "    \n",
    "    return -np.mean(np.log(lin_pdf(xs)) - vmap(logp)(xs))"
   ]
  },
  {
   "cell_type": "code",
   "execution_count": 21,
   "metadata": {},
   "outputs": [],
   "source": [
    "sample = dist.sample((10000,))\n",
    "xs = sample"
   ]
  },
  {
   "cell_type": "code",
   "execution_count": 22,
   "metadata": {},
   "outputs": [
    {
     "data": {
      "text/plain": [
       "DeviceArray(-inf, dtype=float32)"
      ]
     },
     "execution_count": 22,
     "metadata": {},
     "output_type": "execute_result"
    }
   ],
   "source": [
    "kl_divergence(xs, dist.logpdf)"
   ]
  },
  {
   "cell_type": "code",
   "execution_count": 23,
   "metadata": {},
   "outputs": [
    {
     "data": {
      "text/plain": [
       "DeviceArray(0.04004873, dtype=float32)"
      ]
     },
     "execution_count": 23,
     "metadata": {},
     "output_type": "execute_result"
    }
   ],
   "source": [
    "lin_pdf(xs)[257]"
   ]
  },
  {
   "cell_type": "code",
   "execution_count": 24,
   "metadata": {},
   "outputs": [
    {
     "data": {
      "text/plain": [
       "DeviceArray(1228, dtype=int32)"
      ]
     },
     "execution_count": 24,
     "metadata": {},
     "output_type": "execute_result"
    }
   ],
   "source": [
    "np.argmin(np.diff(xs.sort()))"
   ]
  },
  {
   "cell_type": "code",
   "execution_count": 25,
   "metadata": {},
   "outputs": [
    {
     "data": {
      "text/plain": [
       "DeviceArray(-1.9550459, dtype=float32)"
      ]
     },
     "execution_count": 25,
     "metadata": {},
     "output_type": "execute_result"
    }
   ],
   "source": [
    "xs.sort()[257]"
   ]
  },
  {
   "cell_type": "code",
   "execution_count": null,
   "metadata": {},
   "outputs": [],
   "source": []
  }
 ],
 "metadata": {
  "kernelspec": {
   "display_name": "msc-thesis",
   "language": "python",
   "name": "msc-thesis"
  },
  "language_info": {
   "codemirror_mode": {
    "name": "ipython",
    "version": 3
   },
   "file_extension": ".py",
   "mimetype": "text/x-python",
   "name": "python",
   "nbconvert_exporter": "python",
   "pygments_lexer": "ipython3",
   "version": "3.6.9"
  }
 },
 "nbformat": 4,
 "nbformat_minor": 4
}
