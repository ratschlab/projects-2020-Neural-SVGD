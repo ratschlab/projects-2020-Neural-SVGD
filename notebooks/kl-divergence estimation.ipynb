{
 "cells": [
  {
   "cell_type": "code",
   "execution_count": 1,
   "metadata": {},
   "outputs": [
    {
     "name": "stderr",
     "output_type": "stream",
     "text": [
      "/home/lauro/.virtualenvs/msc-thesis/lib/python3.6/site-packages/jax/lib/xla_bridge.py:116: UserWarning: No GPU/TPU found, falling back to CPU.\n",
      "  warnings.warn('No GPU/TPU found, falling back to CPU.')\n"
     ]
    }
   ],
   "source": [
    "import sys\n",
    "sys.path.append(\"/home/lauro/code/msc-thesis/svgd\")\n",
    "import time\n",
    "\n",
    "import jax.numpy as np\n",
    "from jax import grad, jit, vmap, random, lax, jacfwd\n",
    "from jax import lax\n",
    "from jax.ops import index_update, index\n",
    "import matplotlib.pyplot as plt\n",
    "import numpy as onp\n",
    "from tqdm import tqdm\n",
    "\n",
    "import utils\n",
    "import metrics\n",
    "import stein\n",
    "import plot\n",
    "from svgd import SVGD\n",
    "\n",
    "rkey = random.PRNGKey(1)"
   ]
  },
  {
   "cell_type": "markdown",
   "metadata": {},
   "source": [
    "# KL divergence estimation"
   ]
  },
  {
   "cell_type": "markdown",
   "metadata": {},
   "source": [
    "## KL between two discrete probability vectors"
   ]
  },
  {
   "cell_type": "markdown",
   "metadata": {},
   "source": [
    "Let $X_1, \\dots, X_n$ iid as $q$ and $Y_1, \\dots, Y_n$ iid as $p$. Then an estimator for $\\text{KL}(q \\ \\Vert \\ p)$ is given by\n",
    "\n",
    "$$\n",
    "\\sum_{k=1}^K \\hat q_k \\log \\frac{\\hat q_k}{\\hat p_k},\n",
    "$$\n",
    "where $\\hat q$ and $\\hat p$ are vectors in $\\mathbb R^K$ representing histogram estimates of $q$ and $p$ with $K$ bins, computed using the samples $X_i$ and $Y_i$."
   ]
  },
  {
   "cell_type": "code",
   "execution_count": 2,
   "metadata": {},
   "outputs": [],
   "source": [
    "def get_bins_and_bincounts(samples, normalized=False):\n",
    "    \"\"\"take in samples, create a common set of bins, and compute the counts count(x in bin)\n",
    "    for each bin and each sample x.\n",
    "    Parameters\n",
    "    ------------\n",
    "    samples : np.array of shape (n,) or shape (k, n).\n",
    "    - If shape (n,): interpreted as a set of n scalar-valued samples.\n",
    "    - If shape (k, n): interpreted as k sets of n scalar-valued samples.\n",
    "    \n",
    "    Returns\n",
    "    --------\n",
    "    probabilities :\n",
    "    bins :\n",
    "    \"\"\"\n",
    "    nr_samples = np.prod(samples.shape)\n",
    "    nr_bins = np.log2(nr_samples)\n",
    "    nr_bins = int(max(nr_bins, 5))\n",
    "    \n",
    "    lims = [np.min(samples), np.max(samples)]\n",
    "    bins = np.linspace(*lims, num=nr_bins)\n",
    "    \n",
    "    if samples.ndim == 2:\n",
    "        out = np.asarray([np.histogram(x, bins=bins, density=normalized)[0] for x in samples])\n",
    "        return out, bins\n",
    "    elif samples.ndim == 1:\n",
    "        return np.histogram(samples, bins=bins, density=normalized)[0], bins\n",
    "    else:\n",
    "        raise ValueError(f\"Input must have shape (n,) or shape (k,n). Instead received shape {samples.shape}\")\n",
    "        \n",
    "# get_bins_and_bincounts = jit(get_bins_and_bincounts)"
   ]
  },
  {
   "cell_type": "code",
   "execution_count": 3,
   "metadata": {},
   "outputs": [],
   "source": [
    "def smooth_and_normalize(vec, normalize=True):\n",
    "    \"\"\"\n",
    "    Parameters:\n",
    "    * vec : np.array of shape (n,)\n",
    "    * normalize : bool\n",
    "    \n",
    "    Returns:\n",
    "    out : np.array of shape (n,).\n",
    "    If vec_i = 0, then out_i = epsilon. If vec_i !=0, then out_i = vec_i - c.\n",
    "    c is chosen such that sum(vec) == 1.\n",
    "    \"\"\"\n",
    "    vec = np.asarray(vec, dtype=np.float32)\n",
    "    \n",
    "    if normalize:\n",
    "        vec = vec / vec.sum()\n",
    "    n = len(vec)\n",
    "    epsilon = 0.0001\n",
    "    num_nonzero = np.count_nonzero(vec)\n",
    "    c = epsilon * (n - num_nonzero) / num_nonzero\n",
    "    perturbation =  (vec == 0)*epsilon - (vec != 0)*c\n",
    "    return vec + perturbation"
   ]
  },
  {
   "cell_type": "code",
   "execution_count": 4,
   "metadata": {},
   "outputs": [],
   "source": [
    "def kl_from_probabilities(p, q):\n",
    "    \"\"\"Kullback-Leibler divergence D(P || Q) for discrete distributions\n",
    "    Parameters\n",
    "    ----------\n",
    "    p, q : array-like, dtype=float, shape=(k,)\n",
    "    Discrete probability distributions. Can be unnormalized.\n",
    "    \"\"\"\n",
    "    p = np.asarray(p, dtype=np.float32)\n",
    "    q = np.asarray(q, dtype=np.float32)\n",
    "    if p.shape != q.shape:\n",
    "        raise ValueError(\"p and q need to have same shape.\")\n",
    "    elif p.ndim > 1:\n",
    "        raise ValueError(f\"Inputs need to be one-dimensional vectors.\")\n",
    "        \n",
    "    p, q = [smooth_and_normalize(prob) for prob in (p, q)]\n",
    "    \n",
    "    return np.sum(p * np.log(p/q))"
   ]
  },
  {
   "cell_type": "code",
   "execution_count": 5,
   "metadata": {},
   "outputs": [],
   "source": [
    "@jit\n",
    "def kl_from_samples(p, q):\n",
    "    \"\"\"Kullback-Leibler divergence D(P || Q) for discrete distributions\n",
    "    Parameters\n",
    "    ----------\n",
    "    p, q : array-like, dtype=float, shape=(n,). iid samples from p and q.\n",
    "    \"\"\"\n",
    "    samples = np.stack([p, q])\n",
    "    vals, _ = get_bins_and_bincounts(samples)\n",
    "    pprobs, qprobs = vals\n",
    "\n",
    "    return kl_from_probabilities(pprobs, qprobs)"
   ]
  },
  {
   "cell_type": "markdown",
   "metadata": {},
   "source": [
    "## KL between sample and continuous density using histogram estimate"
   ]
  },
  {
   "cell_type": "markdown",
   "metadata": {},
   "source": [
    "Let $X_1, \\dots, X_n$ iid as $q$. Assume density $p$ is known. Then an estimator for $\\text{KL}(q \\ \\Vert \\ p)$ is given by\n",
    "\n",
    "$$\n",
    "1/n \\sum_i \\log \\hat q(X_i) - \\log p(X_i),\n",
    "$$\n",
    "where $\\hat q$ is a histogram estimate of $q$ based on the samples $X_i$.\n",
    "\n",
    "Note: \n",
    "* this estimate is sensitive to the method used to determine the number of histogram bins $K$. Empirically, $K = \\log_2(n)$ gives good results, while $K = n / 10$ or $K = \\sqrt n$ don't.\n",
    "* A reasonable bound on the bias of a histogram estimate $\\hat q$ is\n",
    "$$E[\\hat q(x)] - q(x)\\leq \\frac{L}{K},$$\n",
    "where $L = \\sup_x \\vert q'(x) \\vert$. ([reference](https://faculty.washington.edu/yenchic/18W_425/Lec6_hist_KDE.pdf))\n",
    "* The pointwise variance of histogram estimate $\\hat q$ grows linearly with number of bins $K$."
   ]
  },
  {
   "cell_type": "code",
   "execution_count": 6,
   "metadata": {},
   "outputs": [],
   "source": [
    "def get_histogram_likelihoods(q):\n",
    "    \"\"\"\n",
    "    Parameters:\n",
    "    * q : np.array of scalar-valued samples from distribution q.\n",
    "    \n",
    "    Returns:\n",
    "    np.array of same length as q, consisting of an approximation of the pdf q(x_i) at the (sorted) samples x_i\n",
    "    \"\"\"\n",
    "    q = np.asarray(q, dtype=np.float32)\n",
    "    n = len(q) \n",
    "    \n",
    "    bincounts, bins = get_bins_and_bincounts(q)\n",
    "    bincounts = np.array(bincounts, dtype=np.int32)\n",
    "    likelihoods = smooth_and_normalize(bincounts) / np.diff(bins)\n",
    "    \n",
    "    sample_probabilities = np.repeat(likelihoods, bincounts)\n",
    "    return sample_probabilities"
   ]
  },
  {
   "cell_type": "code",
   "execution_count": 7,
   "metadata": {},
   "outputs": [
    {
     "data": {
      "text/plain": [
       "<matplotlib.legend.Legend at 0x7f9bb4538358>"
      ]
     },
     "execution_count": 7,
     "metadata": {},
     "output_type": "execute_result"
    },
    {
     "data": {
      "image/png": "[encoded data removed]",
      "text/plain": [
       "<Figure size 432x288 with 1 Axes>"
      ]
     },
     "metadata": {
      "needs_background": "light"
     },
     "output_type": "display_data"
    }
   ],
   "source": [
    "dist = metrics.Gaussian(0, 3)\n",
    "s = dist.sample((500,))\n",
    "sample_probabilities = get_histogram_likelihoods(s)\n",
    "s = s.sort()\n",
    "plt.plot(s, sample_probabilities, \"--\", label=\"histogram probabilities\")\n",
    "plt.plot(s, vmap(dist.pdf)(s), \"-\", label=\"true distribution\")\n",
    "plt.legend()"
   ]
  },
  {
   "cell_type": "code",
   "execution_count": 8,
   "metadata": {},
   "outputs": [
    {
     "data": {
      "text/plain": [
       "DeviceArray(1.0028296, dtype=float32)"
      ]
     },
     "execution_count": 8,
     "metadata": {},
     "output_type": "execute_result"
    }
   ],
   "source": [
    "np.sum(sample_probabilities[1:] * np.diff(s))"
   ]
  },
  {
   "cell_type": "code",
   "execution_count": 9,
   "metadata": {},
   "outputs": [],
   "source": [
    "def kl_sample_and_density(q, logp):\n",
    "    \"\"\"Kullback-Leibler divergence D(q || p) between sample p and cts density q\n",
    "    Parameters\n",
    "    ----------\n",
    "    q : array-like, shape (d,). Samples from distribution q.\n",
    "    logp : callable. Takes one argument, computes log(p(x))\n",
    "    \"\"\"\n",
    "    histogram_likelihoods = get_histogram_likelihoods(q)\n",
    "    return np.mean(np.log(histogram_likelihoods) - vmap(logp)(q))"
   ]
  },
  {
   "cell_type": "markdown",
   "metadata": {},
   "source": [
    "## KL (between sample and density) using interpolated CDF"
   ]
  },
  {
   "cell_type": "markdown",
   "metadata": {},
   "source": [
    "A variation on the above approach. Let $X_1, \\dots, X_n$ iid as $q$ and assume $p$ is known. Write $\\mathbb Q_n$ for the empirical distribution of the $X_i$. Now define $\\hat Q$ to be equal to $\\mathbb Q_n$ when evaluated at one of the samples and linearly interpolated in between.\n",
    "\n",
    "We can then approximate $q$ by the derivative $\\hat q = \\frac{d \\hat Q}{dx}$. This is easy to evaluate since $\\hat Q$ is piecewise linear.\n",
    "\n",
    "Then an estimator for $\\text{KL}(q \\ \\Vert \\ p)$ is given by\n",
    "$$\n",
    "1/n \\sum_{i=1}^n \\log \\frac{\\hat q(X_i)}{p(X_i)}.\n",
    "$$\n",
    "Note that\n",
    "$$\n",
    "\\hat q(X_i) = \\frac{1/n}{X_i - X_{i-1}}.\n",
    "$$"
   ]
  },
  {
   "cell_type": "code",
   "execution_count": 10,
   "metadata": {},
   "outputs": [],
   "source": [
    "def get_interpolated_likelihoods(q):\n",
    "    \"\"\"\n",
    "    Parameters:\n",
    "    * samples : array-like, shape (n,). Set of n scalar-valued samples.\n",
    "    * kernel : callable, takes in two scalar arguments x and y. Computes kernel k(x, y).\n",
    "    \n",
    "    Returns:\n",
    "    An estimate of the likelihood q(x) for each x in samples. Sorted from least to greatest sample.\n",
    "    \"\"\"\n",
    "    q = np.asarray(q, dtype=np.float32)\n",
    "    n = len(q)\n",
    "    \n",
    "    diffs = np.diff(q.sort())\n",
    "    diffs = smooth_and_normalize(diffs, normalize=False)\n",
    "    pdf_estimate = 1 / n / diffs\n",
    "    \n",
    "    return np.concatenate([pdf_estimate[0, np.newaxis], pdf_estimate])"
   ]
  },
  {
   "cell_type": "code",
   "execution_count": 11,
   "metadata": {},
   "outputs": [
    {
     "data": {
      "text/plain": [
       "[<matplotlib.lines.Line2D at 0x7f9bb4022f98>]"
      ]
     },
     "execution_count": 11,
     "metadata": {},
     "output_type": "execute_result"
    },
    {
     "data": {
      "image/png": "[encoded data removed]",
      "text/plain": [
       "<Figure size 432x288 with 1 Axes>"
      ]
     },
     "metadata": {
      "needs_background": "light"
     },
     "output_type": "display_data"
    }
   ],
   "source": [
    "dist = metrics.Gaussian(0, 3)\n",
    "s = dist.sample((500,))\n",
    "sample_likelihoods = get_interpolated_likelihoods(s)\n",
    "s = s.sort()\n",
    "plt.plot(s, sample_likelihoods, \"--\", label=\"interpolated likelihoods\")\n",
    "plt.plot(s, vmap(dist.pdf)(s), \"-\", label=\"true distribution\")"
   ]
  },
  {
   "cell_type": "code",
   "execution_count": 12,
   "metadata": {},
   "outputs": [
    {
     "data": {
      "text/plain": [
       "DeviceArray(0.99800014, dtype=float32)"
      ]
     },
     "execution_count": 12,
     "metadata": {},
     "output_type": "execute_result"
    }
   ],
   "source": [
    "np.sum(sample_likelihoods[1:] * np.diff(s))"
   ]
  },
  {
   "cell_type": "code",
   "execution_count": 13,
   "metadata": {},
   "outputs": [],
   "source": [
    "def kl_using_interpolated_cdf(q, logp):\n",
    "    \"\"\"Kullback-Leibler divergence D(q || p) between sample p and cts density q\n",
    "    Parameters\n",
    "    ----------\n",
    "    q : array-like, shape (d,). Samples from distribution q.\n",
    "    logp : callable. Takes one argument, computes log(p(x))\n",
    "    \"\"\"\n",
    "    histogram_likelihoods = get_interpolated_likelihoods(q)\n",
    "    return np.mean(np.log(histogram_likelihoods) - vmap(logp)(q))"
   ]
  },
  {
   "cell_type": "markdown",
   "metadata": {},
   "source": [
    "## KL (between sample and density) using Kernel Density Estimation"
   ]
  },
  {
   "cell_type": "markdown",
   "metadata": {},
   "source": [
    "Let $X_1, \\dots, X_n$ iid as $q$. Assume density $p$ is known. Then an estimator for for $q$ is given by\n",
    "$$\n",
    "\\hat q(x) = \\frac{1}{n} \\sum_{i=1}^n k(x, X_i),\n",
    "$$\n",
    "where $k$ is some P.D. kernel function. An estimator for $\\text{KL}(q \\ \\Vert \\ p)$ is then given by\n",
    "$$\n",
    "1/n \\sum_i \\log \\hat q(X_i) - \\log p(X_i).\n",
    "$$\n",
    "Note:\n",
    "* This takes $ O (n^2)$ to evaluate."
   ]
  },
  {
   "cell_type": "code",
   "execution_count": 14,
   "metadata": {},
   "outputs": [],
   "source": [
    "def get_kde_likelihoods(samples, kernel):\n",
    "    \"\"\"\n",
    "    Parameters:\n",
    "    * samples : array-like, shape (n,). Set of n scalar-valued samples.\n",
    "    * kernel : callable, takes in two scalar arguments x and y. Computes kernel k(x, y). Must be normalized,\n",
    "    that is for all $y$ we have $\\int k(x, y) dx = 1$.\n",
    "    \n",
    "    Returns:\n",
    "    An estimate of the likelihood q(x) for each x in samples. Same order as the samples.\n",
    "    \"\"\"\n",
    "    samples = np.asarray(samples, dtype=np.float32)\n",
    "    n = len(samples)\n",
    "    kernelv = vmap(kernel, (0, None))\n",
    "    kernelvv = vmap(kernelv, (None, 0))\n",
    "    \n",
    "    return np.squeeze(np.mean(kernelvv(samples, samples), axis=0))"
   ]
  },
  {
   "cell_type": "code",
   "execution_count": 15,
   "metadata": {},
   "outputs": [
    {
     "data": {
      "text/plain": [
       "<matplotlib.legend.Legend at 0x7f9ba4755f28>"
      ]
     },
     "execution_count": 15,
     "metadata": {},
     "output_type": "execute_result"
    },
    {
     "data": {
      "image/png": "[encoded data removed]",
      "text/plain": [
       "<Figure size 432x288 with 1 Axes>"
      ]
     },
     "metadata": {
      "needs_background": "light"
     },
     "output_type": "display_data"
    }
   ],
   "source": [
    "dist = metrics.Gaussian(0, 3)\n",
    "s = dist.sample((500,))\n",
    "h = 0.1\n",
    "logh = np.log(h)\n",
    "kernel = lambda x, y: utils.ard(x, y, logh) / np.sqrt(2 * np.pi * h)\n",
    "sample_likelihoods = get_kde_likelihoods(s, kernel)\n",
    "sorted_idx = np.argsort(s)\n",
    "s = s[sorted_idx]\n",
    "sample_likelihoods = sample_likelihoods[sorted_idx]\n",
    "\n",
    "plt.plot(s, sample_likelihoods, \"--\", label=\"KDE likelihoods\")\n",
    "plt.plot(s, vmap(dist.pdf)(s), \"-\", label=\"true distribution\")\n",
    "plt.hist(s, alpha=0.3, label=\"histogram of samples\", density=True)\n",
    "plt.legend()"
   ]
  },
  {
   "cell_type": "code",
   "execution_count": 22,
   "metadata": {},
   "outputs": [],
   "source": [
    "def kl_using_kde(q, logp, kernel):\n",
    "    \"\"\"Kullback-Leibler divergence D(q || p) between sample p and cts density q\n",
    "    Parameters\n",
    "    ----------\n",
    "    q : array-like, shape (d,). Samples from distribution q.\n",
    "    logp : callable. Takes one argument, computes log(p(x))\n",
    "    kernel : callable, takes in two scalar arguments x and y. Computes kernel k(x, y). Must be normalized,\n",
    "    that is for all $y$ we have $\\int k(x, y) dx = 1$.\n",
    "    \"\"\"\n",
    "    kde_likelihoods = get_kde_likelihoods(q, kernel)\n",
    "    return np.mean(np.log(kde_likelihoods) - vmap(logp)(q))\n",
    "kl_using_kde = jit(kl_using_kde, static_argnums=(1,2))"
   ]
  },
  {
   "cell_type": "markdown",
   "metadata": {},
   "source": [
    "## Analytic KL of two Gaussians"
   ]
  },
  {
   "cell_type": "markdown",
   "metadata": {},
   "source": [
    "This is the exact value for $\\text{KL}(q \\ \\Vert \\ p)$ where $q$ and $p$ are both Gaussian."
   ]
  },
  {
   "cell_type": "code",
   "execution_count": 23,
   "metadata": {},
   "outputs": [],
   "source": [
    "@jit\n",
    "def kl_of_gaussian(p, q):\n",
    "    \"\"\"\n",
    "    Parameters\n",
    "    ----------\n",
    "    p, q : array-like, parameters of gaussian: p = [mu, var], q = [mu2, var2]\n",
    "    \"\"\"\n",
    "    mu1, var1 = p\n",
    "    mu2, var2 = q\n",
    "    sigma1, sigma2 = [np.sqrt(v) for v in (var1, var2)]\n",
    "    out =  np.log(sigma2 / sigma1) + (var1 + (mu1 - mu2)**2) / (2 * var2) - 1/2\n",
    "    return np.squeeze(out)"
   ]
  },
  {
   "cell_type": "markdown",
   "metadata": {},
   "source": [
    "## KL estimate using fitted Gaussian parameters"
   ]
  },
  {
   "cell_type": "code",
   "execution_count": 24,
   "metadata": {},
   "outputs": [],
   "source": [
    "def fit_gaussian(samples):\n",
    "    \"\"\"\n",
    "    Parameters\n",
    "    ----------\n",
    "    samples : array-like, shape (n,)\n",
    "    \"\"\"\n",
    "    samples = np.asarray(samples)\n",
    "    return np.array([np.mean(samples), np.var(samples)])"
   ]
  },
  {
   "cell_type": "markdown",
   "metadata": {},
   "source": [
    "## Test KL estimate for a range of sample sizes"
   ]
  },
  {
   "cell_type": "code",
   "execution_count": 49,
   "metadata": {},
   "outputs": [],
   "source": [
    "def test_kl(qdist, pdist, ngrid, kernel):\n",
    "    \"\"\"compute estimated KL(q || p) for a range of sample sizes\"\"\"\n",
    "    ppars, qpars = [(dist.mean, dist.cov) for dist in (pdist, qdist)]\n",
    "    true_kl = kl_of_gaussian(qpars, ppars)\n",
    "    \n",
    "    kls_samples = []\n",
    "    kls_sample_and_density = []\n",
    "    kls_using_fit = []\n",
    "    kls_interpolated = []\n",
    "    kls_kde = []\n",
    "    \n",
    "    mses = []\n",
    "    for n in tqdm(ngrid):\n",
    "        qs, ps = [dist.sample((n,)) for dist in (qdist, pdist)]\n",
    "        \n",
    "        kls_samples.append(kl_from_samples(qs, ps))\n",
    "        kls_sample_and_density.append(kl_sample_and_density(qs, pdist.logpdf))\n",
    "        kls_using_fit.append(kl_of_gaussian(fit_gaussian(qs), ppars))\n",
    "        kls_interpolated.append(kl_using_interpolated_cdf(qs, pdist.logpdf))\n",
    "        kls_kde.append(kl_using_kde(qs, pdist.logpdf, kernel))\n",
    "        \n",
    "        mses.append([(est[-1] - true_kl)**2 for est in \n",
    "                     (kls_samples, kls_sample_and_density, \n",
    "                      kls_using_fit, kls_interpolated, kls_kde)])\n",
    "        \n",
    "    return mses, kls_samples, kls_sample_and_density, kls_using_fit, kls_interpolated, kls_kde, true_kl\n",
    "\n",
    "def plot_results(ngrid, mses, kls_samples, kls_sample_and_density, kls_using_fit, kls_interpolated, kls_kde, true_kl):\n",
    "    fig, axs = plt.subplots(1, figsize=[10, 6])\n",
    "    ax = axs\n",
    "#     ax.plot(ngrid, kls_samples, \"--o\", label=\"KL sample-sample\")\n",
    "    ax.plot(ngrid, kls_sample_and_density, \"--o\", label=\"KL sample-pdf\")\n",
    "    ax.plot(ngrid, kls_using_fit, \"--o\", label=\"KL using fitted gaussian\")\n",
    "#     ax.plot(ngrid, kls_interpolated, \"--o\", label=\"KL using interpolated CDF\")\n",
    "    ax.plot(ngrid, kls_kde, \"--o\", label=\"KL using KDE estimate of CDF\")\n",
    "    \n",
    "    ax.set_xscale(\"log\")\n",
    "    ax.axhline(y=true_kl)\n",
    "    ax.legend()\n",
    "    \n",
    "#     ax.set_ylim((true_kl-0.4, true_kl+0.4))"
   ]
  },
  {
   "cell_type": "code",
   "execution_count": 41,
   "metadata": {},
   "outputs": [
    {
     "name": "stderr",
     "output_type": "stream",
     "text": [
      "/home/lauro/.virtualenvs/msc-thesis/lib/python3.6/site-packages/jax/lax/lax.py:5385: UserWarning: Explicitly requested dtype float64 requested in asarray is not available, and will be truncated to dtype float32. To enable more dtypes, set the jax_enable_x64 configuration option or the JAX_ENABLE_X64 shell environment variable. See https://github.com/google/jax#current-gotchas for more.\n",
      "  warnings.warn(msg.format(dtype, fun_name , truncated_dtype))\n",
      "/home/lauro/.virtualenvs/msc-thesis/lib/python3.6/site-packages/jax/lax/lax.py:5385: UserWarning: Explicitly requested dtype float64 requested in array is not available, and will be truncated to dtype float32. To enable more dtypes, set the jax_enable_x64 configuration option or the JAX_ENABLE_X64 shell environment variable. See https://github.com/google/jax#current-gotchas for more.\n",
      "  warnings.warn(msg.format(dtype, fun_name , truncated_dtype))\n"
     ]
    }
   ],
   "source": [
    "# parameters (mean, variance)\n",
    "ppar = (0, 6)\n",
    "qpar = (-5, 1)\n",
    "\n",
    "pdist = metrics.Gaussian(*ppar)\n",
    "qdist = metrics.Gaussian(*qpar)\n",
    "\n",
    "ngrid = np.logspace(1, 3, 30)\n",
    "ngrid = np.array(ngrid, dtype=np.int32)\n",
    "\n",
    "h = 0.1\n",
    "logh = np.log(h)\n",
    "kernel = lambda x, y: utils.ard(x, y, logh) / np.sqrt(2 * np.pi * h)"
   ]
  },
  {
   "cell_type": "code",
   "execution_count": 42,
   "metadata": {},
   "outputs": [
    {
     "name": "stderr",
     "output_type": "stream",
     "text": [
      "100%|██████████| 30/30 [00:07<00:00,  4.12it/s]\n"
     ]
    }
   ],
   "source": [
    "res = test_kl(qdist, pdist, ngrid, kernel)"
   ]
  },
  {
   "cell_type": "code",
   "execution_count": 50,
   "metadata": {},
   "outputs": [
    {
     "data": {
      "image/png": "[encoded data removed]",
      "text/plain": [
       "<Figure size 720x432 with 1 Axes>"
      ]
     },
     "metadata": {
      "needs_background": "light"
     },
     "output_type": "display_data"
    }
   ],
   "source": [
    "plot_results(ngrid, *res)"
   ]
  },
  {
   "cell_type": "code",
   "execution_count": 44,
   "metadata": {},
   "outputs": [
    {
     "data": {
      "text/plain": [
       "DeviceArray(2.5625465, dtype=float32)"
      ]
     },
     "execution_count": 44,
     "metadata": {},
     "output_type": "execute_result"
    }
   ],
   "source": [
    "res[-1]"
   ]
  },
  {
   "cell_type": "markdown",
   "metadata": {},
   "source": [
    "## Implementation in `metrics.Distribution`"
   ]
  },
  {
   "cell_type": "code",
   "execution_count": 30,
   "metadata": {},
   "outputs": [
    {
     "name": "stdout",
     "output_type": "stream",
     "text": [
      "KL estimate: 0.48759988\n",
      "True KL: 0.4792131\n"
     ]
    }
   ],
   "source": [
    "ppar = (0, 6) # (mean, variance)\n",
    "qpar = (0, 1)\n",
    "\n",
    "pdist = metrics.Gaussian(*ppar)\n",
    "qdist = metrics.Gaussian(*qpar)\n",
    "\n",
    "n = 100\n",
    "sample = qdist.sample((n,))\n",
    "print(\"KL estimate:\", pdist.kl_divergence(sample))\n",
    "print(\"True KL:\", kl_of_gaussian(qpar, ppar))"
   ]
  }
 ],
 "metadata": {
  "kernelspec": {
   "display_name": "msc-thesis",
   "language": "python",
   "name": "msc-thesis"
  },
  "language_info": {
   "codemirror_mode": {
    "name": "ipython",
    "version": 3
   },
   "file_extension": ".py",
   "mimetype": "text/x-python",
   "name": "python",
   "nbconvert_exporter": "python",
   "pygments_lexer": "ipython3",
   "version": "3.6.9"
  }
 },
 "nbformat": 4,
 "nbformat_minor": 4
}
