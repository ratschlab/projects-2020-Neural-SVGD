{
 "cells": [
  {
   "cell_type": "markdown",
   "metadata": {},
   "source": [
    "# KL divergence estimation"
   ]
  },
  {
   "cell_type": "markdown",
   "metadata": {},
   "source": [
    "Idea from [here](https://stats.stackexchange.com/questions/211175/kullback-leibler-divergence-for-two-samples) and [this paper](http://citeseerx.ist.psu.edu/viewdoc/download?doi=10.1.1.422.5121&rep=rep1&type=pdf)."
   ]
  },
  {
   "cell_type": "code",
   "execution_count": null,
   "metadata": {},
   "outputs": [],
   "source": [
    "def empirical_pdf(xs):\n",
    "    \"\"\"\n",
    "    Arguments:\n",
    "    * xs: np.array of shape (n, d) consisting of n observations of an $\\mathbb R^d$-valued random variable.\n",
    "    \n",
    "    Returns:\n",
    "    * callable that takes one argument: an np.array of shape (d,) representing an $\\mathbb R^d$-valued\n",
    "    random variable.\n",
    "    \n",
    "    Empirical pdf of particles, computed by method in paper linked above.\n",
    "    \"\"\"\n",
    "    d = xs.shape[1]\n",
    "    \n",
    "    \n",
    "    raise NotImplementedError()"
   ]
  },
  {
   "cell_type": "code",
   "execution_count": null,
   "metadata": {},
   "outputs": [],
   "source": [
    "# not the best way to do this\n",
    "# cause then we need to integrate\n",
    "# better to expectation with samples?\n",
    "# OTOH, linear spline is prob a better approximation that empirical cdf\n",
    "# TODO: can we make a better approximation of the KSD this way?\n",
    "def kl_divergence(q, p):\n",
    "    \"\"\"\n",
    "    Arguments:\n",
    "    * q, p: callables. Both take one argument: an np.array of shape (d,) representing an $\\mathbb R^d$-valued\n",
    "    random variable\n",
    "    \n",
    "    Returns:\n",
    "    * KL-divergence KL(q || p) from p to q.\n",
    "    \"\"\"\n",
    "    raise NotImplementedError()"
   ]
  }
 ],
 "metadata": {
  "kernelspec": {
   "display_name": "msc-thesis",
   "language": "python",
   "name": "msc-thesis"
  },
  "language_info": {
   "codemirror_mode": {
    "name": "ipython",
    "version": 3
   },
   "file_extension": ".py",
   "mimetype": "text/x-python",
   "name": "python",
   "nbconvert_exporter": "python",
   "pygments_lexer": "ipython3",
   "version": "3.6.9"
  }
 },
 "nbformat": 4,
 "nbformat_minor": 4
}
