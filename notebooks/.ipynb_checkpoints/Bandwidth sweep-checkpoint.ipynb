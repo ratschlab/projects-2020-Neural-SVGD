{
 "cells": [
  {
   "cell_type": "markdown",
   "metadata": {},
   "source": [
    "# One-dimensional bandwidth sweep"
   ]
  },
  {
   "cell_type": "code",
   "execution_count": 1,
   "metadata": {},
   "outputs": [
    {
     "name": "stderr",
     "output_type": "stream",
     "text": [
      "/home/lauro/.virtualenvs/msc-thesis/lib/python3.6/site-packages/jax/lib/xla_bridge.py:123: UserWarning: No GPU/TPU found, falling back to CPU.\n",
      "  warnings.warn('No GPU/TPU found, falling back to CPU.')\n"
     ]
    }
   ],
   "source": [
    "import sys\n",
    "sys.path.append(\"/home/lauro/code/msc-thesis/svgd\")\n",
    "\n",
    "import jax.numpy as np\n",
    "from jax import grad, jit, vmap\n",
    "from jax import random\n",
    "from jax.scipy.stats import norm\n",
    "\n",
    "import matplotlib as mpl\n",
    "import matplotlib.pyplot as plt\n",
    "\n",
    "from svgd import SVGD\n",
    "from utils import dict_concatenate, dict_mean\n",
    "from tqdm import tqdm\n",
    "\n",
    "import metrics\n",
    "import utils\n",
    "import plot\n",
    "\n",
    "rkey = random.PRNGKey(0)"
   ]
  },
  {
   "cell_type": "code",
   "execution_count": 2,
   "metadata": {},
   "outputs": [
    {
     "name": "stderr",
     "output_type": "stream",
     "text": [
      "/home/lauro/.virtualenvs/msc-thesis/lib/python3.6/site-packages/jax/lax/lax.py:5104: UserWarning: Explicitly requested dtype float64 requested in asarray is not available, and will be truncated to dtype float32. To enable more dtypes, set the jax_enable_x64 configuration option or the JAX_ENABLE_X64 shell environment variable. See https://github.com/google/jax#current-gotchas for more.\n",
      "  warnings.warn(msg.format(dtype, fun_name , truncated_dtype))\n",
      "/home/lauro/.virtualenvs/msc-thesis/lib/python3.6/site-packages/jax/lax/lax.py:5104: UserWarning: Explicitly requested dtype float64 requested in array is not available, and will be truncated to dtype float32. To enable more dtypes, set the jax_enable_x64 configuration option or the JAX_ENABLE_X64 shell environment variable. See https://github.com/google/jax#current-gotchas for more.\n",
      "  warnings.warn(msg.format(dtype, fun_name , truncated_dtype))\n"
     ]
    }
   ],
   "source": [
    "n=100\n",
    "d=1\n",
    "stepsize = 1\n",
    "L = 300\n",
    "grid_length = 50\n",
    "\n",
    "dist = metrics.Gaussian(0, 6)\n",
    "svgd_fix = SVGD(dist, n_iter_max=L, adaptive_kernel=False, particle_shape=(n, d))\n",
    "# svgd_ada = SVGD(dist, n_iter_max=L, adaptive_kernel=True)\n",
    "\n",
    "# bandwidth_grid = np.linspace(0.4, 7, num=grid_length)\n",
    "bandwidth_grid = np.logspace(-2, 3, num=grid_length, base=10)"
   ]
  },
  {
   "cell_type": "code",
   "execution_count": 3,
   "metadata": {},
   "outputs": [],
   "source": [
    "def sweep(rkey, grid):\n",
    "    \"\"\"Sweep a grid of bandwidth values and output corresponding metrics.\"\"\"\n",
    "    sweep_results = []\n",
    "    for h in grid:\n",
    "        x0 = svgd_fix.initialize(rkey)\n",
    "        xout, _ = svgd_fix.svgd(x0, stepsize, h, L)\n",
    "        metrics = dist.compute_metrics(xout)\n",
    "        sweep_results.append(metrics)\n",
    "    return {k: np.stack([metrics[k] for metrics in sweep_results], axis=0) for k in dist.metric_names.keys()}\n",
    "    # entries in dict have shapes (k, 3, d) and (k, 3)"
   ]
  },
  {
   "cell_type": "code",
   "execution_count": null,
   "metadata": {},
   "outputs": [
    {
     "name": "stderr",
     "output_type": "stream",
     "text": [
      "  0%|          | 0/30 [00:00<?, ?it/s]"
     ]
    },
    {
     "name": "stdout",
     "output_type": "stream",
     "text": [
      "JIT COMPILING svgd...\n",
      "...done compiling svgd after 0.6939234733581543 seconds.\n"
     ]
    },
    {
     "name": "stderr",
     "output_type": "stream",
     "text": [
      " 80%|████████  | 24/30 [00:48<00:09,  1.62s/it]"
     ]
    }
   ],
   "source": [
    "m = 30\n",
    "metrics_sweep = []\n",
    "sweeps = []\n",
    "for i in tqdm(range(m)):\n",
    "#     print(f\"Sweep {i+1} of {m}\")\n",
    "    svgd_fix.newkey()\n",
    "    s = sweep(svgd_fix.rkey, bandwidth_grid)\n",
    "    sweeps.append(s)"
   ]
  },
  {
   "cell_type": "code",
   "execution_count": null,
   "metadata": {},
   "outputs": [],
   "source": [
    "sweeps = dict_mean(sweeps)"
   ]
  },
  {
   "cell_type": "markdown",
   "metadata": {},
   "source": [
    "Now get same metrics for true random sample:"
   ]
  },
  {
   "cell_type": "code",
   "execution_count": null,
   "metadata": {},
   "outputs": [],
   "source": [
    "m = 100"
   ]
  },
  {
   "cell_type": "code",
   "execution_count": null,
   "metadata": {},
   "outputs": [],
   "source": [
    "true = []\n",
    "for _ in tqdm(range(m)):\n",
    "    sample = dist.sample(shape=(n,d))\n",
    "    true_metrics = dist.compute_metrics(sample)\n",
    "    true.append(true_metrics)\n",
    "true = dict_mean(true)"
   ]
  },
  {
   "cell_type": "code",
   "execution_count": null,
   "metadata": {},
   "outputs": [],
   "source": [
    "for k, v in sweeps.items():\n",
    "    plot.plotobject(np.rollaxis(v, axis=1), xaxis=bandwidth_grid, titles=dist.metric_names[k], \n",
    "                    xscale=\"log\", xlabel=\"bandwidth\", axhlines=true[k])"
   ]
  },
  {
   "cell_type": "markdown",
   "metadata": {},
   "source": [
    "# Two-dimensional bandwidth sweep"
   ]
  },
  {
   "cell_type": "markdown",
   "metadata": {},
   "source": [
    "For bandwidth values $(h, h)$ with $h$ in the range $10-100$ we get very bad results: MSE and KSD values larger than $10^3$."
   ]
  },
  {
   "cell_type": "code",
   "execution_count": null,
   "metadata": {},
   "outputs": [],
   "source": [
    "n=100\n",
    "d=2\n",
    "stepsize = 0.01\n",
    "L = 100\n",
    "grid_length = 25"
   ]
  },
  {
   "cell_type": "code",
   "execution_count": null,
   "metadata": {},
   "outputs": [],
   "source": [
    "mean = np.array([1,2])\n",
    "cov = np.array([[1,1], [1, 2]])\n",
    "dist = metrics.Gaussian(mean, cov)\n",
    "\n",
    "svgd_fix = SVGD(dist, n_iter_max=L, adaptive_kernel=False)\n",
    "svgd_ada = SVGD(dist, n_iter_max=L, adaptive_kernel=True)"
   ]
  },
  {
   "cell_type": "code",
   "execution_count": null,
   "metadata": {},
   "outputs": [],
   "source": [
    "# bandwidth_grid = np.logspace(-3, 5, num=grid_length)\n",
    "# bandwidth_grid = np.logspace(-0.5, 2, num=grid_length)\n",
    "bandwidth_grid = np.linspace(0.3, 2.5, num=grid_length)\n",
    "ksd_bandwidths = [0.5, 0.8, 1, 1.5, 2, 2.5]\n",
    "metric_names = [\"MSE X\"] +  [f\"KSD {h}\" for h in ksd_bandwidths]\n",
    "\n",
    "\n",
    "bandwidth_grid = np.tile(bandwidth_grid, (d, 1))\n",
    "bandwidth_grid = np.transpose(bandwidth_grid)\n",
    "bandwidth_grid.shape"
   ]
  },
  {
   "cell_type": "code",
   "execution_count": null,
   "metadata": {},
   "outputs": [],
   "source": [
    "m = 10\n",
    "metrics_sweep = []\n",
    "sweeps = []\n",
    "for i in range(m):\n",
    "    svgd_fix.newkey()\n",
    "    s = sweep(svgd_fix.rkey, bandwidth_grid)\n",
    "    sweeps.append(s)"
   ]
  },
  {
   "cell_type": "code",
   "execution_count": null,
   "metadata": {},
   "outputs": [],
   "source": [
    "sweeps = dict_mean(sweeps)"
   ]
  },
  {
   "cell_type": "markdown",
   "metadata": {},
   "source": [
    "Then get the same metrics for the adaptive bandwidth:"
   ]
  },
  {
   "cell_type": "code",
   "execution_count": null,
   "metadata": {},
   "outputs": [],
   "source": [
    "adas = []\n",
    "for _ in range(m):\n",
    "    x0 = svgd_ada.initialize(n=n)\n",
    "    xout, _ = svgd_ada.svgd(x0, stepsize, 0, L)\n",
    "    metrics_ada = dist.compute_metrics(xout)\n",
    "    adas.append(metrics_ada)\n",
    "adas = dict_mean(adas)"
   ]
  },
  {
   "cell_type": "markdown",
   "metadata": {},
   "source": [
    "Now get same metrics for true random sample:"
   ]
  },
  {
   "cell_type": "code",
   "execution_count": null,
   "metadata": {},
   "outputs": [],
   "source": [
    "m = 100"
   ]
  },
  {
   "cell_type": "code",
   "execution_count": null,
   "metadata": {},
   "outputs": [],
   "source": [
    "dist.d"
   ]
  },
  {
   "cell_type": "code",
   "execution_count": null,
   "metadata": {},
   "outputs": [],
   "source": [
    "true = []\n",
    "for _ in range(m):\n",
    "    sample = dist.sample(shape=(n,))\n",
    "    true_metrics = dist.compute_metrics(sample)\n",
    "    true.append(true_metrics)\n",
    "true = dict_mean(true)"
   ]
  },
  {
   "cell_type": "code",
   "execution_count": null,
   "metadata": {},
   "outputs": [],
   "source": [
    "sweeps = dict_mean(sweeps)"
   ]
  },
  {
   "cell_type": "code",
   "execution_count": null,
   "metadata": {},
   "outputs": [],
   "source": [
    "for k, v in sweeps.items():\n",
    "    v = np.rollaxis(v, axis=1)\n",
    "    colors = plt.rcParams['axes.prop_cycle'].by_key()['color']\n",
    "    sq = int(np.sqrt(len(v)))\n",
    "    w = sq + 3\n",
    "    h = sq\n",
    "    plt.figure(figsize = [6*w, 2.5*h + 0.2*(h-1)]) # 0.2 = hspace\n",
    "    \n",
    "    titles = dist.metric_names[k]\n",
    "    hlines = true[k]\n",
    "    for i, v in enumerate(v):\n",
    "        print(\"v:\", v.shape)\n",
    "        plt.subplot(f\"{h}{w}{i+1}\")\n",
    "        plt.plot(bandwidth_grid, v, \"-\", color=colors[i])\n",
    "        plt.title(titles[i])\n",
    "\n",
    "        plt.yscale(\"linear\")\n",
    "        plt.xscale(\"linear\")\n",
    "        \n",
    "        plt.xlabel(\"step\")\n",
    "        print(hlines.shape)\n",
    "        if hlines[i].ndim == 0:\n",
    "            plt.axhline(y=hlines[i], color=\"y\")\n",
    "        else:\n",
    "            for val in hlines[i]:\n",
    "                plt.axhline(y=val, color=\"y\")\n"
   ]
  },
  {
   "cell_type": "markdown",
   "metadata": {},
   "source": [
    "## same thing for larger bandwidths"
   ]
  },
  {
   "cell_type": "code",
   "execution_count": null,
   "metadata": {},
   "outputs": [],
   "source": [
    "bandwidth_grid = np.linspace(2.5, 5, num=grid_length)\n",
    "ksd_bandwidths = [2.5, 3, 3.5, 4, 4.5, 5]\n",
    "metric_names = [\"MSE X\"] +  [f\"KSD {h}\" for h in ksd_bandwidths]\n",
    "\n",
    "\n",
    "bandwidth_grid = np.tile(bandwidth_grid, (d, 1))\n",
    "bandwidth_grid = np.transpose(bandwidth_grid)\n",
    "\n",
    "m = 5\n",
    "metrics_sweep = []\n",
    "sweeps = []\n",
    "for i in range(m):\n",
    "#     print(f\"Sweep {i+1} of {m}\")\n",
    "    svgd_fix.newkey()\n",
    "    s = sweep(svgd_fix.rkey, bandwidth_grid, ksd_bandwidths)\n",
    "    sweeps.append(s)\n",
    "sweeps = np.array(sweeps)\n",
    "sweeps = np.mean(sweeps, axis=0)\n",
    "sweeps = np.transpose(sweeps) # (num_metrics, bandwidth_length)\n",
    "assert not np.any(np.isnan(sweeps))\n",
    "sweeps1 = sweeps\n",
    "\n",
    "adas = []\n",
    "for _ in tqdm(range(m)):\n",
    "    svgd_ada.newkey()\n",
    "    xout, _ = svgd_ada.svgd(svgd_ada.rkey, stepsize, 0, L)\n",
    "    metrics_ada = get_metrics(xout, logp, ksd_bandwidths)\n",
    "    adas.append(metrics_ada)\n",
    "adas = np.array(adas)\n",
    "metrics_ada = np.mean(adas, axis=0)\n",
    "metrics_ada1 = metrics_ada"
   ]
  },
  {
   "cell_type": "code",
   "execution_count": null,
   "metadata": {},
   "outputs": [],
   "source": [
    "plt.figure(1, figsize=[16.0, 10.0])\n",
    "plt.subplots_adjust(hspace=0.8)\n",
    "col = plt.rcParams['axes.prop_cycle'].by_key()['color']\n",
    "l = sweeps.shape[0]\n",
    "k = l // 2\n",
    "\n",
    "for i, sw in enumerate(sweeps1):\n",
    "    plt.subplot(f\"{l-k}{k}{i+1}\")\n",
    "    plt.title(metric_names[i])\n",
    "    plt.plot(bandwidth_grid, sw, \".\", color=col[i])\n",
    "#     plt.xscale('log')\n",
    "    plt.yscale('log')\n",
    "    plt.axhline(y=float(metrics_ada1[i]), color=\"y\")"
   ]
  },
  {
   "cell_type": "markdown",
   "metadata": {},
   "source": [
    "## takeaways\n",
    "* whichever way we measure it, kernel choice has large effect on accuracy\n",
    "* the KSD measure with kernel parameter $h$ favours SVGD with same kernel parameter (it makes sense that this is the case, since SVGD minimizes the KL divergence in the space of distributions given by smooth transformations in the RKHS of the kernel with parameter $h$).\n",
    "* this means that some measures are better than others. In particular, it is likely that choosing the right kernel for use in the KSD measure is not much easier than choosing the right kernel directly.\n",
    "\n",
    "This leaves us with a few possibilities:\n",
    "1. Hope that choosing a sufficiently good kernel for KSD is in fact easier than choosing the right kernel directly\n",
    "2. Don't choose the KSD kernel parameter separately. Always use the same kernel for SVGD and for computing the loss.\n",
    "3. Choose a different loss (e.g. find a way to approximate the KL divergence)."
   ]
  },
  {
   "cell_type": "markdown",
   "metadata": {},
   "source": [
    "## Random grid search"
   ]
  },
  {
   "cell_type": "code",
   "execution_count": null,
   "metadata": {},
   "outputs": [],
   "source": [
    "grid_length = 100\n",
    "rkey = random.PRNGKey(123)\n",
    "scale = \"linear\"\n",
    "if scale == \"log\":\n",
    "    bandwidth_grid = random.uniform(rkey, shape=(grid_length, d)) * 2.5 - 0.5 #* 25 - 10\n",
    "    bandwidth_grid = 10**bandwidth_grid\n",
    "else:\n",
    "    mi, ma = [0.3, 2.5]\n",
    "    bandwidth_grid = random.uniform(rkey, shape=(grid_length, d)) * (ma - mi) + mi"
   ]
  },
  {
   "cell_type": "code",
   "execution_count": null,
   "metadata": {},
   "outputs": [],
   "source": [
    "m = 5\n",
    "metrics_sweep = []\n",
    "sweeps = []\n",
    "for i in range(m):\n",
    "#     print(f\"Sweep {i+1} of {m}\")\n",
    "    svgd_fix.newkey()\n",
    "    s = sweep(svgd_fix.rkey, bandwidth_grid, ksd_bandwidths)\n",
    "    sweeps.append(s)\n",
    "sweeps = np.array(sweeps)\n",
    "sweeps = np.mean(sweeps, axis=0)\n",
    "sweeps = np.transpose(sweeps) # (num_metrics, bandwidth_length)"
   ]
  },
  {
   "cell_type": "markdown",
   "metadata": {},
   "source": [
    "### Scatterplot"
   ]
  },
  {
   "cell_type": "code",
   "execution_count": null,
   "metadata": {},
   "outputs": [],
   "source": [
    "def scatter(grid, data):\n",
    "#     plt.figure(1, figsize=[8, 8])\n",
    "    x, y = grid.transpose()\n",
    "    colors = data\n",
    "    colors = np.log(colors)\n",
    "\n",
    "    plt.scatter(x, y, s=100, c=colors)\n",
    "    plt.xscale(scale)\n",
    "    plt.yscale(scale)\n",
    "    plt.xlabel(\"h1\")\n",
    "    plt.ylabel(\"h2\")\n",
    "\n",
    "    for i, v in enumerate(data):\n",
    "        if i % 5 == 0:\n",
    "            plt.annotate(v, (x[i], y[i]))"
   ]
  },
  {
   "cell_type": "code",
   "execution_count": null,
   "metadata": {},
   "outputs": [],
   "source": [
    "plt.figure(1, figsize=[16.0, 24.0])\n",
    "# plt.subplots_adjust(hspace=0.8)\n",
    "l = sweeps.shape[0]\n",
    "k = l // 2\n",
    "\n",
    "for i, sw in enumerate(sweeps):\n",
    "    plt.subplot(f\"{l-k}{k}{i+1}\")\n",
    "    plt.title(metric_names[i])\n",
    "    scatter(bandwidth_grid, sweeps[i])\n",
    "# scatter(bandwidth_grid, sweeps[2])\n",
    "# plt.title(metric_names[2])"
   ]
  }
 ],
 "metadata": {
  "kernelspec": {
   "display_name": "msc-thesis",
   "language": "python",
   "name": "msc-thesis"
  },
  "language_info": {
   "codemirror_mode": {
    "name": "ipython",
    "version": 3
   },
   "file_extension": ".py",
   "mimetype": "text/x-python",
   "name": "python",
   "nbconvert_exporter": "python",
   "pygments_lexer": "ipython3",
   "version": "3.6.9"
  }
 },
 "nbformat": 4,
 "nbformat_minor": 4
}
