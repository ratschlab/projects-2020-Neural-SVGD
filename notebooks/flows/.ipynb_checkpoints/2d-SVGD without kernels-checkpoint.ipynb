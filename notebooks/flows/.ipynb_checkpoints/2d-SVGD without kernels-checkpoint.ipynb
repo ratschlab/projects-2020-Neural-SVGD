{
 "cells": [
  {
   "cell_type": "markdown",
   "metadata": {},
   "source": [
    "# SVGD without kernels"
   ]
  },
  {
   "cell_type": "code",
   "execution_count": 1,
   "metadata": {},
   "outputs": [
    {
     "name": "stderr",
     "output_type": "stream",
     "text": [
      "/home/lauro/.virtualenvs/msc-thesis/lib/python3.8/site-packages/jax/lib/xla_bridge.py:130: UserWarning: No GPU/TPU found, falling back to CPU.\n",
      "  warnings.warn('No GPU/TPU found, falling back to CPU.')\n"
     ]
    }
   ],
   "source": [
    "%load_ext autoreload\n",
    "from jax import config\n",
    "config.update(\"jax_debug_nans\", True)\n",
    "# config.update(\"jax_disable_jit\", True)\n",
    "\n",
    "import sys\n",
    "import os\n",
    "sys.path.append(\"/home/lauro/code/msc-thesis/svgd/kernel_learning/\")\n",
    "import json_tricks as json\n",
    "import copy\n",
    "from functools import partial\n",
    "\n",
    "from tqdm import tqdm\n",
    "import jax.numpy as np\n",
    "from jax import grad, jit, vmap, random, lax, jacfwd, value_and_grad\n",
    "from jax import lax\n",
    "from jax.ops import index_update, index\n",
    "import matplotlib.pyplot as plt\n",
    "import numpy as onp\n",
    "import jax\n",
    "import pandas as pd\n",
    "import haiku as hk\n",
    "from jax.experimental import optimizers\n",
    "\n",
    "import config\n",
    "\n",
    "import utils\n",
    "import metrics\n",
    "import time\n",
    "import plot\n",
    "import stein\n",
    "import kernels\n",
    "import distributions\n",
    "import nets\n",
    "import models\n",
    "import flows\n",
    "\n",
    "from jax.experimental import optimizers\n",
    "\n",
    "key = random.PRNGKey(0)"
   ]
  },
  {
   "cell_type": "markdown",
   "metadata": {},
   "source": [
    "### Main"
   ]
  },
  {
   "cell_type": "code",
   "execution_count": 2,
   "metadata": {},
   "outputs": [
    {
     "name": "stderr",
     "output_type": "stream",
     "text": [
      "/home/lauro/code/msc-thesis/svgd/kernel_learning/plot.py:200: MatplotlibDeprecationWarning: shading='flat' when X and Y have the same dimensions as C is deprecated since 3.3.  Either specify the corners of the quadrilaterals with X and Y, or pass shading='auto', 'nearest' or 'gouraud', or set rcParams['pcolor.shading'].  This will become an error two minor releases later.\n",
      "  return ax.pcolormesh(*meshgrid, cmap=cmap, **kwargs)\n"
     ]
    },
    {
     "data": {
      "image/png": "[encoded data removed]",
      "text/plain": [
       "<Figure size 432x288 with 1 Axes>"
      ]
     },
     "metadata": {
      "needs_background": "light"
     },
     "output_type": "display_data"
    }
   ],
   "source": [
    "%matplotlib inline\n",
    "setup = distributions.mix_of_gauss\n",
    "target, proposal = setup.get()\n",
    "# target = distributions.Banana([0, 0], [4, 1])\n",
    "# proposal = distributions.Gaussian([-5, -5], 1)\n",
    "# setup = distributions.Setup(target, proposal)\n",
    "setup.plot(lims=(-15, 15))"
   ]
  },
  {
   "cell_type": "code",
   "execution_count": 3,
   "metadata": {},
   "outputs": [],
   "source": [
    "%autoreload"
   ]
  },
  {
   "cell_type": "code",
   "execution_count": null,
   "metadata": {},
   "outputs": [
    {
     "name": "stderr",
     "output_type": "stream",
     "text": [
      "  9%|▉         | 47/500 [00:08<00:31, 14.34it/s]"
     ]
    }
   ],
   "source": [
    "n_steps = 500\n",
    "n_particles = 120\n",
    "noise = 1e-2\n",
    "particle_lr = 1e-2\n",
    "learner_lr = 1e-3\n",
    "\n",
    "key, subkey = random.split(key)\n",
    "neural_svgd_learner, neural_svgd_particles, err = flows.neural_svgd_flow(\n",
    "    subkey, setup, n_steps=n_steps, sizes=[16, 16, 2], particle_lr=particle_lr, noise_level=noise, n_particles=n_particles, patience=10)\n",
    "kernel_gradient, svgd_particles, err = flows.svgd_flow(subkey, setup, scaled=True, n_steps=n_steps, particle_lr=particle_lr, noise_level=noise, n_particles=n_particles)"
   ]
  },
  {
   "cell_type": "markdown",
   "metadata": {},
   "source": [
    "## Plot"
   ]
  },
  {
   "cell_type": "code",
   "execution_count": null,
   "metadata": {},
   "outputs": [],
   "source": [
    "%matplotlib inline\n",
    "plt.subplots(figsize=[20, 6])\n",
    "plt.plot(neural_svgd_learner.rundata[\"training_loss\"], \"--.\", label=\"Trainging Loss\")\n",
    "plt.plot(neural_svgd_learner.rundata[\"validation_loss\"], \"--.\", label=\"Validation Loss\")\n",
    "plt.legend()"
   ]
  },
  {
   "cell_type": "code",
   "execution_count": null,
   "metadata": {},
   "outputs": [],
   "source": [
    "neural_trajectories = np.asarray(neural_svgd_particles.rundata[\"particles\"])\n",
    "svgd_trajectories = np.asarray(svgd_particles.rundata[\"particles\"])"
   ]
  },
  {
   "cell_type": "code",
   "execution_count": null,
   "metadata": {},
   "outputs": [],
   "source": [
    "sgld_trajectories, svgd_trajectories = [traj[:, p.group_idx[0], :] for traj, p in zip([sgld_trajectories, svgd_trajectories], [particles, svgd_particles])]"
   ]
  },
  {
   "cell_type": "code",
   "execution_count": null,
   "metadata": {},
   "outputs": [],
   "source": [
    "%matplotlib widget\n",
    "fig, axs = plt.subplots(1, 2, figsize=[14, 6])\n",
    "axs=axs.flatten()\n",
    "lim=(-2, 2)\n",
    "for ax in axs:\n",
    "    ax.set(xlim=lim, ylim=lim)\n",
    "\n",
    "animations = []\n",
    "for ax, trajectories, title in zip(axs, [neural_trajectories, svgd_trajectories], [\"Neural\", \"Kernel\"]):\n",
    "    ax.set_title(title)\n",
    "    plot.plot_fun_2d(target.pdf, lims=lim, ax=ax)\n",
    "    animations.append(plot.animate_array(trajectories, fig, ax))"
   ]
  },
  {
   "cell_type": "code",
   "execution_count": null,
   "metadata": {},
   "outputs": [],
   "source": [
    "%matplotlib inline\n",
    "fig, axs = plt.subplots(1, 3, figsize=[25, 8])\n",
    "axs = axs.flatten()\n",
    "for ax in axs:\n",
    "    ax.set(xlim=lim, ylim=lim)\n",
    "ax1 = neural_svgd_particles.plot_final(ax=axs[0], target=target, cmap=\"Greens\")\n",
    "ax1.set_title(\"Neural SVGD\")\n",
    "\n",
    "ax2 = svgd_particles.plot_final(ax=axs[1], target=target, cmap=\"Greens\")\n",
    "ax2.set_title(\"SVGD\")\n",
    "\n",
    "ax = axs[2]\n",
    "plot.plot_fun_2d(target.pdf, lims=(-13, 13), ax=ax, cmap=\"Greens\")\n",
    "plot.scatter(target.sample(300), ax=ax, color=\"tab:orange\")\n",
    "ax.set_title(\"True Samples\")"
   ]
  },
  {
   "cell_type": "code",
   "execution_count": null,
   "metadata": {},
   "outputs": [],
   "source": [
    "%matplotlib inline\n",
    "fig, axs = plt.subplots(2, 2, figsize=[20, 10])\n",
    "neural_svgd_particles.plot_mean_and_std(target, axs=axs[0])\n",
    "svgd_particles.plot_mean_and_std(target, axs=axs[1])"
   ]
  },
  {
   "cell_type": "code",
   "execution_count": null,
   "metadata": {},
   "outputs": [],
   "source": []
  },
  {
   "cell_type": "code",
   "execution_count": null,
   "metadata": {},
   "outputs": [],
   "source": []
  }
 ],
 "metadata": {
  "kernelspec": {
   "display_name": "msc-thesis",
   "language": "python",
   "name": "msc-thesis"
  },
  "language_info": {
   "codemirror_mode": {
    "name": "ipython",
    "version": 3
   },
   "file_extension": ".py",
   "mimetype": "text/x-python",
   "name": "python",
   "nbconvert_exporter": "python",
   "pygments_lexer": "ipython3",
   "version": "3.8.2"
  }
 },
 "nbformat": 4,
 "nbformat_minor": 4
}
