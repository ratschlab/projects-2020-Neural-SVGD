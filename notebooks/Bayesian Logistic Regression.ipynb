{
 "cells": [
  {
   "cell_type": "code",
   "execution_count": 453,
   "metadata": {},
   "outputs": [
    {
     "name": "stdout",
     "output_type": "stream",
     "text": [
      "The autoreload extension is already loaded. To reload it, use:\n",
      "  %reload_ext autoreload\n"
     ]
    }
   ],
   "source": [
    "%load_ext autoreload\n",
    "import sys\n",
    "import os\n",
    "sys.path.append(\"/home/lauro/code/msc-thesis/svgd/kernel_learning/\")\n",
    "\n",
    "import jax.numpy as jnp\n",
    "from jax import grad, jit, vmap, random, lax, jacfwd, value_and_grad\n",
    "from jax.ops import index_update, index\n",
    "import matplotlib.pyplot as plt\n",
    "import matplotlib\n",
    "import numpy as onp\n",
    "import jax\n",
    "import pandas as pd\n",
    "    \n",
    "import utils\n",
    "import plot\n",
    "import distributions\n",
    "import models\n",
    "import flows\n",
    "    \n",
    "key = random.PRNGKey(0)"
   ]
  },
  {
   "cell_type": "code",
   "execution_count": 454,
   "metadata": {},
   "outputs": [],
   "source": [
    "from functools import partial\n",
    "import kernels"
   ]
  },
  {
   "cell_type": "code",
   "execution_count": 455,
   "metadata": {},
   "outputs": [],
   "source": [
    "import matplotlib.pyplot as plt\n",
    "import numpy as np\n",
    "import seaborn as sns\n",
    "from sklearn import datasets\n",
    "sns.set(style='white')"
   ]
  },
  {
   "cell_type": "code",
   "execution_count": 456,
   "metadata": {},
   "outputs": [],
   "source": [
    "from tensorflow_probability.substrates import jax as tfp\n",
    "tfd = tfp.distributions\n",
    "tfb = tfp.bijectors\n",
    "tfpk = tfp.math.psd_kernels"
   ]
  },
  {
   "cell_type": "markdown",
   "metadata": {
    "colab_type": "text",
    "id": "jQ-FGn2hje8b"
   },
   "source": [
    "## Demo: Bayesian logistic regression"
   ]
  },
  {
   "cell_type": "markdown",
   "metadata": {
    "colab_type": "text",
    "id": "-xJm7Q5YkD_3"
   },
   "source": [
    "To demonstrate what we can do with the JAX backend, we'll implement Bayesian logistic regression applied to the classic Iris dataset.\n",
    "\n",
    "\n",
    "First, let's import the Iris dataset and extract some metadata.\n",
    "\n"
   ]
  },
  {
   "cell_type": "code",
   "execution_count": 457,
   "metadata": {
    "colab": {},
    "colab_type": "code",
    "id": "0HHsy5lsf_S7"
   },
   "outputs": [],
   "source": [
    "iris = datasets.load_iris()\n",
    "features, labels = iris['data'], iris['target']\n",
    "\n",
    "num_features = features.shape[-1]\n",
    "num_classes = len(iris.target_names)"
   ]
  },
  {
   "cell_type": "markdown",
   "metadata": {
    "colab_type": "text",
    "id": "9pXr2atnk8xA"
   },
   "source": [
    "We can define the model using `tfd.JointDistributionCoroutine`. We'll put standard normal priors on both the weights and the bias term then write a `target_log_prob` function that pins the sampled labels to the data."
   ]
  },
  {
   "cell_type": "code",
   "execution_count": 458,
   "metadata": {
    "colab": {},
    "colab_type": "code",
    "id": "0Ri7RxnekWUr"
   },
   "outputs": [],
   "source": [
    "Root = tfd.JointDistributionCoroutine.Root\n",
    "def model():\n",
    "    w = yield Root(tfd.Sample(tfd.Normal(0., 1.),\n",
    "                            sample_shape=(num_features, num_classes), name=\"w\"))\n",
    "    b = yield Root(tfd.Sample(tfd.Normal(0., 1.), sample_shape=(num_classes,), name=\"b\"))\n",
    "    logits = jnp.dot(features, w) + b\n",
    "    _ = yield tfd.Independent(tfd.Categorical(logits=logits), reinterpreted_batch_ndims=1, name=\"labels\") # this is why log_prob(sample) doesnt work: the batch dims are switched\n",
    "\n",
    "\n",
    "dist = tfd.JointDistributionCoroutine(model)\n",
    "def target_log_prob(*params):\n",
    "    return dist.log_prob(params + (labels,))"
   ]
  },
  {
   "cell_type": "code",
   "execution_count": 459,
   "metadata": {},
   "outputs": [
    {
     "data": {
      "text/plain": [
       "DeviceArray(-595.33276, dtype=float32)"
      ]
     },
     "execution_count": 459,
     "metadata": {},
     "output_type": "execute_result"
    }
   ],
   "source": [
    "# for intuition on how the model works:\n",
    "key, subkey = random.split(key)\n",
    "w = random.normal(subkey, shape=(num_features, num_classes))\n",
    "key, subkey = random.split(key)\n",
    "b = random.normal(subkey, shape=(num_classes, ))\n",
    "\n",
    "dist.log_prob((w, b, labels))"
   ]
  },
  {
   "cell_type": "markdown",
   "metadata": {
    "colab_type": "text",
    "id": "A-U0hmnIlQM9"
   },
   "source": [
    "We sample from `dist` to produce an initial state for MCMC. We can then define a function that takes in a random key and an initial state, and produces 500 samples from a No-U-Turn-Sampler (NUTS). Note that we can use JAX transformations like `jit` to compile our NUTS sampler using XLA."
   ]
  },
  {
   "cell_type": "code",
   "execution_count": 460,
   "metadata": {
    "colab": {
     "base_uri": "https://localhost:8080/",
     "height": 285
    },
    "colab_type": "code",
    "id": "PBYkURyakn3c",
    "outputId": "6fc0cbf5-b11f-4183-f076-c0665972ee64"
   },
   "outputs": [
    {
     "data": {
      "image/png": "[encoded data removed]",
      "text/plain": [
       "<Figure size 432x288 with 1 Axes>"
      ]
     },
     "metadata": {},
     "output_type": "display_data"
    }
   ],
   "source": [
    "init_key, sample_key = random.split(random.PRNGKey(0))\n",
    "init_params = tuple(dist.sample(seed=init_key)[:-1])\n",
    "\n",
    "@jit\n",
    "def run_nuts_chain(key, state):\n",
    "    kernel = tfp.mcmc.NoUTurnSampler(target_log_prob, 1e-3)\n",
    "    return tfp.mcmc.sample_chain(500,\n",
    "      current_state=state,\n",
    "      kernel=kernel,\n",
    "      trace_fn=lambda _, results: results.target_log_prob,\n",
    "      num_burnin_steps=0, # CHANGED\n",
    "      seed=key)\n",
    "\n",
    "states, log_probs = run_nuts_chain(sample_key, init_params)\n",
    "plt.figure()\n",
    "plt.plot(log_probs)\n",
    "plt.ylabel('Target Log Prob')\n",
    "plt.xlabel('Iterations of NUTS')\n",
    "plt.show()"
   ]
  },
  {
   "cell_type": "markdown",
   "metadata": {
    "colab_type": "text",
    "id": "TL-KmNG8molC"
   },
   "source": [
    "Let's use our samples to perform Bayesian model averaging (BMA) by averaging the predicted probabilies of each set of weights.\n",
    "\n",
    "First let's write a function that for a given set of parameters will produce the probabilities over each class. We can use `dist.sample_distributions` to obtain the final distribution in the model."
   ]
  },
  {
   "cell_type": "code",
   "execution_count": 461,
   "metadata": {
    "colab": {},
    "colab_type": "code",
    "id": "sRkYo3z1lox5"
   },
   "outputs": [],
   "source": [
    "def classifier_probs(params):\n",
    "    dists, _ = dist.sample_distributions(seed=random.PRNGKey(0),\n",
    "                                       value=params + (None,))\n",
    "    return dists[-1].distribution.probs_parameter()"
   ]
  },
  {
   "cell_type": "markdown",
   "metadata": {
    "colab_type": "text",
    "id": "EcaE23RSnHP3"
   },
   "source": [
    "We can `vmap(classifier_probs)` over the set of samples to get the predicted class probabilities for each of our samples. We then compute the average accuracy across each sample, and the accuracy from Bayesian model averaging."
   ]
  },
  {
   "cell_type": "code",
   "execution_count": 462,
   "metadata": {
    "colab": {
     "base_uri": "https://localhost:8080/",
     "height": 51
    },
    "colab_type": "code",
    "id": "dS01h9X3nBzh",
    "outputId": "320c6199-c773-4fac-e7ac-9af9ba858eb0"
   },
   "outputs": [
    {
     "name": "stdout",
     "output_type": "stream",
     "text": [
      "Average accuracy: 0.9637333\n",
      "BMA accuracy: 0.9866667\n"
     ]
    }
   ],
   "source": [
    "all_probs = jit(vmap(classifier_probs))(states)\n",
    "print('Average accuracy:', jnp.mean(all_probs.argmax(axis=-1) == labels))\n",
    "print('BMA accuracy:', jnp.mean(all_probs.mean(axis=0).argmax(axis=-1) == labels))"
   ]
  },
  {
   "cell_type": "markdown",
   "metadata": {
    "colab_type": "text",
    "id": "C3wK_Yfcngz-"
   },
   "source": [
    "Looks like BMA reduces our error rate by almost a third!"
   ]
  },
  {
   "cell_type": "markdown",
   "metadata": {},
   "source": [
    "# Same thing with Langevin dynamics"
   ]
  },
  {
   "cell_type": "code",
   "execution_count": 463,
   "metadata": {},
   "outputs": [],
   "source": [
    "kernel = tfp.mcmc.UncalibratedLangevin(target_log_prob, 1e-3)"
   ]
  },
  {
   "cell_type": "code",
   "execution_count": 464,
   "metadata": {},
   "outputs": [
    {
     "name": "stderr",
     "output_type": "stream",
     "text": [
      "/home/lauro/.virtualenvs/msc-thesis/lib/python3.8/site-packages/tensorflow_probability/substrates/jax/mcmc/sample.py:327: UserWarning: supplied `TransitionKernel` is not calibrated. Markov chain may not converge to intended target distribution.\n",
      "  warnings.warn('supplied `TransitionKernel` is not calibrated. Markov '\n"
     ]
    },
    {
     "data": {
      "image/png": "[encoded data removed]",
      "text/plain": [
       "<Figure size 432x288 with 1 Axes>"
      ]
     },
     "metadata": {},
     "output_type": "display_data"
    }
   ],
   "source": [
    "@jit\n",
    "def run_lmc_chain(key, state):\n",
    "    kernel = tfp.mcmc.UncalibratedLangevin(target_log_prob, 1e-3)\n",
    "    return tfp.mcmc.sample_chain(500,\n",
    "      current_state=state,\n",
    "      kernel=kernel,\n",
    "      trace_fn=lambda _, results: results.target_log_prob,\n",
    "      num_burnin_steps=0, # CHANGED\n",
    "      seed=key)\n",
    "\n",
    "states, log_probs = run_lmc_chain(sample_key, init_params)\n",
    "plt.figure()\n",
    "plt.plot(log_probs)\n",
    "plt.ylabel('Target Log Prob')\n",
    "plt.xlabel('Iterations of LMC')\n",
    "plt.show()"
   ]
  },
  {
   "cell_type": "markdown",
   "metadata": {},
   "source": [
    "# Use `vmap` to run multiple chains"
   ]
  },
  {
   "cell_type": "code",
   "execution_count": 488,
   "metadata": {},
   "outputs": [],
   "source": [
    "n = 3\n",
    "keys = random.split(key, n)\n",
    "init_batch = dist.sample(n, seed=key)[:-1]\n",
    "\n",
    "# NUTS\n",
    "nuts_states, nuts_logp = vmap(run_nuts_chain)(keys, init_batch)\n",
    "\n",
    "# LMC\n",
    "lmc_states, lmc_logp = vmap(run_lmc_chain)(keys, init_batch)"
   ]
  },
  {
   "cell_type": "code",
   "execution_count": 489,
   "metadata": {},
   "outputs": [
    {
     "data": {
      "text/plain": [
       "<matplotlib.legend.Legend at 0x7efde1a53e50>"
      ]
     },
     "execution_count": 489,
     "metadata": {},
     "output_type": "execute_result"
    },
    {
     "data": {
      "image/png": "[encoded data removed]",
      "text/plain": [
       "<Figure size 432x288 with 1 Axes>"
      ]
     },
     "metadata": {},
     "output_type": "display_data"
    }
   ],
   "source": [
    "plt.plot(np.rollaxis(nuts_logp, 1), color=\"green\", label=\"NUTS\")\n",
    "plt.plot(np.rollaxis(lmc_logp, 1), color=\"red\", label=\"LMC\")\n",
    "plt.legend()"
   ]
  },
  {
   "cell_type": "markdown",
   "metadata": {},
   "source": [
    "## Transform shapes into something my api can use"
   ]
  },
  {
   "cell_type": "code",
   "execution_count": 467,
   "metadata": {},
   "outputs": [],
   "source": [
    "def logp(params_flat):\n",
    "    return target_log_prob(*unravel(params_flat))\n",
    "\n",
    "def ravel(params):\n",
    "    flat, unravel = jax.flatten_util.ravel_pytree(params)\n",
    "    return flat\n",
    "\n",
    "def batch_ravel(batch):\n",
    "    return vmap(ravel)(batch)\n",
    "\n",
    "def batch_unravel(batch_flat):\n",
    "    return vmap(unravel)(batch_flat)"
   ]
  },
  {
   "cell_type": "markdown",
   "metadata": {},
   "source": [
    "Works like so:"
   ]
  },
  {
   "cell_type": "code",
   "execution_count": 468,
   "metadata": {},
   "outputs": [],
   "source": [
    "params = dist.sample(seed=key)[:-1]\n",
    "params_flat, unravel = jax.flatten_util.ravel_pytree(params)\n",
    "# unravel(params_flat) == params\n",
    "\n",
    "batch = dist.sample(3, seed=key)[:-1]\n",
    "batch_flat = batch_ravel(batch)\n",
    "# batch == batch_unravel(batch_flat)"
   ]
  },
  {
   "cell_type": "code",
   "execution_count": 505,
   "metadata": {},
   "outputs": [],
   "source": [
    "def run_svgd(key, init_batch):\n",
    "    \"\"\"init_batch is a batch of initial samples / particles.\"\"\"\n",
    "    init_batch = batch_ravel(init_batch)\n",
    "    key, keya, keyb = random.split(key, 3)\n",
    "    kernel_gradient = models.KernelGradient(target_logp=logp,\n",
    "                                            key=keya)\n",
    "    gradient = partial(kernel_gradient.gradient, scaled=True) # scale to match lambda_reg\n",
    "\n",
    "    svgd_particles = models.Particles(key=keyb,\n",
    "                                      gradient=gradient,\n",
    "                                      init_samples=init_batch,\n",
    "                                      learning_rate=1e-3,\n",
    "                                      num_groups=1)\n",
    "    for _ in range(500):\n",
    "        svgd_particles.step(None)\n",
    "        \n",
    "    return batch_unravel(svgd_particles.particles.training), kernel_gradient, svgd_particles"
   ]
  },
  {
   "cell_type": "code",
   "execution_count": 487,
   "metadata": {},
   "outputs": [],
   "source": [
    "def run_lmc(key, init_batch):\n",
    "    \"\"\"init_batch is a batch of initial samples / particles.\"\"\"\n",
    "    init_batch = batch_ravel(init_batch)\n",
    "    key, keya, keyb = random.split(key, 3)\n",
    "    energy_gradient = models.KernelGradient(target_logp=logp, key=keya)\n",
    "\n",
    "    svgd_particles = models.Particles(key=keyb,\n",
    "                                      gradient=gradient,\n",
    "                                      init_samples=init_batch,\n",
    "                                      learning_rate=1e-2,\n",
    "                                      num_groups=1)\n",
    "    for _ in range(500):\n",
    "        svgd_particles.step(None)\n",
    "        \n",
    "    return batch_unravel(svgd_particles.particles.training), kernel_gradient, svgd_particles"
   ]
  },
  {
   "cell_type": "code",
   "execution_count": 506,
   "metadata": {},
   "outputs": [],
   "source": [
    "init_batch = dist.sample(100, seed=key)[:-1]\n",
    "params, gradient, particles = run_svgd(key, init_batch)"
   ]
  },
  {
   "cell_type": "code",
   "execution_count": 507,
   "metadata": {},
   "outputs": [
    {
     "data": {
      "text/plain": [
       "100"
      ]
     },
     "execution_count": 507,
     "metadata": {},
     "output_type": "execute_result"
    }
   ],
   "source": [
    "particles.n_particles"
   ]
  },
  {
   "cell_type": "code",
   "execution_count": 508,
   "metadata": {},
   "outputs": [
    {
     "data": {
      "image/png": "[encoded data removed]",
      "text/plain": [
       "<Figure size 432x288 with 1 Axes>"
      ]
     },
     "metadata": {},
     "output_type": "display_data"
    }
   ],
   "source": [
    "plt.plot(particles.rundata[\"training_logp\"]);"
   ]
  },
  {
   "cell_type": "code",
   "execution_count": 498,
   "metadata": {},
   "outputs": [
    {
     "data": {
      "text/plain": [
       "[<matplotlib.lines.Line2D at 0x7efdd3200730>,\n",
       " <matplotlib.lines.Line2D at 0x7efdd32007f0>,\n",
       " <matplotlib.lines.Line2D at 0x7efdd3200880>]"
      ]
     },
     "execution_count": 498,
     "metadata": {},
     "output_type": "execute_result"
    },
    {
     "data": {
      "image/png": "[encoded data removed]",
      "text/plain": [
       "<Figure size 432x288 with 1 Axes>"
      ]
     },
     "metadata": {},
     "output_type": "display_data"
    }
   ],
   "source": [
    "plt.plot(np.rollaxis(nuts_logp, 1), color=\"green\", label=\"NUTS\")\n",
    "plt.plot(np.rollaxis(lmc_logp, 1), color=\"red\", label=\"LMC\")"
   ]
  },
  {
   "cell_type": "code",
   "execution_count": 509,
   "metadata": {
    "colab": {
     "base_uri": "https://localhost:8080/",
     "height": 51
    },
    "colab_type": "code",
    "id": "dS01h9X3nBzh",
    "outputId": "320c6199-c773-4fac-e7ac-9af9ba858eb0"
   },
   "outputs": [
    {
     "name": "stdout",
     "output_type": "stream",
     "text": [
      "Average accuracy: 0.8760267\n",
      "BMA accuracy: 0.9266667\n"
     ]
    }
   ],
   "source": [
    "# NUTS samples\n",
    "all_probs = jit(vmap(classifier_probs))(states)\n",
    "print('Average accuracy:', jnp.mean(all_probs.argmax(axis=-1) == labels))\n",
    "print('BMA accuracy:', jnp.mean(all_probs.mean(axis=0).argmax(axis=-1) == labels))"
   ]
  },
  {
   "cell_type": "code",
   "execution_count": 510,
   "metadata": {
    "colab": {
     "base_uri": "https://localhost:8080/",
     "height": 51
    },
    "colab_type": "code",
    "id": "dS01h9X3nBzh",
    "outputId": "320c6199-c773-4fac-e7ac-9af9ba858eb0"
   },
   "outputs": [
    {
     "name": "stdout",
     "output_type": "stream",
     "text": [
      "Average accuracy: 0.96613336\n",
      "BMA accuracy: 0.98\n"
     ]
    }
   ],
   "source": [
    "# SVGD samples\n",
    "all_probs = jit(vmap(classifier_probs))(tuple(params))\n",
    "print('Average accuracy:', jnp.mean(all_probs.argmax(axis=-1) == labels))\n",
    "print('BMA accuracy:', jnp.mean(all_probs.mean(axis=0).argmax(axis=-1) == labels))"
   ]
  },
  {
   "cell_type": "code",
   "execution_count": 511,
   "metadata": {
    "colab": {
     "base_uri": "https://localhost:8080/",
     "height": 51
    },
    "colab_type": "code",
    "id": "dS01h9X3nBzh",
    "outputId": "320c6199-c773-4fac-e7ac-9af9ba858eb0"
   },
   "outputs": [
    {
     "name": "stdout",
     "output_type": "stream",
     "text": [
      "Average accuracy: 0.32633334\n",
      "BMA accuracy: 0.33333334\n"
     ]
    }
   ],
   "source": [
    "# random samples\n",
    "all_probs = jit(vmap(classifier_probs))(tuple(dist.sample(100, seed=key)[:-1]))\n",
    "print('Average accuracy:', jnp.mean(all_probs.argmax(axis=-1) == labels))\n",
    "print('BMA accuracy:', jnp.mean(all_probs.mean(axis=0).argmax(axis=-1) == labels))"
   ]
  },
  {
   "cell_type": "code",
   "execution_count": null,
   "metadata": {},
   "outputs": [],
   "source": []
  }
 ],
 "metadata": {
  "kernelspec": {
   "display_name": "msc-thesis",
   "language": "python",
   "name": "msc-thesis"
  },
  "language_info": {
   "codemirror_mode": {
    "name": "ipython",
    "version": 3
   },
   "file_extension": ".py",
   "mimetype": "text/x-python",
   "name": "python",
   "nbconvert_exporter": "python",
   "pygments_lexer": "ipython3",
   "version": "3.8.5"
  }
 },
 "nbformat": 4,
 "nbformat_minor": 4
}
