{
 "cells": [
  {
   "cell_type": "code",
   "execution_count": 2,
   "metadata": {},
   "outputs": [
    {
     "name": "stderr",
     "output_type": "stream",
     "text": [
      "WARNING:absl:No GPU/TPU found, falling back to CPU. (Set TF_CPP_MIN_LOG_LEVEL=0 and rerun for more info.)\n"
     ]
    }
   ],
   "source": [
    "%load_ext autoreload\n",
    "from jax import config\n",
    "# config.update(\"jax_debug_nans\", True)\n",
    "# config.update(\"jax_disable_jit\", True)\n",
    "\n",
    "import sys\n",
    "import os\n",
    "sys.path.append(\"/home/lauro/code/msc-thesis/main/learning_particle_gradients/\")\n",
    "from matplotlib.animation import FuncAnimation\n",
    "\n",
    "import jax.numpy as np\n",
    "from jax import grad, jit, vmap, random, lax, jacfwd, value_and_grad\n",
    "from jax.ops import index_update, index\n",
    "import matplotlib.pyplot as plt\n",
    "import matplotlib\n",
    "import numpy as onp\n",
    "import jax\n",
    "import pandas as pd\n",
    "import optax\n",
    "\n",
    "import utils\n",
    "import plot\n",
    "import distributions\n",
    "import models\n",
    "import flows\n",
    "from tqdm import tqdm\n",
    "key = random.PRNGKey(0)\n",
    "\n",
    "import kernels\n",
    "import metrics\n",
    "# import seaborn as sns\n",
    "# sns.set_theme()\n",
    "\n",
    "from tensorflow_probability.substrates import jax as tfp\n",
    "tfd = tfp.distributions\n",
    "tfb = tfp.bijectors\n",
    "tfpk = tfp.math.psd_kernels\n",
    "\n"
   ]
  },
  {
   "cell_type": "code",
   "execution_count": 3,
   "metadata": {},
   "outputs": [],
   "source": [
    "# # set up exporting\n",
    "# import matplotlib\n",
    "# matplotlib.use(\"pgf\")\n",
    "# matplotlib.rcParams.update({\n",
    "#     \"pgf.texsystem\": \"pdflatex\",\n",
    "# #     'font.family': 'serif',\n",
    "# #     'text.usetex': True,\n",
    "#     'pgf.rcfonts': False,\n",
    "#     'axes.unicode_minus': False, # avoid unicode error on saving plots with negative numbers (??)\n",
    "# })\n",
    "\n",
    "# figure_path = \"/home/lauro/documents/msc-thesis/thesis/figures/\"\n",
    "# # save figures by using plt.savefig('path/to/fig')\n",
    "# # remember that latex textwidth is 5.4in\n",
    "# # so use figsize=[5.4, 4], for example\n",
    "# printsize = [5.4, 4]"
   ]
  },
  {
   "cell_type": "markdown",
   "metadata": {},
   "source": [
    "# 2dim Funnel"
   ]
  },
  {
   "cell_type": "code",
   "execution_count": 4,
   "metadata": {},
   "outputs": [],
   "source": [
    "n_steps = 1500\n",
    "particle_lr = 1e-2\n",
    "learner_lr = 1e-4\n",
    "n_particles = 200\n",
    "PATIENCE = 0\n",
    "# PATIENCE = 15 # try this"
   ]
  },
  {
   "cell_type": "code",
   "execution_count": 5,
   "metadata": {},
   "outputs": [],
   "source": [
    "target = distributions.Funnel(2)\n",
    "proposal = distributions.Gaussian(np.array([-3, 0]), np.ones(2))\n",
    "funnel_setup = distributions.Setup(target, proposal)\n",
    "target_samples = target.sample(n_particles)"
   ]
  },
  {
   "cell_type": "code",
   "execution_count": 6,
   "metadata": {},
   "outputs": [],
   "source": [
    "true_samples = target.sample(n_particles)\n",
    "def plot_true(ax=None):\n",
    "    if ax is None:\n",
    "        ax = plt.gca()\n",
    "    lims=(-15, 15)\n",
    "    ax.set(xlim=lims, ylim=lims)\n",
    "    ax.scatter(*np.rollaxis(true_samples, 1), alpha=0.25, label=\"True\", marker=\".\", color=\"tab:blue\")"
   ]
  },
  {
   "cell_type": "code",
   "execution_count": 8,
   "metadata": {},
   "outputs": [
    {
     "ename": "TypeError",
     "evalue": "neural_svgd_flow() got an unexpected keyword argument 'bandwidth'",
     "output_type": "error",
     "traceback": [
      "\u001b[0;31m---------------------------------------------------------------------------\u001b[0m",
      "\u001b[0;31mTypeError\u001b[0m                                 Traceback (most recent call last)",
      "\u001b[0;32m<ipython-input-8-03dbf8b1f4f8>\u001b[0m in \u001b[0;36m<module>\u001b[0;34m\u001b[0m\n\u001b[1;32m      1\u001b[0m \u001b[0;31m# NGF\u001b[0m\u001b[0;34m\u001b[0m\u001b[0;34m\u001b[0m\u001b[0;34m\u001b[0m\u001b[0m\n\u001b[1;32m      2\u001b[0m \u001b[0mkey\u001b[0m\u001b[0;34m,\u001b[0m \u001b[0msubkey\u001b[0m \u001b[0;34m=\u001b[0m \u001b[0mrandom\u001b[0m\u001b[0;34m.\u001b[0m\u001b[0msplit\u001b[0m\u001b[0;34m(\u001b[0m\u001b[0mkey\u001b[0m\u001b[0;34m)\u001b[0m\u001b[0;34m\u001b[0m\u001b[0;34m\u001b[0m\u001b[0m\n\u001b[0;32m----> 3\u001b[0;31m neural_learner, neural_particles, err1 = flows.neural_svgd_flow(subkey, \n\u001b[0m\u001b[1;32m      4\u001b[0m                                                                 \u001b[0mfunnel_setup\u001b[0m\u001b[0;34m,\u001b[0m\u001b[0;34m\u001b[0m\u001b[0;34m\u001b[0m\u001b[0m\n\u001b[1;32m      5\u001b[0m                                                                 \u001b[0mn_particles\u001b[0m\u001b[0;34m=\u001b[0m\u001b[0mn_particles\u001b[0m\u001b[0;34m,\u001b[0m\u001b[0;34m\u001b[0m\u001b[0;34m\u001b[0m\u001b[0m\n",
      "\u001b[0;31mTypeError\u001b[0m: neural_svgd_flow() got an unexpected keyword argument 'bandwidth'"
     ]
    }
   ],
   "source": [
    "# NGF\n",
    "key, subkey = random.split(key)\n",
    "neural_learner, neural_particles, err1 = flows.neural_svgd_flow(subkey, \n",
    "                                                                funnel_setup, \n",
    "                                                                n_particles=n_particles, \n",
    "                                                                n_steps=n_steps, \n",
    "                                                                particle_lr=particle_lr, \n",
    "                                                                patience=PATIENCE, \n",
    "                                                                learner_lr=learner_lr,\n",
    "                                                                aux=False,\n",
    "                                                                compute_metrics=metrics.get_funnel_tracer(target_samples))"
   ]
  },
  {
   "cell_type": "code",
   "execution_count": 9,
   "metadata": {},
   "outputs": [
    {
     "name": "stderr",
     "output_type": "stream",
     "text": [
      "  0%|          | 0/1500 [00:00<?, ?it/s]/home/lauro/.virtualenvs/msc-thesis/lib/python3.8/site-packages/jax/_src/ops/scatter.py:303: FutureWarning: Using a non-tuple sequence for multidimensional indexing is deprecated; use `arr[tuple(seq)]` instead of `arr[seq]`. In the future this will result in a TypeError. See https://github.com/google/jax/issues/4564 for discussion of why this type of indexing is being deprecated.\n",
      "  return _scatter_update(\n",
      "100%|██████████| 1500/1500 [00:08<00:00, 181.01it/s]\n"
     ]
    }
   ],
   "source": [
    "# SVGD\n",
    "key, subkey = random.split(key)\n",
    "svgd_grad, svgd_particles, err2 = flows.svgd_flow(subkey, \n",
    "                                                    funnel_setup, \n",
    "                                                    n_particles=n_particles, \n",
    "                                                    n_steps=n_steps, \n",
    "                                                    particle_lr=particle_lr,\n",
    "                                                 bandwidth=None)"
   ]
  },
  {
   "cell_type": "code",
   "execution_count": 6,
   "metadata": {},
   "outputs": [
    {
     "name": "stderr",
     "output_type": "stream",
     "text": [
      "/home/lauro/.virtualenvs/msc-thesis/lib/python3.8/site-packages/tensorflow_probability/substrates/jax/mcmc/sample.py:327: UserWarning: supplied `TransitionKernel` is not calibrated. Markov chain may not converge to intended target distribution.\n",
      "  warnings.warn('supplied `TransitionKernel` is not calibrated. Markov '\n"
     ]
    }
   ],
   "source": [
    "# ULA\n",
    "@jit\n",
    "def run_chain(key, state):\n",
    "    kernel = tfp.mcmc.NoUTurnSampler(target.logpdf, 1)\n",
    "    kernel = tfp.mcmc.UncalibratedLangevin(target.logpdf, 0.1)\n",
    "    return tfp.mcmc.sample_chain(500,\n",
    "      current_state=state,\n",
    "      kernel=kernel,\n",
    "      trace_fn=None,\n",
    "      seed=key,\n",
    "      return_final_kernel_results=True)\n",
    "\n",
    "key, *keys = random.split(key, 3)\n",
    "init_state = proposal.sample(1, keys[0])[0]\n",
    "chain = run_chain(keys[1], init_state)"
   ]
  },
  {
   "cell_type": "code",
   "execution_count": 7,
   "metadata": {},
   "outputs": [
    {
     "ename": "AttributeError",
     "evalue": "'UncalibratedLangevinKernelResults' object has no attribute 'log_accept_ratio'",
     "output_type": "error",
     "traceback": [
      "\u001b[0;31m---------------------------------------------------------------------------\u001b[0m",
      "\u001b[0;31mAttributeError\u001b[0m                            Traceback (most recent call last)",
      "\u001b[0;32m<ipython-input-7-e3cd408a889f>\u001b[0m in \u001b[0;36m<module>\u001b[0;34m\u001b[0m\n\u001b[0;32m----> 1\u001b[0;31m \u001b[0mnp\u001b[0m\u001b[0;34m.\u001b[0m\u001b[0mexp\u001b[0m\u001b[0;34m(\u001b[0m\u001b[0mchain\u001b[0m\u001b[0;34m.\u001b[0m\u001b[0mfinal_kernel_results\u001b[0m\u001b[0;34m.\u001b[0m\u001b[0mlog_accept_ratio\u001b[0m\u001b[0;34m)\u001b[0m\u001b[0;34m\u001b[0m\u001b[0;34m\u001b[0m\u001b[0m\n\u001b[0m",
      "\u001b[0;31mAttributeError\u001b[0m: 'UncalibratedLangevinKernelResults' object has no attribute 'log_accept_ratio'"
     ]
    }
   ],
   "source": [
    "np.exp(chain.final_kernel_results.log_accept_ratio)"
   ]
  },
  {
   "cell_type": "code",
   "execution_count": 9,
   "metadata": {},
   "outputs": [
    {
     "data": {
      "text/plain": [
       "<matplotlib.collections.PathCollection at 0x7f3d7c145cd0>"
      ]
     },
     "execution_count": 9,
     "metadata": {},
     "output_type": "execute_result"
    },
    {
     "data": {
      "image/png": "[encoded data removed]",
      "text/plain": [
       "<Figure size 504x504 with 1 Axes>"
      ]
     },
     "metadata": {
      "needs_background": "light"
     },
     "output_type": "display_data"
    }
   ],
   "source": [
    "%matplotlib inline\n",
    "lims=(-15, 15)\n",
    "\n",
    "fig, ax = plt.subplots(figsize=[7,7])\n",
    "ax.set(ylim=lims, xlim=lims)\n",
    "plot_true(ax)\n",
    "ax.scatter(*np.rollaxis(chain.all_states, 1))"
   ]
  },
  {
   "cell_type": "code",
   "execution_count": 16,
   "metadata": {},
   "outputs": [
    {
     "name": "stderr",
     "output_type": "stream",
     "text": [
      "/home/lauro/.virtualenvs/msc-thesis/lib/python3.8/site-packages/tensorflow_probability/substrates/jax/mcmc/sample.py:327: UserWarning: supplied `TransitionKernel` is not calibrated. Markov chain may not converge to intended target distribution.\n",
      "  warnings.warn('supplied `TransitionKernel` is not calibrated. Markov '\n"
     ]
    }
   ],
   "source": [
    "# pULA\n",
    "n_samples = 100\n",
    "key, *keys = random.split(key, 3)\n",
    "init_state = proposal.sample(n_samples, keys[0])\n",
    "p_chain = vmap(run_chain)(random.split(keys[1], n_samples), init_state)"
   ]
  },
  {
   "cell_type": "markdown",
   "metadata": {},
   "source": [
    "### VI"
   ]
  },
  {
   "cell_type": "code",
   "execution_count": 55,
   "metadata": {},
   "outputs": [
    {
     "data": {
      "text/plain": [
       "<matplotlib.collections.PathCollection at 0x7f2d92046430>"
      ]
     },
     "execution_count": 55,
     "metadata": {},
     "output_type": "execute_result"
    },
    {
     "data": {
      "image/png": "[encoded data removed]",
      "text/plain": [
       "<Figure size 360x360 with 1 Axes>"
      ]
     },
     "metadata": {
      "needs_background": "light"
     },
     "output_type": "display_data"
    }
   ],
   "source": [
    "key, subkey = random.split(key)\n",
    "\n",
    "# parametrize a mixture of three gaussians\n",
    "means = random.normal(subkey, (3,2))*3 - np.array([[5, 0]]*3) # shape (3,2)\n",
    "means = np.array([[-4, -4],\n",
    "                  [-4, 0],\n",
    "                  [-4, 4]], dtype=np.float32)\n",
    "covs = np.ones((3, 2))                 # shape (3,2) (diagonals of covariance matrix)\n",
    "weights = np.ones(3)                    # shape (3,)\n",
    "\n",
    "# target_dist = tfd.MultivariateNormalDiag(loc=[0,0], scale=[1,3])\n",
    "\n",
    "def get_dist(means, covs):\n",
    "    gm = tfd.MixtureSameFamily(\n",
    "        mixture_distribution=tfd.Categorical(probs=weights),\n",
    "        components_distribution=tfd.MultivariateNormalDiag(\n",
    "            loc=means,\n",
    "            scale_diag=covs\n",
    "        )\n",
    "    )\n",
    "    return gm\n",
    "\n",
    "def get_log_density(means, covs):\n",
    "    dist = get_dist(means, covs)\n",
    "    return dist.log_prob\n",
    "\n",
    "\n",
    "def sample(means, covs, n, key):\n",
    "    dist = get_dist(means, covs)\n",
    "    return dist.sample(n, key)\n",
    "\n",
    "def ravel(means, covs):\n",
    "    return jax.flatten_util.ravel_pytree([means, covs])[0]\n",
    "\n",
    "\n",
    "params, unravel = jax.flatten_util.ravel_pytree([means, covs])\n",
    "\n",
    "\n",
    "def log_density(params, x):\n",
    "    return get_log_density(*unravel(params))(x)\n",
    "\n",
    "@jit\n",
    "def loss(params, key):\n",
    "    \"\"\"KL(q || p)\"\"\"\n",
    "    samples = sample(*unravel(params), 10**4, key)\n",
    "    logq = get_log_density(*unravel(params))\n",
    "    return np.mean(vmap(lambda x: logq(x) - target.logpdf(x))(samples))\n",
    "\n",
    "@jit\n",
    "def grad_loss(params, key):\n",
    "    \"\"\"grad(KL(q || p))\"\"\"\n",
    "    samples = sample(*unravel(params), 10**4, key)\n",
    "    def fun(x):\n",
    "        return grad(log_density)(params, x) * (target.logpdf(x) - log_density(params, x))\n",
    "    return -np.mean(vmap(fun)(samples), axis=0)\n",
    "\n",
    "gm = get_dist(means, covs)\n",
    "\n",
    "# Plot PDF contours.\n",
    "x = np.linspace(-15., 15., int(1e4), dtype=np.float32)\n",
    "\n",
    "def meshgrid(x, y=x):\n",
    "    [gx, gy] = np.meshgrid(x, y, indexing='ij')\n",
    "    gx, gy = np.float32(gx), np.float32(gy)\n",
    "    grid = np.concatenate([gx.ravel()[None, :], gy.ravel()[None, :]], axis=0)\n",
    "    return grid.T.reshape(x.size, y.size, 2)\n",
    "\n",
    "grid = meshgrid(np.linspace(-10, 10, 500, dtype=np.float32))\n",
    "\n",
    "\n",
    "%matplotlib inline\n",
    "fig, ax = plt.subplots(figsize=[5,5])\n",
    "plot_true(ax)\n",
    "\n",
    "plt.contour(grid[..., 0], grid[..., 1], gm.prob(grid))\n",
    "plt.scatter(*np.rollaxis(means, 1))"
   ]
  },
  {
   "cell_type": "code",
   "execution_count": 56,
   "metadata": {},
   "outputs": [],
   "source": [
    "## reset\n",
    "# params = param_history[0]\n",
    "param_history = [params]"
   ]
  },
  {
   "cell_type": "code",
   "execution_count": 57,
   "metadata": {},
   "outputs": [],
   "source": [
    "schedule = optax.polynomial_schedule(1e-3, 1e-1, .5, 50, transition_begin=10)\n",
    "\n",
    "# optimize\n",
    "for count in range(350):\n",
    "    key, subkey = random.split(key)\n",
    "#     params = params - eta * grad(loss)(params, subkey)\n",
    "    params = params - schedule(count) * grad_loss(params, subkey)\n",
    "    param_history.append(params)"
   ]
  },
  {
   "cell_type": "code",
   "execution_count": 58,
   "metadata": {},
   "outputs": [
    {
     "data": {
      "text/plain": [
       "<matplotlib.collections.PathCollection at 0x7f2d91f6d4f0>"
      ]
     },
     "execution_count": 58,
     "metadata": {},
     "output_type": "execute_result"
    },
    {
     "data": {
      "image/png": "[encoded data removed]",
      "text/plain": [
       "<Figure size 360x360 with 1 Axes>"
      ]
     },
     "metadata": {
      "needs_background": "light"
     },
     "output_type": "display_data"
    }
   ],
   "source": [
    "%matplotlib inline\n",
    "means, covs = unravel(params)\n",
    "gm = get_dist(means, covs)\n",
    "\n",
    "fig, ax = plt.subplots(figsize=[5,5])\n",
    "plot_true(ax)\n",
    "ax.contour(grid[..., 0], grid[..., 1], gm.prob(grid))\n",
    "ax.scatter(*np.rollaxis(means, 1))\n",
    "# ax.scatter(*np.rollaxis(gm.sample(100, subkey), 1))"
   ]
  },
  {
   "cell_type": "markdown",
   "metadata": {},
   "source": [
    "# Animate density"
   ]
  },
  {
   "cell_type": "code",
   "execution_count": 12,
   "metadata": {},
   "outputs": [],
   "source": [
    "from celluloid import Camera\n",
    "writer = matplotlib.animation.writers['ffmpeg'](fps=30)"
   ]
  },
  {
   "cell_type": "code",
   "execution_count": 60,
   "metadata": {},
   "outputs": [
    {
     "data": {
      "application/vnd.jupyter.widget-view+json": {
       "model_id": "68246eaa1c54433aab59605a7c3db41e",
       "version_major": 2,
       "version_minor": 0
      },
      "text/plain": [
       "Canvas(toolbar=Toolbar(toolitems=[('Home', 'Reset original view', 'home', 'home'), ('Back', 'Back to previous …"
      ]
     },
     "metadata": {},
     "output_type": "display_data"
    },
    {
     "data": {
      "text/plain": [
       "[<matplotlib.lines.Line2D at 0x7f2d91f1dfa0>]"
      ]
     },
     "execution_count": 60,
     "metadata": {},
     "output_type": "execute_result"
    },
    {
     "data": {
      "image/png": "[encoded data removed]",
      "text/plain": [
       "<Figure size 432x288 with 1 Axes>"
      ]
     },
     "metadata": {
      "needs_background": "light"
     },
     "output_type": "display_data"
    }
   ],
   "source": [
    "%matplotlib widget\n",
    "plt.plot([1,2,3])"
   ]
  },
  {
   "cell_type": "code",
   "execution_count": 61,
   "metadata": {},
   "outputs": [
    {
     "data": {
      "application/vnd.jupyter.widget-view+json": {
       "model_id": "12650ffc114045ae8d9da9b81fbcbf95",
       "version_major": 2,
       "version_minor": 0
      },
      "text/plain": [
       "Canvas(toolbar=Toolbar(toolitems=[('Home', 'Reset original view', 'home', 'home'), ('Back', 'Back to previous …"
      ]
     },
     "metadata": {},
     "output_type": "display_data"
    },
    {
     "name": "stderr",
     "output_type": "stream",
     "text": [
      "100%|██████████| 351/351 [04:24<00:00,  1.33it/s]\n"
     ]
    },
    {
     "data": {
      "image/png": "[encoded data removed]",
      "text/plain": [
       "<Figure size 360x360 with 1 Axes>"
      ]
     },
     "metadata": {
      "needs_background": "light"
     },
     "output_type": "display_data"
    }
   ],
   "source": [
    "%matplotlib widget\n",
    "\n",
    "\n",
    "fig, ax = plt.subplots(figsize=[5,5])\n",
    "camera = Camera(fig)\n",
    "\n",
    "for params in tqdm(param_history):\n",
    "    means, covs = unravel(params)\n",
    "    gm = get_dist(means, covs)\n",
    "\n",
    "    plot_true(ax)\n",
    "    ax.contour(grid[..., 0], grid[..., 1], gm.prob(grid), cmap=\"viridis\")\n",
    "    ax.scatter(*np.rollaxis(means, 1), color=\"tab:blue\")\n",
    "\n",
    "    camera.snap()\n",
    "\n",
    "anim = camera.animate()"
   ]
  },
  {
   "cell_type": "code",
   "execution_count": 62,
   "metadata": {},
   "outputs": [],
   "source": [
    "anim.save(\"vi.mp4\", writer=writer, dpi=200)"
   ]
  },
  {
   "cell_type": "markdown",
   "metadata": {},
   "source": [
    "# Animate particle flow"
   ]
  },
  {
   "cell_type": "code",
   "execution_count": 63,
   "metadata": {},
   "outputs": [
    {
     "data": {
      "application/vnd.jupyter.widget-view+json": {
       "model_id": "7c9c0d8039c348cd8b86847898db42a4",
       "version_major": 2,
       "version_minor": 0
      },
      "text/plain": [
       "Canvas(toolbar=Toolbar(toolitems=[('Home', 'Reset original view', 'home', 'home'), ('Back', 'Back to previous …"
      ]
     },
     "metadata": {},
     "output_type": "display_data"
    }
   ],
   "source": [
    "%matplotlib widget\n",
    "lims = (-5, 5)\n",
    "fig, ax = plt.subplots(figsize=[7,7])\n",
    "ax.set(xlim=lims, ylim=lims)\n",
    "\n",
    "plot_true(ax)\n",
    "anim = plot.animate_array(neural_particles.rundata[\"particles\"].training, fig, ax=ax, interval=10, color=\"tab:orange\")\n",
    "# anim"
   ]
  },
  {
   "cell_type": "code",
   "execution_count": 64,
   "metadata": {},
   "outputs": [],
   "source": [
    "anim.save(\"ngf.mp4\", writer=writer, dpi=200)"
   ]
  },
  {
   "cell_type": "markdown",
   "metadata": {},
   "source": [
    "# Animate chain"
   ]
  },
  {
   "cell_type": "code",
   "execution_count": 12,
   "metadata": {},
   "outputs": [
    {
     "data": {
      "application/vnd.jupyter.widget-view+json": {
       "model_id": "f8da7ff7336a479c8525621955af97c7",
       "version_major": 2,
       "version_minor": 0
      },
      "text/plain": [
       "Canvas(toolbar=Toolbar(toolitems=[('Home', 'Reset original view', 'home', 'home'), ('Back', 'Back to previous …"
      ]
     },
     "metadata": {},
     "output_type": "display_data"
    },
    {
     "data": {
      "image/png": "[encoded data removed]",
      "text/plain": [
       "<Figure size 360x360 with 1 Axes>"
      ]
     },
     "metadata": {
      "needs_background": "light"
     },
     "output_type": "display_data"
    }
   ],
   "source": [
    "%matplotlib widget\n",
    "\n",
    "fig, ax = plt.subplots(figsize=[5,5])\n",
    "ax.set(ylim=lims, xlim=lims)\n",
    "\n",
    "camera = Camera(fig)\n",
    "samples = np.rollaxis(chain.all_states, 1)\n",
    "\n",
    "for i in range(1, 500):\n",
    "    plot_true(ax)\n",
    "    ax.scatter(*samples[:, :i], color=\"tab:orange\")\n",
    "    camera.snap()\n",
    "\n",
    "animation = camera.animate()"
   ]
  },
  {
   "cell_type": "code",
   "execution_count": 13,
   "metadata": {},
   "outputs": [],
   "source": [
    "animation.save(\"mcmc.mp4\", writer=writer, dpi=200)"
   ]
  },
  {
   "cell_type": "markdown",
   "metadata": {},
   "source": [
    "# Animate pULA"
   ]
  },
  {
   "cell_type": "code",
   "execution_count": 17,
   "metadata": {},
   "outputs": [
    {
     "data": {
      "text/plain": [
       "(100, 500, 2)"
      ]
     },
     "execution_count": 17,
     "metadata": {},
     "output_type": "execute_result"
    }
   ],
   "source": [
    "p_chain.all_states.shape"
   ]
  },
  {
   "cell_type": "code",
   "execution_count": 19,
   "metadata": {},
   "outputs": [
    {
     "data": {
      "application/vnd.jupyter.widget-view+json": {
       "model_id": "cbd4319a5db844b088de4b52a597a3cc",
       "version_major": 2,
       "version_minor": 0
      },
      "text/plain": [
       "Canvas(toolbar=Toolbar(toolitems=[('Home', 'Reset original view', 'home', 'home'), ('Back', 'Back to previous …"
      ]
     },
     "metadata": {},
     "output_type": "display_data"
    }
   ],
   "source": [
    "%matplotlib widget\n",
    "\n",
    "fig, ax = plt.subplots(figsize=[5,5])\n",
    "ax.set(ylim=lims, xlim=lims)\n",
    "\n",
    "camera = Camera(fig)\n",
    "\n",
    "for samples in np.rollaxis(p_chain.all_states, 1):\n",
    "    plot_true(ax)\n",
    "    ax.scatter(*np.rollaxis(samples, 1), color=\"tab:orange\")\n",
    "    camera.snap()\n",
    "\n",
    "animation = camera.animate()"
   ]
  },
  {
   "cell_type": "code",
   "execution_count": 20,
   "metadata": {},
   "outputs": [],
   "source": [
    "animation.save(\"pula.mp4\", writer=writer, dpi=200)"
   ]
  },
  {
   "cell_type": "markdown",
   "metadata": {},
   "source": [
    "# Animate SVGD"
   ]
  },
  {
   "cell_type": "code",
   "execution_count": 10,
   "metadata": {},
   "outputs": [
    {
     "data": {
      "application/vnd.jupyter.widget-view+json": {
       "model_id": "d99da5a1f193424eaf999da7e206c2f7",
       "version_major": 2,
       "version_minor": 0
      },
      "text/plain": [
       "Canvas(toolbar=Toolbar(toolitems=[('Home', 'Reset original view', 'home', 'home'), ('Back', 'Back to previous …"
      ]
     },
     "metadata": {},
     "output_type": "display_data"
    }
   ],
   "source": [
    "%matplotlib widget\n",
    "lims = (-5, 5)\n",
    "fig, ax = plt.subplots(figsize=[7,7])\n",
    "ax.set(xlim=lims, ylim=lims)\n",
    "\n",
    "plot_true(ax)\n",
    "anim = plot.animate_array(svgd_particles.rundata[\"particles\"].training, fig, ax=ax, interval=10, color=\"tab:orange\")\n",
    "# anim"
   ]
  },
  {
   "cell_type": "code",
   "execution_count": 13,
   "metadata": {},
   "outputs": [],
   "source": [
    "anim.save(\"svgd.mp4\", writer=writer, dpi=200)"
   ]
  }
 ],
 "metadata": {
  "kernelspec": {
   "display_name": "msc-thesis",
   "language": "python",
   "name": "msc-thesis"
  },
  "language_info": {
   "codemirror_mode": {
    "name": "ipython",
    "version": 3
   },
   "file_extension": ".py",
   "mimetype": "text/x-python",
   "name": "python",
   "nbconvert_exporter": "python",
   "pygments_lexer": "ipython3",
   "version": "3.8.5"
  }
 },
 "nbformat": 4,
 "nbformat_minor": 4
}
