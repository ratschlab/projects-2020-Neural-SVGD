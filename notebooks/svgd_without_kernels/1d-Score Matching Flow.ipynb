{
 "cells": [
  {
   "cell_type": "code",
   "execution_count": 1,
   "metadata": {},
   "outputs": [
    {
     "name": "stderr",
     "output_type": "stream",
     "text": [
      "/home/lauro/.virtualenvs/msc-thesis/lib/python3.8/site-packages/jax/lib/xla_bridge.py:130: UserWarning: No GPU/TPU found, falling back to CPU.\n",
      "  warnings.warn('No GPU/TPU found, falling back to CPU.')\n"
     ]
    }
   ],
   "source": [
    "%load_ext autoreload\n",
    "from jax import config\n",
    "config.update(\"jax_debug_nans\", True)\n",
    "# config.update(\"jax_disable_jit\", True)\n",
    "\n",
    "import sys\n",
    "import os\n",
    "sys.path.append(\"/home/lauro/code/msc-thesis/svgd/kernel_learning/\")\n",
    "import json_tricks as json\n",
    "import copy\n",
    "from functools import partial\n",
    "\n",
    "from tqdm import tqdm\n",
    "import jax.numpy as np\n",
    "from jax import grad, jit, vmap, random, lax, jacfwd, value_and_grad\n",
    "from jax import lax\n",
    "from jax.ops import index_update, index\n",
    "import matplotlib.pyplot as plt\n",
    "import numpy as onp\n",
    "import jax\n",
    "import pandas as pd\n",
    "import haiku as hk\n",
    "from jax.experimental import optimizers\n",
    "\n",
    "import config\n",
    "\n",
    "import utils\n",
    "import metrics\n",
    "import time\n",
    "import plot\n",
    "import stein\n",
    "import kernels\n",
    "import distributions\n",
    "import nets\n",
    "import models\n",
    "\n",
    "from jax.experimental import optimizers\n",
    "\n",
    "key = random.PRNGKey(0)"
   ]
  },
  {
   "cell_type": "markdown",
   "metadata": {},
   "source": [
    "### Main"
   ]
  },
  {
   "cell_type": "code",
   "execution_count": 2,
   "metadata": {},
   "outputs": [
    {
     "data": {
      "image/png": "[encoded data removed]",
      "text/plain": [
       "<Figure size 432x288 with 1 Axes>"
      ]
     },
     "metadata": {
      "needs_background": "light"
     },
     "output_type": "display_data"
    }
   ],
   "source": [
    "# setup = distributions.double_mixture\n",
    "# target, proposal = setup.get()\n",
    "target = distributions.GaussianMixture([-3, 3], [1, 1], [1/3, 2/3])\n",
    "proposal = distributions.Gaussian(-5, 1)\n",
    "setup = distributions.Setup(target, proposal)\n",
    "\n",
    "setup.plot()"
   ]
  },
  {
   "cell_type": "markdown",
   "metadata": {},
   "source": [
    "## TODO: make score matching flows (neural and kerne)"
   ]
  },
  {
   "cell_type": "code",
   "execution_count": null,
   "metadata": {},
   "outputs": [
    {
     "name": "stderr",
     "output_type": "stream",
     "text": [
      " 23%|██▎       | 234/1000 [00:18<00:56, 13.62it/s]"
     ]
    }
   ],
   "source": [
    "def neural_svgd_flow(key, setup, n_particles=300, n_steps=1000, sizes=[32, 32, 1], particle_lr=1e-1, learner_lr=1e-2, lambda_reg=1/2, noise_level=0):\n",
    "    key, keya, keyb = random.split(key, 3)\n",
    "    target, proposal = setup.get()\n",
    "    learner = models.SDLearner(key=keya,\n",
    "                               target=target,\n",
    "                               sizes=sizes,\n",
    "                               learning_rate=learner_lr,\n",
    "                               lambda_reg=lambda_reg,\n",
    "                               patience=15)\n",
    "\n",
    "    particles = models.Particles(key=keyb,\n",
    "                                 gradient=learner.gradient,\n",
    "                                 proposal=proposal,\n",
    "                                 n_particles=n_particles,\n",
    "                                 learning_rate=particle_lr)\n",
    "\n",
    "    for _ in tqdm(range(n_steps)):\n",
    "        try:\n",
    "            key, subkey = random.split(key)\n",
    "            particles.reshuffle_tv()\n",
    "            train_x, val_x, _ = particles.get_params(split_by_group=True)\n",
    "            learner.train(train_x, val_x, key=subkey, n_steps=500, noise_level=noise_level)\n",
    "            particles.step(learner.get_params(), noise_pre=noise_level)\n",
    "        except FloatingPointError as err:\n",
    "            return learner, particles, err\n",
    "    return learner, particles, None\n",
    "\n",
    "key, subkey = random.split(key)\n",
    "neural_svgd_learner, neural_svgd_particles, err = neural_svgd_flow(subkey, setup)\n",
    "# if err is not None:\n",
    "#     raise err from None"
   ]
  },
  {
   "cell_type": "code",
   "execution_count": null,
   "metadata": {},
   "outputs": [],
   "source": [
    "def svgd_flow(key, setup, n_particles=300, n_steps=1000, particle_lr=1e-1, lambda_reg=1/2, noise_level=0, scaled=False):\n",
    "    key, keya, keyb = random.split(key, 3)\n",
    "    target, proposal = setup.get()\n",
    "\n",
    "    kernel_gradient = models.KernelGradient(target=target,\n",
    "                                            key=keya,\n",
    "                                           lambda_reg=lambda_reg)\n",
    "    gradient = partial(kernel_gradient.gradient, scaled=scaled) # scale to match lambda_reg\n",
    "\n",
    "    svgd_particles = models.Particles(key=keyb,\n",
    "                                     gradient=kernel_gradient.gradient,\n",
    "                                     proposal=proposal,\n",
    "                                     n_particles=n_particles,\n",
    "                                     learning_rate=particle_lr)\n",
    "\n",
    "    for _ in tqdm(range(n_steps)):\n",
    "        svgd_particles.step(None, noise_pre=noise_level)\n",
    "\n",
    "    return kernel_gradient, svgd_particles\n",
    "\n",
    "key, subkey = random.split(key)\n",
    "kernel_gradient, svgd_particles = svgd_flow(subkey, setup, scaled=False)"
   ]
  },
  {
   "cell_type": "markdown",
   "metadata": {},
   "source": [
    "## Plot"
   ]
  },
  {
   "cell_type": "code",
   "execution_count": null,
   "metadata": {},
   "outputs": [],
   "source": [
    "fig, axs = plt.subplots(2, 2, figsize=[20, 10])\n",
    "svgd_particles.plot_mean_and_std(target, axs=axs[0])\n",
    "neural_svgd_particles.plot_mean_and_std(target, axs=axs[1])"
   ]
  },
  {
   "cell_type": "code",
   "execution_count": null,
   "metadata": {},
   "outputs": [],
   "source": [
    "fig, axs = plt.subplots(2, figsize=[20, 10])\n",
    "neural_svgd_particles.plot_trajectories(ax=axs[0])\n",
    "# svgd_particles.plot_trajectories(ax=axs[1])"
   ]
  },
  {
   "cell_type": "code",
   "execution_count": null,
   "metadata": {},
   "outputs": [],
   "source": [
    "fig, axs = plt.subplots(2, figsize=[20, 10])\n",
    "neural_svgd_particles.plot_final(ax=axs[0], target=target)\n",
    "svgd_particles.plot_final(ax=axs[1], target=target)"
   ]
  },
  {
   "cell_type": "code",
   "execution_count": null,
   "metadata": {},
   "outputs": [],
   "source": [
    "# particles = score_particles\n",
    "particles = svgd_particles\n",
    "\n",
    "# learner = score_learner\n",
    "# learner = svgd_learner\n",
    "grad = kernel_gradient\n",
    "\n",
    "samples = proposal.sample(1000)\n",
    "v = kernel_gradient.get_field(samples)\n",
    "# v = learner.get_field(samples)\n",
    "# score = learner.get_score(samples)\n",
    "# v_true = setup.grad_kl"
   ]
  },
  {
   "cell_type": "code",
   "execution_count": null,
   "metadata": {},
   "outputs": [],
   "source": [
    "# @utils.reshape_input\n",
    "# def dlogp(x):\n",
    "#     return score(x) - v(x)\n",
    "\n",
    "fig, ax = plt.subplots(figsize=[18, 6])\n",
    "plot.plot_fun(utils.reshape_input(v),     lims=(-8, 8), label=\"learned grad(kl)\")\n",
    "# plot.plot_fun(utils.reshape_input(score), lims=(-8, 8), label=\"learned score\")\n",
    "plt.axhline(y=0, linestyle=\"--\")\n",
    "# plot.plot_fun(utils.negative(grad(target.logpdf)), lims=(-8, 8), label=\"-grad(logp)\")\n",
    "ax.set_xlim(xlims)\n",
    "ax.legend()"
   ]
  },
  {
   "cell_type": "code",
   "execution_count": null,
   "metadata": {},
   "outputs": [],
   "source": []
  }
 ],
 "metadata": {
  "kernelspec": {
   "display_name": "msc-thesis",
   "language": "python",
   "name": "msc-thesis"
  },
  "language_info": {
   "codemirror_mode": {
    "name": "ipython",
    "version": 3
   },
   "file_extension": ".py",
   "mimetype": "text/x-python",
   "name": "python",
   "nbconvert_exporter": "python",
   "pygments_lexer": "ipython3",
   "version": "3.8.2"
  }
 },
 "nbformat": 4,
 "nbformat_minor": 4
}
