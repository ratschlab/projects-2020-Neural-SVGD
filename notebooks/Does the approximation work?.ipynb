{
 "cells": [
  {
   "cell_type": "markdown",
   "metadata": {},
   "source": [
    "# Does the KSD approximation work?"
   ]
  },
  {
   "cell_type": "code",
   "execution_count": 1,
   "metadata": {},
   "outputs": [
    {
     "name": "stderr",
     "output_type": "stream",
     "text": [
      "/home/lauro/.virtualenvs/msc-thesis/lib/python3.6/site-packages/jax/lib/xla_bridge.py:116: UserWarning: No GPU/TPU found, falling back to CPU.\n",
      "  warnings.warn('No GPU/TPU found, falling back to CPU.')\n"
     ]
    }
   ],
   "source": [
    "import sys\n",
    "sys.path.append(\"/home/lauro/code/msc-thesis/svgd\")\n",
    "\n",
    "import jax.numpy as np\n",
    "from jax import grad, jit, vmap, random, lax, jacfwd\n",
    "from jax import lax\n",
    "from jax.ops import index_update, index\n",
    "\n",
    "import matplotlib.pyplot as plt\n",
    "import numpy as onp\n",
    "from tqdm import tqdm\n",
    "import time\n",
    "from functools import partial\n",
    "\n",
    "import utils\n",
    "import metrics\n",
    "import plot\n",
    "from svgd import SVGD\n",
    "import svgd\n",
    "import stein\n",
    "import kernels\n",
    "\n",
    "rkey = random.PRNGKey(0)"
   ]
  },
  {
   "cell_type": "markdown",
   "metadata": {},
   "source": [
    "# Using optimizers"
   ]
  },
  {
   "cell_type": "code",
   "execution_count": 2,
   "metadata": {},
   "outputs": [],
   "source": [
    "from jax.experimental import optimizers\n",
    "from stein import ksd_squared"
   ]
  },
  {
   "cell_type": "markdown",
   "metadata": {},
   "source": [
    "## SVGD and  KSD update"
   ]
  },
  {
   "cell_type": "code",
   "execution_count": 3,
   "metadata": {},
   "outputs": [],
   "source": [
    "n = 100\n",
    "dist = metrics.Gaussian(0, 1)"
   ]
  },
  {
   "cell_type": "code",
   "execution_count": 12,
   "metadata": {},
   "outputs": [],
   "source": [
    "def init_svgd(key, particle_shape):\n",
    "    return random.normal(key, particle_shape) * 2 - 3\n",
    "\n",
    "def apply_svgd():\n",
    "    pass\n",
    "\n",
    "@partial(jit, static_argnums=1)\n",
    "def phistar(xs, logp, kernel_params):\n",
    "    return svgd.phistar(xs, logp, kernels.ard(kernel_params))\n",
    "\n",
    "# Initialize particles\n",
    "particles0 = init_svgd(rkey, (n, 1))\n",
    "\n",
    "# initialize optimizer states\n",
    "svgd_stepsize = 0.05\n",
    "opt_init, opt_update, get_params = optimizers.sgd(step_size=svgd_stepsize)\n",
    "# opt_init, opt_update, get_params = optimizers.adagrad(step_size=0.1, momentum=0.9)\n",
    "opt_state = opt_init(particles0) # now opt has stored particles in its state"
   ]
  },
  {
   "cell_type": "code",
   "execution_count": 5,
   "metadata": {},
   "outputs": [],
   "source": [
    "n_iter = 500\n",
    "ps = []\n",
    "\n",
    "kernel_params = 0.\n",
    "\n",
    "for i in range(n_iter):\n",
    "    particles = get_params(opt_state)\n",
    "    ps.append(particles)\n",
    "\n",
    "    # update particles:\n",
    "    gp = -phistar(particles, dist.logpdf, kernel_params)\n",
    "    opt_state= opt_update(i, gp, opt_state)"
   ]
  },
  {
   "cell_type": "code",
   "execution_count": 6,
   "metadata": {},
   "outputs": [
    {
     "data": {
      "image/png": "[encoded data removed]",
      "text/plain": [
       "<Figure size 432x288 with 1 Axes>"
      ]
     },
     "metadata": {
      "needs_background": "light"
     },
     "output_type": "display_data"
    }
   ],
   "source": [
    "_ = plt.hist(ps[-1][:, 0], density=True, bins=25)"
   ]
  },
  {
   "cell_type": "code",
   "execution_count": 7,
   "metadata": {},
   "outputs": [
    {
     "data": {
      "image/png": "[encoded data removed]",
      "text/plain": [
       "<Figure size 432x288 with 1 Axes>"
      ]
     },
     "metadata": {
      "needs_background": "light"
     },
     "output_type": "display_data"
    }
   ],
   "source": [
    "_ = plt.plot([np.mean(p) for p in ps])\n",
    "_ = plt.plot([np.var(p)  for p in ps])"
   ]
  },
  {
   "cell_type": "markdown",
   "metadata": {},
   "source": [
    "## analytics"
   ]
  },
  {
   "cell_type": "code",
   "execution_count": 8,
   "metadata": {},
   "outputs": [],
   "source": [
    "@partial(jit, static_argnums=1)\n",
    "def ksd_squared(samples, logp, kernel_params):\n",
    "    return stein.ksd_squared(samples, logp, kernels.ard(kernel_params))"
   ]
  },
  {
   "cell_type": "code",
   "execution_count": 9,
   "metadata": {},
   "outputs": [],
   "source": [
    "ksds = [ksd_squared(p, dist.logpdf, kernel_params) for p in ps]\n",
    "ksds = np.asarray(ksds)\n",
    "\n",
    "kls = [dist.kl_divergence(p) for p in ps]\n",
    "kls = np.asarray(ksds)"
   ]
  },
  {
   "cell_type": "markdown",
   "metadata": {},
   "source": [
    "Assumption: (if step size is $\\varepsilon$)\n",
    "$$\n",
    "\\varepsilon \\cdot \\text{KSD}(q \\ \\Vert \\ p)^2 \\approx \\text{KL}(q \\ \\Vert \\ p) - \\text{KL}(q' \\ \\Vert \\ p).\n",
    "$$"
   ]
  },
  {
   "cell_type": "code",
   "execution_count": 15,
   "metadata": {},
   "outputs": [
    {
     "data": {
      "image/png": "[encoded data removed]",
      "text/plain": [
       "<Figure size 432x288 with 1 Axes>"
      ]
     },
     "metadata": {
      "needs_background": "light"
     },
     "output_type": "display_data"
    }
   ],
   "source": [
    "fig, ax = plt.subplots()\n",
    "\n",
    "ax.plot(-np.diff(kls), \"--o\", label=\"KL diff\")\n",
    "ax.plot(svgd_stepsize * ksds[:-1], \"--o\", label=\"KSD^2 * stepsize\")\n",
    "ax.legend()\n",
    "ax.set_yscale(\"log\")"
   ]
  }
 ],
 "metadata": {
  "kernelspec": {
   "display_name": "msc-thesis",
   "language": "python",
   "name": "msc-thesis"
  },
  "language_info": {
   "codemirror_mode": {
    "name": "ipython",
    "version": 3
   },
   "file_extension": ".py",
   "mimetype": "text/x-python",
   "name": "python",
   "nbconvert_exporter": "python",
   "pygments_lexer": "ipython3",
   "version": "3.6.9"
  }
 },
 "nbformat": 4,
 "nbformat_minor": 4
}
