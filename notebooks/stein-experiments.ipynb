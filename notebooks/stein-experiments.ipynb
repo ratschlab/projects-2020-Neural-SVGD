{
 "cells": [
  {
   "cell_type": "markdown",
   "metadata": {},
   "source": [
    "# Optimizing the KSD"
   ]
  },
  {
   "cell_type": "code",
   "execution_count": 1,
   "metadata": {},
   "outputs": [
    {
     "name": "stderr",
     "output_type": "stream",
     "text": [
      "/home/lauro/.virtualenvs/msc-thesis/lib/python3.8/site-packages/jax/lib/xla_bridge.py:125: UserWarning: No GPU/TPU found, falling back to CPU.\n",
      "  warnings.warn('No GPU/TPU found, falling back to CPU.')\n"
     ]
    }
   ],
   "source": [
    "from jax import config\n",
    "config.update(\"jax_debug_nans\", True)\n",
    "# config.update(\"jax_disable_jit\", True)\n",
    "\n",
    "import sys\n",
    "import os\n",
    "sys.path.append(\"/home/lauro/code/msc-thesis/svgd/kernel_learning/\")\n",
    "from functools import partial\n",
    "from itertools import product\n",
    "\n",
    "from tqdm import tqdm\n",
    "import jax.numpy as np\n",
    "from jax import grad, jit, vmap, random, lax, jacfwd, value_and_grad\n",
    "from jax import lax\n",
    "from jax.ops import index_update, index\n",
    "import matplotlib.pyplot as plt\n",
    "import numpy as onp\n",
    "import jax\n",
    "import pandas as pd\n",
    "import haiku as hk\n",
    "from jax.experimental import optimizers\n",
    "\n",
    "import config\n",
    "\n",
    "import utils\n",
    "import metrics\n",
    "import time\n",
    "import plot\n",
    "import stein\n",
    "import kernels\n",
    "import distributions\n",
    "import nets\n",
    "\n",
    "import kernel_learning\n",
    "import discrepancy_learner\n",
    "\n",
    "from jax.experimental import optimizers\n",
    "\n",
    "key = random.PRNGKey(0)\n",
    "key, subkey = random.split(key)"
   ]
  },
  {
   "cell_type": "code",
   "execution_count": 2,
   "metadata": {},
   "outputs": [],
   "source": [
    "setup = distributions.banana_proposal\n",
    "target, proposal = setup.get()"
   ]
  },
  {
   "cell_type": "code",
   "execution_count": 3,
   "metadata": {},
   "outputs": [],
   "source": [
    "@partial(jit, static_argnums=1)\n",
    "def compute_sd(samples, fun):\n",
    "    return stein.stein_discrepancy(samples, target.logpdf, fun)\n",
    "\n",
    "def get_sds(key, n_samples, fun):\n",
    "    sds = []\n",
    "    for subkey in random.split(key, 100):\n",
    "        samples = proposal.sample(n_samples, key=subkey)\n",
    "        sds.append(compute_sd(samples, fun))\n",
    "    return sds"
   ]
  },
  {
   "cell_type": "markdown",
   "metadata": {},
   "source": [
    "# Parameters"
   ]
  },
  {
   "cell_type": "code",
   "execution_count": 4,
   "metadata": {},
   "outputs": [],
   "source": [
    "def l2_norm(fun, key):\n",
    "    def fun_norm(x): return np.linalg.norm(fun(x))**2\n",
    "    s = proposal.sample(10_000, key)\n",
    "    return np.mean(vmap(fun_norm)(s))\n",
    "\n",
    "def rescale_stein_gradient(key, fun: callable, m_opt):\n",
    "    \"\"\"fun: computes learned stein gradient (eg phi*)\n",
    "    Returns rescaled fun s.t. E[fun^T fun] = m\"\"\"\n",
    "    m_learned = l2_norm(fun, key)\n",
    "    def fun_rescaled(x):\n",
    "        return np.sqrt(m_learned / m_opt) * kl_grad(x)\n",
    "    return fun_rescaled\n",
    "\n",
    "def get_kl_gradient(lambda_reg):\n",
    "    def kl_gradient(x):\n",
    "        return grad(lambda x: target.logpdf(x) - proposal.logpdf(x))(x) / (2*lambda_reg)\n",
    "    return kl_gradient\n",
    "    \n",
    "def learn(sizes=[32, 32, 2], method=\"direct\", sample_every=True, learning_rate = 0.01, n_steps=1000):\n",
    "    \"\"\"\n",
    "    Learn the stein gradient.\n",
    "    \n",
    "    Arguments:\n",
    "    method is one of 'direct', 'ksd_l2', 'ksd_std', 'ksd_none'\n",
    "    \n",
    "    Returns:\n",
    "    instance of learner after training.\n",
    "    \"\"\"\n",
    "    if method == 'ksd_l2':\n",
    "        lambda_reg=1\n",
    "        scaling_parameter=True\n",
    "        std_normalize=False\n",
    "    elif method == \"ksd_std\":\n",
    "        lambda_reg=0\n",
    "        scaling_parameter=False\n",
    "        std_normalize=True\n",
    "    elif method == \"ksd_none\":\n",
    "        lambda_reg=0\n",
    "        scaling_parameter=False\n",
    "        std_normalize=False\n",
    "    if \"ksd\" in method:\n",
    "        learner = kernel_learning.KernelLearner(key,\n",
    "                                                target,\n",
    "                                                sizes,\n",
    "                                                kernels.get_rbf_kernel(1),\n",
    "                                                learning_rate,\n",
    "                                                lambda_reg=lambda_reg,\n",
    "                                                scaling_parameter=scaling_parameter,\n",
    "                                                std_normalize=std_normalize)\n",
    "    elif method == \"direct\":\n",
    "        learner = discrepancy_learner.SDLearner(key,\n",
    "                                                target,\n",
    "                                                sizes,\n",
    "                                                learning_rate,\n",
    "                                                lambda_reg=1)\n",
    "    else:\n",
    "        raise ValueError(f\"Got wrong value for method: {method}.\")\n",
    "\n",
    "    if sample_every:\n",
    "        learner.train(samples=None, n_steps=n_steps, proposal=proposal, batch_size=400)\n",
    "    else:\n",
    "        samples = proposal.sample(400, subkey)\n",
    "        learner.train(samples, n_steps=100)\n",
    "    return learner\n",
    "\n",
    "def compute_comparison(sizes=[32, 32, 2], method=\"direct\", sample_every=True, learning_rate=1e-2, n_steps=[10**3]*4):\n",
    "    assert len(n_steps) == 4\n",
    "    methods = [\"direct\", \"ksd_l2\", \"ksd_none\", \"ksd_std\"]\n",
    "    learner_direct, *ksd_learners = [learn(sizes=sizes,\n",
    "                                           method=method,\n",
    "                                           sample_every=sample_every,\n",
    "                                           learning_rate=learning_rate,\n",
    "                                           n_steps=n)\n",
    "                                     for method, n in zip(methods, n_steps)]\n",
    "    return learner_direct, ksd_learners\n",
    "\n",
    "def get_rescaled_stein_discrepancies(key, learner_direct, ksd_learers):\n",
    "    \"\"\"\n",
    "    compute SDs, KSDs, and rescale them so\n",
    "    they can be compared.\n",
    "\n",
    "    Arguments:\n",
    "    learner_direct and ksd_learners are (list of) learner instances\n",
    "    after training (so they carry all training log, parameter state, etc)\n",
    "    \"\"\"\n",
    "    # get stein gradients:\n",
    "    inducing_samples = proposal.sample(500)\n",
    "    stein_grads = [learner_direct.get_f()]\n",
    "    stein_grads.extend([learner.get_phistar(inducing_samples) for learner in ksd_learners])\n",
    "    rbf_stein_gradient = stein.get_phistar(kernels.get_rbf_kernel(1), target.logpdf, inducing_samples)\n",
    "    stein_grads.append(rbf_stein_gradient)\n",
    "    stein_grads_names = [\"Direct\", \"KSD L2\", \"KSD no regularization\", \"KSD Stddev\", \"KSD vanilla RBF\"]\n",
    "\n",
    "    # true gradient and optimal Stein discrepancy\n",
    "    lambda_reg = learner_direct.lambda_reg\n",
    "    key, subkey = random.split(key)\n",
    "    true_kl_gradient = get_kl_gradient(lambda_reg)\n",
    "    l2_norm_benchmark = np.sqrt(l2_norm(true_kl_gradient, subkey))\n",
    "    key, subkey = random.split(key)\n",
    "    optimal_sds = get_sds(subkey, 400, true_kl_gradient)\n",
    "\n",
    "    # compute KSD and SD values\n",
    "    print(\"Computing KSD and SD values...\")\n",
    "    key, subkey = random.split(key)\n",
    "    sds_list = [get_sds(subkey, 400, stein_gradient)\n",
    "           for subkey, stein_gradient in zip(random.split(subkey, len(stein_grads)), stein_grads)] # (6, 100)\n",
    "    sds_array = np.array(sds_list)\n",
    "\n",
    "    # compute L2(q) norms for non-L2 regularized stein gradients\n",
    "    print(\"Rescaling KSD values...\")\n",
    "    unscaled_stein_gradients = stein_grads[2:]\n",
    "    key, subkey = random.split(key)\n",
    "    l2_norms_squared = [l2_norm(fun, skey) for skey, fun in zip(random.split(subkey, len(unscaled_stein_gradients)), unscaled_stein_gradients)]\n",
    "    l2_norms = np.sqrt(np.array(l2_norms_squared).reshape(len(unscaled_stein_gradients), 1))\n",
    "    sds_normed = sds_array[2:] / l2_norms\n",
    "    sds_rescaled = sds_normed * l2_norm_benchmark\n",
    "\n",
    "    sds_final = np.concatenate([sds_array[:2], sds_rescaled])\n",
    "    return optimal_sds, sds_final, stein_grads_names"
   ]
  },
  {
   "cell_type": "code",
   "execution_count": 5,
   "metadata": {},
   "outputs": [
    {
     "name": "stderr",
     "output_type": "stream",
     "text": [
      "100%|██████████| 1000/1000 [00:06<00:00, 147.68it/s]\n",
      "100%|██████████| 1000/1000 [08:31<00:00,  1.95it/s]\n",
      "100%|██████████| 1000/1000 [07:41<00:00,  2.17it/s]\n",
      "100%|██████████| 1000/1000 [07:49<00:00,  2.13it/s]\n"
     ]
    }
   ],
   "source": [
    "# n_steps=[10**3, 10**3, 10**2, 10**2]\n",
    "n_steps = [10**3]*4\n",
    "learner_direct, ksd_learners = compute_comparison(sizes=[32, 32, 2], n_steps=n_steps)"
   ]
  },
  {
   "cell_type": "code",
   "execution_count": 6,
   "metadata": {},
   "outputs": [
    {
     "name": "stdout",
     "output_type": "stream",
     "text": [
      "Computing KSD and SD values...\n",
      "Rescaling KSD values...\n"
     ]
    }
   ],
   "source": [
    "optimal_sds, sds_list, sds_names = get_rescaled_stein_discrepancies(key, learner_direct, ksd_learners)"
   ]
  },
  {
   "cell_type": "code",
   "execution_count": 11,
   "metadata": {},
   "outputs": [
    {
     "data": {
      "text/plain": [
       "(0.0, 11.0)"
      ]
     },
     "execution_count": 11,
     "metadata": {},
     "output_type": "execute_result"
    },
    {
     "data": {
      "image/png": "[encoded data removed]",
      "text/plain": [
       "<Figure size 720x576 with 1 Axes>"
      ]
     },
     "metadata": {
      "needs_background": "light"
     },
     "output_type": "display_data"
    }
   ],
   "source": [
    "fig, ax = plt.subplots(figsize=[10, 8])\n",
    "col=\"blue\"\n",
    "plt.axhline(y=onp.mean(optimal_sds), linestyle=\"--\", color=col)\n",
    "plt.errorbar(x=0, y=onp.mean(optimal_sds), yerr=onp.std(optimal_sds), fmt=\"o\", capsize=10, label=\"Optimal Stein discrepancy\", color=col)\n",
    "for x, sds, label in zip(range(1, 6), sds_list, sds_names):\n",
    "    plt.errorbar(x=x, y=onp.mean(sds), yerr=onp.std(sds), fmt=\"o\", capsize=10, label=label)\n",
    "\n",
    "plt.legend()\n",
    "plt.ylim((0, 11))"
   ]
  }
 ],
 "metadata": {
  "kernelspec": {
   "display_name": "msc-thesis",
   "language": "python",
   "name": "msc-thesis"
  },
  "language_info": {
   "codemirror_mode": {
    "name": "ipython",
    "version": 3
   },
   "file_extension": ".py",
   "mimetype": "text/x-python",
   "name": "python",
   "nbconvert_exporter": "python",
   "pygments_lexer": "ipython3",
   "version": "3.8.2"
  }
 },
 "nbformat": 4,
 "nbformat_minor": 4
}
