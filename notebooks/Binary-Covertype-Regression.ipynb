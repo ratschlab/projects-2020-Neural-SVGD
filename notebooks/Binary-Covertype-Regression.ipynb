{
 "cells": [
  {
   "cell_type": "markdown",
   "metadata": {},
   "source": [
    "# Covertype"
   ]
  },
  {
   "cell_type": "code",
   "execution_count": 3,
   "metadata": {},
   "outputs": [
    {
     "name": "stdout",
     "output_type": "stream",
     "text": [
      "The autoreload extension is already loaded. To reload it, use:\n",
      "  %reload_ext autoreload\n"
     ]
    }
   ],
   "source": [
    "%load_ext autoreload\n",
    "import sys\n",
    "import os\n",
    "sys.path.append(\"/home/lauro/code/msc-thesis/svgd/kernel_learning/\")\n",
    "from tqdm import tqdm\n",
    "from jax import config\n",
    "\n",
    "\n",
    "import jax.numpy as jnp\n",
    "import jax.numpy as np\n",
    "from jax import grad, jit, vmap, random, lax, jacfwd, value_and_grad\n",
    "from jax.ops import index_update, index\n",
    "import matplotlib.pyplot as plt\n",
    "import matplotlib\n",
    "import numpy as onp\n",
    "import jax\n",
    "import pandas as pd\n",
    "import scipy\n",
    "import haiku as hk\n",
    "    \n",
    "import utils\n",
    "import plot\n",
    "import distributions\n",
    "import stein\n",
    "import models\n",
    "import flows\n",
    "from itertools import cycle, islice\n",
    "    \n",
    "key = random.PRNGKey(0)\n",
    "\n",
    "from sklearn.model_selection import train_test_split\n",
    "\n",
    "from functools import partial\n",
    "import kernels\n",
    "\n",
    "import matplotlib.pyplot as plt\n",
    "import seaborn as sns\n",
    "from sklearn import datasets\n",
    "sns.set(style='white')\n",
    "\n",
    "from tensorflow_probability.substrates import jax as tfp\n",
    "tfd = tfp.distributions\n",
    "tfb = tfp.bijectors\n",
    "tfpk = tfp.math.psd_kernels"
   ]
  },
  {
   "cell_type": "markdown",
   "metadata": {},
   "source": [
    "# Data"
   ]
  },
  {
   "cell_type": "code",
   "execution_count": 2,
   "metadata": {},
   "outputs": [],
   "source": [
    "data = scipy.io.loadmat('/home/lauro/code/msc-thesis/wang_svgd/data/covertype.mat')\n",
    "features = data['covtype'][:, 1:]\n",
    "features = onp.hstack([features, onp.ones([features.shape[0], 1])]) # add intercept term\n",
    "\n",
    "labels = data['covtype'][:, 0]\n",
    "labels[labels == 2] = 0\n",
    "\n",
    "x_train, x_test, y_train, y_test = train_test_split(features, labels, test_size=0.2, random_state=42)\n",
    "\n",
    "num_features = features.shape[-1]\n",
    "num_classes = len(onp.unique(labels))"
   ]
  },
  {
   "cell_type": "code",
   "execution_count": 79,
   "metadata": {},
   "outputs": [],
   "source": [
    "def get_batches(x, y, n_steps=500, batch_size=100):\n",
    "    \"\"\"Split x and y into batches\"\"\"\n",
    "    assert len(x) == len(y)\n",
    "    n = len(x)\n",
    "    idxs = onp.random.choice(n, size=(n_steps, batch_size))\n",
    "    for idx in idxs:\n",
    "        yield x[idx], y[idx]\n",
    "#     batch_cycle = cycle(zip(*[onp.array_split(data, len(data)//batch_size) for data in (x, y)]))\n",
    "#     return islice(batch_cycle, n_steps)\n",
    "\n",
    "num_batches = len(x_train) // 100"
   ]
  },
  {
   "cell_type": "code",
   "execution_count": 5,
   "metadata": {},
   "outputs": [],
   "source": [
    "# def get_batches(x, y, n_steps=500, batch_size=100):\n",
    "#     \"\"\"Split x and y into batches\"\"\"\n",
    "#     assert len(x) == len(y)\n",
    "#     batch_cycle = cycle(zip(*[onp.array_split(data, len(data)//batch_size) for data in (x, y)]))\n",
    "#     return islice(batch_cycle, n_steps)\n",
    "\n",
    "# num_batches = len(x_train) // 100"
   ]
  },
  {
   "cell_type": "code",
   "execution_count": 6,
   "metadata": {},
   "outputs": [],
   "source": [
    "# batches = get_batches(x_train, y_train, batch_size=5)"
   ]
  },
  {
   "cell_type": "markdown",
   "metadata": {},
   "source": [
    "# Model"
   ]
  },
  {
   "cell_type": "markdown",
   "metadata": {
    "colab_type": "text",
    "id": "9pXr2atnk8xA"
   },
   "source": [
    "We can define the model using `tfd.JointDistributionCoroutine`."
   ]
  },
  {
   "cell_type": "markdown",
   "metadata": {},
   "source": [
    "### TODO: try adagrad / adadelta / adam???"
   ]
  },
  {
   "cell_type": "markdown",
   "metadata": {},
   "source": [
    "### TODO file bug: gamma pdf wrong in tfd"
   ]
  },
  {
   "cell_type": "code",
   "execution_count": 7,
   "metadata": {},
   "outputs": [
    {
     "name": "stdout",
     "output_type": "stream",
     "text": [
      "skip assert _assert_compare_to_zero\n"
     ]
    },
    {
     "data": {
      "image/png": "[encoded data removed]",
      "text/plain": [
       "<Figure size 432x288 with 1 Axes>"
      ]
     },
     "metadata": {},
     "output_type": "display_data"
    }
   ],
   "source": [
    "a0, b0 = 1, 0.01 # hyper-parameters\n",
    "t = tfd.Gamma(a0, b0, validate_args=True)\n",
    "gamma_pdf = lambda x: jax.scipy.stats.gamma.pdf(x, a0, 0, 1/b0)\n",
    "plot.plot_fun(t.prob, lims=(-10,100))\n",
    "plot.plot_fun(gamma_pdf, lims=(-10, 100))"
   ]
  },
  {
   "cell_type": "code",
   "execution_count": 8,
   "metadata": {},
   "outputs": [
    {
     "data": {
      "text/plain": [
       "StructTuple(\n",
       "  log_alpha=DeviceArray(3.0338602, dtype=float32),\n",
       "  w=DeviceArray([ 0.09460681,  0.41388664, -0.25374022,  0.08236972,\n",
       "                 -0.18633808,  0.13434607,  0.17748527, -0.32364935,\n",
       "                  0.01490305,  0.2890601 , -0.09782197,  0.42713836,\n",
       "                 -0.12731986,  0.166087  ,  0.2206649 ,  0.1801842 ,\n",
       "                 -0.05160215, -0.5159453 ,  0.18758786, -0.227491  ,\n",
       "                 -0.17266577, -0.1659005 ,  0.40405896, -0.17637107,\n",
       "                  0.3058167 ,  0.08908796,  0.40521732, -0.03048955,\n",
       "                 -0.27038792,  0.22716382,  0.3779735 ,  0.02121975,\n",
       "                 -0.37714285, -0.06021009,  0.14214149, -0.01613411,\n",
       "                 -0.34500417,  0.15541391,  0.19098611,  0.07176194,\n",
       "                 -0.00457712,  0.09145339, -0.60423875,  0.04674321,\n",
       "                  0.09213234,  0.12824067,  0.15537785, -0.1141754 ,\n",
       "                  0.03958449, -0.11548389, -0.19152494, -0.0089962 ,\n",
       "                 -0.05483136,  0.10297611, -0.1826771 ], dtype=float32),\n",
       "  labels=DeviceArray([0, 0, 1, 0, 1, 0, 0], dtype=int32)\n",
       ")"
      ]
     },
     "execution_count": 8,
     "metadata": {},
     "output_type": "execute_result"
    }
   ],
   "source": [
    "a0, b0 = 1, 0.01 # hyper-parameters\n",
    "# note that b0 is inverse scale, so this means alpha big, so 1/alpha small! gaussian narrow! dunno why, check paper\n",
    "\n",
    "Root = tfd.JointDistributionCoroutine.Root\n",
    "\n",
    "def get_model(features_batch):\n",
    "    def model():\n",
    "        \"\"\"generator\"\"\"\n",
    "        log_alpha = yield Root(tfd.ExpGamma(a0, b0, name=\"log_alpha\"))                                      # scalar\n",
    "        w = yield tfd.Sample(tfd.Normal(0., 1/np.exp(log_alpha/2)), sample_shape=(num_features,), name=\"w\") # shape (num_features,)\n",
    "        log_odds = jnp.dot(features_batch, w)                                                               # shape (len(features_batch),)\n",
    "        _ = yield tfd.Independent(tfd.Bernoulli(logits=log_odds), name=\"labels\")                            # shape (len(features_batch),) in {0, 1}\n",
    "    return model\n",
    "\n",
    "\n",
    "def get_logp(x_batch, y_batch):\n",
    "    \"\"\"Stochastic estimate of the log-density (up to additive constant)\n",
    "    based on batch\"\"\"\n",
    "    def logp(params):\n",
    "        dist = tfd.JointDistributionCoroutineAutoBatched(get_model(x_batch), validate_args=True)\n",
    "        return dist.log_prob(tuple(params) + (y_batch,))\n",
    "    return logp\n",
    "\n",
    "\n",
    "dist = tfd.JointDistributionCoroutineAutoBatched(get_model(x_train[:7]))\n",
    "key, subkey = random.split(key)\n",
    "dist.sample(seed=subkey)"
   ]
  },
  {
   "cell_type": "code",
   "execution_count": 9,
   "metadata": {},
   "outputs": [],
   "source": [
    "key, subkey = random.split(key)\n",
    "_, w, labels = dist.sample(seed=subkey)\n",
    "def pdf(log_alpha):\n",
    "    return dist.prob((log_alpha, w, labels))"
   ]
  },
  {
   "cell_type": "code",
   "execution_count": 10,
   "metadata": {},
   "outputs": [
    {
     "data": {
      "text/plain": [
       "<matplotlib.lines.Line2D at 0x7f1c96782a30>"
      ]
     },
     "execution_count": 10,
     "metadata": {},
     "output_type": "execute_result"
    },
    {
     "data": {
      "image/png": "[encoded data removed]",
      "text/plain": [
       "<Figure size 432x288 with 1 Axes>"
      ]
     },
     "metadata": {},
     "output_type": "display_data"
    }
   ],
   "source": [
    "# plot.plot_fun(tfd.ExpGamma(a0, b0).prob, lims=(-10, 10))\n",
    "\n",
    "plot.plot_fun(pdf, lims=(-10, 10))\n",
    "log_alpha = np.log(np.var(w))\n",
    "plt.axvline(x=-log_alpha) # makes sense, since 1/alpha \\approx Var(w)"
   ]
  },
  {
   "cell_type": "markdown",
   "metadata": {},
   "source": [
    "Note that we have two distinct types of batching going on: we're using batches of data to estimate the gradient $\\nabla \\log p$, and then we're mapping that gradient over a set of particles."
   ]
  },
  {
   "cell_type": "code",
   "execution_count": 12,
   "metadata": {},
   "outputs": [
    {
     "name": "stdout",
     "output_type": "stream",
     "text": [
      "31.9259\n",
      "31.9259\n",
      "[35.594143 32.977932  5.154272 62.719147 29.080528 46.064434 53.45285 ]\n",
      "[35.594143 32.977932  5.154272 62.719147 29.080528 46.064434 53.45285 ]\n"
     ]
    }
   ],
   "source": [
    "batches = get_batches(x_train, y_train, batch_size=5)\n",
    "x, y = next(batches)\n",
    "del batches\n",
    "logp = get_logp(x, y)\n",
    "\n",
    "dist = tfd.JointDistributionCoroutineAutoBatched(get_model(x), validate_args=True)\n",
    "*params, labels = dist.sample(seed=key)\n",
    "print(dist.log_prob(params + [y]))\n",
    "print(logp(params))\n",
    "\n",
    "# now batched!\n",
    "key, subkey = random.split(key)\n",
    "*params, labels = dist.sample(7, seed=subkey)\n",
    "print(vmap(logp)(params))\n",
    "print(logp(params))"
   ]
  },
  {
   "cell_type": "markdown",
   "metadata": {},
   "source": [
    "# Run inference using minibatches"
   ]
  },
  {
   "cell_type": "markdown",
   "metadata": {},
   "source": [
    "We can ravel (flatten) and unravel parameters like so:"
   ]
  },
  {
   "cell_type": "code",
   "execution_count": 13,
   "metadata": {},
   "outputs": [],
   "source": [
    "params = dist.sample(seed=key)[:-1]\n",
    "params_flat, unravel = jax.flatten_util.ravel_pytree(params)\n",
    "# unravel(params_flat) == params\n",
    "# [a == b for a, b in zip(unravel(params_flat), params)]"
   ]
  },
  {
   "cell_type": "code",
   "execution_count": 14,
   "metadata": {},
   "outputs": [],
   "source": [
    "def get_flat_logp(x_batch, y_batch):\n",
    "    logp = get_logp(x_batch, y_batch)\n",
    "    def flat_logp(params_flat):\n",
    "        return logp(unravel(params_flat))\n",
    "    return flat_logp\n",
    "\n",
    "def ravel(params):\n",
    "    flat, _ = jax.flatten_util.ravel_pytree(params)\n",
    "    return flat\n",
    "\n",
    "def batch_ravel(batch):\n",
    "    return vmap(ravel)(batch)\n",
    "\n",
    "def batch_unravel(batch_flat):\n",
    "    return vmap(unravel)(batch_flat)"
   ]
  },
  {
   "cell_type": "markdown",
   "metadata": {},
   "source": [
    "lr schedule\n",
    "$$\\frac{a}{(t+1)^{0.55}}$$"
   ]
  },
  {
   "cell_type": "code",
   "execution_count": 77,
   "metadata": {},
   "outputs": [],
   "source": [
    "def get_schedule(eta):\n",
    "    def polynomial_schedule(step):\n",
    "        return eta / (step + 1)**0.55\n",
    "    def constant_schedule(step):\n",
    "        return eta/5\n",
    "    return constant_schedule\n",
    "\n",
    "def get_probs(params):\n",
    "    \"\"\"\n",
    "    Argument: sampled model parameters (single sample! need to vmap over sample batch)\n",
    "    Returns logits shaped (n,)\"\"\"\n",
    "    test_dist = tfd.JointDistributionCoroutineAutoBatched(get_model(x_test))\n",
    "    dists, _ = test_dist.sample_distributions(seed=random.PRNGKey(0), value=params + (None,))\n",
    "    probs = dists[-1].distribution.probs_parameter() # spits out probability of labels\n",
    "    return probs\n",
    "\n",
    "def get_preds(params):\n",
    "    \"\"\"\n",
    "    Argument: sampled model parameters (batch)\n",
    "    Returns predictions on test set\n",
    "    \"\"\"\n",
    "    probs = vmap(get_probs)(params) # shape (n_samples, n_data)\n",
    "    return (probs.mean(axis=0) > 0.5).astype(np.int32)\n",
    "\n",
    "@jit\n",
    "def test_accuracy(params):\n",
    "    \"\"\"\n",
    "    Argument: sampled model parameters (batch)\n",
    "    Returns accuracy on test set\n",
    "    \"\"\"\n",
    "    return np.mean(get_preds(params) == y_test)"
   ]
  },
  {
   "cell_type": "code",
   "execution_count": 70,
   "metadata": {},
   "outputs": [],
   "source": [
    "def run_lmc(key, init_batch):\n",
    "    \"\"\"init_batch is a batch of initial samples / particles.\"\"\"\n",
    "    particles = batch_ravel(init_batch)\n",
    "    schedule = get_schedule(5e-3)\n",
    "    logps = []\n",
    "    accs = []\n",
    "\n",
    "    @jit\n",
    "    def step(key, particles, x, y, step_counter):\n",
    "        eta = schedule(step_counter)\n",
    "        logp = get_flat_logp(x, y)\n",
    "        log_probs, grads = vmap(value_and_grad(logp))(particles)\n",
    "        particles += eta * grads + np.sqrt(2*eta) * random.normal(key, shape=particles.shape)\n",
    "        return particles, log_probs\n",
    "\n",
    "    n_steps = num_batches*3\n",
    "    for i, (x, y) in tqdm(enumerate(get_batches(x_train, y_train, n_steps+1)), total=n_steps):\n",
    "        key, subkey = random.split(key)\n",
    "        particles, log_probs = step(subkey, particles, x, y, i)\n",
    "        logps.append(log_probs)\n",
    "        if i % (n_steps//4)==0:\n",
    "            accs.append(test_accuracy(batch_unravel(particles)))\n",
    "    return batch_unravel(particles), {\"logp\": np.array(logps), \"accuracy\": np.array(accs)}"
   ]
  },
  {
   "cell_type": "code",
   "execution_count": 71,
   "metadata": {},
   "outputs": [],
   "source": [
    "def run_svgd(init_batch):\n",
    "    \"\"\"init_batch is a batch of initial samples / particles.\"\"\"\n",
    "    particles = batch_ravel(init_batch)\n",
    "    schedule = get_schedule(1e-1)\n",
    "    logps = []\n",
    "    accs = []\n",
    "\n",
    "    @jit\n",
    "    def step(particles, x, y, step_counter):\n",
    "        eta = schedule(step_counter)\n",
    "        logp = get_flat_logp(x, y)\n",
    "        kernel = kernels.get_rbf_kernel(kernels.median_heuristic(particles))\n",
    "        phistar = stein.get_phistar(kernel, logp, particles)\n",
    "        log_probs = vmap(logp)(particles)\n",
    "        return particles + eta * vmap(phistar)(particles), log_probs\n",
    "\n",
    "    n_steps = num_batches*3\n",
    "    for i, (x, y) in tqdm(enumerate(get_batches(x_train, y_train, n_steps+1)), total=n_steps):\n",
    "        particles, log_probs = step(particles, x, y, i)\n",
    "        logps.append(log_probs)\n",
    "        if i % (n_steps//4)==0:\n",
    "            accs.append(test_accuracy(batch_unravel(particles)))\n",
    "    return batch_unravel(particles), {\"logp\": np.array(logps), \"accuracy\": np.array(accs)}"
   ]
  },
  {
   "cell_type": "code",
   "execution_count": 72,
   "metadata": {},
   "outputs": [],
   "source": [
    "# def run_neural_svgd(key, init_batch):\n",
    "#     \"\"\"init_batch is a batch of initial samples / particles.\"\"\"\n",
    "#     particles = batch_ravel(init_batch)\n",
    "#     schedule = get_schedule(5e-2)\n",
    "#     logps = []\n",
    "#     init_batch = batch_ravel(init_batch)\n",
    "#     key, keya, keyb = random.split(key, 3)\n",
    "#     learner = models.SDLearner(target_logp=logp, target_dim=init_batch.shape[1], key=keya)\n",
    "\n",
    "#     particles = models.Particles(key=keyb,\n",
    "#                                  gradient=learner.gradient,\n",
    "#                                  init_samples=init_batch,\n",
    "#                                  learning_rate=1e-3,\n",
    "#                                  num_groups=2)\n",
    "#     next_batch = partial(particles.next_batch, batch_size=None)\n",
    "#     for x, y in get_batches(x_train, y_train, 10):\n",
    "#         key, subkey = random.split(key)\n",
    "#         learner.train(next_batch, key=subkey, n_steps=1)\n",
    "#         particles.step(learner.get_params())\n",
    "#     return batch_unravel(particles.particles.training), learner, particles"
   ]
  },
  {
   "cell_type": "code",
   "execution_count": 73,
   "metadata": {},
   "outputs": [
    {
     "name": "stderr",
     "output_type": "stream",
     "text": [
      "13945it [00:12, 1112.57it/s]                           \n",
      "13945it [01:08, 202.24it/s]                           \n"
     ]
    }
   ],
   "source": [
    "# Run samplers\n",
    "init_batch = dist.sample(100, seed=key)[:-1]\n",
    "lmc_samples, lmc_aux = run_lmc(key, init_batch)\n",
    "svgd_samples, svgd_aux = run_svgd(init_batch)\n",
    "# neural_samples, neural_gradient, neural_particles = run_neural_svgd(key, init_batch)"
   ]
  },
  {
   "cell_type": "markdown",
   "metadata": {},
   "source": [
    "## Evaluate samples on test set"
   ]
  },
  {
   "cell_type": "code",
   "execution_count": 74,
   "metadata": {},
   "outputs": [
    {
     "data": {
      "text/plain": [
       "<matplotlib.legend.Legend at 0x7f1c60d4ba90>"
      ]
     },
     "execution_count": 74,
     "metadata": {},
     "output_type": "execute_result"
    },
    {
     "data": {
      "image/png": "[encoded data removed]",
      "text/plain": [
       "<Figure size 432x288 with 1 Axes>"
      ]
     },
     "metadata": {},
     "output_type": "display_data"
    }
   ],
   "source": [
    "plt.plot(lmc_aux[\"accuracy\"], \"--.\", label=\"SGLD\")\n",
    "plt.plot(svgd_aux[\"accuracy\"], \"--.\", label=\"SVGD\")\n",
    "plt.legend()"
   ]
  },
  {
   "cell_type": "code",
   "execution_count": 58,
   "metadata": {},
   "outputs": [
    {
     "data": {
      "text/plain": [
       "[<matplotlib.lines.Line2D at 0x7f1c954d5bb0>]"
      ]
     },
     "execution_count": 58,
     "metadata": {},
     "output_type": "execute_result"
    },
    {
     "data": {
      "image/png": "[encoded data removed]",
      "text/plain": [
       "<Figure size 432x288 with 1 Axes>"
      ]
     },
     "metadata": {},
     "output_type": "display_data"
    }
   ],
   "source": [
    "plt.plot(lmc_aux[\"accuracy\"], \"--.\", label=\"SGLD\")\n",
    "plt.plot(svgd_aux[\"accuracy\"], \"--.\", label=\"SVGD\")\n",
    "plt.legend()"
   ]
  },
  {
   "cell_type": "code",
   "execution_count": 78,
   "metadata": {},
   "outputs": [
    {
     "name": "stdout",
     "output_type": "stream",
     "text": [
      "LMC accuracy: 0.623934\n",
      "SVGD accuracy: 0.5137819\n",
      "prior samples accuracy: 0.48620948\n"
     ]
    }
   ],
   "source": [
    "print(\"LMC accuracy:\", test_accuracy(lmc_samples))\n",
    "print(\"SVGD accuracy:\", test_accuracy(svgd_samples))\n",
    "key, subkey = random.split(key)\n",
    "print(\"prior samples accuracy:\", test_accuracy(dist.sample(500, seed=subkey)[:-1]))"
   ]
  },
  {
   "cell_type": "markdown",
   "metadata": {},
   "source": [
    "### compute test log-likelihood"
   ]
  },
  {
   "cell_type": "code",
   "execution_count": 60,
   "metadata": {},
   "outputs": [],
   "source": [
    "test_batches = get_batches(x_test, y_test, batch_size=5000)"
   ]
  },
  {
   "cell_type": "code",
   "execution_count": 61,
   "metadata": {},
   "outputs": [],
   "source": [
    "x, y = next(test_batches)\n",
    "test_logp = get_logp(x, y)"
   ]
  },
  {
   "cell_type": "code",
   "execution_count": 62,
   "metadata": {},
   "outputs": [
    {
     "data": {
      "text/plain": [
       "<matplotlib.legend.Legend at 0x7f1c55307880>"
      ]
     },
     "execution_count": 62,
     "metadata": {},
     "output_type": "execute_result"
    },
    {
     "data": {
      "image/png": "[encoded data removed]",
      "text/plain": [
       "<Figure size 432x288 with 1 Axes>"
      ]
     },
     "metadata": {},
     "output_type": "display_data"
    }
   ],
   "source": [
    "plt.plot(lmc_aux[\"logp\"].mean(axis=1), label=\"LMC\")\n",
    "plt.plot(svgd_aux[\"logp\"].mean(axis=1), label=\"SVGD\")\n",
    "plt.legend()"
   ]
  },
  {
   "cell_type": "code",
   "execution_count": 63,
   "metadata": {},
   "outputs": [
    {
     "data": {
      "text/plain": [
       "<matplotlib.legend.Legend at 0x7f1c55349d30>"
      ]
     },
     "execution_count": 63,
     "metadata": {},
     "output_type": "execute_result"
    },
    {
     "data": {
      "image/png": "[encoded data removed]",
      "text/plain": [
       "<Figure size 576x360 with 1 Axes>"
      ]
     },
     "metadata": {},
     "output_type": "display_data"
    }
   ],
   "source": [
    "lmc_test_logp = np.mean(vmap(test_logp)(lmc_samples))\n",
    "svgd_test_logp = np.mean(vmap(test_logp)(svgd_samples))\n",
    "\n",
    "fig, ax = plt.subplots(figsize=[8, 5])\n",
    "# ax.plot(svgd_logps.mean(axis=1), label=\"SVGD\")\n",
    "ax.axhline(y=svgd_test_logp, label=\"SVGD test\", color=\"tab:blue\")\n",
    "\n",
    "# ax.plot(lmc_logps.mean(axis=1), label=\"LMC\")\n",
    "ax.axhline(y=lmc_test_logp, label=\"LMC test\", color=\"tab:orange\")\n",
    "\n",
    "plt.legend()"
   ]
  },
  {
   "cell_type": "code",
   "execution_count": null,
   "metadata": {},
   "outputs": [],
   "source": []
  },
  {
   "cell_type": "code",
   "execution_count": null,
   "metadata": {},
   "outputs": [],
   "source": []
  }
 ],
 "metadata": {
  "kernelspec": {
   "display_name": "msc-thesis",
   "language": "python",
   "name": "msc-thesis"
  },
  "language_info": {
   "codemirror_mode": {
    "name": "ipython",
    "version": 3
   },
   "file_extension": ".py",
   "mimetype": "text/x-python",
   "name": "python",
   "nbconvert_exporter": "python",
   "pygments_lexer": "ipython3",
   "version": "3.8.5"
  }
 },
 "nbformat": 4,
 "nbformat_minor": 4
}
