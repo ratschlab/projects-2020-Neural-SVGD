{
 "cells": [
  {
   "cell_type": "markdown",
   "metadata": {},
   "source": [
    "# Covertype"
   ]
  },
  {
   "cell_type": "code",
   "execution_count": 1,
   "metadata": {},
   "outputs": [
    {
     "name": "stderr",
     "output_type": "stream",
     "text": [
      "/home/lauro/.virtualenvs/msc-thesis/lib/python3.8/site-packages/jax/lib/xla_bridge.py:130: UserWarning: No GPU/TPU found, falling back to CPU.\n",
      "  warnings.warn('No GPU/TPU found, falling back to CPU.')\n"
     ]
    }
   ],
   "source": [
    "%load_ext autoreload\n",
    "import sys\n",
    "import os\n",
    "sys.path.append(\"/home/lauro/code/msc-thesis/svgd/kernel_learning/\")\n",
    "from jax import config\n",
    "config.update(\"jax_debug_nans\", False)\n",
    "from tqdm import tqdm\n",
    "from jax import config\n",
    "\n",
    "\n",
    "import jax.numpy as jnp\n",
    "import jax.numpy as np\n",
    "from jax import grad, jit, vmap, random, lax, jacfwd, value_and_grad\n",
    "from jax.ops import index_update, index\n",
    "import matplotlib.pyplot as plt\n",
    "import matplotlib\n",
    "import numpy as onp\n",
    "import jax\n",
    "import pandas as pd\n",
    "import scipy\n",
    "import haiku as hk\n",
    "    \n",
    "import utils\n",
    "import plot\n",
    "import distributions\n",
    "import stein\n",
    "import models\n",
    "import flows\n",
    "from itertools import cycle, islice\n",
    "    \n",
    "key = random.PRNGKey(0)\n",
    "\n",
    "from sklearn.model_selection import train_test_split\n",
    "\n",
    "from functools import partial\n",
    "import kernels\n",
    "\n",
    "import matplotlib.pyplot as plt\n",
    "import seaborn as sns\n",
    "from sklearn import datasets\n",
    "sns.set(style='white')\n",
    "\n",
    "from tensorflow_probability.substrates import jax as tfp\n",
    "tfd = tfp.distributions\n",
    "tfb = tfp.bijectors\n",
    "tfpk = tfp.math.psd_kernels"
   ]
  },
  {
   "cell_type": "markdown",
   "metadata": {},
   "source": [
    "# Data"
   ]
  },
  {
   "cell_type": "code",
   "execution_count": 2,
   "metadata": {},
   "outputs": [],
   "source": [
    "data = scipy.io.loadmat('/home/lauro/code/msc-thesis/wang_svgd/data/covertype.mat')\n",
    "features = data['covtype'][:, 1:]\n",
    "features = onp.hstack([features, onp.ones([features.shape[0], 1])]) # add intercept term\n",
    "\n",
    "labels = data['covtype'][:, 0]\n",
    "labels[labels == 2] = 0\n",
    "\n",
    "x_train, x_test, y_train, y_test = train_test_split(features, labels, test_size=0.2, random_state=42)\n",
    "\n",
    "num_features = features.shape[-1]\n",
    "num_classes = len(onp.unique(labels))"
   ]
  },
  {
   "cell_type": "code",
   "execution_count": 3,
   "metadata": {},
   "outputs": [],
   "source": [
    "def get_batches(x, y, n_steps=500, batch_size=100):\n",
    "    \"\"\"Split x and y into batches\"\"\"\n",
    "    assert len(x) == len(y)\n",
    "    n = len(x)\n",
    "    idxs = onp.random.choice(n, size=(n_steps, batch_size))\n",
    "    for idx in idxs:\n",
    "        yield x[idx], y[idx]\n",
    "#     batch_cycle = cycle(zip(*[onp.array_split(data, len(data)//batch_size) for data in (x, y)]))\n",
    "#     return islice(batch_cycle, n_steps)\n",
    "\n",
    "num_batches = len(x_train) // 100"
   ]
  },
  {
   "cell_type": "code",
   "execution_count": 4,
   "metadata": {},
   "outputs": [],
   "source": [
    "# def get_batches(x, y, n_steps=500, batch_size=100):\n",
    "#     \"\"\"Split x and y into batches\"\"\"\n",
    "#     assert len(x) == len(y)\n",
    "#     batch_cycle = cycle(zip(*[onp.array_split(data, len(data)//batch_size) for data in (x, y)]))\n",
    "#     return islice(batch_cycle, n_steps)\n",
    "\n",
    "# num_batches = len(x_train) // 100"
   ]
  },
  {
   "cell_type": "code",
   "execution_count": 5,
   "metadata": {},
   "outputs": [],
   "source": [
    "# batches = get_batches(x_train, y_train, batch_size=5)"
   ]
  },
  {
   "cell_type": "markdown",
   "metadata": {},
   "source": [
    "# Model"
   ]
  },
  {
   "cell_type": "markdown",
   "metadata": {
    "colab_type": "text",
    "id": "9pXr2atnk8xA"
   },
   "source": [
    "We can define the model using `tfd.JointDistributionCoroutine`."
   ]
  },
  {
   "cell_type": "markdown",
   "metadata": {},
   "source": [
    "### TODO: try adagrad / adadelta / adam???"
   ]
  },
  {
   "cell_type": "markdown",
   "metadata": {},
   "source": [
    "### TODO file bug: gamma pdf wrong in tfd"
   ]
  },
  {
   "cell_type": "code",
   "execution_count": 6,
   "metadata": {},
   "outputs": [
    {
     "name": "stdout",
     "output_type": "stream",
     "text": [
      "skip assert _assert_compare_to_zero\n"
     ]
    },
    {
     "data": {
      "image/png": "[encoded data removed]",
      "text/plain": [
       "<Figure size 432x288 with 1 Axes>"
      ]
     },
     "metadata": {},
     "output_type": "display_data"
    }
   ],
   "source": [
    "a0, b0 = 1, 0.01 # hyper-parameters\n",
    "t = tfd.Gamma(a0, b0, validate_args=True)\n",
    "gamma_pdf = lambda x: jax.scipy.stats.gamma.pdf(x, a0, 0, 1/b0)\n",
    "plot.plot_fun(t.prob, lims=(-10,100))\n",
    "plot.plot_fun(gamma_pdf, lims=(-10, 100))"
   ]
  },
  {
   "cell_type": "code",
   "execution_count": 7,
   "metadata": {},
   "outputs": [
    {
     "data": {
      "text/plain": [
       "StructTuple(\n",
       "  log_alpha=DeviceArray(-3.8738952, dtype=float32),\n",
       "  w=DeviceArray([  2.99173   ,  13.088244  ,  -8.02397   ,   2.6047595 ,\n",
       "                  -5.8925276 ,   4.2483954 ,   5.612577  , -10.234691  ,\n",
       "                   0.4712759 ,   9.1408825 ,  -3.0934024 ,  13.507301  ,\n",
       "                  -4.0262074 ,   5.252132  ,   6.978037  ,   5.6979246 ,\n",
       "                  -1.6318034 , -16.315622  ,   5.932049  ,  -7.1938972 ,\n",
       "                  -5.4601707 ,  -5.2462344 ,  12.777466  ,  -5.5773425 ,\n",
       "                   9.6707735 ,   2.8172088 ,  12.814096  ,  -0.9641641 ,\n",
       "                  -8.550417  ,   7.1835504 ,  11.952571  ,   0.6710275 ,\n",
       "                 -11.926304  ,  -1.9040103 ,   4.494909  ,  -0.51020527,\n",
       "                 -10.909989  ,   4.9146194 ,   6.0395107 ,   2.2693117 ,\n",
       "                  -0.14474118,   2.8920102 , -19.107708  ,   1.4781501 ,\n",
       "                   2.9134803 ,   4.0553265 ,   4.913479  ,  -3.6105433 ,\n",
       "                   1.2517713 ,  -3.6519215 ,  -6.0565505 ,  -0.28448495,\n",
       "                  -1.73392   ,   3.2563906 ,  -5.7767572 ], dtype=float32),\n",
       "  labels=DeviceArray([0, 0, 0, 0, 1, 0, 0], dtype=int32)\n",
       ")"
      ]
     },
     "execution_count": 7,
     "metadata": {},
     "output_type": "execute_result"
    }
   ],
   "source": [
    "a0, b0 = 1, 0.01 # hyper-parameters\n",
    "# note that b0 is inverse scale, so this means alpha big, 1/alpha small! gaussian narrow! dunno why, check paper\n",
    "\n",
    "a0, b0 = 1, 10 # b approx equals variance\n",
    "\n",
    "Root = tfd.JointDistributionCoroutine.Root\n",
    "\n",
    "def get_model(features_batch):\n",
    "    def model():\n",
    "        \"\"\"generator\"\"\"\n",
    "        log_alpha = yield Root(tfd.ExpGamma(a0, b0, name=\"log_alpha\"))                                      # scalar\n",
    "        w = yield tfd.Sample(tfd.Normal(0., 1/np.exp(log_alpha/2)), sample_shape=(num_features,), name=\"w\") # shape (num_features,)\n",
    "        log_odds = jnp.dot(features_batch, w)                                                               # shape (len(features_batch),)\n",
    "        _ = yield tfd.Independent(tfd.Bernoulli(logits=log_odds), name=\"labels\")                            # shape (len(features_batch),) in {0, 1}\n",
    "    return model\n",
    "\n",
    "\n",
    "def get_logp(x_batch, y_batch):\n",
    "    \"\"\"Stochastic estimate of the log-density (up to additive constant)\n",
    "    based on batch\"\"\"\n",
    "    def logp(params):\n",
    "        dist = tfd.JointDistributionCoroutineAutoBatched(get_model(x_batch), validate_args=True)\n",
    "        return dist.log_prob(tuple(params) + (y_batch,))\n",
    "    return logp\n",
    "\n",
    "\n",
    "dist = tfd.JointDistributionCoroutineAutoBatched(get_model(x_train[:7]))\n",
    "key, subkey = random.split(key)\n",
    "dist.sample(seed=subkey)"
   ]
  },
  {
   "cell_type": "code",
   "execution_count": 8,
   "metadata": {},
   "outputs": [],
   "source": [
    "key, subkey = random.split(key)\n",
    "_, w, labels = dist.sample(seed=subkey)\n",
    "def pdf(log_alpha):\n",
    "    return dist.prob((log_alpha, w, labels))"
   ]
  },
  {
   "cell_type": "code",
   "execution_count": 9,
   "metadata": {},
   "outputs": [
    {
     "data": {
      "text/plain": [
       "<matplotlib.lines.Line2D at 0x7f039430a6d0>"
      ]
     },
     "execution_count": 9,
     "metadata": {},
     "output_type": "execute_result"
    },
    {
     "data": {
      "image/png": "[encoded data removed]",
      "text/plain": [
       "<Figure size 432x288 with 1 Axes>"
      ]
     },
     "metadata": {},
     "output_type": "display_data"
    }
   ],
   "source": [
    "# plot.plot_fun(tfd.ExpGamma(a0, b0).prob, lims=(-10, 10))\n",
    "\n",
    "plot.plot_fun(pdf, lims=(-10, 10))\n",
    "log_alpha = np.log(np.var(w))\n",
    "plt.axvline(x=-log_alpha) # makes sense, since 1/alpha \\approx Var(w)"
   ]
  },
  {
   "cell_type": "markdown",
   "metadata": {},
   "source": [
    "Note that we have two distinct types of batching going on: we're using batches of data to estimate the gradient $\\nabla \\log p$, and then we're mapping that gradient over a set of particles."
   ]
  },
  {
   "cell_type": "code",
   "execution_count": 10,
   "metadata": {},
   "outputs": [
    {
     "name": "stdout",
     "output_type": "stream",
     "text": [
      "-161.20674\n",
      "-161.20674\n",
      "[-156.89798 -173.19777 -207.66058 -127.30387 -162.95769 -145.0297\n",
      " -135.09482]\n",
      "[-156.89798 -173.19777 -207.66058 -127.30387 -162.95769 -145.0297\n",
      " -135.09482]\n"
     ]
    }
   ],
   "source": [
    "batches = get_batches(x_train, y_train, batch_size=5)\n",
    "x, y = next(batches)\n",
    "del batches\n",
    "logp = get_logp(x, y)\n",
    "\n",
    "dist = tfd.JointDistributionCoroutineAutoBatched(get_model(x), validate_args=True)\n",
    "*params, labels = dist.sample(seed=key)\n",
    "print(dist.log_prob(params + [y]))\n",
    "print(logp(params))\n",
    "\n",
    "# now batched!\n",
    "key, subkey = random.split(key)\n",
    "*params, labels = dist.sample(7, seed=subkey)\n",
    "print(vmap(logp)(params))\n",
    "print(logp(params))"
   ]
  },
  {
   "cell_type": "markdown",
   "metadata": {},
   "source": [
    "# Run inference using minibatches"
   ]
  },
  {
   "cell_type": "markdown",
   "metadata": {},
   "source": [
    "We can ravel (flatten) and unravel parameters like so:"
   ]
  },
  {
   "cell_type": "code",
   "execution_count": 11,
   "metadata": {},
   "outputs": [],
   "source": [
    "params = dist.sample(seed=key)[:-1]\n",
    "params_flat, unravel = jax.flatten_util.ravel_pytree(params)\n",
    "# unravel(params_flat) == params\n",
    "# [a == b for a, b in zip(unravel(params_flat), params)]"
   ]
  },
  {
   "cell_type": "code",
   "execution_count": 44,
   "metadata": {},
   "outputs": [],
   "source": [
    "def get_flat_logp(x_batch, y_batch):\n",
    "    logp = get_logp(x_batch, y_batch)\n",
    "    def flat_logp(params_flat):\n",
    "        return logp(unravel(params_flat))\n",
    "    return flat_logp\n",
    "\n",
    "@jit\n",
    "def mean_logp(x_batch, y_batch, flat_particles):\n",
    "    logp = get_flat_logp(x_batch, y_batch)\n",
    "    return np.mean(vmap(logp)(flat_particles))\n",
    "\n",
    "def ravel(params):\n",
    "    flat, _ = jax.flatten_util.ravel_pytree(params)\n",
    "    return flat\n",
    "\n",
    "def batch_ravel(batch):\n",
    "    return vmap(ravel)(batch)\n",
    "\n",
    "def batch_unravel(batch_flat):\n",
    "    return vmap(unravel)(batch_flat)"
   ]
  },
  {
   "cell_type": "markdown",
   "metadata": {},
   "source": [
    "lr schedule\n",
    "$$\\frac{a}{(t+1)^{0.55}}$$"
   ]
  },
  {
   "cell_type": "code",
   "execution_count": 13,
   "metadata": {},
   "outputs": [],
   "source": [
    "def get_schedule(eta):\n",
    "    def polynomial_schedule(step):\n",
    "        return eta / (step + 1)**0.55\n",
    "    def constant_schedule(step):\n",
    "        return eta/5\n",
    "    return constant_schedule\n",
    "\n",
    "def get_probs(params):\n",
    "    \"\"\"\n",
    "    Argument: sampled model parameters (single sample! need to vmap over sample batch)\n",
    "    Returns logits shaped (n,)\"\"\"\n",
    "    test_dist = tfd.JointDistributionCoroutineAutoBatched(get_model(x_test))\n",
    "    dists, _ = test_dist.sample_distributions(seed=random.PRNGKey(0), value=params + (None,))\n",
    "    probs = dists[-1].distribution.probs_parameter() # spits out probability of labels\n",
    "    return probs\n",
    "\n",
    "def get_preds(params):\n",
    "    \"\"\"\n",
    "    Argument: sampled model parameters (batch)\n",
    "    Returns predictions on test set\n",
    "    \"\"\"\n",
    "    probs = vmap(get_probs)(params) # shape (n_samples, n_data)\n",
    "    return (probs.mean(axis=0) > 0.5).astype(np.int32)\n",
    "\n",
    "@jit\n",
    "def test_accuracy(params):\n",
    "    \"\"\"\n",
    "    Argument: sampled model parameters (batch)\n",
    "    Returns accuracy on test set\n",
    "    \"\"\"\n",
    "    return np.mean(get_preds(params) == y_test)"
   ]
  },
  {
   "cell_type": "code",
   "execution_count": 14,
   "metadata": {},
   "outputs": [],
   "source": [
    "%autoreload"
   ]
  },
  {
   "cell_type": "code",
   "execution_count": 15,
   "metadata": {},
   "outputs": [],
   "source": [
    "def run_sgld(key, init_batch):\n",
    "    \"\"\"init_batch is a batch of initial samples / particles.\"\"\"\n",
    "    init_batch_flat = batch_ravel(init_batch)\n",
    "\n",
    "    def energy_gradient(params, particles, aux=True):\n",
    "        \"\"\"params = [batch_x, batch_y]\"\"\"\n",
    "        logp = get_flat_logp(*params)\n",
    "        log_probs, grads = vmap(value_and_grad(logp))(particles)\n",
    "        if aux:\n",
    "            return -grads, {\"logp\": np.mean(log_probs)}\n",
    "        else:\n",
    "            return -grads\n",
    "\n",
    "    particles = models.Particles(key, energy_gradient, init_batch_flat,\n",
    "                                noise_level=1.,\n",
    "                                learning_rate=1e-4)\n",
    "\n",
    "    accs = []\n",
    "    n_steps = num_batches*3\n",
    "    for i, batch_xy in tqdm(enumerate(get_batches(x_train, y_train, n_steps+1)), total=n_steps):\n",
    "        particles.step(batch_xy)\n",
    "        if i % (n_steps//4)==0:\n",
    "            accs.append(test_accuracy(batch_unravel(particles.particles.training)))\n",
    "    particles.perturb()\n",
    "    return batch_unravel(particles.particles.training), accs, particles"
   ]
  },
  {
   "cell_type": "code",
   "execution_count": 16,
   "metadata": {},
   "outputs": [],
   "source": [
    "def run_svgd(init_batch):\n",
    "    \"\"\"init_batch is a batch of initial samples / particles.\"\"\"\n",
    "    init_batch_flat = batch_ravel(init_batch)\n",
    "    accs = []\n",
    "\n",
    "    svgd_grad = models.KernelGradient(get_target_logp=lambda batch: get_flat_logp(*batch))\n",
    "    particles = models.Particles(key, svgd_grad.gradient, init_batch_flat)\n",
    "\n",
    "    n_steps = num_batches*3\n",
    "    for i, batch in tqdm(enumerate(get_batches(x_train, y_train, n_steps+1)), total=n_steps):\n",
    "        particles.step(batch)\n",
    "        if i % (n_steps//4)==0:\n",
    "            accs.append(test_accuracy(batch_unravel(particles.particles.training)))\n",
    "    return batch_unravel(particles.particles.training), accs, particles"
   ]
  },
  {
   "cell_type": "code",
   "execution_count": 45,
   "metadata": {},
   "outputs": [],
   "source": [
    "def run_neural_svgd(key, init_batch):\n",
    "    \"\"\"init_batch is a batch of initial samples / particles.\n",
    "    Note: there's two types of things I call 'batch': a batch from the dataset\n",
    "    and a batch of particles. don't confuse them\"\"\"\n",
    "    init_batch_flat = batch_ravel(init_batch)\n",
    "    accs = []\n",
    "\n",
    "    key, key1, key2 = random.split(key, 3)\n",
    "    neural_grad = models.SDLearner(target_dim=init_batch_flat.shape[1],\n",
    "                                   get_target_logp=lambda batch: get_flat_logp(*batch),\n",
    "                                   key=key1)\n",
    "    particles = models.Particles(key2, neural_grad.gradient, init_batch_flat)\n",
    "\n",
    "    n_steps = num_batches*3\n",
    "    for i, data_batch in tqdm(enumerate(get_batches(x_train, y_train, n_steps+1)), total=n_steps):\n",
    "        neural_grad.train(next_batch=particles.next_batch, n_steps=1, data=data_batch)\n",
    "        particles.step(neural_grad.get_params())\n",
    "        particles.write_to_log({\"logp\": mean_logp(*data_batch, particles.particles.training)})\n",
    "        if i % (n_steps//4)==0:\n",
    "            accs.append(test_accuracy(batch_unravel(particles.particles.training)))\n",
    "    return batch_unravel(particles.particles.training), accs, particles, neural_grad"
   ]
  },
  {
   "cell_type": "code",
   "execution_count": 47,
   "metadata": {},
   "outputs": [
    {
     "name": "stderr",
     "output_type": "stream",
     "text": [
      "13945it [01:40, 139.07it/s]                           \n"
     ]
    }
   ],
   "source": [
    "# Run samplers\n",
    "init_batch = dist.sample(100, seed=key)[:-1]\n",
    "sgld_samples, sgld_accs, sgld_p = run_sgld(key, init_batch)\n",
    "svgd_samples, svgd_accs, svgd_p = run_svgd(init_batch)\n",
    "neural_samples, neural_accs, neural_p, neural_grad = run_neural_svgd(key, init_batch)"
   ]
  },
  {
   "cell_type": "markdown",
   "metadata": {},
   "source": [
    "## Evaluate samples on test set"
   ]
  },
  {
   "cell_type": "code",
   "execution_count": 48,
   "metadata": {},
   "outputs": [
    {
     "data": {
      "text/plain": [
       "<matplotlib.legend.Legend at 0x7f033fc6c0d0>"
      ]
     },
     "execution_count": 48,
     "metadata": {},
     "output_type": "execute_result"
    },
    {
     "data": {
      "image/png": "[encoded data removed]",
      "text/plain": [
       "<Figure size 432x288 with 1 Axes>"
      ]
     },
     "metadata": {},
     "output_type": "display_data"
    }
   ],
   "source": [
    "# plt.plot(lmc_aux[\"accuracy\"], \"--.\", label=\"SGLD\")\n",
    "plt.plot(sgld_accs, \"--.\", label=\"SGLD\")\n",
    "plt.plot(svgd_accs, \"--.\", label=\"SVGD\")\n",
    "plt.plot(neural_accs, \"--.\", label=\"Neural\")\n",
    "plt.legend()"
   ]
  },
  {
   "cell_type": "code",
   "execution_count": 49,
   "metadata": {},
   "outputs": [],
   "source": [
    "sgld_aux = sgld_p.rundata\n",
    "svgd_aux = svgd_p.rundata\n",
    "neural_aux = neural_p.rundata"
   ]
  },
  {
   "cell_type": "code",
   "execution_count": 50,
   "metadata": {},
   "outputs": [
    {
     "name": "stdout",
     "output_type": "stream",
     "text": [
      "SGLD accuracy: 0.6846037\n",
      "SVGD accuracy: 0.6933126\n",
      "Neural accuracy: 0.72126365\n",
      "prior samples accuracy: 0.5047374\n"
     ]
    }
   ],
   "source": [
    "print(\"SGLD accuracy:\", test_accuracy(sgld_samples))\n",
    "print(\"SVGD accuracy:\", test_accuracy(svgd_samples))\n",
    "print(\"Neural accuracy:\", test_accuracy(neural_samples))\n",
    "key, subkey = random.split(key)\n",
    "print(\"prior samples accuracy:\", test_accuracy(dist.sample(500, seed=subkey)[:-1]))"
   ]
  },
  {
   "cell_type": "markdown",
   "metadata": {},
   "source": [
    "### compute log-likelihoods (train and test)"
   ]
  },
  {
   "cell_type": "code",
   "execution_count": 51,
   "metadata": {},
   "outputs": [],
   "source": [
    "test_batches = get_batches(x_test, y_test, batch_size=5000)"
   ]
  },
  {
   "cell_type": "code",
   "execution_count": 56,
   "metadata": {},
   "outputs": [
    {
     "data": {
      "text/plain": [
       "<matplotlib.legend.Legend at 0x7f033fb8ed90>"
      ]
     },
     "execution_count": 56,
     "metadata": {},
     "output_type": "execute_result"
    },
    {
     "data": {
      "image/png": "[encoded data removed]",
      "text/plain": [
       "<Figure size 432x288 with 1 Axes>"
      ]
     },
     "metadata": {},
     "output_type": "display_data"
    }
   ],
   "source": [
    "plt.plot(sgld_aux[\"training_logp\"], label=\"LMC\")\n",
    "plt.plot(onp.mean(svgd_aux[\"training_logp\"], axis=1), label=\"SVGD\")\n",
    "plt.plot(neural_aux[\"logp\"], label=\"Neural\")\n",
    "plt.legend()"
   ]
  },
  {
   "cell_type": "code",
   "execution_count": 57,
   "metadata": {},
   "outputs": [],
   "source": [
    "x, y = next(test_batches)\n",
    "test_logp = get_logp(x, y)"
   ]
  },
  {
   "cell_type": "code",
   "execution_count": 74,
   "metadata": {},
   "outputs": [
    {
     "data": {
      "text/plain": [
       "<matplotlib.legend.Legend at 0x7f03530c7790>"
      ]
     },
     "execution_count": 74,
     "metadata": {},
     "output_type": "execute_result"
    },
    {
     "data": {
      "image/png": "[encoded data removed]",
      "text/plain": [
       "<Figure size 576x360 with 1 Axes>"
      ]
     },
     "metadata": {},
     "output_type": "display_data"
    }
   ],
   "source": [
    "test_logps = [mean_logp(x, y, batch_ravel(samples)) for samples in (sgld_samples, svgd_samples, neural_samples)]\n",
    "names = [\"SVGD\", \"SGLD\", \"Neural\"]\n",
    "\n",
    "fig, ax = plt.subplots(figsize=[8, 5])\n",
    "\n",
    "for i, meanlp in enumerate(test_logps):\n",
    "    ax.bar(i, meanlp, label=names[i])\n",
    "\n",
    "plt.legend()"
   ]
  },
  {
   "cell_type": "code",
   "execution_count": null,
   "metadata": {},
   "outputs": [],
   "source": []
  },
  {
   "cell_type": "code",
   "execution_count": null,
   "metadata": {},
   "outputs": [],
   "source": []
  }
 ],
 "metadata": {
  "kernelspec": {
   "display_name": "msc-thesis",
   "language": "python",
   "name": "msc-thesis"
  },
  "language_info": {
   "codemirror_mode": {
    "name": "ipython",
    "version": 3
   },
   "file_extension": ".py",
   "mimetype": "text/x-python",
   "name": "python",
   "nbconvert_exporter": "python",
   "pygments_lexer": "ipython3",
   "version": "3.8.5"
  }
 },
 "nbformat": 4,
 "nbformat_minor": 4
}
