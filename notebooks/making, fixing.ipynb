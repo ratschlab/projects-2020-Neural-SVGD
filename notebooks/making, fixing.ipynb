{
 "cells": [
  {
   "cell_type": "markdown",
   "metadata": {},
   "source": [
    "# making / fixing stuff"
   ]
  },
  {
   "cell_type": "code",
   "execution_count": 1,
   "metadata": {},
   "outputs": [
    {
     "name": "stderr",
     "output_type": "stream",
     "text": [
      "/home/lauro/.virtualenvs/msc-thesis/lib/python3.6/site-packages/jax/lib/xla_bridge.py:125: UserWarning: No GPU/TPU found, falling back to CPU.\n",
      "  warnings.warn('No GPU/TPU found, falling back to CPU.')\n"
     ]
    }
   ],
   "source": [
    "import sys\n",
    "sys.path.append(\"/home/lauro/code/msc-thesis/svgd\")\n",
    "\n",
    "import jax.numpy as np\n",
    "from jax import grad, jit, vmap, random, lax, jacfwd, value_and_grad\n",
    "from jax import lax\n",
    "from jax.ops import index_update, index\n",
    "from jax.experimental import optimizers\n",
    "\n",
    "import matplotlib.pyplot as plt\n",
    "import numpy as onp\n",
    "from tqdm import tqdm\n",
    "import time\n",
    "from functools import partial\n",
    "import itertools\n",
    "import copy\n",
    "\n",
    "import config\n",
    "import utils\n",
    "import metrics\n",
    "import plot\n",
    "from svgd import SVGD\n",
    "import svgd\n",
    "import stein\n",
    "import kernels\n",
    "import train\n",
    "\n",
    "rkey = random.PRNGKey(0)\n",
    "\n",
    "# from jax.config import config; config.update(\"jax_log_compiles\", 1)"
   ]
  },
  {
   "cell_type": "markdown",
   "metadata": {},
   "source": [
    "# make searcher"
   ]
  },
  {
   "cell_type": "code",
   "execution_count": 2,
   "metadata": {},
   "outputs": [
    {
     "name": "stdout",
     "output_type": "stream",
     "text": [
      "True\n",
      "True\n",
      "True\n"
     ]
    }
   ],
   "source": [
    "layers = [\n",
    "    [32, 32],\n",
    "    [32, 32, 32],\n",
    "]\n",
    "optimizer_svgd_args = [[0.1], [1]]\n",
    "#    optmizer_svgd = [\"Adagrad\", \"Adam\"]\n",
    "\n",
    "hp = dict(layers=layers,\n",
    "                                     optimizer_svgd_args=optimizer_svgd_args)\n",
    "hparams = config.flat_to_nested(hp)\n"
   ]
  },
  {
   "cell_type": "code",
   "execution_count": 4,
   "metadata": {},
   "outputs": [
    {
     "data": {
      "text/plain": [
       "{'svgd': {'optimizer_svgd_args': [[0.1], [1]]},\n",
       " 'kernel': {'layers': [[32, 32], [32, 32, 32]]}}"
      ]
     },
     "execution_count": 4,
     "metadata": {},
     "output_type": "execute_result"
    }
   ],
   "source": [
    "hparams"
   ]
  },
  {
   "cell_type": "code",
   "execution_count": 5,
   "metadata": {},
   "outputs": [],
   "source": [
    "def grid_search(base_config, hparams, logdir):\n",
    "    \"\"\"traverse cartesian product of lists in hparams\"\"\"\n",
    "    run_config = copy.deepcopy(base_config)\n",
    "    for svgd_config in utils.dict_cartesian_product(**hparams[\"svgd\"]):\n",
    "        run_config[\"svgd\"].update(svgd_config)\n",
    "#         print(run_config)\n",
    "        svgd = SVGD(**config.get_svgd_args(run_config)) # keep SVGD state, so we don't recompile the kernel every time\n",
    "        for train_config in utils.dict_cartesian_product(**hparams[\"train_kernel\"]):\n",
    "            run_config[\"train_kernel\"].update(train_config)\n",
    "            train.run(run_config, svgd, logdir)"
   ]
  },
  {
   "cell_type": "code",
   "execution_count": 6,
   "metadata": {},
   "outputs": [],
   "source": [
    "base_config = config.config"
   ]
  },
  {
   "cell_type": "code",
   "execution_count": 7,
   "metadata": {},
   "outputs": [],
   "source": [
    "svgd_hparams = {\n",
    "    \"n_particles\": [10, 20, 30],\n",
    "    \"optimizer_svgd_args\": [[1.0], [5.0]]\n",
    "}\n",
    "train_hparams = {\n",
    "    \"key\": [0, 1],\n",
    "    \"n_iter\": [3, 4],\n",
    "}\n",
    "\n",
    "hparams = {\n",
    "    \"svgd\": svgd_hparams,\n",
    "    \"train_kernel\": train_hparams\n",
    "}"
   ]
  },
  {
   "cell_type": "code",
   "execution_count": 8,
   "metadata": {},
   "outputs": [
    {
     "ename": "FileNotFoundError",
     "evalue": "[Errno 2] No such file or directory: './test/2020-07-13__22:08:00/config'",
     "output_type": "error",
     "traceback": [
      "\u001b[0;31m---------------------------------------------------------------------------\u001b[0m",
      "\u001b[0;31mFileNotFoundError\u001b[0m                         Traceback (most recent call last)",
      "\u001b[0;32m<ipython-input-8-a84c157e1180>\u001b[0m in \u001b[0;36m<module>\u001b[0;34m\u001b[0m\n\u001b[1;32m      1\u001b[0m \u001b[0mlogdir\u001b[0m \u001b[0;34m=\u001b[0m \u001b[0;34m\"./test/\"\u001b[0m\u001b[0;34m\u001b[0m\u001b[0;34m\u001b[0m\u001b[0m\n\u001b[0;32m----> 2\u001b[0;31m \u001b[0mgrid_search\u001b[0m\u001b[0;34m(\u001b[0m\u001b[0mbase_config\u001b[0m\u001b[0;34m,\u001b[0m \u001b[0mhparams\u001b[0m\u001b[0;34m,\u001b[0m \u001b[0mlogdir\u001b[0m\u001b[0;34m)\u001b[0m\u001b[0;34m\u001b[0m\u001b[0;34m\u001b[0m\u001b[0m\n\u001b[0m",
      "\u001b[0;32m<ipython-input-5-89c471012650>\u001b[0m in \u001b[0;36mgrid_search\u001b[0;34m(base_config, hparams, logdir)\u001b[0m\n\u001b[1;32m      8\u001b[0m         \u001b[0;32mfor\u001b[0m \u001b[0mtrain_config\u001b[0m \u001b[0;32min\u001b[0m \u001b[0mutils\u001b[0m\u001b[0;34m.\u001b[0m\u001b[0mdict_cartesian_product\u001b[0m\u001b[0;34m(\u001b[0m\u001b[0;34m**\u001b[0m\u001b[0mhparams\u001b[0m\u001b[0;34m[\u001b[0m\u001b[0;34m\"train_kernel\"\u001b[0m\u001b[0;34m]\u001b[0m\u001b[0;34m)\u001b[0m\u001b[0;34m:\u001b[0m\u001b[0;34m\u001b[0m\u001b[0;34m\u001b[0m\u001b[0m\n\u001b[1;32m      9\u001b[0m             \u001b[0mrun_config\u001b[0m\u001b[0;34m[\u001b[0m\u001b[0;34m\"train_kernel\"\u001b[0m\u001b[0;34m]\u001b[0m\u001b[0;34m.\u001b[0m\u001b[0mupdate\u001b[0m\u001b[0;34m(\u001b[0m\u001b[0mtrain_config\u001b[0m\u001b[0;34m)\u001b[0m\u001b[0;34m\u001b[0m\u001b[0;34m\u001b[0m\u001b[0m\n\u001b[0;32m---> 10\u001b[0;31m             \u001b[0mtrain\u001b[0m\u001b[0;34m.\u001b[0m\u001b[0mrun\u001b[0m\u001b[0;34m(\u001b[0m\u001b[0mrun_config\u001b[0m\u001b[0;34m,\u001b[0m \u001b[0msvgd\u001b[0m\u001b[0;34m,\u001b[0m \u001b[0mlogdir\u001b[0m\u001b[0;34m)\u001b[0m\u001b[0;34m\u001b[0m\u001b[0;34m\u001b[0m\u001b[0m\n\u001b[0m",
      "\u001b[0;32m~/code/msc-thesis/svgd/train.py\u001b[0m in \u001b[0;36mrun\u001b[0;34m(cfg, svgd, logdir)\u001b[0m\n\u001b[1;32m     41\u001b[0m         \u001b[0mfiles\u001b[0m \u001b[0;34m=\u001b[0m \u001b[0;34m[\u001b[0m\u001b[0mf\u001b[0m \u001b[0;34m+\u001b[0m \u001b[0;34m\"-new\"\u001b[0m \u001b[0;32mfor\u001b[0m \u001b[0mf\u001b[0m \u001b[0;32min\u001b[0m \u001b[0mfiles\u001b[0m\u001b[0;34m]\u001b[0m\u001b[0;34m\u001b[0m\u001b[0;34m\u001b[0m\u001b[0m\n\u001b[1;32m     42\u001b[0m     \u001b[0mlogfile\u001b[0m\u001b[0;34m,\u001b[0m \u001b[0mconfigfile\u001b[0m\u001b[0;34m,\u001b[0m \u001b[0mdatafile\u001b[0m\u001b[0;34m,\u001b[0m \u001b[0mmetricfile\u001b[0m \u001b[0;34m=\u001b[0m \u001b[0mfiles\u001b[0m\u001b[0;34m\u001b[0m\u001b[0;34m\u001b[0m\u001b[0m\n\u001b[0;32m---> 43\u001b[0;31m     \u001b[0;32mwith\u001b[0m \u001b[0mopen\u001b[0m\u001b[0;34m(\u001b[0m\u001b[0mconfigfile\u001b[0m\u001b[0;34m,\u001b[0m \u001b[0;34m\"w\"\u001b[0m\u001b[0;34m)\u001b[0m \u001b[0;32mas\u001b[0m \u001b[0mf\u001b[0m\u001b[0;34m:\u001b[0m\u001b[0;34m\u001b[0m\u001b[0;34m\u001b[0m\u001b[0m\n\u001b[0m\u001b[1;32m     44\u001b[0m         \u001b[0mf\u001b[0m\u001b[0;34m.\u001b[0m\u001b[0mwrite\u001b[0m\u001b[0;34m(\u001b[0m\u001b[0mjson\u001b[0m\u001b[0;34m.\u001b[0m\u001b[0mdumps\u001b[0m\u001b[0;34m(\u001b[0m\u001b[0mcfg\u001b[0m\u001b[0;34m)\u001b[0m\u001b[0;34m)\u001b[0m\u001b[0;34m\u001b[0m\u001b[0;34m\u001b[0m\u001b[0m\n\u001b[1;32m     45\u001b[0m \u001b[0;34m\u001b[0m\u001b[0m\n",
      "\u001b[0;31mFileNotFoundError\u001b[0m: [Errno 2] No such file or directory: './test/2020-07-13__22:08:00/config'"
     ]
    }
   ],
   "source": [
    "logdir = \"./test/\"\n",
    "grid_search(base_config, hparams, logdir)"
   ]
  },
  {
   "cell_type": "markdown",
   "metadata": {},
   "source": [
    "# Debugging SVGD"
   ]
  },
  {
   "cell_type": "code",
   "execution_count": null,
   "metadata": {},
   "outputs": [],
   "source": [
    "# config\n",
    "kernel = kernels.ard\n",
    "target = metrics.Gaussian(0, 10) # target dist\n",
    "n = 200 # nr particles\n",
    "\n",
    "lr_svgd = 1\n",
    "lr_ksd = 1e-2\n",
    "\n",
    "n_iter = 5\n",
    "ksd_steps = 2\n",
    "svgd_steps = 2\n",
    "    \n",
    "\n",
    "opt_svgd = train.Optimizer(*optimizers.sgd(step_size=lr_svgd))\n",
    "opt_ksd  = train.Optimizer(*optimizers.momentum(step_size=lr_ksd, mass=0.9))\n",
    "\n",
    "hyper = kernels.linear_regression"
   ]
  },
  {
   "cell_type": "code",
   "execution_count": null,
   "metadata": {},
   "outputs": [],
   "source": [
    "s = train.SVGD(target, n, opt_svgd, kernel, hyper)"
   ]
  },
  {
   "cell_type": "markdown",
   "metadata": {},
   "source": [
    "#### now test `s.train`"
   ]
  },
  {
   "cell_type": "code",
   "execution_count": null,
   "metadata": {},
   "outputs": [],
   "source": [
    "key = rkey\n",
    "init_svgd = train.init_svgd"
   ]
  },
  {
   "cell_type": "code",
   "execution_count": null,
   "metadata": {},
   "outputs": [],
   "source": [
    "params, log = s.train_kernel(rkey, n_iter, ksd_steps, svgd_steps, opt_ksd)"
   ]
  },
  {
   "cell_type": "code",
   "execution_count": null,
   "metadata": {},
   "outputs": [],
   "source": []
  },
  {
   "cell_type": "code",
   "execution_count": null,
   "metadata": {},
   "outputs": [],
   "source": []
  },
  {
   "cell_type": "code",
   "execution_count": null,
   "metadata": {},
   "outputs": [],
   "source": [
    "alskdfj"
   ]
  },
  {
   "cell_type": "markdown",
   "metadata": {},
   "source": [
    "# Using optimizers"
   ]
  },
  {
   "cell_type": "code",
   "execution_count": null,
   "metadata": {},
   "outputs": [],
   "source": [
    "from jax.experimental import optimizers\n",
    "from stein import ksd_squared"
   ]
  },
  {
   "cell_type": "markdown",
   "metadata": {},
   "source": [
    "## SVGD and  KSD update"
   ]
  },
  {
   "cell_type": "code",
   "execution_count": null,
   "metadata": {},
   "outputs": [],
   "source": [
    "n = 100\n",
    "dist = metrics.Gaussian(0, 1)"
   ]
  },
  {
   "cell_type": "code",
   "execution_count": null,
   "metadata": {},
   "outputs": [],
   "source": [
    "def init_svgd(key, particle_shape):\n",
    "    return random.normal(key, particle_shape) * 2 - 3\n",
    "\n",
    "def apply_svgd():\n",
    "    pass\n",
    "\n",
    "@partial(jit, static_argnums=1)\n",
    "def phistar(xs, logp, kernel_params):\n",
    "    return svgd.phistar(xs, logp, kernels.ard(kernel_params), None)\n",
    "\n",
    "@jit\n",
    "def apply_ksd(kernel_params, particles):\n",
    "    return ksd_squared(particles, dist.logpdf, kernels.ard(kernel_params))\n",
    "\n",
    "@jit\n",
    "def init_ksd(key, particle_dim):\n",
    "    return random.normal(key)\n",
    "\n",
    "# Initialize particles and kernel parameters\n",
    "particles0 = init_svgd(rkey, (n, 1))\n",
    "kernel_params0 = init_ksd(rkey, 1)\n",
    "\n",
    "# initialize optimizer states # TODO make optimizers individual, else uodates etc dont work\n",
    "opt_init_svgd, opt_update_svgd, get_params_svgd = optimizers.sgd(step_size=1)\n",
    "opt_state_svgd = opt_init_svgd(particles0) # now opt has stored particles in its state\n",
    "\n",
    "opt_init_ksd, opt_update_ksd, get_params_ksd = optimizers.momentum(step_size=0, mass=0.9)\n",
    "opt_state_ksd  = opt_init_ksd(kernel_params0) # now opt has stored params in its state"
   ]
  },
  {
   "cell_type": "code",
   "execution_count": null,
   "metadata": {},
   "outputs": [],
   "source": [
    "dict(hi=1)"
   ]
  },
  {
   "cell_type": "code",
   "execution_count": null,
   "metadata": {},
   "outputs": [],
   "source": [
    "n_iter = 100\n",
    "hs = []\n",
    "ps = []\n",
    "\n",
    "for i in range(n_iter):\n",
    "    # log\n",
    "    hs.append(get_params_ksd(opt_state_ksd))\n",
    "    ps.append(get_params_svgd(opt_state_svgd))\n",
    "    \n",
    "    particles     = get_params_svgd(opt_state_svgd)\n",
    "    kernel_params = get_params_ksd(opt_state_ksd)\n",
    "    \n",
    "    # update kernel_params:\n",
    "    gk = grad(apply_ksd)(kernel_params, particles)\n",
    "    opt_state_ksd = opt_update_ksd(i, gk, opt_state_ksd)\n",
    "\n",
    "    # update particles:\n",
    "    gp = -phistar(particles, dist.logpdf, kernel_params)\n",
    "    opt_state_svgd = opt_update_svgd(i, gp, opt_state_svgd)"
   ]
  },
  {
   "cell_type": "code",
   "execution_count": null,
   "metadata": {},
   "outputs": [],
   "source": [
    "ps = [p[:, 0] for p in ps]"
   ]
  },
  {
   "cell_type": "code",
   "execution_count": null,
   "metadata": {},
   "outputs": [],
   "source": [
    "_ =plt.hist(ps[-1])"
   ]
  },
  {
   "cell_type": "code",
   "execution_count": null,
   "metadata": {},
   "outputs": [],
   "source": [
    "_ = plt.plot(hs)"
   ]
  },
  {
   "cell_type": "code",
   "execution_count": null,
   "metadata": {},
   "outputs": [],
   "source": [
    "for i in range(n_iter):\n",
    "    # log\n",
    "    ps.append(get_params_svgd(opt_state_svgd))\n",
    "    \n",
    "    # update particles:\n",
    "    gp = -phistar(particles, dist.logpdf, kernel_params)\n",
    "    x = x + phistar(x, dist.log)"
   ]
  },
  {
   "cell_type": "markdown",
   "metadata": {},
   "source": [
    "### animate"
   ]
  },
  {
   "cell_type": "code",
   "execution_count": null,
   "metadata": {},
   "outputs": [],
   "source": [
    "%matplotlib widget\n",
    "from matplotlib.animation import FuncAnimation"
   ]
  },
  {
   "cell_type": "code",
   "execution_count": null,
   "metadata": {},
   "outputs": [],
   "source": [
    "# def update(frame):\n",
    "#     i, particles = frame\n",
    "#     if i % 10:\n",
    "#         ax.clear()\n",
    "#         ax.hist(particles, density=True, bins=30)\n",
    "#     ax.set_title(f\"Particles at iteration {i}\")\n",
    "#     return ax\n",
    "\n",
    "# frames = enumerate(ps)\n",
    "# fig, ax = plt.subplots()\n",
    "# anim = FuncAnimation(fig, update, frames=frames)\n",
    "\n",
    "# anim.event_source.stop() # pause\n",
    "# anim.event_source.start() # unpause\n",
    "# plt.show()"
   ]
  },
  {
   "cell_type": "markdown",
   "metadata": {},
   "source": [
    "# Phistar"
   ]
  },
  {
   "cell_type": "code",
   "execution_count": null,
   "metadata": {},
   "outputs": [],
   "source": [
    "def phistar(xs, logp, logh):\n",
    "    def f(x, y):\n",
    "        \"\"\"evaluated inside the expectation\"\"\"\n",
    "        kx = lambda y: kernels.ard(x, y, logh)\n",
    "        return stein.stein_operator(kx, y, logp, transposed=False)\n",
    "    \n",
    "    fv  = vmap(f,  (None, 0))\n",
    "    fvv = vmap(fv, (0, None))\n",
    "    phi_matrix = fvv(xs, xs)\n",
    "    \n",
    "    n = xs.shape[0]\n",
    "    trace_indices = [list(range(n))]*2\n",
    "    phi_matrix = index_update(phi_matrix, trace_indices, 0)\n",
    "    \n",
    "    return np.mean(phi_matrix, axis=1)\n",
    "#     return phi_matrix\n",
    "phistar = jit(phistar, static_argnums=1)"
   ]
  },
  {
   "cell_type": "code",
   "execution_count": null,
   "metadata": {},
   "outputs": [],
   "source": [
    "h = 1**2\n",
    "n = 5\n",
    "dist = metrics.Gaussian(0,1)\n",
    "xs = dist.sample((n, 1))\n",
    "print(\"phistar without diagonal\", stein.phistar(xs, dist.logpdf, np.log(h)))\n",
    "print(\"current with diagonal:\", svgd.phistar(xs, dist.logpdf, np.log(h)))"
   ]
  },
  {
   "cell_type": "markdown",
   "metadata": {},
   "source": [
    "# New KSD"
   ]
  },
  {
   "cell_type": "markdown",
   "metadata": {},
   "source": [
    "Write KSD squared as\n",
    "$$\\text{KSD}(q \\ \\Vert \\ p) = E_{Z, Z'}[g_p(Z, Z')]$$\n",
    "where $Z$ and $Z'$ are independently distributed as $q$, and $g$ is defined as\n",
    "\n",
    "$$\\begin{aligned}\n",
    "g_{p}(x, y):=& \\nabla \\log p(x)^{\\top} \\nabla \\log p(y) k(x, y) \\\\\n",
    "&+\\nabla \\log p(y)^{\\top} \\nabla_{x} k(x, y) \\\\\n",
    "&+\\nabla \\log p(x)^{\\top} \\nabla_{y} k(x, y) \\\\\n",
    "&+\\left\\langle\\nabla_{x} k(x, \\cdot), \\nabla_{y} k(\\cdot, y)\\right\\rangle_{\\mathcal{F}^{d}}\n",
    "\\end{aligned}$$\n",
    "\n",
    "The last term can also be written as\n",
    "$$\\sum_{i=1}^{d} \\frac{\\partial k(x, y)}{\\partial x_{i} \\partial y_{i}}.$$\n",
    "\n",
    "Note that $g$ is equal to\n",
    "$$g_p(x, y) = \\mathcal A_p^T \\mathcal A^{(y)}_p k(x, y).$$"
   ]
  },
  {
   "cell_type": "code",
   "execution_count": null,
   "metadata": {},
   "outputs": [],
   "source": [
    "# code moved to stein.py"
   ]
  },
  {
   "cell_type": "markdown",
   "metadata": {},
   "source": [
    "time:"
   ]
  },
  {
   "cell_type": "code",
   "execution_count": null,
   "metadata": {},
   "outputs": [],
   "source": [
    "hgrid = np.logspace(-1, 3, num=100)\n",
    "h = 1.5\n",
    "dist = metrics.Gaussian(0,1)\n",
    "x = dist.sample((100,1))\n",
    "logp = dist.logpdf"
   ]
  },
  {
   "cell_type": "code",
   "execution_count": null,
   "metadata": {},
   "outputs": [],
   "source": [
    "%timeit np.array([metrics.ksd_squared(x, logp, np.log(h)) for h in hgrid]).block_until_ready"
   ]
  },
  {
   "cell_type": "code",
   "execution_count": null,
   "metadata": {},
   "outputs": [],
   "source": [
    "%timeit np.array(  [stein.ksd_squared(x, logp, np.log(h)) for h in hgrid]).block_until_ready"
   ]
  },
  {
   "cell_type": "code",
   "execution_count": null,
   "metadata": {},
   "outputs": [],
   "source": [
    "stein.ksd_squared(x, logp, np.log(h))"
   ]
  },
  {
   "cell_type": "code",
   "execution_count": null,
   "metadata": {},
   "outputs": [],
   "source": [
    "metrics.ksd_squared(x, logp, np.log(h))"
   ]
  },
  {
   "cell_type": "code",
   "execution_count": null,
   "metadata": {},
   "outputs": [],
   "source": [
    "slkfj"
   ]
  },
  {
   "cell_type": "markdown",
   "metadata": {},
   "source": [
    "# making new ard"
   ]
  },
  {
   "cell_type": "code",
   "execution_count": null,
   "metadata": {},
   "outputs": [],
   "source": [
    "x = np.array([1,2])\n",
    "A = np.array([[1, 2], [3, 4]])"
   ]
  },
  {
   "cell_type": "code",
   "execution_count": null,
   "metadata": {},
   "outputs": [],
   "source": [
    "np.matmul(A, x)"
   ]
  },
  {
   "cell_type": "code",
   "execution_count": null,
   "metadata": {},
   "outputs": [],
   "source": [
    "kernels.ard_m(x, y, A)"
   ]
  },
  {
   "cell_type": "code",
   "execution_count": null,
   "metadata": {},
   "outputs": [],
   "source": [
    "kernels.ard_m(1, 2, 3)"
   ]
  },
  {
   "cell_type": "markdown",
   "metadata": {},
   "source": [
    "# fixing phistar"
   ]
  },
  {
   "cell_type": "code",
   "execution_count": null,
   "metadata": {},
   "outputs": [],
   "source": [
    "dist = metrics.Gaussian(0, 1)"
   ]
  },
  {
   "cell_type": "code",
   "execution_count": null,
   "metadata": {},
   "outputs": [],
   "source": [
    "z = np.array([1.])\n",
    "x = np.array([2.])\n",
    "mu = 1\n",
    "n = 100\n",
    "\n",
    "def k(y):\n",
    "    return np.exp(-1/2 * (y - z)**2)\n",
    "\n",
    "\n",
    "print(stein.stein_operator(k, x, dist.logpdf))\n",
    "print(k(x) * (z - 2*x))"
   ]
  },
  {
   "cell_type": "code",
   "execution_count": null,
   "metadata": {},
   "outputs": [],
   "source": [
    "def phis(x):\n",
    "    return - 1 / np.sqrt(2) * mu * np.exp(- 1/4 * (z - mu)**2)"
   ]
  },
  {
   "cell_type": "code",
   "execution_count": null,
   "metadata": {},
   "outputs": [],
   "source": [
    "xs = dist.sample(shape=(n, 1)) + mu\n",
    "\n",
    "print(svgd.phistar_i(z, xs, dist.logpdf, 1))\n",
    "print(svgd._phistar_i(z, xs, dist.logpdf, 1))\n",
    "print(phis(z))"
   ]
  },
  {
   "cell_type": "code",
   "execution_count": null,
   "metadata": {},
   "outputs": [],
   "source": [
    "salkdfj"
   ]
  },
  {
   "cell_type": "markdown",
   "metadata": {},
   "source": [
    "# still fixing `stein.stein`"
   ]
  },
  {
   "cell_type": "code",
   "execution_count": null,
   "metadata": {},
   "outputs": [],
   "source": [
    "dist = metrics.Gaussian(0, 1)"
   ]
  },
  {
   "cell_type": "code",
   "execution_count": null,
   "metadata": {},
   "outputs": [],
   "source": [
    "def fun(x):\n",
    "    return np.exp(-x**2)\n",
    "\n",
    "n = 100\n",
    "steins = []\n",
    "mugrid = np.linspace(-6, 6, num=50)\n",
    "\n",
    "for mean in mugrid:\n",
    "    sam = dist.sample(shape=(n, 1)) + mean\n",
    "    steins.append(stein.stein(fun, sam, dist.logpdf))"
   ]
  },
  {
   "cell_type": "code",
   "execution_count": null,
   "metadata": {},
   "outputs": [],
   "source": [
    "plt.plot(mugrid, steins)"
   ]
  },
  {
   "cell_type": "markdown",
   "metadata": {},
   "source": [
    "Meanwhile, we know that for $f(x) = e^{-x^2}$ and $q = \\mathcal N(\\mu, 1)$,\n",
    "\n",
    "$$\n",
    "E_{x \\sim q}[ \\mathcal A_p [f] (x)] = - \\frac{\\mu}{\\sqrt 3} \\cdot e^{- \\mu^2 / 3}\n",
    "$$\n"
   ]
  },
  {
   "cell_type": "code",
   "execution_count": null,
   "metadata": {},
   "outputs": [],
   "source": [
    "def stein_true(mu):\n",
    "    return mu / np.sqrt(3) * np.exp(- mu**2 / 3)"
   ]
  },
  {
   "cell_type": "code",
   "execution_count": null,
   "metadata": {},
   "outputs": [],
   "source": [
    "n = 100\n",
    "tsteins = []\n",
    "for mean in mugrid:\n",
    "    tsteins.append(stein_true(mean))"
   ]
  },
  {
   "cell_type": "code",
   "execution_count": null,
   "metadata": {},
   "outputs": [],
   "source": [
    "plt.plot(mugrid, tsteins)"
   ]
  },
  {
   "cell_type": "code",
   "execution_count": null,
   "metadata": {},
   "outputs": [],
   "source": [
    "n = 100\n",
    "steins = []\n",
    "sigmagrid = np.linspace(-6, 6, num=50)\n",
    "\n",
    "for sigma in sigmagrid:\n",
    "    sam = dist.sample(shape=(n, 1)) * sigma\n",
    "    steins.append(stein.stein(fun, sam, dist.logpdf))"
   ]
  },
  {
   "cell_type": "markdown",
   "metadata": {},
   "source": [
    "This is supposed to be constant = 0. Checks out."
   ]
  },
  {
   "cell_type": "code",
   "execution_count": null,
   "metadata": {},
   "outputs": [],
   "source": [
    "plt.plot(sigmagrid, steins, \"r.\")"
   ]
  },
  {
   "cell_type": "markdown",
   "metadata": {},
   "source": [
    "# fix `stein.stein`"
   ]
  },
  {
   "cell_type": "code",
   "execution_count": null,
   "metadata": {},
   "outputs": [],
   "source": [
    "dist = metrics.Gaussian(0,1)\n",
    "ngrid = np.arange(10, 1500, 50)\n",
    "\n",
    "def fun(x):\n",
    "    return np.exp(-x**2)\n",
    "\n",
    "steins = []\n",
    "for n in tqdm(ngrid):\n",
    "    xs = dist.sample(shape=(n,1))\n",
    "    steins.append(stein.stein(fun, xs, dist.logpdf))"
   ]
  },
  {
   "cell_type": "code",
   "execution_count": null,
   "metadata": {},
   "outputs": [],
   "source": [
    "steins = np.array(steins)"
   ]
  },
  {
   "cell_type": "code",
   "execution_count": null,
   "metadata": {},
   "outputs": [],
   "source": [
    "np.argmin(steins)"
   ]
  },
  {
   "cell_type": "code",
   "execution_count": null,
   "metadata": {},
   "outputs": [],
   "source": [
    "plt.plot(ngrid, -steins, \".\")\n",
    "# plt.yscale(\"log\")"
   ]
  },
  {
   "cell_type": "markdown",
   "metadata": {},
   "source": [
    "# `phistar_i`"
   ]
  },
  {
   "cell_type": "code",
   "execution_count": null,
   "metadata": {},
   "outputs": [],
   "source": [
    "asdjfh"
   ]
  },
  {
   "cell_type": "code",
   "execution_count": null,
   "metadata": {},
   "outputs": [],
   "source": [
    "n = 200\n",
    "\n",
    "dist = metrics.Gaussian([0, 0], [1, 1])\n",
    "logp = dist.logpdf\n",
    "bandwidth = 1"
   ]
  },
  {
   "cell_type": "code",
   "execution_count": null,
   "metadata": {},
   "outputs": [],
   "source": [
    "ngrid = np.arange(10, 1000, 30)\n",
    "phis = []\n",
    "x = random.normal(rkey, shape=(2,))\n",
    "for n in tqdm(ngrid):\n",
    "    rkey = random.split(rkey)[0]\n",
    "    xs = random.normal(rkey, shape=(n,2))\n",
    "    phis.append(svgd._phistar_i(x, xs, logp, bandwidth))"
   ]
  },
  {
   "cell_type": "code",
   "execution_count": null,
   "metadata": {},
   "outputs": [],
   "source": [
    "phis = np.array(phis)"
   ]
  },
  {
   "cell_type": "code",
   "execution_count": null,
   "metadata": {},
   "outputs": [],
   "source": [
    "plt.plot(ngrid, np.abs(phis), \".\")\n",
    "# plt.yscale(\"log\")"
   ]
  },
  {
   "cell_type": "code",
   "execution_count": null,
   "metadata": {},
   "outputs": [],
   "source": [
    "svgd._phistar_i(xi, xs, logp, bandwidth) * n"
   ]
  },
  {
   "cell_type": "code",
   "execution_count": null,
   "metadata": {},
   "outputs": [],
   "source": [
    "dist = metrics.Gaussian([1, 2], [1, 2])\n",
    "logp = dist.logpdf\n",
    "bandwidth = 1."
   ]
  },
  {
   "cell_type": "code",
   "execution_count": null,
   "metadata": {},
   "outputs": [],
   "source": [
    "n = 20"
   ]
  },
  {
   "cell_type": "code",
   "execution_count": null,
   "metadata": {},
   "outputs": [],
   "source": [
    "sample = dist.sample(shape=(n,))\n",
    "sample.shape"
   ]
  },
  {
   "cell_type": "code",
   "execution_count": null,
   "metadata": {},
   "outputs": [],
   "source": [
    "svgd.phistar_i(x, sample, logp, bandwidth)"
   ]
  },
  {
   "cell_type": "code",
   "execution_count": null,
   "metadata": {},
   "outputs": [],
   "source": [
    "svgd._phistar_i(x, sample, logp, bandwidth)"
   ]
  },
  {
   "cell_type": "markdown",
   "metadata": {},
   "source": [
    "# test both ksds"
   ]
  },
  {
   "cell_type": "code",
   "execution_count": null,
   "metadata": {},
   "outputs": [],
   "source": [
    "dist = metrics.Gaussian([1, 2], [1, 2])\n",
    "logp = dist.logpdf\n",
    "bandwidth = 1."
   ]
  },
  {
   "cell_type": "code",
   "execution_count": null,
   "metadata": {},
   "outputs": [],
   "source": [
    "n = 27"
   ]
  },
  {
   "cell_type": "code",
   "execution_count": null,
   "metadata": {},
   "outputs": [],
   "source": [
    "sample = dist.sample(shape=(n,))\n",
    "sample.shape"
   ]
  },
  {
   "cell_type": "code",
   "execution_count": null,
   "metadata": {},
   "outputs": [],
   "source": [
    "metrics.ksd(sample, logp, bandwidth)"
   ]
  },
  {
   "cell_type": "code",
   "execution_count": null,
   "metadata": {},
   "outputs": [],
   "source": [
    "metrics._ksd(sample, logp, bandwidth)"
   ]
  },
  {
   "cell_type": "code",
   "execution_count": null,
   "metadata": {},
   "outputs": [],
   "source": [
    "metrics._ksd(sample, logp, bandwidth) * n"
   ]
  },
  {
   "cell_type": "code",
   "execution_count": null,
   "metadata": {},
   "outputs": [],
   "source": [
    "sfjskjaf"
   ]
  },
  {
   "cell_type": "markdown",
   "metadata": {},
   "source": [
    "# KSD thing"
   ]
  },
  {
   "cell_type": "markdown",
   "metadata": {},
   "source": [
    "### short range"
   ]
  },
  {
   "cell_type": "code",
   "execution_count": null,
   "metadata": {},
   "outputs": [],
   "source": [
    "dist = metrics.Gaussian(0, 1)\n",
    "ngrid = np.arange(2, 100, 3)\n",
    "ksds = []\n",
    "mses = []\n",
    "for n in tqdm(ngrid):\n",
    "    x = dist.sample(shape=(n,))\n",
    "    ksds.append(metrics._ksd(x, dist.logpdf, 1))\n",
    "    mses.append(np.mean(x**2 - dist.expectations[1])**2)"
   ]
  },
  {
   "cell_type": "code",
   "execution_count": null,
   "metadata": {},
   "outputs": [],
   "source": [
    "plt.plot(ngrid, ksds, \"r.\")\n",
    "plt.yscale(\"log\")"
   ]
  },
  {
   "cell_type": "code",
   "execution_count": null,
   "metadata": {},
   "outputs": [],
   "source": [
    "plt.plot(ngrid, mses, \".\")\n",
    "plt.yscale(\"log\")"
   ]
  },
  {
   "cell_type": "markdown",
   "metadata": {},
   "source": [
    "### long range"
   ]
  },
  {
   "cell_type": "code",
   "execution_count": null,
   "metadata": {},
   "outputs": [],
   "source": [
    "dist = metrics.Gaussian(0, 1)\n",
    "ngrid = np.arange(5, 5000, 100)\n",
    "ksds = []\n",
    "mses = []\n",
    "for n in tqdm(ngrid):\n",
    "    x = dist.sample(shape=(n,))\n",
    "    ksds.append(metrics._ksd(x, dist.logpdf, 1))\n",
    "    mses.append(np.mean(x**2 - dist.expectations[1])**2)"
   ]
  },
  {
   "cell_type": "code",
   "execution_count": null,
   "metadata": {},
   "outputs": [],
   "source": [
    "plt.plot(ngrid, ksds, \"r.\")\n",
    "plt.yscale(\"log\")"
   ]
  },
  {
   "cell_type": "code",
   "execution_count": null,
   "metadata": {},
   "outputs": [],
   "source": [
    "plt.plot(ngrid, mses, \".\")\n",
    "plt.yscale(\"log\")"
   ]
  },
  {
   "cell_type": "markdown",
   "metadata": {},
   "source": [
    "## other samples"
   ]
  },
  {
   "cell_type": "code",
   "execution_count": null,
   "metadata": {},
   "outputs": [],
   "source": [
    "rkey = random.split(rkey)[0]\n",
    "s = random.normal(rkey, shape=(100, 1))"
   ]
  },
  {
   "cell_type": "code",
   "execution_count": null,
   "metadata": {},
   "outputs": [],
   "source": [
    "metrics.ksd(s * 2, dist.logpdf, 1)"
   ]
  },
  {
   "cell_type": "markdown",
   "metadata": {},
   "source": [
    "# other stuff"
   ]
  },
  {
   "cell_type": "code",
   "execution_count": null,
   "metadata": {},
   "outputs": [],
   "source": [
    "n = 10\n",
    "dist13 = metrics.GaussianMixture([-2, 2], [7, 7], [1/3, 2/3])\n",
    "dist13.compute_metrics_for_sample(10)\n",
    "\n",
    "\n",
    "\n",
    "s = dist13.sample(shape=(n,1))\n",
    "# s = s[:, np.newaxis]"
   ]
  },
  {
   "cell_type": "code",
   "execution_count": null,
   "metadata": {},
   "outputs": [],
   "source": [
    "dist14 = metrics.Gaussian(0, 1)\n",
    "dist14.compute_metrics_for_sample(10)"
   ]
  },
  {
   "cell_type": "code",
   "execution_count": null,
   "metadata": {},
   "outputs": [],
   "source": [
    "dist13.compute_metrics_for_sample(10)"
   ]
  },
  {
   "cell_type": "code",
   "execution_count": null,
   "metadata": {},
   "outputs": [],
   "source": [
    "dist13.expectations"
   ]
  },
  {
   "cell_type": "code",
   "execution_count": null,
   "metadata": {},
   "outputs": [],
   "source": [
    "dist13.compute_metrics(s) # throws ValueError"
   ]
  },
  {
   "cell_type": "code",
   "execution_count": null,
   "metadata": {},
   "outputs": [],
   "source": [
    "s.reshape((n, 1))"
   ]
  },
  {
   "cell_type": "code",
   "execution_count": null,
   "metadata": {},
   "outputs": [],
   "source": [
    "x = s\n",
    "logp = dist13.logpdf\n",
    "bandwidth = 1.\n",
    "\n",
    "i = 0\n",
    "j = 5\n",
    "xi = x[i]\n",
    "xj = x[j]\n"
   ]
  },
  {
   "cell_type": "code",
   "execution_count": null,
   "metadata": {},
   "outputs": [],
   "source": [
    "def phistar_j(x, y, logp, bandwidth):\n",
    "    \"\"\"Individual summand needed to compute phi^*. That is, phistar_i = \\sum_j phistar_j(xj, xi, logp, bandwidth).\n",
    "    Arguments:\n",
    "    * x: np.array of shape ()\n",
    "    Returns:\n",
    "    \"\"\"\n",
    "    kernel = lambda x, y: kernels.ard(x, y, bandwidth)\n",
    "    return grad(logp)(x) * kernel(x, y) + grad(kernel)(x, y)\n"
   ]
  },
  {
   "cell_type": "markdown",
   "metadata": {},
   "source": [
    "# stuff\n"
   ]
  },
  {
   "cell_type": "code",
   "execution_count": null,
   "metadata": {},
   "outputs": [],
   "source": [
    "c = {\"bldk\": 3, \"23\": 8}\n",
    "f = {\"bldk\": 2, \"23\": 4}\n",
    "\n",
    "d = {\"one\":1, \"two\": 2, \"three\": c}\n",
    "e = {\"one\":3, \"two\": 4, \"three\": f}\n",
    "\n",
    "g = {\"one\":3, \"test\": \"a\", \"two\": 4, \"three\": f}\n",
    "\n"
   ]
  },
  {
   "cell_type": "code",
   "execution_count": null,
   "metadata": {},
   "outputs": [],
   "source": [
    "for k, l ro in zip(d, g):\n",
    "    print(k)\n",
    "    print(l)\n",
    "    print()"
   ]
  },
  {
   "cell_type": "code",
   "execution_count": null,
   "metadata": {},
   "outputs": [],
   "source": [
    "utils.dict_divide(d, e)"
   ]
  }
 ],
 "metadata": {
  "kernelspec": {
   "display_name": "msc-thesis",
   "language": "python",
   "name": "msc-thesis"
  },
  "language_info": {
   "codemirror_mode": {
    "name": "ipython",
    "version": 3
   },
   "file_extension": ".py",
   "mimetype": "text/x-python",
   "name": "python",
   "nbconvert_exporter": "python",
   "pygments_lexer": "ipython3",
   "version": "3.6.9"
  }
 },
 "nbformat": 4,
 "nbformat_minor": 4
}
