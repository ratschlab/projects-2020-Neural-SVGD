{
 "cells": [
  {
   "cell_type": "markdown",
   "metadata": {},
   "source": [
    "# making / fixing stuff"
   ]
  },
  {
   "cell_type": "code",
   "execution_count": 1,
   "metadata": {},
   "outputs": [
    {
     "name": "stderr",
     "output_type": "stream",
     "text": [
      "/home/lauro/.virtualenvs/msc-thesis/lib/python3.6/site-packages/jax/lib/xla_bridge.py:123: UserWarning: No GPU/TPU found, falling back to CPU.\n",
      "  warnings.warn('No GPU/TPU found, falling back to CPU.')\n"
     ]
    }
   ],
   "source": [
    "import sys\n",
    "sys.path.append(\"/home/lauro/code/msc-thesis/svgd\")\n",
    "\n",
    "import jax.numpy as np\n",
    "from jax import grad, jit, vmap, random, lax, jacfwd\n",
    "from jax import lax\n",
    "from jax.ops import index_update, index\n",
    "import matplotlib.pyplot as plt\n",
    "import numpy as onp\n",
    "from tqdm import tqdm\n",
    "\n",
    "import utils\n",
    "import metrics\n",
    "import time\n",
    "import plot\n",
    "from svgd import SVGD\n",
    "import svgd\n",
    "import stein\n",
    "\n",
    "rkey = random.PRNGKey(0)"
   ]
  },
  {
   "cell_type": "markdown",
   "metadata": {},
   "source": [
    "# Phistar"
   ]
  },
  {
   "cell_type": "code",
   "execution_count": 2,
   "metadata": {},
   "outputs": [],
   "source": [
    "def phistar(xs, logp, logh):\n",
    "    def f(x, y):\n",
    "        \"\"\"evaluated inside the expectation\"\"\"\n",
    "        kx = lambda y: utils.ard(x, y, logh)\n",
    "        return stein.stein_operator(kx, y, logp, transposed=False)\n",
    "    \n",
    "    fv  = vmap(f,  (None, 0))\n",
    "    fvv = vmap(fv, (0, None))\n",
    "    phi_matrix = fvv(xs, xs)\n",
    "    \n",
    "    n = xs.shape[0]\n",
    "    trace_indices = [list(range(n))]*2\n",
    "    phi_matrix = index_update(phi_matrix, trace_indices, 0)\n",
    "    \n",
    "    return np.mean(phi_matrix, axis=1)\n",
    "#     return phi_matrix\n",
    "phistar = jit(phistar, static_argnums=1)"
   ]
  },
  {
   "cell_type": "code",
   "execution_count": 3,
   "metadata": {},
   "outputs": [
    {
     "name": "stdout",
     "output_type": "stream",
     "text": [
      "phistar without diagonal [[-0.34314248]\n",
      " [-0.5031638 ]\n",
      " [ 0.10763108]\n",
      " [-0.5713571 ]\n",
      " [-0.13896786]]\n",
      "current with diagonal: [[-0.4629477 ]\n",
      " [-0.54660666]\n",
      " [-0.3764267 ]\n",
      " [-0.5778905 ]\n",
      " [-0.38226676]]\n"
     ]
    }
   ],
   "source": [
    "h = 1**2\n",
    "n = 5\n",
    "dist = metrics.Gaussian(0,1)\n",
    "xs = dist.sample((n, 1))\n",
    "print(\"phistar without diagonal\", stein.phistar(xs, dist.logpdf, np.log(h)))\n",
    "print(\"current with diagonal:\", svgd.phistar(xs, dist.logpdf, np.log(h)))"
   ]
  },
  {
   "cell_type": "markdown",
   "metadata": {},
   "source": [
    "# New KSD"
   ]
  },
  {
   "cell_type": "markdown",
   "metadata": {},
   "source": [
    "Write KSD squared as\n",
    "$$\\text{KSD}(q \\ \\Vert \\ p) = E_{Z, Z'}[g_p(Z, Z')]$$\n",
    "where $Z$ and $Z'$ are independently distributed as $q$, and $g$ is defined as\n",
    "\n",
    "$$\\begin{aligned}\n",
    "g_{p}(x, y):=& \\nabla \\log p(x)^{\\top} \\nabla \\log p(y) k(x, y) \\\\\n",
    "&+\\nabla \\log p(y)^{\\top} \\nabla_{x} k(x, y) \\\\\n",
    "&+\\nabla \\log p(x)^{\\top} \\nabla_{y} k(x, y) \\\\\n",
    "&+\\left\\langle\\nabla_{x} k(x, \\cdot), \\nabla_{y} k(\\cdot, y)\\right\\rangle_{\\mathcal{F}^{d}}\n",
    "\\end{aligned}$$\n",
    "\n",
    "The last term can also be written as\n",
    "$$\\sum_{i=1}^{d} \\frac{\\partial k(x, y)}{\\partial x_{i} \\partial y_{i}}.$$\n",
    "\n",
    "Note that $g$ is equal to\n",
    "$$g_p(x, y) = \\mathcal A_p^T \\mathcal A^{(y)}_p k(x, y).$$"
   ]
  },
  {
   "cell_type": "code",
   "execution_count": 4,
   "metadata": {},
   "outputs": [],
   "source": [
    "# code moved to stein.py"
   ]
  },
  {
   "cell_type": "markdown",
   "metadata": {},
   "source": [
    "time:"
   ]
  },
  {
   "cell_type": "code",
   "execution_count": 5,
   "metadata": {},
   "outputs": [
    {
     "name": "stderr",
     "output_type": "stream",
     "text": [
      "/home/lauro/.virtualenvs/msc-thesis/lib/python3.6/site-packages/jax/lax/lax.py:5104: UserWarning: Explicitly requested dtype float64 requested in asarray is not available, and will be truncated to dtype float32. To enable more dtypes, set the jax_enable_x64 configuration option or the JAX_ENABLE_X64 shell environment variable. See https://github.com/google/jax#current-gotchas for more.\n",
      "  warnings.warn(msg.format(dtype, fun_name , truncated_dtype))\n",
      "/home/lauro/.virtualenvs/msc-thesis/lib/python3.6/site-packages/jax/lax/lax.py:5104: UserWarning: Explicitly requested dtype float64 requested in array is not available, and will be truncated to dtype float32. To enable more dtypes, set the jax_enable_x64 configuration option or the JAX_ENABLE_X64 shell environment variable. See https://github.com/google/jax#current-gotchas for more.\n",
      "  warnings.warn(msg.format(dtype, fun_name , truncated_dtype))\n"
     ]
    }
   ],
   "source": [
    "hgrid = np.logspace(-1, 3, num=100)\n",
    "h = 1.5\n",
    "dist = metrics.Gaussian(0,1)\n",
    "x = dist.sample((100,1))\n",
    "logp = dist.logpdf"
   ]
  },
  {
   "cell_type": "code",
   "execution_count": 6,
   "metadata": {},
   "outputs": [
    {
     "name": "stdout",
     "output_type": "stream",
     "text": [
      "23.5 ms ± 326 µs per loop (mean ± std. dev. of 7 runs, 1 loop each)\n"
     ]
    }
   ],
   "source": [
    "%timeit np.array([metrics.ksd_squared(x, logp, np.log(h)) for h in hgrid]).block_until_ready"
   ]
  },
  {
   "cell_type": "code",
   "execution_count": 7,
   "metadata": {},
   "outputs": [
    {
     "name": "stdout",
     "output_type": "stream",
     "text": [
      "29.4 ms ± 5.18 ms per loop (mean ± std. dev. of 7 runs, 10 loops each)\n"
     ]
    }
   ],
   "source": [
    "%timeit np.array(  [stein.ksd_squared(x, logp, np.log(h)) for h in hgrid]).block_until_ready"
   ]
  },
  {
   "cell_type": "code",
   "execution_count": 8,
   "metadata": {},
   "outputs": [
    {
     "data": {
      "text/plain": [
       "DeviceArray(-0.01484735, dtype=float32)"
      ]
     },
     "execution_count": 8,
     "metadata": {},
     "output_type": "execute_result"
    }
   ],
   "source": [
    "stein.ksd_squared(x, logp, np.log(h))"
   ]
  },
  {
   "cell_type": "code",
   "execution_count": 9,
   "metadata": {},
   "outputs": [
    {
     "data": {
      "text/plain": [
       "DeviceArray(-0.01484735, dtype=float32)"
      ]
     },
     "execution_count": 9,
     "metadata": {},
     "output_type": "execute_result"
    }
   ],
   "source": [
    "metrics.ksd_squared(x, logp, np.log(h))"
   ]
  },
  {
   "cell_type": "code",
   "execution_count": 10,
   "metadata": {},
   "outputs": [
    {
     "ename": "NameError",
     "evalue": "name 'slkfj' is not defined",
     "output_type": "error",
     "traceback": [
      "\u001b[0;31m---------------------------------------------------------------------------\u001b[0m",
      "\u001b[0;31mNameError\u001b[0m                                 Traceback (most recent call last)",
      "\u001b[0;32m<ipython-input-10-3a63bb5723da>\u001b[0m in \u001b[0;36m<module>\u001b[0;34m\u001b[0m\n\u001b[0;32m----> 1\u001b[0;31m \u001b[0mslkfj\u001b[0m\u001b[0;34m\u001b[0m\u001b[0;34m\u001b[0m\u001b[0m\n\u001b[0m",
      "\u001b[0;31mNameError\u001b[0m: name 'slkfj' is not defined"
     ]
    }
   ],
   "source": [
    "slkfj"
   ]
  },
  {
   "cell_type": "markdown",
   "metadata": {},
   "source": [
    "# making new ard"
   ]
  },
  {
   "cell_type": "code",
   "execution_count": null,
   "metadata": {},
   "outputs": [],
   "source": [
    "x = np.array([1,2])\n",
    "A = np.array([[1, 2], [3, 4]])"
   ]
  },
  {
   "cell_type": "code",
   "execution_count": null,
   "metadata": {},
   "outputs": [],
   "source": [
    "np.matmul(A, x)"
   ]
  },
  {
   "cell_type": "code",
   "execution_count": null,
   "metadata": {},
   "outputs": [],
   "source": [
    "utils.ard_m(x, y, A)"
   ]
  },
  {
   "cell_type": "code",
   "execution_count": null,
   "metadata": {},
   "outputs": [],
   "source": [
    "utils.ard_m(1, 2, 3)"
   ]
  },
  {
   "cell_type": "markdown",
   "metadata": {},
   "source": [
    "# fixing phistar"
   ]
  },
  {
   "cell_type": "code",
   "execution_count": null,
   "metadata": {},
   "outputs": [],
   "source": [
    "dist = metrics.Gaussian(0, 1)"
   ]
  },
  {
   "cell_type": "code",
   "execution_count": null,
   "metadata": {},
   "outputs": [],
   "source": [
    "z = np.array([1.])\n",
    "x = np.array([2.])\n",
    "mu = 1\n",
    "n = 100\n",
    "\n",
    "def k(y):\n",
    "    return np.exp(-1/2 * (y - z)**2)\n",
    "\n",
    "\n",
    "print(stein.stein_operator(k, x, dist.logpdf))\n",
    "print(k(x) * (z - 2*x))"
   ]
  },
  {
   "cell_type": "code",
   "execution_count": null,
   "metadata": {},
   "outputs": [],
   "source": [
    "def phis(x):\n",
    "    return - 1 / np.sqrt(2) * mu * np.exp(- 1/4 * (z - mu)**2)"
   ]
  },
  {
   "cell_type": "code",
   "execution_count": null,
   "metadata": {},
   "outputs": [],
   "source": [
    "xs = dist.sample(shape=(n, 1)) + mu\n",
    "\n",
    "print(svgd.phistar_i(z, xs, dist.logpdf, 1))\n",
    "print(svgd._phistar_i(z, xs, dist.logpdf, 1))\n",
    "print(phis(z))"
   ]
  },
  {
   "cell_type": "code",
   "execution_count": null,
   "metadata": {},
   "outputs": [],
   "source": [
    "salkdfj"
   ]
  },
  {
   "cell_type": "markdown",
   "metadata": {},
   "source": [
    "# still fixing `stein.stein`"
   ]
  },
  {
   "cell_type": "code",
   "execution_count": null,
   "metadata": {},
   "outputs": [],
   "source": [
    "dist = metrics.Gaussian(0, 1)"
   ]
  },
  {
   "cell_type": "code",
   "execution_count": null,
   "metadata": {},
   "outputs": [],
   "source": [
    "def fun(x):\n",
    "    return np.exp(-x**2)\n",
    "\n",
    "n = 100\n",
    "steins = []\n",
    "mugrid = np.linspace(-6, 6, num=50)\n",
    "\n",
    "for mean in mugrid:\n",
    "    sam = dist.sample(shape=(n, 1)) + mean\n",
    "    steins.append(stein.stein(fun, sam, dist.logpdf))"
   ]
  },
  {
   "cell_type": "code",
   "execution_count": null,
   "metadata": {},
   "outputs": [],
   "source": [
    "plt.plot(mugrid, steins)"
   ]
  },
  {
   "cell_type": "markdown",
   "metadata": {},
   "source": [
    "Meanwhile, we know that for $f(x) = e^{-x^2}$ and $q = \\mathcal N(\\mu, 1)$,\n",
    "\n",
    "$$\n",
    "E_{x \\sim q}[ \\mathcal A_p [f] (x)] = - \\frac{\\mu}{\\sqrt 3} \\cdot e^{- \\mu^2 / 3}\n",
    "$$\n"
   ]
  },
  {
   "cell_type": "code",
   "execution_count": null,
   "metadata": {},
   "outputs": [],
   "source": [
    "def stein_true(mu):\n",
    "    return mu / np.sqrt(3) * np.exp(- mu**2 / 3)"
   ]
  },
  {
   "cell_type": "code",
   "execution_count": null,
   "metadata": {},
   "outputs": [],
   "source": [
    "n = 100\n",
    "tsteins = []\n",
    "for mean in mugrid:\n",
    "    tsteins.append(stein_true(mean))"
   ]
  },
  {
   "cell_type": "code",
   "execution_count": null,
   "metadata": {},
   "outputs": [],
   "source": [
    "plt.plot(mugrid, tsteins)"
   ]
  },
  {
   "cell_type": "code",
   "execution_count": null,
   "metadata": {},
   "outputs": [],
   "source": [
    "n = 100\n",
    "steins = []\n",
    "sigmagrid = np.linspace(-6, 6, num=50)\n",
    "\n",
    "for sigma in sigmagrid:\n",
    "    sam = dist.sample(shape=(n, 1)) * sigma\n",
    "    steins.append(stein.stein(fun, sam, dist.logpdf))"
   ]
  },
  {
   "cell_type": "markdown",
   "metadata": {},
   "source": [
    "This is supposed to be constant = 0. Checks out."
   ]
  },
  {
   "cell_type": "code",
   "execution_count": null,
   "metadata": {},
   "outputs": [],
   "source": [
    "plt.plot(sigmagrid, steins, \"r.\")"
   ]
  },
  {
   "cell_type": "markdown",
   "metadata": {},
   "source": [
    "# fix `stein.stein`"
   ]
  },
  {
   "cell_type": "code",
   "execution_count": null,
   "metadata": {},
   "outputs": [],
   "source": [
    "dist = metrics.Gaussian(0,1)\n",
    "ngrid = np.arange(10, 1500, 50)\n",
    "\n",
    "def fun(x):\n",
    "    return np.exp(-x**2)\n",
    "\n",
    "steins = []\n",
    "for n in tqdm(ngrid):\n",
    "    xs = dist.sample(shape=(n,1))\n",
    "    steins.append(stein.stein(fun, xs, dist.logpdf))"
   ]
  },
  {
   "cell_type": "code",
   "execution_count": null,
   "metadata": {},
   "outputs": [],
   "source": [
    "steins = np.array(steins)"
   ]
  },
  {
   "cell_type": "code",
   "execution_count": null,
   "metadata": {},
   "outputs": [],
   "source": [
    "np.argmin(steins)"
   ]
  },
  {
   "cell_type": "code",
   "execution_count": null,
   "metadata": {},
   "outputs": [],
   "source": [
    "plt.plot(ngrid, -steins, \".\")\n",
    "# plt.yscale(\"log\")"
   ]
  },
  {
   "cell_type": "markdown",
   "metadata": {},
   "source": [
    "# `phistar_i`"
   ]
  },
  {
   "cell_type": "code",
   "execution_count": null,
   "metadata": {},
   "outputs": [],
   "source": [
    "asdjfh"
   ]
  },
  {
   "cell_type": "code",
   "execution_count": null,
   "metadata": {},
   "outputs": [],
   "source": [
    "n = 200\n",
    "\n",
    "dist = metrics.Gaussian([0, 0], [1, 1])\n",
    "logp = dist.logpdf\n",
    "bandwidth = 1"
   ]
  },
  {
   "cell_type": "code",
   "execution_count": null,
   "metadata": {},
   "outputs": [],
   "source": [
    "ngrid = np.arange(10, 1000, 30)\n",
    "phis = []\n",
    "x = random.normal(rkey, shape=(2,))\n",
    "for n in tqdm(ngrid):\n",
    "    rkey = random.split(rkey)[0]\n",
    "    xs = random.normal(rkey, shape=(n,2))\n",
    "    phis.append(svgd._phistar_i(x, xs, logp, bandwidth))"
   ]
  },
  {
   "cell_type": "code",
   "execution_count": null,
   "metadata": {},
   "outputs": [],
   "source": [
    "phis = np.array(phis)"
   ]
  },
  {
   "cell_type": "code",
   "execution_count": null,
   "metadata": {},
   "outputs": [],
   "source": [
    "plt.plot(ngrid, np.abs(phis), \".\")\n",
    "# plt.yscale(\"log\")"
   ]
  },
  {
   "cell_type": "code",
   "execution_count": null,
   "metadata": {},
   "outputs": [],
   "source": [
    "svgd._phistar_i(xi, xs, logp, bandwidth) * n"
   ]
  },
  {
   "cell_type": "code",
   "execution_count": null,
   "metadata": {},
   "outputs": [],
   "source": [
    "dist = metrics.Gaussian([1, 2], [1, 2])\n",
    "logp = dist.logpdf\n",
    "bandwidth = 1."
   ]
  },
  {
   "cell_type": "code",
   "execution_count": null,
   "metadata": {},
   "outputs": [],
   "source": [
    "n = 20"
   ]
  },
  {
   "cell_type": "code",
   "execution_count": null,
   "metadata": {},
   "outputs": [],
   "source": [
    "sample = dist.sample(shape=(n,))\n",
    "sample.shape"
   ]
  },
  {
   "cell_type": "code",
   "execution_count": null,
   "metadata": {},
   "outputs": [],
   "source": [
    "svgd.phistar_i(x, sample, logp, bandwidth)"
   ]
  },
  {
   "cell_type": "code",
   "execution_count": null,
   "metadata": {},
   "outputs": [],
   "source": [
    "svgd._phistar_i(x, sample, logp, bandwidth)"
   ]
  },
  {
   "cell_type": "markdown",
   "metadata": {},
   "source": [
    "# test both ksds"
   ]
  },
  {
   "cell_type": "code",
   "execution_count": null,
   "metadata": {},
   "outputs": [],
   "source": [
    "dist = metrics.Gaussian([1, 2], [1, 2])\n",
    "logp = dist.logpdf\n",
    "bandwidth = 1."
   ]
  },
  {
   "cell_type": "code",
   "execution_count": null,
   "metadata": {},
   "outputs": [],
   "source": [
    "n = 27"
   ]
  },
  {
   "cell_type": "code",
   "execution_count": null,
   "metadata": {},
   "outputs": [],
   "source": [
    "sample = dist.sample(shape=(n,))\n",
    "sample.shape"
   ]
  },
  {
   "cell_type": "code",
   "execution_count": null,
   "metadata": {},
   "outputs": [],
   "source": [
    "metrics.ksd(sample, logp, bandwidth)"
   ]
  },
  {
   "cell_type": "code",
   "execution_count": null,
   "metadata": {},
   "outputs": [],
   "source": [
    "metrics._ksd(sample, logp, bandwidth)"
   ]
  },
  {
   "cell_type": "code",
   "execution_count": null,
   "metadata": {},
   "outputs": [],
   "source": [
    "metrics._ksd(sample, logp, bandwidth) * n"
   ]
  },
  {
   "cell_type": "code",
   "execution_count": null,
   "metadata": {},
   "outputs": [],
   "source": [
    "sfjskjaf"
   ]
  },
  {
   "cell_type": "markdown",
   "metadata": {},
   "source": [
    "# KSD thing"
   ]
  },
  {
   "cell_type": "markdown",
   "metadata": {},
   "source": [
    "### short range"
   ]
  },
  {
   "cell_type": "code",
   "execution_count": null,
   "metadata": {},
   "outputs": [],
   "source": [
    "dist = metrics.Gaussian(0, 1)\n",
    "ngrid = np.arange(2, 100, 3)\n",
    "ksds = []\n",
    "mses = []\n",
    "for n in tqdm(ngrid):\n",
    "    x = dist.sample(shape=(n,))\n",
    "    ksds.append(metrics._ksd(x, dist.logpdf, 1))\n",
    "    mses.append(np.mean(x**2 - dist.expectations[1])**2)"
   ]
  },
  {
   "cell_type": "code",
   "execution_count": null,
   "metadata": {},
   "outputs": [],
   "source": [
    "plt.plot(ngrid, ksds, \"r.\")\n",
    "plt.yscale(\"log\")"
   ]
  },
  {
   "cell_type": "code",
   "execution_count": null,
   "metadata": {},
   "outputs": [],
   "source": [
    "plt.plot(ngrid, mses, \".\")\n",
    "plt.yscale(\"log\")"
   ]
  },
  {
   "cell_type": "markdown",
   "metadata": {},
   "source": [
    "### long range"
   ]
  },
  {
   "cell_type": "code",
   "execution_count": null,
   "metadata": {},
   "outputs": [],
   "source": [
    "dist = metrics.Gaussian(0, 1)\n",
    "ngrid = np.arange(5, 5000, 100)\n",
    "ksds = []\n",
    "mses = []\n",
    "for n in tqdm(ngrid):\n",
    "    x = dist.sample(shape=(n,))\n",
    "    ksds.append(metrics._ksd(x, dist.logpdf, 1))\n",
    "    mses.append(np.mean(x**2 - dist.expectations[1])**2)"
   ]
  },
  {
   "cell_type": "code",
   "execution_count": null,
   "metadata": {},
   "outputs": [],
   "source": [
    "plt.plot(ngrid, ksds, \"r.\")\n",
    "plt.yscale(\"log\")"
   ]
  },
  {
   "cell_type": "code",
   "execution_count": null,
   "metadata": {},
   "outputs": [],
   "source": [
    "plt.plot(ngrid, mses, \".\")\n",
    "plt.yscale(\"log\")"
   ]
  },
  {
   "cell_type": "markdown",
   "metadata": {},
   "source": [
    "## other samples"
   ]
  },
  {
   "cell_type": "code",
   "execution_count": null,
   "metadata": {},
   "outputs": [],
   "source": [
    "rkey = random.split(rkey)[0]\n",
    "s = random.normal(rkey, shape=(100, 1))"
   ]
  },
  {
   "cell_type": "code",
   "execution_count": null,
   "metadata": {},
   "outputs": [],
   "source": [
    "metrics.ksd(s * 2, dist.logpdf, 1)"
   ]
  },
  {
   "cell_type": "markdown",
   "metadata": {},
   "source": [
    "# other stuff"
   ]
  },
  {
   "cell_type": "code",
   "execution_count": null,
   "metadata": {},
   "outputs": [],
   "source": [
    "n = 10\n",
    "dist13 = metrics.GaussianMixture([-2, 2], [7, 7], [1/3, 2/3])\n",
    "dist13.compute_metrics_for_sample(10)\n",
    "\n",
    "\n",
    "\n",
    "s = dist13.sample(shape=(n,1))\n",
    "# s = s[:, np.newaxis]"
   ]
  },
  {
   "cell_type": "code",
   "execution_count": null,
   "metadata": {},
   "outputs": [],
   "source": [
    "dist14 = metrics.Gaussian(0, 1)\n",
    "dist14.compute_metrics_for_sample(10)"
   ]
  },
  {
   "cell_type": "code",
   "execution_count": null,
   "metadata": {},
   "outputs": [],
   "source": [
    "dist13.compute_metrics_for_sample(10)"
   ]
  },
  {
   "cell_type": "code",
   "execution_count": null,
   "metadata": {},
   "outputs": [],
   "source": [
    "dist13.expectations"
   ]
  },
  {
   "cell_type": "code",
   "execution_count": null,
   "metadata": {},
   "outputs": [],
   "source": [
    "dist13.compute_metrics(s) # throws ValueError"
   ]
  },
  {
   "cell_type": "code",
   "execution_count": null,
   "metadata": {},
   "outputs": [],
   "source": [
    "s.reshape((n, 1))"
   ]
  },
  {
   "cell_type": "code",
   "execution_count": null,
   "metadata": {},
   "outputs": [],
   "source": [
    "x = s\n",
    "logp = dist13.logpdf\n",
    "bandwidth = 1.\n",
    "\n",
    "i = 0\n",
    "j = 5\n",
    "xi = x[i]\n",
    "xj = x[j]\n"
   ]
  },
  {
   "cell_type": "code",
   "execution_count": null,
   "metadata": {},
   "outputs": [],
   "source": [
    "def phistar_j(x, y, logp, bandwidth):\n",
    "    \"\"\"Individual summand needed to compute phi^*. That is, phistar_i = \\sum_j phistar_j(xj, xi, logp, bandwidth).\n",
    "    Arguments:\n",
    "    * x: np.array of shape ()\n",
    "    Returns:\n",
    "    \"\"\"\n",
    "    kernel = lambda x, y: utils.ard(x, y, bandwidth)\n",
    "    return grad(logp)(x) * kernel(x, y) + grad(kernel)(x, y)\n"
   ]
  },
  {
   "cell_type": "markdown",
   "metadata": {},
   "source": [
    "# stuff\n"
   ]
  },
  {
   "cell_type": "code",
   "execution_count": null,
   "metadata": {},
   "outputs": [],
   "source": [
    "c = {\"bldk\": 3, \"23\": 8}\n",
    "f = {\"bldk\": 2, \"23\": 4}\n",
    "\n",
    "d = {\"one\":1, \"two\": 2, \"three\": c}\n",
    "e = {\"one\":3, \"two\": 4, \"three\": f}\n",
    "\n",
    "g = {\"one\":3, \"test\": \"a\", \"two\": 4, \"three\": f}\n",
    "\n"
   ]
  },
  {
   "cell_type": "code",
   "execution_count": null,
   "metadata": {},
   "outputs": [],
   "source": [
    "for k, l ro in zip(d, g):\n",
    "    print(k)\n",
    "    print(l)\n",
    "    print()"
   ]
  },
  {
   "cell_type": "code",
   "execution_count": null,
   "metadata": {},
   "outputs": [],
   "source": [
    "utils.dict_divide(d, e)"
   ]
  }
 ],
 "metadata": {
  "kernelspec": {
   "display_name": "msc-thesis",
   "language": "python",
   "name": "msc-thesis"
  },
  "language_info": {
   "codemirror_mode": {
    "name": "ipython",
    "version": 3
   },
   "file_extension": ".py",
   "mimetype": "text/x-python",
   "name": "python",
   "nbconvert_exporter": "python",
   "pygments_lexer": "ipython3",
   "version": "3.6.9"
  }
 },
 "nbformat": 4,
 "nbformat_minor": 4
}
