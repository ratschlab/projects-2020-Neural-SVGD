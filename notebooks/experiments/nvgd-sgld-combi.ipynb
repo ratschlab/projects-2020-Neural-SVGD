{
 "cells": [
  {
   "cell_type": "markdown",
   "metadata": {},
   "source": [
    "# Funnel Target: Compare SGLD and NVGD"
   ]
  },
  {
   "cell_type": "code",
   "execution_count": 1,
   "metadata": {},
   "outputs": [
    {
     "name": "stderr",
     "output_type": "stream",
     "text": [
      "WARNING:absl:No GPU/TPU found, falling back to CPU. (Set TF_CPP_MIN_LOG_LEVEL=0 and rerun for more info.)\n"
     ]
    }
   ],
   "source": [
    "%load_ext autoreload\n",
    "from jax import config\n",
    "config.update(\"jax_debug_nans\", False)\n",
    "# config.update(\"jax_disable_jit\", True)\n",
    "\n",
    "import sys\n",
    "import os\n",
    "sys.path.append(\"../../learning_particle_gradients/\")\n",
    "from matplotlib.animation import FuncAnimation\n",
    "\n",
    "import jax.numpy as np\n",
    "import jax.numpy as jnp\n",
    "from jax import grad, jit, vmap, random, lax, jacfwd, value_and_grad\n",
    "from jax.ops import index_update, index\n",
    "import matplotlib.pyplot as plt\n",
    "import matplotlib\n",
    "import numpy as onp\n",
    "import jax\n",
    "import pandas as pd\n",
    "\n",
    "import utils\n",
    "import plot\n",
    "import distributions\n",
    "import models\n",
    "import flows\n",
    "from tqdm import tqdm\n",
    "import optax\n",
    "key = random.PRNGKey(0)\n",
    "\n",
    "import kernels\n",
    "import metrics\n",
    "# import seaborn as sns\n",
    "# sns.set_theme()"
   ]
  },
  {
   "cell_type": "markdown",
   "metadata": {},
   "source": [
    "# 2dim Funnel"
   ]
  },
  {
   "cell_type": "code",
   "execution_count": 2,
   "metadata": {},
   "outputs": [],
   "source": [
    "##### sorta works:\n",
    "# STEP_SIZE = 1e-2\n",
    "# META_LEARNING_RATE = 1e-4\n",
    "# d = 2\n",
    "# PATIENCE = -1\n",
    "# # PATIENCE = 15 # try this\n",
    "# NUM_SAMPLES = 200\n",
    "# MAX_TRAIN_STEPS = 100\n",
    "# NUM_ITER = 500"
   ]
  },
  {
   "cell_type": "code",
   "execution_count": 3,
   "metadata": {},
   "outputs": [],
   "source": [
    "STEP_SIZE = 1e-2\n",
    "META_LEARNING_RATE = 1e-4\n",
    "d = 2\n",
    "PATIENCE = 15\n",
    "NUM_SAMPLES = 100\n",
    "MAX_TRAIN_STEPS = 50\n",
    "NUM_ITER = 5000"
   ]
  },
  {
   "cell_type": "code",
   "execution_count": 4,
   "metadata": {},
   "outputs": [],
   "source": [
    "target = distributions.Funnel(d)\n",
    "proposal = distributions.Gaussian(np.zeros(d), np.ones(d))\n",
    "funnel_setup = distributions.Setup(target, proposal)\n",
    "target_samples = target.sample(NUM_SAMPLES)\n",
    "compute_metrics = metrics.get_funnel_tracer(target_samples)"
   ]
  },
  {
   "cell_type": "code",
   "execution_count": 8,
   "metadata": {},
   "outputs": [],
   "source": [
    "key, subkey = random.split(key)\n",
    "init_particles = proposal.sample(NUM_SAMPLES)\n",
    "\n",
    "opt = optax.sgd(STEP_SIZE)\n",
    "sgld = utils.sgld(STEP_SIZE/10)\n",
    "sgld_state = sgld.init(init_particles)\n",
    "sgld_full = utils.sgld(STEP_SIZE)\n",
    "sgld_full_state = sgld_full.init(init_particles)\n",
    "\n",
    "key, subkey1, subkey2 = random.split(key, 3)\n",
    "neural_grad = models.SDLearner(target_dim=init_particles.shape[1],\n",
    "                               learning_rate=META_LEARNING_RATE,\n",
    "                               key=subkey1,\n",
    "                               sizes=[32, 32, init_particles.shape[1]],\n",
    "                               aux=False,\n",
    "                               use_hutchinson=False,\n",
    "                               patience=PATIENCE,\n",
    "                               dropout=False)\n",
    "\n",
    "particles = models.Particles(subkey2,\n",
    "                             neural_grad.gradient,\n",
    "                             init_particles,\n",
    "                             custom_optimizer=opt,\n",
    "                             compute_metrics=compute_metrics)"
   ]
  },
  {
   "cell_type": "code",
   "execution_count": 9,
   "metadata": {},
   "outputs": [],
   "source": [
    "key, subkey = random.split(key)\n",
    "vdlogp = jit(vmap(grad(target.logpdf)))\n",
    "\n",
    "\n",
    "def nvgd_step(split_particles, split_dlogp):\n",
    "    neural_grad.train(\n",
    "        split_particles=split_particles,\n",
    "        split_dlogp=split_dlogp,\n",
    "        n_steps=MAX_TRAIN_STEPS\n",
    "    )\n",
    "    particles.step(neural_grad.get_params())\n",
    "\n",
    "\n",
    "@jit\n",
    "def sgld_step(particles, dlogp, sgld_state):\n",
    "    \"\"\"Update param_set elements in parallel using Langevin dynamics.\"\"\"\n",
    "    g, sgld_state = sgld.update(-dlogp, sgld_state, particles)\n",
    "    particles = optax.apply_updates(particles, g)\n",
    "    aux = {\n",
    "        \"global_grad_norm\": optax.global_norm(g),\n",
    "    }\n",
    "    return particles, sgld_state, aux\n",
    "\n",
    "@jit\n",
    "def sgld_full_step(particles, dlogp, sgld_full_state):\n",
    "    \"\"\"Update param_set elements in parallel using Langevin dynamics.\"\"\"\n",
    "    g, sgld_state = sgld_full.update(-dlogp, sgld_full_state, particles)\n",
    "    particles = optax.apply_updates(particles, g)\n",
    "    aux = {\n",
    "        \"global_grad_norm\": optax.global_norm(g),\n",
    "    }\n",
    "    aux.update(compute_metrics(particles))\n",
    "    return particles, sgld_state, aux"
   ]
  },
  {
   "cell_type": "markdown",
   "metadata": {},
   "source": [
    "* test: without sgld (same as in other notebook?? hopefully)\n",
    "* THEN: test with sgld (less overfitting? less noise in MMD??)\n",
    "* THEN: test with reset after each step."
   ]
  },
  {
   "cell_type": "code",
   "execution_count": 10,
   "metadata": {
    "scrolled": true
   },
   "outputs": [
    {
     "name": "stderr",
     "output_type": "stream",
     "text": [
      "100%|██████████| 5000/5000 [04:15<00:00, 19.58it/s]\n"
     ]
    }
   ],
   "source": [
    "sgld_aux = {}\n",
    "for step_counter in tqdm(range(NUM_ITER)):\n",
    "    key, subkey = random.split(key)\n",
    "    split_particles = particles.next_batch(subkey)\n",
    "    split_dlogp = [vdlogp(xs) for xs in split_particles]\n",
    "\n",
    "    # NVGD\n",
    "    nvgd_step(split_particles, split_dlogp)\n",
    "\n",
    "#     # SGLD step\n",
    "#     particles.particles, sgld_state, aux = sgld_step(\n",
    "#         particles.particles, jnp.append(*split_dlogp, axis=0), sgld_state)\n",
    "#     metrics.append_to_log(sgld_aux, aux)\n",
    "\n",
    "# neural_grad.done()\n",
    "# particles.done()"
   ]
  },
  {
   "cell_type": "code",
   "execution_count": 11,
   "metadata": {},
   "outputs": [
    {
     "ename": "NameError",
     "evalue": "name 'sgld_full_aux' is not defined",
     "output_type": "error",
     "traceback": [
      "\u001b[0;31m---------------------------------------------------------------------------\u001b[0m",
      "\u001b[0;31mNameError\u001b[0m                                 Traceback (most recent call last)",
      "\u001b[0;32m<ipython-input-11-8713cb292ef2>\u001b[0m in \u001b[0;36m<module>\u001b[0;34m\u001b[0m\n\u001b[1;32m      4\u001b[0m \u001b[0mtyp\u001b[0m \u001b[0;34m=\u001b[0m \u001b[0;34m\"rbf_mmd\"\u001b[0m\u001b[0;34m\u001b[0m\u001b[0;34m\u001b[0m\u001b[0m\n\u001b[1;32m      5\u001b[0m \u001b[0mplt\u001b[0m\u001b[0;34m.\u001b[0m\u001b[0mplot\u001b[0m\u001b[0;34m(\u001b[0m\u001b[0;34m*\u001b[0m\u001b[0mzip\u001b[0m\u001b[0;34m(\u001b[0m\u001b[0;34m*\u001b[0m\u001b[0mparticles\u001b[0m\u001b[0;34m.\u001b[0m\u001b[0mrundata\u001b[0m\u001b[0;34m[\u001b[0m\u001b[0mtyp\u001b[0m\u001b[0;34m]\u001b[0m\u001b[0;34m)\u001b[0m\u001b[0;34m,\u001b[0m \u001b[0mlabel\u001b[0m\u001b[0;34m=\u001b[0m\u001b[0;34m\"NVGD\"\u001b[0m\u001b[0;34m)\u001b[0m\u001b[0;34m\u001b[0m\u001b[0;34m\u001b[0m\u001b[0m\n\u001b[0;32m----> 6\u001b[0;31m \u001b[0mplt\u001b[0m\u001b[0;34m.\u001b[0m\u001b[0mplot\u001b[0m\u001b[0;34m(\u001b[0m\u001b[0msgld_full_aux\u001b[0m\u001b[0;34m[\u001b[0m\u001b[0mtyp\u001b[0m\u001b[0;34m]\u001b[0m\u001b[0;34m,\u001b[0m \u001b[0mlabel\u001b[0m\u001b[0;34m=\u001b[0m\u001b[0;34m\"SGLD\"\u001b[0m\u001b[0;34m)\u001b[0m\u001b[0;34m\u001b[0m\u001b[0;34m\u001b[0m\u001b[0m\n\u001b[0m\u001b[1;32m      7\u001b[0m \u001b[0mplt\u001b[0m\u001b[0;34m.\u001b[0m\u001b[0mlegend\u001b[0m\u001b[0;34m(\u001b[0m\u001b[0;34m)\u001b[0m\u001b[0;34m\u001b[0m\u001b[0;34m\u001b[0m\u001b[0m\n",
      "\u001b[0;31mNameError\u001b[0m: name 'sgld_full_aux' is not defined"
     ]
    },
    {
     "data": {
      "image/png": "[encoded data removed]",
      "text/plain": [
       "<Figure size 1080x576 with 1 Axes>"
      ]
     },
     "metadata": {
      "needs_background": "light"
     },
     "output_type": "display_data"
    }
   ],
   "source": [
    "%matplotlib inline\n",
    "plt.subplots(figsize=[15, 8])\n",
    "\n",
    "typ = \"funnel_mmd\"\n",
    "plt.plot(*zip(*particles.rundata[typ]), label=\"NVGD\")\n",
    "plt.plot(sgld_full_aux[typ], label=\"SGLD\")\n",
    "plt.legend()"
   ]
  },
  {
   "cell_type": "code",
   "execution_count": null,
   "metadata": {},
   "outputs": [],
   "source": []
  },
  {
   "cell_type": "code",
   "execution_count": null,
   "metadata": {},
   "outputs": [],
   "source": []
  },
  {
   "cell_type": "code",
   "execution_count": null,
   "metadata": {},
   "outputs": [],
   "source": []
  },
  {
   "cell_type": "code",
   "execution_count": null,
   "metadata": {},
   "outputs": [],
   "source": [
    "%matplotlib inline\n",
    "fig, axs = plt.subplots(2, 1, figsize = [8,8])\n",
    "\n",
    "ax = axs[0]\n",
    "ax.plot(particles.rundata['global_grad_norm_post_update'], label=\"NVGD update norm\")\n",
    "# ax.plot(sgld_aux['global_grad_norm'], label=\"SGLD update norm\")\n",
    "ax.set_yscale('log')\n",
    "ax.legend()\n",
    "\n",
    "ax = axs[1]\n",
    "ax.plot(neural_grad.rundata[\"training_loss\"])\n",
    "ax.plot(neural_grad.rundata[\"validation_loss\"])"
   ]
  },
  {
   "cell_type": "code",
   "execution_count": null,
   "metadata": {},
   "outputs": [],
   "source": [
    "# generate markings based on num_steps\n",
    "%matplotlib inline\n",
    "fig, ax = plt.subplots(figsize = [18,8])\n",
    "a = 80000\n",
    "b = 85000\n",
    "\n",
    "markings = onp.cumsum(neural_grad.rundata['train_steps'])\n",
    "marker_a = (markings < a).sum()\n",
    "marker_b = (markings < b).sum()\n",
    "print(f\"step {marker_a} to step {marker_b}.\")\n",
    "\n",
    "ax.plot(neural_grad.rundata[\"training_loss\"][a:b], \"--.\")\n",
    "ax.plot(neural_grad.rundata[\"validation_loss\"][a:b], \"--.\")\n",
    "ax.scatter(markings[marker_a:marker_b] - a, onp.zeros(marker_b - marker_a), color=\"black\")"
   ]
  },
  {
   "cell_type": "code",
   "execution_count": null,
   "metadata": {},
   "outputs": [],
   "source": [
    "# just sgld\n",
    "sgld_particles = init_particles\n",
    "sgld_trajectory = [sgld_particles]\n",
    "sgld_full_aux = {}\n",
    "for step_counter in tqdm(range(NUM_ITER)):\n",
    "    dlogp = vdlogp(sgld_particles)\n",
    "    sgld_particles, sgld_full_state, aux = sgld_full_step(\n",
    "        sgld_particles, dlogp, sgld_full_state)\n",
    "    metrics.append_to_log(sgld_full_aux, aux)\n",
    "    sgld_trajectory.append(sgld_particles)\n",
    "\n",
    "# neural_grad.done()\n",
    "# particles.done()"
   ]
  },
  {
   "cell_type": "code",
   "execution_count": null,
   "metadata": {},
   "outputs": [],
   "source": [
    "%matplotlib inline\n",
    "fig, axs = plt.subplots(1, 3, figsize=[22, 6])\n",
    "\n",
    "ax = axs[0]\n",
    "plot.scatter(particles.particles, ax=ax, label=\"SGLD\")\n",
    "plot.scatter(sgld_particles, ax=ax, label=\"NVGD\")\n",
    "\n",
    "ax = axs[1]\n",
    "typ = \"funnel_mmd\"\n",
    "ax.plot(*zip(*particles.rundata[typ]), label=\"NVGD\")\n",
    "ax.plot(sgld_full_aux[typ], label=\"SGLD\")\n",
    "ax.legend()\n",
    "\n",
    "ax = axs[2]\n",
    "typ = \"rbf_mmd\"\n",
    "ax.plot(*zip(*particles.rundata[typ]), label=\"NVGD\")\n",
    "ax.plot(sgld_full_aux[typ], label=\"SGLD\")\n",
    "ax.legend()"
   ]
  },
  {
   "cell_type": "code",
   "execution_count": null,
   "metadata": {},
   "outputs": [],
   "source": [
    "plt.subplots(figsize=[15, 8])\n",
    "\n",
    "typ = \"rbf_mmd\"\n",
    "plt.plot(*zip(*particles.rundata[typ]), label=\"NVGD\")\n",
    "plt.plot(sgld_full_aux[typ], label=\"SGLD\")\n",
    "plt.legend()"
   ]
  },
  {
   "cell_type": "code",
   "execution_count": 11,
   "metadata": {},
   "outputs": [
    {
     "data": {
      "application/vnd.jupyter.widget-view+json": {
       "model_id": "f4d5766df4924df5b5813bc078a5a01e",
       "version_major": 2,
       "version_minor": 0
      },
      "text/plain": [
       "Canvas(toolbar=Toolbar(toolitems=[('Home', 'Reset original view', 'home', 'home'), ('Back', 'Back to previous …"
      ]
     },
     "metadata": {},
     "output_type": "display_data"
    },
    {
     "data": {
      "text/plain": [
       "[<matplotlib.animation.FuncAnimation at 0x7fc942371be0>,\n",
       " <matplotlib.animation.FuncAnimation at 0x7fc94232cd90>]"
      ]
     },
     "execution_count": 11,
     "metadata": {},
     "output_type": "execute_result"
    },
    {
     "data": {
      "image/png": "[encoded data removed]",
      "text/plain": [
       "<Figure size 504x504 with 1 Axes>"
      ]
     },
     "metadata": {
      "needs_background": "light"
     },
     "output_type": "display_data"
    }
   ],
   "source": [
    "%matplotlib widget\n",
    "lims = (-15, 15)\n",
    "fig, ax = plt.subplots(figsize=[7,7])\n",
    "ax.scatter(*np.rollaxis(target.sample(NUM_SAMPLES), 1), label=\"True\", alpha=0.25)\n",
    "ax.set(xlim=lims, ylim=lims)\n",
    "\n",
    "\n",
    "interval = 10\n",
    "nvgd_traj = onp.array(particles.rundata['particles'])\n",
    "sgld_traj = onp.array(sgld_trajectory)\n",
    "a = []\n",
    "a.append(plot.animate_array(nvgd_traj, fig, ax=ax, interval=interval))\n",
    "a.append(plot.animate_array(sgld_traj, fig, ax=ax, interval=interval))\n",
    "a"
   ]
  },
  {
   "cell_type": "code",
   "execution_count": null,
   "metadata": {},
   "outputs": [],
   "source": []
  }
 ],
 "metadata": {
  "kernelspec": {
   "display_name": "Python 3",
   "language": "python",
   "name": "python3"
  },
  "language_info": {
   "codemirror_mode": {
    "name": "ipython",
    "version": 3
   },
   "file_extension": ".py",
   "mimetype": "text/x-python",
   "name": "python",
   "nbconvert_exporter": "python",
   "pygments_lexer": "ipython3",
   "version": "3.7.1"
  }
 },
 "nbformat": 4,
 "nbformat_minor": 4
}
