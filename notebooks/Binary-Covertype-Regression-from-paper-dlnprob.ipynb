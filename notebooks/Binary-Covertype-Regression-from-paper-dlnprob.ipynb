{
 "cells": [
  {
   "cell_type": "markdown",
   "metadata": {},
   "source": [
    "# Covertype"
   ]
  },
  {
   "cell_type": "code",
   "execution_count": 4,
   "metadata": {},
   "outputs": [
    {
     "name": "stderr",
     "output_type": "stream",
     "text": [
      "/home/lauro/.virtualenvs/msc-thesis/lib/python3.8/site-packages/jax/lib/xla_bridge.py:130: UserWarning: No GPU/TPU found, falling back to CPU.\n",
      "  warnings.warn('No GPU/TPU found, falling back to CPU.')\n"
     ]
    }
   ],
   "source": [
    "%load_ext autoreload\n",
    "import sys\n",
    "import os\n",
    "sys.path.append(\"/home/lauro/code/msc-thesis/svgd/kernel_learning/\")\n",
    "from tqdm import tqdm\n",
    "from jax import config\n",
    "\n",
    "\n",
    "import jax.numpy as jnp\n",
    "import jax.numpy as np\n",
    "from jax import grad, jit, vmap, random, lax, jacfwd, value_and_grad\n",
    "from jax.ops import index_update, index\n",
    "import matplotlib.pyplot as plt\n",
    "import matplotlib\n",
    "import numpy as onp\n",
    "import jax\n",
    "import pandas as pd\n",
    "import scipy\n",
    "    \n",
    "import utils\n",
    "import plot\n",
    "import distributions\n",
    "import stein\n",
    "import models\n",
    "import flows\n",
    "from itertools import cycle, islice\n",
    "    \n",
    "key = random.PRNGKey(0)\n",
    "\n",
    "from sklearn.model_selection import train_test_split\n",
    "\n",
    "from functools import partial\n",
    "import kernels\n",
    "\n",
    "import matplotlib.pyplot as plt\n",
    "import seaborn as sns\n",
    "from sklearn import datasets\n",
    "sns.set(style='white')\n",
    "\n",
    "from tensorflow_probability.substrates import jax as tfp\n",
    "tfd = tfp.distributions\n",
    "tfb = tfp.bijectors\n",
    "tfpk = tfp.math.psd_kernels"
   ]
  },
  {
   "cell_type": "markdown",
   "metadata": {},
   "source": [
    "# Data"
   ]
  },
  {
   "cell_type": "code",
   "execution_count": 5,
   "metadata": {},
   "outputs": [],
   "source": [
    "data = scipy.io.loadmat('/home/lauro/code/msc-thesis/wang_svgd/data/covertype.mat')\n",
    "features = data['covtype'][:, 1:]\n",
    "features = onp.hstack([features, onp.ones([features.shape[0], 1])]) # add intercept term\n",
    "\n",
    "labels = data['covtype'][:, 0]\n",
    "labels[labels == 2] = 0\n",
    "\n",
    "x_train, x_test, y_train, y_test = train_test_split(features, labels, test_size=0.2, random_state=42)\n",
    "\n",
    "num_features = features.shape[-1]\n",
    "num_classes = len(onp.unique(labels))"
   ]
  },
  {
   "cell_type": "code",
   "execution_count": 6,
   "metadata": {},
   "outputs": [],
   "source": [
    "def get_batches(x, y, n_steps=500, batch_size=100):\n",
    "    \"\"\"Split x and y into batches\"\"\"\n",
    "    assert len(x) == len(y)\n",
    "    batch_cycle = cycle(zip(*[onp.array_split(data, len(data)//batch_size) for data in (x, y)]))\n",
    "    return islice(batch_cycle, n_steps)\n",
    "\n",
    "num_batches = len(x_train) // 100"
   ]
  },
  {
   "cell_type": "code",
   "execution_count": 7,
   "metadata": {},
   "outputs": [],
   "source": [
    "batches = get_batches(x_train, y_train, batch_size=5)"
   ]
  },
  {
   "cell_type": "markdown",
   "metadata": {},
   "source": [
    "# dlnprob"
   ]
  },
  {
   "cell_type": "code",
   "execution_count": 10,
   "metadata": {},
   "outputs": [],
   "source": [
    "class BayesLR:\n",
    "    def __init__(self, X, Y, a0, b0):\n",
    "        self.X, self.Y = X, Y\n",
    "        self.a0, self.b0 = a0, b0\n",
    "    \n",
    "    def dlnprob(self, theta):\n",
    "        ridx = random.permutation(subkey, self.X.shape[0])[:100]\n",
    "        Xs = self.X[ridx, :] # batches\n",
    "        Ys = self.Y[ridx]\n",
    "\n",
    "        w = theta[:, 1:]  # logistic weights\n",
    "        alpha = np.exp(theta[:, 0])  # the last column is logalpha\n",
    "        d = w.shape[1]\n",
    "\n",
    "        wt = np.multiply((alpha / 2), np.sum(w ** 2, axis=1))\n",
    "\n",
    "        coff = np.matmul(Xs, w.T)\n",
    "        y_hat = 1.0 / (1.0 + np.exp(-1 * coff))\n",
    "\n",
    "        dw_data = np.matmul(((nm.repmat(np.vstack(Ys), 1, theta.shape[0]) + 1) / 2.0 - y_hat).T, Xs)  # Y \\in {-1,1}\n",
    "        dw_prior = -np.multiply(nm.repmat(np.vstack(alpha), 1, d) , w)\n",
    "        dw = dw_data * 1.0 * self.X.shape[0] / Xs.shape[0] + dw_prior  # re-scale\n",
    "\n",
    "        dalpha = d / 2.0 - wt + (self.a0 - 1) - self.b0 * alpha + 1  # the last term is the jacobian term\n",
    "\n",
    "        return np.hstack([dw, np.vstack(dalpha)])  # % first order derivative "
   ]
  },
  {
   "cell_type": "code",
   "execution_count": 11,
   "metadata": {},
   "outputs": [],
   "source": [
    "a0, b0 = 1, 0.01 # hyper-parameters\n",
    "model = BayesLR(x_train, y_train, a0, b0)"
   ]
  },
  {
   "cell_type": "code",
   "execution_count": 27,
   "metadata": {},
   "outputs": [
    {
     "name": "stdout",
     "output_type": "stream",
     "text": [
      "skip assert _assert_compare_to_zero\n"
     ]
    }
   ],
   "source": [
    "params = dist.sample(100, seed=key)[:-1]\n",
    "theta_init = batch_ravel(params)"
   ]
  },
  {
   "cell_type": "markdown",
   "metadata": {},
   "source": [
    "# Model"
   ]
  },
  {
   "cell_type": "markdown",
   "metadata": {
    "colab_type": "text",
    "id": "9pXr2atnk8xA"
   },
   "source": [
    "We can define the model using `tfd.JointDistributionCoroutine`."
   ]
  },
  {
   "cell_type": "code",
   "execution_count": 13,
   "metadata": {},
   "outputs": [
    {
     "data": {
      "text/plain": [
       "StructTuple(\n",
       "  log_alpha=DeviceArray(3.0338602, dtype=float32),\n",
       "  w=DeviceArray([ 0.02075525,  0.09080024, -0.05566663,  0.01807063,\n",
       "                 -0.04087966,  0.02947342,  0.03893749, -0.07100359,\n",
       "                  0.0032695 ,  0.06341525, -0.02146061,  0.09370746,\n",
       "                 -0.02793198,  0.03643689,  0.04841042,  0.03952959,\n",
       "                 -0.0113207 , -0.11319032,  0.04115384, -0.04990796,\n",
       "                 -0.03788016, -0.03639597,  0.08864421, -0.03869305,\n",
       "                  0.0670914 ,  0.0195445 ,  0.08889833, -0.00668893,\n",
       "                 -0.05931887,  0.04983618,  0.08292147,  0.00465528,\n",
       "                 -0.08273923, -0.01320915,  0.03118362, -0.00353957,\n",
       "                 -0.07568851,  0.03409538,  0.04189936,  0.01574344,\n",
       "                 -0.00100415,  0.02006344, -0.13256052,  0.01025473,\n",
       "                  0.02021239,  0.028134  ,  0.03408746, -0.0250483 ,\n",
       "                  0.00868422, -0.02533536, -0.04201757, -0.00197363,\n",
       "                 -0.01202914,  0.02259135, -0.04007649], dtype=float32),\n",
       "  labels=DeviceArray([0, 1, 1, 0, 1, 0, 0], dtype=int32)\n",
       ")"
      ]
     },
     "execution_count": 13,
     "metadata": {},
     "output_type": "execute_result"
    }
   ],
   "source": [
    "a0, b0 = 1, 0.01 # hyper-parameters\n",
    "# note that b0 is inverse scale, so this means alpha big, so 1/alpha small! gaussian narrow! dunno why, check paper\n",
    "\n",
    "Root = tfd.JointDistributionCoroutine.Root\n",
    "\n",
    "def get_model(features_batch):\n",
    "    def model():\n",
    "        \"\"\"generator\"\"\"\n",
    "        log_alpha = yield Root(tfd.ExpGamma(a0, b0, name=\"log_alpha\", validate_args=True))                                  # scalar\n",
    "        w = yield tfd.Sample(tfd.Normal(0., 1/np.exp(log_alpha), validate_args=True), sample_shape=(num_features,), name=\"w\") # shape (num_features,)\n",
    "        log_odds = jnp.dot(features_batch, w)                                                   # shape (len(features_batch),)\n",
    "        _ = yield tfd.Independent(tfd.Bernoulli(logits=log_odds, validate_args=True), name=\"labels\")              # y in {0, 1}\n",
    "    return model\n",
    "\n",
    "\n",
    "def get_logp(x_batch, y_batch):\n",
    "    \"\"\"Stochastic estimate of the log-density (up to additive constant)\n",
    "    based on batch\"\"\"\n",
    "    def logp(params):\n",
    "        dist = tfd.JointDistributionCoroutineAutoBatched(get_model(x_batch), validate_args=True)\n",
    "        return dist.log_prob(tuple(params) + (y_batch,))\n",
    "    return logp\n",
    "\n",
    "\n",
    "dist = tfd.JointDistributionCoroutineAutoBatched(get_model(x_train[:7]))\n",
    "key, subkey = random.split(key)\n",
    "dist.sample(seed=subkey)"
   ]
  },
  {
   "cell_type": "markdown",
   "metadata": {},
   "source": [
    "Note that we have two distinct types of batching going on: we're using batches of data to estimate the gradient $\\nabla \\log p$, and then we're mapping that gradient over a set of particles."
   ]
  },
  {
   "cell_type": "code",
   "execution_count": 14,
   "metadata": {},
   "outputs": [
    {
     "name": "stdout",
     "output_type": "stream",
     "text": [
      "177.38268\n",
      "177.38268\n",
      "skip assert _assert_compare_to_zero\n",
      "skip assert _assert_compare_to_zero\n",
      "[ 16.506779 142.38776  197.63046   35.098225 -32.543076 163.51126\n",
      "  32.31668 ]\n",
      "skip assert _assert_compare_to_zero\n",
      "skip assert _assert_compare_to_zero\n",
      "skip assert _assert_binary\n",
      "[ 16.506779 142.38776  197.63046   35.098225 -32.543076 163.51126\n",
      "  32.31668 ]\n"
     ]
    }
   ],
   "source": [
    "x, y = next(batches)\n",
    "logp = get_logp(x, y)\n",
    "\n",
    "dist = tfd.JointDistributionCoroutineAutoBatched(get_model(x), validate_args=True)\n",
    "*params, labels = dist.sample(seed=key)\n",
    "print(dist.log_prob(params + [y]))\n",
    "print(logp(params))\n",
    "\n",
    "# now batched!\n",
    "key, subkey = random.split(key)\n",
    "*params, labels = dist.sample(7, seed=subkey)\n",
    "print(vmap(logp)(params))\n",
    "print(logp(params))"
   ]
  },
  {
   "cell_type": "markdown",
   "metadata": {},
   "source": [
    "# Run inference using minibatches"
   ]
  },
  {
   "cell_type": "markdown",
   "metadata": {},
   "source": [
    "We can ravel (flatten) and unravel parameters like so:"
   ]
  },
  {
   "cell_type": "code",
   "execution_count": 15,
   "metadata": {},
   "outputs": [],
   "source": [
    "params = dist.sample(seed=key)[:-1]\n",
    "params_flat, unravel = jax.flatten_util.ravel_pytree(params)\n",
    "# unravel(params_flat) == params\n",
    "# [a == b for a, b in zip(unravel(params_flat), params)]"
   ]
  },
  {
   "cell_type": "code",
   "execution_count": 16,
   "metadata": {},
   "outputs": [],
   "source": [
    "def get_flat_logp(x_batch, y_batch):\n",
    "    logp = get_logp(x_batch, y_batch)\n",
    "    def flat_logp(params_flat):\n",
    "        return logp(unravel(params_flat))\n",
    "    return flat_logp\n",
    "\n",
    "def ravel(params):\n",
    "    flat, _ = jax.flatten_util.ravel_pytree(params)\n",
    "    return flat\n",
    "\n",
    "def batch_ravel(batch):\n",
    "    return vmap(ravel)(batch)\n",
    "\n",
    "def batch_unravel(batch_flat):\n",
    "    return vmap(unravel)(batch_flat)"
   ]
  },
  {
   "cell_type": "code",
   "execution_count": 17,
   "metadata": {},
   "outputs": [],
   "source": [
    "def run_lmc(key, init_batch):\n",
    "    \"\"\"init_batch is a batch of initial samples / particles.\"\"\"\n",
    "    particles = batch_ravel(init_batch)\n",
    "    eta = 1e-3\n",
    "    logps = []\n",
    "\n",
    "    @jit\n",
    "    def step(key, particles, x, y):\n",
    "        logp = get_flat_logp(x, y)\n",
    "        log_probs, grads = vmap(value_and_grad(logp))(particles)\n",
    "        particles += eta * grads + np.sqrt(2*eta) * random.normal(key, shape=particles.shape)\n",
    "        return particles, log_probs\n",
    "\n",
    "    n_steps = num_batches*2\n",
    "    for x, y in tqdm(get_batches(x_train, y_train, n_steps), total=n_steps):\n",
    "        key, subkey = random.split(key)\n",
    "        particles, log_probs = step(subkey, particles, x, y)\n",
    "        logps.append(log_probs)\n",
    "    return batch_unravel(particles), np.array(logps)"
   ]
  },
  {
   "cell_type": "code",
   "execution_count": 18,
   "metadata": {},
   "outputs": [],
   "source": [
    "def run_svgd(init_batch):\n",
    "    \"\"\"init_batch is a batch of initial samples / particles.\"\"\"\n",
    "    particles = batch_ravel(init_batch)\n",
    "    eta = 1e-2\n",
    "    logps = []\n",
    "\n",
    "    @jit\n",
    "    def step(particles, x, y):\n",
    "        logp = get_flat_logp(x, y)\n",
    "        kernel = kernels.get_rbf_kernel(kernels.median_heuristic(particles))\n",
    "        phistar = stein.get_phistar(kernel, logp, particles)\n",
    "        log_probs = vmap(logp)(particles)\n",
    "        return particles + eta * vmap(phistar)(particles), log_probs\n",
    "\n",
    "    n_steps = num_batches*2\n",
    "    for x, y in tqdm(get_batches(x_train, y_train, n_steps), total=n_steps):\n",
    "        particles, log_probs = step(particles, x, y)\n",
    "        logps.append(log_probs)\n",
    "    return batch_unravel(particles), np.array(logps)"
   ]
  },
  {
   "cell_type": "code",
   "execution_count": 19,
   "metadata": {},
   "outputs": [],
   "source": [
    "# def run_neural_svgd(key, init_batch):\n",
    "#     \"\"\"init_batch is a batch of initial samples / particles.\"\"\"\n",
    "#     init_batch = batch_ravel(init_batch)\n",
    "#     key, keya, keyb = random.split(key, 3)\n",
    "#     learner = models.SDLearner(target_logp=logp, target_dim=init_batch.shape[1], key=keya)\n",
    "\n",
    "#     particles = models.Particles(key=keyb,\n",
    "#                                  gradient=learner.gradient,\n",
    "#                                  init_samples=init_batch,\n",
    "#                                  learning_rate=1e-3,\n",
    "#                                  num_groups=2)\n",
    "#     next_batch = partial(particles.next_batch, batch_size=None)\n",
    "#     for x, y in get_batches(x_train, y_train, 10):\n",
    "#         key, subkey = random.split(key)\n",
    "#         learner.train(next_batch, key=subkey, n_steps=1)\n",
    "#         particles.step(learner.get_params())\n",
    "#     return batch_unravel(particles.particles.training), learner, particles"
   ]
  },
  {
   "cell_type": "code",
   "execution_count": 20,
   "metadata": {},
   "outputs": [
    {
     "name": "stdout",
     "output_type": "stream",
     "text": [
      "skip assert _assert_compare_to_zero\n"
     ]
    }
   ],
   "source": [
    "init_batch = dist.sample(100, seed=key)[:-1]\n",
    "batches = get_batches(x_train, y_train, 100)\n",
    "x, y = next(batches)\n",
    "logp = get_flat_logp(x, y)"
   ]
  },
  {
   "cell_type": "code",
   "execution_count": 21,
   "metadata": {},
   "outputs": [],
   "source": [
    "particles = batch_ravel(init_batch)"
   ]
  },
  {
   "cell_type": "code",
   "execution_count": 150,
   "metadata": {},
   "outputs": [],
   "source": [
    "eta = 1e-3\n",
    "logp = get_flat_logp(x, y)\n",
    "\n",
    "@jit\n",
    "def step(key, particles):\n",
    "    log_probs, grads = vmap(value_and_grad(logp))(particles)\n",
    "    particles += eta * grads + np.sqrt(2*eta) * random.normal(key, shape=particles.shape)\n",
    "    log_probs, grads = vmap(value_and_grad(logp))(particles)\n",
    "    return particles, log_probs, grads"
   ]
  },
  {
   "cell_type": "code",
   "execution_count": 152,
   "metadata": {},
   "outputs": [
    {
     "name": "stdout",
     "output_type": "stream",
     "text": [
      "True\n",
      "False\n"
     ]
    }
   ],
   "source": [
    "key, subkey = random.split(key)\n",
    "particles, log_probs, grads = step(subkey, particles)\n",
    "\n",
    "print(np.any(np.isnan(grads)))\n",
    "print(np.any(np.isnan(log_probs)))"
   ]
  },
  {
   "cell_type": "code",
   "execution_count": 172,
   "metadata": {},
   "outputs": [
    {
     "data": {
      "text/plain": [
       "(100, 56)"
      ]
     },
     "execution_count": 172,
     "metadata": {},
     "output_type": "execute_result"
    }
   ],
   "source": [
    "grads.shape"
   ]
  },
  {
   "cell_type": "code",
   "execution_count": 171,
   "metadata": {},
   "outputs": [
    {
     "data": {
      "text/plain": [
       "(DeviceArray([ 2,  8, 22, 46, 47, 49, 63, 65, 67, 69, 71, 81, 88], dtype=int32),\n",
       " DeviceArray([0, 0, 0, 0, 0, 0, 0, 0, 0, 0, 0, 0, 0], dtype=int32))"
      ]
     },
     "execution_count": 171,
     "metadata": {},
     "output_type": "execute_result"
    }
   ],
   "source": [
    "np.isnan(grads).nonzero()"
   ]
  },
  {
   "cell_type": "code",
   "execution_count": 154,
   "metadata": {},
   "outputs": [
    {
     "data": {
      "text/plain": [
       "(100, 56)"
      ]
     },
     "execution_count": 154,
     "metadata": {},
     "output_type": "execute_result"
    }
   ],
   "source": [
    "particles.shape"
   ]
  },
  {
   "cell_type": "code",
   "execution_count": 173,
   "metadata": {},
   "outputs": [],
   "source": [
    "params = batch_unravel(particles)\n",
    "grad_params = batch_unravel(grads)"
   ]
  },
  {
   "cell_type": "code",
   "execution_count": 178,
   "metadata": {},
   "outputs": [
    {
     "name": "stdout",
     "output_type": "stream",
     "text": [
      "True\n",
      "False\n"
     ]
    }
   ],
   "source": [
    "print(np.any(np.isnan(grad_params.log_alpha)))\n",
    "print(np.any(np.isnan(grad_params.w)))"
   ]
  },
  {
   "cell_type": "code",
   "execution_count": 160,
   "metadata": {},
   "outputs": [
    {
     "data": {
      "text/plain": [
       "(array([ 1.,  0.,  0.,  0.,  0.,  0.,  0.,  0.,  2., 97.]),\n",
       " array([-6.0004717e+03, -5.4000518e+03, -4.7996318e+03, -4.1992124e+03,\n",
       "        -3.5987925e+03, -2.9983726e+03, -2.3979529e+03, -1.7975330e+03,\n",
       "        -1.1971132e+03, -5.9669330e+02,  3.7265100e+00], dtype=float32),\n",
       " <BarContainer object of 10 artists>)"
      ]
     },
     "execution_count": 160,
     "metadata": {},
     "output_type": "execute_result"
    },
    {
     "data": {
      "image/png": "[encoded data removed]",
      "text/plain": [
       "<Figure size 432x288 with 1 Axes>"
      ]
     },
     "metadata": {},
     "output_type": "display_data"
    }
   ],
   "source": [
    "plt.hist(params.log_alpha)"
   ]
  },
  {
   "cell_type": "code",
   "execution_count": 165,
   "metadata": {},
   "outputs": [
    {
     "data": {
      "text/plain": [
       "DeviceArray(124, dtype=int32)"
      ]
     },
     "execution_count": 165,
     "metadata": {},
     "output_type": "execute_result"
    }
   ],
   "source": [
    "params.w.argmax()"
   ]
  },
  {
   "cell_type": "code",
   "execution_count": 162,
   "metadata": {},
   "outputs": [
    {
     "data": {
      "text/plain": [
       "(array([1.000e+00, 5.000e+00, 7.000e+00, 3.800e+01, 5.408e+03, 2.900e+01,\n",
       "        4.000e+00, 5.000e+00, 2.000e+00, 1.000e+00]),\n",
       " array([-408.88934 , -316.64185 , -224.39435 , -132.14685 ,  -39.899353,\n",
       "          52.348145,  144.59564 ,  236.84314 ,  329.09064 ,  421.33813 ,\n",
       "         513.58563 ], dtype=float32),\n",
       " <BarContainer object of 10 artists>)"
      ]
     },
     "execution_count": 162,
     "metadata": {},
     "output_type": "execute_result"
    },
    {
     "data": {
      "image/png": "[encoded data removed]",
      "text/plain": [
       "<Figure size 432x288 with 1 Axes>"
      ]
     },
     "metadata": {},
     "output_type": "display_data"
    }
   ],
   "source": [
    "plt.hist(params.w.flatten())"
   ]
  },
  {
   "cell_type": "code",
   "execution_count": null,
   "metadata": {},
   "outputs": [],
   "source": []
  },
  {
   "cell_type": "code",
   "execution_count": 28,
   "metadata": {},
   "outputs": [
    {
     "name": "stderr",
     "output_type": "stream",
     "text": [
      "100%|██████████| 9296/9296 [00:12<00:00, 750.20it/s] \n",
      "100%|██████████| 9296/9296 [00:39<00:00, 237.73it/s]\n"
     ]
    }
   ],
   "source": [
    "# Run samplers\n",
    "init_batch = dist.sample(100, seed=key)[:-1]\n",
    "lmc_samples, lmc_logps = run_lmc(key, init_batch)\n",
    "svgd_samples, svgd_logps = run_svgd(init_batch)\n",
    "# neural_samples, neural_gradient, neural_particles = run_neural_svgd(key, init_batch)"
   ]
  },
  {
   "cell_type": "markdown",
   "metadata": {},
   "source": [
    "## Evaluate samples on test set"
   ]
  },
  {
   "cell_type": "code",
   "execution_count": 30,
   "metadata": {},
   "outputs": [],
   "source": [
    "def get_probs(params):\n",
    "    \"\"\"\n",
    "    Argument: sampled model parameters (single sample! need to vmap over sample batch)\n",
    "    Returns logits shaped (n,)\"\"\"\n",
    "    test_dist = tfd.JointDistributionCoroutineAutoBatched(get_model(x_test))\n",
    "    dists, _ = test_dist.sample_distributions(seed=random.PRNGKey(0), value=params + (None,))\n",
    "    probs = dists[-1].distribution.probs_parameter() # spits out probability of labels\n",
    "    return probs\n",
    "\n",
    "def get_preds(params):\n",
    "    \"\"\"\n",
    "    Argument: sampled model parameters (batch)\n",
    "    Returns predictions on test set\n",
    "    \"\"\"\n",
    "    probs = vmap(get_probs)(params) # shape (n_samples, n_data)\n",
    "    return (probs.mean(axis=0) > 0.5).astype(np.int32)\n",
    "\n",
    "@jit\n",
    "def test_accuracy(params):\n",
    "    \"\"\"\n",
    "    Argument: sampled model parameters (batch)\n",
    "    Returns accuracy on test set\n",
    "    \"\"\"\n",
    "    return np.mean(get_preds(params) == y_test)"
   ]
  },
  {
   "cell_type": "code",
   "execution_count": 31,
   "metadata": {},
   "outputs": [
    {
     "name": "stdout",
     "output_type": "stream",
     "text": [
      "LMC accuracy: 0.4862181\n",
      "SVGD accuracy: 0.4862181\n",
      "prior samples accuracy: 0.51462525\n"
     ]
    }
   ],
   "source": [
    "print(\"LMC accuracy:\", test_accuracy(lmc_samples))\n",
    "print(\"SVGD accuracy:\", test_accuracy(svgd_samples))\n",
    "key, subkey = random.split(key)\n",
    "print(\"prior samples accuracy:\", test_accuracy(dist.sample(500, seed=subkey)[:-1]))"
   ]
  },
  {
   "cell_type": "markdown",
   "metadata": {},
   "source": [
    "### compute test log-likelihood"
   ]
  },
  {
   "cell_type": "code",
   "execution_count": 32,
   "metadata": {},
   "outputs": [],
   "source": [
    "test_batches = get_batches(x_test, y_test, batch_size=5000)"
   ]
  },
  {
   "cell_type": "code",
   "execution_count": 33,
   "metadata": {},
   "outputs": [],
   "source": [
    "x, y = next(test_batches)\n",
    "test_logp = get_logp(x, y)"
   ]
  },
  {
   "cell_type": "code",
   "execution_count": 34,
   "metadata": {},
   "outputs": [
    {
     "data": {
      "text/plain": [
       "<matplotlib.legend.Legend at 0x7ff887136be0>"
      ]
     },
     "execution_count": 34,
     "metadata": {},
     "output_type": "execute_result"
    },
    {
     "data": {
      "image/png": "[encoded data removed]",
      "text/plain": [
       "<Figure size 432x288 with 1 Axes>"
      ]
     },
     "metadata": {},
     "output_type": "display_data"
    }
   ],
   "source": [
    "plt.plot(svgd_logps.mean(axis=1), label=\"SVGD\");\n",
    "plt.plot(lmc_logps.mean(axis=1), label=\"LMC\");\n",
    "plt.legend()"
   ]
  },
  {
   "cell_type": "code",
   "execution_count": 35,
   "metadata": {},
   "outputs": [
    {
     "name": "stderr",
     "output_type": "stream",
     "text": [
      "/home/lauro/.virtualenvs/msc-thesis/lib/python3.8/site-packages/jax/lax/lax.py:6198: UserWarning: Explicitly requested dtype <class 'jax.numpy.lax_numpy.float64'> requested in astype is not available, and will be truncated to dtype float32. To enable more dtypes, set the jax_enable_x64 configuration option or the JAX_ENABLE_X64 shell environment variable. See https://github.com/google/jax#current-gotchas for more.\n",
      "  warnings.warn(msg.format(dtype, fun_name , truncated_dtype))\n",
      "/home/lauro/.virtualenvs/msc-thesis/lib/python3.8/site-packages/jax/lax/lax.py:6198: UserWarning: Explicitly requested dtype <class 'jax.numpy.lax_numpy.float64'> requested in array is not available, and will be truncated to dtype float32. To enable more dtypes, set the jax_enable_x64 configuration option or the JAX_ENABLE_X64 shell environment variable. See https://github.com/google/jax#current-gotchas for more.\n",
      "  warnings.warn(msg.format(dtype, fun_name , truncated_dtype))\n",
      "/home/lauro/.virtualenvs/msc-thesis/lib/python3.8/site-packages/jax/lax/lax.py:6198: UserWarning: Explicitly requested dtype <class 'jax.numpy.lax_numpy.float64'> requested in zeros is not available, and will be truncated to dtype float32. To enable more dtypes, set the jax_enable_x64 configuration option or the JAX_ENABLE_X64 shell environment variable. See https://github.com/google/jax#current-gotchas for more.\n",
      "  warnings.warn(msg.format(dtype, fun_name , truncated_dtype))\n",
      "/home/lauro/.virtualenvs/msc-thesis/lib/python3.8/site-packages/jax/lax/lax.py:6198: UserWarning: Explicitly requested dtype <class 'jax.numpy.lax_numpy.float64'> requested in ones is not available, and will be truncated to dtype float32. To enable more dtypes, set the jax_enable_x64 configuration option or the JAX_ENABLE_X64 shell environment variable. See https://github.com/google/jax#current-gotchas for more.\n",
      "  warnings.warn(msg.format(dtype, fun_name , truncated_dtype))\n"
     ]
    },
    {
     "data": {
      "text/plain": [
       "<matplotlib.legend.Legend at 0x7ff886ab3fa0>"
      ]
     },
     "execution_count": 35,
     "metadata": {},
     "output_type": "execute_result"
    },
    {
     "data": {
      "image/png": "[encoded data removed]",
      "text/plain": [
       "<Figure size 576x360 with 1 Axes>"
      ]
     },
     "metadata": {},
     "output_type": "display_data"
    }
   ],
   "source": [
    "lmc_test_logp = np.mean(vmap(test_logp)(lmc_samples))\n",
    "svgd_test_logp = np.mean(vmap(test_logp)(svgd_samples))\n",
    "\n",
    "fig, ax = plt.subplots(figsize=[8, 5])\n",
    "ax.plot(svgd_logps.mean(axis=1), label=\"SVGD\")\n",
    "ax.axhline(y=svgd_test_logp, label=\"SVGD test\", color=\"tab:blue\")\n",
    "\n",
    "ax.plot(lmc_logps.mean(axis=1), label=\"LMC\")\n",
    "ax.axhline(y=lmc_test_logp, label=\"LMC test\", color=\"tab:orange\")\n",
    "\n",
    "plt.legend()"
   ]
  },
  {
   "cell_type": "code",
   "execution_count": null,
   "metadata": {},
   "outputs": [],
   "source": []
  },
  {
   "cell_type": "code",
   "execution_count": null,
   "metadata": {},
   "outputs": [],
   "source": []
  }
 ],
 "metadata": {
  "kernelspec": {
   "display_name": "msc-thesis",
   "language": "python",
   "name": "msc-thesis"
  },
  "language_info": {
   "codemirror_mode": {
    "name": "ipython",
    "version": 3
   },
   "file_extension": ".py",
   "mimetype": "text/x-python",
   "name": "python",
   "nbconvert_exporter": "python",
   "pygments_lexer": "ipython3",
   "version": "3.8.5"
  }
 },
 "nbformat": 4,
 "nbformat_minor": 4
}
