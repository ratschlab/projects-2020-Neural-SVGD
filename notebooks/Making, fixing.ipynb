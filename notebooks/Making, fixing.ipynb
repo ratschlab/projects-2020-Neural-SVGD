{
 "cells": [
  {
   "cell_type": "markdown",
   "metadata": {},
   "source": [
    "# Making stuff"
   ]
  },
  {
   "cell_type": "code",
   "execution_count": null,
   "metadata": {},
   "outputs": [],
   "source": [
    "import sys\n",
    "import os\n",
    "sys.path.append(\"/home/lauro/code/msc-thesis/svgd\")\n",
    "import json\n",
    "import collections\n",
    "import itertools\n",
    "\n",
    "import numpy as onp\n",
    "from jax.config import config\n",
    "config.update(\"jax_enable_x64\", True)\n",
    "\n",
    "import jax.numpy as np\n",
    "from jax import grad, jit, vmap, random, lax, jacfwd, value_and_grad\n",
    "from jax import lax\n",
    "from jax.ops import index_update, index\n",
    "import matplotlib.pyplot as plt\n",
    "\n",
    "import numpy as onp\n",
    "import jax\n",
    "import pandas as pd\n",
    "import haiku as hk\n",
    "import ot\n",
    "\n",
    "import config\n",
    "\n",
    "import utils\n",
    "import metrics\n",
    "import time\n",
    "import plot\n",
    "import svgd\n",
    "import stein\n",
    "import kernels\n",
    "\n",
    "from jax.experimental import optimizers\n",
    "\n",
    "rkey = random.PRNGKey(0)"
   ]
  },
  {
   "cell_type": "markdown",
   "metadata": {},
   "source": [
    "# Vmap and aux"
   ]
  },
  {
   "cell_type": "code",
   "execution_count": 2,
   "metadata": {},
   "outputs": [],
   "source": [
    "def f(x): return 2*x, 5"
   ]
  },
  {
   "cell_type": "code",
   "execution_count": 5,
   "metadata": {},
   "outputs": [
    {
     "name": "stderr",
     "output_type": "stream",
     "text": [
      "/home/lauro/.virtualenvs/msc-thesis/lib/python3.8/site-packages/jax/numpy/lax_numpy.py:1531: FutureWarning: jax.numpy reductions won't accept lists and tuples in future versions, only scalars and ndarrays\n",
      "  warnings.warn(msg, category=FutureWarning)\n"
     ]
    },
    {
     "data": {
      "text/plain": [
       "DeviceArray(3.5, dtype=float64)"
      ]
     },
     "execution_count": 5,
     "metadata": {},
     "output_type": "execute_result"
    }
   ],
   "source": [
    "np.mean(vmap(f)(np.ones(5)))"
   ]
  },
  {
   "cell_type": "markdown",
   "metadata": {},
   "source": [
    "# Haiku identity"
   ]
  },
  {
   "cell_type": "code",
   "execution_count": 23,
   "metadata": {},
   "outputs": [],
   "source": [
    "def id_fn(x): return x\n",
    "identity = hk.transform(id_fn)"
   ]
  },
  {
   "cell_type": "code",
   "execution_count": 24,
   "metadata": {},
   "outputs": [
    {
     "data": {
      "text/plain": [
       "frozendict({})"
      ]
     },
     "execution_count": 24,
     "metadata": {},
     "output_type": "execute_result"
    }
   ],
   "source": [
    "identity.init(rkey, 1.)"
   ]
  },
  {
   "cell_type": "markdown",
   "metadata": {},
   "source": [
    "# Timing"
   ]
  },
  {
   "cell_type": "code",
   "execution_count": 2,
   "metadata": {},
   "outputs": [],
   "source": [
    "svgd = svgd.SVGD(**config.get_svgd_args(config.config))"
   ]
  },
  {
   "cell_type": "code",
   "execution_count": 19,
   "metadata": {},
   "outputs": [],
   "source": [
    "class Time():\n",
    "    def start(self):\n",
    "        self.lapstart = self.zero = time.time()\n",
    "        \n",
    "    def lap(self, name):\n",
    "        duration = time.strftime(\"%M:%S\", time.gmtime(time.time()-self.lapstart))\n",
    "        print(name, duration)\n",
    "        self.lapstart = time.time()\n",
    "        \n",
    "    def stop(self):\n",
    "        total = time.strftime(\"%M:%S\", time.gmtime(time.time()-self.zero))\n",
    "        print(\"Total time elapsed:\", total)"
   ]
  },
  {
   "cell_type": "code",
   "execution_count": 20,
   "metadata": {},
   "outputs": [],
   "source": [
    "d = metrics.Gaussian([0, 1], 1)\n",
    "particles = d.sample(5000)"
   ]
  },
  {
   "cell_type": "code",
   "execution_count": 21,
   "metadata": {},
   "outputs": [
    {
     "name": "stdout",
     "output_type": "stream",
     "text": [
      "EMD 00:02\n",
      "Sinkhorn 00:09\n",
      "KSD 00:09\n",
      "Mean 00:00\n",
      "Var 00:01\n",
      "Total time elapsed: 00:23\n"
     ]
    }
   ],
   "source": [
    "n = len(particles)\n",
    "target_sample = svgd.target.sample(n)\n",
    "t = Time()\n",
    "\n",
    "t.start()\n",
    "emd = metrics.wasserstein_distance(particles, target_sample)\n",
    "t.lap(\"EMD\")\n",
    "sinkhorn_divergence = ot.bregman.empirical_sinkhorn_divergence(particles, target_sample, 1, metric=\"sqeuclidean\")\n",
    "t.lap(\"Sinkhorn\")\n",
    "ksd = stein.ksd_squared(particles, particles, svgd.target.logpdf, kernels.ard(0))\n",
    "t.lap(\"KSD\")\n",
    "se_mean = np.mean((np.mean(particles, axis=0) - svgd.target.mean)**2)\n",
    "t.lap(\"Mean\")\n",
    "se_var = np.mean((np.cov(particles, rowvar=False) - svgd.target.cov)**2)\n",
    "t.lap(\"Var\")\n",
    "t.stop()"
   ]
  },
  {
   "cell_type": "markdown",
   "metadata": {},
   "source": [
    "# haiku use subnetwork somewhere else"
   ]
  },
  {
   "cell_type": "code",
   "execution_count": null,
   "metadata": {},
   "outputs": [],
   "source": [
    "def encoder_fn(x):\n",
    "    \"\"\"can take kernel_params\"\"\"\n",
    "    layer_sizes = [4, 4, 2]\n",
    "    encoder = hk.nets.MLP(output_sizes=layer_sizes,\n",
    "                    w_init=hk.initializers.VarianceScaling(scale=2.0),\n",
    "                    activation=jax.nn.relu,\n",
    "                    activate_final=False,\n",
    "                    name=\"encoder\")\n",
    "    return encoder(x)\n",
    "encoder = hk.transform(encoder_fn)"
   ]
  },
  {
   "cell_type": "markdown",
   "metadata": {},
   "source": [
    "# unpacking `value_and_grad`"
   ]
  },
  {
   "cell_type": "code",
   "execution_count": null,
   "metadata": {},
   "outputs": [],
   "source": [
    "def f(x, y): return x+y, \"aux\"\n",
    "value_and_grad(f, argnums=(0, 1), has_aux=True)(1.,2.)"
   ]
  },
  {
   "cell_type": "markdown",
   "metadata": {},
   "source": [
    "# plot errorbars"
   ]
  },
  {
   "cell_type": "code",
   "execution_count": null,
   "metadata": {},
   "outputs": [],
   "source": [
    "def errorfill(x, y, yerr, color=\"r\", alpha_fill=0.3, ax=None):\n",
    "    ax = ax if ax is not None else plt.gca()\n",
    "    if color is None:\n",
    "        color = ax._get_lines.color_cycle.next()\n",
    "    if np.isscalar(yerr) or len(yerr) == len(y):\n",
    "        ymin = y - yerr\n",
    "        ymax = y + yerr\n",
    "    elif len(yerr) == 2:\n",
    "        ymin, ymax = yerr\n",
    "    ax.plot(x, y, color=color)\n",
    "    ax.fill_between(x, ymax, ymin, color=color, alpha=alpha_fill)"
   ]
  },
  {
   "cell_type": "code",
   "execution_count": null,
   "metadata": {},
   "outputs": [],
   "source": [
    "x = np.linspace(0, 10, 100)\n",
    "y = np.log(x)\n",
    "var = np.log(x) / 3"
   ]
  },
  {
   "cell_type": "code",
   "execution_count": null,
   "metadata": {},
   "outputs": [],
   "source": [
    "errorfill(x, y, var)"
   ]
  },
  {
   "cell_type": "markdown",
   "metadata": {},
   "source": [
    "# subsample"
   ]
  },
  {
   "cell_type": "code",
   "execution_count": null,
   "metadata": {},
   "outputs": [],
   "source": [
    "random.normal(rkey, (10,3)).split(2)"
   ]
  },
  {
   "cell_type": "code",
   "execution_count": null,
   "metadata": {},
   "outputs": [],
   "source": [
    "def subsample(key, array, n_subsamples, replace=True, axis=0):\n",
    "    \"\"\"\n",
    "    Arguments\n",
    "    ----------\n",
    "    \n",
    "    Returns\n",
    "    ----------\n",
    "    np.array of same shape as array except that the specified axis has length n_subsamples.\n",
    "    consists of random samples from input array.\n",
    "    \"\"\"\n",
    "    subsample_idx = random.choice(rkey, array.shape[axis], shape=(n_subsamples,), replace=replace)\n",
    "    subsample = array.take(indices=subsample_idx, axis=axis)\n",
    "    return subsample\n",
    "\n"
   ]
  },
  {
   "cell_type": "code",
   "execution_count": null,
   "metadata": {},
   "outputs": [],
   "source": [
    "particles = random.normal(rkey, (10, 2))\n",
    "rkey = random.split(rkey)[0]\n",
    "\n",
    "subsample_idx = random.choice(rkey, len(particles), shape=(5,), replace=False) # set replace=True?\n",
    "subsample = particles[subsample_idx]\n",
    "rkey = random.split(rkey)[0]\n",
    "\n",
    "print(subsample)\n",
    "rkey = random.split(rkey)[0]\n"
   ]
  },
  {
   "cell_type": "markdown",
   "metadata": {},
   "source": [
    "# finiteness"
   ]
  },
  {
   "cell_type": "code",
   "execution_count": null,
   "metadata": {},
   "outputs": [],
   "source": [
    "t = np.array(1)\n",
    "t = t / 0 # inf\n",
    "t = t / t # NaN\n",
    "t"
   ]
  },
  {
   "cell_type": "code",
   "execution_count": null,
   "metadata": {},
   "outputs": [],
   "source": [
    "np.isfinite(t)"
   ]
  },
  {
   "cell_type": "markdown",
   "metadata": {},
   "source": [
    "# Generate means, covs, weights"
   ]
  },
  {
   "cell_type": "code",
   "execution_count": null,
   "metadata": {},
   "outputs": [],
   "source": [
    "A = onp.random.rand(4,4)"
   ]
  },
  {
   "cell_type": "code",
   "execution_count": null,
   "metadata": {},
   "outputs": [],
   "source": [
    "A"
   ]
  },
  {
   "cell_type": "code",
   "execution_count": null,
   "metadata": {},
   "outputs": [],
   "source": [
    "A.T"
   ]
  },
  {
   "cell_type": "code",
   "execution_count": null,
   "metadata": {},
   "outputs": [],
   "source": [
    "def generate_pd_matrix(dim):\n",
    "    A = onp.random.rand(dim, dim)\n",
    "    return onp.matmul(A, A.T)"
   ]
  },
  {
   "cell_type": "code",
   "execution_count": null,
   "metadata": {},
   "outputs": [],
   "source": [
    "def generate_parameters_for_gaussian(dim, k, mixture=True):\n",
    "    means = onp.random.rand(k, dim) * 10 # random means in [0, 10]\n",
    "    covs = [generate_pd_matrix(dim) for _ in range(k)]\n",
    "    weights = onp.random.randint(1, 5, k)\n",
    "    weights = weights / weights.sum()\n",
    "    return means, covs, weights"
   ]
  },
  {
   "cell_type": "code",
   "execution_count": null,
   "metadata": {},
   "outputs": [],
   "source": [
    "generate_parameters_for_gaussian(2, 3)"
   ]
  },
  {
   "cell_type": "code",
   "execution_count": null,
   "metadata": {},
   "outputs": [],
   "source": [
    "d = metrics.GaussianMixture(*generate_parameters_for_gaussian(2, 3))"
   ]
  },
  {
   "cell_type": "code",
   "execution_count": null,
   "metadata": {},
   "outputs": [],
   "source": [
    "plot.plot_pdf(d.logpdf, (-5., 15.), \"contour\", num_gridpoints=500)\n",
    "plt.scatter(d.means[:, 0], d.means[:, 1])"
   ]
  },
  {
   "cell_type": "code",
   "execution_count": null,
   "metadata": {},
   "outputs": [],
   "source": [
    "s = d.sample(10**3)"
   ]
  },
  {
   "cell_type": "code",
   "execution_count": null,
   "metadata": {},
   "outputs": [],
   "source": [
    "plot.bivariate_hist(s)"
   ]
  },
  {
   "cell_type": "markdown",
   "metadata": {},
   "source": [
    "# Wasserstein"
   ]
  },
  {
   "cell_type": "code",
   "execution_count": null,
   "metadata": {},
   "outputs": [],
   "source": [
    "from scipy.spatial import distance"
   ]
  },
  {
   "cell_type": "code",
   "execution_count": null,
   "metadata": {},
   "outputs": [],
   "source": [
    "coords = [(35.0456, -85.2672),\n",
    "          (35.1174, -89.9711),\n",
    "          (35.9728, -83.9422),\n",
    "          (36.1667, -86.7833)]\n",
    "distance.cdist(coords, coords, 'minkowski')\n",
    "# array([[ 0.    ,  4.7044,  1.6172,  1.8856],\n",
    "#        [ 4.7044,  0.    ,  6.0893,  3.3561],\n",
    "#        [ 1.6172,  6.0893,  0.    ,  2.8477],\n",
    "#        [ 1.8856,  3.3561,  2.8477,  0.    ]])"
   ]
  },
  {
   "cell_type": "markdown",
   "metadata": {},
   "source": [
    "# stuff"
   ]
  },
  {
   "cell_type": "code",
   "execution_count": null,
   "metadata": {},
   "outputs": [],
   "source": [
    "d = dict(chars=\"ab\", nums=[1,2])\n",
    "e = dict(words = [\"bake\", \"tree\"])"
   ]
  },
  {
   "cell_type": "code",
   "execution_count": null,
   "metadata": {},
   "outputs": [],
   "source": []
  },
  {
   "cell_type": "code",
   "execution_count": null,
   "metadata": {},
   "outputs": [],
   "source": [
    "p = utils.dict_cartesian_product(**d)\n",
    "# list(p)\n",
    "# [x for x in p]"
   ]
  },
  {
   "cell_type": "code",
   "execution_count": null,
   "metadata": {},
   "outputs": [],
   "source": [
    "q = utils.dict_cartesian_product(**e)\n",
    "# list(q)"
   ]
  },
  {
   "cell_type": "code",
   "execution_count": null,
   "metadata": {},
   "outputs": [],
   "source": [
    "for a, b in itertools.product(p, q):\n",
    "    print(a)\n",
    "    print(b)\n",
    "    print()"
   ]
  },
  {
   "cell_type": "code",
   "execution_count": null,
   "metadata": {},
   "outputs": [],
   "source": [
    "[x for x in itertools.product((\"a\", \"b\", \"c\"), (1,2,3))]"
   ]
  },
  {
   "cell_type": "markdown",
   "metadata": {},
   "source": [
    "# check if key in nested dict"
   ]
  },
  {
   "cell_type": "code",
   "execution_count": null,
   "metadata": {},
   "outputs": [],
   "source": [
    "def nested_dict_contains_key(ndict: dict, key):\n",
    "    if key in ndict:\n",
    "        return True\n",
    "    else:\n",
    "        for k, v in ndict.items():\n",
    "            if isinstance(v, collections.Mapping):\n",
    "                if nested_dict_contains_key(v, key):\n",
    "                    return True\n",
    "        return False"
   ]
  },
  {
   "cell_type": "code",
   "execution_count": null,
   "metadata": {},
   "outputs": [],
   "source": [
    "config.config"
   ]
  },
  {
   "cell_type": "code",
   "execution_count": null,
   "metadata": {},
   "outputs": [],
   "source": []
  }
 ],
 "metadata": {
  "kernelspec": {
   "display_name": "msc-thesis",
   "language": "python",
   "name": "msc-thesis"
  },
  "language_info": {
   "codemirror_mode": {
    "name": "ipython",
    "version": 3
   },
   "file_extension": ".py",
   "mimetype": "text/x-python",
   "name": "python",
   "nbconvert_exporter": "python",
   "pygments_lexer": "ipython3",
   "version": "3.8.2"
  }
 },
 "nbformat": 4,
 "nbformat_minor": 4
}
