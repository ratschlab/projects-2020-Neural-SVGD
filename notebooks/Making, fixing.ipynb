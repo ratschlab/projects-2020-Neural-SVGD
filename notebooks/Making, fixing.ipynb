{
 "cells": [
  {
   "cell_type": "markdown",
   "metadata": {},
   "source": [
    "# Making stuff"
   ]
  },
  {
   "cell_type": "code",
   "execution_count": 34,
   "metadata": {},
   "outputs": [],
   "source": [
    "import sys\n",
    "import os\n",
    "sys.path.append(\"/home/lauro/code/msc-thesis/svgd\")\n",
    "import json\n",
    "import collections\n",
    "import itertools\n",
    "\n",
    "import jax.numpy as np\n",
    "from jax import grad, jit, vmap, random, lax, jacfwd\n",
    "from jax import lax\n",
    "from jax.ops import index_update, index\n",
    "import matplotlib.pyplot as plt\n",
    "import numpy as onp\n",
    "import jax\n",
    "import pandas as pd\n",
    "import haiku as hk\n",
    "\n",
    "import config\n",
    "\n",
    "import utils\n",
    "import metrics\n",
    "import time\n",
    "import plot\n",
    "import svgd\n",
    "import stein\n",
    "import train\n",
    "import kernels\n",
    "\n",
    "from jax.experimental import optimizers\n",
    "\n",
    "rkey = random.PRNGKey(0)"
   ]
  },
  {
   "cell_type": "code",
   "execution_count": 35,
   "metadata": {},
   "outputs": [],
   "source": [
    "d = dict(chars=\"ab\", nums=[1,2])\n",
    "e = dict(words = [\"bake\", \"tree\"])"
   ]
  },
  {
   "cell_type": "code",
   "execution_count": null,
   "metadata": {},
   "outputs": [],
   "source": []
  },
  {
   "cell_type": "code",
   "execution_count": 56,
   "metadata": {},
   "outputs": [],
   "source": [
    "p = utils.dict_cartesian_product(**d)\n",
    "# list(p)\n",
    "# [x for x in p]"
   ]
  },
  {
   "cell_type": "code",
   "execution_count": 57,
   "metadata": {},
   "outputs": [],
   "source": [
    "q = utils.dict_cartesian_product(**e)\n",
    "# list(q)"
   ]
  },
  {
   "cell_type": "code",
   "execution_count": 58,
   "metadata": {},
   "outputs": [
    {
     "name": "stdout",
     "output_type": "stream",
     "text": [
      "{'chars': 'a', 'nums': 1}\n",
      "{'words': 'bake'}\n",
      "\n",
      "{'chars': 'a', 'nums': 1}\n",
      "{'words': 'tree'}\n",
      "\n",
      "{'chars': 'a', 'nums': 2}\n",
      "{'words': 'bake'}\n",
      "\n",
      "{'chars': 'a', 'nums': 2}\n",
      "{'words': 'tree'}\n",
      "\n",
      "{'chars': 'b', 'nums': 1}\n",
      "{'words': 'bake'}\n",
      "\n",
      "{'chars': 'b', 'nums': 1}\n",
      "{'words': 'tree'}\n",
      "\n",
      "{'chars': 'b', 'nums': 2}\n",
      "{'words': 'bake'}\n",
      "\n",
      "{'chars': 'b', 'nums': 2}\n",
      "{'words': 'tree'}\n",
      "\n"
     ]
    }
   ],
   "source": [
    "for a, b in itertools.product(p, q):\n",
    "    print(a)\n",
    "    print(b)\n",
    "    print()"
   ]
  },
  {
   "cell_type": "code",
   "execution_count": 43,
   "metadata": {},
   "outputs": [
    {
     "data": {
      "text/plain": [
       "[('a', 1),\n",
       " ('a', 2),\n",
       " ('a', 3),\n",
       " ('b', 1),\n",
       " ('b', 2),\n",
       " ('b', 3),\n",
       " ('c', 1),\n",
       " ('c', 2),\n",
       " ('c', 3)]"
      ]
     },
     "execution_count": 43,
     "metadata": {},
     "output_type": "execute_result"
    }
   ],
   "source": [
    "[x for x in itertools.product((\"a\", \"b\", \"c\"), (1,2,3))]"
   ]
  },
  {
   "cell_type": "markdown",
   "metadata": {},
   "source": [
    "# check if key in nested dict"
   ]
  },
  {
   "cell_type": "code",
   "execution_count": 19,
   "metadata": {},
   "outputs": [],
   "source": [
    "def nested_dict_contains_key(ndict: dict, key):\n",
    "    if key in ndict:\n",
    "        return True\n",
    "    else:\n",
    "        for k, v in ndict.items():\n",
    "            if isinstance(v, collections.Mapping):\n",
    "                if nested_dict_contains_key(v, key):\n",
    "                    return True\n",
    "        return False"
   ]
  },
  {
   "cell_type": "code",
   "execution_count": 18,
   "metadata": {},
   "outputs": [
    {
     "data": {
      "text/plain": [
       "{'svgd': {'target': 'Gaussian',\n",
       "  'target_args': [3, 10],\n",
       "  'n_particles': 100,\n",
       "  'optimizer_svgd': 'Adagrad',\n",
       "  'optimizer_svgd_args': [1.0]},\n",
       " 'kernel': {'architecture': 'MLP', 'layers': [32, 32]},\n",
       " 'train_kernel': {'key': 0,\n",
       "  'n_iter': 100,\n",
       "  'ksd_steps': 1,\n",
       "  'svgd_steps': 1,\n",
       "  'optimizer_ksd': 'Adam',\n",
       "  'optimizer_ksd_args': [0.01]}}"
      ]
     },
     "execution_count": 18,
     "metadata": {},
     "output_type": "execute_result"
    }
   ],
   "source": [
    "config.config"
   ]
  },
  {
   "cell_type": "code",
   "execution_count": null,
   "metadata": {},
   "outputs": [],
   "source": []
  }
 ],
 "metadata": {
  "kernelspec": {
   "display_name": "msc-thesis",
   "language": "python",
   "name": "msc-thesis"
  },
  "language_info": {
   "codemirror_mode": {
    "name": "ipython",
    "version": 3
   },
   "file_extension": ".py",
   "mimetype": "text/x-python",
   "name": "python",
   "nbconvert_exporter": "python",
   "pygments_lexer": "ipython3",
   "version": "3.6.9"
  }
 },
 "nbformat": 4,
 "nbformat_minor": 4
}
