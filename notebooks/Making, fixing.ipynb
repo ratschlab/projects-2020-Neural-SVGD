{
 "cells": [
  {
   "cell_type": "markdown",
   "metadata": {},
   "source": [
    "# Making stuff"
   ]
  },
  {
   "cell_type": "code",
   "execution_count": 42,
   "metadata": {},
   "outputs": [],
   "source": [
    "import sys\n",
    "import os\n",
    "sys.path.append(\"/home/lauro/code/msc-thesis/svgd\")\n",
    "import json\n",
    "import collections\n",
    "import itertools\n",
    "\n",
    "import numpy as onp\n",
    "from jax.config import config\n",
    "config.update(\"jax_enable_x64\", True)\n",
    "\n",
    "import jax.numpy as np\n",
    "from jax import grad, jit, vmap, random, lax, jacfwd, value_and_grad\n",
    "from jax import lax\n",
    "from jax.ops import index_update, index\n",
    "import matplotlib.pyplot as plt\n",
    "\n",
    "import numpy as onp\n",
    "import jax\n",
    "import pandas as pd\n",
    "import haiku as hk\n",
    "\n",
    "import config\n",
    "\n",
    "import utils\n",
    "import metrics\n",
    "import time\n",
    "import plot\n",
    "import svgd\n",
    "import stein\n",
    "import kernels\n",
    "\n",
    "from jax.experimental import optimizers\n",
    "\n",
    "rkey = random.PRNGKey(0)"
   ]
  },
  {
   "cell_type": "markdown",
   "metadata": {},
   "source": [
    "# haiku use subnetwork somewhere else"
   ]
  },
  {
   "cell_type": "code",
   "execution_count": 62,
   "metadata": {},
   "outputs": [],
   "source": [
    "def encoder_fn(x):\n",
    "    \"\"\"can take kernel_params\"\"\"\n",
    "    layer_sizes = [4, 4, 2]\n",
    "    encoder = hk.nets.MLP(output_sizes=layer_sizes,\n",
    "                    w_init=hk.initializers.VarianceScaling(scale=2.0),\n",
    "                    activation=jax.nn.relu,\n",
    "                    activate_final=False,\n",
    "                    name=\"encoder\")\n",
    "    return encoder(x)\n",
    "encoder = hk.transform(encoder_fn)"
   ]
  },
  {
   "cell_type": "markdown",
   "metadata": {},
   "source": [
    "# unpacking `value_and_grad`"
   ]
  },
  {
   "cell_type": "code",
   "execution_count": 64,
   "metadata": {},
   "outputs": [
    {
     "data": {
      "text/plain": [
       "((DeviceArray(3., dtype=float64), 'aux'), (array(1.), array(1.)))"
      ]
     },
     "execution_count": 64,
     "metadata": {},
     "output_type": "execute_result"
    }
   ],
   "source": [
    "def f(x, y): return x+y, \"aux\"\n",
    "value_and_grad(f, argnums=(0, 1), has_aux=True)(1.,2.)"
   ]
  },
  {
   "cell_type": "markdown",
   "metadata": {},
   "source": [
    "# plot errorbars"
   ]
  },
  {
   "cell_type": "code",
   "execution_count": 12,
   "metadata": {},
   "outputs": [],
   "source": [
    "def errorfill(x, y, yerr, color=\"r\", alpha_fill=0.3, ax=None):\n",
    "    ax = ax if ax is not None else plt.gca()\n",
    "    if color is None:\n",
    "        color = ax._get_lines.color_cycle.next()\n",
    "    if np.isscalar(yerr) or len(yerr) == len(y):\n",
    "        ymin = y - yerr\n",
    "        ymax = y + yerr\n",
    "    elif len(yerr) == 2:\n",
    "        ymin, ymax = yerr\n",
    "    ax.plot(x, y, color=color)\n",
    "    ax.fill_between(x, ymax, ymin, color=color, alpha=alpha_fill)"
   ]
  },
  {
   "cell_type": "code",
   "execution_count": 13,
   "metadata": {},
   "outputs": [],
   "source": [
    "x = np.linspace(0, 10, 100)\n",
    "y = np.log(x)\n",
    "var = np.log(x) / 3"
   ]
  },
  {
   "cell_type": "code",
   "execution_count": 15,
   "metadata": {},
   "outputs": [
    {
     "data": {
      "image/png": "[encoded data removed]",
      "text/plain": [
       "<Figure size 432x288 with 1 Axes>"
      ]
     },
     "metadata": {
      "needs_background": "light"
     },
     "output_type": "display_data"
    }
   ],
   "source": [
    "errorfill(x, y, var)"
   ]
  },
  {
   "cell_type": "markdown",
   "metadata": {},
   "source": [
    "# subsample"
   ]
  },
  {
   "cell_type": "code",
   "execution_count": 17,
   "metadata": {},
   "outputs": [
    {
     "data": {
      "text/plain": [
       "[DeviceArray([[-0.28371075,  0.9368161 , -1.0050074 ],\n",
       "              [ 1.4165013 ,  1.05433   ,  0.9108126 ],\n",
       "              [-0.42656714,  0.98618793, -0.5575325 ],\n",
       "              [ 0.01532494, -2.0785687 ,  0.554837  ],\n",
       "              [ 0.9142364 ,  0.57445955,  0.72278625]], dtype=float32),\n",
       " DeviceArray([[ 0.12106168, -0.32373545,  1.6234994 ],\n",
       "              [ 0.24500382, -1.3809782 , -0.6111238 ],\n",
       "              [ 0.14037243,  0.8410042 , -1.094358  ],\n",
       "              [-1.0775021 , -1.1396459 , -0.5933381 ],\n",
       "              [-0.15576522, -0.38321453, -1.1144515 ]], dtype=float32)]"
      ]
     },
     "execution_count": 17,
     "metadata": {},
     "output_type": "execute_result"
    }
   ],
   "source": [
    "random.normal(rkey, (10,3)).split(2)"
   ]
  },
  {
   "cell_type": "code",
   "execution_count": 5,
   "metadata": {},
   "outputs": [],
   "source": [
    "def subsample(key, array, n_subsamples, replace=True, axis=0):\n",
    "    \"\"\"\n",
    "    Arguments\n",
    "    ----------\n",
    "    \n",
    "    Returns\n",
    "    ----------\n",
    "    np.array of same shape as array except that the specified axis has length n_subsamples.\n",
    "    consists of random samples from input array.\n",
    "    \"\"\"\n",
    "    subsample_idx = random.choice(rkey, array.shape[axis], shape=(n_subsamples,), replace=replace)\n",
    "    subsample = array.take(indices=subsample_idx, axis=axis)\n",
    "    return subsample\n",
    "\n"
   ]
  },
  {
   "cell_type": "code",
   "execution_count": 37,
   "metadata": {},
   "outputs": [
    {
     "name": "stdout",
     "output_type": "stream",
     "text": [
      "[[-0.48206133  0.38029492]\n",
      " [-1.3291745  -0.35355854]\n",
      " [ 0.6765924   0.7591996 ]\n",
      " [-1.3251274   0.44873136]\n",
      " [ 0.29150775  0.4165848 ]]\n"
     ]
    }
   ],
   "source": [
    "particles = random.normal(rkey, (10, 2))\n",
    "rkey = random.split(rkey)[0]\n",
    "\n",
    "subsample_idx = random.choice(rkey, len(particles), shape=(5,), replace=False) # set replace=True?\n",
    "subsample = particles[subsample_idx]\n",
    "rkey = random.split(rkey)[0]\n",
    "\n",
    "print(subsample)\n",
    "rkey = random.split(rkey)[0]\n"
   ]
  },
  {
   "cell_type": "markdown",
   "metadata": {},
   "source": [
    "# finiteness"
   ]
  },
  {
   "cell_type": "code",
   "execution_count": 7,
   "metadata": {},
   "outputs": [
    {
     "data": {
      "text/plain": [
       "DeviceArray(nan, dtype=float64)"
      ]
     },
     "execution_count": 7,
     "metadata": {},
     "output_type": "execute_result"
    }
   ],
   "source": [
    "t = np.array(1)\n",
    "t = t / 0 # inf\n",
    "t = t / t # NaN\n",
    "t"
   ]
  },
  {
   "cell_type": "code",
   "execution_count": 8,
   "metadata": {},
   "outputs": [
    {
     "data": {
      "text/plain": [
       "DeviceArray(False, dtype=bool)"
      ]
     },
     "execution_count": 8,
     "metadata": {},
     "output_type": "execute_result"
    }
   ],
   "source": [
    "np.isfinite(t)"
   ]
  },
  {
   "cell_type": "markdown",
   "metadata": {},
   "source": [
    "# Generate means, covs, weights"
   ]
  },
  {
   "cell_type": "code",
   "execution_count": 2,
   "metadata": {},
   "outputs": [],
   "source": [
    "A = onp.random.rand(4,4)"
   ]
  },
  {
   "cell_type": "code",
   "execution_count": null,
   "metadata": {},
   "outputs": [],
   "source": [
    "A"
   ]
  },
  {
   "cell_type": "code",
   "execution_count": null,
   "metadata": {},
   "outputs": [],
   "source": [
    "A.T"
   ]
  },
  {
   "cell_type": "code",
   "execution_count": 5,
   "metadata": {},
   "outputs": [],
   "source": [
    "def generate_pd_matrix(dim):\n",
    "    A = onp.random.rand(dim, dim)\n",
    "    return onp.matmul(A, A.T)"
   ]
  },
  {
   "cell_type": "code",
   "execution_count": 6,
   "metadata": {},
   "outputs": [],
   "source": [
    "def generate_parameters_for_gaussian(dim, k, mixture=True):\n",
    "    means = onp.random.rand(k, dim) * 10 # random means in [0, 10]\n",
    "    covs = [generate_pd_matrix(dim) for _ in range(k)]\n",
    "    weights = onp.random.randint(1, 5, k)\n",
    "    weights = weights / weights.sum()\n",
    "    return means, covs, weights"
   ]
  },
  {
   "cell_type": "code",
   "execution_count": 7,
   "metadata": {},
   "outputs": [
    {
     "data": {
      "text/plain": [
       "(array([[5.9613734 , 4.0393458 ],\n",
       "        [7.93006909, 7.2204065 ],\n",
       "        [5.24510951, 7.64211038]]),\n",
       " [array([[0.42708436, 0.26021271],\n",
       "         [0.26021271, 0.30522232]]),\n",
       "  array([[0.98126097, 0.2796754 ],\n",
       "         [0.2796754 , 0.50323624]]),\n",
       "  array([[0.6166988 , 0.34549376],\n",
       "         [0.34549376, 0.20267285]])],\n",
       " array([0.66666667, 0.16666667, 0.16666667]))"
      ]
     },
     "execution_count": 7,
     "metadata": {},
     "output_type": "execute_result"
    }
   ],
   "source": [
    "generate_parameters_for_gaussian(2, 3)"
   ]
  },
  {
   "cell_type": "code",
   "execution_count": 40,
   "metadata": {},
   "outputs": [],
   "source": [
    "d = metrics.GaussianMixture(*generate_parameters_for_gaussian(2, 3))"
   ]
  },
  {
   "cell_type": "code",
   "execution_count": 46,
   "metadata": {},
   "outputs": [
    {
     "data": {
      "text/plain": [
       "<matplotlib.collections.PathCollection at 0x7f3fcc141520>"
      ]
     },
     "execution_count": 46,
     "metadata": {},
     "output_type": "execute_result"
    },
    {
     "data": {
      "image/png": "[encoded data removed]",
      "text/plain": [
       "<Figure size 432x288 with 1 Axes>"
      ]
     },
     "metadata": {
      "needs_background": "light"
     },
     "output_type": "display_data"
    }
   ],
   "source": [
    "plot.plot_pdf(d.logpdf, (-5., 15.), \"contour\", num_gridpoints=500)\n",
    "plt.scatter(d.means[:, 0], d.means[:, 1])"
   ]
  },
  {
   "cell_type": "code",
   "execution_count": 43,
   "metadata": {},
   "outputs": [],
   "source": [
    "s = d.sample(10**3)"
   ]
  },
  {
   "cell_type": "code",
   "execution_count": 44,
   "metadata": {},
   "outputs": [
    {
     "data": {
      "image/png": "[encoded data removed]",
      "text/plain": [
       "<Figure size 1080x576 with 3 Axes>"
      ]
     },
     "metadata": {
      "needs_background": "light"
     },
     "output_type": "display_data"
    }
   ],
   "source": [
    "plot.bivariate_hist(s)"
   ]
  },
  {
   "cell_type": "markdown",
   "metadata": {},
   "source": [
    "# Wasserstein"
   ]
  },
  {
   "cell_type": "code",
   "execution_count": 2,
   "metadata": {},
   "outputs": [],
   "source": [
    "from scipy.spatial import distance"
   ]
  },
  {
   "cell_type": "code",
   "execution_count": 6,
   "metadata": {},
   "outputs": [
    {
     "data": {
      "text/plain": [
       "array([[0.        , 4.70444794, 1.6171966 , 1.88558331],\n",
       "       [4.70444794, 0.        , 6.0892811 , 3.35605413],\n",
       "       [1.6171966 , 6.0892811 , 0.        , 2.84770898],\n",
       "       [1.88558331, 3.35605413, 2.84770898, 0.        ]])"
      ]
     },
     "execution_count": 6,
     "metadata": {},
     "output_type": "execute_result"
    }
   ],
   "source": [
    "coords = [(35.0456, -85.2672),\n",
    "          (35.1174, -89.9711),\n",
    "          (35.9728, -83.9422),\n",
    "          (36.1667, -86.7833)]\n",
    "distance.cdist(coords, coords, 'minkowski')\n",
    "# array([[ 0.    ,  4.7044,  1.6172,  1.8856],\n",
    "#        [ 4.7044,  0.    ,  6.0893,  3.3561],\n",
    "#        [ 1.6172,  6.0893,  0.    ,  2.8477],\n",
    "#        [ 1.8856,  3.3561,  2.8477,  0.    ]])"
   ]
  },
  {
   "cell_type": "markdown",
   "metadata": {},
   "source": [
    "# stuff"
   ]
  },
  {
   "cell_type": "code",
   "execution_count": 35,
   "metadata": {},
   "outputs": [],
   "source": [
    "d = dict(chars=\"ab\", nums=[1,2])\n",
    "e = dict(words = [\"bake\", \"tree\"])"
   ]
  },
  {
   "cell_type": "code",
   "execution_count": null,
   "metadata": {},
   "outputs": [],
   "source": []
  },
  {
   "cell_type": "code",
   "execution_count": 56,
   "metadata": {},
   "outputs": [],
   "source": [
    "p = utils.dict_cartesian_product(**d)\n",
    "# list(p)\n",
    "# [x for x in p]"
   ]
  },
  {
   "cell_type": "code",
   "execution_count": 57,
   "metadata": {},
   "outputs": [],
   "source": [
    "q = utils.dict_cartesian_product(**e)\n",
    "# list(q)"
   ]
  },
  {
   "cell_type": "code",
   "execution_count": 58,
   "metadata": {},
   "outputs": [
    {
     "name": "stdout",
     "output_type": "stream",
     "text": [
      "{'chars': 'a', 'nums': 1}\n",
      "{'words': 'bake'}\n",
      "\n",
      "{'chars': 'a', 'nums': 1}\n",
      "{'words': 'tree'}\n",
      "\n",
      "{'chars': 'a', 'nums': 2}\n",
      "{'words': 'bake'}\n",
      "\n",
      "{'chars': 'a', 'nums': 2}\n",
      "{'words': 'tree'}\n",
      "\n",
      "{'chars': 'b', 'nums': 1}\n",
      "{'words': 'bake'}\n",
      "\n",
      "{'chars': 'b', 'nums': 1}\n",
      "{'words': 'tree'}\n",
      "\n",
      "{'chars': 'b', 'nums': 2}\n",
      "{'words': 'bake'}\n",
      "\n",
      "{'chars': 'b', 'nums': 2}\n",
      "{'words': 'tree'}\n",
      "\n"
     ]
    }
   ],
   "source": [
    "for a, b in itertools.product(p, q):\n",
    "    print(a)\n",
    "    print(b)\n",
    "    print()"
   ]
  },
  {
   "cell_type": "code",
   "execution_count": 43,
   "metadata": {},
   "outputs": [
    {
     "data": {
      "text/plain": [
       "[('a', 1),\n",
       " ('a', 2),\n",
       " ('a', 3),\n",
       " ('b', 1),\n",
       " ('b', 2),\n",
       " ('b', 3),\n",
       " ('c', 1),\n",
       " ('c', 2),\n",
       " ('c', 3)]"
      ]
     },
     "execution_count": 43,
     "metadata": {},
     "output_type": "execute_result"
    }
   ],
   "source": [
    "[x for x in itertools.product((\"a\", \"b\", \"c\"), (1,2,3))]"
   ]
  },
  {
   "cell_type": "markdown",
   "metadata": {},
   "source": [
    "# check if key in nested dict"
   ]
  },
  {
   "cell_type": "code",
   "execution_count": 19,
   "metadata": {},
   "outputs": [],
   "source": [
    "def nested_dict_contains_key(ndict: dict, key):\n",
    "    if key in ndict:\n",
    "        return True\n",
    "    else:\n",
    "        for k, v in ndict.items():\n",
    "            if isinstance(v, collections.Mapping):\n",
    "                if nested_dict_contains_key(v, key):\n",
    "                    return True\n",
    "        return False"
   ]
  },
  {
   "cell_type": "code",
   "execution_count": 18,
   "metadata": {},
   "outputs": [
    {
     "data": {
      "text/plain": [
       "{'svgd': {'target': 'Gaussian',\n",
       "  'target_args': [3, 10],\n",
       "  'n_particles': 100,\n",
       "  'optimizer_svgd': 'Adagrad',\n",
       "  'optimizer_svgd_args': [1.0]},\n",
       " 'kernel': {'architecture': 'MLP', 'layers': [32, 32]},\n",
       " 'train_kernel': {'key': 0,\n",
       "  'n_iter': 100,\n",
       "  'ksd_steps': 1,\n",
       "  'svgd_steps': 1,\n",
       "  'optimizer_ksd': 'Adam',\n",
       "  'optimizer_ksd_args': [0.01]}}"
      ]
     },
     "execution_count": 18,
     "metadata": {},
     "output_type": "execute_result"
    }
   ],
   "source": [
    "config.config"
   ]
  },
  {
   "cell_type": "code",
   "execution_count": null,
   "metadata": {},
   "outputs": [],
   "source": []
  }
 ],
 "metadata": {
  "kernelspec": {
   "display_name": "msc-thesis",
   "language": "python",
   "name": "msc-thesis"
  },
  "language_info": {
   "codemirror_mode": {
    "name": "ipython",
    "version": 3
   },
   "file_extension": ".py",
   "mimetype": "text/x-python",
   "name": "python",
   "nbconvert_exporter": "python",
   "pygments_lexer": "ipython3",
   "version": "3.8.2"
  }
 },
 "nbformat": 4,
 "nbformat_minor": 4
}
