{
 "cells": [
  {
   "cell_type": "code",
   "execution_count": 1,
   "metadata": {},
   "outputs": [],
   "source": [
    "%matplotlib inline\n",
    "\n",
    "import jax.numpy as np\n",
    "from jax import grad, jit, vmap\n",
    "from jax import random\n",
    "import matplotlib as mpl\n",
    "import matplotlib.pyplot as plt\n",
    "\n",
    "from svgd import svgd"
   ]
  },
  {
   "cell_type": "markdown",
   "metadata": {},
   "source": [
    "Define a function that performs a search over the kernel parameter space:"
   ]
  },
  {
   "cell_type": "code",
   "execution_count": 2,
   "metadata": {},
   "outputs": [],
   "source": [
    "def get_mse(logp, n, stepsize, L, m, q, kernel_param_update_rule=None):\n",
    "    \"\"\"\n",
    "    IN:\n",
    "    * logp: callable, computes log(p(x)).\n",
    "    * n: integer, number of particles\n",
    "    * stepsize: float\n",
    "    * L: integer, number of SVGD steps\n",
    "    * m: integer, number of samples for averaging MSE\n",
    "    * q: callable, takes as argument a seed key and outputs samples of initial distributio q0\n",
    "    * kernel_param_update_rule: callable, takes the updated particles as input and outputs an updated set of kernel parameters.\n",
    "    If kernel_param constant, set to lambda x: const\n",
    "\n",
    "    OUT:\n",
    "    * dictionary of MSE values\n",
    "\n",
    "    \"\"\"\n",
    "    mse1 = []\n",
    "    mse2 = []\n",
    "    mse3 = []\n",
    "    for seed in range(0, m):\n",
    "        key = random.PRNGKey(seed)\n",
    "        x = q(key, n)\n",
    "\n",
    "        xout, log = svgd(x, logp, stepsize, L, kernel_param_update_rule)\n",
    "        mse1.append((np.mean(xout) - 2/3)**2)\n",
    "        mse2.append((np.mean(xout**2) - 5)**2)\n",
    "\n",
    "        w = random.normal(key, (1,))\n",
    "        mse3.append((np.mean(np.cos(w * xout) - np.exp(-w**2 / 2))**2))\n",
    "\n",
    "    mse1 = np.mean(np.array(mse1))\n",
    "    mse2 = np.mean(np.array(mse2))\n",
    "    mse3 = np.mean(np.array(mse3))\n",
    "\n",
    "    mse = {\n",
    "    \"E[x]\": mse1,\n",
    "    \"E[x^2]\": mse2,\n",
    "    \"E[cos(wx)]\": mse3\n",
    "    }\n",
    "    \n",
    "    return mse"
   ]
  },
  {
   "cell_type": "code",
   "execution_count": 3,
   "metadata": {},
   "outputs": [],
   "source": [
    "default_q = lambda key, n: random.normal(key, shape=(n,1)) - 10\n",
    "def kernel_param_search(logp, n, stepsize, L, m, kernel_param_grid, q=default_q):\n",
    "    \"\"\"\n",
    "    IN:\n",
    "    * logp: callable, computes log(p(x)).\n",
    "    * n: integer, number of particles\n",
    "    * stepsize: float\n",
    "    * L: integer, number of SVGD steps\n",
    "    * kernel_param_grid: one-dimensional np array\n",
    "    * m: integer, number of samples for computing MSE\n",
    "    * q: callable, takes as argument a seed key and outputs samples of initial distributio q0\n",
    "\n",
    "    \n",
    "    OUT:\n",
    "    * dictionary consisting of three np arrays of the same length as kernel_param_grid. Entries are MSE values.\n",
    "    \"\"\"\n",
    "    logs = []\n",
    "    mse1s = []\n",
    "    mse2s = []\n",
    "    mse3s = []\n",
    "\n",
    "    for h in kernel_param_grid:\n",
    "        mse1, mse2, mse3 = list(get_mse(logp, n, stepsize, L, m, q, lambda x: h).values())\n",
    "        \n",
    "        mse1s.append(mse1)\n",
    "        mse2s.append(mse2)\n",
    "        mse3s.append(mse3)\n",
    "    \n",
    "    mses = {\n",
    "        \"E[x]\": mse1s,\n",
    "        \"E[x^2]\": mse2s,\n",
    "        \"E[cos(wx)]\": mse3s\n",
    "    }\n",
    "    \n",
    "    return mses"
   ]
  },
  {
   "cell_type": "code",
   "execution_count": 5,
   "metadata": {},
   "outputs": [
    {
     "data": {
      "image/png": "[encoded data removed]",
      "text/plain": [
       "<Figure size 432x288 with 1 Axes>"
      ]
     },
     "metadata": {
      "needs_background": "light"
     },
     "output_type": "display_data"
    }
   ],
   "source": [
    "from utils import log_gaussian_mixture\n",
    "\n",
    "logp = lambda x: log_gaussian_mixture(x, means=[-2, 2], variances=[1, 1], weights=[1/3, 2/3])\n",
    "\n",
    "grid = np.arange(-5, 5, 0.1)\n",
    "vlogp = vmap(logp)\n",
    "_ = plt.plot(grid, np.exp(vlogp(grid)))"
   ]
  },
  {
   "cell_type": "code",
   "execution_count": 6,
   "metadata": {},
   "outputs": [
    {
     "name": "stderr",
     "output_type": "stream",
     "text": [
      "/home/lauro/.virtualenvs/msc-thesis/lib/python3.6/site-packages/jax/lax/lax.py:4665: UserWarning: Explicitly requested dtype float64 requested in asarray is not available, and will be truncated to dtype float32. To enable more dtypes, set the jax_enable_x64 configuration option or the JAX_ENABLE_X64 shell environment variable. See https://github.com/google/jax#current-gotchas for more.\n",
      "  warnings.warn(msg.format(dtype, fun_name , truncated_dtype))\n",
      "/home/lauro/.virtualenvs/msc-thesis/lib/python3.6/site-packages/jax/lax/lax.py:4665: UserWarning: Explicitly requested dtype float64 requested in array is not available, and will be truncated to dtype float32. To enable more dtypes, set the jax_enable_x64 configuration option or the JAX_ENABLE_X64 shell environment variable. See https://github.com/google/jax#current-gotchas for more.\n",
      "  warnings.warn(msg.format(dtype, fun_name , truncated_dtype))\n"
     ]
    }
   ],
   "source": [
    "n = 100\n",
    "stepsize = 0.01\n",
    "L = int(1 / stepsize)\n",
    "kernel_param_grid = np.logspace(-10, 15, num=25, base=2) # params smaller than 2^10 are generally awful\n",
    "m = 30\n",
    "\n",
    "\n",
    "q1 = lambda key, n: random.normal(key, shape=(n,1)) - 10\n",
    "q2 = lambda key, n: random.normal(key, shape=(n,1)) * 2 + 10"
   ]
  },
  {
   "cell_type": "code",
   "execution_count": null,
   "metadata": {},
   "outputs": [],
   "source": [
    "mses1 = kernel_param_search(logp, n, stepsize, L, m, kernel_param_grid, q1)\n",
    "mses2 = kernel_param_search(logp, n, stepsize, L, m, kernel_param_grid, q2)"
   ]
  },
  {
   "cell_type": "markdown",
   "metadata": {},
   "source": [
    "For comparison, do the same estimates using an adaptive kernel parameter:"
   ]
  },
  {
   "cell_type": "code",
   "execution_count": null,
   "metadata": {},
   "outputs": [],
   "source": [
    "from svgd import kernel_param_update_rule\n",
    "mses_adaptive1 = get_mse(logp, n, stepsize, L, m, q1, kernel_param_update_rule)\n",
    "mses_adaptive2 = get_mse(logp, n, stepsize, L, m, q2, kernel_param_update_rule)"
   ]
  },
  {
   "cell_type": "code",
   "execution_count": null,
   "metadata": {},
   "outputs": [],
   "source": [
    "mpl.rcParams['figure.figsize'] = [12.0, 8.0]\n",
    "plt.subplots_adjust(hspace=0.8, wspace=0.6)\n",
    "colours = ['r', 'b', 'g']\n",
    "\n",
    "for i, yaxis_name in enumerate(['E[x]', 'E[x^2]', 'E[cos(wx)]']):\n",
    "    col = colours[i]\n",
    "    \n",
    "    # first q\n",
    "    ax1 = plt.subplot(f'32{2*i+1}')\n",
    "    plt.title(\"Initial distribution N(-10, 1)\")\n",
    "    plt.plot(kernel_param_grid, mses1[yaxis_name], col)\n",
    "    plt.axhline(y=mses_adaptive1[yaxis_name])\n",
    "\n",
    "    plt.xscale('log')\n",
    "    plt.yscale('log')\n",
    "    plt.ylabel(yaxis_name)\n",
    "    \n",
    "\n",
    "    # second q\n",
    "    ax2 = plt.subplot(f'32{2*i+2}')\n",
    "    plt.title(\"Initial distribution N(10, 4)\")\n",
    "    plt.plot(kernel_param_grid, mses2[yaxis_name], col)\n",
    "    plt.axhline(y=mses_adaptive2[yaxis_name])\n",
    "    \n",
    "    plt.xscale('log')\n",
    "    plt.yscale('log')\n",
    "    plt.ylabel(yaxis_name)\n",
    "    \n",
    "    \n",
    "    # adapt y-axis range: same ranges for both plots\n",
    "    min1, max1 = ax1.get_ylim()\n",
    "    min2, max2 = ax2.get_ylim()\n",
    "    \n",
    "    ax1.set_ylim(min(min1, min2), max(max1, max2))\n",
    "    ax2.set_ylim(min(min1, min2), max(max1, max2))"
   ]
  },
  {
   "cell_type": "markdown",
   "metadata": {},
   "source": [
    "Figure: Mean squared error (y-axis) vs. kernel parameter values (x-axis). The horizontal lines indicate the MSE obtained when computing the estimate using an adaptive kernel.\n",
    "* Red: MSE when estimating $E[X]$.\n",
    "* Green: MSE when estimating $E[X^2]$.\n",
    "* Blue: MSE when estimating $E[\\cos(\\omega X)]$.\n",
    "\n",
    "Columns:\n",
    "* Left column: results for initial distribution $q_0 \\sim \\mathcal N(-10, 1)$.\n",
    "* Right column: results for initial distribution $q_0 \\sim \\mathcal N(10, 4)$."
   ]
  },
  {
   "cell_type": "markdown",
   "metadata": {},
   "source": [
    "## Search parameters of initial distribution"
   ]
  },
  {
   "cell_type": "code",
   "execution_count": null,
   "metadata": {},
   "outputs": [],
   "source": [
    "default_q = lambda key, n: random.normal(key, shape=(n,1)) - 10\n",
    "def q_param_search(logp, kernel_param, n, stepsize, L, param_grid, m=20, kernel_param_update_rule=None):\n",
    "    \"\"\"\n",
    "    IN:\n",
    "    * logp: callable, computes log(p(x)).\n",
    "    * n: integer, number of particles\n",
    "    * stepsize: float\n",
    "    * L: integer, number of SVGD steps\n",
    "    * param_grid: one-dimensional np array\n",
    "    * m: integer, number of samples for computing MSE\n",
    "    \n",
    "    OUT:\n",
    "    * dictionary consisting of three np arrays of the same length as kernel_param_grid. Entries are MSE values.\n",
    "    \"\"\"\n",
    "    logs = []\n",
    "    mse1s = []\n",
    "    mse2s = []\n",
    "    mse3s = []\n",
    "\n",
    "    for param in param_grid:\n",
    "        q = lambda key, n: random.normal(key, shape=(n,1)) * param[1] + param[0]\n",
    "        mse1, mse2, mse3 = list(get_mse(logp, n, stepsize, L, m, q, kernel_param, kernel_param_update_rule).values())\n",
    "\n",
    "        mse1s.append(mse1)\n",
    "        mse2s.append(mse2)\n",
    "        mse3s.append(mse3)\n",
    "\n",
    "    mses = {\n",
    "        \"E[x]\": mse1s,\n",
    "        \"E[x^2]\": mse2s,\n",
    "        \"E[cos(wx)]\": mse3s\n",
    "    }\n",
    "    \n",
    "    return mses"
   ]
  },
  {
   "cell_type": "code",
   "execution_count": null,
   "metadata": {},
   "outputs": [],
   "source": [
    "n = 100\n",
    "stepsize = 0.01\n",
    "L = int(1 / stepsize)\n",
    "stdev = 1\n",
    "param_grid = [(mean, stdev) for mean in np.arange(-20, 20, 1)]\n",
    "m = 30\n",
    "kernel_param = 5"
   ]
  },
  {
   "cell_type": "code",
   "execution_count": null,
   "metadata": {},
   "outputs": [],
   "source": [
    "from svgd import kernel_param_update_rule\n",
    "\n",
    "mse_dict_fix = q_param_search(logp, kernel_param, n, stepsize, L, param_grid, m)\n",
    "mse_dict_adap = q_param_search(logp, None, n, stepsize, L, param_grid, m, kernel_param_update_rule)\n",
    "\n",
    "param_grid = [param[0] for param in param_grid] # just wanna plot wrt the means"
   ]
  },
  {
   "cell_type": "code",
   "execution_count": null,
   "metadata": {},
   "outputs": [],
   "source": [
    "mpl.rcParams['figure.figsize'] = [12.0, 8.0]\n",
    "plt.subplots_adjust(hspace=0.8, wspace=0.5)\n",
    "colours = ['r', 'b', 'g']\n",
    "\n",
    "for i, yaxis_name in enumerate(['E[x]', 'E[x^2]', 'E[cos(wx)]']):\n",
    "    col = colours[i]\n",
    "    \n",
    "    # fixed kernel\n",
    "    ax1 = plt.subplot(f'32{2*i+1}')\n",
    "    plt.title(f\"Fixed kernel parameter h = {kernel_param}\")\n",
    "    plt.plot(param_grid, mses_dict_fix[yaxis_name], col)\n",
    "    plt.yscale('log')\n",
    "    plt.ylabel(yaxis_name)\n",
    "    \n",
    "    # adaptive kernel\n",
    "    ax2 = plt.subplot(f'32{2*i+2}')\n",
    "    plt.title(f\"Adaptive kernel parameter\")\n",
    "    plt.plot(param_grid, mses_dict_adap[yaxis_name], col)\n",
    "    plt.yscale('log')\n",
    "    plt.ylabel(yaxis_name)\n",
    "    \n",
    "    # adapt y-axis range: same ranges for both plots\n",
    "    min1, max1 = ax1.get_ylim()\n",
    "    min2, max2 = ax2.get_ylim()\n",
    "    \n",
    "    ax1.set_ylim(min(min1, min2), max(max1, max2))\n",
    "    ax2.set_ylim(min(min1, min2), max(max1, max2))"
   ]
  }
 ],
 "metadata": {
  "kernelspec": {
   "display_name": "msc-thesis",
   "language": "python",
   "name": "msc-thesis"
  },
  "language_info": {
   "codemirror_mode": {
    "name": "ipython",
    "version": 3
   },
   "file_extension": ".py",
   "mimetype": "text/x-python",
   "name": "python",
   "nbconvert_exporter": "python",
   "pygments_lexer": "ipython3",
   "version": "3.6.9"
  }
 },
 "nbformat": 4,
 "nbformat_minor": 4
}
