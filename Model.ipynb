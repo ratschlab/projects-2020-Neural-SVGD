{
 "cells": [
  {
   "cell_type": "code",
   "execution_count": 1,
   "metadata": {},
   "outputs": [
    {
     "name": "stderr",
     "output_type": "stream",
     "text": [
      "/home/lauro/.virtualenvs/msc-thesis/lib/python3.6/site-packages/jax/lib/xla_bridge.py:123: UserWarning: No GPU/TPU found, falling back to CPU.\n",
      "  warnings.warn('No GPU/TPU found, falling back to CPU.')\n"
     ]
    }
   ],
   "source": [
    "# %matplotlib qt\n",
    "\n",
    "import jax.numpy as np\n",
    "from jax import grad, jit, vmap\n",
    "from jax import random\n",
    "import matplotlib.pyplot as plt\n",
    "import time\n",
    "\n",
    "import utils\n",
    "import plot\n",
    "import metrics\n",
    "\n",
    "from svgd import SVGD\n",
    "\n",
    "rkey = random.PRNGKey(0)"
   ]
  },
  {
   "cell_type": "markdown",
   "metadata": {},
   "source": [
    "# Experiment 1: one-dim Gaussian mixture"
   ]
  },
  {
   "cell_type": "markdown",
   "metadata": {},
   "source": [
    "## Experiment 1.1: standard normal\n",
    "Target distribution:\n",
    "$$ p(x) = \\mathcal N(x; 0, 1) $$\n",
    "Initialization:\n",
    "$$ q_0(x) = \\mathcal N(x; -10, 1) $$\n",
    "Kernel bandwidth:\n",
    "$$ h = \\text{med}^2 / \\log n, $$\n",
    "where med is the median of the $ n \\choose 2$ pairwise distances between the points $x_1, \\dots, x_n$. Important to note: the bandwidth here changes adaptively across iterations."
   ]
  },
  {
   "cell_type": "code",
   "execution_count": 3,
   "metadata": {},
   "outputs": [],
   "source": [
    "dist11 = metrics.Gaussian(0, 1)\n",
    "\n",
    "n = 800\n",
    "d = 1\n",
    "stepsize = 0.01\n",
    "L = 300\n",
    "svgd_adaptive11 = SVGD(dist11, n_iter_max=L, adaptive_kernel=False, particle_shape=(n, d))"
   ]
  },
  {
   "cell_type": "code",
   "execution_count": null,
   "metadata": {},
   "outputs": [],
   "source": [
    "x0 = svgd_adaptive11.initialize(rkey, n)\n",
    "st = time.time()\n",
    "xout11, log11 = svgd_adaptive11.svgd(x0, stepsize, bandwidth=0, n_iter=L)\n",
    "xout11.block_until_ready()\n",
    "end = time.time()\n",
    "print(\"Done computing in \", end - st, \"seconds\")"
   ]
  },
  {
   "cell_type": "code",
   "execution_count": null,
   "metadata": {},
   "outputs": [],
   "source": [
    "plot.svgd_log(log11)"
   ]
  },
  {
   "cell_type": "markdown",
   "metadata": {},
   "source": [
    "## Experiment 1.2: mixture, median trick\n",
    "Target distribution:\n",
    "$$ p(x) = 1/3 \\mathcal N(-2, 1) + 2/3 \\mathcal N(2, 1) $$\n",
    "Initialization:\n",
    "$$ q_0(x) = \\mathcal N(-10, 1) $$\n",
    "Kernel bandwidth:\n",
    "$$ h = \\text{med}^2 / \\log n, $$\n",
    "where med is the median of the $ n \\choose 2$ pairwise distances between the points $x_1, \\dots, x_n$. Important to note: the bandwidth here changes adaptively across iterations."
   ]
  },
  {
   "cell_type": "code",
   "execution_count": null,
   "metadata": {},
   "outputs": [],
   "source": [
    "dist12 = metrics.GaussianMixture([-2, 2], [1, 1], [1/3, 2/3])\n",
    "rkey = random.split(rkey)[0]"
   ]
  },
  {
   "cell_type": "code",
   "execution_count": null,
   "metadata": {},
   "outputs": [],
   "source": [
    "# experiment:\n",
    "n = 800\n",
    "d = 1\n",
    "stepsize = 0.01\n",
    "L = 500\n",
    "svgd_adaptive12 = SVGD(dist12, n_iter_max=L, adaptive_kernel=True, particle_shape=(n, d), adagrad=False)"
   ]
  },
  {
   "cell_type": "code",
   "execution_count": null,
   "metadata": {},
   "outputs": [],
   "source": [
    "x0 = svgd_adaptive12.initialize(rkey, n)\n",
    "xout12, log12 = svgd_adaptive12.svgd(x0, stepsize, bandwidth=1, n_iter=L)\n",
    "xout12.block_until_ready()\n",
    "print(\"Done.\")"
   ]
  },
  {
   "cell_type": "markdown",
   "metadata": {},
   "source": [
    "## Diagnostics"
   ]
  },
  {
   "cell_type": "code",
   "execution_count": null,
   "metadata": {},
   "outputs": [],
   "source": [
    "plot.svgd_log(log12)"
   ]
  },
  {
   "cell_type": "code",
   "execution_count": null,
   "metadata": {},
   "outputs": [],
   "source": [
    "grid = np.arange(-9, 9, 0.1)\n",
    "\n",
    "_ = plt.plot(grid, vmap(dist12.pdf)(grid))\n",
    "_ = plt.hist(xout12[:, 0], density=True, bins=25)"
   ]
  },
  {
   "cell_type": "markdown",
   "metadata": {},
   "source": [
    "Comparison to true random sample:"
   ]
  },
  {
   "cell_type": "code",
   "execution_count": null,
   "metadata": {},
   "outputs": [],
   "source": [
    "rkey = random.PRNGKey(0)\n",
    "rkeys = random.split(rkey)\n",
    "ntest = n\n",
    "x1 = random.normal(rkeys[0], shape=(ntest // 3, 1)) - 2\n",
    "x2 = random.normal(rkeys[1], shape=(ntest * 2 // 3, 1)) + 2\n",
    "xtest = np.concatenate([x1, x2])\n",
    "\n",
    "_ = plt.plot(grid, vmap(dist12.pdf)(grid))\n",
    "_ = plt.hist(xtest[:, 0], density=True, bins=25)"
   ]
  },
  {
   "cell_type": "markdown",
   "metadata": {},
   "source": [
    "## Experiment 1.3: fixed bandwidth\n",
    "Again one dimension, but this time fix the bandwidth."
   ]
  },
  {
   "cell_type": "code",
   "execution_count": 4,
   "metadata": {},
   "outputs": [],
   "source": [
    "dist13 = metrics.GaussianMixture([-2, 2], [1, 1], [1/3, 2/3])"
   ]
  },
  {
   "cell_type": "code",
   "execution_count": 5,
   "metadata": {},
   "outputs": [],
   "source": [
    "# experiment:\n",
    "n = 400\n",
    "d = 1\n",
    "stepsize = 0.01\n",
    "L = 300\n",
    "\n",
    "rkey = random.PRNGKey(0)\n",
    "\n",
    "svgd_fix13 = SVGD(dist13, n_iter_max=L, particle_shape=(n, d))"
   ]
  },
  {
   "cell_type": "code",
   "execution_count": 6,
   "metadata": {},
   "outputs": [
    {
     "name": "stdout",
     "output_type": "stream",
     "text": [
      "JIT COMPILING svgd...\n",
      "...done compiling svgd after 0.7984814643859863 seconds.\n",
      "Done computing after 3.6892337799072266 seconds.\n"
     ]
    }
   ],
   "source": [
    "h = 1\n",
    "n_iter = L\n",
    "x0 = svgd_fix13.initialize(rkey)\n",
    "st = time.time()\n",
    "xout13, log13 = svgd_fix13.svgd(x0, stepsize, bandwidth=h, n_iter=n_iter)\n",
    "xout13.block_until_ready()\n",
    "end = time.time()\n",
    "print(f\"Done computing after {end - st} seconds.\")"
   ]
  },
  {
   "cell_type": "code",
   "execution_count": 7,
   "metadata": {},
   "outputs": [
    {
     "data": {
      "image/png": "[encoded data removed]",
      "text/plain": [
       "<Figure size 1728x180 with 3 Axes>"
      ]
     },
     "metadata": {
      "needs_background": "light"
     },
     "output_type": "display_data"
    }
   ],
   "source": [
    "plot.svgd_log(log13)"
   ]
  },
  {
   "cell_type": "code",
   "execution_count": 8,
   "metadata": {},
   "outputs": [
    {
     "data": {
      "image/png": "[encoded data removed]",
      "text/plain": [
       "<Figure size 432x288 with 1 Axes>"
      ]
     },
     "metadata": {
      "needs_background": "light"
     },
     "output_type": "display_data"
    }
   ],
   "source": [
    "grid = np.arange(-9, 9, 0.1)\n",
    "\n",
    "_ = plt.plot(grid, vmap(dist13.pdf)(grid))\n",
    "_ = plt.hist(xout13[:, 0], density=True, bins=25)"
   ]
  },
  {
   "cell_type": "code",
   "execution_count": 9,
   "metadata": {},
   "outputs": [
    {
     "data": {
      "image/png": "[encoded data removed]",
      "text/plain": [
       "<Figure size 432x288 with 1 Axes>"
      ]
     },
     "metadata": {
      "needs_background": "light"
     },
     "output_type": "display_data"
    }
   ],
   "source": [
    "rkey = random.PRNGKey(0)\n",
    "rkeys = random.split(rkey)\n",
    "ntest = n\n",
    "x1 = random.normal(rkeys[0], shape=(ntest // 3, 1)) - 2\n",
    "x2 = random.normal(rkeys[1], shape=(ntest * 2 // 3, 1)) + 2\n",
    "xtest = np.concatenate([x1, x2])\n",
    "\n",
    "_ = plt.plot(grid, vmap(dist13.pdf)(grid))\n",
    "_ = plt.hist(xtest[:, 0], density=True, bins=25)"
   ]
  },
  {
   "cell_type": "markdown",
   "metadata": {},
   "source": [
    "# Experiment 2: Multi-dim Gaussian"
   ]
  },
  {
   "cell_type": "markdown",
   "metadata": {},
   "source": [
    "## Experiment 2.1\n",
    "Same as before, only now $X$ is $d$-dimensional.\n",
    "#### Target distribution:\n",
    "$$ p(x) = \\mathcal N(x; \\mu, \\Sigma), \\ \\ \\ \\text { where we take } \\mu = (1, \\dots, 1)^T \\text{ and } \\Sigma = I. $$\n",
    "#### Initialization:\n",
    "$$ q_0(x) = \\mathcal N(x; \\mu_0, \\Sigma_0), \\ \\ \\ \\text{ with } \\mu = (-10, \\dots, -10) \\text{ and } \\Sigma = I. $$\n",
    "\n",
    "#### Kernel:\n",
    "We'll use a natural generalization of the RBF kernel: $k(x, y) = \\exp(-\\frac{1}{2} (x - y)^T \\sigma^{-1} (x - y))$. The easiest way to adaptively choose the kernel is to let $\\Sigma = \\text{diag}(h_1, \\dots, h_d)$ be diagonal, in which case the kernel is given by $k(x, y) = \\exp(-\\frac{1}{2} \\sum_{k=1}^d \\frac{(x_k - y_k)^2}{h_k})$. Then choose the bandwidth parameter\n",
    "$$ h_k = \\text{med}_k^2 / \\log n, $$\n",
    "where med$_k$ is the $k$-th entry in the ($d$-dimensional) median of the $ n \\choose 2$ pairwise distances between the points $x_1, \\dots, x_n$."
   ]
  },
  {
   "cell_type": "code",
   "execution_count": null,
   "metadata": {},
   "outputs": [],
   "source": [
    "mean21 = np.array([0, 0])\n",
    "cov21 = np.array([[1, 0], [0, 1]])\n",
    "# mean21 = np.array([0, 0, 5, -5, 3, -1])\n",
    "# cov21 = np.array([1, 2, 5, 2, 1, 5])\n",
    "dist21 = metrics.Gaussian(mean21, cov21)"
   ]
  },
  {
   "cell_type": "code",
   "execution_count": null,
   "metadata": {},
   "outputs": [],
   "source": [
    "d = 2\n",
    "stepsize = 0.01\n",
    "L = 200\n",
    "\n",
    "svgd_adaptive21 = SVGD(dist21, n_iter_max=L, adaptive_kernel=True, particle_shape=(n, d))"
   ]
  },
  {
   "cell_type": "code",
   "execution_count": null,
   "metadata": {},
   "outputs": [],
   "source": [
    "n = 100\n",
    "x0 = svgd_adaptive21.initialize(rkey, n)\n",
    "\n",
    "xout21, log21 = svgd_adaptive21.svgd(x0, stepsize, bandwidth=0, n_iter=L)\n",
    "xout21.block_until_ready()\n",
    "print()"
   ]
  },
  {
   "cell_type": "markdown",
   "metadata": {},
   "source": [
    "### Diagnostics"
   ]
  },
  {
   "cell_type": "code",
   "execution_count": null,
   "metadata": {},
   "outputs": [],
   "source": [
    "plot.bivariate_hist(xout21)"
   ]
  },
  {
   "cell_type": "code",
   "execution_count": null,
   "metadata": {},
   "outputs": [],
   "source": [
    "plot.svgd_log(log21)"
   ]
  },
  {
   "cell_type": "code",
   "execution_count": null,
   "metadata": {},
   "outputs": [],
   "source": [
    "rkey = random.PRNGKey(0)\n",
    "\n",
    "xtest = random.multivariate_normal(rkey, mean21, cov21, shape=(100,))\n",
    "\n",
    "plot.bivariate_hist(xtest)"
   ]
  },
  {
   "cell_type": "markdown",
   "metadata": {},
   "source": [
    "Comparison histogram:"
   ]
  },
  {
   "cell_type": "markdown",
   "metadata": {},
   "source": [
    "## Experiment 2.2:\n",
    "Multivariate normal target function with non-diagonal covariance."
   ]
  },
  {
   "cell_type": "code",
   "execution_count": null,
   "metadata": {},
   "outputs": [],
   "source": [
    "mean22 = np.array([1,2])\n",
    "cov22 = np.array([[1,1], [1, 2]])\n",
    "\n",
    "dist22 = metrics.Gaussian(mean22, cov22)"
   ]
  },
  {
   "cell_type": "code",
   "execution_count": null,
   "metadata": {},
   "outputs": [],
   "source": [
    "n = 100\n",
    "d = 2\n",
    "stepsize = 0.01\n",
    "L = int(3 / stepsize)\n",
    "\n",
    "svgd_adaptive22 = SVGD(dist22, n_iter_max=L, adaptive_kernel=True, particle_shape=(n, d))"
   ]
  },
  {
   "cell_type": "code",
   "execution_count": null,
   "metadata": {},
   "outputs": [],
   "source": [
    "x0 = svgd_adaptive22.initialize(rkey, n)\n",
    "\n",
    "xout22, log22 = svgd_adaptive22.svgd(x0, stepsize, bandwidth=0, n_iter=L)\n",
    "xout22.block_until_ready()\n",
    "print()"
   ]
  },
  {
   "cell_type": "code",
   "execution_count": null,
   "metadata": {},
   "outputs": [],
   "source": [
    "plot.svgd_log(log22)"
   ]
  },
  {
   "cell_type": "code",
   "execution_count": null,
   "metadata": {},
   "outputs": [],
   "source": [
    "plot.bivariate_hist(xout22)"
   ]
  },
  {
   "cell_type": "markdown",
   "metadata": {},
   "source": [
    "Comparison histogram:"
   ]
  },
  {
   "cell_type": "code",
   "execution_count": null,
   "metadata": {},
   "outputs": [],
   "source": [
    "rkey = random.PRNGKey(0)\n",
    "xtest = random.multivariate_normal(rkey, mean, cov, shape=(10000,))\n",
    "\n",
    "print(\"mean\", np.mean(xtest, axis=0) - mean22)\n",
    "print(\"var\", np.var(xtest, axis=0) - cov22)\n",
    "\n",
    "plot.bivariate_hist(xtest)"
   ]
  },
  {
   "cell_type": "markdown",
   "metadata": {},
   "source": [
    "## Experiment 2.3: fixed bandwidth"
   ]
  },
  {
   "cell_type": "code",
   "execution_count": null,
   "metadata": {},
   "outputs": [],
   "source": [
    "mean = np.array([1, 2])\n",
    "cov = np.array([[1,1], [1, 2]])\n",
    "dist23 = metrics.Gaussian(mean, cov)"
   ]
  },
  {
   "cell_type": "code",
   "execution_count": null,
   "metadata": {},
   "outputs": [],
   "source": [
    "n = 100\n",
    "d = 2\n",
    "stepsize = 0.01\n",
    "L = int(3 / stepsize)\n",
    "\n",
    "svgd_fix23 = SVGD(dist23, n_iter_max=L, particle_shape=(n, d))"
   ]
  },
  {
   "cell_type": "code",
   "execution_count": null,
   "metadata": {},
   "outputs": [],
   "source": [
    "h = 1\n",
    "x0 = svgd_fix23.initialize(rkey, n)\n",
    "\n",
    "xout23, log23 = svgd_fix23.svgd(x0, stepsize, bandwidth=h, n_iter=L)\n",
    "xout23.block_until_ready()\n",
    "print()"
   ]
  },
  {
   "cell_type": "code",
   "execution_count": null,
   "metadata": {},
   "outputs": [],
   "source": [
    "plot.svgd_log(log23)"
   ]
  },
  {
   "cell_type": "code",
   "execution_count": null,
   "metadata": {},
   "outputs": [],
   "source": [
    "plot.bivariate_hist(xout23)"
   ]
  },
  {
   "cell_type": "markdown",
   "metadata": {},
   "source": [
    "Comparison histogram:"
   ]
  },
  {
   "cell_type": "code",
   "execution_count": null,
   "metadata": {},
   "outputs": [],
   "source": [
    "rkey = random.PRNGKey(0)\n",
    "xtest = random.multivariate_normal(rkey, mean, cov, shape=(100,))\n",
    "\n",
    "plot.bivariate_hist(xtest)"
   ]
  },
  {
   "cell_type": "markdown",
   "metadata": {},
   "source": [
    "## Experiment 2.4"
   ]
  },
  {
   "cell_type": "code",
   "execution_count": null,
   "metadata": {},
   "outputs": [],
   "source": [
    "means = np.array([[0, 0], [-6, 18], [8, 10]])\n",
    "covs = np.array([[2,2], [1, 1], [4, 4]])\n",
    "weights = [1, 1, 1]\n",
    "dist24 = metrics.GaussianMixture(means, covs, weights)\n",
    "rkey = random.PRNGKey(0)"
   ]
  },
  {
   "cell_type": "code",
   "execution_count": null,
   "metadata": {},
   "outputs": [],
   "source": [
    "s = dist24.sample(shape=(10**2,))\n",
    "\n",
    "plot.bivariate_hist(s)"
   ]
  },
  {
   "cell_type": "code",
   "execution_count": null,
   "metadata": {},
   "outputs": [],
   "source": [
    "n = 100\n",
    "d = 2\n",
    "stepsize = 0.01\n",
    "L = int(10 / stepsize)\n",
    "h = 1\n",
    "\n",
    "svgd_fix24 = SVGD(dist24, n_iter_max=L, particle_shape=(n, d), adaptive_kernel=True, adagrad=True)"
   ]
  },
  {
   "cell_type": "code",
   "execution_count": null,
   "metadata": {},
   "outputs": [],
   "source": [
    "h = 1\n",
    "rkey = random.split(rkey)[0]\n",
    "x0 = random.normal(rkey, shape=(n, d)) * 5 + np.array([dist24.mean])\n",
    "\n",
    "xout24, log24 = svgd_fix24.svgd(x0, stepsize, bandwidth=h, n_iter=L)\n",
    "xout24.block_until_ready()\n",
    "print()"
   ]
  },
  {
   "cell_type": "code",
   "execution_count": null,
   "metadata": {},
   "outputs": [],
   "source": [
    "plt.figure(1)\n",
    "plot.bivariate_hist(xout24)"
   ]
  },
  {
   "cell_type": "code",
   "execution_count": null,
   "metadata": {},
   "outputs": [],
   "source": [
    "plt.figure(2)\n",
    "ax = plot.plot_pdf(dist24.pdf, (-10, 23))"
   ]
  },
  {
   "cell_type": "markdown",
   "metadata": {},
   "source": [
    "# Experiment 3: Bayesian logistic regression"
   ]
  },
  {
   "cell_type": "code",
   "execution_count": null,
   "metadata": {},
   "outputs": [],
   "source": [
    "# number of samples\n",
    "n = 500"
   ]
  },
  {
   "cell_type": "markdown",
   "metadata": {},
   "source": [
    "First, $\\alpha \\sim \\text{Gamma}(a, b)$."
   ]
  },
  {
   "cell_type": "code",
   "execution_count": null,
   "metadata": {},
   "outputs": [],
   "source": [
    "from jax.scipy.stats import gamma\n",
    "\n",
    "# Generate regression parameters\n",
    "a = 2 # shape\n",
    "# b = 1 # rate parameter (1 / scale)\n",
    "\n",
    "key = random.PRNGKey(0)\n",
    "gamma_samples = random.gamma(key, a, shape=(1000,))\n",
    "\n",
    "count, bins, ignored = plt.hist(gamma_samples, bins = 100, density=True)\n",
    "y = gamma.pdf(bins, a)\n",
    "_ = plt.plot(bins, y, 'r')"
   ]
  },
  {
   "cell_type": "code",
   "execution_count": null,
   "metadata": {},
   "outputs": [],
   "source": [
    "_ = plt.plot(bins, 1 / y)"
   ]
  },
  {
   "cell_type": "code",
   "execution_count": null,
   "metadata": {},
   "outputs": [],
   "source": [
    "key = random.PRNGKey(0)\n",
    "alpha = random.gamma(key, a, shape=(1,))"
   ]
  },
  {
   "cell_type": "code",
   "execution_count": null,
   "metadata": {},
   "outputs": [],
   "source": [
    "print(alpha)"
   ]
  },
  {
   "cell_type": "markdown",
   "metadata": {},
   "source": [
    "Now, $p(\\beta \\ \\vert \\alpha) = \\mathcal N (\\beta;\\ 0, \\alpha^{-1})$."
   ]
  },
  {
   "cell_type": "code",
   "execution_count": null,
   "metadata": {},
   "outputs": [],
   "source": [
    "beta = random.normal(key, shape=(2,)) * 1 / np.sqrt(alpha)"
   ]
  },
  {
   "cell_type": "markdown",
   "metadata": {},
   "source": [
    "Finally, $\\log \\frac{\\pi_i}{1 - \\pi_i} = \\beta_0 + \\beta_1 X_i$. In other words,\n",
    "$$ \\pi_i = \\frac{\\text{exp}(\\beta_0 + \\beta_1 X_i)}{1 - \\text{exp}(\\beta_0 + \\beta_1 X_i)}.$$"
   ]
  },
  {
   "cell_type": "code",
   "execution_count": null,
   "metadata": {},
   "outputs": [],
   "source": [
    "x = np.linspace(start=-10, stop=10, num=n)\n",
    "pi = np.exp(beta[0] + beta[1] * x / (1 - np.exp(beta[0] + beta[1] * x)))"
   ]
  },
  {
   "cell_type": "markdown",
   "metadata": {},
   "source": [
    "We can now sample the $Y_i$, which are distributed as\n",
    "$$Y_i \\ \\vert X_i \\sim \\text{Bernoulli}(\\pi_i).$$"
   ]
  },
  {
   "cell_type": "code",
   "execution_count": null,
   "metadata": {},
   "outputs": [],
   "source": [
    "y = random.bernoulli(key, p=pi, shape=(n,))"
   ]
  },
  {
   "cell_type": "markdown",
   "metadata": {},
   "source": [
    "### Bayesian inference\n",
    "We now have a set of observations $\\{(y_i, x_i)\\}_{i=1, \\dots, n}$, (that is, `x` and `y`) and a prior $p(\\beta_0, \\beta_1)$ over the logistic regression parameters.\n",
    "\n",
    "The prior is given as follows. Choose $\\beta_0, \\beta_1$ to be independently identically distributed as \n",
    "$$p(\\beta) = p(\\beta \\vert \\alpha) \\ p(\\alpha),$$\n",
    "where \n",
    "\\begin{align}   \n",
    "    p(\\beta \\vert \\alpha) &= \\mathcal N(\\beta; 0, \\alpha^{-1}) \\\\\n",
    "    p(\\alpha) &= \\text{Gamma}(\\alpha; a, b),\n",
    "\\end{align}\n",
    "and $a, b$ are fixed parameters.\n",
    "\n",
    "\n",
    "\n",
    "Then the posterior is given by\n",
    "\\begin{equation}\n",
    "    p(\\beta_0, \\beta_1 \\vert x, y) \\propto p(y \\vert x; \\beta_0, \\beta_1) p(\\beta_0, \\beta_1).\n",
    "\\end{equation}\n",
    "\n",
    "This posterior is the target distribution for SVGD."
   ]
  },
  {
   "cell_type": "code",
   "execution_count": null,
   "metadata": {},
   "outputs": [],
   "source": [
    "from jax.scipy.stats import norm, gamma"
   ]
  },
  {
   "cell_type": "code",
   "execution_count": null,
   "metadata": {},
   "outputs": [],
   "source": [
    "def p(beta, alpha, x, y, a, b):\n",
    "    \"\"\"\n",
    "    IN:\n",
    "    * beta: np array w/ shape (2,), regression parameters\n",
    "    * alpha: scalar > 0, precision parameter for beta prior\n",
    "    * x: np array of shape (n,)\n",
    "    * y: np array of shape (n,) and type bool (bernoulli sample)\n",
    "    * a, b: scalars > 0, parameters for gamma prior on alpha\n",
    "    \n",
    "    OUT:\n",
    "    * scalar, unnormalized posterior pdf evaluated at beta and alpha: p(beta, alpha | x, y, a, b)\n",
    "    \"\"\"\n",
    "    assert beta.shape[0] == 2\n",
    "    pi = np.exp(beta[0] + beta[1] * x) / (1 - np.exp(beta[0] + beta[1] * x))\n",
    "    \n",
    "    p1 = pi * y + (1 - pi) * (1 - y)\n",
    "    p1 = np.prod(p1) # likelihood of all x's\n",
    "    p2 = np.prod(norm.pdf(beta, loc=0, scale=1/alpha))\n",
    "    p3 = gamma.pdf(alpha, a)\n",
    "    \n",
    "    return p1 * p2 * p3"
   ]
  },
  {
   "cell_type": "code",
   "execution_count": null,
   "metadata": {},
   "outputs": [],
   "source": [
    "pb = vmap(p, in_axes=(0, None, None, None, None, None))\n",
    "pbb = vmap(pb, in_axes=(0, None, None, None, None, None))"
   ]
  },
  {
   "cell_type": "code",
   "execution_count": null,
   "metadata": {},
   "outputs": [],
   "source": [
    "def logp(beta, alpha, x, y, a, b):\n",
    "    \"\"\"\n",
    "    IN:\n",
    "    * beta: np array w/ shape (2,), regression parameters\n",
    "    * alpha: scalar > 0, precision parameter for beta prior\n",
    "    * x: np array of shape (n,)\n",
    "    * y: np array of shape (n,) and type bool (bernoulli sample)\n",
    "    * a, b: scalars > 0, parameters for gamma prior on alpha\n",
    "    \n",
    "    OUT:\n",
    "    * scalar, unnormalized posterior pdf evaluated at beta and alpha: p(beta, alpha | x, y, a, b)\n",
    "    \"\"\"\n",
    "    assert beta.shape[0] == 2\n",
    "    \n",
    "    log_pi = beta[0] + beta[1] * x - np.log(1 + np.exp(beta[0] + beta[1] * x)) # array of length n\n",
    "    one_minus_log_pi = np.log(1 + np.exp(beta[0] + beta[1] * x)) # array of length n\n",
    "    \n",
    "    log_p1 = y * log_pi + (1 - y) * one_minus_log_pi # array of length n\n",
    "    log_p1 = np.sum(log_p1) # scalar\n",
    "    \n",
    "    log_p2 = np.sum(norm.logpdf(beta, loc=0, scale=1/alpha))\n",
    "    log_p3 = gamma.logpdf(alpha, a)\n",
    "    \n",
    "    return log_p1 + log_p2 + log_p3"
   ]
  },
  {
   "cell_type": "code",
   "execution_count": null,
   "metadata": {},
   "outputs": [],
   "source": [
    "logpb = vmap(logp, in_axes=(0, None, None, None, None, None))\n",
    "logpbb = vmap(logpb, in_axes=(0, None, None, None, None, None))"
   ]
  },
  {
   "cell_type": "markdown",
   "metadata": {},
   "source": [
    "### quick 3d plot of beta"
   ]
  },
  {
   "cell_type": "code",
   "execution_count": null,
   "metadata": {},
   "outputs": [],
   "source": [
    "from matplotlib import cm\n",
    "from matplotlib.ticker import LinearLocator, FormatStrFormatter"
   ]
  },
  {
   "cell_type": "code",
   "execution_count": null,
   "metadata": {},
   "outputs": [],
   "source": [
    "# make data\n",
    "num = 60\n",
    "X = np.linspace(-7, 7, num)\n",
    "Y = np.linspace(-7, 7, num)\n",
    "X, Y = np.meshgrid(X, Y) # both shape (40, 40)\n",
    "bet = np.array(list(zip(X, Y))).reshape(num, num, 2)\n",
    "\n",
    "b = np.array(1)\n",
    "print(logpbb(bet, alpha, x, y, a, b).shape)\n",
    "\n",
    "Z = logpbb(bet, alpha, x, y, a, b)\n",
    "Z = np.squeeze(Z)"
   ]
  },
  {
   "cell_type": "code",
   "execution_count": null,
   "metadata": {},
   "outputs": [],
   "source": [
    "1 / alpha"
   ]
  },
  {
   "cell_type": "code",
   "execution_count": null,
   "metadata": {},
   "outputs": [],
   "source": [
    "# plot\n",
    "fig = plt.figure()\n",
    "ax = fig.gca(projection='3d')\n",
    "plt.xlabel(\"beta_0\")\n",
    "plt.ylabel(\"beta_1\")\n",
    "ax.set_zlabel(\"p(beta_0, beta_1, alpha)\")\n",
    "\n",
    "surf = ax.plot_surface(X, Y, Z, cmap=cm.coolwarm, linewidth=0, antialiased=False)"
   ]
  }
 ],
 "metadata": {
  "kernelspec": {
   "display_name": "msc-thesis",
   "language": "python",
   "name": "msc-thesis"
  },
  "language_info": {
   "codemirror_mode": {
    "name": "ipython",
    "version": 3
   },
   "file_extension": ".py",
   "mimetype": "text/x-python",
   "name": "python",
   "nbconvert_exporter": "python",
   "pygments_lexer": "ipython3",
   "version": "3.6.9"
  }
 },
 "nbformat": 4,
 "nbformat_minor": 4
}
