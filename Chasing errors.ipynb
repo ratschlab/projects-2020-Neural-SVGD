{
 "cells": [
  {
   "cell_type": "code",
   "execution_count": 12,
   "metadata": {},
   "outputs": [],
   "source": [
    "import jax.numpy as np\n",
    "from jax import grad, jit, vmap\n",
    "from jax import random\n",
    "import matplotlib.pyplot as plt\n",
    "\n",
    "from svgd import svgd, update, phi_j_batched, phi_j, kernel_param_update_rule\n",
    "from utils import ard"
   ]
  },
  {
   "cell_type": "markdown",
   "metadata": {},
   "source": [
    "# multidim SVGD concentrates around max a posteriori"
   ]
  },
  {
   "cell_type": "markdown",
   "metadata": {},
   "source": [
    "## test ard"
   ]
  },
  {
   "cell_type": "code",
   "execution_count": 18,
   "metadata": {},
   "outputs": [],
   "source": [
    "n = 10\n",
    "d = 2\n",
    "\n",
    "# generate data\n",
    "key = random.PRNGKey(3)\n",
    "x = random.normal(key, (n,d)) - 10"
   ]
  },
  {
   "cell_type": "code",
   "execution_count": 19,
   "metadata": {},
   "outputs": [
    {
     "data": {
      "text/plain": [
       "(10, 2)"
      ]
     },
     "execution_count": 19,
     "metadata": {},
     "output_type": "execute_result"
    }
   ],
   "source": [
    "x.shape"
   ]
  },
  {
   "cell_type": "code",
   "execution_count": 22,
   "metadata": {},
   "outputs": [
    {
     "data": {
      "text/plain": [
       "DeviceArray(1., dtype=float32)"
      ]
     },
     "execution_count": 22,
     "metadata": {},
     "output_type": "execute_result"
    }
   ],
   "source": [
    "ard(x[0], x[0], 1)"
   ]
  },
  {
   "cell_type": "code",
   "execution_count": null,
   "metadata": {},
   "outputs": [],
   "source": []
  },
  {
   "cell_type": "markdown",
   "metadata": {},
   "source": [
    "## here's the problem:"
   ]
  },
  {
   "cell_type": "code",
   "execution_count": 23,
   "metadata": {},
   "outputs": [],
   "source": [
    "from jax.scipy.stats import norm\n",
    "from svgd import kernel_param_update_rule\n",
    "\n",
    "@jit\n",
    "def logp(x):\n",
    "    \"\"\"\n",
    "    Parameters: \n",
    "    * x: np array of shape (d,)\n",
    "    \n",
    "    Returns: \n",
    "    * scalar log(p(x)), where p(x) is multidim gaussian\n",
    "    \"\"\"\n",
    "    assert x.ndim == 1\n",
    "    return np.sum(norm.logpdf(x, loc=0, scale=1))"
   ]
  },
  {
   "cell_type": "code",
   "execution_count": 36,
   "metadata": {},
   "outputs": [],
   "source": [
    "n = 10\n",
    "d = 2\n",
    "stepsize = 0.01\n",
    "L = int(10 / stepsize)\n",
    "\n",
    "# generate data\n",
    "key = random.PRNGKey(0)\n",
    "x0 = random.normal(key, (n,d)) - 10\n",
    "\n",
    "x=x0\n",
    "# kernel_param=kernel_param_update_rule(x)\n",
    "kernel_param=2\n",
    "kernel_param_update_rule = None"
   ]
  },
  {
   "cell_type": "code",
   "execution_count": 37,
   "metadata": {},
   "outputs": [],
   "source": [
    "log = {\n",
    "    \"kernel_params\": [],\n",
    "    \"particle_mean\": [np.mean(x, axis=0)],\n",
    "    \"particle_var\": [np.var(x, axis=0)]\n",
    "}\n",
    "\n",
    "for i in range(L):\n",
    "    x = update(x, logp, stepsize, kernel_param)\n",
    "    \n",
    "    # update\n",
    "    kernel = lambda x, y: ard(x, y, kernel_param)\n",
    "\n",
    "    xnew = []\n",
    "    n = x.shape[0]\n",
    "    for i, xi in enumerate(x):\n",
    "        repeated = np.tile(xi, (n, 1))\n",
    "        xnew.append(stepsize * np.sum(phi_j_batched(x, repeated, logp, kernel), axis = 0))\n",
    "    xnew = np.array(xnew)\n",
    "    xnew += x\n",
    "    #####\n",
    "    x = xnew\n",
    "    \n",
    "    log[\"particle_mean\"].append(np.mean(x, axis=0))\n",
    "    log[\"particle_var\"].append(np.var(x, axis=0))"
   ]
  },
  {
   "cell_type": "code",
   "execution_count": 38,
   "metadata": {},
   "outputs": [
    {
     "name": "stdout",
     "output_type": "stream",
     "text": [
      "vars:\n",
      "x:  [0.93684864 0.90393126]\n",
      "x0: [1.5073496 1.1993192]\n",
      "\n",
      "means:\n",
      "x:  [-0.00160565  0.00146102]\n",
      "x0: [0.3955822  0.07276726]\n"
     ]
    }
   ],
   "source": [
    "xout=x\n",
    "\n",
    "log[\"particle_mean\"] = np.array(log[\"particle_mean\"])\n",
    "log[\"particle_var\"] = np.array(log[\"particle_var\"])\n",
    "log[\"kernel_params\"] = np.array(log[\"kernel_params\"])\n",
    "\n",
    "print(\"vars:\")\n",
    "print('x: ', np.var(xout, axis=0))\n",
    "print('x0:', np.var(x0, axis=0))\n",
    "print()\n",
    "print(\"means:\")\n",
    "print('x: ', np.mean(xout, axis=0))\n",
    "print('x0:', np.mean(x0, axis=0) + 10)"
   ]
  },
  {
   "cell_type": "code",
   "execution_count": 33,
   "metadata": {},
   "outputs": [
    {
     "data": {
      "image/png": "[encoded data removed]",
      "text/plain": [
       "<Figure size 432x288 with 1 Axes>"
      ]
     },
     "metadata": {
      "needs_background": "light"
     },
     "output_type": "display_data"
    }
   ],
   "source": [
    "_ = plt.plot(log[\"particle_var\"])"
   ]
  },
  {
   "cell_type": "code",
   "execution_count": 35,
   "metadata": {},
   "outputs": [
    {
     "data": {
      "image/png": "[encoded data removed]",
      "text/plain": [
       "<Figure size 432x288 with 1 Axes>"
      ]
     },
     "metadata": {
      "needs_background": "light"
     },
     "output_type": "display_data"
    }
   ],
   "source": [
    "_ = plt.plot(log[\"particle_mean\"])"
   ]
  },
  {
   "cell_type": "code",
   "execution_count": 34,
   "metadata": {},
   "outputs": [
    {
     "data": {
      "image/png": "[encoded data removed]",
      "text/plain": [
       "<Figure size 432x288 with 1 Axes>"
      ]
     },
     "metadata": {
      "needs_background": "light"
     },
     "output_type": "display_data"
    }
   ],
   "source": [
    "_ = plt.plot(log[\"kernel_params\"])"
   ]
  },
  {
   "cell_type": "markdown",
   "metadata": {},
   "source": [
    "## generate data"
   ]
  },
  {
   "cell_type": "code",
   "execution_count": null,
   "metadata": {},
   "outputs": [],
   "source": [
    "n = 100\n",
    "d = 2\n",
    "key = random.PRNGKey(0)\n",
    "x0 = random.normal(key, shape=(n, d)) - 10\n",
    "\n",
    "stepsize = 0.001\n",
    "L = int(1 / stepsize)"
   ]
  },
  {
   "cell_type": "code",
   "execution_count": null,
   "metadata": {},
   "outputs": [],
   "source": [
    "from jax.scipy.stats import norm\n",
    "\n",
    "@jit\n",
    "def logp(x):\n",
    "    \"\"\"\n",
    "    Parameters: \n",
    "    * x: np array of shape (d,)\n",
    "    \n",
    "    Returns: \n",
    "    * scalar log(p(x)), where p(x) is multidim gaussian\n",
    "    \"\"\"\n",
    "    assert x.ndim == 1\n",
    "    out = np.sum(norm.logpdf(x, loc=0, scale=1))\n",
    "    return np.squeeze(out) # to be able to take a gradient, output must be scalar"
   ]
  },
  {
   "cell_type": "code",
   "execution_count": null,
   "metadata": {},
   "outputs": [],
   "source": [
    "xout, log = svgd(x0, logp, stepsize, L, kernel_param=None, kernel_param_update_rule=vkernel_param_update_rule)\n",
    "if \"errors\" in log.keys():\n",
    "    print(log[\"errors\"])"
   ]
  },
  {
   "cell_type": "code",
   "execution_count": null,
   "metadata": {},
   "outputs": [],
   "source": [
    "np.var(xout, axis=0)"
   ]
  },
  {
   "cell_type": "code",
   "execution_count": null,
   "metadata": {},
   "outputs": [],
   "source": [
    "np.mean(xout, axis=0)"
   ]
  },
  {
   "cell_type": "code",
   "execution_count": null,
   "metadata": {},
   "outputs": [],
   "source": [
    "len(log[\"particle_mean\"])"
   ]
  },
  {
   "cell_type": "code",
   "execution_count": null,
   "metadata": {},
   "outputs": [],
   "source": [
    "plt.plot(log[\"particle_mean\"])"
   ]
  },
  {
   "cell_type": "markdown",
   "metadata": {},
   "source": [
    "# testing\n",
    "where does the NaN come from?"
   ]
  },
  {
   "cell_type": "code",
   "execution_count": null,
   "metadata": {},
   "outputs": [],
   "source": [
    "from utils import ard"
   ]
  },
  {
   "cell_type": "code",
   "execution_count": null,
   "metadata": {},
   "outputs": [],
   "source": [
    "x0.shape"
   ]
  },
  {
   "cell_type": "code",
   "execution_count": null,
   "metadata": {},
   "outputs": [],
   "source": [
    "# x = x0[:, 0]\n",
    "# x = np.reshape(x, newshape=(n, 1))\n",
    "x = x0\n",
    "print(x.shape)\n",
    "kernel_param = kernel_param_update_rule(x)"
   ]
  },
  {
   "cell_type": "code",
   "execution_count": null,
   "metadata": {},
   "outputs": [],
   "source": [
    "xj = x[0]\n",
    "xi = x[1]"
   ]
  },
  {
   "cell_type": "code",
   "execution_count": null,
   "metadata": {},
   "outputs": [],
   "source": [
    "xj"
   ]
  },
  {
   "cell_type": "code",
   "execution_count": null,
   "metadata": {},
   "outputs": [],
   "source": [
    "norm.logpdf(xj, loc=0, scale=1)"
   ]
  },
  {
   "cell_type": "code",
   "execution_count": null,
   "metadata": {},
   "outputs": [],
   "source": [
    "logp(xj)"
   ]
  },
  {
   "cell_type": "code",
   "execution_count": null,
   "metadata": {},
   "outputs": [],
   "source": [
    "grad(logp)(xj)"
   ]
  },
  {
   "cell_type": "code",
   "execution_count": null,
   "metadata": {},
   "outputs": [],
   "source": [
    "kernel(xj, xi)"
   ]
  },
  {
   "cell_type": "code",
   "execution_count": null,
   "metadata": {},
   "outputs": [],
   "source": [
    "grad(kernel)(xj, xi)"
   ]
  },
  {
   "cell_type": "code",
   "execution_count": null,
   "metadata": {},
   "outputs": [],
   "source": []
  },
  {
   "cell_type": "code",
   "execution_count": null,
   "metadata": {},
   "outputs": [],
   "source": []
  },
  {
   "cell_type": "code",
   "execution_count": null,
   "metadata": {},
   "outputs": [],
   "source": [
    "kernel_params = []"
   ]
  },
  {
   "cell_type": "code",
   "execution_count": null,
   "metadata": {},
   "outputs": [],
   "source": [
    "# update kernel:\n",
    "kernel_param = vkernel_param_update_rule(x)\n",
    "kernel_params.append(kernel_param)\n",
    "kernel = lambda x, y: ard(x, y, kernel_param)\n",
    "\n",
    "# update x:\n",
    "xnew = []\n",
    "n = x.shape[0]\n",
    "for i, xi in enumerate(x):\n",
    "    repeated = np.tile(xi, (n, 1))\n",
    "    xnew.append(stepsize * np.sum(phi_j_batched(x, repeated, logp, kernel), axis = 0))\n",
    "xnew = np.array(xnew)\n",
    "xnew += x\n",
    "x = xnew\n",
    "\n",
    "np.mean(x, axis=0)"
   ]
  },
  {
   "cell_type": "code",
   "execution_count": null,
   "metadata": {},
   "outputs": [],
   "source": []
  }
 ],
 "metadata": {
  "kernelspec": {
   "display_name": "msc-thesis",
   "language": "python",
   "name": "msc-thesis"
  },
  "language_info": {
   "codemirror_mode": {
    "name": "ipython",
    "version": 3
   },
   "file_extension": ".py",
   "mimetype": "text/x-python",
   "name": "python",
   "nbconvert_exporter": "python",
   "pygments_lexer": "ipython3",
   "version": "3.6.9"
  }
 },
 "nbformat": 4,
 "nbformat_minor": 4
}
