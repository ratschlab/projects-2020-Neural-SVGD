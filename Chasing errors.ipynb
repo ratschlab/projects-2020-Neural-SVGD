{
 "cells": [
  {
   "cell_type": "code",
   "execution_count": 1,
   "metadata": {},
   "outputs": [],
   "source": [
    "import jax.numpy as np\n",
    "from jax import grad, jit, vmap\n",
    "from jax import random\n",
    "from jax import lax\n",
    "import matplotlib.pyplot as plt\n",
    "\n",
    "from svgd import SVGD\n",
    "from utils import ard\n",
    "from jax.ops import index, index_add, index_update\n"
   ]
  },
  {
   "cell_type": "markdown",
   "metadata": {},
   "source": [
    "# What's the issue with `get_bandwidth` in multiple dimensions?"
   ]
  },
  {
   "cell_type": "code",
   "execution_count": 127,
   "metadata": {},
   "outputs": [],
   "source": [
    "def get_bandwidth(x):\n",
    "    \"\"\"\n",
    "    IN: np array of shape (n,) or (n,d): set of particles\n",
    "    OUT: scalar: Updated bandwidth parameter for RBF kernel, based on update rule from the SVGD paper.\n",
    "    \"\"\"\n",
    "    if x.ndim == 2:\n",
    "        return vmap(get_bandwidth, 1)(x)\n",
    "    elif x.ndim == 1:\n",
    "        n = x.shape[0]\n",
    "        h = np.median(squared_distance_matrix(x)) / np.log(n)\n",
    "        return h\n",
    "    else:\n",
    "        raise ValueError(\"Shape of x has to be either (n,) or (n, d)\")"
   ]
  },
  {
   "cell_type": "code",
   "execution_count": 128,
   "metadata": {},
   "outputs": [],
   "source": [
    "from utils import ard"
   ]
  },
  {
   "cell_type": "code",
   "execution_count": 141,
   "metadata": {},
   "outputs": [
    {
     "data": {
      "text/plain": [
       "DeviceArray(0.8824969, dtype=float32)"
      ]
     },
     "execution_count": 141,
     "metadata": {},
     "output_type": "execute_result"
    }
   ],
   "source": [
    "x = np.array([0])\n",
    "y = np.array([1])\n",
    "h = np.array([2])\n",
    "ard(x, y, h)"
   ]
  },
  {
   "cell_type": "code",
   "execution_count": 142,
   "metadata": {},
   "outputs": [
    {
     "data": {
      "text/plain": [
       "[<matplotlib.lines.Line2D at 0x7ff076e78b70>]"
      ]
     },
     "execution_count": 142,
     "metadata": {},
     "output_type": "execute_result"
    },
    {
     "data": {
      "image/png": "[encoded data removed]",
      "text/plain": [
       "<Figure size 576x345.6 with 1 Axes>"
      ]
     },
     "metadata": {
      "needs_background": "light"
     },
     "output_type": "display_data"
    }
   ],
   "source": [
    "plt.plot([ard(x, np.array([y]), h) for y in np.linspace(-10, 10, 100)])"
   ]
  },
  {
   "cell_type": "markdown",
   "metadata": {},
   "source": [
    "# Issue with multidim Gaussians"
   ]
  },
  {
   "cell_type": "markdown",
   "metadata": {},
   "source": [
    "Define multivariate standard gaussian target function:"
   ]
  },
  {
   "cell_type": "code",
   "execution_count": 2,
   "metadata": {},
   "outputs": [],
   "source": [
    "from jax.scipy.stats import norm\n",
    "\n",
    "@jit\n",
    "def logp(x):\n",
    "    \"\"\"\n",
    "    Parameters: \n",
    "    * x: np array of shape (d,)\n",
    "    \n",
    "    Returns: \n",
    "    * scalar log(p(x)), where p(x) is multidim gaussian\n",
    "    \"\"\"\n",
    "    assert x.ndim == 1\n",
    "    return np.sum(norm.logpdf(x, loc=0, scale=1))"
   ]
  },
  {
   "cell_type": "code",
   "execution_count": 4,
   "metadata": {},
   "outputs": [
    {
     "name": "stderr",
     "output_type": "stream",
     "text": [
      "/home/lauro/.virtualenvs/msc-thesis/lib/python3.6/site-packages/jax/lib/xla_bridge.py:123: UserWarning: No GPU/TPU found, falling back to CPU.\n",
      "  warnings.warn('No GPU/TPU found, falling back to CPU.')\n"
     ]
    }
   ],
   "source": [
    "param_dict_error = {\n",
    "    \"n\": 10,\n",
    "    \"d\": 2,\n",
    "    \"stepsize\": 0.01, # still fails when scaling stepsize and L by 10 or 100\n",
    "    \"L\": 1000\n",
    "}\n",
    "\n",
    "n = 100\n",
    "d = 2\n",
    "\n",
    "\n",
    "stepsize = 0.01\n",
    "L = 1000\n",
    "from svgd import get_bandwidth\n",
    "\n",
    "# generate data\n",
    "key = random.PRNGKey(0)\n",
    "x0 = random.normal(key, (n,d)) - 10"
   ]
  },
  {
   "cell_type": "code",
   "execution_count": 5,
   "metadata": {},
   "outputs": [],
   "source": [
    "assert stepsize * L == 10"
   ]
  },
  {
   "cell_type": "markdown",
   "metadata": {},
   "source": [
    "## Variable bandwidth"
   ]
  },
  {
   "cell_type": "code",
   "execution_count": 6,
   "metadata": {},
   "outputs": [],
   "source": [
    "svgd_adaptive = SVGD(logp=logp, n_iter=L, adaptive_kernel=True, get_bandwidth=get_bandwidth)"
   ]
  },
  {
   "cell_type": "code",
   "execution_count": 7,
   "metadata": {},
   "outputs": [],
   "source": [
    "xout, log = svgd_adaptive.svgd(x0, stepsize, bandwidth=0)"
   ]
  },
  {
   "cell_type": "markdown",
   "metadata": {},
   "source": [
    "### plotting and MSEs"
   ]
  },
  {
   "cell_type": "code",
   "execution_count": 8,
   "metadata": {},
   "outputs": [
    {
     "data": {
      "text/plain": [
       "DeviceArray(0.7797031, dtype=float32)"
      ]
     },
     "execution_count": 8,
     "metadata": {},
     "output_type": "execute_result"
    }
   ],
   "source": [
    "dim = 0\n",
    "np.var(xout[:, dim])"
   ]
  },
  {
   "cell_type": "code",
   "execution_count": 9,
   "metadata": {},
   "outputs": [
    {
     "name": "stdout",
     "output_type": "stream",
     "text": [
      "Compilation params:\n",
      "n_iter = 1000\n",
      "\n",
      "Flexible params:\n",
      "n = 100\n",
      "d = 2\n",
      "stepsize=0.01\n",
      "---------------------\n"
     ]
    },
    {
     "data": {
      "image/png": "[encoded data removed]",
      "text/plain": [
       "<Figure size 576x576 with 3 Axes>"
      ]
     },
     "metadata": {
      "needs_background": "light"
     },
     "output_type": "display_data"
    },
    {
     "data": {
      "image/png": "[encoded data removed]",
      "text/plain": [
       "<Figure size 576x345.6 with 1 Axes>"
      ]
     },
     "metadata": {
      "needs_background": "light"
     },
     "output_type": "display_data"
    },
    {
     "data": {
      "image/png": "[encoded data removed]",
      "text/plain": [
       "<Figure size 576x345.6 with 1 Axes>"
      ]
     },
     "metadata": {
      "needs_background": "light"
     },
     "output_type": "display_data"
    }
   ],
   "source": [
    "print(\"Compilation params:\")\n",
    "print(f\"n_iter = {svgd_adaptive.n_iter}\\n\")\n",
    "print(\"Flexible params:\")\n",
    "print(f\"n = {n}\\nd = {d}\\nstepsize={stepsize}\")\n",
    "print(\"---------------------\")\n",
    "import matplotlib as mpl\n",
    "mpl.rcParams['figure.figsize'] = [8.0, 8]\n",
    "\n",
    "plt.figure(1)\n",
    "plt.subplots_adjust(hspace=0.6)\n",
    "\n",
    "l = len(log)\n",
    "for i, key in enumerate(log.keys()):\n",
    "    log[key] = np.array(log[key])\n",
    "    \n",
    "    plt.subplot(f\"{l}1{i+1}\") # 2 plots on 0th axis, 1 plot on 1th axis, plot nr 1 --> 211\n",
    "    plt.title(key)\n",
    "    plt.plot(log[key])\n",
    "\n",
    "for dim in range(2):\n",
    "    mpl.rcParams['figure.figsize'] = [8.0, 4.8]\n",
    "    plt.figure(dim+2)\n",
    "    plt.title(f\"Dimension {dim}\")\n",
    "    _ = plt.hist(x0[:, dim])\n",
    "    _ = plt.hist(xout[:, dim])"
   ]
  },
  {
   "cell_type": "code",
   "execution_count": 10,
   "metadata": {},
   "outputs": [
    {
     "data": {
      "image/png": "[encoded data removed]",
      "text/plain": [
       "<Figure size 576x345.6 with 1 Axes>"
      ]
     },
     "metadata": {
      "needs_background": "light"
     },
     "output_type": "display_data"
    }
   ],
   "source": [
    "_ = plt.plot(log[\"bandwidth\"])\n",
    "_ = plt.yscale(\"log\")"
   ]
  },
  {
   "cell_type": "markdown",
   "metadata": {},
   "source": [
    "## Fixed bandwidth"
   ]
  },
  {
   "cell_type": "code",
   "execution_count": 11,
   "metadata": {},
   "outputs": [],
   "source": [
    "n = 100\n",
    "d = 4\n",
    "stepsize = 0.01\n",
    "L = 1000\n",
    "\n",
    "# generate data\n",
    "key = random.PRNGKey(0)\n",
    "x0 = random.normal(key, (n,d)) - 10"
   ]
  },
  {
   "cell_type": "code",
   "execution_count": 12,
   "metadata": {},
   "outputs": [],
   "source": [
    "svgd_fix = SVGD(logp=logp, n_iter=L, adaptive_kernel=False, get_bandwidth=None)"
   ]
  },
  {
   "cell_type": "code",
   "execution_count": 13,
   "metadata": {},
   "outputs": [],
   "source": [
    "xoutf, logf = svgd_fix.svgd(x0, stepsize, bandwidth=1)"
   ]
  },
  {
   "cell_type": "markdown",
   "metadata": {},
   "source": [
    "### plotting"
   ]
  },
  {
   "cell_type": "code",
   "execution_count": 14,
   "metadata": {},
   "outputs": [
    {
     "name": "stdout",
     "output_type": "stream",
     "text": [
      "Compilation params:\n",
      "n_iter = 1000\n",
      "\n",
      "Flexible params:\n",
      "n = 100\n",
      "d = 4\n",
      "stepsize=0.01\n",
      "---------------------\n"
     ]
    },
    {
     "data": {
      "image/png": "[encoded data removed]",
      "text/plain": [
       "<Figure size 576x576 with 2 Axes>"
      ]
     },
     "metadata": {
      "needs_background": "light"
     },
     "output_type": "display_data"
    },
    {
     "data": {
      "image/png": "[encoded data removed]",
      "text/plain": [
       "<Figure size 576x345.6 with 1 Axes>"
      ]
     },
     "metadata": {
      "needs_background": "light"
     },
     "output_type": "display_data"
    },
    {
     "data": {
      "image/png": "[encoded data removed]",
      "text/plain": [
       "<Figure size 576x345.6 with 1 Axes>"
      ]
     },
     "metadata": {
      "needs_background": "light"
     },
     "output_type": "display_data"
    },
    {
     "data": {
      "image/png": "[encoded data removed]",
      "text/plain": [
       "<Figure size 576x345.6 with 1 Axes>"
      ]
     },
     "metadata": {
      "needs_background": "light"
     },
     "output_type": "display_data"
    },
    {
     "data": {
      "image/png": "[encoded data removed]",
      "text/plain": [
       "<Figure size 576x345.6 with 1 Axes>"
      ]
     },
     "metadata": {
      "needs_background": "light"
     },
     "output_type": "display_data"
    }
   ],
   "source": [
    "print(\"Compilation params:\")\n",
    "print(f\"n_iter = {svgd_fix.n_iter}\\n\")\n",
    "print(\"Flexible params:\")\n",
    "print(f\"n = {n}\\nd = {d}\\nstepsize={stepsize}\")\n",
    "print(\"---------------------\")\n",
    "\n",
    "import matplotlib as mpl\n",
    "mpl.rcParams['figure.figsize'] = [8.0, 8]\n",
    "\n",
    "plt.figure(1)\n",
    "plt.subplots_adjust(hspace=0.6)\n",
    "\n",
    "l = len(logf)\n",
    "for i, key in enumerate(logf.keys()):\n",
    "    logf[key] = np.array(logf[key])\n",
    "    plt.subplot(f\"{l}1{i+1}\") # 2 plots on 0th axis, 1 plot on 1th axis, plot nr 1 --> 211\n",
    "    plt.title(key)\n",
    "    plt.plot(logf[key])\n",
    "\n",
    "for dim in range(d):\n",
    "    mpl.rcParams['figure.figsize'] = [8.0, 4.8]\n",
    "    plt.figure(dim+2)\n",
    "    plt.title(f\"Dimension {dim}\")\n",
    "    _ = plt.hist(x0[:, dim])\n",
    "    _ = plt.hist(xoutf[:, dim])"
   ]
  },
  {
   "cell_type": "markdown",
   "metadata": {},
   "source": [
    "# test new SVGD"
   ]
  },
  {
   "cell_type": "code",
   "execution_count": 5,
   "metadata": {},
   "outputs": [],
   "source": [
    "n = 10\n",
    "d = 1\n",
    "stepsize = 0.01\n",
    "L = int(1 / stepsize)\n",
    "\n",
    "# generate data\n",
    "key = random.PRNGKey(0)\n",
    "x = random.normal(key, (n,d)) - 10\n",
    "\n",
    "from jax.scipy.stats import norm\n",
    "from svgd import kernel_param_update_rule\n",
    "\n",
    "@jit\n",
    "def logp(x):\n",
    "    \"\"\"\n",
    "    IN: single scalar np array x. alternatively, [x] works too\n",
    "    OUT: scalar logp(x)\n",
    "    \"\"\"\n",
    "    return np.squeeze(np.sum(norm.logpdf(x, loc=0, scale=1)))"
   ]
  },
  {
   "cell_type": "code",
   "execution_count": 12,
   "metadata": {},
   "outputs": [],
   "source": [
    "d = x.shape[1]\n",
    "log = {\n",
    "    \"kernel_param\": np.empty(shape=(L, d)),\n",
    "    \"particle_mean\": np.empty(shape=(L, d)),\n",
    "    \"particle_var\": np.empty(shape=(L, d))\n",
    "}\n",
    "\n",
    "def update_fun(i, u):\n",
    "    \"\"\"\n",
    "    1) compute kernel_param from x\n",
    "    2) compute updated x,\n",
    "    3) log everything\n",
    "\n",
    "    Parameters:\n",
    "    * i: iteration counter (unused)\n",
    "    * u = [x, log]\n",
    "    \"\"\"\n",
    "    x, log = u\n",
    "    kernel_param = kernel_param_update_rule(x)\n",
    "    x = update(x, logp, stepsize, kernel_param)\n",
    "\n",
    "    particle_mean = np.mean(x, axis=0)\n",
    "    particle_var = np.var(x, axis=0)\n",
    "\n",
    "    log[\"kernel_param\"] = index_update(log[\"kernel_param\"], index[i, :], kernel_param)\n",
    "    log[\"particle_mean\"] = index_update(log[\"particle_mean\"], index[i, :], particle_mean)\n",
    "    log[\"particle_var\"] = index_update(log[\"particle_var\"], index[i, :], particle_var)\n",
    "\n",
    "    return [x, log]\n",
    "\n",
    "x, log = lax.fori_loop(0, L, update_fun, [x, log])\n"
   ]
  },
  {
   "cell_type": "code",
   "execution_count": 11,
   "metadata": {},
   "outputs": [
    {
     "ename": "NameError",
     "evalue": "name 'particle_var' is not defined",
     "output_type": "error",
     "traceback": [
      "\u001b[0;31m---------------------------------------------------------------------------\u001b[0m",
      "\u001b[0;31mNameError\u001b[0m                                 Traceback (most recent call last)",
      "\u001b[0;32m<ipython-input-11-887c026e2d12>\u001b[0m in \u001b[0;36m<module>\u001b[0;34m\u001b[0m\n\u001b[0;32m----> 1\u001b[0;31m \u001b[0mlog\u001b[0m\u001b[0;34m[\u001b[0m\u001b[0;34m\"particle_var\"\u001b[0m\u001b[0;34m]\u001b[0m \u001b[0;34m-\u001b[0m \u001b[0mlog\u001b[0m\u001b[0;34m[\u001b[0m\u001b[0mparticle_var\u001b[0m\u001b[0;34m]\u001b[0m\u001b[0;34m\u001b[0m\u001b[0;34m\u001b[0m\u001b[0m\n\u001b[0m",
      "\u001b[0;31mNameError\u001b[0m: name 'particle_var' is not defined"
     ]
    }
   ],
   "source": [
    "log[\"particle_var\"] - log[particle_var]"
   ]
  },
  {
   "cell_type": "markdown",
   "metadata": {},
   "source": [
    "# multidim SVGD concentrates around max a posteriori"
   ]
  },
  {
   "cell_type": "markdown",
   "metadata": {},
   "source": [
    "## test ard"
   ]
  },
  {
   "cell_type": "code",
   "execution_count": 18,
   "metadata": {},
   "outputs": [],
   "source": [
    "n = 10\n",
    "d = 2\n",
    "\n",
    "# generate data\n",
    "key = random.PRNGKey(3)\n",
    "x = random.normal(key, (n,d)) - 10"
   ]
  },
  {
   "cell_type": "code",
   "execution_count": 19,
   "metadata": {},
   "outputs": [
    {
     "data": {
      "text/plain": [
       "(10, 2)"
      ]
     },
     "execution_count": 19,
     "metadata": {},
     "output_type": "execute_result"
    }
   ],
   "source": [
    "x.shape"
   ]
  },
  {
   "cell_type": "code",
   "execution_count": 22,
   "metadata": {},
   "outputs": [
    {
     "data": {
      "text/plain": [
       "DeviceArray(1., dtype=float32)"
      ]
     },
     "execution_count": 22,
     "metadata": {},
     "output_type": "execute_result"
    }
   ],
   "source": [
    "ard(x[0], x[0], 1)"
   ]
  },
  {
   "cell_type": "code",
   "execution_count": null,
   "metadata": {},
   "outputs": [],
   "source": []
  },
  {
   "cell_type": "markdown",
   "metadata": {},
   "source": [
    "## here's the problem:"
   ]
  },
  {
   "cell_type": "code",
   "execution_count": 23,
   "metadata": {},
   "outputs": [],
   "source": [
    "from jax.scipy.stats import norm\n",
    "from svgd import kernel_param_update_rule\n",
    "\n",
    "@jit\n",
    "def logp(x):\n",
    "    \"\"\"\n",
    "    Parameters: \n",
    "    * x: np array of shape (d,)\n",
    "    \n",
    "    Returns: \n",
    "    * scalar log(p(x)), where p(x) is multidim gaussian\n",
    "    \"\"\"\n",
    "    assert x.ndim == 1\n",
    "    return np.sum(norm.logpdf(x, loc=0, scale=1))"
   ]
  },
  {
   "cell_type": "code",
   "execution_count": 36,
   "metadata": {},
   "outputs": [],
   "source": [
    "n = 10\n",
    "d = 2\n",
    "stepsize = 0.01\n",
    "L = int(10 / stepsize)\n",
    "\n",
    "# generate data\n",
    "key = random.PRNGKey(0)\n",
    "x0 = random.normal(key, (n,d)) - 10\n",
    "\n",
    "x=x0\n",
    "# kernel_param=kernel_param_update_rule(x)\n",
    "kernel_param=2\n",
    "kernel_param_update_rule = None"
   ]
  },
  {
   "cell_type": "code",
   "execution_count": 37,
   "metadata": {},
   "outputs": [],
   "source": [
    "log = {\n",
    "    \"kernel_params\": [],\n",
    "    \"particle_mean\": [np.mean(x, axis=0)],\n",
    "    \"particle_var\": [np.var(x, axis=0)]\n",
    "}\n",
    "\n",
    "for i in range(L):\n",
    "    x = update(x, logp, stepsize, kernel_param)\n",
    "    \n",
    "    # update\n",
    "    kernel = lambda x, y: ard(x, y, kernel_param)\n",
    "\n",
    "    xnew = []\n",
    "    n = x.shape[0]\n",
    "    for i, xi in enumerate(x):\n",
    "        repeated = np.tile(xi, (n, 1))\n",
    "        xnew.append(stepsize * np.sum(phi_j_batched(x, repeated, logp, kernel), axis = 0))\n",
    "    xnew = np.array(xnew)\n",
    "    xnew += x\n",
    "    #####\n",
    "    x = xnew\n",
    "    \n",
    "    log[\"particle_mean\"].append(np.mean(x, axis=0))\n",
    "    log[\"particle_var\"].append(np.var(x, axis=0))"
   ]
  },
  {
   "cell_type": "code",
   "execution_count": 38,
   "metadata": {},
   "outputs": [
    {
     "name": "stdout",
     "output_type": "stream",
     "text": [
      "vars:\n",
      "x:  [0.93684864 0.90393126]\n",
      "x0: [1.5073496 1.1993192]\n",
      "\n",
      "means:\n",
      "x:  [-0.00160565  0.00146102]\n",
      "x0: [0.3955822  0.07276726]\n"
     ]
    }
   ],
   "source": [
    "xout=x\n",
    "\n",
    "log[\"particle_mean\"] = np.array(log[\"particle_mean\"])\n",
    "log[\"particle_var\"] = np.array(log[\"particle_var\"])\n",
    "log[\"kernel_params\"] = np.array(log[\"kernel_params\"])\n",
    "\n",
    "print(\"vars:\")\n",
    "print('x: ', np.var(xout, axis=0))\n",
    "print('x0:', np.var(x0, axis=0))\n",
    "print()\n",
    "print(\"means:\")\n",
    "print('x: ', np.mean(xout, axis=0))\n",
    "print('x0:', np.mean(x0, axis=0) + 10)"
   ]
  },
  {
   "cell_type": "code",
   "execution_count": 33,
   "metadata": {},
   "outputs": [
    {
     "data": {
      "image/png": "[encoded data removed]",
      "text/plain": [
       "<Figure size 432x288 with 1 Axes>"
      ]
     },
     "metadata": {
      "needs_background": "light"
     },
     "output_type": "display_data"
    }
   ],
   "source": [
    "_ = plt.plot(log[\"particle_var\"])"
   ]
  },
  {
   "cell_type": "code",
   "execution_count": 35,
   "metadata": {},
   "outputs": [
    {
     "data": {
      "image/png": "[encoded data removed]",
      "text/plain": [
       "<Figure size 432x288 with 1 Axes>"
      ]
     },
     "metadata": {
      "needs_background": "light"
     },
     "output_type": "display_data"
    }
   ],
   "source": [
    "_ = plt.plot(log[\"particle_mean\"])"
   ]
  },
  {
   "cell_type": "code",
   "execution_count": 34,
   "metadata": {},
   "outputs": [
    {
     "data": {
      "image/png": "[encoded data removed]",
      "text/plain": [
       "<Figure size 432x288 with 1 Axes>"
      ]
     },
     "metadata": {
      "needs_background": "light"
     },
     "output_type": "display_data"
    }
   ],
   "source": [
    "_ = plt.plot(log[\"kernel_params\"])"
   ]
  },
  {
   "cell_type": "markdown",
   "metadata": {},
   "source": [
    "## generate data"
   ]
  },
  {
   "cell_type": "code",
   "execution_count": null,
   "metadata": {},
   "outputs": [],
   "source": [
    "n = 100\n",
    "d = 2\n",
    "key = random.PRNGKey(0)\n",
    "x0 = random.normal(key, shape=(n, d)) - 10\n",
    "\n",
    "stepsize = 0.001\n",
    "L = int(1 / stepsize)"
   ]
  },
  {
   "cell_type": "code",
   "execution_count": null,
   "metadata": {},
   "outputs": [],
   "source": [
    "from jax.scipy.stats import norm\n",
    "\n",
    "@jit\n",
    "def logp(x):\n",
    "    \"\"\"\n",
    "    Parameters: \n",
    "    * x: np array of shape (d,)\n",
    "    \n",
    "    Returns: \n",
    "    * scalar log(p(x)), where p(x) is multidim gaussian\n",
    "    \"\"\"\n",
    "    assert x.ndim == 1\n",
    "    out = np.sum(norm.logpdf(x, loc=0, scale=1))\n",
    "    return np.squeeze(out) # to be able to take a gradient, output must be scalar"
   ]
  },
  {
   "cell_type": "code",
   "execution_count": null,
   "metadata": {},
   "outputs": [],
   "source": [
    "xout, log = svgd(x0, logp, stepsize, L, kernel_param=None, kernel_param_update_rule=vkernel_param_update_rule)\n",
    "if \"errors\" in log.keys():\n",
    "    print(log[\"errors\"])"
   ]
  },
  {
   "cell_type": "code",
   "execution_count": null,
   "metadata": {},
   "outputs": [],
   "source": [
    "np.var(xout, axis=0)"
   ]
  },
  {
   "cell_type": "code",
   "execution_count": null,
   "metadata": {},
   "outputs": [],
   "source": [
    "np.mean(xout, axis=0)"
   ]
  },
  {
   "cell_type": "code",
   "execution_count": null,
   "metadata": {},
   "outputs": [],
   "source": [
    "len(log[\"particle_mean\"])"
   ]
  },
  {
   "cell_type": "code",
   "execution_count": null,
   "metadata": {},
   "outputs": [],
   "source": [
    "plt.plot(log[\"particle_mean\"])"
   ]
  },
  {
   "cell_type": "markdown",
   "metadata": {},
   "source": [
    "# testing\n",
    "where does the NaN come from?"
   ]
  },
  {
   "cell_type": "code",
   "execution_count": null,
   "metadata": {},
   "outputs": [],
   "source": [
    "from utils import ard"
   ]
  },
  {
   "cell_type": "code",
   "execution_count": null,
   "metadata": {},
   "outputs": [],
   "source": [
    "x0.shape"
   ]
  },
  {
   "cell_type": "code",
   "execution_count": null,
   "metadata": {},
   "outputs": [],
   "source": [
    "# x = x0[:, 0]\n",
    "# x = np.reshape(x, newshape=(n, 1))\n",
    "x = x0\n",
    "print(x.shape)\n",
    "kernel_param = kernel_param_update_rule(x)"
   ]
  },
  {
   "cell_type": "code",
   "execution_count": null,
   "metadata": {},
   "outputs": [],
   "source": [
    "xj = x[0]\n",
    "xi = x[1]"
   ]
  },
  {
   "cell_type": "code",
   "execution_count": null,
   "metadata": {},
   "outputs": [],
   "source": [
    "xj"
   ]
  },
  {
   "cell_type": "code",
   "execution_count": null,
   "metadata": {},
   "outputs": [],
   "source": [
    "norm.logpdf(xj, loc=0, scale=1)"
   ]
  },
  {
   "cell_type": "code",
   "execution_count": null,
   "metadata": {},
   "outputs": [],
   "source": [
    "logp(xj)"
   ]
  },
  {
   "cell_type": "code",
   "execution_count": null,
   "metadata": {},
   "outputs": [],
   "source": [
    "grad(logp)(xj)"
   ]
  },
  {
   "cell_type": "code",
   "execution_count": null,
   "metadata": {},
   "outputs": [],
   "source": [
    "kernel(xj, xi)"
   ]
  },
  {
   "cell_type": "code",
   "execution_count": null,
   "metadata": {},
   "outputs": [],
   "source": [
    "grad(kernel)(xj, xi)"
   ]
  },
  {
   "cell_type": "code",
   "execution_count": null,
   "metadata": {},
   "outputs": [],
   "source": []
  },
  {
   "cell_type": "code",
   "execution_count": null,
   "metadata": {},
   "outputs": [],
   "source": []
  },
  {
   "cell_type": "code",
   "execution_count": null,
   "metadata": {},
   "outputs": [],
   "source": [
    "kernel_params = []"
   ]
  },
  {
   "cell_type": "code",
   "execution_count": null,
   "metadata": {},
   "outputs": [],
   "source": [
    "# update kernel:\n",
    "kernel_param = vkernel_param_update_rule(x)\n",
    "kernel_params.append(kernel_param)\n",
    "kernel = lambda x, y: ard(x, y, kernel_param)\n",
    "\n",
    "# update x:\n",
    "xnew = []\n",
    "n = x.shape[0]\n",
    "for i, xi in enumerate(x):\n",
    "    repeated = np.tile(xi, (n, 1))\n",
    "    xnew.append(stepsize * np.sum(phi_j_batched(x, repeated, logp, kernel), axis = 0))\n",
    "xnew = np.array(xnew)\n",
    "xnew += x\n",
    "x = xnew\n",
    "\n",
    "np.mean(x, axis=0)"
   ]
  },
  {
   "cell_type": "code",
   "execution_count": null,
   "metadata": {},
   "outputs": [],
   "source": []
  }
 ],
 "metadata": {
  "kernelspec": {
   "display_name": "msc-thesis",
   "language": "python",
   "name": "msc-thesis"
  },
  "language_info": {
   "codemirror_mode": {
    "name": "ipython",
    "version": 3
   },
   "file_extension": ".py",
   "mimetype": "text/x-python",
   "name": "python",
   "nbconvert_exporter": "python",
   "pygments_lexer": "ipython3",
   "version": "3.6.9"
  }
 },
 "nbformat": 4,
 "nbformat_minor": 4
}
