{
 "cells": [
  {
   "cell_type": "markdown",
   "metadata": {},
   "source": [
    "# Gradient descent on bandwidth parameter (1-dim)"
   ]
  },
  {
   "cell_type": "code",
   "execution_count": 1,
   "metadata": {},
   "outputs": [
    {
     "name": "stdout",
     "output_type": "stream",
     "text": [
      "cpu\n"
     ]
    },
    {
     "name": "stderr",
     "output_type": "stream",
     "text": [
      "/home/lauro/.virtualenvs/msc-thesis/lib/python3.6/site-packages/jax/lib/xla_bridge.py:123: UserWarning: No GPU/TPU found, falling back to CPU.\n",
      "  warnings.warn('No GPU/TPU found, falling back to CPU.')\n"
     ]
    }
   ],
   "source": [
    "import jax.numpy as np\n",
    "from jax import grad, jit, vmap, random, jacfwd, jacrev\n",
    "from jax.lib import xla_bridge\n",
    "print(xla_bridge.get_backend().platform)\n",
    "\n",
    "import matplotlib as mpl\n",
    "import matplotlib.pyplot as plt\n",
    "from tqdm import tqdm\n",
    "\n",
    "from svgd import SVGD\n",
    "from metrics import ksd\n",
    "import time"
   ]
  },
  {
   "cell_type": "code",
   "execution_count": 2,
   "metadata": {},
   "outputs": [
    {
     "name": "stderr",
     "output_type": "stream",
     "text": [
      "/home/lauro/.virtualenvs/msc-thesis/lib/python3.6/site-packages/jax/lax/lax.py:4670: UserWarning: Explicitly requested dtype float64 requested in asarray is not available, and will be truncated to dtype float32. To enable more dtypes, set the jax_enable_x64 configuration option or the JAX_ENABLE_X64 shell environment variable. See https://github.com/google/jax#current-gotchas for more.\n",
      "  warnings.warn(msg.format(dtype, fun_name , truncated_dtype))\n",
      "/home/lauro/.virtualenvs/msc-thesis/lib/python3.6/site-packages/jax/lax/lax.py:4670: UserWarning: Explicitly requested dtype float64 requested in array is not available, and will be truncated to dtype float32. To enable more dtypes, set the jax_enable_x64 configuration option or the JAX_ENABLE_X64 shell environment variable. See https://github.com/google/jax#current-gotchas for more.\n",
      "  warnings.warn(msg.format(dtype, fun_name , truncated_dtype))\n",
      "/home/lauro/.virtualenvs/msc-thesis/lib/python3.6/site-packages/jax/lib/xla_bridge.py:123: UserWarning: No GPU/TPU found, falling back to CPU.\n",
      "  warnings.warn('No GPU/TPU found, falling back to CPU.')\n"
     ]
    }
   ],
   "source": [
    "n=100\n",
    "d=1\n",
    "stepsize = 0.01\n",
    "n_iter_max = 500 # 100 slightly to little, this should be all right\n",
    "# grid_length = 25\n",
    "bandwidth = 1\n",
    "\n",
    "from jax.scipy.stats import norm\n",
    "\n",
    "@jit\n",
    "def logp(x):\n",
    "    assert x.ndim == 1\n",
    "    return np.sum(norm.logpdf(x, loc=0, scale=1)) \n",
    "\n",
    "from svgd import get_bandwidth\n",
    "\n",
    "svgd_fix = SVGD(logp=logp, n_iter_max=n_iter_max, adaptive_kernel=False, get_bandwidth=None, particle_shape=(n, d))\n",
    "svgd_ada = SVGD(logp=logp, n_iter_max=n_iter_max, adaptive_kernel=True,  get_bandwidth=get_bandwidth, particle_shape=(n, d))"
   ]
  },
  {
   "cell_type": "code",
   "execution_count": null,
   "metadata": {},
   "outputs": [],
   "source": [
    "# Define optimizer and utilities"
   ]
  },
  {
   "cell_type": "code",
   "execution_count": 3,
   "metadata": {},
   "outputs": [],
   "source": [
    "svgd_stepsize = stepsize\n",
    "\n",
    "def loss(rkey, bandwidth, ksd_bandwidth=1):\n",
    "    \"\"\"Sample particles, perform SVGD, and output estimated KSD between target p and particles xout.\"\"\"\n",
    "    xout, _ = svgd_fix.svgd(rkey, svgd_stepsize, bandwidth, n_iter_max)\n",
    "    return ksd(xout, logp, ksd_bandwidth)\n",
    "\n",
    "@jit\n",
    "def update_bandwidth(rkey, bandwidth, stepsize):\n",
    "    bandwidth = np.array(bandwidth, dtype=np.float32)\n",
    "    return bandwidth - stepsize * jacfwd(loss, argnums=1)(rkey, bandwidth)\n",
    "\n",
    "def optimize_bandwidth(bandwidth, stepsize, n_steps, sample_every_step=True):\n",
    "    log = [bandwidth]\n",
    "    for step in tqdm(range(n_steps)):\n",
    "        if sample_every_step:\n",
    "            svgd_fix.newkey()\n",
    "        else:\n",
    "            pass\n",
    "        bandwidth = update_bandwidth(svgd_fix.rkey, bandwidth, stepsize)\n",
    "        log.append(bandwidth)\n",
    "    return bandwidth, log"
   ]
  },
  {
   "cell_type": "code",
   "execution_count": 11,
   "metadata": {},
   "outputs": [],
   "source": [
    "def sweep(rkey, grid, sample_each_time=False, joint_param=False, average_over=1):\n",
    "    \"\"\"Sweep a grid of bandwidth values and output corresponding metrics.\n",
    "    Arguments:\n",
    "    * average_over: integer, compute average over m random seeds\n",
    "    \"\"\"\n",
    "    if average_over == 1:\n",
    "        sweep_results = []\n",
    "        if sample_each_time:\n",
    "            rkeys = random.split(svgd_fix.rkey, len(grid))\n",
    "        else:\n",
    "            rkeys = [rkey] * len(grid)\n",
    "\n",
    "        for rkey, h in tqdm(zip(rkeys, grid)):\n",
    "            if joint_param:\n",
    "                l = loss(rkey, h, h)\n",
    "                gl = jacfwd(loss, argnums=1)(rkey, h, h)\n",
    "            else:\n",
    "                l = loss(rkey, h)\n",
    "                gl = jacfwd(loss, argnums=1)(rkey, h)\n",
    "\n",
    "            sweep_results.append([l, gl])\n",
    "\n",
    "        sweep_results = np.array(sweep_results)\n",
    "    else:\n",
    "        ress = []\n",
    "        for _ in range(average_over):\n",
    "            rkey = random.split(rkey)[0]\n",
    "            res = sweep(rkey, grid, sample_each_time=False, joint_param=joint_param, average_over=1)\n",
    "            ress.append(res)\n",
    "        ress = np.array(ress)\n",
    "        sweep_results = np.mean(ress, axis=0)\n",
    "    if np.any(np.isnan(sweep_results)): print(\"NaNs detected!\")\n",
    "    return sweep_results\n",
    "\n",
    "def makeplots(data, grid, xscale=\"linear\", yscale=\"linear\", style=\".\"):\n",
    "    plt.figure(1, figsize=[8, 8])\n",
    "    l = len(data)\n",
    "    labels = [\"loss(h)\", \"grad(loss)(h)\"]\n",
    "    cols = [\"r\", \"b\", \"g\", \"y\"]\n",
    "    \n",
    "    for i, d in enumerate(data):\n",
    "        plt.subplot(f\"{l}1{i+1}\")\n",
    "        plt.plot(grid, d, f\"r{style}\", color=cols[i])\n",
    "        plt.xlabel(\"h\")\n",
    "        plt.ylabel(labels[i])\n",
    "        plt.yscale(yscale)\n",
    "        plt.xscale(xscale)\n",
    "        if i==0: plt.axhline(y=ksd_ada, color=\"y\")"
   ]
  },
  {
   "cell_type": "markdown",
   "metadata": {},
   "source": [
    "# Experiments\n",
    "## 1\n",
    "* Plot KSD and grad(KSD) for bandwidths 0, ..., 10.000.\n",
    "* Optimize bandwidth, initializing at various points along the bandwidth grid.\n",
    "\n",
    "#### Note\n",
    "You're gonna get `NaN`s for your gradients as soon as the bandwidth is smaller than 0.25 (the gradient becomes very large). If you really want to, you can set JAX to use doubles,\n",
    "```\n",
    "from jax.config import config\n",
    "config.update(\"jax_enable_x64\", True)\n",
    "```\n",
    "in which case NaNs will start appearing once bandwidth is somewhere below 0.1, the gradient growing to something like $10^{259}$ shortly before that."
   ]
  },
  {
   "cell_type": "markdown",
   "metadata": {},
   "source": [
    "First: for comparison, compute adaptive SVGD"
   ]
  },
  {
   "cell_type": "code",
   "execution_count": 9,
   "metadata": {},
   "outputs": [
    {
     "name": "stdout",
     "output_type": "stream",
     "text": [
      "JIT COMPILING...\n",
      "Done compiling in 0.4168422222137451 seconds.\n"
     ]
    }
   ],
   "source": [
    "m = 10\n",
    "ksd_ada = []\n",
    "for _ in range(m):\n",
    "    svgd_ada.newkey()\n",
    "    xout_ada, _ = svgd_ada.svgd(svgd_ada.rkey, svgd_stepsize, bandwidth=0, n_iter=n_iter_max)\n",
    "    ksd_ada.append(ksd(xout_ada, logp, bandwidth=1))\n",
    "ksd_ada = np.array(ksd_ada)\n",
    "ksd_ada = np.mean(ksd_ada)"
   ]
  },
  {
   "cell_type": "code",
   "execution_count": 13,
   "metadata": {},
   "outputs": [],
   "source": [
    "grid_len = 100"
   ]
  },
  {
   "cell_type": "markdown",
   "metadata": {},
   "source": [
    "## Overview plot, log scale"
   ]
  },
  {
   "cell_type": "code",
   "execution_count": 14,
   "metadata": {},
   "outputs": [
    {
     "name": "stderr",
     "output_type": "stream",
     "text": [
      "0it [00:00, ?it/s]"
     ]
    },
    {
     "name": "stdout",
     "output_type": "stream",
     "text": [
      "JIT COMPILING...\n",
      "Done compiling in 0.1504664421081543 seconds.\n",
      "JIT COMPILING...\n",
      "Done compiling in 2.2274811267852783 seconds.\n"
     ]
    },
    {
     "name": "stderr",
     "output_type": "stream",
     "text": [
      "100it [01:36,  1.04it/s]\n",
      "100it [01:06,  1.49it/s]\n",
      "100it [01:08,  1.45it/s]\n",
      "100it [01:08,  1.47it/s]\n",
      "100it [01:06,  1.51it/s]\n",
      "100it [01:06,  1.51it/s]\n",
      "100it [01:06,  1.51it/s]\n",
      "100it [01:06,  1.51it/s]\n",
      "100it [01:06,  1.51it/s]\n",
      "100it [01:06,  1.51it/s]\n"
     ]
    }
   ],
   "source": [
    "rkey = random.PRNGKey(0)\n",
    "bandwidth_grid = np.logspace(-0.5, 2, num=grid_len)\n",
    "slog = sweep(rkey, bandwidth_grid, sample_each_time=False, average_over=m)"
   ]
  },
  {
   "cell_type": "code",
   "execution_count": 15,
   "metadata": {},
   "outputs": [
    {
     "data": {
      "image/png": "[encoded data removed]",
      "text/plain": [
       "<Figure size 576x576 with 2 Axes>"
      ]
     },
     "metadata": {
      "needs_background": "light"
     },
     "output_type": "display_data"
    }
   ],
   "source": [
    "makeplots(slog.transpose(), bandwidth_grid, xscale=\"log\", style=\"\")"
   ]
  },
  {
   "cell_type": "markdown",
   "metadata": {},
   "source": [
    "## Linear plots"
   ]
  },
  {
   "cell_type": "code",
   "execution_count": 16,
   "metadata": {},
   "outputs": [],
   "source": [
    "rkey = random.PRNGKey(1)\n",
    "bandwidth_grid = np.linspace(1, 7, num=grid_len) # NaNs when h < 0.25"
   ]
  },
  {
   "cell_type": "code",
   "execution_count": 17,
   "metadata": {},
   "outputs": [
    {
     "name": "stderr",
     "output_type": "stream",
     "text": [
      "100it [00:55,  1.79it/s]\n",
      "100it [00:51,  1.94it/s]\n",
      "100it [00:51,  1.94it/s]\n",
      "100it [00:51,  1.94it/s]\n",
      "100it [00:51,  1.94it/s]\n",
      "100it [00:51,  1.94it/s]\n",
      "100it [00:51,  1.94it/s]\n",
      "100it [00:51,  1.94it/s]\n",
      "100it [00:52,  1.91it/s]\n",
      "100it [00:52,  1.89it/s]\n"
     ]
    }
   ],
   "source": [
    "sl = sweep(rkey, bandwidth_grid, sample_each_time=False, average_over=m)"
   ]
  },
  {
   "cell_type": "code",
   "execution_count": 18,
   "metadata": {},
   "outputs": [
    {
     "data": {
      "image/png": "[encoded data removed]",
      "text/plain": [
       "<Figure size 576x576 with 2 Axes>"
      ]
     },
     "metadata": {
      "needs_background": "light"
     },
     "output_type": "display_data"
    }
   ],
   "source": [
    "makeplots(sl.transpose(), bandwidth_grid, style=\"\")"
   ]
  },
  {
   "cell_type": "markdown",
   "metadata": {},
   "source": [
    "## Vary KSD parameter jointly with SVGD parameter"
   ]
  },
  {
   "cell_type": "code",
   "execution_count": 26,
   "metadata": {},
   "outputs": [],
   "source": [
    "grid_len = 100\n",
    "rkey = random.PRNGKey(0)\n",
    "bandwidth_grid = np.linspace(0.3, 1, num=grid_len) # NaNs when h < 0.25"
   ]
  },
  {
   "cell_type": "code",
   "execution_count": 27,
   "metadata": {},
   "outputs": [
    {
     "name": "stderr",
     "output_type": "stream",
     "text": [
      "100it [00:58,  1.72it/s]\n"
     ]
    }
   ],
   "source": [
    "sll = sweep(rkey, bandwidth_grid)"
   ]
  },
  {
   "cell_type": "code",
   "execution_count": 28,
   "metadata": {},
   "outputs": [
    {
     "data": {
      "image/png": "[encoded data removed]",
      "text/plain": [
       "<Figure size 576x576 with 2 Axes>"
      ]
     },
     "metadata": {
      "needs_background": "light"
     },
     "output_type": "display_data"
    }
   ],
   "source": [
    "makeplots(sll.transpose(), bandwidth_grid, style=\"\")"
   ]
  },
  {
   "cell_type": "code",
   "execution_count": 29,
   "metadata": {},
   "outputs": [],
   "source": [
    "rkey = random.PRNGKey(0)\n",
    "bandwidth_grid = np.linspace(0.3, 0.8, num=grid_len) # NaNs when h < 0.25"
   ]
  },
  {
   "cell_type": "code",
   "execution_count": 30,
   "metadata": {},
   "outputs": [
    {
     "name": "stderr",
     "output_type": "stream",
     "text": [
      "100it [00:58,  1.71it/s]\n"
     ]
    }
   ],
   "source": [
    "sjoint = sweep(rkey, bandwidth_grid, joint_param=True)"
   ]
  },
  {
   "cell_type": "code",
   "execution_count": 31,
   "metadata": {},
   "outputs": [
    {
     "data": {
      "image/png": "[encoded data removed]",
      "text/plain": [
       "<Figure size 576x576 with 2 Axes>"
      ]
     },
     "metadata": {
      "needs_background": "light"
     },
     "output_type": "display_data"
    }
   ],
   "source": [
    "makeplots(sjoint.transpose(), bandwidth_grid, style=\"\")"
   ]
  },
  {
   "cell_type": "markdown",
   "metadata": {},
   "source": [
    "## Do some gradient descent"
   ]
  },
  {
   "cell_type": "code",
   "execution_count": 32,
   "metadata": {},
   "outputs": [],
   "source": [
    "meta_stepsize = 0.1\n",
    "n_steps = 50"
   ]
  },
  {
   "cell_type": "code",
   "execution_count": 34,
   "metadata": {},
   "outputs": [
    {
     "name": "stderr",
     "output_type": "stream",
     "text": [
      "  2%|▏         | 1/50 [00:17<14:07, 17.29s/it]"
     ]
    },
    {
     "name": "stdout",
     "output_type": "stream",
     "text": [
      "JIT COMPILING...\n",
      "Done compiling in 1.9922914505004883 seconds.\n"
     ]
    },
    {
     "name": "stderr",
     "output_type": "stream",
     "text": [
      "100%|██████████| 50/50 [00:55<00:00,  1.11s/it]\n"
     ]
    },
    {
     "name": "stdout",
     "output_type": "stream",
     "text": [
      "value: 5.290594\n",
      "loss at 5.290594100952148: 0.53059006\n"
     ]
    }
   ],
   "source": [
    "h = 2.5\n",
    "opt_h, log1 = optimize_bandwidth(h, meta_stepsize, n_steps)\n",
    "print(\"value:\", opt_h)\n",
    "print(f\"loss at {opt_h}:\", loss(rkey, opt_h))"
   ]
  },
  {
   "cell_type": "code",
   "execution_count": 35,
   "metadata": {},
   "outputs": [
    {
     "data": {
      "text/plain": [
       "[<matplotlib.lines.Line2D at 0x7f3ff8c017b8>]"
      ]
     },
     "execution_count": 35,
     "metadata": {},
     "output_type": "execute_result"
    },
    {
     "data": {
      "image/png": "[encoded data removed]",
      "text/plain": [
       "<Figure size 432x288 with 1 Axes>"
      ]
     },
     "metadata": {
      "needs_background": "light"
     },
     "output_type": "display_data"
    }
   ],
   "source": [
    "plt.plot(log1, \".\")"
   ]
  },
  {
   "cell_type": "code",
   "execution_count": 36,
   "metadata": {},
   "outputs": [
    {
     "name": "stderr",
     "output_type": "stream",
     "text": [
      "100%|██████████| 50/50 [00:40<00:00,  1.25it/s]\n"
     ]
    },
    {
     "name": "stdout",
     "output_type": "stream",
     "text": [
      "value: 5.0373263\n",
      "loss at 5.037326335906982: 0.48216307\n"
     ]
    }
   ],
   "source": [
    "h = 3\n",
    "opt_h, log = optimize_bandwidth(h, meta_stepsize, n_steps)\n",
    "print(\"value:\", opt_h)\n",
    "print(f\"loss at {opt_h}:\", loss(rkey, opt_h))"
   ]
  },
  {
   "cell_type": "code",
   "execution_count": 37,
   "metadata": {},
   "outputs": [
    {
     "data": {
      "text/plain": [
       "[<matplotlib.lines.Line2D at 0x7f3ff8b63b00>]"
      ]
     },
     "execution_count": 37,
     "metadata": {},
     "output_type": "execute_result"
    },
    {
     "data": {
      "image/png": "[encoded data removed]",
      "text/plain": [
       "<Figure size 432x288 with 1 Axes>"
      ]
     },
     "metadata": {
      "needs_background": "light"
     },
     "output_type": "display_data"
    }
   ],
   "source": [
    "plt.plot(log, \"r.\")"
   ]
  },
  {
   "cell_type": "markdown",
   "metadata": {},
   "source": [
    "Conclusion: gradient descent is succesful in finding decent local minima. But since the objective function (KSD) is nonconvex, it does sometimes get stuck in globally suboptimal spots."
   ]
  },
  {
   "cell_type": "code",
   "execution_count": null,
   "metadata": {},
   "outputs": [],
   "source": [
    " scale=1)) \n"
   ]
  }
 ],
 "metadata": {
  "kernelspec": {
   "display_name": "msc-thesis",
   "language": "python",
   "name": "msc-thesis"
  },
  "language_info": {
   "codemirror_mode": {
    "name": "ipython",
    "version": 3
   },
   "file_extension": ".py",
   "mimetype": "text/x-python",
   "name": "python",
   "nbconvert_exporter": "python",
   "pygments_lexer": "ipython3",
   "version": "3.6.9"
  }
 },
 "nbformat": 4,
 "nbformat_minor": 4
}
