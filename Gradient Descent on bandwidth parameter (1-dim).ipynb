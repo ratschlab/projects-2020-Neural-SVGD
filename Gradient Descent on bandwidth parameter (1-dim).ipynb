{
 "cells": [
  {
   "cell_type": "markdown",
   "metadata": {},
   "source": [
    "# Gradient descent on bandwidth parameter (1-dim)"
   ]
  },
  {
   "cell_type": "code",
   "execution_count": 1,
   "metadata": {},
   "outputs": [
    {
     "name": "stdout",
     "output_type": "stream",
     "text": [
      "cpu\n"
     ]
    },
    {
     "name": "stderr",
     "output_type": "stream",
     "text": [
      "/home/lauro/.virtualenvs/msc-thesis/lib/python3.6/site-packages/jax/lib/xla_bridge.py:123: UserWarning: No GPU/TPU found, falling back to CPU.\n",
      "  warnings.warn('No GPU/TPU found, falling back to CPU.')\n"
     ]
    }
   ],
   "source": [
    "import jax.numpy as np\n",
    "from jax import grad, jit, vmap, random, jacfwd, jacrev\n",
    "from jax.lib import xla_bridge\n",
    "print(xla_bridge.get_backend().platform)\n",
    "\n",
    "import matplotlib as mpl\n",
    "import matplotlib.pyplot as plt\n",
    "from tqdm import tqdm\n",
    "\n",
    "from svgd import SVGD\n",
    "from metrics import ksd"
   ]
  },
  {
   "cell_type": "code",
   "execution_count": 2,
   "metadata": {},
   "outputs": [
    {
     "name": "stderr",
     "output_type": "stream",
     "text": [
      "/home/lauro/.virtualenvs/msc-thesis/lib/python3.6/site-packages/jax/lax/lax.py:4670: UserWarning: Explicitly requested dtype float64 requested in asarray is not available, and will be truncated to dtype float32. To enable more dtypes, set the jax_enable_x64 configuration option or the JAX_ENABLE_X64 shell environment variable. See https://github.com/google/jax#current-gotchas for more.\n",
      "  warnings.warn(msg.format(dtype, fun_name , truncated_dtype))\n",
      "/home/lauro/.virtualenvs/msc-thesis/lib/python3.6/site-packages/jax/lax/lax.py:4670: UserWarning: Explicitly requested dtype float64 requested in array is not available, and will be truncated to dtype float32. To enable more dtypes, set the jax_enable_x64 configuration option or the JAX_ENABLE_X64 shell environment variable. See https://github.com/google/jax#current-gotchas for more.\n",
      "  warnings.warn(msg.format(dtype, fun_name , truncated_dtype))\n",
      "/home/lauro/.virtualenvs/msc-thesis/lib/python3.6/site-packages/jax/lib/xla_bridge.py:123: UserWarning: No GPU/TPU found, falling back to CPU.\n",
      "  warnings.warn('No GPU/TPU found, falling back to CPU.')\n"
     ]
    }
   ],
   "source": [
    "n=100\n",
    "d=1\n",
    "stepsize = 0.01\n",
    "n_iter_max = 500 # 100 slightly to little, this should be all right\n",
    "# grid_length = 25\n",
    "bandwidth = 1\n",
    "\n",
    "# from utils import log_gaussian_mixture\n",
    "# logp = lambda x: log_gaussian_mixture(x, means=[-2, 2], variances=[1, 1], weights=[1/3, 2/3])\n",
    "from jax.scipy.stats import norm\n",
    "\n",
    "@jit\n",
    "def logp(x):\n",
    "    assert x.ndim == 1\n",
    "    return np.sum(norm.logpdf(x, loc=0, scale=1)) \n",
    "\n",
    "svgd_fix = SVGD(logp=logp, n_iter_max=n_iter_max, adaptive_kernel=False, get_bandwidth=None, particle_shape=(n, d))"
   ]
  },
  {
   "cell_type": "markdown",
   "metadata": {},
   "source": [
    "# Define optimizer"
   ]
  },
  {
   "cell_type": "code",
   "execution_count": 3,
   "metadata": {},
   "outputs": [],
   "source": [
    "n=100\n",
    "d=1\n",
    "stepsize = 0.01\n",
    "n_iter_max = 500 # 100 slightly to little, this should be all right\n",
    "# grid_length = 25\n",
    "bandwidth = 1\n",
    "\n",
    "# from utils import log_gaussian_mixture\n",
    "# logp = lambda x: log_gaussian_mixture(x, means=[-2, 2], variances=[1, 1], weights=[1/3, 2/3])\n",
    "from jax.scipy.stats import norm\n",
    "\n",
    "@jit\n",
    "def logp(x):\n",
    "    assert x.ndim == 1\n",
    "    return np.sum(norm.logpdf(x, loc=0, scale=1)) \n",
    "\n",
    "svgd_fix = SVGD(logp=logp, n_iter_max=n_iter_max, adaptive_kernel=False, get_bandwidth=None, particle_shape=(n, d))"
   ]
  },
  {
   "cell_type": "code",
   "execution_count": 4,
   "metadata": {},
   "outputs": [],
   "source": [
    "svgd_stepsize = stepsize\n",
    "\n",
    "def loss(rkey, bandwidth, ksd_bandwidth=1):\n",
    "    \"\"\"Sample particles, perform SVGD, and output estimated KSD between target p and particles xout.\"\"\"\n",
    "    xout, _ = svgd_fix.svgd(rkey, svgd_stepsize, bandwidth, n_iter_max)\n",
    "    return ksd(xout, logp, ksd_bandwidth)\n",
    "\n",
    "@jit\n",
    "def update_bandwidth(rkey, bandwidth, stepsize):\n",
    "    return bandwidth - stepsize * jacfwd(loss, argnums=1)(rkey, bandwidth)\n",
    "\n",
    "def optimize_bandwidth(bandwidth, stepsize, n_steps):\n",
    "    log = [bandwidth]\n",
    "    for step in tqdm(range(n_steps)):\n",
    "        svgd_fix.newkey()\n",
    "        bandwidth = update_bandwidth(svgd_fix.rkey, bandwidth, stepsize)\n",
    "        log.append(bandwidth)\n",
    "    return bandwidth, log"
   ]
  },
  {
   "cell_type": "markdown",
   "metadata": {},
   "source": [
    "# Experiments\n",
    "## 1\n",
    "* Plot KSD and grad(KSD) for bandwidths 0, ..., 10.000.\n",
    "* Optimize bandwidth, initializing at various points along the bandwidth grid.\n",
    "\n",
    "ISSUE: when bandwidth is less than around 0.25, gradients become NaN."
   ]
  },
  {
   "cell_type": "code",
   "execution_count": 5,
   "metadata": {},
   "outputs": [
    {
     "name": "stdout",
     "output_type": "stream",
     "text": [
      "JIT COMPILING...\n",
      "Done compiling in 0.31856274604797363 seconds.\n"
     ]
    },
    {
     "data": {
      "text/plain": [
       "DeviceArray(-0.00874445, dtype=float32)"
      ]
     },
     "execution_count": 5,
     "metadata": {},
     "output_type": "execute_result"
    }
   ],
   "source": [
    "svgd_fix.newkey()\n",
    "xout, _ = svgd_fix.svgd(svgd_fix.rkey, stepsize, bandwidth=1, n_iter=200)\n",
    "np.mean(xout)"
   ]
  },
  {
   "cell_type": "code",
   "execution_count": 6,
   "metadata": {},
   "outputs": [
    {
     "name": "stdout",
     "output_type": "stream",
     "text": [
      "JIT COMPILING...\n",
      "Done compiling in 0.1108548641204834 seconds.\n"
     ]
    }
   ],
   "source": [
    "bandwidth_grid = np.logspace(-10, 15, base=2, num=200)\n",
    "# bandwidth_grid = np.linspace(0.5, 1.5, 200)\n",
    "losses = np.array([loss(rkey, h) for rkey, h in zip(random.split(svgd_fix.rkey, len(bandwidth_grid)), bandwidth_grid)])"
   ]
  },
  {
   "cell_type": "code",
   "execution_count": 7,
   "metadata": {},
   "outputs": [
    {
     "name": "stdout",
     "output_type": "stream",
     "text": [
      "JIT COMPILING...\n",
      "Done compiling in 1.5878942012786865 seconds.\n"
     ]
    }
   ],
   "source": [
    "grad_losses = np.array([jacfwd(loss, argnums=1)(rkey, h) for rkey, h in zip(random.split(svgd_fix.rkey, len(bandwidth_grid)), bandwidth_grid)])"
   ]
  },
  {
   "cell_type": "code",
   "execution_count": 8,
   "metadata": {},
   "outputs": [],
   "source": [
    "svgd_fix.newkey()\n",
    "grad_losses2 = np.array([jacfwd(loss, argnums=1)(rkey, h) for rkey, h in zip(random.split(svgd_fix.rkey, len(bandwidth_grid)), bandwidth_grid)])"
   ]
  },
  {
   "cell_type": "code",
   "execution_count": 9,
   "metadata": {},
   "outputs": [
    {
     "data": {
      "image/png": "[encoded data removed]",
      "text/plain": [
       "<Figure size 576x576 with 2 Axes>"
      ]
     },
     "metadata": {
      "needs_background": "light"
     },
     "output_type": "display_data"
    }
   ],
   "source": [
    "plt.figure(1, figsize=[8, 8])\n",
    "\n",
    "plt.subplot(211)\n",
    "plt.plot(bandwidth_grid, losses, \"r.\")\n",
    "plt.xlabel(\"h\")\n",
    "plt.ylabel(\"loss(h)\")\n",
    "plt.yscale(\"log\")\n",
    "plt.xscale(\"log\")\n",
    "\n",
    "plt.subplot(212)\n",
    "plt.plot(bandwidth_grid, grad_losses, \"g.\")\n",
    "plt.xlabel(\"h\")\n",
    "plt.ylabel(\"grad(loss)(h)\")\n",
    "plt.yscale(\"log\")\n",
    "plt.xscale(\"log\")"
   ]
  },
  {
   "cell_type": "code",
   "execution_count": 10,
   "metadata": {},
   "outputs": [
    {
     "data": {
      "image/png": "[encoded data removed]",
      "text/plain": [
       "<Figure size 576x288 with 1 Axes>"
      ]
     },
     "metadata": {
      "needs_background": "light"
     },
     "output_type": "display_data"
    }
   ],
   "source": [
    "plt.figure(1, figsize=[8, 4])\n",
    "plt.plot(bandwidth_grid, grad_losses2, \"b.\")\n",
    "plt.xlabel(\"h\")\n",
    "plt.ylabel(\"grad(loss)(h)\")\n",
    "plt.yscale(\"log\")\n",
    "plt.xscale(\"log\")"
   ]
  },
  {
   "cell_type": "code",
   "execution_count": 11,
   "metadata": {},
   "outputs": [
    {
     "data": {
      "image/png": "[encoded data removed]",
      "text/plain": [
       "<Figure size 432x288 with 1 Axes>"
      ]
     },
     "metadata": {
      "needs_background": "light"
     },
     "output_type": "display_data"
    }
   ],
   "source": [
    "nanh = bandwidth_grid[np.isnan(grad_losses)]\n",
    "plt.plot(nanh , np.zeros(len(nanh)), \"r.\")\n",
    "plt.xscale(\"log\")"
   ]
  },
  {
   "cell_type": "code",
   "execution_count": 12,
   "metadata": {},
   "outputs": [
    {
     "data": {
      "text/plain": [
       "DeviceArray([ True, False,  True, False,  True,  True,  True,  True,\n",
       "              True,  True,  True,  True,  True,  True,  True,  True,\n",
       "              True,  True,  True,  True,  True,  True,  True,  True,\n",
       "              True,  True,  True,  True,  True,  True,  True,  True,\n",
       "              True,  True,  True,  True,  True,  True,  True,  True,\n",
       "              True,  True,  True,  True,  True,  True,  True,  True,\n",
       "              True,  True,  True,  True,  True,  True,  True,  True,\n",
       "              True,  True,  True,  True,  True,  True,  True,  True,\n",
       "              True,  True,  True,  True,  True,  True,  True,  True,\n",
       "              True,  True,  True,  True,  True,  True,  True,  True,\n",
       "              True,  True,  True,  True,  True,  True,  True,  True,\n",
       "              True,  True,  True,  True,  True,  True,  True,  True,\n",
       "              True,  True,  True,  True,  True,  True,  True,  True,\n",
       "              True,  True,  True,  True,  True,  True,  True,  True,\n",
       "              True,  True,  True,  True,  True,  True,  True,  True,\n",
       "              True,  True,  True,  True,  True,  True,  True,  True,\n",
       "              True,  True,  True,  True,  True,  True,  True,  True,\n",
       "              True,  True,  True,  True,  True,  True,  True,  True,\n",
       "              True,  True,  True,  True,  True,  True,  True,  True,\n",
       "              True,  True,  True,  True,  True,  True,  True,  True,\n",
       "              True,  True,  True,  True,  True,  True,  True,  True,\n",
       "              True,  True,  True,  True,  True,  True,  True,  True,\n",
       "              True,  True,  True,  True,  True,  True,  True,  True,\n",
       "              True,  True,  True,  True,  True,  True,  True,  True,\n",
       "              True,  True,  True,  True,  True,  True,  True,  True],            dtype=bool)"
      ]
     },
     "execution_count": 12,
     "metadata": {},
     "output_type": "execute_result"
    }
   ],
   "source": [
    "np.isnan(grad_losses) == np.isnan(grad_losses2)"
   ]
  },
  {
   "cell_type": "code",
   "execution_count": 13,
   "metadata": {},
   "outputs": [
    {
     "ename": "NameError",
     "evalue": "name 'rkey' is not defined",
     "output_type": "error",
     "traceback": [
      "\u001b[0;31m---------------------------------------------------------------------------\u001b[0m",
      "\u001b[0;31mNameError\u001b[0m                                 Traceback (most recent call last)",
      "\u001b[0;32m<ipython-input-13-1f14214846a6>\u001b[0m in \u001b[0;36m<module>\u001b[0;34m\u001b[0m\n\u001b[1;32m      1\u001b[0m \u001b[0mh\u001b[0m\u001b[0;34m=\u001b[0m\u001b[0;36m0.25\u001b[0m\u001b[0;34m\u001b[0m\u001b[0;34m\u001b[0m\u001b[0m\n\u001b[1;32m      2\u001b[0m \u001b[0;34m\u001b[0m\u001b[0m\n\u001b[0;32m----> 3\u001b[0;31m \u001b[0mjacfwd\u001b[0m\u001b[0;34m(\u001b[0m\u001b[0mloss\u001b[0m\u001b[0;34m,\u001b[0m \u001b[0margnums\u001b[0m\u001b[0;34m=\u001b[0m\u001b[0;36m1\u001b[0m\u001b[0;34m)\u001b[0m\u001b[0;34m(\u001b[0m\u001b[0mrkey\u001b[0m\u001b[0;34m,\u001b[0m \u001b[0mh\u001b[0m\u001b[0;34m)\u001b[0m\u001b[0;34m\u001b[0m\u001b[0;34m\u001b[0m\u001b[0m\n\u001b[0m",
      "\u001b[0;31mNameError\u001b[0m: name 'rkey' is not defined"
     ]
    }
   ],
   "source": [
    "h=0.25\n",
    "\n",
    "jacfwd(loss, argnums=1)(rkey, h)"
   ]
  },
  {
   "cell_type": "code",
   "execution_count": null,
   "metadata": {},
   "outputs": [],
   "source": []
  },
  {
   "cell_type": "code",
   "execution_count": null,
   "metadata": {},
   "outputs": [],
   "source": []
  }
 ],
 "metadata": {
  "kernelspec": {
   "display_name": "msc-thesis",
   "language": "python",
   "name": "msc-thesis"
  },
  "language_info": {
   "codemirror_mode": {
    "name": "ipython",
    "version": 3
   },
   "file_extension": ".py",
   "mimetype": "text/x-python",
   "name": "python",
   "nbconvert_exporter": "python",
   "pygments_lexer": "ipython3",
   "version": "3.6.9"
  }
 },
 "nbformat": 4,
 "nbformat_minor": 4
}
