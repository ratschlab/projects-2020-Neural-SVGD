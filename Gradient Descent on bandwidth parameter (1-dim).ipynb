{
 "cells": [
  {
   "cell_type": "markdown",
   "metadata": {},
   "source": [
    "# Gradient descent on bandwidth parameter (1-dim)"
   ]
  },
  {
   "cell_type": "code",
   "execution_count": null,
   "metadata": {},
   "outputs": [],
   "source": [
    "import jax.numpy as np\n",
    "from jax import grad, jit, vmap, random, jacfwd, jacrev\n",
    "from jax.lib import xla_bridge\n",
    "print(xla_bridge.get_backend().platform)\n",
    "\n",
    "import matplotlib as mpl\n",
    "import matplotlib.pyplot as plt\n",
    "from tqdm import tqdm\n",
    "\n",
    "from svgd import SVGD\n",
    "from metrics import ksd\n",
    "import time"
   ]
  },
  {
   "cell_type": "code",
   "execution_count": null,
   "metadata": {},
   "outputs": [],
   "source": [
    "n=100\n",
    "d=1\n",
    "stepsize = 0.01\n",
    "n_iter_max = 500 # 100 slightly to little, this should be all right\n",
    "# grid_length = 25\n",
    "bandwidth = 1\n",
    "\n",
    "from jax.scipy.stats import norm\n",
    "\n",
    "@jit\n",
    "def logp(x):\n",
    "    assert x.ndim == 1\n",
    "    return np.sum(norm.logpdf(x, loc=0, scale=1)) \n",
    "\n",
    "svgd_fix = SVGD(logp=logp, n_iter_max=n_iter_max, adaptive_kernel=False, get_bandwidth=None, particle_shape=(n, d))"
   ]
  },
  {
   "cell_type": "markdown",
   "metadata": {},
   "source": [
    "# Define optimizer"
   ]
  },
  {
   "cell_type": "code",
   "execution_count": 4,
   "metadata": {},
   "outputs": [],
   "source": [
    "svgd_stepsize = stepsize\n",
    "\n",
    "def loss(rkey, bandwidth, ksd_bandwidth=1):\n",
    "    \"\"\"Sample particles, perform SVGD, and output estimated KSD between target p and particles xout.\"\"\"\n",
    "    xout, _ = svgd_fix.svgd(rkey, svgd_stepsize, bandwidth, n_iter_max)\n",
    "    return ksd(xout, logp, ksd_bandwidth)\n",
    "\n",
    "@jit\n",
    "def update_bandwidth(rkey, bandwidth, stepsize):\n",
    "    bandwidth = np.array(bandwidth, dtype=np.float32)\n",
    "    return bandwidth - stepsize * jacfwd(loss, argnums=1)(rkey, bandwidth)\n",
    "\n",
    "def optimize_bandwidth(bandwidth, stepsize, n_steps):\n",
    "    log = [bandwidth]\n",
    "    for step in tqdm(range(n_steps)):\n",
    "        svgd_fix.newkey()\n",
    "        bandwidth = update_bandwidth(svgd_fix.rkey, bandwidth, stepsize)\n",
    "        log.append(bandwidth)\n",
    "    return bandwidth, log"
   ]
  },
  {
   "cell_type": "markdown",
   "metadata": {},
   "source": [
    "# Experiments\n",
    "## 1\n",
    "* Plot KSD and grad(KSD) for bandwidths 0, ..., 10.000.\n",
    "* Optimize bandwidth, initializing at various points along the bandwidth grid.\n",
    "\n",
    "#### Note\n",
    "You're gonna get `NaN`s for your gradients as soon as the bandwidth is smaller than 0.25 (the gradient becomes very large). If you really want to, you can set JAX to use float64s,\n",
    "```\n",
    "from jax.config import config\n",
    "config.update(\"jax_enable_x64\", True)\n",
    "```\n",
    "in which case NaNs will start appearing once bandwidth is somewhere below 0.1, the gradient growing to something like $10^{259}$ shortly before that."
   ]
  },
  {
   "cell_type": "code",
   "execution_count": 5,
   "metadata": {},
   "outputs": [
    {
     "name": "stdout",
     "output_type": "stream",
     "text": [
      "JIT COMPILING...\n",
      "Done compiling in 0.40851879119873047 seconds.\n"
     ]
    },
    {
     "data": {
      "text/plain": [
       "DeviceArray(-0.00040539, dtype=float32)"
      ]
     },
     "execution_count": 5,
     "metadata": {},
     "output_type": "execute_result"
    }
   ],
   "source": [
    "svgd_fix.newkey()\n",
    "xout, _ = svgd_fix.svgd(svgd_fix.rkey, stepsize, bandwidth=1, n_iter=200)\n",
    "np.mean(xout)"
   ]
  },
  {
   "cell_type": "code",
   "execution_count": null,
   "metadata": {},
   "outputs": [
    {
     "name": "stdout",
     "output_type": "stream",
     "text": [
      "JIT COMPILING...\n",
      "Done compiling in 2.3838586807250977 seconds.\n"
     ]
    }
   ],
   "source": [
    "bandwidth_grid = np.logspace(-0.5, 3, num=20)\n",
    "losses = np.array([loss(rkey, h) for rkey, h in zip(random.split(svgd_fix.rkey, len(bandwidth_grid)), bandwidth_grid)])\n",
    "\n",
    "st = time.time()\n",
    "grad_losses = np.array([jacfwd(loss, argnums=1)(rkey, h) for rkey, h in zip(random.split(svgd_fix.rkey, len(bandwidth_grid)), bandwidth_grid)])\n",
    "end = time.time()\n",
    "print(end - st)"
   ]
  },
  {
   "cell_type": "code",
   "execution_count": null,
   "metadata": {},
   "outputs": [],
   "source": [
    "st = time.time()\n",
    "grad_losses2 = np.array([jacfwd(loss, argnums=1)(rkey, h) for rkey, h in zip(random.split(svgd_fix.rkey, len(bandwidth_grid)), bandwidth_grid)])\n",
    "end = time.time()\n",
    "print(end - st)"
   ]
  },
  {
   "cell_type": "code",
   "execution_count": 9,
   "metadata": {},
   "outputs": [
    {
     "name": "stderr",
     "output_type": "stream",
     "text": [
      "/home/lauro/.virtualenvs/msc-thesis/lib/python3.6/site-packages/matplotlib/ticker.py:2502: RuntimeWarning: overflow encountered in power\n",
      "  ticklocs = b ** decades\n",
      "/home/lauro/.virtualenvs/msc-thesis/lib/python3.6/site-packages/matplotlib/ticker.py:2345: RuntimeWarning: invalid value encountered in double_scalars\n",
      "  return abs(x - np.round(x)) < atol\n",
      "/home/lauro/.virtualenvs/msc-thesis/lib/python3.6/site-packages/matplotlib/ticker.py:1123: RuntimeWarning: invalid value encountered in double_scalars\n",
      "  coeff = round(x / b ** exponent)\n"
     ]
    },
    {
     "data": {
      "image/png": "[encoded data removed]",
      "text/plain": [
       "<Figure size 576x576 with 2 Axes>"
      ]
     },
     "metadata": {
      "needs_background": "light"
     },
     "output_type": "display_data"
    }
   ],
   "source": [
    "plt.figure(1, figsize=[8, 8])\n",
    "\n",
    "plt.subplot(211)\n",
    "plt.plot(bandwidth_grid, losses, \"r.\")\n",
    "plt.xlabel(\"h\")\n",
    "plt.ylabel(\"loss(h)\")\n",
    "plt.yscale(\"log\")\n",
    "plt.xscale(\"log\")\n",
    "\n",
    "plt.subplot(212)\n",
    "plt.plot(bandwidth_grid, grad_losses, \"g.\")\n",
    "plt.xlabel(\"h\")\n",
    "plt.ylabel(\"grad(loss)(h)\")\n",
    "plt.yscale(\"log\")\n",
    "plt.xscale(\"log\")"
   ]
  },
  {
   "cell_type": "code",
   "execution_count": 29,
   "metadata": {},
   "outputs": [
    {
     "ename": "NameError",
     "evalue": "name 'grad_losses2' is not defined",
     "output_type": "error",
     "traceback": [
      "\u001b[0;31m---------------------------------------------------------------------------\u001b[0m",
      "\u001b[0;31mNameError\u001b[0m                                 Traceback (most recent call last)",
      "\u001b[0;32m<ipython-input-29-209deab941f9>\u001b[0m in \u001b[0;36m<module>\u001b[0;34m\u001b[0m\n\u001b[1;32m      1\u001b[0m \u001b[0mplt\u001b[0m\u001b[0;34m.\u001b[0m\u001b[0mfigure\u001b[0m\u001b[0;34m(\u001b[0m\u001b[0;36m1\u001b[0m\u001b[0;34m,\u001b[0m \u001b[0mfigsize\u001b[0m\u001b[0;34m=\u001b[0m\u001b[0;34m[\u001b[0m\u001b[0;36m8\u001b[0m\u001b[0;34m,\u001b[0m \u001b[0;36m4\u001b[0m\u001b[0;34m]\u001b[0m\u001b[0;34m)\u001b[0m\u001b[0;34m\u001b[0m\u001b[0;34m\u001b[0m\u001b[0m\n\u001b[0;32m----> 2\u001b[0;31m \u001b[0mplt\u001b[0m\u001b[0;34m.\u001b[0m\u001b[0mplot\u001b[0m\u001b[0;34m(\u001b[0m\u001b[0mbandwidth_grid\u001b[0m\u001b[0;34m,\u001b[0m \u001b[0mgrad_losses2\u001b[0m\u001b[0;34m,\u001b[0m \u001b[0;34m\"b\"\u001b[0m\u001b[0;34m)\u001b[0m\u001b[0;34m\u001b[0m\u001b[0;34m\u001b[0m\u001b[0m\n\u001b[0m\u001b[1;32m      3\u001b[0m \u001b[0mplt\u001b[0m\u001b[0;34m.\u001b[0m\u001b[0mxlabel\u001b[0m\u001b[0;34m(\u001b[0m\u001b[0;34m\"h\"\u001b[0m\u001b[0;34m)\u001b[0m\u001b[0;34m\u001b[0m\u001b[0;34m\u001b[0m\u001b[0m\n\u001b[1;32m      4\u001b[0m \u001b[0mplt\u001b[0m\u001b[0;34m.\u001b[0m\u001b[0mylabel\u001b[0m\u001b[0;34m(\u001b[0m\u001b[0;34m\"grad(loss)(h)\"\u001b[0m\u001b[0;34m)\u001b[0m\u001b[0;34m\u001b[0m\u001b[0;34m\u001b[0m\u001b[0m\n\u001b[1;32m      5\u001b[0m \u001b[0mplt\u001b[0m\u001b[0;34m.\u001b[0m\u001b[0myscale\u001b[0m\u001b[0;34m(\u001b[0m\u001b[0;34m\"log\"\u001b[0m\u001b[0;34m)\u001b[0m\u001b[0;34m\u001b[0m\u001b[0;34m\u001b[0m\u001b[0m\n",
      "\u001b[0;31mNameError\u001b[0m: name 'grad_losses2' is not defined"
     ]
    },
    {
     "data": {
      "text/plain": [
       "<Figure size 576x288 with 0 Axes>"
      ]
     },
     "metadata": {},
     "output_type": "display_data"
    }
   ],
   "source": [
    "plt.figure(1, figsize=[8, 4])\n",
    "plt.plot(bandwidth_grid, grad_losses2, \"b.\")\n",
    "plt.xlabel(\"h\")\n",
    "plt.ylabel(\"grad(loss)(h)\")\n",
    "plt.yscale(\"log\")\n",
    "plt.xscale(\"log\")"
   ]
  },
  {
   "cell_type": "code",
   "execution_count": 14,
   "metadata": {},
   "outputs": [
    {
     "data": {
      "text/plain": [
       "DeviceArray([0.00396133, 0.0047191 , 0.00562182, 0.00669722, 0.00797833,\n",
       "             0.00950451, 0.01132263, 0.01348855, 0.01606878, 0.01914258,\n",
       "             0.02280438, 0.02716664, 0.03236336, 0.03855416, 0.0459292 ,\n",
       "             0.05471502, 0.06518149, 0.07765008], dtype=float64)"
      ]
     },
     "execution_count": 14,
     "metadata": {},
     "output_type": "execute_result"
    }
   ],
   "source": [
    "bandwidth_grid[np.isnan(grad_losses)]"
   ]
  },
  {
   "cell_type": "markdown",
   "metadata": {},
   "source": [
    "## Linear plots"
   ]
  },
  {
   "cell_type": "code",
   "execution_count": 16,
   "metadata": {},
   "outputs": [],
   "source": [
    "rkey = random.PRNGKey(0)\n",
    "\n",
    "bandwidth_grid = np.linspace(1, 7, num=100) # NaNs when h < 0.01\n",
    "sample_each_time = False"
   ]
  },
  {
   "cell_type": "code",
   "execution_count": 17,
   "metadata": {},
   "outputs": [
    {
     "name": "stdout",
     "output_type": "stream",
     "text": [
      "JIT COMPILING...\n",
      "Done compiling in 1.1541845798492432 seconds.\n",
      "33.416606187820435 seconds elapsed.\n",
      "JIT COMPILING...\n",
      "Done compiling in 4.511339426040649 seconds.\n",
      "72.17807793617249 seconds elapsed.\n"
     ]
    }
   ],
   "source": [
    "if sample_each_time:\n",
    "    rkeys = random.split(svgd_fix.rkey, len(bandwidth_grid))\n",
    "else:\n",
    "    rkeys = [rkey] * len(bandwidth_grid)\n",
    "\n",
    "st = time.time()\n",
    "losses = np.array([loss(rkey, h) for rkey, h in zip(rkeys, bandwidth_grid)])\n",
    "end = time.time()\n",
    "print(end - st, \"seconds elapsed.\")\n",
    "\n",
    "\n",
    "st = time.time()\n",
    "grad_losses = np.array([jacfwd(loss, argnums=1)(rkey, h) for rkey, h in zip(rkeys, bandwidth_grid)])\n",
    "end = time.time()\n",
    "print(end - st, \"seconds elapsed.\")"
   ]
  },
  {
   "cell_type": "code",
   "execution_count": 28,
   "metadata": {},
   "outputs": [
    {
     "data": {
      "text/plain": [
       "Text(0, 0.5, 'grad(loss)(h)')"
      ]
     },
     "execution_count": 28,
     "metadata": {},
     "output_type": "execute_result"
    },
    {
     "data": {
      "image/png": "[encoded data removed]",
      "text/plain": [
       "<Figure size 576x576 with 2 Axes>"
      ]
     },
     "metadata": {
      "needs_background": "light"
     },
     "output_type": "display_data"
    }
   ],
   "source": [
    "plt.figure(1, figsize=[8, 8])\n",
    "\n",
    "l = 2\n",
    "u = 100\n",
    "\n",
    "plt.subplot(211)\n",
    "plt.plot(bandwidth_grid[l:u], losses[l:u], \"r\")\n",
    "plt.xlabel(\"h\")\n",
    "plt.ylabel(\"loss(h)\")\n",
    "xlim = plt.axis()[:2]\n",
    "ylim = plt.axis()[2:]\n",
    "# plt.yscale(\"log\")\n",
    "\n",
    "plt.subplot(212)\n",
    "plt.plot(bandwidth_grid[l:u], grad_losses[l:u], \"g\")\n",
    "plt.xlabel(\"h\")\n",
    "plt.ylabel(\"grad(loss)(h)\")\n",
    "# plt.yscale(\"log\")\n",
    "\n",
    "# plt.xlim(xlim)\n",
    "# plt.ylim(ylim)"
   ]
  },
  {
   "cell_type": "code",
   "execution_count": 20,
   "metadata": {},
   "outputs": [
    {
     "data": {
      "text/plain": [
       "DeviceArray(False, dtype=bool)"
      ]
     },
     "execution_count": 20,
     "metadata": {},
     "output_type": "execute_result"
    }
   ],
   "source": [
    "np.any(np.isnan(grad_losses))"
   ]
  },
  {
   "cell_type": "markdown",
   "metadata": {},
   "source": [
    "## Do some gradient descent"
   ]
  },
  {
   "cell_type": "code",
   "execution_count": 13,
   "metadata": {},
   "outputs": [
    {
     "data": {
      "text/plain": [
       "DeviceArray(5.054671, dtype=float32)"
      ]
     },
     "execution_count": 13,
     "metadata": {},
     "output_type": "execute_result"
    }
   ],
   "source": [
    "opt_h[0]"
   ]
  },
  {
   "cell_type": "code",
   "execution_count": 26,
   "metadata": {},
   "outputs": [
    {
     "name": "stderr",
     "output_type": "stream",
     "text": [
      "100%|██████████| 100/100 [00:49<00:00,  2.00it/s]\n"
     ]
    },
    {
     "name": "stdout",
     "output_type": "stream",
     "text": [
      "0.9005224\n"
     ]
    }
   ],
   "source": [
    "h = 2.5\n",
    "opt_h, log1 = optimize_bandwidth(h, 0.1, n_steps=100)\n",
    "print(opt_h)"
   ]
  },
  {
   "cell_type": "code",
   "execution_count": 27,
   "metadata": {},
   "outputs": [
    {
     "data": {
      "text/plain": [
       "[<matplotlib.lines.Line2D at 0x7fdfd4250f28>]"
      ]
     },
     "execution_count": 27,
     "metadata": {},
     "output_type": "execute_result"
    },
    {
     "data": {
      "image/png": "[encoded data removed]",
      "text/plain": [
       "<Figure size 432x288 with 1 Axes>"
      ]
     },
     "metadata": {
      "needs_background": "light"
     },
     "output_type": "display_data"
    }
   ],
   "source": [
    "plt.plot(log1)"
   ]
  },
  {
   "cell_type": "code",
   "execution_count": 24,
   "metadata": {},
   "outputs": [
    {
     "name": "stderr",
     "output_type": "stream",
     "text": [
      "100%|██████████| 100/100 [00:48<00:00,  2.07it/s]\n"
     ]
    },
    {
     "name": "stdout",
     "output_type": "stream",
     "text": [
      "0.92745847\n"
     ]
    }
   ],
   "source": [
    "h = 3\n",
    "opt_h, log = optimize_bandwidth(h, 0.1, n_steps=100)\n",
    "print(opt_h)"
   ]
  },
  {
   "cell_type": "code",
   "execution_count": 25,
   "metadata": {},
   "outputs": [
    {
     "data": {
      "text/plain": [
       "[<matplotlib.lines.Line2D at 0x7fdfd42e8f28>]"
      ]
     },
     "execution_count": 25,
     "metadata": {},
     "output_type": "execute_result"
    },
    {
     "data": {
      "image/png": "[encoded data removed]",
      "text/plain": [
       "<Figure size 432x288 with 1 Axes>"
      ]
     },
     "metadata": {
      "needs_background": "light"
     },
     "output_type": "display_data"
    }
   ],
   "source": [
    "plt.plot(log)"
   ]
  },
  {
   "cell_type": "code",
   "execution_count": null,
   "metadata": {},
   "outputs": [],
   "source": []
  }
 ],
 "metadata": {
  "kernelspec": {
   "display_name": "msc-thesis",
   "language": "python",
   "name": "msc-thesis"
  },
  "language_info": {
   "codemirror_mode": {
    "name": "ipython",
    "version": 3
   },
   "file_extension": ".py",
   "mimetype": "text/x-python",
   "name": "python",
   "nbconvert_exporter": "python",
   "pygments_lexer": "ipython3",
   "version": "3.6.9"
  }
 },
 "nbformat": 4,
 "nbformat_minor": 4
}
