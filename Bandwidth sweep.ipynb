{
 "cells": [
  {
   "cell_type": "markdown",
   "metadata": {},
   "source": [
    "# One dim bandwidth sweep"
   ]
  },
  {
   "cell_type": "code",
   "execution_count": 1,
   "metadata": {},
   "outputs": [],
   "source": [
    "import jax.numpy as np\n",
    "from jax import grad, jit, vmap\n",
    "from jax import random\n",
    "import matplotlib as mpl\n",
    "import matplotlib.pyplot as plt\n",
    "\n",
    "from svgd import SVGD\n",
    "from utils import dict_concatenate, dict_mean\n",
    "from tqdm import tqdm\n",
    "from metrics import ksd"
   ]
  },
  {
   "cell_type": "code",
   "execution_count": 2,
   "metadata": {},
   "outputs": [],
   "source": [
    "n=100\n",
    "d=1\n",
    "stepsize = 0.01\n",
    "L = 100 # 100 slightly to little, this should be all right\n",
    "grid_length = 25"
   ]
  },
  {
   "cell_type": "code",
   "execution_count": 3,
   "metadata": {},
   "outputs": [
    {
     "name": "stderr",
     "output_type": "stream",
     "text": [
      "/home/lauro/.virtualenvs/msc-thesis/lib/python3.6/site-packages/jax/lax/lax.py:4670: UserWarning: Explicitly requested dtype float64 requested in asarray is not available, and will be truncated to dtype float32. To enable more dtypes, set the jax_enable_x64 configuration option or the JAX_ENABLE_X64 shell environment variable. See https://github.com/google/jax#current-gotchas for more.\n",
      "  warnings.warn(msg.format(dtype, fun_name , truncated_dtype))\n",
      "/home/lauro/.virtualenvs/msc-thesis/lib/python3.6/site-packages/jax/lax/lax.py:4670: UserWarning: Explicitly requested dtype float64 requested in array is not available, and will be truncated to dtype float32. To enable more dtypes, set the jax_enable_x64 configuration option or the JAX_ENABLE_X64 shell environment variable. See https://github.com/google/jax#current-gotchas for more.\n",
      "  warnings.warn(msg.format(dtype, fun_name , truncated_dtype))\n",
      "/home/lauro/.virtualenvs/msc-thesis/lib/python3.6/site-packages/jax/lib/xla_bridge.py:123: UserWarning: No GPU/TPU found, falling back to CPU.\n",
      "  warnings.warn('No GPU/TPU found, falling back to CPU.')\n"
     ]
    }
   ],
   "source": [
    "bandwidth_grid = np.logspace(-10, 15, num=grid_length, base=2)\n",
    "from utils import log_gaussian_mixture\n",
    "logp = lambda x: log_gaussian_mixture(x, means=[-2, 2], variances=[1, 1], weights=[1/3, 2/3])"
   ]
  },
  {
   "cell_type": "code",
   "execution_count": 4,
   "metadata": {},
   "outputs": [
    {
     "data": {
      "text/plain": [
       "[<matplotlib.lines.Line2D at 0x7fb4480d5128>]"
      ]
     },
     "execution_count": 4,
     "metadata": {},
     "output_type": "execute_result"
    },
    {
     "data": {
      "image/png": "[encoded data removed]",
      "text/plain": [
       "<Figure size 432x288 with 1 Axes>"
      ]
     },
     "metadata": {
      "needs_background": "light"
     },
     "output_type": "display_data"
    }
   ],
   "source": [
    "grid = np.linspace(-5, 5, 50)\n",
    "vlogp = vmap(logp)\n",
    "pdf = np.exp(vlogp(grid))\n",
    "plt.plot(grid, pdf)"
   ]
  },
  {
   "cell_type": "code",
   "execution_count": 5,
   "metadata": {},
   "outputs": [
    {
     "name": "stderr",
     "output_type": "stream",
     "text": [
      "/home/lauro/.virtualenvs/msc-thesis/lib/python3.6/site-packages/jax/lax/lax.py:4670: UserWarning: Explicitly requested dtype float64 requested in asarray is not available, and will be truncated to dtype float32. To enable more dtypes, set the jax_enable_x64 configuration option or the JAX_ENABLE_X64 shell environment variable. See https://github.com/google/jax#current-gotchas for more.\n",
      "  warnings.warn(msg.format(dtype, fun_name , truncated_dtype))\n",
      "/home/lauro/.virtualenvs/msc-thesis/lib/python3.6/site-packages/jax/lax/lax.py:4670: UserWarning: Explicitly requested dtype float64 requested in array is not available, and will be truncated to dtype float32. To enable more dtypes, set the jax_enable_x64 configuration option or the JAX_ENABLE_X64 shell environment variable. See https://github.com/google/jax#current-gotchas for more.\n",
      "  warnings.warn(msg.format(dtype, fun_name , truncated_dtype))\n"
     ]
    }
   ],
   "source": [
    "svgd_fix = SVGD(logp=logp, n_iter_max=L, adaptive_kernel=False, get_bandwidth=None)"
   ]
  },
  {
   "cell_type": "code",
   "execution_count": 6,
   "metadata": {},
   "outputs": [],
   "source": [
    "def get_metrics(xout):\n",
    "    \"\"\"\n",
    "    Compute metrics. One-dim case. Target p is gaussian mixture.\n",
    "    \"\"\"\n",
    "    assert xout.ndim == 2\n",
    "    assert xout.shape[1] == 1\n",
    "    assert not np.any(np.isnan(xout))\n",
    "    \n",
    "    mse1 = (np.mean(xout) - 2/3)**2\n",
    "    mse2 = (np.mean(xout**2) - 5)**2\n",
    "    w = random.normal(rkey, (1,))\n",
    "    mse3 = np.squeeze(np.mean(np.cos(w * xout)) - np.exp(-w**2 / 2))**2\n",
    "    \n",
    "    ksd_bandwidth = 1\n",
    "    metric1 = ksd(xout, logp, ksd_bandwidth)\n",
    "    \n",
    "    return [mse1, mse2, mse3, metric1]"
   ]
  },
  {
   "cell_type": "code",
   "execution_count": 7,
   "metadata": {},
   "outputs": [],
   "source": [
    "def get_metrics_dict(x0):\n",
    "    \"\"\"\n",
    "    Compute metrics in the dictionary. compare across bandwidth values in bandwidth_grid.\n",
    "    \n",
    "    Meant for case where x is one dimensional\n",
    "    \"\"\"\n",
    "    assert x0.shape[1] == 1\n",
    "    \n",
    "    metrics_dict = {\n",
    "        \"E[x]\": [],\n",
    "        \"E[x^2]\": [],\n",
    "        \"E[cos(wx)]\": [],\n",
    "        \"ksd\": []\n",
    "        }\n",
    "\n",
    "    for h in bandwidth_grid:\n",
    "        xout, log = svgd_fix.svgd(x=x0, stepsize=stepsize, bandwidth=h, n_iter=L)\n",
    "        metrics = get_metrics(xout)\n",
    "\n",
    "        for i, k in enumerate(metrics_dict.keys()):\n",
    "            metrics_dict[k].append(metrics[i])\n",
    "    \n",
    "    for k, v in metrics_dict.items():\n",
    "        metrics_dict[k] = np.array(v)\n",
    "            \n",
    "    return metrics_dict"
   ]
  },
  {
   "cell_type": "code",
   "execution_count": 8,
   "metadata": {},
   "outputs": [
    {
     "name": "stderr",
     "output_type": "stream",
     "text": [
      "  0%|          | 0/10 [00:00<?, ?it/s]"
     ]
    },
    {
     "name": "stdout",
     "output_type": "stream",
     "text": [
      "COMPILING\n"
     ]
    },
    {
     "name": "stderr",
     "output_type": "stream",
     "text": [
      "100%|██████████| 10/10 [01:05<00:00,  6.55s/it]\n"
     ]
    }
   ],
   "source": [
    "m = 10\n",
    "metrics_dicts = []\n",
    "for seed in tqdm(range(m)):\n",
    "#     print(seed)\n",
    "    rkey = random.PRNGKey(seed)\n",
    "    x0 = random.normal(rkey, shape=(n, d)) - 10\n",
    "    metrics_dict = get_metrics_dict(x0)\n",
    "    metrics_dicts.append(metrics_dict)"
   ]
  },
  {
   "cell_type": "code",
   "execution_count": 9,
   "metadata": {},
   "outputs": [],
   "source": [
    "mse_dict = dict_mean(metrics_dicts)"
   ]
  },
  {
   "cell_type": "code",
   "execution_count": 10,
   "metadata": {},
   "outputs": [
    {
     "data": {
      "image/png": "[encoded data removed]",
      "text/plain": [
       "<Figure size 432x720 with 4 Axes>"
      ]
     },
     "metadata": {
      "needs_background": "light"
     },
     "output_type": "display_data"
    }
   ],
   "source": [
    "mpl.rcParams['figure.figsize'] = [6.0, 10.0]\n",
    "plt.subplots_adjust(hspace=0.8)\n",
    "col = [\"r\", \"b\", \"g\", \"y\", \"p\", \"bl\", \"r\"]\n",
    "mlen = len(mse_dict)\n",
    "for i, key in enumerate(mse_dict.keys()):\n",
    "    plt.subplot(f\"{mlen}1{i+1}\")\n",
    "    plt.title(key)\n",
    "    plt.plot(bandwidth_grid, mse_dict[key], col[i])\n",
    "    plt.xscale('log')\n",
    "    plt.yscale('log')"
   ]
  },
  {
   "cell_type": "code",
   "execution_count": 11,
   "metadata": {},
   "outputs": [
    {
     "name": "stdout",
     "output_type": "stream",
     "text": [
      "COMPILING\n",
      "[DeviceArray(0.15472594, dtype=float32), DeviceArray(0.02558744, dtype=float32), DeviceArray(0.08533147, dtype=float32), DeviceArray(0.2837603, dtype=float32)]\n"
     ]
    }
   ],
   "source": [
    "x0 = random.normal(rkey, shape=(n, d)) - 10\n",
    "xout, log = svgd_fix.svgd(x=x0, stepsize=stepsize, bandwidth=1, n_iter=L)\n",
    "mses = get_metrics(xout)\n",
    "print(mses)"
   ]
  },
  {
   "cell_type": "code",
   "execution_count": 12,
   "metadata": {},
   "outputs": [
    {
     "data": {
      "image/png": "[encoded data removed]",
      "text/plain": [
       "<Figure size 432x720 with 1 Axes>"
      ]
     },
     "metadata": {
      "needs_background": "light"
     },
     "output_type": "display_data"
    }
   ],
   "source": [
    "plt.figure(1)\n",
    "_ = plt.hist(x0[:, 0], density=True)\n",
    "_ = plt.hist(xout[:, 0], density=True)"
   ]
  },
  {
   "cell_type": "code",
   "execution_count": 13,
   "metadata": {},
   "outputs": [],
   "source": [
    "# mpl.rcParams['figure.figsize'] = [6.0, 6.0]\n",
    "# plt.subplots_adjust(hspace=0.8)\n",
    "# col = [\"r\", \"b\", \"g\"]\n",
    "# for i, metric in enumerate(mses):\n",
    "#     plt.subplot(f\"31{i+1}\")\n",
    "#     plt.title(metric)\n",
    "#     plt.plot(bandwidth_grid, metric, col[i])\n",
    "#     plt.xscale('log')\n",
    "#     plt.yscale('log')"
   ]
  },
  {
   "cell_type": "markdown",
   "metadata": {},
   "source": [
    "# same thing, but in two dims"
   ]
  },
  {
   "cell_type": "code",
   "execution_count": 14,
   "metadata": {},
   "outputs": [],
   "source": [
    "n=100\n",
    "d=2\n",
    "stepsize = 0.01\n",
    "L = 100\n",
    "grid_length = 25"
   ]
  },
  {
   "cell_type": "code",
   "execution_count": 15,
   "metadata": {},
   "outputs": [
    {
     "name": "stderr",
     "output_type": "stream",
     "text": [
      "/home/lauro/.virtualenvs/msc-thesis/lib/python3.6/site-packages/jax/lax/lax.py:4670: UserWarning: Explicitly requested dtype float64 requested in asarray is not available, and will be truncated to dtype float32. To enable more dtypes, set the jax_enable_x64 configuration option or the JAX_ENABLE_X64 shell environment variable. See https://github.com/google/jax#current-gotchas for more.\n",
      "  warnings.warn(msg.format(dtype, fun_name , truncated_dtype))\n",
      "/home/lauro/.virtualenvs/msc-thesis/lib/python3.6/site-packages/jax/lax/lax.py:4670: UserWarning: Explicitly requested dtype float64 requested in array is not available, and will be truncated to dtype float32. To enable more dtypes, set the jax_enable_x64 configuration option or the JAX_ENABLE_X64 shell environment variable. See https://github.com/google/jax#current-gotchas for more.\n",
      "  warnings.warn(msg.format(dtype, fun_name , truncated_dtype))\n"
     ]
    }
   ],
   "source": [
    "bandwidth_grid = np.logspace(-10, 15, num=grid_length, base=2)\n",
    "bandwidth_grid = bandwidth_grid[:, np.newaxis]\n",
    "for _ in range(d-1):\n",
    "    bandwidth_grid = np.concatenate([bandwidth_grid, np.ones((grid_length, 1))], axis=1)\n",
    "bandwidth_grid.shape\n",
    "\n",
    "from jax.scipy.stats import norm\n",
    "\n",
    "@jit\n",
    "def logp(x):\n",
    "    \"\"\"\n",
    "    IN: single scalar np array x. alternatively, [x] works too\n",
    "    OUT: scalar logp(x)\n",
    "    \"\"\"\n",
    "    return np.squeeze(np.sum(norm.logpdf(x, loc=0, scale=1)))\n",
    "\n",
    "svgd_fix = SVGD(logp=logp, n_iter_max=L, adaptive_kernel=False, get_bandwidth=None)"
   ]
  },
  {
   "cell_type": "code",
   "execution_count": 16,
   "metadata": {},
   "outputs": [],
   "source": [
    "def get_mse_dict2(x0):\n",
    "    mse_dict = {\n",
    "        \"E[x]\": [],\n",
    "        \"E[x^2]\": [],\n",
    "        \"ksd\": []\n",
    "        }\n",
    "    for h in bandwidth_grid:\n",
    "        xout, log = svgd_fix.svgd(x=x0, stepsize=stepsize, bandwidth=h, n_iter=L)\n",
    "        assert not np.any(np.isnan(xout))\n",
    "\n",
    "        mse1 = (np.mean(xout, axis=0) - 0)**2\n",
    "        mse2 = (np.mean(xout**2, axis=0) - 1)**2\n",
    "#         w = random.normal(rkey, (1,))\n",
    "#         mse3 = (np.mean(np.cos(w * xout), axis=0) - np.exp(-w**2 / 2))**2\n",
    "#         mses = [mse1, mse2, mse3]\n",
    "\n",
    "        ksd_bandwidth = 1\n",
    "        metric1 = ksd(xout, logp, ksd_bandwidth)\n",
    "        \n",
    "        mses = [mse1, mse2, metric1]\n",
    "\n",
    "        for i, k in enumerate(mse_dict.keys()):\n",
    "            mse_dict[k].append(mses[i])\n",
    "    \n",
    "    for k, v in mse_dict.items():\n",
    "        mse_dict[k] = np.array(v)\n",
    "            \n",
    "    return mse_dict"
   ]
  },
  {
   "cell_type": "code",
   "execution_count": 17,
   "metadata": {},
   "outputs": [
    {
     "name": "stderr",
     "output_type": "stream",
     "text": [
      "  0%|          | 0/10 [00:00<?, ?it/s]"
     ]
    },
    {
     "name": "stdout",
     "output_type": "stream",
     "text": [
      "COMPILING\n"
     ]
    },
    {
     "name": "stderr",
     "output_type": "stream",
     "text": [
      "100%|██████████| 10/10 [01:04<00:00,  6.42s/it]\n"
     ]
    }
   ],
   "source": [
    "m = 10\n",
    "mse_dicts2 = []\n",
    "for seed in tqdm(range(m)):\n",
    "#     print(seed)\n",
    "    rkey = random.PRNGKey(seed)\n",
    "    x0 = random.normal(rkey, shape=(n, d)) - 10\n",
    "    mse_dict = get_mse_dict2(x0)\n",
    "    mse_dicts2.append(mse_dict)"
   ]
  },
  {
   "cell_type": "code",
   "execution_count": 18,
   "metadata": {},
   "outputs": [],
   "source": [
    "mse_dict2 = dict_mean(mse_dicts2)"
   ]
  },
  {
   "cell_type": "code",
   "execution_count": 19,
   "metadata": {},
   "outputs": [
    {
     "data": {
      "image/png": "[encoded data removed]",
      "text/plain": [
       "<Figure size 576x576 with 3 Axes>"
      ]
     },
     "metadata": {
      "needs_background": "light"
     },
     "output_type": "display_data"
    }
   ],
   "source": [
    "mpl.rcParams['figure.figsize'] = [8.0, 8.0]\n",
    "plt.subplots_adjust(hspace=0.8)\n",
    "col = [\"r\", \"b\", \"g\", \"y\"]\n",
    "l = len(mse_dict2)\n",
    "for i, key in enumerate(mse_dict.keys()):\n",
    "    plt.subplot(f\"{l}1{i+1}\")\n",
    "    plt.title(key)\n",
    "    plt.plot(bandwidth_grid[:, 0], mse_dict[key], \".\", col[i])\n",
    "    plt.xscale('log')\n",
    "    plt.yscale('log')"
   ]
  },
  {
   "cell_type": "markdown",
   "metadata": {},
   "source": [
    "# multidim random grid search"
   ]
  },
  {
   "cell_type": "code",
   "execution_count": 20,
   "metadata": {},
   "outputs": [
    {
     "name": "stderr",
     "output_type": "stream",
     "text": [
      "/home/lauro/.virtualenvs/msc-thesis/lib/python3.6/site-packages/jax/lax/lax.py:4670: UserWarning: Explicitly requested dtype float64 requested in asarray is not available, and will be truncated to dtype float32. To enable more dtypes, set the jax_enable_x64 configuration option or the JAX_ENABLE_X64 shell environment variable. See https://github.com/google/jax#current-gotchas for more.\n",
      "  warnings.warn(msg.format(dtype, fun_name , truncated_dtype))\n",
      "/home/lauro/.virtualenvs/msc-thesis/lib/python3.6/site-packages/jax/lax/lax.py:4670: UserWarning: Explicitly requested dtype float64 requested in array is not available, and will be truncated to dtype float32. To enable more dtypes, set the jax_enable_x64 configuration option or the JAX_ENABLE_X64 shell environment variable. See https://github.com/google/jax#current-gotchas for more.\n",
      "  warnings.warn(msg.format(dtype, fun_name , truncated_dtype))\n"
     ]
    }
   ],
   "source": [
    "stepsize = 0.01\n",
    "L = 1000\n",
    "key = random.PRNGKey(0)\n",
    "kernel_param_grid_old = np.logspace(-10, 15, num=25, base=2) # params smaller than 2^10 are generally awful\n",
    "\n",
    "kernel_param_grid = random.uniform(key, shape=(25, d)) * 25 - 10\n",
    "kernel_param_grid = 2**kernel_param_grid\n",
    "kernel_param_grid = kernel_param_grid[kernel_param_grid[:, 0].argsort()]"
   ]
  }
 ],
 "metadata": {
  "kernelspec": {
   "display_name": "msc-thesis",
   "language": "python",
   "name": "msc-thesis"
  },
  "language_info": {
   "codemirror_mode": {
    "name": "ipython",
    "version": 3
   },
   "file_extension": ".py",
   "mimetype": "text/x-python",
   "name": "python",
   "nbconvert_exporter": "python",
   "pygments_lexer": "ipython3",
   "version": "3.6.9"
  }
 },
 "nbformat": 4,
 "nbformat_minor": 4
}
