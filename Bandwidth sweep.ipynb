{
 "cells": [
  {
   "cell_type": "markdown",
   "metadata": {},
   "source": [
    "# One-dimensional bandwidth sweep"
   ]
  },
  {
   "cell_type": "code",
   "execution_count": 1,
   "metadata": {},
   "outputs": [],
   "source": [
    "import jax.numpy as np\n",
    "from jax import grad, jit, vmap\n",
    "from jax import random\n",
    "from jax.scipy.stats import norm\n",
    "\n",
    "import matplotlib as mpl\n",
    "import matplotlib.pyplot as plt\n",
    "\n",
    "from svgd import SVGD\n",
    "from utils import dict_concatenate, dict_mean\n",
    "from tqdm import tqdm\n",
    "\n",
    "import metrics\n",
    "import utils\n",
    "import plot"
   ]
  },
  {
   "cell_type": "code",
   "execution_count": 2,
   "metadata": {},
   "outputs": [
    {
     "name": "stderr",
     "output_type": "stream",
     "text": [
      "/home/lauro/.virtualenvs/msc-thesis/lib/python3.6/site-packages/jax/lib/xla_bridge.py:123: UserWarning: No GPU/TPU found, falling back to CPU.\n",
      "  warnings.warn('No GPU/TPU found, falling back to CPU.')\n"
     ]
    }
   ],
   "source": [
    "n=100\n",
    "d=1\n",
    "stepsize = 0.01\n",
    "L = 100 # 100 slightly to little, this should be all right\n",
    "grid_length = 50\n",
    "\n",
    "dist = metrics.GaussianMixture([-2, 2], [1, 1], [1/3, 2/3])\n",
    "\n",
    "svgd_fix = SVGD(dist, n_iter_max=L, adaptive_kernel=False)\n",
    "svgd_ada = SVGD(dist, n_iter_max=L, adaptive_kernel=True)\n",
    "\n",
    "bandwidth_grid = np.linspace(0.4, 7, num=grid_length)\n",
    "# bandwidth_grid = np.logspace(-1.5, 5, num=grid_length)"
   ]
  },
  {
   "cell_type": "code",
   "execution_count": 3,
   "metadata": {},
   "outputs": [],
   "source": [
    "def sweep(rkey, grid):\n",
    "    \"\"\"Sweep a grid of bandwidth values and output corresponding metrics.\"\"\"\n",
    "    sweep_results = []\n",
    "    for h in tqdm(grid):\n",
    "        x0 = svgd_fix.initialize(rkey, n)\n",
    "        xout, _ = svgd_fix.svgd(x0, stepsize, h, L)\n",
    "        metrics = dist.compute_metrics(xout)\n",
    "        sweep_results.append(metrics)\n",
    "    return {k: np.stack([metrics[k] for metrics in sweep_results], axis=0) for k in dist.metric_names.keys()}\n",
    "# entries in dict have shapes (k, 3, d) and (k, 3)"
   ]
  },
  {
   "cell_type": "code",
   "execution_count": 4,
   "metadata": {},
   "outputs": [
    {
     "name": "stderr",
     "output_type": "stream",
     "text": [
      "  0%|          | 0/50 [00:00<?, ?it/s]"
     ]
    },
    {
     "name": "stdout",
     "output_type": "stream",
     "text": [
      "JIT COMPILING svgd...\n",
      "...done compiling svgd after 0.7280747890472412 seconds.\n"
     ]
    },
    {
     "name": "stderr",
     "output_type": "stream",
     "text": [
      "100%|██████████| 50/50 [00:07<00:00,  6.83it/s]\n",
      "100%|██████████| 50/50 [00:01<00:00, 46.84it/s]\n",
      "100%|██████████| 50/50 [00:01<00:00, 41.90it/s]\n",
      "100%|██████████| 50/50 [00:01<00:00, 43.43it/s]\n",
      "100%|██████████| 50/50 [00:01<00:00, 49.11it/s]\n",
      "100%|██████████| 50/50 [00:01<00:00, 48.53it/s]\n",
      "100%|██████████| 50/50 [00:01<00:00, 46.83it/s]\n",
      "100%|██████████| 50/50 [00:01<00:00, 49.36it/s]\n",
      "100%|██████████| 50/50 [00:01<00:00, 44.28it/s]\n",
      "100%|██████████| 50/50 [00:01<00:00, 46.93it/s]\n"
     ]
    }
   ],
   "source": [
    "m = 10\n",
    "metrics_sweep = []\n",
    "sweeps = []\n",
    "for i in range(m):\n",
    "#     print(f\"Sweep {i+1} of {m}\")\n",
    "    svgd_fix.newkey()\n",
    "    s = sweep(svgd_fix.rkey, bandwidth_grid)\n",
    "    sweeps.append(s)"
   ]
  },
  {
   "cell_type": "code",
   "execution_count": 5,
   "metadata": {},
   "outputs": [],
   "source": [
    "sweeps = dict_mean(sweeps)"
   ]
  },
  {
   "cell_type": "markdown",
   "metadata": {},
   "source": [
    "Then get the same metrics for the adaptive bandwidth:"
   ]
  },
  {
   "cell_type": "code",
   "execution_count": 6,
   "metadata": {},
   "outputs": [
    {
     "name": "stdout",
     "output_type": "stream",
     "text": [
      "JIT COMPILING svgd...\n",
      "...done compiling svgd after 0.49591660499572754 seconds.\n"
     ]
    }
   ],
   "source": [
    "adas = []\n",
    "for _ in range(m):\n",
    "    x0 = svgd_ada.initialize(n=n)\n",
    "#     svgd_ada.newkey()\n",
    "    xout, _ = svgd_ada.svgd(x0, stepsize, 0, L)\n",
    "    metrics_ada = dist.compute_metrics(xout)\n",
    "    adas.append(metrics_ada)\n",
    "adas = dict_mean(adas)"
   ]
  },
  {
   "cell_type": "markdown",
   "metadata": {},
   "source": [
    "Now get same metrics for true random sample:"
   ]
  },
  {
   "cell_type": "code",
   "execution_count": 7,
   "metadata": {},
   "outputs": [],
   "source": [
    "m = 100"
   ]
  },
  {
   "cell_type": "code",
   "execution_count": 8,
   "metadata": {},
   "outputs": [],
   "source": [
    "true = []\n",
    "for _ in range(m):\n",
    "    sample = dist.sample(shape=(n,d))\n",
    "    true_metrics = dist.compute_metrics(sample)\n",
    "    true.append(true_metrics)\n",
    "true = dict_mean(true)"
   ]
  },
  {
   "cell_type": "code",
   "execution_count": 9,
   "metadata": {},
   "outputs": [
    {
     "data": {
      "text/plain": [
       "{'square_errors': DeviceArray([[0.04584731],\n",
       "              [0.17661822],\n",
       "              [0.00332431],\n",
       "              [0.00429959]], dtype=float32),\n",
       " 'ksds': DeviceArray([97.342224 ,  1.7476947,  0.7715106], dtype=float32)}"
      ]
     },
     "execution_count": 9,
     "metadata": {},
     "output_type": "execute_result"
    }
   ],
   "source": [
    "true"
   ]
  },
  {
   "cell_type": "code",
   "execution_count": 10,
   "metadata": {},
   "outputs": [
    {
     "data": {
      "image/png": "[encoded data removed]",
      "text/plain": [
       "<Figure size 2160x374.4 with 4 Axes>"
      ]
     },
     "metadata": {
      "needs_background": "light"
     },
     "output_type": "display_data"
    },
    {
     "data": {
      "image/png": "[encoded data removed]",
      "text/plain": [
       "<Figure size 1728x180 with 3 Axes>"
      ]
     },
     "metadata": {
      "needs_background": "light"
     },
     "output_type": "display_data"
    }
   ],
   "source": [
    "for k, v in sweeps.items():\n",
    "    plot.plotobject(np.rollaxis(v, axis=1), xaxis=bandwidth_grid, titles=dist.metric_names[k], \n",
    "                    xscale=\"linear\", xlabel=\"bandwidth\", axhlines=true[k])"
   ]
  },
  {
   "cell_type": "markdown",
   "metadata": {},
   "source": [
    "# Two-dimensional bandwidth sweep"
   ]
  },
  {
   "cell_type": "markdown",
   "metadata": {},
   "source": [
    "For bandwidth values $(h, h)$ with $h$ in the range $10-100$ we get very bad results: MSE and KSD values larger than $10^3$."
   ]
  },
  {
   "cell_type": "code",
   "execution_count": 11,
   "metadata": {},
   "outputs": [],
   "source": [
    "n=100\n",
    "d=2\n",
    "stepsize = 0.01\n",
    "L = 100\n",
    "grid_length = 25"
   ]
  },
  {
   "cell_type": "code",
   "execution_count": 12,
   "metadata": {},
   "outputs": [],
   "source": [
    "mean = np.array([1,2])\n",
    "cov = np.array([[1,1], [1, 2]])\n",
    "dist = metrics.Gaussian(mean, cov)\n",
    "\n",
    "svgd_fix = SVGD(dist, n_iter_max=L, adaptive_kernel=False)\n",
    "svgd_ada = SVGD(dist, n_iter_max=L, adaptive_kernel=True)"
   ]
  },
  {
   "cell_type": "code",
   "execution_count": 13,
   "metadata": {},
   "outputs": [
    {
     "data": {
      "text/plain": [
       "(25, 2)"
      ]
     },
     "execution_count": 13,
     "metadata": {},
     "output_type": "execute_result"
    }
   ],
   "source": [
    "# bandwidth_grid = np.logspace(-3, 5, num=grid_length)\n",
    "# bandwidth_grid = np.logspace(-0.5, 2, num=grid_length)\n",
    "bandwidth_grid = np.linspace(0.3, 2.5, num=grid_length)\n",
    "ksd_bandwidths = [0.5, 0.8, 1, 1.5, 2, 2.5]\n",
    "metric_names = [\"MSE X\"] +  [f\"KSD {h}\" for h in ksd_bandwidths]\n",
    "\n",
    "\n",
    "bandwidth_grid = np.tile(bandwidth_grid, (d, 1))\n",
    "bandwidth_grid = np.transpose(bandwidth_grid)\n",
    "bandwidth_grid.shape"
   ]
  },
  {
   "cell_type": "code",
   "execution_count": 14,
   "metadata": {},
   "outputs": [
    {
     "name": "stderr",
     "output_type": "stream",
     "text": [
      "  0%|          | 0/25 [00:00<?, ?it/s]"
     ]
    },
    {
     "name": "stdout",
     "output_type": "stream",
     "text": [
      "JIT COMPILING svgd...\n",
      "...done compiling svgd after 0.6949508190155029 seconds.\n"
     ]
    },
    {
     "name": "stderr",
     "output_type": "stream",
     "text": [
      "100%|██████████| 25/25 [00:11<00:00,  2.20it/s]\n",
      "100%|██████████| 25/25 [00:01<00:00, 21.79it/s]\n",
      "100%|██████████| 25/25 [00:01<00:00, 21.31it/s]\n",
      "100%|██████████| 25/25 [00:01<00:00, 21.75it/s]\n",
      "100%|██████████| 25/25 [00:01<00:00, 22.04it/s]\n",
      "100%|██████████| 25/25 [00:01<00:00, 21.90it/s]\n",
      "100%|██████████| 25/25 [00:01<00:00, 21.80it/s]\n",
      "100%|██████████| 25/25 [00:01<00:00, 21.54it/s]\n",
      "100%|██████████| 25/25 [00:01<00:00, 21.86it/s]\n",
      "100%|██████████| 25/25 [00:01<00:00, 21.65it/s]\n"
     ]
    }
   ],
   "source": [
    "m = 10\n",
    "metrics_sweep = []\n",
    "sweeps = []\n",
    "for i in range(m):\n",
    "    svgd_fix.newkey()\n",
    "    s = sweep(svgd_fix.rkey, bandwidth_grid)\n",
    "    sweeps.append(s)"
   ]
  },
  {
   "cell_type": "code",
   "execution_count": 15,
   "metadata": {},
   "outputs": [],
   "source": [
    "sweeps = dict_mean(sweeps)"
   ]
  },
  {
   "cell_type": "markdown",
   "metadata": {},
   "source": [
    "Then get the same metrics for the adaptive bandwidth:"
   ]
  },
  {
   "cell_type": "code",
   "execution_count": 16,
   "metadata": {},
   "outputs": [
    {
     "name": "stdout",
     "output_type": "stream",
     "text": [
      "JIT COMPILING svgd...\n",
      "...done compiling svgd after 0.2757375240325928 seconds.\n"
     ]
    }
   ],
   "source": [
    "adas = []\n",
    "for _ in range(m):\n",
    "    x0 = svgd_ada.initialize(n=n)\n",
    "    xout, _ = svgd_ada.svgd(x0, stepsize, 0, L)\n",
    "    metrics_ada = dist.compute_metrics(xout)\n",
    "    adas.append(metrics_ada)\n",
    "adas = dict_mean(adas)"
   ]
  },
  {
   "cell_type": "markdown",
   "metadata": {},
   "source": [
    "Now get same metrics for true random sample:"
   ]
  },
  {
   "cell_type": "code",
   "execution_count": 17,
   "metadata": {},
   "outputs": [],
   "source": [
    "m = 100"
   ]
  },
  {
   "cell_type": "code",
   "execution_count": 18,
   "metadata": {},
   "outputs": [
    {
     "data": {
      "text/plain": [
       "2"
      ]
     },
     "execution_count": 18,
     "metadata": {},
     "output_type": "execute_result"
    }
   ],
   "source": [
    "dist.d"
   ]
  },
  {
   "cell_type": "code",
   "execution_count": 19,
   "metadata": {},
   "outputs": [],
   "source": [
    "true = []\n",
    "for _ in range(m):\n",
    "    sample = dist.sample(shape=(n,))\n",
    "    true_metrics = dist.compute_metrics(sample)\n",
    "    true.append(true_metrics)\n",
    "true = dict_mean(true)"
   ]
  },
  {
   "cell_type": "code",
   "execution_count": 20,
   "metadata": {},
   "outputs": [
    {
     "ename": "KeyError",
     "evalue": "0",
     "output_type": "error",
     "traceback": [
      "\u001b[0;31m---------------------------------------------------------------------------\u001b[0m",
      "\u001b[0;31mKeyError\u001b[0m                                  Traceback (most recent call last)",
      "\u001b[0;32m<ipython-input-20-56554034241d>\u001b[0m in \u001b[0;36m<module>\u001b[0;34m\u001b[0m\n\u001b[0;32m----> 1\u001b[0;31m \u001b[0msweeps\u001b[0m \u001b[0;34m=\u001b[0m \u001b[0mdict_mean\u001b[0m\u001b[0;34m(\u001b[0m\u001b[0msweeps\u001b[0m\u001b[0;34m)\u001b[0m\u001b[0;34m\u001b[0m\u001b[0;34m\u001b[0m\u001b[0m\n\u001b[0m",
      "\u001b[0;32m~/code/msc-thesis/svgd/utils.py\u001b[0m in \u001b[0;36mdict_mean\u001b[0;34m(dict_list)\u001b[0m\n\u001b[1;32m    237\u001b[0m     \u001b[0marrays\u001b[0m \u001b[0mconsisting\u001b[0m \u001b[0mof\u001b[0m \u001b[0mthe\u001b[0m \u001b[0mmean\u001b[0m \u001b[0mof\u001b[0m \u001b[0mthe\u001b[0m \u001b[0mvalues\u001b[0m \u001b[0;32min\u001b[0m \u001b[0mthe\u001b[0m \u001b[0minput\u001b[0m \u001b[0mdictionaries\u001b[0m\u001b[0;34m.\u001b[0m\u001b[0;34m\u001b[0m\u001b[0;34m\u001b[0m\u001b[0m\n\u001b[1;32m    238\u001b[0m     \"\"\"\n\u001b[0;32m--> 239\u001b[0;31m     \u001b[0mout\u001b[0m \u001b[0;34m=\u001b[0m \u001b[0mdict_concatenate\u001b[0m\u001b[0;34m(\u001b[0m\u001b[0mdict_list\u001b[0m\u001b[0;34m)\u001b[0m\u001b[0;34m\u001b[0m\u001b[0;34m\u001b[0m\u001b[0m\n\u001b[0m\u001b[1;32m    240\u001b[0m     \u001b[0;32mfor\u001b[0m \u001b[0mk\u001b[0m\u001b[0;34m,\u001b[0m \u001b[0mv\u001b[0m \u001b[0;32min\u001b[0m \u001b[0mout\u001b[0m\u001b[0;34m.\u001b[0m\u001b[0mitems\u001b[0m\u001b[0;34m(\u001b[0m\u001b[0;34m)\u001b[0m\u001b[0;34m:\u001b[0m\u001b[0;34m\u001b[0m\u001b[0;34m\u001b[0m\u001b[0m\n\u001b[1;32m    241\u001b[0m         \u001b[0mout\u001b[0m\u001b[0;34m[\u001b[0m\u001b[0mk\u001b[0m\u001b[0;34m]\u001b[0m \u001b[0;34m=\u001b[0m \u001b[0mnp\u001b[0m\u001b[0;34m.\u001b[0m\u001b[0mmean\u001b[0m\u001b[0;34m(\u001b[0m\u001b[0mv\u001b[0m\u001b[0;34m,\u001b[0m \u001b[0maxis\u001b[0m \u001b[0;34m=\u001b[0m \u001b[0;36m0\u001b[0m\u001b[0;34m)\u001b[0m\u001b[0;34m\u001b[0m\u001b[0;34m\u001b[0m\u001b[0m\n",
      "\u001b[0;32m~/code/msc-thesis/svgd/utils.py\u001b[0m in \u001b[0;36mdict_concatenate\u001b[0;34m(dict_list)\u001b[0m\n\u001b[1;32m    218\u001b[0m     \u001b[0marrays\u001b[0m \u001b[0mconsisting\u001b[0m \u001b[0mof\u001b[0m \u001b[0mthe\u001b[0m \u001b[0mconcatenation\u001b[0m \u001b[0mof\u001b[0m \u001b[0mthe\u001b[0m \u001b[0mvalues\u001b[0m \u001b[0;32min\u001b[0m \u001b[0mthe\u001b[0m \u001b[0minput\u001b[0m \u001b[0mdictionaries\u001b[0m\u001b[0;34m.\u001b[0m\u001b[0;34m\u001b[0m\u001b[0;34m\u001b[0m\u001b[0m\n\u001b[1;32m    219\u001b[0m     \"\"\"\n\u001b[0;32m--> 220\u001b[0;31m     \u001b[0;32massert\u001b[0m \u001b[0mall\u001b[0m\u001b[0;34m(\u001b[0m\u001b[0;34m[\u001b[0m\u001b[0mdict_list\u001b[0m\u001b[0;34m[\u001b[0m\u001b[0mi\u001b[0m\u001b[0;34m]\u001b[0m\u001b[0;34m.\u001b[0m\u001b[0mkeys\u001b[0m\u001b[0;34m(\u001b[0m\u001b[0;34m)\u001b[0m \u001b[0;34m==\u001b[0m \u001b[0mdict_list\u001b[0m\u001b[0;34m[\u001b[0m\u001b[0mi\u001b[0m\u001b[0;34m+\u001b[0m\u001b[0;36m1\u001b[0m\u001b[0;34m]\u001b[0m\u001b[0;34m.\u001b[0m\u001b[0mkeys\u001b[0m\u001b[0;34m(\u001b[0m\u001b[0;34m)\u001b[0m \u001b[0;32mfor\u001b[0m \u001b[0mi\u001b[0m \u001b[0;32min\u001b[0m \u001b[0mrange\u001b[0m\u001b[0;34m(\u001b[0m\u001b[0mlen\u001b[0m\u001b[0;34m(\u001b[0m\u001b[0mdict_list\u001b[0m\u001b[0;34m)\u001b[0m\u001b[0;34m-\u001b[0m\u001b[0;36m1\u001b[0m\u001b[0;34m)\u001b[0m\u001b[0;34m]\u001b[0m\u001b[0;34m)\u001b[0m\u001b[0;34m\u001b[0m\u001b[0;34m\u001b[0m\u001b[0m\n\u001b[0m\u001b[1;32m    221\u001b[0m \u001b[0;34m\u001b[0m\u001b[0m\n\u001b[1;32m    222\u001b[0m     \u001b[0mkeys\u001b[0m \u001b[0;34m=\u001b[0m \u001b[0mdict_list\u001b[0m\u001b[0;34m[\u001b[0m\u001b[0;36m0\u001b[0m\u001b[0;34m]\u001b[0m\u001b[0;34m.\u001b[0m\u001b[0mkeys\u001b[0m\u001b[0;34m(\u001b[0m\u001b[0;34m)\u001b[0m\u001b[0;34m\u001b[0m\u001b[0;34m\u001b[0m\u001b[0m\n",
      "\u001b[0;32m~/code/msc-thesis/svgd/utils.py\u001b[0m in \u001b[0;36m<listcomp>\u001b[0;34m(.0)\u001b[0m\n\u001b[1;32m    218\u001b[0m     \u001b[0marrays\u001b[0m \u001b[0mconsisting\u001b[0m \u001b[0mof\u001b[0m \u001b[0mthe\u001b[0m \u001b[0mconcatenation\u001b[0m \u001b[0mof\u001b[0m \u001b[0mthe\u001b[0m \u001b[0mvalues\u001b[0m \u001b[0;32min\u001b[0m \u001b[0mthe\u001b[0m \u001b[0minput\u001b[0m \u001b[0mdictionaries\u001b[0m\u001b[0;34m.\u001b[0m\u001b[0;34m\u001b[0m\u001b[0;34m\u001b[0m\u001b[0m\n\u001b[1;32m    219\u001b[0m     \"\"\"\n\u001b[0;32m--> 220\u001b[0;31m     \u001b[0;32massert\u001b[0m \u001b[0mall\u001b[0m\u001b[0;34m(\u001b[0m\u001b[0;34m[\u001b[0m\u001b[0mdict_list\u001b[0m\u001b[0;34m[\u001b[0m\u001b[0mi\u001b[0m\u001b[0;34m]\u001b[0m\u001b[0;34m.\u001b[0m\u001b[0mkeys\u001b[0m\u001b[0;34m(\u001b[0m\u001b[0;34m)\u001b[0m \u001b[0;34m==\u001b[0m \u001b[0mdict_list\u001b[0m\u001b[0;34m[\u001b[0m\u001b[0mi\u001b[0m\u001b[0;34m+\u001b[0m\u001b[0;36m1\u001b[0m\u001b[0;34m]\u001b[0m\u001b[0;34m.\u001b[0m\u001b[0mkeys\u001b[0m\u001b[0;34m(\u001b[0m\u001b[0;34m)\u001b[0m \u001b[0;32mfor\u001b[0m \u001b[0mi\u001b[0m \u001b[0;32min\u001b[0m \u001b[0mrange\u001b[0m\u001b[0;34m(\u001b[0m\u001b[0mlen\u001b[0m\u001b[0;34m(\u001b[0m\u001b[0mdict_list\u001b[0m\u001b[0;34m)\u001b[0m\u001b[0;34m-\u001b[0m\u001b[0;36m1\u001b[0m\u001b[0;34m)\u001b[0m\u001b[0;34m]\u001b[0m\u001b[0;34m)\u001b[0m\u001b[0;34m\u001b[0m\u001b[0;34m\u001b[0m\u001b[0m\n\u001b[0m\u001b[1;32m    221\u001b[0m \u001b[0;34m\u001b[0m\u001b[0m\n\u001b[1;32m    222\u001b[0m     \u001b[0mkeys\u001b[0m \u001b[0;34m=\u001b[0m \u001b[0mdict_list\u001b[0m\u001b[0;34m[\u001b[0m\u001b[0;36m0\u001b[0m\u001b[0;34m]\u001b[0m\u001b[0;34m.\u001b[0m\u001b[0mkeys\u001b[0m\u001b[0;34m(\u001b[0m\u001b[0;34m)\u001b[0m\u001b[0;34m\u001b[0m\u001b[0;34m\u001b[0m\u001b[0m\n",
      "\u001b[0;31mKeyError\u001b[0m: 0"
     ]
    }
   ],
   "source": [
    "sweeps = dict_mean(sweeps)"
   ]
  },
  {
   "cell_type": "code",
   "execution_count": null,
   "metadata": {},
   "outputs": [],
   "source": [
    "for k, v in sweeps.items():\n",
    "    v = np.rollaxis(v, axis=1)\n",
    "    colors = plt.rcParams['axes.prop_cycle'].by_key()['color']\n",
    "    sq = int(np.sqrt(len(v)))\n",
    "    w = sq + 3\n",
    "    h = sq\n",
    "    plt.figure(figsize = [6*w, 2.5*h + 0.2*(h-1)]) # 0.2 = hspace\n",
    "    \n",
    "    titles = dist.metric_names[k]\n",
    "    hlines = true[k]\n",
    "    for i, v in enumerate(v):\n",
    "        print(\"v:\", v.shape)\n",
    "        plt.subplot(f\"{h}{w}{i+1}\")\n",
    "        plt.plot(bandwidth_grid, v, \"-\", color=colors[i])\n",
    "        plt.title(titles[i])\n",
    "\n",
    "        plt.yscale(\"linear\")\n",
    "        plt.xscale(\"linear\")\n",
    "        \n",
    "        plt.xlabel(\"step\")\n",
    "        print(hlines.shape)\n",
    "        if hlines[i].ndim == 0:\n",
    "            plt.axhline(y=hlines[i], color=\"y\")\n",
    "        else:\n",
    "            for val in hlines[i]:\n",
    "                plt.axhline(y=val, color=\"y\")\n"
   ]
  },
  {
   "cell_type": "markdown",
   "metadata": {},
   "source": [
    "## same thing for larger bandwidths"
   ]
  },
  {
   "cell_type": "code",
   "execution_count": null,
   "metadata": {},
   "outputs": [],
   "source": [
    "bandwidth_grid = np.linspace(2.5, 5, num=grid_length)\n",
    "ksd_bandwidths = [2.5, 3, 3.5, 4, 4.5, 5]\n",
    "metric_names = [\"MSE X\"] +  [f\"KSD {h}\" for h in ksd_bandwidths]\n",
    "\n",
    "\n",
    "bandwidth_grid = np.tile(bandwidth_grid, (d, 1))\n",
    "bandwidth_grid = np.transpose(bandwidth_grid)\n",
    "\n",
    "m = 5\n",
    "metrics_sweep = []\n",
    "sweeps = []\n",
    "for i in range(m):\n",
    "#     print(f\"Sweep {i+1} of {m}\")\n",
    "    svgd_fix.newkey()\n",
    "    s = sweep(svgd_fix.rkey, bandwidth_grid, ksd_bandwidths)\n",
    "    sweeps.append(s)\n",
    "sweeps = np.array(sweeps)\n",
    "sweeps = np.mean(sweeps, axis=0)\n",
    "sweeps = np.transpose(sweeps) # (num_metrics, bandwidth_length)\n",
    "assert not np.any(np.isnan(sweeps))\n",
    "sweeps1 = sweeps\n",
    "\n",
    "adas = []\n",
    "for _ in tqdm(range(m)):\n",
    "    svgd_ada.newkey()\n",
    "    xout, _ = svgd_ada.svgd(svgd_ada.rkey, stepsize, 0, L)\n",
    "    metrics_ada = get_metrics(xout, logp, ksd_bandwidths)\n",
    "    adas.append(metrics_ada)\n",
    "adas = np.array(adas)\n",
    "metrics_ada = np.mean(adas, axis=0)\n",
    "metrics_ada1 = metrics_ada"
   ]
  },
  {
   "cell_type": "code",
   "execution_count": null,
   "metadata": {},
   "outputs": [],
   "source": [
    "plt.figure(1, figsize=[16.0, 10.0])\n",
    "plt.subplots_adjust(hspace=0.8)\n",
    "col = plt.rcParams['axes.prop_cycle'].by_key()['color']\n",
    "l = sweeps.shape[0]\n",
    "k = l // 2\n",
    "\n",
    "for i, sw in enumerate(sweeps1):\n",
    "    plt.subplot(f\"{l-k}{k}{i+1}\")\n",
    "    plt.title(metric_names[i])\n",
    "    plt.plot(bandwidth_grid, sw, \".\", color=col[i])\n",
    "#     plt.xscale('log')\n",
    "    plt.yscale('log')\n",
    "    plt.axhline(y=float(metrics_ada1[i]), color=\"y\")"
   ]
  },
  {
   "cell_type": "markdown",
   "metadata": {},
   "source": [
    "## takeaways\n",
    "* whichever way we measure it, kernel choice has large effect on accuracy\n",
    "* the KSD measure with kernel parameter $h$ favours SVGD with same kernel parameter (it makes sense that this is the case, since SVGD minimizes the KL divergence in the space of distributions given by smooth transformations in the RKHS of the kernel with parameter $h$).\n",
    "* this means that some measures are better than others. In particular, it is likely that choosing the right kernel for use in the KSD measure is not much easier than choosing the right kernel directly.\n",
    "\n",
    "This leaves us with a few possibilities:\n",
    "1. Hope that choosing a sufficiently good kernel for KSD is in fact easier than choosing the right kernel directly\n",
    "2. Don't choose the KSD kernel parameter separately. Always use the same kernel for SVGD and for computing the loss.\n",
    "3. Choose a different loss (e.g. find a way to approximate the KL divergence)."
   ]
  },
  {
   "cell_type": "markdown",
   "metadata": {},
   "source": [
    "## Random grid search"
   ]
  },
  {
   "cell_type": "code",
   "execution_count": null,
   "metadata": {},
   "outputs": [],
   "source": [
    "grid_length = 100\n",
    "rkey = random.PRNGKey(123)\n",
    "scale = \"linear\"\n",
    "if scale == \"log\":\n",
    "    bandwidth_grid = random.uniform(rkey, shape=(grid_length, d)) * 2.5 - 0.5 #* 25 - 10\n",
    "    bandwidth_grid = 10**bandwidth_grid\n",
    "else:\n",
    "    mi, ma = [0.3, 2.5]\n",
    "    bandwidth_grid = random.uniform(rkey, shape=(grid_length, d)) * (ma - mi) + mi"
   ]
  },
  {
   "cell_type": "code",
   "execution_count": null,
   "metadata": {},
   "outputs": [],
   "source": [
    "m = 5\n",
    "metrics_sweep = []\n",
    "sweeps = []\n",
    "for i in range(m):\n",
    "#     print(f\"Sweep {i+1} of {m}\")\n",
    "    svgd_fix.newkey()\n",
    "    s = sweep(svgd_fix.rkey, bandwidth_grid, ksd_bandwidths)\n",
    "    sweeps.append(s)\n",
    "sweeps = np.array(sweeps)\n",
    "sweeps = np.mean(sweeps, axis=0)\n",
    "sweeps = np.transpose(sweeps) # (num_metrics, bandwidth_length)"
   ]
  },
  {
   "cell_type": "markdown",
   "metadata": {},
   "source": [
    "### Scatterplot"
   ]
  },
  {
   "cell_type": "code",
   "execution_count": null,
   "metadata": {},
   "outputs": [],
   "source": [
    "def scatter(grid, data):\n",
    "#     plt.figure(1, figsize=[8, 8])\n",
    "    x, y = grid.transpose()\n",
    "    colors = data\n",
    "    colors = np.log(colors)\n",
    "\n",
    "    plt.scatter(x, y, s=100, c=colors)\n",
    "    plt.xscale(scale)\n",
    "    plt.yscale(scale)\n",
    "    plt.xlabel(\"h1\")\n",
    "    plt.ylabel(\"h2\")\n",
    "\n",
    "    for i, v in enumerate(data):\n",
    "        if i % 5 == 0:\n",
    "            plt.annotate(v, (x[i], y[i]))"
   ]
  },
  {
   "cell_type": "code",
   "execution_count": null,
   "metadata": {},
   "outputs": [],
   "source": [
    "plt.figure(1, figsize=[16.0, 24.0])\n",
    "# plt.subplots_adjust(hspace=0.8)\n",
    "l = sweeps.shape[0]\n",
    "k = l // 2\n",
    "\n",
    "for i, sw in enumerate(sweeps):\n",
    "    plt.subplot(f\"{l-k}{k}{i+1}\")\n",
    "    plt.title(metric_names[i])\n",
    "    scatter(bandwidth_grid, sweeps[i])\n",
    "# scatter(bandwidth_grid, sweeps[2])\n",
    "# plt.title(metric_names[2])"
   ]
  }
 ],
 "metadata": {
  "kernelspec": {
   "display_name": "msc-thesis",
   "language": "python",
   "name": "msc-thesis"
  },
  "language_info": {
   "codemirror_mode": {
    "name": "ipython",
    "version": 3
   },
   "file_extension": ".py",
   "mimetype": "text/x-python",
   "name": "python",
   "nbconvert_exporter": "python",
   "pygments_lexer": "ipython3",
   "version": "3.6.9"
  }
 },
 "nbformat": 4,
 "nbformat_minor": 4
}
