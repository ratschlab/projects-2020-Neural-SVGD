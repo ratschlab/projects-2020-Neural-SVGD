{
 "cells": [
  {
   "cell_type": "markdown",
   "metadata": {},
   "source": [
    "# Optimizing bandwidth"
   ]
  },
  {
   "cell_type": "code",
   "execution_count": 1,
   "metadata": {},
   "outputs": [
    {
     "name": "stdout",
     "output_type": "stream",
     "text": [
      "cpu\n"
     ]
    },
    {
     "name": "stderr",
     "output_type": "stream",
     "text": [
      "/home/lauro/.virtualenvs/msc-thesis/lib/python3.6/site-packages/jax/lib/xla_bridge.py:123: UserWarning: No GPU/TPU found, falling back to CPU.\n",
      "  warnings.warn('No GPU/TPU found, falling back to CPU.')\n"
     ]
    }
   ],
   "source": [
    "import jax.numpy as np\n",
    "from jax import grad, jit, vmap, random, jacfwd, jacrev\n",
    "from jax.lib import xla_bridge\n",
    "print(xla_bridge.get_backend().platform)\n",
    "\n",
    "import matplotlib as mpl\n",
    "import matplotlib.pyplot as plt\n",
    "from tqdm import tqdm\n",
    "\n",
    "from svgd import SVGD\n",
    "from metrics import ksd\n",
    "import time"
   ]
  },
  {
   "cell_type": "code",
   "execution_count": 2,
   "metadata": {},
   "outputs": [
    {
     "name": "stderr",
     "output_type": "stream",
     "text": [
      "/home/lauro/.virtualenvs/msc-thesis/lib/python3.6/site-packages/jax/lib/xla_bridge.py:123: UserWarning: No GPU/TPU found, falling back to CPU.\n",
      "  warnings.warn('No GPU/TPU found, falling back to CPU.')\n"
     ]
    }
   ],
   "source": [
    "n=100\n",
    "d=1\n",
    "stepsize = 0.01\n",
    "svgd_stepsize = stepsize\n",
    "n_iter_max = 500 # 100 slightly to little, this should be all right\n",
    "# grid_length = 25\n",
    "bandwidth = 1\n",
    "\n",
    "from jax.scipy.stats import norm\n",
    "\n",
    "@jit\n",
    "def logp(x):\n",
    "    assert x.ndim == 1\n",
    "    return np.sum(norm.logpdf(x, loc=0, scale=1)) \n",
    "\n",
    "from svgd import get_bandwidth\n",
    "\n",
    "svgd_fix = SVGD(logp=logp, n_iter_max=n_iter_max, adaptive_kernel=False, get_bandwidth=None, particle_shape=(n, d))\n",
    "svgd_ada = SVGD(logp=logp, n_iter_max=n_iter_max, adaptive_kernel=True,  get_bandwidth=get_bandwidth, particle_shape=(n, d))"
   ]
  },
  {
   "cell_type": "markdown",
   "metadata": {},
   "source": [
    "# Helper functions"
   ]
  },
  {
   "cell_type": "code",
   "execution_count": 3,
   "metadata": {},
   "outputs": [],
   "source": [
    "def optimize_bandwidths_jointly(self, bandwidth, stepsize, n_steps, sample_every_step=True, gradient_clip_threshold=10):\n",
    "    \"\"\"Find optimal bandwidth using SGD.\n",
    "    Not pure (mutates self.rkey)\"\"\"\n",
    "    if self.adaptive_kernel:\n",
    "        raise ValueError(\"This SVGD instance uses an adaptive bandwidth parameter.\")\n",
    "    log = [bandwidth]\n",
    "    for _ in tqdm(range(n_steps)):\n",
    "        if sample_every_step:\n",
    "            self.newkey()\n",
    "        else:\n",
    "            pass\n",
    "        bandwidth = self.step(self.rkey, bandwidth, stepsize, ksd_bandwidth=bandwidth, gradient_clip_threshold=gradient_clip_threshold)\n",
    "        if np.any(np.isnan(bandwidth)):\n",
    "            raise Exception(f\"Gradient is NaN. Last non-NaN value of bandwidth was {log[-1]}\")\n",
    "        elif np.any(bandwidth < 0):\n",
    "            print(f\"Note: some entries are below zero. Bandwidth = {bandwidth}.\")\n",
    "        else:\n",
    "            pass\n",
    "        log.append(bandwidth)\n",
    "    return bandwidth, log\n"
   ]
  },
  {
   "cell_type": "markdown",
   "metadata": {},
   "source": [
    "### Test learned $h$ vs adaptive $h$"
   ]
  },
  {
   "cell_type": "code",
   "execution_count": 4,
   "metadata": {},
   "outputs": [],
   "source": [
    "def get_metrics(xout, ksd_bandwidths):\n",
    "    ksds = []\n",
    "    for h in ksd_bandwidths:\n",
    "        ksds.append(ksd(xout, logp, h))\n",
    "        \n",
    "    metrics = np.array(ksds)\n",
    "    return metrics"
   ]
  },
  {
   "cell_type": "code",
   "execution_count": 5,
   "metadata": {},
   "outputs": [],
   "source": [
    "def compare_ada_and_opt(ksd_bandwidths, h_init, meta_stepsize):\n",
    "    # adaptive\n",
    "    xout_ada, log_ada = svgd_ada.svgd(svgd_ada.rkey, stepsize, bandwidth=0, n_iter=n_iter_max)\n",
    "    \n",
    "    # optimized\n",
    "    h_opt, hist = svgd_fix.optimize_bandwidth(h_init, meta_stepsize, n_steps=20)\n",
    "    xout_fix, log = svgd_fix.svgd(svgd_fix.rkey, stepsize, bandwidth=h_opt, n_iter=n_iter_max)\n",
    "    \n",
    "    metrics_fix, metrics_ada = [get_metrics(xout, ksd_bandwidths) for xout in [xout_fix, xout_ada]]\n",
    "    \n",
    "    return metrics_fix, metrics_ada"
   ]
  },
  {
   "cell_type": "code",
   "execution_count": 6,
   "metadata": {},
   "outputs": [],
   "source": [
    "ksd_bandwidths = [1, 2, 3]\n",
    "h_init = 3.\n",
    "meta_stepsize = 0.1"
   ]
  },
  {
   "cell_type": "code",
   "execution_count": 7,
   "metadata": {},
   "outputs": [
    {
     "name": "stdout",
     "output_type": "stream",
     "text": [
      "JIT COMPILING...\n",
      "Done compiling in 0.39179015159606934 seconds.\n"
     ]
    },
    {
     "name": "stderr",
     "output_type": "stream",
     "text": [
      "  0%|          | 0/20 [00:00<?, ?it/s]"
     ]
    },
    {
     "name": "stdout",
     "output_type": "stream",
     "text": [
      "JIT COMPILING step...\n",
      "JIT COMPILING...\n",
      "Done compiling in 1.3120131492614746 seconds.\n",
      "...done compiling after 1.463364601135254 seconds.\n"
     ]
    },
    {
     "name": "stderr",
     "output_type": "stream",
     "text": [
      "  5%|▌         | 1/20 [00:13<04:15, 13.45s/it]"
     ]
    },
    {
     "name": "stdout",
     "output_type": "stream",
     "text": [
      "JIT COMPILING step...\n",
      "JIT COMPILING...\n",
      "Done compiling in 1.1921422481536865 seconds.\n",
      "...done compiling after 1.1972248554229736 seconds.\n"
     ]
    },
    {
     "name": "stderr",
     "output_type": "stream",
     "text": [
      "100%|██████████| 20/20 [00:29<00:00,  1.48s/it]\n"
     ]
    },
    {
     "name": "stdout",
     "output_type": "stream",
     "text": [
      "JIT COMPILING...\n",
      "Done compiling in 0.11555600166320801 seconds.\n"
     ]
    },
    {
     "data": {
      "text/plain": [
       "(DeviceArray([1.0267235 , 0.1214558 , 0.02712556], dtype=float32),\n",
       " DeviceArray([0.00825037, 0.0076002 , 0.0065922 ], dtype=float32))"
      ]
     },
     "execution_count": 7,
     "metadata": {},
     "output_type": "execute_result"
    }
   ],
   "source": [
    "metrics = compare_ada_and_opt(ksd_bandwidths, h_init, meta_stepsize)\n",
    "metrics"
   ]
  },
  {
   "cell_type": "code",
   "execution_count": 8,
   "metadata": {},
   "outputs": [
    {
     "name": "stderr",
     "output_type": "stream",
     "text": [
      "100%|██████████| 20/20 [00:06<00:00,  3.15it/s]\n"
     ]
    },
    {
     "data": {
      "text/plain": [
       "(DeviceArray([0.00892288, 0.00091078, 0.00080097], dtype=float32),\n",
       " DeviceArray([0.00825037, 0.0076002 , 0.0065922 ], dtype=float32))"
      ]
     },
     "execution_count": 8,
     "metadata": {},
     "output_type": "execute_result"
    }
   ],
   "source": [
    "metrics2 = compare_ada_and_opt(ksd_bandwidths, h_init, meta_stepsize)\n",
    "metrics2"
   ]
  },
  {
   "cell_type": "code",
   "execution_count": 9,
   "metadata": {},
   "outputs": [
    {
     "name": "stderr",
     "output_type": "stream",
     "text": [
      "100%|██████████| 20/20 [00:06<00:00,  3.16it/s]\n"
     ]
    },
    {
     "data": {
      "text/plain": [
       "(DeviceArray([0.18666881, 0.00348612, 0.00225773], dtype=float32),\n",
       " DeviceArray([0.00825037, 0.0076002 , 0.0065922 ], dtype=float32))"
      ]
     },
     "execution_count": 9,
     "metadata": {},
     "output_type": "execute_result"
    }
   ],
   "source": [
    "metrics3 = compare_ada_and_opt(ksd_bandwidths, h_init, meta_stepsize)\n",
    "metrics3"
   ]
  },
  {
   "cell_type": "markdown",
   "metadata": {},
   "source": [
    "# 1-d"
   ]
  },
  {
   "cell_type": "code",
   "execution_count": 18,
   "metadata": {},
   "outputs": [
    {
     "name": "stderr",
     "output_type": "stream",
     "text": [
      "100%|██████████| 50/50 [00:12<00:00,  3.90it/s]"
     ]
    },
    {
     "name": "stdout",
     "output_type": "stream",
     "text": [
      "value: 21.537348\n"
     ]
    },
    {
     "name": "stderr",
     "output_type": "stream",
     "text": [
      "\n"
     ]
    }
   ],
   "source": [
    "meta_stepsize = 100\n",
    "n_steps = 50\n",
    "h = 25\n",
    "opt_h, log1 = svgd_fix.optimize_bandwidth(h, meta_stepsize, n_steps)\n",
    "\n",
    "print(\"value:\", opt_h)"
   ]
  },
  {
   "cell_type": "code",
   "execution_count": 19,
   "metadata": {},
   "outputs": [
    {
     "data": {
      "text/plain": [
       "[<matplotlib.lines.Line2D at 0x7f3a0bfe9128>]"
      ]
     },
     "execution_count": 19,
     "metadata": {},
     "output_type": "execute_result"
    },
    {
     "data": {
      "image/png": "[encoded data removed]",
      "text/plain": [
       "<Figure size 432x288 with 1 Axes>"
      ]
     },
     "metadata": {
      "needs_background": "light"
     },
     "output_type": "display_data"
    }
   ],
   "source": [
    "plt.plot(log1, \".\")"
   ]
  },
  {
   "cell_type": "code",
   "execution_count": 20,
   "metadata": {},
   "outputs": [
    {
     "name": "stderr",
     "output_type": "stream",
     "text": [
      "  0%|          | 0/50 [00:00<?, ?it/s]"
     ]
    },
    {
     "name": "stdout",
     "output_type": "stream",
     "text": [
      "JIT COMPILING step...\n",
      "...done compiling after 0.005913734436035156 seconds.\n"
     ]
    },
    {
     "name": "stderr",
     "output_type": "stream",
     "text": [
      "100%|██████████| 50/50 [00:23<00:00,  2.12it/s]"
     ]
    },
    {
     "name": "stdout",
     "output_type": "stream",
     "text": [
      "value: 0.98194677\n"
     ]
    },
    {
     "name": "stderr",
     "output_type": "stream",
     "text": [
      "\n"
     ]
    }
   ],
   "source": [
    "h = 3\n",
    "meta_stepsize = 0.1\n",
    "opt_h, log = svgd_fix.optimize_bandwidth(h, meta_stepsize, n_steps)\n",
    "print(\"value:\", opt_h)\n",
    "# print(f\"loss at {opt_h}:\", svgd_fix.loss(rkey, opt_h))"
   ]
  },
  {
   "cell_type": "code",
   "execution_count": 21,
   "metadata": {},
   "outputs": [
    {
     "data": {
      "text/plain": [
       "[<matplotlib.lines.Line2D at 0x7f3a0bfb3518>]"
      ]
     },
     "execution_count": 21,
     "metadata": {},
     "output_type": "execute_result"
    },
    {
     "data": {
      "image/png": "[encoded data removed]",
      "text/plain": [
       "<Figure size 432x288 with 1 Axes>"
      ]
     },
     "metadata": {
      "needs_background": "light"
     },
     "output_type": "display_data"
    }
   ],
   "source": [
    "plt.plot(log, \"r.\")"
   ]
  },
  {
   "cell_type": "markdown",
   "metadata": {},
   "source": [
    "Conclusion: gradient descent is succesful in finding decent local minima. But since the objective function (KSD) is nonconvex, it does sometimes get stuck in globally suboptimal spots."
   ]
  },
  {
   "cell_type": "markdown",
   "metadata": {},
   "source": [
    "## GD with joint parameters"
   ]
  },
  {
   "cell_type": "code",
   "execution_count": 15,
   "metadata": {},
   "outputs": [],
   "source": [
    "def optimize_bandwidths_jointly(self, bandwidth, stepsize, n_steps, sample_every_step=True, gradient_clip_threshold=10):\n",
    "    \"\"\"Find optimal bandwidth using SGD.\n",
    "    Not pure (mutates self.rkey)\"\"\"\n",
    "    if self.adaptive_kernel:\n",
    "        raise ValueError(\"This SVGD instance uses an adaptive bandwidth parameter.\")\n",
    "    log = [bandwidth]\n",
    "    for _ in tqdm(range(n_steps)):\n",
    "        if sample_every_step:\n",
    "            self.newkey()\n",
    "        else:\n",
    "            pass\n",
    "        bandwidth = self.step(self.rkey, bandwidth, stepsize, ksd_bandwidth=bandwidth, gradient_clip_threshold=gradient_clip_threshold)\n",
    "        if np.any(np.isnan(bandwidth)):\n",
    "            raise Exception(f\"Gradient is NaN. Last non-NaN value of bandwidth was {log[-1]}\")\n",
    "        elif np.any(bandwidth < 0):\n",
    "            print(f\"Note: some entries are below zero. Bandwidth = {bandwidth}.\")\n",
    "        else:\n",
    "            pass\n",
    "        log.append(bandwidth)\n",
    "    return bandwidth, log\n"
   ]
  },
  {
   "cell_type": "code",
   "execution_count": 16,
   "metadata": {},
   "outputs": [
    {
     "name": "stderr",
     "output_type": "stream",
     "text": [
      "  0%|          | 0/50 [00:00<?, ?it/s]"
     ]
    },
    {
     "name": "stdout",
     "output_type": "stream",
     "text": [
      "JIT COMPILING step...\n",
      "...done compiling after 0.004057168960571289 seconds.\n"
     ]
    },
    {
     "name": "stderr",
     "output_type": "stream",
     "text": [
      "  2%|▏         | 1/50 [00:12<09:57, 12.20s/it]"
     ]
    },
    {
     "name": "stdout",
     "output_type": "stream",
     "text": [
      "JIT COMPILING step...\n",
      "...done compiling after 0.12403273582458496 seconds.\n"
     ]
    },
    {
     "name": "stderr",
     "output_type": "stream",
     "text": [
      "100%|██████████| 50/50 [00:37<00:00,  1.33it/s]"
     ]
    },
    {
     "name": "stdout",
     "output_type": "stream",
     "text": [
      "value: 1.37057\n"
     ]
    },
    {
     "name": "stderr",
     "output_type": "stream",
     "text": [
      "\n"
     ]
    }
   ],
   "source": [
    "h = 3\n",
    "meta_stepsize = 1\n",
    "opt_hj, logj = optimize_bandwidths_jointly(svgd_fix, h, meta_stepsize, 50)\n",
    "print(\"value:\", opt_hj)"
   ]
  },
  {
   "cell_type": "code",
   "execution_count": 17,
   "metadata": {},
   "outputs": [
    {
     "data": {
      "text/plain": [
       "[<matplotlib.lines.Line2D at 0x7f3a1015e1d0>]"
      ]
     },
     "execution_count": 17,
     "metadata": {},
     "output_type": "execute_result"
    },
    {
     "data": {
      "image/png": "[encoded data removed]",
      "text/plain": [
       "<Figure size 432x288 with 1 Axes>"
      ]
     },
     "metadata": {
      "needs_background": "light"
     },
     "output_type": "display_data"
    }
   ],
   "source": [
    "plt.plot(logj)"
   ]
  },
  {
   "cell_type": "code",
   "execution_count": 22,
   "metadata": {},
   "outputs": [
    {
     "name": "stderr",
     "output_type": "stream",
     "text": [
      "100%|██████████| 50/50 [00:12<00:00,  3.96it/s]"
     ]
    },
    {
     "name": "stdout",
     "output_type": "stream",
     "text": [
      "value: 19.999348\n"
     ]
    },
    {
     "name": "stderr",
     "output_type": "stream",
     "text": [
      "\n"
     ]
    }
   ],
   "source": [
    "h = 20\n",
    "meta_stepsize = 1\n",
    "opt_hj, logj = optimize_bandwidths_jointly(svgd_fix, h, meta_stepsize, 50)\n",
    "print(\"value:\", opt_hj)"
   ]
  },
  {
   "cell_type": "code",
   "execution_count": 23,
   "metadata": {},
   "outputs": [
    {
     "data": {
      "text/plain": [
       "[<matplotlib.lines.Line2D at 0x7f3a0be5f7f0>]"
      ]
     },
     "execution_count": 23,
     "metadata": {},
     "output_type": "execute_result"
    },
    {
     "data": {
      "image/png": "[encoded data removed]",
      "text/plain": [
       "<Figure size 432x288 with 1 Axes>"
      ]
     },
     "metadata": {
      "needs_background": "light"
     },
     "output_type": "display_data"
    }
   ],
   "source": [
    "plt.plot(logj)"
   ]
  }
 ],
 "metadata": {
  "kernelspec": {
   "display_name": "msc-thesis",
   "language": "python",
   "name": "msc-thesis"
  },
  "language_info": {
   "codemirror_mode": {
    "name": "ipython",
    "version": 3
   },
   "file_extension": ".py",
   "mimetype": "text/x-python",
   "name": "python",
   "nbconvert_exporter": "python",
   "pygments_lexer": "ipython3",
   "version": "3.6.9"
  }
 },
 "nbformat": 4,
 "nbformat_minor": 4
}
