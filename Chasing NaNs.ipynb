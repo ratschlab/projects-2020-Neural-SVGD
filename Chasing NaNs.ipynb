{
 "cells": [
  {
   "cell_type": "code",
   "execution_count": 1,
   "metadata": {},
   "outputs": [],
   "source": [
    "%matplotlib inline\n",
    "\n",
    "import jax.numpy as np\n",
    "from jax import grad, jit, vmap\n",
    "from jax import random\n",
    "import matplotlib as mpl\n",
    "import matplotlib.pyplot as plt\n",
    "\n",
    "# from svgd import svgd, update, phi_j_batched\n",
    "from svgd import phi_j_batched\n",
    "from utils import pairwise_distances, single_rbf"
   ]
  },
  {
   "cell_type": "code",
   "execution_count": 2,
   "metadata": {},
   "outputs": [],
   "source": [
    "from jax.scipy.stats import norm\n",
    "\n",
    "def p(x):\n",
    "    \"\"\"\n",
    "    IN: single scalar np array x. alternatively, [x] works too\n",
    "    OUT: scalar logp(x)\n",
    "    \"\"\"\n",
    "    out = 1/3 * norm.pdf(x, loc=-2, scale=1) + 2/3 * norm.pdf(x, loc=2, scale=1)\n",
    "    return np.squeeze(out) # to be able to take a gradient, output must be scalar\n",
    "\n",
    "\n",
    "def logp_old(x):\n",
    "    return np.log(p(x))"
   ]
  },
  {
   "cell_type": "code",
   "execution_count": 8,
   "metadata": {},
   "outputs": [],
   "source": [
    "def logp(x):\n",
    "    \"\"\"\n",
    "    x must be a scalar\n",
    "    \"\"\"\n",
    "    x = np.array(x)\n",
    "    a = - (x + 2)**2 / 2 # mean -2\n",
    "    b = - (x - 2)**2 / 2 # mean 2\n",
    "    c = np.min([a, b])\n",
    "    norm_co = 1 / np.sqrt(2 * np.pi)\n",
    "    \n",
    "    \n",
    "    # normalize smallest element to 0, to avoid underflow errors\n",
    "    expout = norm_co * (1/3 * np.exp(a - c) + 2/3 * np.exp(b - c))\n",
    "    out = np.log(expout) + c\n",
    "    return np.squeeze(out)\n",
    "\n",
    "logp_batched = vmap(logp)"
   ]
  },
  {
   "cell_type": "code",
   "execution_count": 9,
   "metadata": {},
   "outputs": [
    {
     "data": {
      "text/plain": [
       "[<matplotlib.lines.Line2D at 0x7f4b9c09e860>]"
      ]
     },
     "execution_count": 9,
     "metadata": {},
     "output_type": "execute_result"
    },
    {
     "data": {
      "image/png": "[encoded data removed]",
      "text/plain": [
       "<Figure size 432x288 with 1 Axes>"
      ]
     },
     "metadata": {
      "needs_background": "light"
     },
     "output_type": "display_data"
    }
   ],
   "source": [
    "grid = np.arange(-5, 5, 0.1)\n",
    "plt.plot(grid, p(grid))\n",
    "\n",
    "plt.plot(grid, np.exp(logp_batched(grid)))"
   ]
  },
  {
   "cell_type": "code",
   "execution_count": 10,
   "metadata": {},
   "outputs": [
    {
     "name": "stderr",
     "output_type": "stream",
     "text": [
      "/home/lauro/.virtualenvs/msc-thesis/lib/python3.6/site-packages/jax/lax/lax.py:4665: UserWarning: Explicitly requested dtype float64 requested in asarray is not available, and will be truncated to dtype float32. To enable more dtypes, set the jax_enable_x64 configuration option or the JAX_ENABLE_X64 shell environment variable. See https://github.com/google/jax#current-gotchas for more.\n",
      "  warnings.warn(msg.format(dtype, fun_name , truncated_dtype))\n",
      "/home/lauro/.virtualenvs/msc-thesis/lib/python3.6/site-packages/jax/lax/lax.py:4665: UserWarning: Explicitly requested dtype float64 requested in array is not available, and will be truncated to dtype float32. To enable more dtypes, set the jax_enable_x64 configuration option or the JAX_ENABLE_X64 shell environment variable. See https://github.com/google/jax#current-gotchas for more.\n",
      "  warnings.warn(msg.format(dtype, fun_name , truncated_dtype))\n"
     ]
    }
   ],
   "source": [
    "n = 30\n",
    "stepsize = 0.01\n",
    "L = int(1 / stepsize)\n",
    "kernel_param_grid = np.logspace(-10, 15, num=25, base=2) # params smaller than 2^10 are generally awful\n",
    "m = 10\n",
    "\n",
    "\n",
    "q1 = lambda key, n: random.normal(key, shape=(n,1)) - 10\n",
    "q2 = lambda key, n: random.normal(key, shape=(n,1)) * 3 + 10"
   ]
  },
  {
   "cell_type": "markdown",
   "metadata": {},
   "source": [
    "### create NaN:"
   ]
  },
  {
   "cell_type": "code",
   "execution_count": 11,
   "metadata": {},
   "outputs": [
    {
     "name": "stdout",
     "output_type": "stream",
     "text": [
      "[ 8.583897   5.1096616  8.13291   11.288309   9.527181  10.981857\n",
      " 15.134769  10.941363  10.890869   3.682167  11.580569   7.028025\n",
      " 14.022419   7.920472  12.096018  10.289377   7.223783  10.15488\n",
      "  8.090013  16.500956   7.2901983 16.06377   10.049981  13.47894\n",
      " 10.262466   3.7228546 10.611797   9.606102  10.00337    9.044173 ]\n",
      "[       inf        inf        inf        inf        inf        inf\n",
      "  -87.58549        inf        inf        inf        inf        inf\n",
      "        inf        inf        inf        inf        inf        inf\n",
      "        inf -106.46326        inf -100.21922        inf        inf\n",
      "        inf        inf        inf        inf        inf        inf]\n",
      "\n",
      "x[6]:  [15.134769]\n",
      "logp(x[6]):  -87.58549\n",
      "x[19]:  [16.500956]\n",
      "-106.46326\n"
     ]
    }
   ],
   "source": [
    "key = random.PRNGKey(6)\n",
    "q = q2\n",
    "x = q(key, n)\n",
    "h = 0.0009765625\n",
    "\n",
    "kernel_params = h\n",
    "\n",
    "## note that logp(x) has -infs:\n",
    "print(np.squeeze(x))\n",
    "print(logp(x))\n",
    "print()\n",
    "print(\"x[6]: \", x[6])\n",
    "print(\"logp(x[6]): \", logp(x[6]))\n",
    "\n",
    "print(\"x[19]: \", x[19])\n",
    "print(logp(x[19]))"
   ]
  },
  {
   "cell_type": "code",
   "execution_count": 12,
   "metadata": {},
   "outputs": [
    {
     "data": {
      "text/plain": [
       "DeviceArray([  0.      ,   0.      ,   0.      ,   0.      ,   0.      ,\n",
       "               0.      , -13.134769,   0.      ,   0.      ,   0.      ,\n",
       "               0.      ,   0.      ,   0.      ,   0.      ,   0.      ,\n",
       "               0.      ,   0.      ,   0.      ,   0.      ,  -0.      ,\n",
       "               0.      ,  -0.      ,   0.      ,   0.      ,   0.      ,\n",
       "               0.      ,   0.      ,   0.      ,   0.      ,   0.      ],            dtype=float32)"
      ]
     },
     "execution_count": 12,
     "metadata": {},
     "output_type": "execute_result"
    }
   ],
   "source": [
    "kernel = lambda x, y: single_rbf(x, y, kernel_params)\n",
    "\n",
    "xi = x[6]\n",
    "repeated = np.tile(xi, (n, 1))\n",
    "np.squeeze(phi_j_batched(x, repeated, logp, kernel))"
   ]
  },
  {
   "cell_type": "markdown",
   "metadata": {},
   "source": [
    "NaN here:"
   ]
  },
  {
   "cell_type": "code",
   "execution_count": 13,
   "metadata": {},
   "outputs": [
    {
     "data": {
      "text/plain": [
       "DeviceArray([ 8.518058 ,  5.078565 ,  8.219062 , 11.195426 ,  9.415469 ,\n",
       "             11.04467  , 15.003422 , 10.750119 , 10.622835 ,  3.4794586,\n",
       "             11.484763 ,  6.977745 , 13.902195 ,  7.8612666, 11.995058 ,\n",
       "             10.339773 ,  7.0949364, 10.073596 ,  7.8339896, 16.355946 ,\n",
       "              7.3029165, 15.923133 , 10.095963 , 13.364151 ,  9.935158 ,\n",
       "              3.8769245, 10.52568  ,  9.560245 ,  9.73993  ,  8.973732 ],            dtype=float32)"
      ]
     },
     "execution_count": 13,
     "metadata": {},
     "output_type": "execute_result"
    }
   ],
   "source": [
    "kernel = lambda x, y: single_rbf(x, y, kernel_params)\n",
    "\n",
    "xnew = []\n",
    "n = x.shape[0]\n",
    "for i, xi in enumerate(x):\n",
    "    repeated = np.tile(xi, (n, 1))\n",
    "    xnew.append(stepsize * np.sum(phi_j_batched(x, repeated, logp, kernel), axis = 0))\n",
    "xnew = np.array(xnew)\n",
    "xnew += x\n",
    "np.squeeze(xnew)"
   ]
  },
  {
   "cell_type": "markdown",
   "metadata": {},
   "source": [
    "### but sometimes there are `-inf`s without a `NaN`."
   ]
  },
  {
   "cell_type": "code",
   "execution_count": null,
   "metadata": {},
   "outputs": [],
   "source": [
    "key = random.PRNGKey(1)\n",
    "x = q2(key, n)\n",
    "# print(np.squeeze(x))\n",
    "print(\"logp(x[15]): \", logp(x[15]))\n",
    "print(x[15])\n",
    "print(np.sort(x[:, 0]))\n",
    "print(logp(np.sort(x[:, 0])))"
   ]
  },
  {
   "cell_type": "code",
   "execution_count": null,
   "metadata": {},
   "outputs": [],
   "source": [
    "kernel = lambda x, y: single_rbf(x, y, kernel_params)\n",
    "\n",
    "xi = x[6]\n",
    "repeated = np.tile(xi, (n, 1))\n",
    "np.squeeze(phi_j_batched(x, repeated, logp, kernel))"
   ]
  },
  {
   "cell_type": "code",
   "execution_count": null,
   "metadata": {},
   "outputs": [],
   "source": []
  },
  {
   "cell_type": "code",
   "execution_count": null,
   "metadata": {},
   "outputs": [],
   "source": []
  }
 ],
 "metadata": {
  "kernelspec": {
   "display_name": "msc-thesis",
   "language": "python",
   "name": "msc-thesis"
  },
  "language_info": {
   "codemirror_mode": {
    "name": "ipython",
    "version": 3
   },
   "file_extension": ".py",
   "mimetype": "text/x-python",
   "name": "python",
   "nbconvert_exporter": "python",
   "pygments_lexer": "ipython3",
   "version": "3.6.9"
  }
 },
 "nbformat": 4,
 "nbformat_minor": 4
}
