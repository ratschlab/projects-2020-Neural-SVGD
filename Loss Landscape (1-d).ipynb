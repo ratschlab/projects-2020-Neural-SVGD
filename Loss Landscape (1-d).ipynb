{
 "cells": [
  {
   "cell_type": "markdown",
   "metadata": {},
   "source": [
    "# Loss Landscape (1-dim)"
   ]
  },
  {
   "cell_type": "code",
   "execution_count": 1,
   "metadata": {},
   "outputs": [
    {
     "name": "stdout",
     "output_type": "stream",
     "text": [
      "cpu\n"
     ]
    },
    {
     "name": "stderr",
     "output_type": "stream",
     "text": [
      "/home/lauro/.virtualenvs/msc-thesis/lib/python3.6/site-packages/jax/lib/xla_bridge.py:123: UserWarning: No GPU/TPU found, falling back to CPU.\n",
      "  warnings.warn('No GPU/TPU found, falling back to CPU.')\n"
     ]
    }
   ],
   "source": [
    "import jax.numpy as np\n",
    "from jax import grad, jit, vmap, random, jacfwd, jacrev\n",
    "from jax.lib import xla_bridge\n",
    "print(xla_bridge.get_backend().platform)\n",
    "\n",
    "import matplotlib as mpl\n",
    "import matplotlib.pyplot as plt\n",
    "from tqdm import tqdm\n",
    "\n",
    "from svgd import SVGD\n",
    "from metrics import ksd\n",
    "import time"
   ]
  },
  {
   "cell_type": "code",
   "execution_count": 2,
   "metadata": {},
   "outputs": [
    {
     "name": "stderr",
     "output_type": "stream",
     "text": [
      "/home/lauro/.virtualenvs/msc-thesis/lib/python3.6/site-packages/jax/lib/xla_bridge.py:123: UserWarning: No GPU/TPU found, falling back to CPU.\n",
      "  warnings.warn('No GPU/TPU found, falling back to CPU.')\n"
     ]
    }
   ],
   "source": [
    "n=100\n",
    "d=1\n",
    "stepsize = 0.01\n",
    "svgd_stepsize = stepsize\n",
    "n_iter_max = 500 # 100 slightly to little, this should be all right\n",
    "# grid_length = 25\n",
    "# bandwidth = 1\n",
    "\n",
    "from jax.scipy.stats import norm\n",
    "\n",
    "@jit\n",
    "def logp(x):\n",
    "    assert x.ndim == 1\n",
    "    return np.sum(norm.logpdf(x, loc=0, scale=1)) \n",
    "\n",
    "from svgd import get_bandwidth\n",
    "\n",
    "svgd_fix = SVGD(logp=logp, n_iter_max=n_iter_max, adaptive_kernel=False, get_bandwidth=None, particle_shape=(n, d))\n",
    "svgd_ada = SVGD(logp=logp, n_iter_max=n_iter_max, adaptive_kernel=True,  get_bandwidth=get_bandwidth, particle_shape=(n, d))"
   ]
  },
  {
   "cell_type": "markdown",
   "metadata": {},
   "source": [
    "# Define plotting utilities"
   ]
  },
  {
   "cell_type": "code",
   "execution_count": 3,
   "metadata": {},
   "outputs": [],
   "source": [
    "def sweep(rkey, grid, sample_each_time=False, joint_param=False, average_over=1):\n",
    "    \"\"\"Sweep a grid of bandwidth values and output corresponding metrics.\n",
    "    Arguments:\n",
    "    * average_over: integer, compute average over m random seeds\n",
    "    \"\"\"\n",
    "    if average_over == 1:\n",
    "        sweep_results = []\n",
    "        if sample_each_time:\n",
    "            rkeys = random.split(svgd_fix.rkey, len(grid))\n",
    "        else:\n",
    "            rkeys = [rkey] * len(grid)\n",
    "\n",
    "        for rkey, h in tqdm(zip(rkeys, grid)):\n",
    "            if joint_param:\n",
    "                l = svgd_fix.loss(rkey, h, h)\n",
    "#                 gl = jacfwd(svgd_fix.loss, argnums=1)(rkey, h, h)\n",
    "            else:\n",
    "                l = svgd_fix.loss(rkey, h)\n",
    "#                 gl = jacfwd(svgd_fix.loss, argnums=1)(rkey, h)\n",
    "            \n",
    "#             if np.isnan(gl):\n",
    "#                 gl = 0\n",
    "            sweep_results.append(l)\n",
    "\n",
    "        sweep_results = np.array(sweep_results)\n",
    "    else:\n",
    "        ress = []\n",
    "        for _ in range(average_over):\n",
    "            rkey = random.split(rkey)[0]\n",
    "            res = sweep(rkey, grid, sample_each_time=False, joint_param=joint_param, average_over=1)\n",
    "            ress.append(res)\n",
    "        ress = np.array(ress)\n",
    "        sweep_results = np.mean(ress, axis=0)\n",
    "    if np.any(np.isnan(sweep_results)): print(\"NaNs detected!\")\n",
    "    return sweep_results\n",
    "\n",
    "def makeplots(data, grid, xscale=\"linear\", yscale=\"linear\", style=\".\", mark_ada=True):\n",
    "    plt.figure(1, figsize=[8, 4])\n",
    "    l = len(data)\n",
    "    labels = [\"loss(h)\", \"grad(loss)(h)\"]\n",
    "    cols = [\"r\", \"b\", \"g\", \"y\"]\n",
    "    \n",
    "    i=0\n",
    "    d=data\n",
    "    plt.plot(grid, d, f\"r{style}\", color=cols[i])\n",
    "    plt.xlabel(\"h\")\n",
    "    plt.ylabel(labels[i])\n",
    "    plt.yscale(yscale)\n",
    "    plt.xscale(xscale)\n",
    "    if i==0 and mark_ada: plt.axhline(y=ksd_ada, color=\"y\")\n",
    "    \n",
    "#     for i, d in enumerate(data):\n",
    "#         plt.subplot(f\"{l}1{i+1}\")\n",
    "#         plt.plot(grid, d, f\"r{style}\", color=cols[i])\n",
    "#         plt.xlabel(\"h\")\n",
    "#         plt.ylabel(labels[i])\n",
    "#         plt.yscale(yscale)\n",
    "#         plt.xscale(xscale)\n",
    "#         if i==0 and mark_ada: plt.axhline(y=ksd_ada, color=\"y\")\n",
    "            \n",
    "def get_ada_loss(m):\n",
    "    ksd_ada = []\n",
    "    for _ in tqdm(range(m)):\n",
    "        svgd_ada.newkey()\n",
    "        xout_ada, _ = svgd_ada.svgd(svgd_ada.rkey, svgd_stepsize, bandwidth=0, n_iter=n_iter_max)\n",
    "        ksd_ada.append(ksd(xout_ada, logp, bandwidth=1))\n",
    "    ksd_ada = np.array(ksd_ada)\n",
    "    print(\"variance\", np.var(ksd_ada))\n",
    "    ksd_ada = np.mean(ksd_ada)\n",
    "    return ksd_ada"
   ]
  },
  {
   "cell_type": "markdown",
   "metadata": {},
   "source": [
    "# Experiments\n",
    "## 1\n",
    "* Plot KSD and grad(KSD) for bandwidths 0, ..., 10.000.\n",
    "* Optimize bandwidth, initializing at various points along the bandwidth grid.\n",
    "\n",
    "#### Note\n",
    "You're gonna get `NaN`s for your gradients as soon as the bandwidth is smaller than 0.25 (the gradient becomes very large). If you really want to, you can set JAX to use doubles,\n",
    "```\n",
    "from jax.config import config\n",
    "config.update(\"jax_enable_x64\", True)\n",
    "```\n",
    "in which case NaNs will start appearing once bandwidth is somewhere below 0.1, the gradient growing to something like $10^{259}$ shortly before that."
   ]
  },
  {
   "cell_type": "markdown",
   "metadata": {},
   "source": [
    "First: for comparison, compute adaptive SVGD"
   ]
  },
  {
   "cell_type": "code",
   "execution_count": 4,
   "metadata": {},
   "outputs": [
    {
     "name": "stderr",
     "output_type": "stream",
     "text": [
      "  0%|          | 0/10 [00:00<?, ?it/s]"
     ]
    },
    {
     "name": "stdout",
     "output_type": "stream",
     "text": [
      "JIT COMPILING svgd...\n",
      "...done compiling svgd after 0.4371676445007324 seconds.\n"
     ]
    },
    {
     "name": "stderr",
     "output_type": "stream",
     "text": [
      "100%|██████████| 10/10 [00:15<00:00,  1.60s/it]\n"
     ]
    },
    {
     "name": "stdout",
     "output_type": "stream",
     "text": [
      "variance 3.6785455e-09\n"
     ]
    }
   ],
   "source": [
    "m = 10\n",
    "ksd_ada = get_ada_loss(m)"
   ]
  },
  {
   "cell_type": "code",
   "execution_count": 5,
   "metadata": {},
   "outputs": [],
   "source": [
    "grid_len = 70\n",
    "m = 10"
   ]
  },
  {
   "cell_type": "markdown",
   "metadata": {},
   "source": [
    "## Overview plot"
   ]
  },
  {
   "cell_type": "markdown",
   "metadata": {},
   "source": [
    "Stuff happens in the range $[0, 100]$, after that the loss is boringly constant (assuming KSD with kernel bandwidth $h=1$."
   ]
  },
  {
   "cell_type": "code",
   "execution_count": 6,
   "metadata": {},
   "outputs": [
    {
     "name": "stderr",
     "output_type": "stream",
     "text": [
      "/home/lauro/.virtualenvs/msc-thesis/lib/python3.6/site-packages/jax/lax/lax.py:4670: UserWarning: Explicitly requested dtype float64 requested in asarray is not available, and will be truncated to dtype float32. To enable more dtypes, set the jax_enable_x64 configuration option or the JAX_ENABLE_X64 shell environment variable. See https://github.com/google/jax#current-gotchas for more.\n",
      "  warnings.warn(msg.format(dtype, fun_name , truncated_dtype))\n",
      "/home/lauro/.virtualenvs/msc-thesis/lib/python3.6/site-packages/jax/lax/lax.py:4670: UserWarning: Explicitly requested dtype float64 requested in array is not available, and will be truncated to dtype float32. To enable more dtypes, set the jax_enable_x64 configuration option or the JAX_ENABLE_X64 shell environment variable. See https://github.com/google/jax#current-gotchas for more.\n",
      "  warnings.warn(msg.format(dtype, fun_name , truncated_dtype))\n",
      "0it [00:00, ?it/s]"
     ]
    },
    {
     "name": "stdout",
     "output_type": "stream",
     "text": [
      "JIT COMPILING svgd...\n",
      "...done compiling svgd after 0.1466975212097168 seconds.\n"
     ]
    },
    {
     "name": "stderr",
     "output_type": "stream",
     "text": [
      "70it [00:13,  5.21it/s]\n",
      "70it [00:07,  9.56it/s] \n",
      "70it [00:07,  9.74it/s] \n",
      "70it [00:07,  9.39it/s] \n",
      "70it [00:07,  9.74it/s] \n",
      "70it [00:07,  9.73it/s] \n",
      "70it [00:07,  9.73it/s] \n",
      "70it [00:07,  9.33it/s] \n",
      "70it [00:07,  9.53it/s] \n",
      "70it [00:07,  9.66it/s] \n"
     ]
    }
   ],
   "source": [
    "rkey = random.PRNGKey(0)\n",
    "bandwidth_grid = np.logspace(-0.5, 10, num=grid_len)\n",
    "bandwidth_grid = np.linspace(0.3, 80, num=grid_len)\n",
    "slog = sweep(rkey, bandwidth_grid, sample_each_time=False, average_over=m)"
   ]
  },
  {
   "cell_type": "code",
   "execution_count": 7,
   "metadata": {},
   "outputs": [
    {
     "data": {
      "image/png": "[encoded data removed]",
      "text/plain": [
       "<Figure size 576x288 with 1 Axes>"
      ]
     },
     "metadata": {
      "needs_background": "light"
     },
     "output_type": "display_data"
    }
   ],
   "source": [
    "makeplots(slog.transpose(), bandwidth_grid, xscale=\"linear\", style=\"\")"
   ]
  },
  {
   "cell_type": "markdown",
   "metadata": {},
   "source": [
    "### vary KSD parameter jointly with SVGD parameter"
   ]
  },
  {
   "cell_type": "code",
   "execution_count": 22,
   "metadata": {},
   "outputs": [
    {
     "name": "stderr",
     "output_type": "stream",
     "text": [
      "70it [00:08,  7.82it/s] \n",
      "70it [00:08,  7.82it/s] \n",
      "70it [00:08,  7.82it/s] \n",
      "70it [00:09,  7.34it/s] \n",
      "70it [00:09,  7.59it/s]\n",
      "70it [00:09,  7.76it/s] \n",
      "70it [00:09,  7.54it/s] \n",
      "70it [00:09,  7.52it/s] \n",
      "70it [00:08,  7.79it/s]\n",
      "70it [00:08,  7.81it/s] \n"
     ]
    },
    {
     "data": {
      "image/png": "[encoded data removed]",
      "text/plain": [
       "<Figure size 576x288 with 1 Axes>"
      ]
     },
     "metadata": {
      "needs_background": "light"
     },
     "output_type": "display_data"
    }
   ],
   "source": [
    "rkey = random.PRNGKey(0)\n",
    "# bandwidth_grid = np.logspace(-0.5, 10, num=grid_len)\n",
    "bandwidth_grid = np.linspace(1, 80, num=grid_len)\n",
    "slogj1 = sweep(rkey, bandwidth_grid, sample_each_time=False, average_over=m, joint_param=True)\n",
    "\n",
    "makeplots(slogj1.transpose(), bandwidth_grid, xscale=\"linear\", style=\"\")"
   ]
  },
  {
   "cell_type": "markdown",
   "metadata": {},
   "source": [
    "## Smaller range"
   ]
  },
  {
   "cell_type": "code",
   "execution_count": 9,
   "metadata": {},
   "outputs": [],
   "source": [
    "rkey = random.PRNGKey(1)\n",
    "bandwidth_grid = np.linspace(1, 7, num=grid_len) # NaNs when h < 0.25"
   ]
  },
  {
   "cell_type": "code",
   "execution_count": 10,
   "metadata": {},
   "outputs": [
    {
     "name": "stderr",
     "output_type": "stream",
     "text": [
      "70it [00:08,  8.73it/s] \n",
      "70it [00:07,  9.21it/s] \n",
      "70it [00:07,  9.56it/s] \n",
      "70it [00:07,  9.42it/s] \n",
      "70it [00:07,  9.17it/s] \n",
      "70it [00:07,  9.24it/s] \n",
      "70it [00:07,  9.11it/s] \n",
      "70it [00:07,  8.98it/s] \n",
      "70it [00:07,  9.09it/s] \n",
      "70it [00:07,  9.43it/s] \n"
     ]
    }
   ],
   "source": [
    "sl = sweep(rkey, bandwidth_grid, sample_each_time=False, average_over=m)"
   ]
  },
  {
   "cell_type": "code",
   "execution_count": 11,
   "metadata": {},
   "outputs": [
    {
     "data": {
      "image/png": "[encoded data removed]",
      "text/plain": [
       "<Figure size 576x288 with 1 Axes>"
      ]
     },
     "metadata": {
      "needs_background": "light"
     },
     "output_type": "display_data"
    }
   ],
   "source": [
    "makeplots(sl.transpose(), bandwidth_grid, style=\"\")"
   ]
  },
  {
   "cell_type": "markdown",
   "metadata": {},
   "source": [
    "### Vary KSD parameter jointly with SVGD parameter"
   ]
  },
  {
   "cell_type": "code",
   "execution_count": 12,
   "metadata": {},
   "outputs": [],
   "source": [
    "grid_len = 70\n",
    "rkey = random.PRNGKey(0)\n",
    "bandwidth_grid = np.linspace(1, 7, num=grid_len) # NaNs when h < 0.25"
   ]
  },
  {
   "cell_type": "code",
   "execution_count": 13,
   "metadata": {},
   "outputs": [],
   "source": [
    "sjoint = sweep(rkey, bandwidth_grid, joint_param=True, average_over=m)"
   ]
  },
  {
   "cell_type": "code",
   "execution_count": 23,
   "metadata": {},
   "outputs": [
    {
     "data": {
      "image/png": "[encoded data removed]",
      "text/plain": [
       "<Figure size 576x288 with 1 Axes>"
      ]
     },
     "metadata": {
      "needs_background": "light"
     },
     "output_type": "display_data"
    }
   ],
   "source": [
    "makeplots(sjoint.transpose(), bandwidth_grid, style=\"\", mark_ada=False)"
   ]
  },
  {
   "cell_type": "markdown",
   "metadata": {},
   "source": [
    "# Same again, with mixture as target"
   ]
  },
  {
   "cell_type": "code",
   "execution_count": 14,
   "metadata": {},
   "outputs": [],
   "source": [
    "n=100\n",
    "d=1\n",
    "stepsize = 0.01\n",
    "svgd_stepsize = stepsize\n",
    "n_iter_max = 500 # 100 slightly to little, this should be all right\n",
    "\n",
    "\n",
    "from utils import log_gaussian_mixture\n",
    "logp_mix = lambda x: log_gaussian_mixture(x, means=[-2, 2], variances=[1, 1], weights=[1/3, 2/3])\n",
    "\n",
    "from svgd import get_bandwidth\n",
    "\n",
    "svgd_fix = SVGD(logp=logp_mix, n_iter_max=n_iter_max, adaptive_kernel=False, get_bandwidth=None, particle_shape=(n, d))\n",
    "svgd_ada = SVGD(logp=logp_mix, n_iter_max=n_iter_max, adaptive_kernel=True,  get_bandwidth=get_bandwidth, particle_shape=(n, d))"
   ]
  },
  {
   "cell_type": "code",
   "execution_count": 15,
   "metadata": {},
   "outputs": [],
   "source": [
    "grid_len = 70\n",
    "m = 10"
   ]
  },
  {
   "cell_type": "code",
   "execution_count": 16,
   "metadata": {},
   "outputs": [
    {
     "name": "stderr",
     "output_type": "stream",
     "text": [
      "  0%|          | 0/10 [00:00<?, ?it/s]"
     ]
    },
    {
     "name": "stdout",
     "output_type": "stream",
     "text": [
      "JIT COMPILING svgd...\n",
      "...done compiling svgd after 0.4877002239227295 seconds.\n"
     ]
    },
    {
     "name": "stderr",
     "output_type": "stream",
     "text": [
      "100%|██████████| 10/10 [00:17<00:00,  1.70s/it]\n"
     ]
    },
    {
     "name": "stdout",
     "output_type": "stream",
     "text": [
      "variance 0.72918487\n"
     ]
    }
   ],
   "source": [
    "ksd_ada = get_ada_loss(m)"
   ]
  },
  {
   "cell_type": "markdown",
   "metadata": {},
   "source": [
    "### overview"
   ]
  },
  {
   "cell_type": "code",
   "execution_count": 17,
   "metadata": {},
   "outputs": [
    {
     "name": "stderr",
     "output_type": "stream",
     "text": [
      "0it [00:00, ?it/s]"
     ]
    },
    {
     "name": "stdout",
     "output_type": "stream",
     "text": [
      "JIT COMPILING svgd...\n",
      "...done compiling svgd after 0.24266910552978516 seconds.\n"
     ]
    },
    {
     "name": "stderr",
     "output_type": "stream",
     "text": [
      "70it [00:15,  4.55it/s]\n",
      "70it [00:10,  6.92it/s]\n",
      "70it [00:09,  7.09it/s]\n",
      "70it [00:09,  7.48it/s]\n",
      "70it [00:09,  7.74it/s]\n",
      "70it [00:09,  7.70it/s]\n",
      "70it [00:09,  7.70it/s] \n",
      "70it [00:09,  7.59it/s]\n",
      "70it [00:09,  7.76it/s]\n",
      "70it [00:09,  7.68it/s]\n"
     ]
    },
    {
     "data": {
      "image/png": "[encoded data removed]",
      "text/plain": [
       "<Figure size 576x288 with 1 Axes>"
      ]
     },
     "metadata": {
      "needs_background": "light"
     },
     "output_type": "display_data"
    }
   ],
   "source": [
    "rkey = random.PRNGKey(0)\n",
    "bandwidth_grid = np.linspace(0.3, 80, num=grid_len)\n",
    "sov = sweep(rkey, bandwidth_grid, sample_each_time=False, average_over=m)\n",
    "\n",
    "makeplots(sov.transpose(), bandwidth_grid, xscale=\"linear\", style=\"\", mark_ada=False)"
   ]
  },
  {
   "cell_type": "markdown",
   "metadata": {},
   "source": [
    "### smaller"
   ]
  },
  {
   "cell_type": "code",
   "execution_count": 18,
   "metadata": {},
   "outputs": [
    {
     "name": "stderr",
     "output_type": "stream",
     "text": [
      "70it [00:09,  7.73it/s] \n",
      "70it [00:09,  7.77it/s]\n",
      "70it [00:09,  7.53it/s] \n",
      "70it [00:09,  7.53it/s]\n",
      "70it [00:09,  7.33it/s]\n",
      "70it [00:10,  6.93it/s]\n",
      "70it [00:09,  7.12it/s]\n",
      "70it [00:09,  7.58it/s]\n",
      "70it [00:09,  7.74it/s]\n",
      "70it [00:08,  7.79it/s]\n"
     ]
    },
    {
     "data": {
      "image/png": "[encoded data removed]",
      "text/plain": [
       "<Figure size 576x288 with 1 Axes>"
      ]
     },
     "metadata": {
      "needs_background": "light"
     },
     "output_type": "display_data"
    }
   ],
   "source": [
    "bandwidth_grid = np.linspace(0.3, 7, num=grid_len) # NaNs when h < 0.25\n",
    "ssmall1 = sweep(rkey, bandwidth_grid, sample_each_time=False, average_over=m)\n",
    "makeplots(ssmall1.transpose(), bandwidth_grid, xscale=\"linear\", style=\"\", mark_ada=False)"
   ]
  },
  {
   "cell_type": "markdown",
   "metadata": {},
   "source": [
    "## vary jointly"
   ]
  },
  {
   "cell_type": "code",
   "execution_count": 19,
   "metadata": {},
   "outputs": [],
   "source": [
    "rkey = random.PRNGKey(1)"
   ]
  },
  {
   "cell_type": "markdown",
   "metadata": {},
   "source": [
    "### overview (jointly)"
   ]
  },
  {
   "cell_type": "code",
   "execution_count": 20,
   "metadata": {},
   "outputs": [
    {
     "name": "stderr",
     "output_type": "stream",
     "text": [
      "70it [00:09,  7.01it/s]\n",
      "70it [00:09,  7.21it/s] \n",
      "70it [00:09,  7.38it/s]\n",
      "70it [00:09,  7.29it/s]\n",
      "70it [00:09,  7.62it/s]\n",
      "70it [00:09,  7.66it/s]\n",
      "70it [00:09,  7.59it/s]\n",
      "70it [00:09,  7.44it/s] \n",
      "70it [00:09,  7.47it/s]\n",
      "70it [00:09,  7.76it/s]\n"
     ]
    },
    {
     "data": {
      "image/png": "[encoded data removed]",
      "text/plain": [
       "<Figure size 576x288 with 1 Axes>"
      ]
     },
     "metadata": {
      "needs_background": "light"
     },
     "output_type": "display_data"
    }
   ],
   "source": [
    "bandwidth_grid = np.linspace(0.5, 80, num=grid_len) # NaNs when h < 0.25\n",
    "sovj = sweep(rkey, bandwidth_grid, sample_each_time=False, average_over=m, joint_param=True)\n",
    "makeplots(sovj.transpose(), bandwidth_grid, xscale=\"linear\", style=\"\", mark_ada=False)"
   ]
  },
  {
   "cell_type": "markdown",
   "metadata": {},
   "source": [
    "### smaller (jointly)"
   ]
  },
  {
   "cell_type": "code",
   "execution_count": 21,
   "metadata": {},
   "outputs": [
    {
     "name": "stderr",
     "output_type": "stream",
     "text": [
      "70it [00:09,  7.08it/s]\n",
      "70it [00:09,  7.19it/s]\n",
      "70it [00:09,  7.40it/s]\n",
      "70it [00:09,  7.64it/s] \n",
      "70it [00:09,  7.46it/s]\n",
      "70it [00:09,  7.65it/s]\n",
      "70it [00:09,  7.73it/s] \n",
      "70it [00:09,  7.47it/s] \n",
      "70it [00:09,  7.55it/s]\n",
      "70it [00:08,  7.78it/s] \n"
     ]
    },
    {
     "data": {
      "image/png": "[encoded data removed]",
      "text/plain": [
       "<Figure size 576x288 with 1 Axes>"
      ]
     },
     "metadata": {
      "needs_background": "light"
     },
     "output_type": "display_data"
    }
   ],
   "source": [
    "bandwidth_grid = np.linspace(0.5, 7, num=grid_len) # NaNs when h < 0.25\n",
    "ssmallj = sweep(rkey, bandwidth_grid, sample_each_time=False, average_over=m, joint_param=True)\n",
    "\n",
    "makeplots(ssmallj.transpose(), bandwidth_grid, xscale=\"linear\", style=\"\", mark_ada=False)"
   ]
  }
 ],
 "metadata": {
  "kernelspec": {
   "display_name": "msc-thesis",
   "language": "python",
   "name": "msc-thesis"
  },
  "language_info": {
   "codemirror_mode": {
    "name": "ipython",
    "version": 3
   },
   "file_extension": ".py",
   "mimetype": "text/x-python",
   "name": "python",
   "nbconvert_exporter": "python",
   "pygments_lexer": "ipython3",
   "version": "3.6.9"
  }
 },
 "nbformat": 4,
 "nbformat_minor": 4
}
