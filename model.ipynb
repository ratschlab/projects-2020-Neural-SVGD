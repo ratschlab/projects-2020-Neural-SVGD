{
 "cells": [
  {
   "cell_type": "code",
   "execution_count": 1,
   "metadata": {},
   "outputs": [],
   "source": [
    "import jax.numpy as np\n",
    "from jax import grad, jit, vmap\n",
    "from jax import random\n",
    "import matplotlib.pyplot as plt\n",
    "\n",
    "from utils import normsq, single_rbf, pairwise_distances"
   ]
  },
  {
   "cell_type": "markdown",
   "metadata": {},
   "source": [
    "# SVGD"
   ]
  },
  {
   "cell_type": "markdown",
   "metadata": {},
   "source": [
    "## Update\n",
    "Let's define the update rule."
   ]
  },
  {
   "cell_type": "code",
   "execution_count": 2,
   "metadata": {},
   "outputs": [],
   "source": [
    "def phi_j(x, y, logp, kernel):\n",
    "    \"\"\"\n",
    "    IN: \n",
    "    x and y are arrays of length d\n",
    "    kernel is a callable that computes the kernel k(x, y, kernel_params)\n",
    "    logp is the log of a differentiable pdf p\n",
    "    \n",
    "    OUT: \n",
    "    \\nabla_x log(p(x)) * k(x, y) + \\nabla_x k(x, y)\n",
    "    \n",
    "    that is, phi(x_i) = \\sum_j phi_j(x_j, x_i)\n",
    "    \"\"\"\n",
    "    assert x.ndim == 1 and y.ndim == 1\n",
    "    return grad(logp)(x) * kernel(x, y) + grad(kernel)(x, y)\n",
    "\n",
    "phi_j_batched = vmap(phi_j, (0, 0, None, None), 0)\n",
    "\n",
    "def update(x, logp, stepsize, kernel_params):\n",
    "    \"\"\"\n",
    "    IN:\n",
    "    x is an np array of shape n x d\n",
    "    logp is the log of a differentiable pdf p\n",
    "    stepsize is a float\n",
    "    kernel_params are a set of parameters for the kernel\n",
    "    \n",
    "    OUT:\n",
    "    xnew = x + stepsize * \\phi^*(x)\n",
    "    that is, xnew is an array of shape n x d. The entries of x are the updated particles.\n",
    "    \n",
    "    note that this is an inefficient way to do things, since we're computing k(x, y) twice for each x, y combination.\n",
    "    \"\"\"\n",
    "    assert x.ndim == 2\n",
    "    kernel = lambda x, y: single_rbf(x, y, kernel_params)\n",
    "#     kerneltest = lambda x, y: np.exp(- normsq(x - y) / (2 * kernel_params ** 2))\n",
    "#     assert kerneltest(x[0], x[1]) == kernel(x[0], x[1])\n",
    "    \n",
    "    xnew = []\n",
    "    n = x.shape[0]\n",
    "    for i, xi in enumerate(x):\n",
    "        repeated = np.tile(xi, (n, 1))\n",
    "        xnew.append(stepsize * np.sum(phi_j_batched(x, repeated, logp, kernel), axis = 0))\n",
    "    xnew = np.array(xnew)\n",
    "    xnew += x\n",
    "\n",
    "    return xnew\n",
    "\n",
    "update = jit(update, static_argnums=(1,)) # logp is static"
   ]
  },
  {
   "cell_type": "markdown",
   "metadata": {},
   "source": [
    "To accelerate the function `update` with `jit` we had to use the `static_argnums` argument. This is because `jit` only knows how to deal with functions that are 1) pure, that is no side effects, and 2) take only np arrays as inputs and outputs.\n",
    "\n",
    "In effect, the `static_argnums` argument tells `jit` to ignore the callable input `logp`. Everytime it changes, `jit` recompiles."
   ]
  },
  {
   "cell_type": "markdown",
   "metadata": {},
   "source": [
    "## SVGD"
   ]
  },
  {
   "cell_type": "code",
   "execution_count": 3,
   "metadata": {},
   "outputs": [],
   "source": [
    "def svgd(x, logp, stepsize, kernel_params, L, update_kernel_params=False, kernel_param_update_rule=None):\n",
    "    \"\"\"\n",
    "    x is an np array of shape n x d\n",
    "    logp is the log of a differentiable pdf p (callable)\n",
    "    stepsize is a float\n",
    "    kernel is a differentiable function k(x, y, h) that computes the rbf kernel (callable)\n",
    "    L is an integer (number of iterations)\n",
    "    \n",
    "    if update_kernel_params is True, then kernel_param_update_rule must be given.\n",
    "    kernel_param_update_rule is a callable that takes xnew as input and outputs an updated set of kernel parameters.\n",
    "    \n",
    "    OUT:\n",
    "    Updated particles x (np array of shape n x d) after L steps of SVGD\n",
    "    \"\"\"\n",
    "    assert x.ndim == 2\n",
    "    log = {\n",
    "        \"kernel_params\": [kernel_params],\n",
    "        \"particle_mean\": [np.mean(x)],\n",
    "        \"particle_var\": [np.var(x)]\n",
    "    }\n",
    "\n",
    "    for i in range(L):\n",
    "        x = update(x, logp, stepsize, kernel_params)\n",
    "        log[\"particle_mean\"].append(np.mean(x))\n",
    "        log[\"particle_var\"].append(np.var(x))\n",
    "        \n",
    "        if np.any(np.isnan(x)):\n",
    "            raise ValueError(f\"NaN produced at iteration {i}\")\n",
    "        if update_kernel_params:\n",
    "            kernel_params = kernel_param_update_rule(x)\n",
    "            log[\"kernel_params\"].append(kernel_params)\n",
    "        \n",
    "    return x, log"
   ]
  },
  {
   "cell_type": "markdown",
   "metadata": {},
   "source": [
    "# Sample\n",
    "## Experiment 1: one-dim Gaussian mixture"
   ]
  },
  {
   "cell_type": "markdown",
   "metadata": {},
   "source": [
    "### Experiment 1.1\n",
    "Target distribution:\n",
    "$$ p(x) = \\mathcal N(x; 0, 1) $$\n",
    "Initialization:\n",
    "$$ q_0(x) = \\mathcal N(x; -10, 1) $$\n",
    "Kernel bandwidth:\n",
    "$$ h = \\text{med}^2 / \\log n, $$\n",
    "where med is the median of the $ n \\choose 2$ pairwise distances between the points $x_1, \\dots, x_n$. Important to note: the bandwidth here changes adaptively across iterations."
   ]
  },
  {
   "cell_type": "code",
   "execution_count": 4,
   "metadata": {},
   "outputs": [],
   "source": [
    "from jax.scipy.stats import norm\n",
    "\n",
    "@jit\n",
    "def kernel_param_update_rule(x):\n",
    "    assert x.ndim == 2\n",
    "    n = x.shape[0]\n",
    "    \n",
    "    h = np.median(pairwise_distances(x))**2 / np.log(n)\n",
    "    return h\n",
    "\n",
    "@jit\n",
    "def logp(x):\n",
    "    \"\"\"\n",
    "    IN: single scalar np array x. alternatively, [x] works too\n",
    "    OUT: scalar logp(x)\n",
    "    \"\"\"\n",
    "    out = norm.logpdf(x, loc=0, scale=1)\n",
    "    return np.squeeze(out) # to be able to take a gradient, output must be scalar"
   ]
  },
  {
   "cell_type": "code",
   "execution_count": 5,
   "metadata": {},
   "outputs": [
    {
     "name": "stderr",
     "output_type": "stream",
     "text": [
      "/home/lauro/.virtualenvs/msc-thesis/lib/python3.6/site-packages/jax/lib/xla_bridge.py:122: UserWarning: No GPU/TPU found, falling back to CPU.\n",
      "  warnings.warn('No GPU/TPU found, falling back to CPU.')\n"
     ]
    },
    {
     "name": "stdout",
     "output_type": "stream",
     "text": [
      "(20, 1)\n"
     ]
    }
   ],
   "source": [
    "# # works with:\n",
    "# n = 20\n",
    "# d = 1\n",
    "# stepsize = 0.1\n",
    "# L = 10\n",
    "\n",
    "# experiment:\n",
    "n = 20\n",
    "d = 1\n",
    "stepsize = 0.001\n",
    "L = int(1 / stepsize)\n",
    "\n",
    "# generate data\n",
    "key = random.PRNGKey(0)\n",
    "x0 = random.normal(key, (n,d))\n",
    "x0 = x0 - 10 # sampled from q_0\n",
    "x = x0\n",
    "h = kernel_param_update_rule(x)\n",
    "\n",
    "xout, log = svgd(x, logp, stepsize, h, L, update_kernel_params=True, kernel_param_update_rule=kernel_param_update_rule)\n",
    "print(xout.shape)"
   ]
  },
  {
   "cell_type": "markdown",
   "metadata": {},
   "source": [
    "## Diagnostics"
   ]
  },
  {
   "cell_type": "code",
   "execution_count": 6,
   "metadata": {},
   "outputs": [
    {
     "data": {
      "image/png": "[encoded data removed]",
      "text/plain": [
       "<Figure size 432x288 with 3 Axes>"
      ]
     },
     "metadata": {
      "needs_background": "light"
     },
     "output_type": "display_data"
    },
    {
     "data": {
      "image/png": "[encoded data removed]",
      "text/plain": [
       "<Figure size 432x288 with 1 Axes>"
      ]
     },
     "metadata": {
      "needs_background": "light"
     },
     "output_type": "display_data"
    }
   ],
   "source": [
    "plt.figure(1)\n",
    "plt.subplots_adjust(hspace=0.8)\n",
    "\n",
    "\n",
    "plt.subplot(311) # 2 plots on 0th axis, 1 plot on 1th axis, plot nr 1 --> 211\n",
    "plt.title(\"Particle mean\")\n",
    "plt.plot(log[\"particle_mean\"])\n",
    "\n",
    "\n",
    "plt.subplot(312)\n",
    "plt.title(\"Particle variance\")\n",
    "plt.plot(log[\"particle_var\"])\n",
    "\n",
    "plt.subplot(313)\n",
    "plt.title(\"Kernel parameter\")\n",
    "plt.plot(log[\"kernel_params\"])\n",
    "\n",
    "\n",
    "plt.figure(2)\n",
    "_ = plt.hist(x0[:, 0])\n",
    "_ = plt.hist(xout[:, 0])"
   ]
  },
  {
   "cell_type": "code",
   "execution_count": 7,
   "metadata": {},
   "outputs": [
    {
     "data": {
      "text/plain": [
       "DeviceArray(0.41672626, dtype=float32)"
      ]
     },
     "execution_count": 7,
     "metadata": {},
     "output_type": "execute_result"
    }
   ],
   "source": [
    "min(log[\"kernel_params\"])"
   ]
  },
  {
   "cell_type": "code",
   "execution_count": 7,
   "metadata": {},
   "outputs": [],
   "source": [
    "# print(\"x0 shape: \", x0.shape)\n",
    "# print(\"x shape: \", xout.shape)\n",
    "# print()\n",
    "\n",
    "# print(\"x0 mean: \", np.mean(x0))\n",
    "# print(\"x mean: \", np.mean(xout))\n",
    "# print()\n",
    "\n",
    "# print(\"x0 var: \", np.var(x0))\n",
    "# print(\"x var: \", np.var(xout))\n",
    "# print()"
   ]
  },
  {
   "cell_type": "markdown",
   "metadata": {},
   "source": [
    "Now let's see what speedup `jit` gets us."
   ]
  },
  {
   "cell_type": "code",
   "execution_count": 8,
   "metadata": {},
   "outputs": [
    {
     "name": "stdout",
     "output_type": "stream",
     "text": [
      "1.62 s ± 148 ms per loop (mean ± std. dev. of 7 runs, 1 loop each)\n"
     ]
    }
   ],
   "source": [
    "%timeit svgd(x, logp, stepsize, h, L, update_kernel_params=True, kernel_param_update_rule=kernel_param_update_rule)"
   ]
  },
  {
   "cell_type": "markdown",
   "metadata": {},
   "source": [
    "* With jitted `update`: 12.2 ms per loop\n",
    "* Without jitted `update`: 1.08 s per loop\n",
    "\n",
    "So that's a speedup of around 100x. Sweet!"
   ]
  },
  {
   "cell_type": "markdown",
   "metadata": {},
   "source": [
    "### Experiment 1.2\n",
    "Target distribution:\n",
    "$$ p(x) = 1/3 \\mathcal N(-2, 1) + 2/3 \\mathcal N(2, 1) $$\n",
    "Initialization:\n",
    "$$ q_0(x) = \\mathcal N(-10, 1) $$\n",
    "Kernel bandwidth:\n",
    "$$ h = \\text{med}^2 / \\log n, $$\n",
    "where med is the median of the $ n \\choose 2$ pairwise distances between the points $x_1, \\dots, x_n$. Important to note: the bandwidth here changes adaptively across iterations."
   ]
  },
  {
   "cell_type": "code",
   "execution_count": 39,
   "metadata": {},
   "outputs": [
    {
     "data": {
      "image/png": "[encoded data removed]",
      "text/plain": [
       "<Figure size 432x288 with 1 Axes>"
      ]
     },
     "metadata": {
      "needs_background": "light"
     },
     "output_type": "display_data"
    }
   ],
   "source": [
    "from jax.scipy.stats import norm\n",
    "\n",
    "@jit\n",
    "def kernel_param_update_rule(x):\n",
    "    assert x.ndim == 2\n",
    "    n = x.shape[0]\n",
    "    \n",
    "    h = np.median(pairwise_distances(x))**2 / np.log(n)\n",
    "    return h\n",
    "\n",
    "def p(x):\n",
    "    \"\"\"\n",
    "    IN: single scalar np array x. alternatively, [x] works too\n",
    "    OUT: scalar logp(x)\n",
    "    \"\"\"\n",
    "    out = 1/3 * norm.pdf(x, loc=-2, scale=1) + 2/3 * norm.pdf(x, loc=2, scale=1)\n",
    "    return np.squeeze(out) # to be able to take a gradient, output must be scalar\n",
    "\n",
    "grid = np.arange(-5, 5, 0.1)\n",
    "_ = plt.plot(grid, p(grid))\n",
    "\n",
    "def logp(x):\n",
    "    return np.log(p(x))"
   ]
  },
  {
   "cell_type": "code",
   "execution_count": 40,
   "metadata": {},
   "outputs": [],
   "source": [
    "# experiment:\n",
    "n = 100\n",
    "d = 1\n",
    "stepsize = 0.001\n",
    "L = int(1 / stepsize)\n",
    "\n",
    "# generate data\n",
    "key = random.PRNGKey(10)\n",
    "x0 = random.normal(key, (n,d))\n",
    "x0 = x0 - 10 # sampled from q_0\n",
    "x = x0\n",
    "h = kernel_param_update_rule(x)\n",
    "\n",
    "xout, log = svgd(x, logp, stepsize, h, L, update_kernel_params=True, kernel_param_update_rule=kernel_param_update_rule)"
   ]
  },
  {
   "cell_type": "markdown",
   "metadata": {},
   "source": [
    "## Diagnostics"
   ]
  },
  {
   "cell_type": "code",
   "execution_count": 41,
   "metadata": {},
   "outputs": [
    {
     "data": {
      "image/png": "[encoded data removed]",
      "text/plain": [
       "<Figure size 432x288 with 3 Axes>"
      ]
     },
     "metadata": {
      "needs_background": "light"
     },
     "output_type": "display_data"
    },
    {
     "data": {
      "image/png": "[encoded data removed]",
      "text/plain": [
       "<Figure size 432x288 with 1 Axes>"
      ]
     },
     "metadata": {
      "needs_background": "light"
     },
     "output_type": "display_data"
    }
   ],
   "source": [
    "plt.figure(1)\n",
    "plt.subplots_adjust(hspace=0.8)\n",
    "\n",
    "\n",
    "plt.subplot(311) # 2 plots on 0th axis, 1 plot on 1th axis, plot nr 1 --> 211\n",
    "plt.title(\"Particle mean\")\n",
    "plt.plot(log[\"particle_mean\"])\n",
    "\n",
    "\n",
    "plt.subplot(312)\n",
    "plt.title(\"Particle variance\")\n",
    "plt.plot(log[\"particle_var\"])\n",
    "\n",
    "plt.subplot(313)\n",
    "plt.title(\"Kernel parameter\")\n",
    "plt.plot(log[\"kernel_params\"])\n",
    "\n",
    "plt.figure(2)\n",
    "_ = plt.hist(x0[:, 0])\n",
    "_ = plt.hist(xout[:, 0])"
   ]
  },
  {
   "cell_type": "code",
   "execution_count": 42,
   "metadata": {},
   "outputs": [
    {
     "data": {
      "text/plain": [
       "DeviceArray(0.21698934, dtype=float32)"
      ]
     },
     "execution_count": 42,
     "metadata": {},
     "output_type": "execute_result"
    }
   ],
   "source": [
    "log[\"particle_mean\"][-1]"
   ]
  },
  {
   "cell_type": "code",
   "execution_count": 43,
   "metadata": {},
   "outputs": [
    {
     "name": "stdout",
     "output_type": "stream",
     "text": [
      "0.20220971\n",
      "0.0024551137\n"
     ]
    }
   ],
   "source": [
    "## test functions\n",
    "mse1 = (np.mean(xout) - 2/3)**2\n",
    "mse2 = (np.mean(xout**2) - 5)**2\n",
    "print(mse1)\n",
    "print(mse2)"
   ]
  },
  {
   "cell_type": "markdown",
   "metadata": {},
   "source": [
    "# Experiment 2: Bayesian logistic regression"
   ]
  },
  {
   "cell_type": "code",
   "execution_count": null,
   "metadata": {},
   "outputs": [],
   "source": []
  }
 ],
 "metadata": {
  "kernelspec": {
   "display_name": "msc-thesis",
   "language": "python",
   "name": "msc-thesis"
  },
  "language_info": {
   "codemirror_mode": {
    "name": "ipython",
    "version": 3
   },
   "file_extension": ".py",
   "mimetype": "text/x-python",
   "name": "python",
   "nbconvert_exporter": "python",
   "pygments_lexer": "ipython3",
   "version": "3.6.9"
  }
 },
 "nbformat": 4,
 "nbformat_minor": 2
}
