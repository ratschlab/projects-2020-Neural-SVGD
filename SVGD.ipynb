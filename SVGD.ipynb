{
 "cells": [
  {
   "cell_type": "code",
   "execution_count": 1,
   "metadata": {},
   "outputs": [],
   "source": [
    "import jax.numpy as np\n",
    "from jax import grad, jit, vmap\n",
    "from jax import random\n",
    "import matplotlib.pyplot as plt\n",
    "\n",
    "from utils import normsq, single_rbf, pairwise_distances"
   ]
  },
  {
   "cell_type": "markdown",
   "metadata": {},
   "source": [
    "# SVGD"
   ]
  },
  {
   "cell_type": "markdown",
   "metadata": {},
   "source": [
    "## Update\n",
    "Let's define the update rule."
   ]
  },
  {
   "cell_type": "code",
   "execution_count": 2,
   "metadata": {},
   "outputs": [],
   "source": [
    "def phi_j(x, y, logp, kernel):\n",
    "    \"\"\"\n",
    "    IN: \n",
    "    x and y are arrays of length d\n",
    "    kernel is a callable that computes the kernel k(x, y, kernel_params)\n",
    "    logp is the log of a differentiable pdf p\n",
    "    \n",
    "    OUT: \n",
    "    \\nabla_x log(p(x)) * k(x, y) + \\nabla_x k(x, y)\n",
    "    \n",
    "    that is, phi(x_i) = \\sum_j phi_j(x_j, x_i)\n",
    "    \"\"\"\n",
    "    assert x.ndim == 1 and y.ndim == 1\n",
    "    return grad(logp)(x) * kernel(x, y) + grad(kernel)(x, y)\n",
    "\n",
    "phi_j_batched = vmap(phi_j, (0, 0, None, None), 0)\n",
    "\n",
    "def update(x, logp, stepsize, kernel_params):\n",
    "    \"\"\"\n",
    "    IN:\n",
    "    x is an np array of shape n x d\n",
    "    logp is the log of a differentiable pdf p\n",
    "    stepsize is a float\n",
    "    kernel_params are a set of parameters for the kernel\n",
    "    \n",
    "    OUT:\n",
    "    xnew = x + stepsize * \\phi^*(x)\n",
    "    that is, xnew is an array of shape n x d. The entries of x are the updated particles.\n",
    "    \n",
    "    note that this is an inefficient way to do things, since we're computing k(x, y) twice for each x, y combination.\n",
    "    \"\"\"\n",
    "    assert x.ndim == 2\n",
    "    kernel = lambda x, y: single_rbf(x, y, kernel_params)\n",
    "    kerneltest = lambda x, y: np.exp(- normsq(x - y) / (2 * kernel_params ** 2))\n",
    "#     assert kerneltest(x[0], x[1]) == kernel(x[0], x[1])\n",
    "    \n",
    "    xnew = []\n",
    "    n = x.shape[0]\n",
    "    for i, xi in enumerate(x):\n",
    "        repeated = np.tile(xi, (n, 1))\n",
    "        xnew.append(stepsize * np.sum(phi_j_batched(x, repeated, logp, kernel), axis = 0))\n",
    "    xnew = np.array(xnew)\n",
    "    xnew += x\n",
    "\n",
    "    return xnew\n",
    "\n",
    "# update = jit(update, static_argnums=(1,)) # logp is static"
   ]
  },
  {
   "cell_type": "markdown",
   "metadata": {},
   "source": [
    "To accelerate the function `update` with `jit` we had to use the `static_argnums` argument. This is because `jit` only knows how to deal with functions that are 1) pure, that is no side effects, and 2) take only np arrays as inputs and outputs.\n",
    "\n",
    "In effect, the `static_argnums` argument tells `jit` to ignore the callable input `logp`. Everytime it changes, `jit` recompiles."
   ]
  },
  {
   "cell_type": "markdown",
   "metadata": {},
   "source": [
    "## SVGD"
   ]
  },
  {
   "cell_type": "code",
   "execution_count": 4,
   "metadata": {},
   "outputs": [],
   "source": [
    "def svgd(x, logp, stepsize, kernel_params, L, update_kernel_params=False, kernel_param_update_rule=None):\n",
    "    \"\"\"\n",
    "    x is an np array of shape n x d\n",
    "    logp is the log of a differentiable pdf p (callable)\n",
    "    stepsize is a float\n",
    "    kernel is a differentiable function k(x, y, h) that computes the rbf kernel (callable)\n",
    "    L is an integer (number of iterations)\n",
    "    \n",
    "    if update_kernel_params is True, then kernel_param_update_rule must be given.\n",
    "    kernel_param_update_rule is a callable that takes xnew as input and outputs an updated set of kernel parameters.\n",
    "    \n",
    "    OUT:\n",
    "    Updated particles x (np array of shape n x d) after L steps of SVGD\n",
    "    \"\"\"\n",
    "    assert x.ndim == 2\n",
    "\n",
    "    for i in range(L):\n",
    "        x = update(x, logp, stepsize, kernel_params)\n",
    "        \n",
    "        if np.any(np.isnan(x)):\n",
    "            raise ValueError(f\"NaN produced at iteration {i}\")\n",
    "        if update_kernel_params:\n",
    "            kernel_params = kernel_param_update_rule(x)\n",
    "#             print(f\"iteration {i}, h: \", kernel_params)\n",
    "#             print(f\"iteration {i}, mean(x) = \", np.mean(x))\n",
    "        \n",
    "    return x"
   ]
  },
  {
   "cell_type": "markdown",
   "metadata": {},
   "source": [
    "# Sample\n",
    "## Experiment 1: one-dim Gaussian mixture"
   ]
  },
  {
   "cell_type": "code",
   "execution_count": 5,
   "metadata": {},
   "outputs": [],
   "source": [
    "from jax.scipy.stats import multivariate_normal"
   ]
  },
  {
   "cell_type": "markdown",
   "metadata": {},
   "source": [
    "### Experiment 2.1\n",
    "Target distribution:\n",
    "$$ p(x) = \\mathcal N(x; 0, 1) $$\n",
    "Initialization:\n",
    "$$ q_0(x) = \\mathcal N(x; -10, 1) $$\n",
    "Kernel bandwidth:\n",
    "$$ h = \\text{med}^2 / \\log n, $$\n",
    "where med is the median of the $ n \\choose 2$ pairwise distances between the points $x_1, \\dots, x_n$. Important to note: the bandwidth here changes adaptively across iterations."
   ]
  },
  {
   "cell_type": "code",
   "execution_count": 6,
   "metadata": {},
   "outputs": [
    {
     "name": "stderr",
     "output_type": "stream",
     "text": [
      "/home/lauro/.virtualenvs/msc-thesis/lib/python3.6/site-packages/jax/lib/xla_bridge.py:122: UserWarning: No GPU/TPU found, falling back to CPU.\n",
      "  warnings.warn('No GPU/TPU found, falling back to CPU.')\n"
     ]
    },
    {
     "name": "stdout",
     "output_type": "stream",
     "text": [
      "(20, 1)\n"
     ]
    },
    {
     "data": {
      "text/plain": [
       "DeviceArray([[-0.6061736 ],\n",
       "             [ 0.7066619 ],\n",
       "             [ 0.8802205 ],\n",
       "             [ 0.96482325],\n",
       "             [-1.2316256 ],\n",
       "             [-2.6203465 ],\n",
       "             [ 0.08152342],\n",
       "             [ 0.3646504 ],\n",
       "             [-0.08090436],\n",
       "             [-1.7672033 ],\n",
       "             [-1.4228709 ],\n",
       "             [-1.9255228 ],\n",
       "             [ 0.3100549 ],\n",
       "             [ 1.4751709 ],\n",
       "             [ 2.1963716 ],\n",
       "             [-0.6373198 ],\n",
       "             [ 0.9147902 ],\n",
       "             [ 0.08719979],\n",
       "             [-1.6179125 ],\n",
       "             [ 0.6391704 ]], dtype=float32)"
      ]
     },
     "execution_count": 6,
     "metadata": {},
     "output_type": "execute_result"
    }
   ],
   "source": [
    "def kernel_param_update_rule(x):\n",
    "    assert x.ndim == 2\n",
    "    n = x.shape[0]\n",
    "    \n",
    "    h = np.median(pairwise_distances(x))**2 / np.log(n)\n",
    "    return h\n",
    "\n",
    "def p(x):\n",
    "    \"\"\"x is an np.array of shape (d,)\"\"\"\n",
    "    assert x.ndim == 1 # doesn't work otherwise\n",
    "    d = x.shape[0]\n",
    "    return multivariate_normal.pdf(x, mean=np.zeros(d), cov=np.identity(d))\n",
    "\n",
    "@jit\n",
    "def logp(x):\n",
    "    return np.log(p(x))\n",
    "\n",
    "# works with:\n",
    "n = 20\n",
    "d = 1\n",
    "stepsize = 0.1\n",
    "L = 10\n",
    "\n",
    "# generate data\n",
    "key = random.PRNGKey(0)\n",
    "x0 = random.normal(key, (n,d))\n",
    "x0 = x0 - 10 # sampled from q_0\n",
    "x = x0\n",
    "h = kernel_param_update_rule(x)\n",
    "# print(\"initial h: \", h)\n",
    "# print(\"initial mean: \", np.mean(x))\n",
    "\n",
    "xout = svgd(x, logp, stepsize, h, L, update_kernel_params=True, kernel_param_update_rule=kernel_param_update_rule)\n",
    "print(xout.shape)\n",
    "xout"
   ]
  },
  {
   "cell_type": "code",
   "execution_count": 7,
   "metadata": {},
   "outputs": [
    {
     "name": "stdout",
     "output_type": "stream",
     "text": [
      "x0 shape:  (20, 1)\n",
      "x shape:  (20, 1)\n",
      "x0 mean:  -9.765825\n",
      "x0 var:  1.3793868\n",
      "mean:  -0.16446212\n",
      "var:  1.5394566\n"
     ]
    },
    {
     "data": {
      "text/plain": [
       "(array([1., 2., 3., 0., 2., 3., 4., 3., 1., 1.]),\n",
       " array([-2.6203465, -2.1386747, -1.6570029, -1.1753311, -0.6936593,\n",
       "        -0.2119875,  0.2696843,  0.7513561,  1.2330279,  1.7146997,\n",
       "         2.1963716], dtype=float32),\n",
       " <a list of 10 Patch objects>)"
      ]
     },
     "execution_count": 7,
     "metadata": {},
     "output_type": "execute_result"
    },
    {
     "data": {
      "image/png": "[encoded data removed]",
      "text/plain": [
       "<Figure size 432x288 with 1 Axes>"
      ]
     },
     "metadata": {
      "needs_background": "light"
     },
     "output_type": "display_data"
    }
   ],
   "source": [
    "print(\"x0 shape: \", x0.shape)\n",
    "print(\"x shape: \", xout.shape)\n",
    "\n",
    "print(\"x0 mean: \", np.mean(x0))\n",
    "print(\"x0 var: \", np.var(x0))\n",
    "\n",
    "print(\"mean: \", np.mean(xout))\n",
    "print(\"var: \", np.var(xout))\n",
    "\n",
    "plt.hist(x0[:, 0])\n",
    "plt.hist(xout[:, 0])"
   ]
  },
  {
   "cell_type": "markdown",
   "metadata": {},
   "source": [
    "Now let's see what speedup `jit` gets us."
   ]
  },
  {
   "cell_type": "code",
   "execution_count": 8,
   "metadata": {},
   "outputs": [
    {
     "name": "stdout",
     "output_type": "stream",
     "text": [
      "1.08 s ± 26.4 ms per loop (mean ± std. dev. of 7 runs, 1 loop each)\n"
     ]
    }
   ],
   "source": [
    "%timeit svgd(x, logp, stepsize, h, L, update_kernel_params=True, kernel_param_update_rule=kernel_param_update_rule)"
   ]
  },
  {
   "cell_type": "markdown",
   "metadata": {},
   "source": [
    "* With jitted `update`: 12.2 ms per loop\n",
    "* Without jitted `update`: 1.08 s per loop\n",
    "\n",
    "So that's a speedup of around 100x. Sweet!"
   ]
  },
  {
   "cell_type": "markdown",
   "metadata": {},
   "source": [
    "### Experiment 1.2\n",
    "Target distribution:\n",
    "$$ p(x) = 1/3 \\mathcal N(-2, 1) + 2/3 \\mathcal N(2, 1) $$\n",
    "Initialization:\n",
    "$$ q_0(x) = \\mathcal N(-10, 1) $$\n",
    "Kernel bandwidth:\n",
    "$$ h = \\text{med}^2 / \\log n, $$\n",
    "where med is the median of the $ n \\choose 2$ pairwise distances between the points $x_1, \\dots, x_n$. Important to note: the bandwidth here changes adaptively across iterations."
   ]
  }
 ],
 "metadata": {
  "kernelspec": {
   "display_name": "msc-thesis",
   "language": "python",
   "name": "msc-thesis"
  },
  "language_info": {
   "codemirror_mode": {
    "name": "ipython",
    "version": 3
   },
   "file_extension": ".py",
   "mimetype": "text/x-python",
   "name": "python",
   "nbconvert_exporter": "python",
   "pygments_lexer": "ipython3",
   "version": "3.6.9"
  }
 },
 "nbformat": 4,
 "nbformat_minor": 2
}
